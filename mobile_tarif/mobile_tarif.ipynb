{
 "cells": [
  {
   "cell_type": "markdown",
   "metadata": {},
   "source": [
    "</div>"
   ]
  },
  {
   "cell_type": "markdown",
   "metadata": {
    "toc": true
   },
   "source": [
    "<h1>Содержание<span class=\"tocSkip\"></span></h1>\n",
    "<div class=\"toc\"><ul class=\"toc-item\"><li><span><a href=\"#Изучение-данных-из-файлов\" data-toc-modified-id=\"Изучение-данных-из-файлов-1\"><span class=\"toc-item-num\">1&nbsp;&nbsp;</span>Изучение данных из файлов</a></span><ul class=\"toc-item\"><li><span><a href=\"#Изучение-данных-из-файла-тарифы\" data-toc-modified-id=\"Изучение-данных-из-файла-тарифы-1.1\"><span class=\"toc-item-num\">1.1&nbsp;&nbsp;</span>Изучение данных из файла тарифы</a></span><ul class=\"toc-item\"><li><span><a href=\"#Вывод\" data-toc-modified-id=\"Вывод-1.1.1\"><span class=\"toc-item-num\">1.1.1&nbsp;&nbsp;</span>Вывод</a></span></li></ul></li><li><span><a href=\"#Изучение-данных-из-файла-пользователи\" data-toc-modified-id=\"Изучение-данных-из-файла-пользователи-1.2\"><span class=\"toc-item-num\">1.2&nbsp;&nbsp;</span>Изучение данных из файла пользователи</a></span><ul class=\"toc-item\"><li><span><a href=\"#Вывод\" data-toc-modified-id=\"Вывод-1.2.1\"><span class=\"toc-item-num\">1.2.1&nbsp;&nbsp;</span>Вывод</a></span></li></ul></li><li><span><a href=\"#Изучение-данных-из-файла-звонки\" data-toc-modified-id=\"Изучение-данных-из-файла-звонки-1.3\"><span class=\"toc-item-num\">1.3&nbsp;&nbsp;</span>Изучение данных из файла звонки</a></span><ul class=\"toc-item\"><li><span><a href=\"#Вывод\" data-toc-modified-id=\"Вывод-1.3.1\"><span class=\"toc-item-num\">1.3.1&nbsp;&nbsp;</span>Вывод</a></span></li></ul></li><li><span><a href=\"#Изучение-данных-из-файла-сообщения\" data-toc-modified-id=\"Изучение-данных-из-файла-сообщения-1.4\"><span class=\"toc-item-num\">1.4&nbsp;&nbsp;</span>Изучение данных из файла сообщения</a></span><ul class=\"toc-item\"><li><span><a href=\"#Вывод\" data-toc-modified-id=\"Вывод-1.4.1\"><span class=\"toc-item-num\">1.4.1&nbsp;&nbsp;</span>Вывод</a></span></li></ul></li><li><span><a href=\"#Изучение-данных-из-файла-об-интернет-сессиях\" data-toc-modified-id=\"Изучение-данных-из-файла-об-интернет-сессиях-1.5\"><span class=\"toc-item-num\">1.5&nbsp;&nbsp;</span>Изучение данных из файла об интернет-сессиях</a></span><ul class=\"toc-item\"><li><span><a href=\"#Вывод\" data-toc-modified-id=\"Вывод-1.5.1\"><span class=\"toc-item-num\">1.5.1&nbsp;&nbsp;</span>Вывод</a></span></li></ul></li><li><span><a href=\"#Вывод\" data-toc-modified-id=\"Вывод-1.6\"><span class=\"toc-item-num\">1.6&nbsp;&nbsp;</span>Вывод</a></span></li></ul></li><li><span><a href=\"#Предобработка-данных\" data-toc-modified-id=\"Предобработка-данных-2\"><span class=\"toc-item-num\">2&nbsp;&nbsp;</span>Предобработка данных</a></span><ul class=\"toc-item\"><li><span><a href=\"#Датасет-tariffs\" data-toc-modified-id=\"Датасет-tariffs-2.1\"><span class=\"toc-item-num\">2.1&nbsp;&nbsp;</span>Датасет tariffs</a></span><ul class=\"toc-item\"><li><span><a href=\"#Вывод.\" data-toc-modified-id=\"Вывод.-2.1.1\"><span class=\"toc-item-num\">2.1.1&nbsp;&nbsp;</span>Вывод.</a></span></li></ul></li><li><span><a href=\"#Датасет-users\" data-toc-modified-id=\"Датасет-users-2.2\"><span class=\"toc-item-num\">2.2&nbsp;&nbsp;</span>Датасет users</a></span><ul class=\"toc-item\"><li><span><a href=\"#Вывод.\" data-toc-modified-id=\"Вывод.-2.2.1\"><span class=\"toc-item-num\">2.2.1&nbsp;&nbsp;</span>Вывод.</a></span></li></ul></li><li><span><a href=\"#Датасет-calls\" data-toc-modified-id=\"Датасет-calls-2.3\"><span class=\"toc-item-num\">2.3&nbsp;&nbsp;</span>Датасет calls</a></span><ul class=\"toc-item\"><li><span><a href=\"#Вывод.\" data-toc-modified-id=\"Вывод.-2.3.1\"><span class=\"toc-item-num\">2.3.1&nbsp;&nbsp;</span>Вывод.</a></span></li></ul></li><li><span><a href=\"#Датасет-messages\" data-toc-modified-id=\"Датасет-messages-2.4\"><span class=\"toc-item-num\">2.4&nbsp;&nbsp;</span>Датасет messages</a></span><ul class=\"toc-item\"><li><span><a href=\"#Вывод.\" data-toc-modified-id=\"Вывод.-2.4.1\"><span class=\"toc-item-num\">2.4.1&nbsp;&nbsp;</span>Вывод.</a></span></li></ul></li><li><span><a href=\"#Датасет-internet\" data-toc-modified-id=\"Датасет-internet-2.5\"><span class=\"toc-item-num\">2.5&nbsp;&nbsp;</span>Датасет internet</a></span><ul class=\"toc-item\"><li><span><a href=\"#Вывод.\" data-toc-modified-id=\"Вывод.-2.5.1\"><span class=\"toc-item-num\">2.5.1&nbsp;&nbsp;</span>Вывод.</a></span></li></ul></li><li><span><a href=\"#Вывод.\" data-toc-modified-id=\"Вывод.-2.6\"><span class=\"toc-item-num\">2.6&nbsp;&nbsp;</span>Вывод.</a></span></li></ul></li><li><span><a href=\"#Расчёт-показателей-для-каждого-абонента\" data-toc-modified-id=\"Расчёт-показателей-для-каждого-абонента-3\"><span class=\"toc-item-num\">3&nbsp;&nbsp;</span>Расчёт показателей для каждого абонента</a></span><ul class=\"toc-item\"><li><span><a href=\"#Количество-сделанных-звонков-и-израсходованных-минут-разговора-по-месяцам\" data-toc-modified-id=\"Количество-сделанных-звонков-и-израсходованных-минут-разговора-по-месяцам-3.1\"><span class=\"toc-item-num\">3.1&nbsp;&nbsp;</span>Количество сделанных звонков и израсходованных минут разговора по месяцам</a></span><ul class=\"toc-item\"><li><span><a href=\"#Вывод\" data-toc-modified-id=\"Вывод-3.1.1\"><span class=\"toc-item-num\">3.1.1&nbsp;&nbsp;</span>Вывод</a></span></li></ul></li><li><span><a href=\"#Количество-отправленных-сообщений-по-месяцам\" data-toc-modified-id=\"Количество-отправленных-сообщений-по-месяцам-3.2\"><span class=\"toc-item-num\">3.2&nbsp;&nbsp;</span>Количество отправленных сообщений по месяцам</a></span><ul class=\"toc-item\"><li><span><a href=\"#Вывод\" data-toc-modified-id=\"Вывод-3.2.1\"><span class=\"toc-item-num\">3.2.1&nbsp;&nbsp;</span>Вывод</a></span></li></ul></li><li><span><a href=\"#Объем-израсходованного-интернет---трафика-по-месяцам\" data-toc-modified-id=\"Объем-израсходованного-интернет---трафика-по-месяцам-3.3\"><span class=\"toc-item-num\">3.3&nbsp;&nbsp;</span>Объем израсходованного интернет - трафика по месяцам</a></span><ul class=\"toc-item\"><li><span><a href=\"#Вывод\" data-toc-modified-id=\"Вывод-3.3.1\"><span class=\"toc-item-num\">3.3.1&nbsp;&nbsp;</span>Вывод</a></span></li></ul></li><li><span><a href=\"#Помесячная-выручка-с-каждого-пользователя\" data-toc-modified-id=\"Помесячная-выручка-с-каждого-пользователя-3.4\"><span class=\"toc-item-num\">3.4&nbsp;&nbsp;</span>Помесячная выручка с каждого пользователя</a></span><ul class=\"toc-item\"><li><span><a href=\"#Вывод\" data-toc-modified-id=\"Вывод-3.4.1\"><span class=\"toc-item-num\">3.4.1&nbsp;&nbsp;</span>Вывод</a></span></li></ul></li><li><span><a href=\"#Вывод\" data-toc-modified-id=\"Вывод-3.5\"><span class=\"toc-item-num\">3.5&nbsp;&nbsp;</span>Вывод</a></span></li></ul></li><li><span><a href=\"#Анализ-данных\" data-toc-modified-id=\"Анализ-данных-4\"><span class=\"toc-item-num\">4&nbsp;&nbsp;</span>Анализ данных</a></span><ul class=\"toc-item\"><li><span><a href=\"#Анализ-тарифа-ULTRA\" data-toc-modified-id=\"Анализ-тарифа-ULTRA-4.1\"><span class=\"toc-item-num\">4.1&nbsp;&nbsp;</span>Анализ тарифа ULTRA</a></span><ul class=\"toc-item\"><li><span><a href=\"#Анализ-ULTRA---минуты\" data-toc-modified-id=\"Анализ-ULTRA---минуты-4.1.1\"><span class=\"toc-item-num\">4.1.1&nbsp;&nbsp;</span>Анализ ULTRA - минуты</a></span></li><li><span><a href=\"#Вывод\" data-toc-modified-id=\"Вывод-4.1.2\"><span class=\"toc-item-num\">4.1.2&nbsp;&nbsp;</span>Вывод</a></span></li><li><span><a href=\"#Анализ-ULTRA---сообщения\" data-toc-modified-id=\"Анализ-ULTRA---сообщения-4.1.3\"><span class=\"toc-item-num\">4.1.3&nbsp;&nbsp;</span>Анализ ULTRA - сообщения</a></span></li><li><span><a href=\"#Вывод\" data-toc-modified-id=\"Вывод-4.1.4\"><span class=\"toc-item-num\">4.1.4&nbsp;&nbsp;</span>Вывод</a></span></li><li><span><a href=\"#Анализ-ULTRA---интернет\" data-toc-modified-id=\"Анализ-ULTRA---интернет-4.1.5\"><span class=\"toc-item-num\">4.1.5&nbsp;&nbsp;</span>Анализ ULTRA - интернет</a></span></li><li><span><a href=\"#Вывод\" data-toc-modified-id=\"Вывод-4.1.6\"><span class=\"toc-item-num\">4.1.6&nbsp;&nbsp;</span>Вывод</a></span></li></ul></li><li><span><a href=\"#Анализ-тарифа-SMART\" data-toc-modified-id=\"Анализ-тарифа-SMART-4.2\"><span class=\"toc-item-num\">4.2&nbsp;&nbsp;</span>Анализ тарифа SMART</a></span><ul class=\"toc-item\"><li><span><a href=\"#Анализ-SMART---минуты\" data-toc-modified-id=\"Анализ-SMART---минуты-4.2.1\"><span class=\"toc-item-num\">4.2.1&nbsp;&nbsp;</span>Анализ SMART - минуты</a></span></li><li><span><a href=\"#Вывод\" data-toc-modified-id=\"Вывод-4.2.2\"><span class=\"toc-item-num\">4.2.2&nbsp;&nbsp;</span>Вывод</a></span></li><li><span><a href=\"#Анализ-SMART---сообщения\" data-toc-modified-id=\"Анализ-SMART---сообщения-4.2.3\"><span class=\"toc-item-num\">4.2.3&nbsp;&nbsp;</span>Анализ SMART - сообщения</a></span></li><li><span><a href=\"#Вывод\" data-toc-modified-id=\"Вывод-4.2.4\"><span class=\"toc-item-num\">4.2.4&nbsp;&nbsp;</span>Вывод</a></span></li><li><span><a href=\"#Анализ-SMART---интернет\" data-toc-modified-id=\"Анализ-SMART---интернет-4.2.5\"><span class=\"toc-item-num\">4.2.5&nbsp;&nbsp;</span>Анализ SMART - интернет</a></span></li><li><span><a href=\"#Вывод\" data-toc-modified-id=\"Вывод-4.2.6\"><span class=\"toc-item-num\">4.2.6&nbsp;&nbsp;</span>Вывод</a></span></li></ul></li><li><span><a href=\"#Вывод\" data-toc-modified-id=\"Вывод-4.3\"><span class=\"toc-item-num\">4.3&nbsp;&nbsp;</span>Вывод</a></span></li></ul></li><li><span><a href=\"#Проверка-гипотез\" data-toc-modified-id=\"Проверка-гипотез-5\"><span class=\"toc-item-num\">5&nbsp;&nbsp;</span>Проверка гипотез</a></span><ul class=\"toc-item\"><li><span><a href=\"#Средняя-выручка-пользователей-тарифов-&quot;Ультра&quot;-и-&quot;Смарт&quot;-различаются\" data-toc-modified-id=\"Средняя-выручка-пользователей-тарифов-&quot;Ультра&quot;-и-&quot;Смарт&quot;-различаются-5.1\"><span class=\"toc-item-num\">5.1&nbsp;&nbsp;</span>Средняя выручка пользователей тарифов \"Ультра\" и \"Смарт\" различаются</a></span></li><li><span><a href=\"#Вывод\" data-toc-modified-id=\"Вывод-5.2\"><span class=\"toc-item-num\">5.2&nbsp;&nbsp;</span>Вывод</a></span></li><li><span><a href=\"#Средняя-выручка-пользователей-из-Москвы-отличается-от-выручки-пользователей-из-других-регионов.\" data-toc-modified-id=\"Средняя-выручка-пользователей-из-Москвы-отличается-от-выручки-пользователей-из-других-регионов.-5.3\"><span class=\"toc-item-num\">5.3&nbsp;&nbsp;</span>Средняя выручка пользователей из Москвы отличается от выручки пользователей из других регионов.</a></span></li><li><span><a href=\"#Вывод\" data-toc-modified-id=\"Вывод-5.4\"><span class=\"toc-item-num\">5.4&nbsp;&nbsp;</span>Вывод</a></span></li></ul></li><li><span><a href=\"#Общий-вывод\" data-toc-modified-id=\"Общий-вывод-6\"><span class=\"toc-item-num\">6&nbsp;&nbsp;</span>Общий вывод</a></span></li></ul></div>"
   ]
  },
  {
   "cell_type": "markdown",
   "metadata": {},
   "source": [
    "# Определение перспективного тарифа для телеком компании\n",
    "\n",
    "У нас имеется два тарифных плана \"Смарт\" и \"Ультра\". Цель проекта проанализировать какой тарифный план приносит больше денег. Чтобы компания скорректировала рекламный бюджет. В нашем распоряжение данные о 500 пользователях компании \"Мегалайн\": кто они, откуда, каким тарифом пользуются, сколько звонков и сообщений каждый отправил за 2018 год. "
   ]
  },
  {
   "cell_type": "markdown",
   "metadata": {},
   "source": [
    "## Изучение данных из файлов"
   ]
  },
  {
   "cell_type": "code",
   "execution_count": 85,
   "metadata": {},
   "outputs": [],
   "source": [
    "import pandas as pd\n",
    "from IPython.display import display\n",
    "import numpy as np\n",
    "import matplotlib.pyplot as plt\n",
    "import seaborn as sns\n",
    "import warnings\n",
    "warnings.filterwarnings('ignore')"
   ]
  },
  {
   "cell_type": "markdown",
   "metadata": {},
   "source": [
    "### Изучение данных из файла тарифы"
   ]
  },
  {
   "cell_type": "code",
   "execution_count": 86,
   "metadata": {
    "scrolled": true
   },
   "outputs": [
    {
     "data": {
      "text/html": [
       "<div>\n",
       "<style scoped>\n",
       "    .dataframe tbody tr th:only-of-type {\n",
       "        vertical-align: middle;\n",
       "    }\n",
       "\n",
       "    .dataframe tbody tr th {\n",
       "        vertical-align: top;\n",
       "    }\n",
       "\n",
       "    .dataframe thead th {\n",
       "        text-align: right;\n",
       "    }\n",
       "</style>\n",
       "<table border=\"1\" class=\"dataframe\">\n",
       "  <thead>\n",
       "    <tr style=\"text-align: right;\">\n",
       "      <th></th>\n",
       "      <th>messages_included</th>\n",
       "      <th>mb_per_month_included</th>\n",
       "      <th>minutes_included</th>\n",
       "      <th>rub_monthly_fee</th>\n",
       "      <th>rub_per_gb</th>\n",
       "      <th>rub_per_message</th>\n",
       "      <th>rub_per_minute</th>\n",
       "      <th>tariff_name</th>\n",
       "    </tr>\n",
       "  </thead>\n",
       "  <tbody>\n",
       "    <tr>\n",
       "      <th>0</th>\n",
       "      <td>50</td>\n",
       "      <td>15360</td>\n",
       "      <td>500</td>\n",
       "      <td>550</td>\n",
       "      <td>200</td>\n",
       "      <td>3</td>\n",
       "      <td>3</td>\n",
       "      <td>smart</td>\n",
       "    </tr>\n",
       "    <tr>\n",
       "      <th>1</th>\n",
       "      <td>1000</td>\n",
       "      <td>30720</td>\n",
       "      <td>3000</td>\n",
       "      <td>1950</td>\n",
       "      <td>150</td>\n",
       "      <td>1</td>\n",
       "      <td>1</td>\n",
       "      <td>ultra</td>\n",
       "    </tr>\n",
       "  </tbody>\n",
       "</table>\n",
       "</div>"
      ],
      "text/plain": [
       "   messages_included  mb_per_month_included  minutes_included  \\\n",
       "0                 50                  15360               500   \n",
       "1               1000                  30720              3000   \n",
       "\n",
       "   rub_monthly_fee  rub_per_gb  rub_per_message  rub_per_minute tariff_name  \n",
       "0              550         200                3               3       smart  \n",
       "1             1950         150                1               1       ultra  "
      ]
     },
     "execution_count": 86,
     "metadata": {},
     "output_type": "execute_result"
    }
   ],
   "source": [
    "tariffs = pd.read_csv('/datasets/tariffs.csv', sep = ',')\n",
    "tariffs.head()"
   ]
  },
  {
   "cell_type": "markdown",
   "metadata": {},
   "source": [
    "#### Вывод"
   ]
  },
  {
   "cell_type": "markdown",
   "metadata": {},
   "source": [
    "Описание данных\n",
    " - tariff_name - название тарифа\n",
    " - rub_monthly_fee - ежемесячная абонентская плата в рублях\n",
    " - minutes_included - количество минут разговора в месяц, включенных в абонентскую плату\n",
    " - messages_included - количество сообщений в месяц, включенных в абонентскую плату\n",
    " - mb-per_month_included - объем интернет-трафика, включенного в абонентскую плату (в мегабайтах)\n",
    " - rub_per_minute - стоимость минуты разговора сверх тарифного пакета \n",
    " - rub_per_message - стоимость отправки сообщения сверх тарифного пакета\n",
    " - rub_per_gb - стоимость дополнительного гигабайта интернет трафика серх тарифного пакета.\n",
    " "
   ]
  },
  {
   "cell_type": "markdown",
   "metadata": {},
   "source": [
    "Дополнительные условия:\n",
    "1) 1 гигабайт = 1024 мегабайта, 2) Если в тарифе 100 минут, то со 101 минуты будет взиматься плата"
   ]
  },
  {
   "cell_type": "markdown",
   "metadata": {},
   "source": [
    "### Изучение данных из файла пользователи"
   ]
  },
  {
   "cell_type": "code",
   "execution_count": 87,
   "metadata": {},
   "outputs": [
    {
     "data": {
      "text/html": [
       "<div>\n",
       "<style scoped>\n",
       "    .dataframe tbody tr th:only-of-type {\n",
       "        vertical-align: middle;\n",
       "    }\n",
       "\n",
       "    .dataframe tbody tr th {\n",
       "        vertical-align: top;\n",
       "    }\n",
       "\n",
       "    .dataframe thead th {\n",
       "        text-align: right;\n",
       "    }\n",
       "</style>\n",
       "<table border=\"1\" class=\"dataframe\">\n",
       "  <thead>\n",
       "    <tr style=\"text-align: right;\">\n",
       "      <th></th>\n",
       "      <th>user_id</th>\n",
       "      <th>age</th>\n",
       "      <th>churn_date</th>\n",
       "      <th>city</th>\n",
       "      <th>first_name</th>\n",
       "      <th>last_name</th>\n",
       "      <th>reg_date</th>\n",
       "      <th>tariff</th>\n",
       "    </tr>\n",
       "  </thead>\n",
       "  <tbody>\n",
       "    <tr>\n",
       "      <th>262</th>\n",
       "      <td>1262</td>\n",
       "      <td>21</td>\n",
       "      <td>NaN</td>\n",
       "      <td>Ульяновск</td>\n",
       "      <td>Антонина</td>\n",
       "      <td>Ларина</td>\n",
       "      <td>2018-03-17</td>\n",
       "      <td>smart</td>\n",
       "    </tr>\n",
       "    <tr>\n",
       "      <th>266</th>\n",
       "      <td>1266</td>\n",
       "      <td>32</td>\n",
       "      <td>NaN</td>\n",
       "      <td>Калуга</td>\n",
       "      <td>Тала</td>\n",
       "      <td>Антропова</td>\n",
       "      <td>2018-07-20</td>\n",
       "      <td>smart</td>\n",
       "    </tr>\n",
       "    <tr>\n",
       "      <th>325</th>\n",
       "      <td>1325</td>\n",
       "      <td>63</td>\n",
       "      <td>NaN</td>\n",
       "      <td>Новосибирск</td>\n",
       "      <td>Артём</td>\n",
       "      <td>Федосеев</td>\n",
       "      <td>2018-06-12</td>\n",
       "      <td>ultra</td>\n",
       "    </tr>\n",
       "    <tr>\n",
       "      <th>381</th>\n",
       "      <td>1381</td>\n",
       "      <td>64</td>\n",
       "      <td>NaN</td>\n",
       "      <td>Москва</td>\n",
       "      <td>Тамара</td>\n",
       "      <td>Серебрякова</td>\n",
       "      <td>2018-01-13</td>\n",
       "      <td>ultra</td>\n",
       "    </tr>\n",
       "    <tr>\n",
       "      <th>95</th>\n",
       "      <td>1095</td>\n",
       "      <td>70</td>\n",
       "      <td>NaN</td>\n",
       "      <td>Новосибирск</td>\n",
       "      <td>Марианна</td>\n",
       "      <td>Кабанова</td>\n",
       "      <td>2018-12-23</td>\n",
       "      <td>smart</td>\n",
       "    </tr>\n",
       "    <tr>\n",
       "      <th>297</th>\n",
       "      <td>1297</td>\n",
       "      <td>66</td>\n",
       "      <td>NaN</td>\n",
       "      <td>Иркутск</td>\n",
       "      <td>Радим</td>\n",
       "      <td>Абрамцев</td>\n",
       "      <td>2018-12-04</td>\n",
       "      <td>smart</td>\n",
       "    </tr>\n",
       "    <tr>\n",
       "      <th>124</th>\n",
       "      <td>1124</td>\n",
       "      <td>54</td>\n",
       "      <td>NaN</td>\n",
       "      <td>Махачкала</td>\n",
       "      <td>Альбин</td>\n",
       "      <td>Андрианов</td>\n",
       "      <td>2018-09-24</td>\n",
       "      <td>ultra</td>\n",
       "    </tr>\n",
       "    <tr>\n",
       "      <th>423</th>\n",
       "      <td>1423</td>\n",
       "      <td>50</td>\n",
       "      <td>NaN</td>\n",
       "      <td>Астрахань</td>\n",
       "      <td>Леон</td>\n",
       "      <td>Силин</td>\n",
       "      <td>2018-01-23</td>\n",
       "      <td>smart</td>\n",
       "    </tr>\n",
       "    <tr>\n",
       "      <th>378</th>\n",
       "      <td>1378</td>\n",
       "      <td>21</td>\n",
       "      <td>NaN</td>\n",
       "      <td>Иркутск</td>\n",
       "      <td>Евгения</td>\n",
       "      <td>Бычкова</td>\n",
       "      <td>2018-01-19</td>\n",
       "      <td>smart</td>\n",
       "    </tr>\n",
       "    <tr>\n",
       "      <th>153</th>\n",
       "      <td>1153</td>\n",
       "      <td>59</td>\n",
       "      <td>NaN</td>\n",
       "      <td>Ульяновск</td>\n",
       "      <td>Евдокия</td>\n",
       "      <td>Одинцова</td>\n",
       "      <td>2018-10-18</td>\n",
       "      <td>smart</td>\n",
       "    </tr>\n",
       "  </tbody>\n",
       "</table>\n",
       "</div>"
      ],
      "text/plain": [
       "     user_id  age churn_date         city first_name    last_name    reg_date  \\\n",
       "262     1262   21        NaN    Ульяновск   Антонина       Ларина  2018-03-17   \n",
       "266     1266   32        NaN       Калуга       Тала    Антропова  2018-07-20   \n",
       "325     1325   63        NaN  Новосибирск      Артём     Федосеев  2018-06-12   \n",
       "381     1381   64        NaN       Москва     Тамара  Серебрякова  2018-01-13   \n",
       "95      1095   70        NaN  Новосибирск   Марианна     Кабанова  2018-12-23   \n",
       "297     1297   66        NaN      Иркутск      Радим     Абрамцев  2018-12-04   \n",
       "124     1124   54        NaN    Махачкала     Альбин    Андрианов  2018-09-24   \n",
       "423     1423   50        NaN    Астрахань       Леон        Силин  2018-01-23   \n",
       "378     1378   21        NaN      Иркутск    Евгения      Бычкова  2018-01-19   \n",
       "153     1153   59        NaN    Ульяновск    Евдокия     Одинцова  2018-10-18   \n",
       "\n",
       "    tariff  \n",
       "262  smart  \n",
       "266  smart  \n",
       "325  ultra  \n",
       "381  ultra  \n",
       "95   smart  \n",
       "297  smart  \n",
       "124  ultra  \n",
       "423  smart  \n",
       "378  smart  \n",
       "153  smart  "
      ]
     },
     "execution_count": 87,
     "metadata": {},
     "output_type": "execute_result"
    }
   ],
   "source": [
    "users = pd.read_csv('/datasets/users.csv', sep = ',')\n",
    "users.sample(10)"
   ]
  },
  {
   "cell_type": "code",
   "execution_count": 88,
   "metadata": {},
   "outputs": [
    {
     "name": "stdout",
     "output_type": "stream",
     "text": [
      "<class 'pandas.core.frame.DataFrame'>\n",
      "RangeIndex: 500 entries, 0 to 499\n",
      "Data columns (total 8 columns):\n",
      " #   Column      Non-Null Count  Dtype \n",
      "---  ------      --------------  ----- \n",
      " 0   user_id     500 non-null    int64 \n",
      " 1   age         500 non-null    int64 \n",
      " 2   churn_date  38 non-null     object\n",
      " 3   city        500 non-null    object\n",
      " 4   first_name  500 non-null    object\n",
      " 5   last_name   500 non-null    object\n",
      " 6   reg_date    500 non-null    object\n",
      " 7   tariff      500 non-null    object\n",
      "dtypes: int64(2), object(6)\n",
      "memory usage: 31.4+ KB\n"
     ]
    }
   ],
   "source": [
    "users.info()"
   ]
  },
  {
   "cell_type": "markdown",
   "metadata": {},
   "source": [
    "#### Вывод"
   ]
  },
  {
   "cell_type": "markdown",
   "metadata": {},
   "source": [
    "Описание данных\n",
    " - user_id - уникальный идентификатор пользователя\n",
    " - first_name - имя пользователя\n",
    " - last_name - фамилия пользователя\n",
    " - age - возраст пользователя (годы)\n",
    " - reg_date - дата подключения тарифа (день, месяц, год)\n",
    " - churn_date - дата прекращения пользования тарифом (если значение пропущено, то тариф еще действовал на момент выгрузки данных)\n",
    " - city - город проживания пользователя\n",
    " - tarif - название тарифного плана\n",
    " "
   ]
  },
  {
   "cell_type": "markdown",
   "metadata": {},
   "source": [
    "### Изучение данных из файла звонки"
   ]
  },
  {
   "cell_type": "code",
   "execution_count": 89,
   "metadata": {},
   "outputs": [
    {
     "data": {
      "text/html": [
       "<div>\n",
       "<style scoped>\n",
       "    .dataframe tbody tr th:only-of-type {\n",
       "        vertical-align: middle;\n",
       "    }\n",
       "\n",
       "    .dataframe tbody tr th {\n",
       "        vertical-align: top;\n",
       "    }\n",
       "\n",
       "    .dataframe thead th {\n",
       "        text-align: right;\n",
       "    }\n",
       "</style>\n",
       "<table border=\"1\" class=\"dataframe\">\n",
       "  <thead>\n",
       "    <tr style=\"text-align: right;\">\n",
       "      <th></th>\n",
       "      <th>id</th>\n",
       "      <th>call_date</th>\n",
       "      <th>duration</th>\n",
       "      <th>user_id</th>\n",
       "    </tr>\n",
       "  </thead>\n",
       "  <tbody>\n",
       "    <tr>\n",
       "      <th>81071</th>\n",
       "      <td>1201_272</td>\n",
       "      <td>2018-08-26</td>\n",
       "      <td>3.44</td>\n",
       "      <td>1201</td>\n",
       "    </tr>\n",
       "    <tr>\n",
       "      <th>137566</th>\n",
       "      <td>1352_290</td>\n",
       "      <td>2018-12-01</td>\n",
       "      <td>11.03</td>\n",
       "      <td>1352</td>\n",
       "    </tr>\n",
       "    <tr>\n",
       "      <th>4014</th>\n",
       "      <td>1011_108</td>\n",
       "      <td>2018-10-01</td>\n",
       "      <td>13.28</td>\n",
       "      <td>1011</td>\n",
       "    </tr>\n",
       "    <tr>\n",
       "      <th>155351</th>\n",
       "      <td>1384_177</td>\n",
       "      <td>2018-11-05</td>\n",
       "      <td>6.59</td>\n",
       "      <td>1384</td>\n",
       "    </tr>\n",
       "    <tr>\n",
       "      <th>83715</th>\n",
       "      <td>1208_567</td>\n",
       "      <td>2018-06-27</td>\n",
       "      <td>4.81</td>\n",
       "      <td>1208</td>\n",
       "    </tr>\n",
       "    <tr>\n",
       "      <th>142235</th>\n",
       "      <td>1360_678</td>\n",
       "      <td>2018-04-11</td>\n",
       "      <td>25.43</td>\n",
       "      <td>1360</td>\n",
       "    </tr>\n",
       "    <tr>\n",
       "      <th>177082</th>\n",
       "      <td>1436_527</td>\n",
       "      <td>2018-09-25</td>\n",
       "      <td>5.89</td>\n",
       "      <td>1436</td>\n",
       "    </tr>\n",
       "    <tr>\n",
       "      <th>160770</th>\n",
       "      <td>1395_431</td>\n",
       "      <td>2018-01-06</td>\n",
       "      <td>5.42</td>\n",
       "      <td>1395</td>\n",
       "    </tr>\n",
       "    <tr>\n",
       "      <th>42234</th>\n",
       "      <td>1104_136</td>\n",
       "      <td>2018-09-15</td>\n",
       "      <td>11.82</td>\n",
       "      <td>1104</td>\n",
       "    </tr>\n",
       "    <tr>\n",
       "      <th>151561</th>\n",
       "      <td>1378_648</td>\n",
       "      <td>2018-09-19</td>\n",
       "      <td>4.60</td>\n",
       "      <td>1378</td>\n",
       "    </tr>\n",
       "  </tbody>\n",
       "</table>\n",
       "</div>"
      ],
      "text/plain": [
       "              id   call_date  duration  user_id\n",
       "81071   1201_272  2018-08-26      3.44     1201\n",
       "137566  1352_290  2018-12-01     11.03     1352\n",
       "4014    1011_108  2018-10-01     13.28     1011\n",
       "155351  1384_177  2018-11-05      6.59     1384\n",
       "83715   1208_567  2018-06-27      4.81     1208\n",
       "142235  1360_678  2018-04-11     25.43     1360\n",
       "177082  1436_527  2018-09-25      5.89     1436\n",
       "160770  1395_431  2018-01-06      5.42     1395\n",
       "42234   1104_136  2018-09-15     11.82     1104\n",
       "151561  1378_648  2018-09-19      4.60     1378"
      ]
     },
     "execution_count": 89,
     "metadata": {},
     "output_type": "execute_result"
    }
   ],
   "source": [
    "calls = pd.read_csv('/datasets/calls.csv', sep = ',')\n",
    "calls.sample(10)"
   ]
  },
  {
   "cell_type": "code",
   "execution_count": 90,
   "metadata": {},
   "outputs": [
    {
     "name": "stdout",
     "output_type": "stream",
     "text": [
      "<class 'pandas.core.frame.DataFrame'>\n",
      "RangeIndex: 202607 entries, 0 to 202606\n",
      "Data columns (total 4 columns):\n",
      " #   Column     Non-Null Count   Dtype  \n",
      "---  ------     --------------   -----  \n",
      " 0   id         202607 non-null  object \n",
      " 1   call_date  202607 non-null  object \n",
      " 2   duration   202607 non-null  float64\n",
      " 3   user_id    202607 non-null  int64  \n",
      "dtypes: float64(1), int64(1), object(2)\n",
      "memory usage: 6.2+ MB\n"
     ]
    }
   ],
   "source": [
    "calls.info()"
   ]
  },
  {
   "cell_type": "markdown",
   "metadata": {},
   "source": [
    "#### Вывод"
   ]
  },
  {
   "cell_type": "markdown",
   "metadata": {},
   "source": [
    "Описание данных\n",
    " - id - уникальный номер звонка\n",
    " - call_date - дата звонка\n",
    " - duration - длительность звонка в минутах\n",
    " - user_id - идентификатор пользователя, сделавшего звонок\n",
    " "
   ]
  },
  {
   "cell_type": "markdown",
   "metadata": {},
   "source": [
    "### Изучение данных из файла сообщения"
   ]
  },
  {
   "cell_type": "code",
   "execution_count": 91,
   "metadata": {},
   "outputs": [
    {
     "data": {
      "text/html": [
       "<div>\n",
       "<style scoped>\n",
       "    .dataframe tbody tr th:only-of-type {\n",
       "        vertical-align: middle;\n",
       "    }\n",
       "\n",
       "    .dataframe tbody tr th {\n",
       "        vertical-align: top;\n",
       "    }\n",
       "\n",
       "    .dataframe thead th {\n",
       "        text-align: right;\n",
       "    }\n",
       "</style>\n",
       "<table border=\"1\" class=\"dataframe\">\n",
       "  <thead>\n",
       "    <tr style=\"text-align: right;\">\n",
       "      <th></th>\n",
       "      <th>id</th>\n",
       "      <th>message_date</th>\n",
       "      <th>user_id</th>\n",
       "    </tr>\n",
       "  </thead>\n",
       "  <tbody>\n",
       "    <tr>\n",
       "      <th>2068</th>\n",
       "      <td>1004_1122</td>\n",
       "      <td>2018-09-24</td>\n",
       "      <td>1004</td>\n",
       "    </tr>\n",
       "    <tr>\n",
       "      <th>4262</th>\n",
       "      <td>1015_527</td>\n",
       "      <td>2018-10-30</td>\n",
       "      <td>1015</td>\n",
       "    </tr>\n",
       "    <tr>\n",
       "      <th>107904</th>\n",
       "      <td>1433_511</td>\n",
       "      <td>2018-11-23</td>\n",
       "      <td>1433</td>\n",
       "    </tr>\n",
       "    <tr>\n",
       "      <th>7050</th>\n",
       "      <td>1029_129</td>\n",
       "      <td>2018-10-01</td>\n",
       "      <td>1029</td>\n",
       "    </tr>\n",
       "    <tr>\n",
       "      <th>103354</th>\n",
       "      <td>1421_317</td>\n",
       "      <td>2018-03-17</td>\n",
       "      <td>1421</td>\n",
       "    </tr>\n",
       "    <tr>\n",
       "      <th>72855</th>\n",
       "      <td>1308_315</td>\n",
       "      <td>2018-08-24</td>\n",
       "      <td>1308</td>\n",
       "    </tr>\n",
       "    <tr>\n",
       "      <th>75283</th>\n",
       "      <td>1318_312</td>\n",
       "      <td>2018-12-21</td>\n",
       "      <td>1318</td>\n",
       "    </tr>\n",
       "    <tr>\n",
       "      <th>103733</th>\n",
       "      <td>1423_66</td>\n",
       "      <td>2018-07-16</td>\n",
       "      <td>1423</td>\n",
       "    </tr>\n",
       "    <tr>\n",
       "      <th>49164</th>\n",
       "      <td>1217_439</td>\n",
       "      <td>2018-04-16</td>\n",
       "      <td>1217</td>\n",
       "    </tr>\n",
       "    <tr>\n",
       "      <th>78237</th>\n",
       "      <td>1330_263</td>\n",
       "      <td>2018-03-25</td>\n",
       "      <td>1330</td>\n",
       "    </tr>\n",
       "  </tbody>\n",
       "</table>\n",
       "</div>"
      ],
      "text/plain": [
       "               id message_date  user_id\n",
       "2068    1004_1122   2018-09-24     1004\n",
       "4262     1015_527   2018-10-30     1015\n",
       "107904   1433_511   2018-11-23     1433\n",
       "7050     1029_129   2018-10-01     1029\n",
       "103354   1421_317   2018-03-17     1421\n",
       "72855    1308_315   2018-08-24     1308\n",
       "75283    1318_312   2018-12-21     1318\n",
       "103733    1423_66   2018-07-16     1423\n",
       "49164    1217_439   2018-04-16     1217\n",
       "78237    1330_263   2018-03-25     1330"
      ]
     },
     "execution_count": 91,
     "metadata": {},
     "output_type": "execute_result"
    }
   ],
   "source": [
    "messages = pd.read_csv('/datasets/messages.csv', sep = ',')\n",
    "messages.sample(10)"
   ]
  },
  {
   "cell_type": "code",
   "execution_count": 92,
   "metadata": {},
   "outputs": [
    {
     "name": "stdout",
     "output_type": "stream",
     "text": [
      "<class 'pandas.core.frame.DataFrame'>\n",
      "RangeIndex: 123036 entries, 0 to 123035\n",
      "Data columns (total 3 columns):\n",
      " #   Column        Non-Null Count   Dtype \n",
      "---  ------        --------------   ----- \n",
      " 0   id            123036 non-null  object\n",
      " 1   message_date  123036 non-null  object\n",
      " 2   user_id       123036 non-null  int64 \n",
      "dtypes: int64(1), object(2)\n",
      "memory usage: 2.8+ MB\n"
     ]
    }
   ],
   "source": [
    "messages.info()"
   ]
  },
  {
   "cell_type": "markdown",
   "metadata": {},
   "source": [
    "#### Вывод"
   ]
  },
  {
   "cell_type": "markdown",
   "metadata": {},
   "source": [
    "Описание данных\n",
    " - id - уникальный номер сообщения\n",
    " - message_date - дата сообщения\n",
    " - user_id - идентификатор пользователя, отправившего сообщение\n",
    " "
   ]
  },
  {
   "cell_type": "markdown",
   "metadata": {},
   "source": [
    "### Изучение данных из файла об интернет-сессиях "
   ]
  },
  {
   "cell_type": "code",
   "execution_count": 93,
   "metadata": {},
   "outputs": [
    {
     "data": {
      "text/html": [
       "<div>\n",
       "<style scoped>\n",
       "    .dataframe tbody tr th:only-of-type {\n",
       "        vertical-align: middle;\n",
       "    }\n",
       "\n",
       "    .dataframe tbody tr th {\n",
       "        vertical-align: top;\n",
       "    }\n",
       "\n",
       "    .dataframe thead th {\n",
       "        text-align: right;\n",
       "    }\n",
       "</style>\n",
       "<table border=\"1\" class=\"dataframe\">\n",
       "  <thead>\n",
       "    <tr style=\"text-align: right;\">\n",
       "      <th></th>\n",
       "      <th>Unnamed: 0</th>\n",
       "      <th>id</th>\n",
       "      <th>mb_used</th>\n",
       "      <th>session_date</th>\n",
       "      <th>user_id</th>\n",
       "    </tr>\n",
       "  </thead>\n",
       "  <tbody>\n",
       "    <tr>\n",
       "      <th>108729</th>\n",
       "      <td>108729</td>\n",
       "      <td>1372_97</td>\n",
       "      <td>924.71</td>\n",
       "      <td>2018-06-11</td>\n",
       "      <td>1372</td>\n",
       "    </tr>\n",
       "    <tr>\n",
       "      <th>44089</th>\n",
       "      <td>44089</td>\n",
       "      <td>1152_307</td>\n",
       "      <td>161.80</td>\n",
       "      <td>2018-10-21</td>\n",
       "      <td>1152</td>\n",
       "    </tr>\n",
       "    <tr>\n",
       "      <th>97899</th>\n",
       "      <td>97899</td>\n",
       "      <td>1330_107</td>\n",
       "      <td>202.25</td>\n",
       "      <td>2018-06-24</td>\n",
       "      <td>1330</td>\n",
       "    </tr>\n",
       "    <tr>\n",
       "      <th>4913</th>\n",
       "      <td>4913</td>\n",
       "      <td>1014_519</td>\n",
       "      <td>481.06</td>\n",
       "      <td>2018-07-07</td>\n",
       "      <td>1014</td>\n",
       "    </tr>\n",
       "    <tr>\n",
       "      <th>36069</th>\n",
       "      <td>36069</td>\n",
       "      <td>1126_16</td>\n",
       "      <td>421.87</td>\n",
       "      <td>2018-02-21</td>\n",
       "      <td>1126</td>\n",
       "    </tr>\n",
       "    <tr>\n",
       "      <th>49291</th>\n",
       "      <td>49291</td>\n",
       "      <td>1170_40</td>\n",
       "      <td>556.25</td>\n",
       "      <td>2018-12-23</td>\n",
       "      <td>1170</td>\n",
       "    </tr>\n",
       "    <tr>\n",
       "      <th>129645</th>\n",
       "      <td>129645</td>\n",
       "      <td>1432_133</td>\n",
       "      <td>752.89</td>\n",
       "      <td>2018-11-27</td>\n",
       "      <td>1432</td>\n",
       "    </tr>\n",
       "    <tr>\n",
       "      <th>63459</th>\n",
       "      <td>63459</td>\n",
       "      <td>1217_27</td>\n",
       "      <td>0.00</td>\n",
       "      <td>2018-05-22</td>\n",
       "      <td>1217</td>\n",
       "    </tr>\n",
       "    <tr>\n",
       "      <th>128249</th>\n",
       "      <td>128249</td>\n",
       "      <td>1429_407</td>\n",
       "      <td>959.62</td>\n",
       "      <td>2018-12-19</td>\n",
       "      <td>1429</td>\n",
       "    </tr>\n",
       "    <tr>\n",
       "      <th>59558</th>\n",
       "      <td>59558</td>\n",
       "      <td>1202_21</td>\n",
       "      <td>0.00</td>\n",
       "      <td>2018-11-15</td>\n",
       "      <td>1202</td>\n",
       "    </tr>\n",
       "  </tbody>\n",
       "</table>\n",
       "</div>"
      ],
      "text/plain": [
       "        Unnamed: 0        id  mb_used session_date  user_id\n",
       "108729      108729   1372_97   924.71   2018-06-11     1372\n",
       "44089        44089  1152_307   161.80   2018-10-21     1152\n",
       "97899        97899  1330_107   202.25   2018-06-24     1330\n",
       "4913          4913  1014_519   481.06   2018-07-07     1014\n",
       "36069        36069   1126_16   421.87   2018-02-21     1126\n",
       "49291        49291   1170_40   556.25   2018-12-23     1170\n",
       "129645      129645  1432_133   752.89   2018-11-27     1432\n",
       "63459        63459   1217_27     0.00   2018-05-22     1217\n",
       "128249      128249  1429_407   959.62   2018-12-19     1429\n",
       "59558        59558   1202_21     0.00   2018-11-15     1202"
      ]
     },
     "execution_count": 93,
     "metadata": {},
     "output_type": "execute_result"
    }
   ],
   "source": [
    "internet = pd.read_csv('/datasets/internet.csv', sep = ',')\n",
    "internet.sample(10)"
   ]
  },
  {
   "cell_type": "code",
   "execution_count": 94,
   "metadata": {},
   "outputs": [
    {
     "name": "stdout",
     "output_type": "stream",
     "text": [
      "<class 'pandas.core.frame.DataFrame'>\n",
      "RangeIndex: 149396 entries, 0 to 149395\n",
      "Data columns (total 5 columns):\n",
      " #   Column        Non-Null Count   Dtype  \n",
      "---  ------        --------------   -----  \n",
      " 0   Unnamed: 0    149396 non-null  int64  \n",
      " 1   id            149396 non-null  object \n",
      " 2   mb_used       149396 non-null  float64\n",
      " 3   session_date  149396 non-null  object \n",
      " 4   user_id       149396 non-null  int64  \n",
      "dtypes: float64(1), int64(2), object(2)\n",
      "memory usage: 5.7+ MB\n"
     ]
    }
   ],
   "source": [
    "internet.info()"
   ]
  },
  {
   "cell_type": "markdown",
   "metadata": {},
   "source": [
    "#### Вывод"
   ]
  },
  {
   "cell_type": "markdown",
   "metadata": {},
   "source": [
    "Описание данных\n",
    " - id - уникальный номер сессии\n",
    " - mb_used - объем потраченного за сессию интернет-трафика (в мегабайтах)\n",
    " - session_date - дата интернет-сессии \n",
    " - user_id - идентификатор пользователя\n",
    " "
   ]
  },
  {
   "cell_type": "markdown",
   "metadata": {},
   "source": [
    "### Вывод"
   ]
  },
  {
   "cell_type": "markdown",
   "metadata": {},
   "source": [
    "У нас 5 датасетов. Каждый из которых отличается по количеству строк и каждый содержит отдельную информацию по услугам. На первый взгляд информации достаточно для анализа нашей задачи. В каждом датасете есть информацию об id пользователя, для того чтобы обединить необходимые данные. Необходимы некоторые данные преобразовать, поменять типы данных с толбцах, проверить на дубликаты. Пропусков по нашим данных нет, только в таблице пользователей, где информация по дате прекращения пользования тарифом. "
   ]
  },
  {
   "cell_type": "markdown",
   "metadata": {},
   "source": [
    "## Предобработка данных "
   ]
  },
  {
   "cell_type": "markdown",
   "metadata": {},
   "source": [
    "Будем поочередно все датасеты проверять на пропуски и корректность данных. При необходимости исправлять или заполнять."
   ]
  },
  {
   "cell_type": "markdown",
   "metadata": {},
   "source": [
    "### Датасет tariffs"
   ]
  },
  {
   "cell_type": "code",
   "execution_count": 95,
   "metadata": {},
   "outputs": [
    {
     "data": {
      "text/html": [
       "<div>\n",
       "<style scoped>\n",
       "    .dataframe tbody tr th:only-of-type {\n",
       "        vertical-align: middle;\n",
       "    }\n",
       "\n",
       "    .dataframe tbody tr th {\n",
       "        vertical-align: top;\n",
       "    }\n",
       "\n",
       "    .dataframe thead th {\n",
       "        text-align: right;\n",
       "    }\n",
       "</style>\n",
       "<table border=\"1\" class=\"dataframe\">\n",
       "  <thead>\n",
       "    <tr style=\"text-align: right;\">\n",
       "      <th></th>\n",
       "      <th>tariff_name</th>\n",
       "      <th>messages_included</th>\n",
       "      <th>gb_included</th>\n",
       "      <th>minutes_included</th>\n",
       "      <th>price_month</th>\n",
       "      <th>rub_per_gb</th>\n",
       "      <th>rub_per_message</th>\n",
       "      <th>rub_per_minute</th>\n",
       "    </tr>\n",
       "  </thead>\n",
       "  <tbody>\n",
       "    <tr>\n",
       "      <th>0</th>\n",
       "      <td>smart</td>\n",
       "      <td>50</td>\n",
       "      <td>15</td>\n",
       "      <td>500</td>\n",
       "      <td>550</td>\n",
       "      <td>200</td>\n",
       "      <td>3</td>\n",
       "      <td>3</td>\n",
       "    </tr>\n",
       "    <tr>\n",
       "      <th>1</th>\n",
       "      <td>ultra</td>\n",
       "      <td>1000</td>\n",
       "      <td>30</td>\n",
       "      <td>3000</td>\n",
       "      <td>1950</td>\n",
       "      <td>150</td>\n",
       "      <td>1</td>\n",
       "      <td>1</td>\n",
       "    </tr>\n",
       "  </tbody>\n",
       "</table>\n",
       "</div>"
      ],
      "text/plain": [
       "  tariff_name  messages_included  gb_included  minutes_included  price_month  \\\n",
       "0       smart                 50           15               500          550   \n",
       "1       ultra               1000           30              3000         1950   \n",
       "\n",
       "   rub_per_gb  rub_per_message  rub_per_minute  \n",
       "0         200                3               3  \n",
       "1         150                1               1  "
      ]
     },
     "execution_count": 95,
     "metadata": {},
     "output_type": "execute_result"
    }
   ],
   "source": [
    "tariffs['gb_included']=(tariffs['mb_per_month_included']/1024).astype('int64')\n",
    "tariffs = tariffs.rename(columns={'rub_monthly_fee': 'price_month'})\n",
    "tariffs = tariffs[['tariff_name', 'messages_included', 'gb_included', 'minutes_included', 'price_month', 'rub_per_gb', 'rub_per_message', 'rub_per_minute']]\n",
    "tariffs.head()"
   ]
  },
  {
   "cell_type": "markdown",
   "metadata": {},
   "source": [
    "#### Вывод.\n"
   ]
  },
  {
   "cell_type": "markdown",
   "metadata": {},
   "source": [
    "В датасете tariffs поменяли название столбца ежемесячная абонентская плата, на более удобный. Также привели столбец объем интернет трафика к целочисленному значению и перевели в гигабайты, так как в тариф входит целые гигабайты и дополнительно оплачиваются при перерасходе тоже гигабайты. "
   ]
  },
  {
   "cell_type": "markdown",
   "metadata": {},
   "source": [
    "### Датасет users"
   ]
  },
  {
   "cell_type": "code",
   "execution_count": 96,
   "metadata": {},
   "outputs": [
    {
     "data": {
      "text/plain": [
       "1024    1\n",
       "1353    1\n",
       "1366    1\n",
       "1365    1\n",
       "1364    1\n",
       "       ..\n",
       "1185    1\n",
       "1184    1\n",
       "1183    1\n",
       "1182    1\n",
       "1023    1\n",
       "Name: user_id, Length: 500, dtype: int64"
      ]
     },
     "execution_count": 96,
     "metadata": {},
     "output_type": "execute_result"
    }
   ],
   "source": [
    "users['user_id'].value_counts()"
   ]
  },
  {
   "cell_type": "code",
   "execution_count": 97,
   "metadata": {},
   "outputs": [
    {
     "data": {
      "text/plain": [
       "count    500.00000\n",
       "mean      46.58800\n",
       "std       16.66763\n",
       "min       18.00000\n",
       "25%       32.00000\n",
       "50%       46.00000\n",
       "75%       62.00000\n",
       "max       75.00000\n",
       "Name: age, dtype: float64"
      ]
     },
     "execution_count": 97,
     "metadata": {},
     "output_type": "execute_result"
    }
   ],
   "source": [
    "users['age'].describe()"
   ]
  },
  {
   "cell_type": "code",
   "execution_count": 98,
   "metadata": {},
   "outputs": [
    {
     "data": {
      "text/plain": [
       "count             38\n",
       "unique            33\n",
       "top       2018-12-21\n",
       "freq               2\n",
       "Name: churn_date, dtype: object"
      ]
     },
     "execution_count": 98,
     "metadata": {},
     "output_type": "execute_result"
    }
   ],
   "source": [
    "users['churn_date'].describe()"
   ]
  },
  {
   "cell_type": "code",
   "execution_count": 99,
   "metadata": {},
   "outputs": [],
   "source": [
    "users['churn_date'] = pd.to_datetime(users['churn_date'])"
   ]
  },
  {
   "cell_type": "code",
   "execution_count": 100,
   "metadata": {},
   "outputs": [
    {
     "data": {
      "text/plain": [
       "count                      38\n",
       "unique                     33\n",
       "top       2018-10-03 00:00:00\n",
       "freq                        2\n",
       "first     2018-08-17 00:00:00\n",
       "last      2018-12-30 00:00:00\n",
       "Name: churn_date, dtype: object"
      ]
     },
     "execution_count": 100,
     "metadata": {},
     "output_type": "execute_result"
    }
   ],
   "source": [
    "users['churn_date'].describe()"
   ]
  },
  {
   "cell_type": "code",
   "execution_count": 101,
   "metadata": {},
   "outputs": [
    {
     "data": {
      "text/plain": [
       "array(['Архангельск', 'Астрахань', 'Балашиха', 'Барнаул', 'Белгород',\n",
       "       'Брянск', 'Владивосток', 'Владикавказ', 'Владимир', 'Волгоград',\n",
       "       'Волжский', 'Вологда', 'Воронеж', 'Грозный', 'Екатеринбург',\n",
       "       'Иваново', 'Ижевск', 'Иркутск', 'Казань', 'Калининград', 'Калуга',\n",
       "       'Кемерово', 'Киров', 'Кострома', 'Краснодар', 'Красноярск',\n",
       "       'Курган', 'Курск', 'Липецк', 'Магнитогорск', 'Махачкала', 'Москва',\n",
       "       'Мурманск', 'Набережные Челны', 'Нижневартовск', 'Нижний Новгород',\n",
       "       'Нижний Тагил', 'Новокузнецк', 'Новороссийск', 'Новосибирск',\n",
       "       'Омск', 'Оренбург', 'Орёл', 'Пенза', 'Пермь', 'Петрозаводск',\n",
       "       'Подольск', 'Ростов-на-Дону', 'Рязань', 'Самара',\n",
       "       'Санкт-Петербург', 'Саранск', 'Саратов', 'Севастополь', 'Смоленск',\n",
       "       'Сочи', 'Ставрополь', 'Стерлитамак', 'Сургут', 'Тамбов', 'Тверь',\n",
       "       'Тольятти', 'Томск', 'Тула', 'Тюмень', 'Улан-Удэ', 'Ульяновск',\n",
       "       'Уфа', 'Хабаровск', 'Химки', 'Чебоксары', 'Челябинск', 'Череповец',\n",
       "       'Чита', 'Якутск', 'Ярославль'], dtype=object)"
      ]
     },
     "execution_count": 101,
     "metadata": {},
     "output_type": "execute_result"
    }
   ],
   "source": [
    "users['city'].sort_values().unique()"
   ]
  },
  {
   "cell_type": "code",
   "execution_count": 102,
   "metadata": {},
   "outputs": [],
   "source": [
    "users['reg_date'] = pd.to_datetime(users['reg_date'])"
   ]
  },
  {
   "cell_type": "code",
   "execution_count": 103,
   "metadata": {},
   "outputs": [
    {
     "data": {
      "text/plain": [
       "smart    351\n",
       "ultra    149\n",
       "Name: tariff, dtype: int64"
      ]
     },
     "execution_count": 103,
     "metadata": {},
     "output_type": "execute_result"
    }
   ],
   "source": [
    "users['tariff'].value_counts()"
   ]
  },
  {
   "cell_type": "code",
   "execution_count": 104,
   "metadata": {},
   "outputs": [
    {
     "name": "stdout",
     "output_type": "stream",
     "text": [
      "<class 'pandas.core.frame.DataFrame'>\n",
      "RangeIndex: 500 entries, 0 to 499\n",
      "Data columns (total 8 columns):\n",
      " #   Column      Non-Null Count  Dtype         \n",
      "---  ------      --------------  -----         \n",
      " 0   user_id     500 non-null    int64         \n",
      " 1   age         500 non-null    int64         \n",
      " 2   churn_date  38 non-null     datetime64[ns]\n",
      " 3   city        500 non-null    object        \n",
      " 4   first_name  500 non-null    object        \n",
      " 5   last_name   500 non-null    object        \n",
      " 6   reg_date    500 non-null    datetime64[ns]\n",
      " 7   tariff      500 non-null    object        \n",
      "dtypes: datetime64[ns](2), int64(2), object(4)\n",
      "memory usage: 31.4+ KB\n"
     ]
    }
   ],
   "source": [
    "users.info()"
   ]
  },
  {
   "cell_type": "markdown",
   "metadata": {},
   "source": [
    "#### Вывод."
   ]
  },
  {
   "cell_type": "markdown",
   "metadata": {},
   "source": [
    "Проверили датасет users. Все строки в столбце идентификатор пользователя уникальны. Столбец возраст не имеет выбросы. Столбцы дата подключения и прекращения контракта переведены в тип datetime64. Столбец город проживанию проверен на неправильное написание городов. В столбце тариф только два заданных нам тарифа. Датасет готов для дальнейшего анализа."
   ]
  },
  {
   "cell_type": "markdown",
   "metadata": {},
   "source": [
    "### Датасет calls"
   ]
  },
  {
   "cell_type": "code",
   "execution_count": 105,
   "metadata": {},
   "outputs": [
    {
     "data": {
      "text/plain": [
       "1088_127    1\n",
       "1124_131    1\n",
       "1341_835    1\n",
       "1058_143    1\n",
       "1099_517    1\n",
       "           ..\n",
       "1322_226    1\n",
       "1200_242    1\n",
       "1126_197    1\n",
       "1040_98     1\n",
       "1246_74     1\n",
       "Name: id, Length: 202607, dtype: int64"
      ]
     },
     "execution_count": 105,
     "metadata": {},
     "output_type": "execute_result"
    }
   ],
   "source": [
    "calls['id'].value_counts()"
   ]
  },
  {
   "cell_type": "code",
   "execution_count": 106,
   "metadata": {},
   "outputs": [
    {
     "data": {
      "text/plain": [
       "1377    1760\n",
       "1168    1692\n",
       "1375    1560\n",
       "1453    1440\n",
       "1196    1240\n",
       "        ... \n",
       "1397      33\n",
       "1442      28\n",
       "1373      24\n",
       "1016      20\n",
       "1257      14\n",
       "Name: user_id, Length: 492, dtype: int64"
      ]
     },
     "execution_count": 106,
     "metadata": {},
     "output_type": "execute_result"
    }
   ],
   "source": [
    "calls['user_id'].value_counts()"
   ]
  },
  {
   "cell_type": "code",
   "execution_count": 107,
   "metadata": {},
   "outputs": [
    {
     "data": {
      "text/plain": [
       "count    202607.000000\n",
       "mean          6.755887\n",
       "std           5.843365\n",
       "min           0.000000\n",
       "25%           1.300000\n",
       "50%           6.000000\n",
       "75%          10.700000\n",
       "max          38.000000\n",
       "Name: duration, dtype: float64"
      ]
     },
     "execution_count": 107,
     "metadata": {},
     "output_type": "execute_result"
    }
   ],
   "source": [
    "calls['duration'].describe()"
   ]
  },
  {
   "cell_type": "code",
   "execution_count": 108,
   "metadata": {},
   "outputs": [],
   "source": [
    "calls['duration'] = np.ceil(calls['duration']).astype('Int64')"
   ]
  },
  {
   "cell_type": "code",
   "execution_count": 109,
   "metadata": {},
   "outputs": [],
   "source": [
    "calls['call_date'] = pd.to_datetime(calls['call_date'], format='%Y-%m-%d')\n",
    "calls['month'] = calls['call_date'].dt.month"
   ]
  },
  {
   "cell_type": "code",
   "execution_count": 110,
   "metadata": {},
   "outputs": [
    {
     "name": "stdout",
     "output_type": "stream",
     "text": [
      "<class 'pandas.core.frame.DataFrame'>\n",
      "RangeIndex: 202607 entries, 0 to 202606\n",
      "Data columns (total 5 columns):\n",
      " #   Column     Non-Null Count   Dtype         \n",
      "---  ------     --------------   -----         \n",
      " 0   id         202607 non-null  object        \n",
      " 1   call_date  202607 non-null  datetime64[ns]\n",
      " 2   duration   202607 non-null  Int64         \n",
      " 3   user_id    202607 non-null  int64         \n",
      " 4   month      202607 non-null  int64         \n",
      "dtypes: Int64(1), datetime64[ns](1), int64(2), object(1)\n",
      "memory usage: 7.9+ MB\n"
     ]
    }
   ],
   "source": [
    "calls.info()"
   ]
  },
  {
   "cell_type": "markdown",
   "metadata": {},
   "source": [
    "#### Вывод."
   ]
  },
  {
   "cell_type": "markdown",
   "metadata": {},
   "source": [
    "Проверили датасет calls. Столбец дата звонка переведен в тип datetime64, длительность звонка в целые числа. Столбец id проверен на уникальность. Длительность звонка явных выбросов не имеет.Добавили столбец месяц для дальнейших группировок. В столбце длительность звонка обнаружены нулевые значения, это неотвеченные звонки. На общую сумму израсходованных минут они влиять не будут, только на количество вызовов. 8 пользователей не совершали звонки в указанный период."
   ]
  },
  {
   "cell_type": "markdown",
   "metadata": {},
   "source": [
    "### Датасет messages"
   ]
  },
  {
   "cell_type": "code",
   "execution_count": 111,
   "metadata": {},
   "outputs": [
    {
     "data": {
      "text/plain": [
       "1112_22     1\n",
       "1193_133    1\n",
       "1452_25     1\n",
       "1052_307    1\n",
       "1416_314    1\n",
       "           ..\n",
       "1464_156    1\n",
       "1310_149    1\n",
       "1196_845    1\n",
       "1411_141    1\n",
       "1076_383    1\n",
       "Name: id, Length: 123036, dtype: int64"
      ]
     },
     "execution_count": 111,
     "metadata": {},
     "output_type": "execute_result"
    }
   ],
   "source": [
    "messages['id'].value_counts()"
   ]
  },
  {
   "cell_type": "code",
   "execution_count": 112,
   "metadata": {},
   "outputs": [
    {
     "data": {
      "text/plain": [
       "1277    1463\n",
       "1089    1408\n",
       "1231    1384\n",
       "1385    1380\n",
       "1356    1224\n",
       "        ... \n",
       "1111       6\n",
       "1279       5\n",
       "1074       3\n",
       "1159       2\n",
       "1141       1\n",
       "Name: user_id, Length: 426, dtype: int64"
      ]
     },
     "execution_count": 112,
     "metadata": {},
     "output_type": "execute_result"
    }
   ],
   "source": [
    "messages['user_id'].value_counts()"
   ]
  },
  {
   "cell_type": "code",
   "execution_count": 113,
   "metadata": {},
   "outputs": [],
   "source": [
    "messages['message_date'] = pd.to_datetime(messages['message_date'], format='%Y-%m-%d')\n",
    "messages['month'] = messages['message_date'].dt.month"
   ]
  },
  {
   "cell_type": "code",
   "execution_count": 114,
   "metadata": {},
   "outputs": [
    {
     "name": "stdout",
     "output_type": "stream",
     "text": [
      "<class 'pandas.core.frame.DataFrame'>\n",
      "RangeIndex: 123036 entries, 0 to 123035\n",
      "Data columns (total 4 columns):\n",
      " #   Column        Non-Null Count   Dtype         \n",
      "---  ------        --------------   -----         \n",
      " 0   id            123036 non-null  object        \n",
      " 1   message_date  123036 non-null  datetime64[ns]\n",
      " 2   user_id       123036 non-null  int64         \n",
      " 3   month         123036 non-null  int64         \n",
      "dtypes: datetime64[ns](1), int64(2), object(1)\n",
      "memory usage: 3.8+ MB\n"
     ]
    }
   ],
   "source": [
    "messages.info()"
   ]
  },
  {
   "cell_type": "markdown",
   "metadata": {},
   "source": [
    "#### Вывод."
   ]
  },
  {
   "cell_type": "markdown",
   "metadata": {},
   "source": [
    "Пропущенных значений нет, id все уникальны.Столбец дата сообщения переведен в тип datetime64. Добавлен столбец месяц для дальнейшего анализа. 74 пользователя не отправляли сообщений за указанный период."
   ]
  },
  {
   "cell_type": "markdown",
   "metadata": {},
   "source": [
    "### Датасет internet"
   ]
  },
  {
   "cell_type": "code",
   "execution_count": 115,
   "metadata": {},
   "outputs": [
    {
     "data": {
      "text/plain": [
       "1191_46     1\n",
       "1113_337    1\n",
       "1401_376    1\n",
       "1369_70     1\n",
       "1282_68     1\n",
       "           ..\n",
       "1073_42     1\n",
       "1276_59     1\n",
       "1480_220    1\n",
       "1423_262    1\n",
       "1246_74     1\n",
       "Name: id, Length: 149396, dtype: int64"
      ]
     },
     "execution_count": 115,
     "metadata": {},
     "output_type": "execute_result"
    }
   ],
   "source": [
    "internet['id'].value_counts()"
   ]
  },
  {
   "cell_type": "code",
   "execution_count": 116,
   "metadata": {},
   "outputs": [
    {
     "data": {
      "text/plain": [
       "1496    834\n",
       "1227    812\n",
       "1204    789\n",
       "1240    764\n",
       "1251    759\n",
       "       ... \n",
       "1151     35\n",
       "1467     27\n",
       "1343     26\n",
       "1192     22\n",
       "1399      8\n",
       "Name: user_id, Length: 497, dtype: int64"
      ]
     },
     "execution_count": 116,
     "metadata": {},
     "output_type": "execute_result"
    }
   ],
   "source": [
    "internet['user_id'].value_counts()"
   ]
  },
  {
   "cell_type": "code",
   "execution_count": 117,
   "metadata": {},
   "outputs": [
    {
     "name": "stdout",
     "output_type": "stream",
     "text": [
      "[1128, 1273, 1371]\n"
     ]
    }
   ],
   "source": [
    "not_internet_id = []\n",
    "for i in users['user_id']:\n",
    "    if i not in internet['user_id'].unique(): \n",
    "        not_internet_id.append(i) \n",
    "print(not_internet_id)"
   ]
  },
  {
   "cell_type": "code",
   "execution_count": 118,
   "metadata": {},
   "outputs": [],
   "source": [
    "internet['session_date'] = pd.to_datetime(internet['session_date'], format='%Y-%m-%d')\n",
    "internet['month'] = internet['session_date'].dt.month"
   ]
  },
  {
   "cell_type": "code",
   "execution_count": 119,
   "metadata": {},
   "outputs": [],
   "source": [
    "internet.drop('Unnamed: 0', axis=1, inplace=True)"
   ]
  },
  {
   "cell_type": "code",
   "execution_count": 120,
   "metadata": {},
   "outputs": [
    {
     "data": {
      "text/plain": [
       "count    149396.000000\n",
       "mean        370.192426\n",
       "std         278.300951\n",
       "min           0.000000\n",
       "25%         138.187500\n",
       "50%         348.015000\n",
       "75%         559.552500\n",
       "max        1724.830000\n",
       "Name: mb_used, dtype: float64"
      ]
     },
     "execution_count": 120,
     "metadata": {},
     "output_type": "execute_result"
    }
   ],
   "source": [
    "internet['mb_used'].describe()"
   ]
  },
  {
   "cell_type": "code",
   "execution_count": 121,
   "metadata": {},
   "outputs": [],
   "source": [
    "internet['mb_used'] = np.ceil(internet['mb_used']).astype('Int64')"
   ]
  },
  {
   "cell_type": "code",
   "execution_count": 122,
   "metadata": {},
   "outputs": [
    {
     "data": {
      "text/html": [
       "<div>\n",
       "<style scoped>\n",
       "    .dataframe tbody tr th:only-of-type {\n",
       "        vertical-align: middle;\n",
       "    }\n",
       "\n",
       "    .dataframe tbody tr th {\n",
       "        vertical-align: top;\n",
       "    }\n",
       "\n",
       "    .dataframe thead th {\n",
       "        text-align: right;\n",
       "    }\n",
       "</style>\n",
       "<table border=\"1\" class=\"dataframe\">\n",
       "  <thead>\n",
       "    <tr style=\"text-align: right;\">\n",
       "      <th></th>\n",
       "      <th>id</th>\n",
       "      <th>mb_used</th>\n",
       "      <th>session_date</th>\n",
       "      <th>user_id</th>\n",
       "      <th>month</th>\n",
       "    </tr>\n",
       "  </thead>\n",
       "  <tbody>\n",
       "    <tr>\n",
       "      <th>0</th>\n",
       "      <td>1000_0</td>\n",
       "      <td>113</td>\n",
       "      <td>2018-11-25</td>\n",
       "      <td>1000</td>\n",
       "      <td>11</td>\n",
       "    </tr>\n",
       "    <tr>\n",
       "      <th>1</th>\n",
       "      <td>1000_1</td>\n",
       "      <td>1053</td>\n",
       "      <td>2018-09-07</td>\n",
       "      <td>1000</td>\n",
       "      <td>9</td>\n",
       "    </tr>\n",
       "    <tr>\n",
       "      <th>2</th>\n",
       "      <td>1000_2</td>\n",
       "      <td>1198</td>\n",
       "      <td>2018-06-25</td>\n",
       "      <td>1000</td>\n",
       "      <td>6</td>\n",
       "    </tr>\n",
       "    <tr>\n",
       "      <th>3</th>\n",
       "      <td>1000_3</td>\n",
       "      <td>551</td>\n",
       "      <td>2018-08-22</td>\n",
       "      <td>1000</td>\n",
       "      <td>8</td>\n",
       "    </tr>\n",
       "    <tr>\n",
       "      <th>4</th>\n",
       "      <td>1000_4</td>\n",
       "      <td>303</td>\n",
       "      <td>2018-09-24</td>\n",
       "      <td>1000</td>\n",
       "      <td>9</td>\n",
       "    </tr>\n",
       "  </tbody>\n",
       "</table>\n",
       "</div>"
      ],
      "text/plain": [
       "       id  mb_used session_date  user_id  month\n",
       "0  1000_0      113   2018-11-25     1000     11\n",
       "1  1000_1     1053   2018-09-07     1000      9\n",
       "2  1000_2     1198   2018-06-25     1000      6\n",
       "3  1000_3      551   2018-08-22     1000      8\n",
       "4  1000_4      303   2018-09-24     1000      9"
      ]
     },
     "execution_count": 122,
     "metadata": {},
     "output_type": "execute_result"
    }
   ],
   "source": [
    "internet.head()"
   ]
  },
  {
   "cell_type": "markdown",
   "metadata": {},
   "source": [
    "#### Вывод."
   ]
  },
  {
   "cell_type": "markdown",
   "metadata": {},
   "source": [
    "Пропущенных значений нет, id все уникальны.Столбец дата интернет-сесссии переведен в тип datetime64. Добавлен столбец месяц для дальнейшего анализа. Cтолбец объем потраченного трафика в мегабайтах округлен до целого числа поменен тип на целочисленный. Удален неизвестный столбец. 3 пользователя не использовали интернет в указанном периоде, нашли их id. "
   ]
  },
  {
   "cell_type": "markdown",
   "metadata": {},
   "source": [
    "### Вывод."
   ]
  },
  {
   "cell_type": "markdown",
   "metadata": {},
   "source": [
    "Все датасеты проверены на уникальность, пропуски и корректность данных. Проведены необходимые корректировки и изменения типов данных. Пропусков в таблицах нет, кроме необходимых. Есть нулевые значения в датасетах: звонков не совершали 8 абонентов, 74 абонента не писали сообщения и 3 абонента не пользовались интернетом. Абоненты не совершающие звонки могут пользоваться интернетом, сим карту можно использовать и как роутер и для различных умных устройств. Отсутствие сообщений тоже скорее всего связано с использование месенджеров, сейчас люди больше пользуются интрнетом, чем будут писать смс. А вот 3 абонента не пользующиеся интернетом уже более подозрительно. На всякий случай нашли их id, если понадобится для дальнейшей проверки. Возможно они подключилисьв в конце года, и еще не успели воспользоваться сим картами. Датасеты подготовлены для дальнейшего анализа."
   ]
  },
  {
   "cell_type": "markdown",
   "metadata": {},
   "source": [
    "## Расчёт показателей для каждого абонента"
   ]
  },
  {
   "cell_type": "markdown",
   "metadata": {},
   "source": [
    "### Количество сделанных звонков и израсходованных минут разговора по месяцам"
   ]
  },
  {
   "cell_type": "code",
   "execution_count": 123,
   "metadata": {},
   "outputs": [],
   "source": [
    "ab_calls = calls.groupby(['user_id', 'month'])['duration'].agg(['count','sum']).reset_index()\n",
    "ab_calls.columns = ['user_id', 'month', 'calls', 'min']"
   ]
  },
  {
   "cell_type": "code",
   "execution_count": 124,
   "metadata": {},
   "outputs": [
    {
     "data": {
      "text/html": [
       "<div>\n",
       "<style scoped>\n",
       "    .dataframe tbody tr th:only-of-type {\n",
       "        vertical-align: middle;\n",
       "    }\n",
       "\n",
       "    .dataframe tbody tr th {\n",
       "        vertical-align: top;\n",
       "    }\n",
       "\n",
       "    .dataframe thead th {\n",
       "        text-align: right;\n",
       "    }\n",
       "</style>\n",
       "<table border=\"1\" class=\"dataframe\">\n",
       "  <thead>\n",
       "    <tr style=\"text-align: right;\">\n",
       "      <th></th>\n",
       "      <th>user_id</th>\n",
       "      <th>month</th>\n",
       "      <th>calls</th>\n",
       "      <th>min</th>\n",
       "    </tr>\n",
       "  </thead>\n",
       "  <tbody>\n",
       "    <tr>\n",
       "      <th>0</th>\n",
       "      <td>1000</td>\n",
       "      <td>5</td>\n",
       "      <td>22</td>\n",
       "      <td>159</td>\n",
       "    </tr>\n",
       "    <tr>\n",
       "      <th>1</th>\n",
       "      <td>1000</td>\n",
       "      <td>6</td>\n",
       "      <td>43</td>\n",
       "      <td>172</td>\n",
       "    </tr>\n",
       "    <tr>\n",
       "      <th>2</th>\n",
       "      <td>1000</td>\n",
       "      <td>7</td>\n",
       "      <td>47</td>\n",
       "      <td>340</td>\n",
       "    </tr>\n",
       "    <tr>\n",
       "      <th>3</th>\n",
       "      <td>1000</td>\n",
       "      <td>8</td>\n",
       "      <td>52</td>\n",
       "      <td>408</td>\n",
       "    </tr>\n",
       "    <tr>\n",
       "      <th>4</th>\n",
       "      <td>1000</td>\n",
       "      <td>9</td>\n",
       "      <td>58</td>\n",
       "      <td>466</td>\n",
       "    </tr>\n",
       "    <tr>\n",
       "      <th>5</th>\n",
       "      <td>1000</td>\n",
       "      <td>10</td>\n",
       "      <td>57</td>\n",
       "      <td>350</td>\n",
       "    </tr>\n",
       "    <tr>\n",
       "      <th>6</th>\n",
       "      <td>1000</td>\n",
       "      <td>11</td>\n",
       "      <td>43</td>\n",
       "      <td>338</td>\n",
       "    </tr>\n",
       "    <tr>\n",
       "      <th>7</th>\n",
       "      <td>1000</td>\n",
       "      <td>12</td>\n",
       "      <td>46</td>\n",
       "      <td>333</td>\n",
       "    </tr>\n",
       "    <tr>\n",
       "      <th>8</th>\n",
       "      <td>1001</td>\n",
       "      <td>11</td>\n",
       "      <td>59</td>\n",
       "      <td>430</td>\n",
       "    </tr>\n",
       "    <tr>\n",
       "      <th>9</th>\n",
       "      <td>1001</td>\n",
       "      <td>12</td>\n",
       "      <td>63</td>\n",
       "      <td>414</td>\n",
       "    </tr>\n",
       "  </tbody>\n",
       "</table>\n",
       "</div>"
      ],
      "text/plain": [
       "   user_id  month  calls  min\n",
       "0     1000      5     22  159\n",
       "1     1000      6     43  172\n",
       "2     1000      7     47  340\n",
       "3     1000      8     52  408\n",
       "4     1000      9     58  466\n",
       "5     1000     10     57  350\n",
       "6     1000     11     43  338\n",
       "7     1000     12     46  333\n",
       "8     1001     11     59  430\n",
       "9     1001     12     63  414"
      ]
     },
     "execution_count": 124,
     "metadata": {},
     "output_type": "execute_result"
    }
   ],
   "source": [
    "ab_calls.head(10)"
   ]
  },
  {
   "cell_type": "markdown",
   "metadata": {},
   "source": [
    "#### Вывод"
   ]
  },
  {
   "cell_type": "markdown",
   "metadata": {},
   "source": [
    "Сделали новую таблицу с расчетом количества звонков и количества израсходованных минут по каждому месяцу для каждого абонента."
   ]
  },
  {
   "cell_type": "markdown",
   "metadata": {},
   "source": [
    "### Количество отправленных сообщений по месяцам"
   ]
  },
  {
   "cell_type": "code",
   "execution_count": 125,
   "metadata": {},
   "outputs": [],
   "source": [
    "ab_messages = messages.groupby(['user_id', 'month'])['id'].count().reset_index()\n",
    "ab_messages.columns = ['user_id', 'month', 'mes']"
   ]
  },
  {
   "cell_type": "code",
   "execution_count": 126,
   "metadata": {},
   "outputs": [
    {
     "data": {
      "text/html": [
       "<div>\n",
       "<style scoped>\n",
       "    .dataframe tbody tr th:only-of-type {\n",
       "        vertical-align: middle;\n",
       "    }\n",
       "\n",
       "    .dataframe tbody tr th {\n",
       "        vertical-align: top;\n",
       "    }\n",
       "\n",
       "    .dataframe thead th {\n",
       "        text-align: right;\n",
       "    }\n",
       "</style>\n",
       "<table border=\"1\" class=\"dataframe\">\n",
       "  <thead>\n",
       "    <tr style=\"text-align: right;\">\n",
       "      <th></th>\n",
       "      <th>user_id</th>\n",
       "      <th>month</th>\n",
       "      <th>mes</th>\n",
       "    </tr>\n",
       "  </thead>\n",
       "  <tbody>\n",
       "    <tr>\n",
       "      <th>0</th>\n",
       "      <td>1000</td>\n",
       "      <td>5</td>\n",
       "      <td>22</td>\n",
       "    </tr>\n",
       "    <tr>\n",
       "      <th>1</th>\n",
       "      <td>1000</td>\n",
       "      <td>6</td>\n",
       "      <td>60</td>\n",
       "    </tr>\n",
       "    <tr>\n",
       "      <th>2</th>\n",
       "      <td>1000</td>\n",
       "      <td>7</td>\n",
       "      <td>75</td>\n",
       "    </tr>\n",
       "    <tr>\n",
       "      <th>3</th>\n",
       "      <td>1000</td>\n",
       "      <td>8</td>\n",
       "      <td>81</td>\n",
       "    </tr>\n",
       "    <tr>\n",
       "      <th>4</th>\n",
       "      <td>1000</td>\n",
       "      <td>9</td>\n",
       "      <td>57</td>\n",
       "    </tr>\n",
       "    <tr>\n",
       "      <th>5</th>\n",
       "      <td>1000</td>\n",
       "      <td>10</td>\n",
       "      <td>73</td>\n",
       "    </tr>\n",
       "    <tr>\n",
       "      <th>6</th>\n",
       "      <td>1000</td>\n",
       "      <td>11</td>\n",
       "      <td>58</td>\n",
       "    </tr>\n",
       "    <tr>\n",
       "      <th>7</th>\n",
       "      <td>1000</td>\n",
       "      <td>12</td>\n",
       "      <td>70</td>\n",
       "    </tr>\n",
       "    <tr>\n",
       "      <th>8</th>\n",
       "      <td>1002</td>\n",
       "      <td>6</td>\n",
       "      <td>4</td>\n",
       "    </tr>\n",
       "    <tr>\n",
       "      <th>9</th>\n",
       "      <td>1002</td>\n",
       "      <td>7</td>\n",
       "      <td>11</td>\n",
       "    </tr>\n",
       "  </tbody>\n",
       "</table>\n",
       "</div>"
      ],
      "text/plain": [
       "   user_id  month  mes\n",
       "0     1000      5   22\n",
       "1     1000      6   60\n",
       "2     1000      7   75\n",
       "3     1000      8   81\n",
       "4     1000      9   57\n",
       "5     1000     10   73\n",
       "6     1000     11   58\n",
       "7     1000     12   70\n",
       "8     1002      6    4\n",
       "9     1002      7   11"
      ]
     },
     "execution_count": 126,
     "metadata": {},
     "output_type": "execute_result"
    }
   ],
   "source": [
    "ab_messages.head(10)"
   ]
  },
  {
   "cell_type": "markdown",
   "metadata": {},
   "source": [
    "#### Вывод"
   ]
  },
  {
   "cell_type": "markdown",
   "metadata": {},
   "source": [
    "Сделали новую таблицу с посчитанным количеством сообщений по каждому месяцу для каждого абонента."
   ]
  },
  {
   "cell_type": "markdown",
   "metadata": {},
   "source": [
    "### Объем израсходованного интернет - трафика по месяцам"
   ]
  },
  {
   "cell_type": "code",
   "execution_count": 127,
   "metadata": {},
   "outputs": [],
   "source": [
    "ab_internet = internet.groupby(['user_id', 'month'])['mb_used'].sum().reset_index()\n",
    "ab_internet.columns = ['user_id', 'month', 'mb']"
   ]
  },
  {
   "cell_type": "code",
   "execution_count": 128,
   "metadata": {},
   "outputs": [
    {
     "data": {
      "text/html": [
       "<div>\n",
       "<style scoped>\n",
       "    .dataframe tbody tr th:only-of-type {\n",
       "        vertical-align: middle;\n",
       "    }\n",
       "\n",
       "    .dataframe tbody tr th {\n",
       "        vertical-align: top;\n",
       "    }\n",
       "\n",
       "    .dataframe thead th {\n",
       "        text-align: right;\n",
       "    }\n",
       "</style>\n",
       "<table border=\"1\" class=\"dataframe\">\n",
       "  <thead>\n",
       "    <tr style=\"text-align: right;\">\n",
       "      <th></th>\n",
       "      <th>user_id</th>\n",
       "      <th>month</th>\n",
       "      <th>mb</th>\n",
       "    </tr>\n",
       "  </thead>\n",
       "  <tbody>\n",
       "    <tr>\n",
       "      <th>0</th>\n",
       "      <td>1000</td>\n",
       "      <td>5</td>\n",
       "      <td>2256</td>\n",
       "    </tr>\n",
       "    <tr>\n",
       "      <th>1</th>\n",
       "      <td>1000</td>\n",
       "      <td>6</td>\n",
       "      <td>23257</td>\n",
       "    </tr>\n",
       "    <tr>\n",
       "      <th>2</th>\n",
       "      <td>1000</td>\n",
       "      <td>7</td>\n",
       "      <td>14016</td>\n",
       "    </tr>\n",
       "    <tr>\n",
       "      <th>3</th>\n",
       "      <td>1000</td>\n",
       "      <td>8</td>\n",
       "      <td>14070</td>\n",
       "    </tr>\n",
       "    <tr>\n",
       "      <th>4</th>\n",
       "      <td>1000</td>\n",
       "      <td>9</td>\n",
       "      <td>14581</td>\n",
       "    </tr>\n",
       "    <tr>\n",
       "      <th>5</th>\n",
       "      <td>1000</td>\n",
       "      <td>10</td>\n",
       "      <td>14717</td>\n",
       "    </tr>\n",
       "    <tr>\n",
       "      <th>6</th>\n",
       "      <td>1000</td>\n",
       "      <td>11</td>\n",
       "      <td>14768</td>\n",
       "    </tr>\n",
       "    <tr>\n",
       "      <th>7</th>\n",
       "      <td>1000</td>\n",
       "      <td>12</td>\n",
       "      <td>9827</td>\n",
       "    </tr>\n",
       "    <tr>\n",
       "      <th>8</th>\n",
       "      <td>1001</td>\n",
       "      <td>11</td>\n",
       "      <td>18452</td>\n",
       "    </tr>\n",
       "    <tr>\n",
       "      <th>9</th>\n",
       "      <td>1001</td>\n",
       "      <td>12</td>\n",
       "      <td>14053</td>\n",
       "    </tr>\n",
       "  </tbody>\n",
       "</table>\n",
       "</div>"
      ],
      "text/plain": [
       "   user_id  month     mb\n",
       "0     1000      5   2256\n",
       "1     1000      6  23257\n",
       "2     1000      7  14016\n",
       "3     1000      8  14070\n",
       "4     1000      9  14581\n",
       "5     1000     10  14717\n",
       "6     1000     11  14768\n",
       "7     1000     12   9827\n",
       "8     1001     11  18452\n",
       "9     1001     12  14053"
      ]
     },
     "execution_count": 128,
     "metadata": {},
     "output_type": "execute_result"
    }
   ],
   "source": [
    "ab_internet.head(10)"
   ]
  },
  {
   "cell_type": "markdown",
   "metadata": {},
   "source": [
    "#### Вывод"
   ]
  },
  {
   "cell_type": "markdown",
   "metadata": {},
   "source": [
    "Сделали таблицу с посчитанным интернет трафиком в мегабайтах по каждому месяцу для каждого абонента."
   ]
  },
  {
   "cell_type": "markdown",
   "metadata": {},
   "source": [
    "### Помесячная выручка с каждого пользователя"
   ]
  },
  {
   "cell_type": "markdown",
   "metadata": {},
   "source": [
    "Для того чтобы посчитать помесячную выручку нужно создать объединенную таблицу по всем пользователем и их расходом по месяцам минут, сообщений и интренет трафика."
   ]
  },
  {
   "cell_type": "code",
   "execution_count": 129,
   "metadata": {},
   "outputs": [
    {
     "data": {
      "text/html": [
       "<div>\n",
       "<style scoped>\n",
       "    .dataframe tbody tr th:only-of-type {\n",
       "        vertical-align: middle;\n",
       "    }\n",
       "\n",
       "    .dataframe tbody tr th {\n",
       "        vertical-align: top;\n",
       "    }\n",
       "\n",
       "    .dataframe thead th {\n",
       "        text-align: right;\n",
       "    }\n",
       "</style>\n",
       "<table border=\"1\" class=\"dataframe\">\n",
       "  <thead>\n",
       "    <tr style=\"text-align: right;\">\n",
       "      <th></th>\n",
       "      <th>user_id</th>\n",
       "      <th>month</th>\n",
       "      <th>calls</th>\n",
       "      <th>min</th>\n",
       "      <th>mes</th>\n",
       "      <th>mb</th>\n",
       "      <th>city</th>\n",
       "      <th>tariff</th>\n",
       "    </tr>\n",
       "  </thead>\n",
       "  <tbody>\n",
       "    <tr>\n",
       "      <th>0</th>\n",
       "      <td>1000</td>\n",
       "      <td>5.0</td>\n",
       "      <td>22.0</td>\n",
       "      <td>159</td>\n",
       "      <td>22.0</td>\n",
       "      <td>2256</td>\n",
       "      <td>Краснодар</td>\n",
       "      <td>ultra</td>\n",
       "    </tr>\n",
       "    <tr>\n",
       "      <th>1</th>\n",
       "      <td>1000</td>\n",
       "      <td>6.0</td>\n",
       "      <td>43.0</td>\n",
       "      <td>172</td>\n",
       "      <td>60.0</td>\n",
       "      <td>23257</td>\n",
       "      <td>Краснодар</td>\n",
       "      <td>ultra</td>\n",
       "    </tr>\n",
       "    <tr>\n",
       "      <th>2</th>\n",
       "      <td>1000</td>\n",
       "      <td>7.0</td>\n",
       "      <td>47.0</td>\n",
       "      <td>340</td>\n",
       "      <td>75.0</td>\n",
       "      <td>14016</td>\n",
       "      <td>Краснодар</td>\n",
       "      <td>ultra</td>\n",
       "    </tr>\n",
       "    <tr>\n",
       "      <th>3</th>\n",
       "      <td>1000</td>\n",
       "      <td>8.0</td>\n",
       "      <td>52.0</td>\n",
       "      <td>408</td>\n",
       "      <td>81.0</td>\n",
       "      <td>14070</td>\n",
       "      <td>Краснодар</td>\n",
       "      <td>ultra</td>\n",
       "    </tr>\n",
       "    <tr>\n",
       "      <th>4</th>\n",
       "      <td>1000</td>\n",
       "      <td>9.0</td>\n",
       "      <td>58.0</td>\n",
       "      <td>466</td>\n",
       "      <td>57.0</td>\n",
       "      <td>14581</td>\n",
       "      <td>Краснодар</td>\n",
       "      <td>ultra</td>\n",
       "    </tr>\n",
       "    <tr>\n",
       "      <th>...</th>\n",
       "      <td>...</td>\n",
       "      <td>...</td>\n",
       "      <td>...</td>\n",
       "      <td>...</td>\n",
       "      <td>...</td>\n",
       "      <td>...</td>\n",
       "      <td>...</td>\n",
       "      <td>...</td>\n",
       "    </tr>\n",
       "    <tr>\n",
       "      <th>3211</th>\n",
       "      <td>1489</td>\n",
       "      <td>10.0</td>\n",
       "      <td>NaN</td>\n",
       "      <td>&lt;NA&gt;</td>\n",
       "      <td>21.0</td>\n",
       "      <td>19588</td>\n",
       "      <td>Санкт-Петербург</td>\n",
       "      <td>smart</td>\n",
       "    </tr>\n",
       "    <tr>\n",
       "      <th>3212</th>\n",
       "      <td>1489</td>\n",
       "      <td>11.0</td>\n",
       "      <td>NaN</td>\n",
       "      <td>&lt;NA&gt;</td>\n",
       "      <td>20.0</td>\n",
       "      <td>17516</td>\n",
       "      <td>Санкт-Петербург</td>\n",
       "      <td>smart</td>\n",
       "    </tr>\n",
       "    <tr>\n",
       "      <th>3213</th>\n",
       "      <td>1489</td>\n",
       "      <td>12.0</td>\n",
       "      <td>NaN</td>\n",
       "      <td>&lt;NA&gt;</td>\n",
       "      <td>35.0</td>\n",
       "      <td>17341</td>\n",
       "      <td>Санкт-Петербург</td>\n",
       "      <td>smart</td>\n",
       "    </tr>\n",
       "    <tr>\n",
       "      <th>3214</th>\n",
       "      <td>1128</td>\n",
       "      <td>NaN</td>\n",
       "      <td>NaN</td>\n",
       "      <td>&lt;NA&gt;</td>\n",
       "      <td>NaN</td>\n",
       "      <td>&lt;NA&gt;</td>\n",
       "      <td>Волжский</td>\n",
       "      <td>ultra</td>\n",
       "    </tr>\n",
       "    <tr>\n",
       "      <th>3215</th>\n",
       "      <td>1371</td>\n",
       "      <td>NaN</td>\n",
       "      <td>NaN</td>\n",
       "      <td>&lt;NA&gt;</td>\n",
       "      <td>NaN</td>\n",
       "      <td>&lt;NA&gt;</td>\n",
       "      <td>Омск</td>\n",
       "      <td>smart</td>\n",
       "    </tr>\n",
       "  </tbody>\n",
       "</table>\n",
       "<p>3216 rows × 8 columns</p>\n",
       "</div>"
      ],
      "text/plain": [
       "      user_id  month  calls   min   mes     mb             city tariff\n",
       "0        1000    5.0   22.0   159  22.0   2256        Краснодар  ultra\n",
       "1        1000    6.0   43.0   172  60.0  23257        Краснодар  ultra\n",
       "2        1000    7.0   47.0   340  75.0  14016        Краснодар  ultra\n",
       "3        1000    8.0   52.0   408  81.0  14070        Краснодар  ultra\n",
       "4        1000    9.0   58.0   466  57.0  14581        Краснодар  ultra\n",
       "...       ...    ...    ...   ...   ...    ...              ...    ...\n",
       "3211     1489   10.0    NaN  <NA>  21.0  19588  Санкт-Петербург  smart\n",
       "3212     1489   11.0    NaN  <NA>  20.0  17516  Санкт-Петербург  smart\n",
       "3213     1489   12.0    NaN  <NA>  35.0  17341  Санкт-Петербург  smart\n",
       "3214     1128    NaN    NaN  <NA>   NaN   <NA>         Волжский  ultra\n",
       "3215     1371    NaN    NaN  <NA>   NaN   <NA>             Омск  smart\n",
       "\n",
       "[3216 rows x 8 columns]"
      ]
     },
     "execution_count": 129,
     "metadata": {},
     "output_type": "execute_result"
    }
   ],
   "source": [
    "all_abonents = users.loc[:,['user_id', 'city', 'tariff']]\n",
    "abonents = pd.merge(ab_calls, ab_messages, how='outer', on=['user_id', 'month']) \n",
    "abonents = pd.merge(abonents, ab_internet, how='outer', on=['user_id', 'month']) \n",
    "abonents = pd.merge(abonents, all_abonents, how='outer', on=['user_id'])\n",
    "abonents"
   ]
  },
  {
   "cell_type": "code",
   "execution_count": 130,
   "metadata": {},
   "outputs": [
    {
     "data": {
      "text/plain": [
       "user_id      0\n",
       "month        2\n",
       "calls       42\n",
       "min         42\n",
       "mes        499\n",
       "mb          13\n",
       "city         0\n",
       "tariff       0\n",
       "dtype: int64"
      ]
     },
     "execution_count": 130,
     "metadata": {},
     "output_type": "execute_result"
    }
   ],
   "source": [
    "abonents.isna().sum()"
   ]
  },
  {
   "cell_type": "code",
   "execution_count": 131,
   "metadata": {},
   "outputs": [
    {
     "data": {
      "text/html": [
       "<div>\n",
       "<style scoped>\n",
       "    .dataframe tbody tr th:only-of-type {\n",
       "        vertical-align: middle;\n",
       "    }\n",
       "\n",
       "    .dataframe tbody tr th {\n",
       "        vertical-align: top;\n",
       "    }\n",
       "\n",
       "    .dataframe thead th {\n",
       "        text-align: right;\n",
       "    }\n",
       "</style>\n",
       "<table border=\"1\" class=\"dataframe\">\n",
       "  <thead>\n",
       "    <tr style=\"text-align: right;\">\n",
       "      <th></th>\n",
       "      <th>user_id</th>\n",
       "      <th>month</th>\n",
       "      <th>calls</th>\n",
       "      <th>min</th>\n",
       "      <th>mes</th>\n",
       "      <th>mb</th>\n",
       "      <th>city</th>\n",
       "      <th>tariff</th>\n",
       "    </tr>\n",
       "  </thead>\n",
       "  <tbody>\n",
       "    <tr>\n",
       "      <th>3214</th>\n",
       "      <td>1128</td>\n",
       "      <td>NaN</td>\n",
       "      <td>NaN</td>\n",
       "      <td>&lt;NA&gt;</td>\n",
       "      <td>NaN</td>\n",
       "      <td>&lt;NA&gt;</td>\n",
       "      <td>Волжский</td>\n",
       "      <td>ultra</td>\n",
       "    </tr>\n",
       "    <tr>\n",
       "      <th>3215</th>\n",
       "      <td>1371</td>\n",
       "      <td>NaN</td>\n",
       "      <td>NaN</td>\n",
       "      <td>&lt;NA&gt;</td>\n",
       "      <td>NaN</td>\n",
       "      <td>&lt;NA&gt;</td>\n",
       "      <td>Омск</td>\n",
       "      <td>smart</td>\n",
       "    </tr>\n",
       "  </tbody>\n",
       "</table>\n",
       "</div>"
      ],
      "text/plain": [
       "      user_id  month  calls   min  mes    mb      city tariff\n",
       "3214     1128    NaN    NaN  <NA>  NaN  <NA>  Волжский  ultra\n",
       "3215     1371    NaN    NaN  <NA>  NaN  <NA>      Омск  smart"
      ]
     },
     "execution_count": 131,
     "metadata": {},
     "output_type": "execute_result"
    }
   ],
   "source": [
    "abonents[abonents['month'].isna()]"
   ]
  },
  {
   "cell_type": "code",
   "execution_count": 132,
   "metadata": {},
   "outputs": [
    {
     "data": {
      "text/html": [
       "<div>\n",
       "<style scoped>\n",
       "    .dataframe tbody tr th:only-of-type {\n",
       "        vertical-align: middle;\n",
       "    }\n",
       "\n",
       "    .dataframe tbody tr th {\n",
       "        vertical-align: top;\n",
       "    }\n",
       "\n",
       "    .dataframe thead th {\n",
       "        text-align: right;\n",
       "    }\n",
       "</style>\n",
       "<table border=\"1\" class=\"dataframe\">\n",
       "  <thead>\n",
       "    <tr style=\"text-align: right;\">\n",
       "      <th></th>\n",
       "      <th>user_id</th>\n",
       "      <th>age</th>\n",
       "      <th>churn_date</th>\n",
       "      <th>city</th>\n",
       "      <th>first_name</th>\n",
       "      <th>last_name</th>\n",
       "      <th>reg_date</th>\n",
       "      <th>tariff</th>\n",
       "    </tr>\n",
       "  </thead>\n",
       "  <tbody>\n",
       "    <tr>\n",
       "      <th>128</th>\n",
       "      <td>1128</td>\n",
       "      <td>51</td>\n",
       "      <td>2018-12-23</td>\n",
       "      <td>Волжский</td>\n",
       "      <td>Ксения</td>\n",
       "      <td>Агаева</td>\n",
       "      <td>2018-12-15</td>\n",
       "      <td>ultra</td>\n",
       "    </tr>\n",
       "  </tbody>\n",
       "</table>\n",
       "</div>"
      ],
      "text/plain": [
       "     user_id  age churn_date      city first_name last_name   reg_date tariff\n",
       "128     1128   51 2018-12-23  Волжский     Ксения    Агаева 2018-12-15  ultra"
      ]
     },
     "execution_count": 132,
     "metadata": {},
     "output_type": "execute_result"
    }
   ],
   "source": [
    "users.loc[users['user_id']==1128]"
   ]
  },
  {
   "cell_type": "code",
   "execution_count": 133,
   "metadata": {},
   "outputs": [
    {
     "data": {
      "text/html": [
       "<div>\n",
       "<style scoped>\n",
       "    .dataframe tbody tr th:only-of-type {\n",
       "        vertical-align: middle;\n",
       "    }\n",
       "\n",
       "    .dataframe tbody tr th {\n",
       "        vertical-align: top;\n",
       "    }\n",
       "\n",
       "    .dataframe thead th {\n",
       "        text-align: right;\n",
       "    }\n",
       "</style>\n",
       "<table border=\"1\" class=\"dataframe\">\n",
       "  <thead>\n",
       "    <tr style=\"text-align: right;\">\n",
       "      <th></th>\n",
       "      <th>user_id</th>\n",
       "      <th>age</th>\n",
       "      <th>churn_date</th>\n",
       "      <th>city</th>\n",
       "      <th>first_name</th>\n",
       "      <th>last_name</th>\n",
       "      <th>reg_date</th>\n",
       "      <th>tariff</th>\n",
       "    </tr>\n",
       "  </thead>\n",
       "  <tbody>\n",
       "    <tr>\n",
       "      <th>371</th>\n",
       "      <td>1371</td>\n",
       "      <td>50</td>\n",
       "      <td>2018-12-30</td>\n",
       "      <td>Омск</td>\n",
       "      <td>Ириней</td>\n",
       "      <td>Трофимов</td>\n",
       "      <td>2018-12-25</td>\n",
       "      <td>smart</td>\n",
       "    </tr>\n",
       "  </tbody>\n",
       "</table>\n",
       "</div>"
      ],
      "text/plain": [
       "     user_id  age churn_date  city first_name last_name   reg_date tariff\n",
       "371     1371   50 2018-12-30  Омск     Ириней  Трофимов 2018-12-25  smart"
      ]
     },
     "execution_count": 133,
     "metadata": {},
     "output_type": "execute_result"
    }
   ],
   "source": [
    "users.loc[users['user_id']==1371]"
   ]
  },
  {
   "cell_type": "markdown",
   "metadata": {},
   "source": [
    "В нашей новой таблице много пропусков. Пропуски в столбце месяц это наши 2 из 3 абонетов, которые не пользовались интернетом. Они подключились в декабре и возможно не успели воспользоваться услугами. Но абонплату они все равно заплатили, поэтому значение 0 поменяем на 12(месяц). Для того чтобы добавить новый столбец с выручкой, нужно поменять пропуски на 0."
   ]
  },
  {
   "cell_type": "code",
   "execution_count": 134,
   "metadata": {},
   "outputs": [
    {
     "data": {
      "text/plain": [
       "user_id    0\n",
       "month      0\n",
       "calls      0\n",
       "min        0\n",
       "mes        0\n",
       "mb         0\n",
       "city       0\n",
       "tariff     0\n",
       "dtype: int64"
      ]
     },
     "execution_count": 134,
     "metadata": {},
     "output_type": "execute_result"
    }
   ],
   "source": [
    "abonents.loc[:,['calls', 'min', 'mes', 'mb']] = abonents.loc[:,['calls', 'min', 'mes', 'mb']].fillna(0)\n",
    "abonents.loc[:,['month']] = abonents.loc[:,['month']].fillna(12)\n",
    "abonents.isna().sum()"
   ]
  },
  {
   "cell_type": "code",
   "execution_count": 135,
   "metadata": {},
   "outputs": [
    {
     "data": {
      "text/html": [
       "<div>\n",
       "<style scoped>\n",
       "    .dataframe tbody tr th:only-of-type {\n",
       "        vertical-align: middle;\n",
       "    }\n",
       "\n",
       "    .dataframe tbody tr th {\n",
       "        vertical-align: top;\n",
       "    }\n",
       "\n",
       "    .dataframe thead th {\n",
       "        text-align: right;\n",
       "    }\n",
       "</style>\n",
       "<table border=\"1\" class=\"dataframe\">\n",
       "  <thead>\n",
       "    <tr style=\"text-align: right;\">\n",
       "      <th></th>\n",
       "      <th>user_id</th>\n",
       "      <th>month</th>\n",
       "      <th>calls</th>\n",
       "      <th>min</th>\n",
       "      <th>mes</th>\n",
       "      <th>mb</th>\n",
       "      <th>city</th>\n",
       "      <th>tariff</th>\n",
       "    </tr>\n",
       "  </thead>\n",
       "  <tbody>\n",
       "    <tr>\n",
       "      <th>3014</th>\n",
       "      <td>1472</td>\n",
       "      <td>10.0</td>\n",
       "      <td>76.0</td>\n",
       "      <td>468</td>\n",
       "      <td>84.0</td>\n",
       "      <td>23244</td>\n",
       "      <td>Ярославль</td>\n",
       "      <td>smart</td>\n",
       "    </tr>\n",
       "    <tr>\n",
       "      <th>669</th>\n",
       "      <td>1108</td>\n",
       "      <td>11.0</td>\n",
       "      <td>36.0</td>\n",
       "      <td>231</td>\n",
       "      <td>25.0</td>\n",
       "      <td>20427</td>\n",
       "      <td>Москва</td>\n",
       "      <td>smart</td>\n",
       "    </tr>\n",
       "    <tr>\n",
       "      <th>726</th>\n",
       "      <td>1116</td>\n",
       "      <td>10.0</td>\n",
       "      <td>51.0</td>\n",
       "      <td>366</td>\n",
       "      <td>0.0</td>\n",
       "      <td>12118</td>\n",
       "      <td>Петрозаводск</td>\n",
       "      <td>smart</td>\n",
       "    </tr>\n",
       "    <tr>\n",
       "      <th>195</th>\n",
       "      <td>1030</td>\n",
       "      <td>10.0</td>\n",
       "      <td>48.0</td>\n",
       "      <td>345</td>\n",
       "      <td>91.0</td>\n",
       "      <td>13663</td>\n",
       "      <td>Махачкала</td>\n",
       "      <td>smart</td>\n",
       "    </tr>\n",
       "    <tr>\n",
       "      <th>2067</th>\n",
       "      <td>1330</td>\n",
       "      <td>9.0</td>\n",
       "      <td>92.0</td>\n",
       "      <td>723</td>\n",
       "      <td>81.0</td>\n",
       "      <td>29680</td>\n",
       "      <td>Нижний Новгород</td>\n",
       "      <td>ultra</td>\n",
       "    </tr>\n",
       "    <tr>\n",
       "      <th>121</th>\n",
       "      <td>1017</td>\n",
       "      <td>7.0</td>\n",
       "      <td>56.0</td>\n",
       "      <td>461</td>\n",
       "      <td>0.0</td>\n",
       "      <td>18968</td>\n",
       "      <td>Краснодар</td>\n",
       "      <td>smart</td>\n",
       "    </tr>\n",
       "    <tr>\n",
       "      <th>2325</th>\n",
       "      <td>1373</td>\n",
       "      <td>9.0</td>\n",
       "      <td>4.0</td>\n",
       "      <td>23</td>\n",
       "      <td>42.0</td>\n",
       "      <td>22660</td>\n",
       "      <td>Улан-Удэ</td>\n",
       "      <td>smart</td>\n",
       "    </tr>\n",
       "    <tr>\n",
       "      <th>2975</th>\n",
       "      <td>1468</td>\n",
       "      <td>3.0</td>\n",
       "      <td>34.0</td>\n",
       "      <td>287</td>\n",
       "      <td>13.0</td>\n",
       "      <td>5772</td>\n",
       "      <td>Тамбов</td>\n",
       "      <td>smart</td>\n",
       "    </tr>\n",
       "    <tr>\n",
       "      <th>187</th>\n",
       "      <td>1029</td>\n",
       "      <td>10.0</td>\n",
       "      <td>92.0</td>\n",
       "      <td>609</td>\n",
       "      <td>62.0</td>\n",
       "      <td>21589</td>\n",
       "      <td>Екатеринбург</td>\n",
       "      <td>smart</td>\n",
       "    </tr>\n",
       "    <tr>\n",
       "      <th>1525</th>\n",
       "      <td>1244</td>\n",
       "      <td>9.0</td>\n",
       "      <td>56.0</td>\n",
       "      <td>338</td>\n",
       "      <td>82.0</td>\n",
       "      <td>21997</td>\n",
       "      <td>Москва</td>\n",
       "      <td>smart</td>\n",
       "    </tr>\n",
       "  </tbody>\n",
       "</table>\n",
       "</div>"
      ],
      "text/plain": [
       "      user_id  month  calls  min   mes     mb             city tariff\n",
       "3014     1472   10.0   76.0  468  84.0  23244        Ярославль  smart\n",
       "669      1108   11.0   36.0  231  25.0  20427           Москва  smart\n",
       "726      1116   10.0   51.0  366   0.0  12118     Петрозаводск  smart\n",
       "195      1030   10.0   48.0  345  91.0  13663        Махачкала  smart\n",
       "2067     1330    9.0   92.0  723  81.0  29680  Нижний Новгород  ultra\n",
       "121      1017    7.0   56.0  461   0.0  18968        Краснодар  smart\n",
       "2325     1373    9.0    4.0   23  42.0  22660         Улан-Удэ  smart\n",
       "2975     1468    3.0   34.0  287  13.0   5772           Тамбов  smart\n",
       "187      1029   10.0   92.0  609  62.0  21589     Екатеринбург  smart\n",
       "1525     1244    9.0   56.0  338  82.0  21997           Москва  smart"
      ]
     },
     "execution_count": 135,
     "metadata": {},
     "output_type": "execute_result"
    }
   ],
   "source": [
    "abonents.sample(10)"
   ]
  },
  {
   "cell_type": "code",
   "execution_count": 136,
   "metadata": {},
   "outputs": [],
   "source": [
    "abonents['gb']=(abonents['mb']/1024).astype('int64')"
   ]
  },
  {
   "cell_type": "code",
   "execution_count": 137,
   "metadata": {},
   "outputs": [
    {
     "data": {
      "text/html": [
       "<div>\n",
       "<style scoped>\n",
       "    .dataframe tbody tr th:only-of-type {\n",
       "        vertical-align: middle;\n",
       "    }\n",
       "\n",
       "    .dataframe tbody tr th {\n",
       "        vertical-align: top;\n",
       "    }\n",
       "\n",
       "    .dataframe thead th {\n",
       "        text-align: right;\n",
       "    }\n",
       "</style>\n",
       "<table border=\"1\" class=\"dataframe\">\n",
       "  <thead>\n",
       "    <tr style=\"text-align: right;\">\n",
       "      <th></th>\n",
       "      <th>user_id</th>\n",
       "      <th>month</th>\n",
       "      <th>calls</th>\n",
       "      <th>min</th>\n",
       "      <th>mes</th>\n",
       "      <th>mb</th>\n",
       "      <th>city</th>\n",
       "      <th>tariff</th>\n",
       "      <th>gb</th>\n",
       "    </tr>\n",
       "  </thead>\n",
       "  <tbody>\n",
       "    <tr>\n",
       "      <th>0</th>\n",
       "      <td>1000</td>\n",
       "      <td>5.0</td>\n",
       "      <td>22.0</td>\n",
       "      <td>159</td>\n",
       "      <td>22.0</td>\n",
       "      <td>2256</td>\n",
       "      <td>Краснодар</td>\n",
       "      <td>ultra</td>\n",
       "      <td>2</td>\n",
       "    </tr>\n",
       "    <tr>\n",
       "      <th>1</th>\n",
       "      <td>1000</td>\n",
       "      <td>6.0</td>\n",
       "      <td>43.0</td>\n",
       "      <td>172</td>\n",
       "      <td>60.0</td>\n",
       "      <td>23257</td>\n",
       "      <td>Краснодар</td>\n",
       "      <td>ultra</td>\n",
       "      <td>22</td>\n",
       "    </tr>\n",
       "    <tr>\n",
       "      <th>2</th>\n",
       "      <td>1000</td>\n",
       "      <td>7.0</td>\n",
       "      <td>47.0</td>\n",
       "      <td>340</td>\n",
       "      <td>75.0</td>\n",
       "      <td>14016</td>\n",
       "      <td>Краснодар</td>\n",
       "      <td>ultra</td>\n",
       "      <td>13</td>\n",
       "    </tr>\n",
       "    <tr>\n",
       "      <th>3</th>\n",
       "      <td>1000</td>\n",
       "      <td>8.0</td>\n",
       "      <td>52.0</td>\n",
       "      <td>408</td>\n",
       "      <td>81.0</td>\n",
       "      <td>14070</td>\n",
       "      <td>Краснодар</td>\n",
       "      <td>ultra</td>\n",
       "      <td>13</td>\n",
       "    </tr>\n",
       "    <tr>\n",
       "      <th>4</th>\n",
       "      <td>1000</td>\n",
       "      <td>9.0</td>\n",
       "      <td>58.0</td>\n",
       "      <td>466</td>\n",
       "      <td>57.0</td>\n",
       "      <td>14581</td>\n",
       "      <td>Краснодар</td>\n",
       "      <td>ultra</td>\n",
       "      <td>14</td>\n",
       "    </tr>\n",
       "    <tr>\n",
       "      <th>5</th>\n",
       "      <td>1000</td>\n",
       "      <td>10.0</td>\n",
       "      <td>57.0</td>\n",
       "      <td>350</td>\n",
       "      <td>73.0</td>\n",
       "      <td>14717</td>\n",
       "      <td>Краснодар</td>\n",
       "      <td>ultra</td>\n",
       "      <td>14</td>\n",
       "    </tr>\n",
       "    <tr>\n",
       "      <th>6</th>\n",
       "      <td>1000</td>\n",
       "      <td>11.0</td>\n",
       "      <td>43.0</td>\n",
       "      <td>338</td>\n",
       "      <td>58.0</td>\n",
       "      <td>14768</td>\n",
       "      <td>Краснодар</td>\n",
       "      <td>ultra</td>\n",
       "      <td>14</td>\n",
       "    </tr>\n",
       "    <tr>\n",
       "      <th>7</th>\n",
       "      <td>1000</td>\n",
       "      <td>12.0</td>\n",
       "      <td>46.0</td>\n",
       "      <td>333</td>\n",
       "      <td>70.0</td>\n",
       "      <td>9827</td>\n",
       "      <td>Краснодар</td>\n",
       "      <td>ultra</td>\n",
       "      <td>9</td>\n",
       "    </tr>\n",
       "    <tr>\n",
       "      <th>8</th>\n",
       "      <td>1001</td>\n",
       "      <td>11.0</td>\n",
       "      <td>59.0</td>\n",
       "      <td>430</td>\n",
       "      <td>0.0</td>\n",
       "      <td>18452</td>\n",
       "      <td>Москва</td>\n",
       "      <td>smart</td>\n",
       "      <td>18</td>\n",
       "    </tr>\n",
       "    <tr>\n",
       "      <th>9</th>\n",
       "      <td>1001</td>\n",
       "      <td>12.0</td>\n",
       "      <td>63.0</td>\n",
       "      <td>414</td>\n",
       "      <td>0.0</td>\n",
       "      <td>14053</td>\n",
       "      <td>Москва</td>\n",
       "      <td>smart</td>\n",
       "      <td>13</td>\n",
       "    </tr>\n",
       "  </tbody>\n",
       "</table>\n",
       "</div>"
      ],
      "text/plain": [
       "   user_id  month  calls  min   mes     mb       city tariff  gb\n",
       "0     1000    5.0   22.0  159  22.0   2256  Краснодар  ultra   2\n",
       "1     1000    6.0   43.0  172  60.0  23257  Краснодар  ultra  22\n",
       "2     1000    7.0   47.0  340  75.0  14016  Краснодар  ultra  13\n",
       "3     1000    8.0   52.0  408  81.0  14070  Краснодар  ultra  13\n",
       "4     1000    9.0   58.0  466  57.0  14581  Краснодар  ultra  14\n",
       "5     1000   10.0   57.0  350  73.0  14717  Краснодар  ultra  14\n",
       "6     1000   11.0   43.0  338  58.0  14768  Краснодар  ultra  14\n",
       "7     1000   12.0   46.0  333  70.0   9827  Краснодар  ultra   9\n",
       "8     1001   11.0   59.0  430   0.0  18452     Москва  smart  18\n",
       "9     1001   12.0   63.0  414   0.0  14053     Москва  smart  13"
      ]
     },
     "execution_count": 137,
     "metadata": {},
     "output_type": "execute_result"
    }
   ],
   "source": [
    "abonents.head(10)"
   ]
  },
  {
   "cell_type": "markdown",
   "metadata": {},
   "source": [
    "Теперь можем написать функцию считающию помесячную выручку с каждого пользователя (вычтите бесплатный лимит из суммарного количества звонков, сообщений и интернет-трафика; остаток умножьте на значение из тарифного плана; прибавьте абонетскую плату, соответствующию тарифному плану). "
   ]
  },
  {
   "cell_type": "code",
   "execution_count": 138,
   "metadata": {},
   "outputs": [
    {
     "data": {
      "text/html": [
       "<div>\n",
       "<style scoped>\n",
       "    .dataframe tbody tr th:only-of-type {\n",
       "        vertical-align: middle;\n",
       "    }\n",
       "\n",
       "    .dataframe tbody tr th {\n",
       "        vertical-align: top;\n",
       "    }\n",
       "\n",
       "    .dataframe thead th {\n",
       "        text-align: right;\n",
       "    }\n",
       "</style>\n",
       "<table border=\"1\" class=\"dataframe\">\n",
       "  <thead>\n",
       "    <tr style=\"text-align: right;\">\n",
       "      <th></th>\n",
       "      <th>user_id</th>\n",
       "      <th>month</th>\n",
       "      <th>calls</th>\n",
       "      <th>min</th>\n",
       "      <th>mes</th>\n",
       "      <th>mb</th>\n",
       "      <th>city</th>\n",
       "      <th>tariff</th>\n",
       "      <th>gb</th>\n",
       "      <th>income</th>\n",
       "    </tr>\n",
       "  </thead>\n",
       "  <tbody>\n",
       "    <tr>\n",
       "      <th>2640</th>\n",
       "      <td>1416</td>\n",
       "      <td>7.0</td>\n",
       "      <td>78.0</td>\n",
       "      <td>540</td>\n",
       "      <td>40.0</td>\n",
       "      <td>12494</td>\n",
       "      <td>Санкт-Петербург</td>\n",
       "      <td>ultra</td>\n",
       "      <td>12</td>\n",
       "      <td>1950.0</td>\n",
       "    </tr>\n",
       "    <tr>\n",
       "      <th>1539</th>\n",
       "      <td>1247</td>\n",
       "      <td>7.0</td>\n",
       "      <td>79.0</td>\n",
       "      <td>644</td>\n",
       "      <td>20.0</td>\n",
       "      <td>20767</td>\n",
       "      <td>Москва</td>\n",
       "      <td>smart</td>\n",
       "      <td>20</td>\n",
       "      <td>1982.0</td>\n",
       "    </tr>\n",
       "    <tr>\n",
       "      <th>665</th>\n",
       "      <td>1107</td>\n",
       "      <td>9.0</td>\n",
       "      <td>39.0</td>\n",
       "      <td>352</td>\n",
       "      <td>0.0</td>\n",
       "      <td>11717</td>\n",
       "      <td>Орёл</td>\n",
       "      <td>smart</td>\n",
       "      <td>11</td>\n",
       "      <td>550.0</td>\n",
       "    </tr>\n",
       "    <tr>\n",
       "      <th>351</th>\n",
       "      <td>1055</td>\n",
       "      <td>11.0</td>\n",
       "      <td>49.0</td>\n",
       "      <td>314</td>\n",
       "      <td>38.0</td>\n",
       "      <td>21001</td>\n",
       "      <td>Казань</td>\n",
       "      <td>smart</td>\n",
       "      <td>20</td>\n",
       "      <td>1550.0</td>\n",
       "    </tr>\n",
       "    <tr>\n",
       "      <th>912</th>\n",
       "      <td>1147</td>\n",
       "      <td>9.0</td>\n",
       "      <td>50.0</td>\n",
       "      <td>382</td>\n",
       "      <td>35.0</td>\n",
       "      <td>21697</td>\n",
       "      <td>Якутск</td>\n",
       "      <td>smart</td>\n",
       "      <td>21</td>\n",
       "      <td>1750.0</td>\n",
       "    </tr>\n",
       "    <tr>\n",
       "      <th>2110</th>\n",
       "      <td>1337</td>\n",
       "      <td>9.0</td>\n",
       "      <td>18.0</td>\n",
       "      <td>97</td>\n",
       "      <td>13.0</td>\n",
       "      <td>17131</td>\n",
       "      <td>Вологда</td>\n",
       "      <td>smart</td>\n",
       "      <td>16</td>\n",
       "      <td>750.0</td>\n",
       "    </tr>\n",
       "    <tr>\n",
       "      <th>2788</th>\n",
       "      <td>1436</td>\n",
       "      <td>5.0</td>\n",
       "      <td>51.0</td>\n",
       "      <td>370</td>\n",
       "      <td>29.0</td>\n",
       "      <td>22863</td>\n",
       "      <td>Москва</td>\n",
       "      <td>ultra</td>\n",
       "      <td>22</td>\n",
       "      <td>1950.0</td>\n",
       "    </tr>\n",
       "    <tr>\n",
       "      <th>2361</th>\n",
       "      <td>1377</td>\n",
       "      <td>4.0</td>\n",
       "      <td>152.0</td>\n",
       "      <td>1096</td>\n",
       "      <td>17.0</td>\n",
       "      <td>1153</td>\n",
       "      <td>Брянск</td>\n",
       "      <td>ultra</td>\n",
       "      <td>1</td>\n",
       "      <td>1950.0</td>\n",
       "    </tr>\n",
       "    <tr>\n",
       "      <th>1048</th>\n",
       "      <td>1168</td>\n",
       "      <td>11.0</td>\n",
       "      <td>142.0</td>\n",
       "      <td>1053</td>\n",
       "      <td>42.0</td>\n",
       "      <td>31927</td>\n",
       "      <td>Кострома</td>\n",
       "      <td>ultra</td>\n",
       "      <td>31</td>\n",
       "      <td>2100.0</td>\n",
       "    </tr>\n",
       "    <tr>\n",
       "      <th>3135</th>\n",
       "      <td>1492</td>\n",
       "      <td>7.0</td>\n",
       "      <td>80.0</td>\n",
       "      <td>517</td>\n",
       "      <td>19.0</td>\n",
       "      <td>15237</td>\n",
       "      <td>Санкт-Петербург</td>\n",
       "      <td>smart</td>\n",
       "      <td>14</td>\n",
       "      <td>601.0</td>\n",
       "    </tr>\n",
       "    <tr>\n",
       "      <th>1606</th>\n",
       "      <td>1257</td>\n",
       "      <td>8.0</td>\n",
       "      <td>2.0</td>\n",
       "      <td>0</td>\n",
       "      <td>157.0</td>\n",
       "      <td>25506</td>\n",
       "      <td>Санкт-Петербург</td>\n",
       "      <td>ultra</td>\n",
       "      <td>24</td>\n",
       "      <td>1950.0</td>\n",
       "    </tr>\n",
       "    <tr>\n",
       "      <th>749</th>\n",
       "      <td>1120</td>\n",
       "      <td>1.0</td>\n",
       "      <td>5.0</td>\n",
       "      <td>55</td>\n",
       "      <td>0.0</td>\n",
       "      <td>657</td>\n",
       "      <td>Краснодар</td>\n",
       "      <td>ultra</td>\n",
       "      <td>0</td>\n",
       "      <td>1950.0</td>\n",
       "    </tr>\n",
       "    <tr>\n",
       "      <th>543</th>\n",
       "      <td>1086</td>\n",
       "      <td>10.0</td>\n",
       "      <td>82.0</td>\n",
       "      <td>561</td>\n",
       "      <td>52.0</td>\n",
       "      <td>14275</td>\n",
       "      <td>Волгоград</td>\n",
       "      <td>smart</td>\n",
       "      <td>13</td>\n",
       "      <td>739.0</td>\n",
       "    </tr>\n",
       "    <tr>\n",
       "      <th>950</th>\n",
       "      <td>1152</td>\n",
       "      <td>10.0</td>\n",
       "      <td>31.0</td>\n",
       "      <td>243</td>\n",
       "      <td>0.0</td>\n",
       "      <td>22726</td>\n",
       "      <td>Мурманск</td>\n",
       "      <td>ultra</td>\n",
       "      <td>22</td>\n",
       "      <td>1950.0</td>\n",
       "    </tr>\n",
       "    <tr>\n",
       "      <th>626</th>\n",
       "      <td>1100</td>\n",
       "      <td>7.0</td>\n",
       "      <td>90.0</td>\n",
       "      <td>529</td>\n",
       "      <td>53.0</td>\n",
       "      <td>17756</td>\n",
       "      <td>Санкт-Петербург</td>\n",
       "      <td>smart</td>\n",
       "      <td>17</td>\n",
       "      <td>1046.0</td>\n",
       "    </tr>\n",
       "  </tbody>\n",
       "</table>\n",
       "</div>"
      ],
      "text/plain": [
       "      user_id  month  calls   min    mes     mb             city tariff  gb  \\\n",
       "2640     1416    7.0   78.0   540   40.0  12494  Санкт-Петербург  ultra  12   \n",
       "1539     1247    7.0   79.0   644   20.0  20767           Москва  smart  20   \n",
       "665      1107    9.0   39.0   352    0.0  11717             Орёл  smart  11   \n",
       "351      1055   11.0   49.0   314   38.0  21001           Казань  smart  20   \n",
       "912      1147    9.0   50.0   382   35.0  21697           Якутск  smart  21   \n",
       "2110     1337    9.0   18.0    97   13.0  17131          Вологда  smart  16   \n",
       "2788     1436    5.0   51.0   370   29.0  22863           Москва  ultra  22   \n",
       "2361     1377    4.0  152.0  1096   17.0   1153           Брянск  ultra   1   \n",
       "1048     1168   11.0  142.0  1053   42.0  31927         Кострома  ultra  31   \n",
       "3135     1492    7.0   80.0   517   19.0  15237  Санкт-Петербург  smart  14   \n",
       "1606     1257    8.0    2.0     0  157.0  25506  Санкт-Петербург  ultra  24   \n",
       "749      1120    1.0    5.0    55    0.0    657        Краснодар  ultra   0   \n",
       "543      1086   10.0   82.0   561   52.0  14275        Волгоград  smart  13   \n",
       "950      1152   10.0   31.0   243    0.0  22726         Мурманск  ultra  22   \n",
       "626      1100    7.0   90.0   529   53.0  17756  Санкт-Петербург  smart  17   \n",
       "\n",
       "      income  \n",
       "2640  1950.0  \n",
       "1539  1982.0  \n",
       "665    550.0  \n",
       "351   1550.0  \n",
       "912   1750.0  \n",
       "2110   750.0  \n",
       "2788  1950.0  \n",
       "2361  1950.0  \n",
       "1048  2100.0  \n",
       "3135   601.0  \n",
       "1606  1950.0  \n",
       "749   1950.0  \n",
       "543    739.0  \n",
       "950   1950.0  \n",
       "626   1046.0  "
      ]
     },
     "execution_count": 138,
     "metadata": {},
     "output_type": "execute_result"
    }
   ],
   "source": [
    "def income_month(ab_month):\n",
    "    if ab_month['tariff'] == 'smart':\n",
    "        if ab_month['min'] > 500:\n",
    "            price_min = (ab_month['min']-500)*3 #стоимость минут потраченных сверх тарифа\n",
    "        else:\n",
    "            price_min = 0\n",
    "        if ab_month['mes'] > 50:\n",
    "            price_message = (ab_month['mes']-50)*3 \n",
    "        else:\n",
    "            price_message = 0\n",
    "        if ab_month['gb'] > 15:\n",
    "            price_gb = (ab_month['gb'] - 15)*200 \n",
    "        else:\n",
    "            price_gb = 0\n",
    "        return price_min + price_message + price_gb + 550 \n",
    "    elif ab_month['tariff'] == 'ultra':\n",
    "        if ab_month['min'] > 3000:\n",
    "            price_min = (ab_month['min'] - 3000)*1 \n",
    "        else:\n",
    "            price_min = 0\n",
    "        if ab_month['mes'] > 1000:\n",
    "            price_message = (ab_month['mes'] - 1000)*1 \n",
    "        else:\n",
    "            price_message = 0\n",
    "        if ab_month['gb'] > 30:\n",
    "            price_gb = (ab_month['gb'] - 30)*150 \n",
    "        else:\n",
    "            price_gb = 0\n",
    "        return price_min + price_message + price_gb + 1950 \n",
    "            \n",
    "abonents['income'] = abonents.apply(income_month, axis=1)  \n",
    "abonents.sample(15)   "
   ]
  },
  {
   "cell_type": "markdown",
   "metadata": {},
   "source": [
    "#### Вывод"
   ]
  },
  {
   "cell_type": "markdown",
   "metadata": {},
   "source": [
    "Создали новую таблицу и добавили столбец с ежемесячной выручкой по кажому абоненту."
   ]
  },
  {
   "cell_type": "markdown",
   "metadata": {},
   "source": [
    "### Вывод"
   ]
  },
  {
   "cell_type": "markdown",
   "metadata": {},
   "source": [
    "Для всех пользователей были посчитаны их ежемесячные расходы по тарифам. Было посчитано сколько каждый месяц каждый пользователь тратит минут, сообщений и интернет трафика. Для этого была создана новая таблица из наших датафреймов и добавлен новый столбец ежемесячная выручка. Данные готовы для анализа."
   ]
  },
  {
   "cell_type": "markdown",
   "metadata": {},
   "source": [
    "## Анализ данных"
   ]
  },
  {
   "cell_type": "markdown",
   "metadata": {},
   "source": [
    "### Анализ тарифа ULTRA"
   ]
  },
  {
   "cell_type": "code",
   "execution_count": 139,
   "metadata": {},
   "outputs": [
    {
     "data": {
      "text/html": [
       "<div>\n",
       "<style scoped>\n",
       "    .dataframe tbody tr th:only-of-type {\n",
       "        vertical-align: middle;\n",
       "    }\n",
       "\n",
       "    .dataframe tbody tr th {\n",
       "        vertical-align: top;\n",
       "    }\n",
       "\n",
       "    .dataframe thead th {\n",
       "        text-align: right;\n",
       "    }\n",
       "</style>\n",
       "<table border=\"1\" class=\"dataframe\">\n",
       "  <thead>\n",
       "    <tr style=\"text-align: right;\">\n",
       "      <th></th>\n",
       "      <th>user_id</th>\n",
       "      <th>month</th>\n",
       "      <th>calls</th>\n",
       "      <th>min</th>\n",
       "      <th>mes</th>\n",
       "      <th>mb</th>\n",
       "      <th>gb</th>\n",
       "      <th>income</th>\n",
       "    </tr>\n",
       "  </thead>\n",
       "  <tbody>\n",
       "    <tr>\n",
       "      <th>count</th>\n",
       "      <td>986.000000</td>\n",
       "      <td>986.000000</td>\n",
       "      <td>986.000000</td>\n",
       "      <td>986.000000</td>\n",
       "      <td>986.000000</td>\n",
       "      <td>986.000000</td>\n",
       "      <td>986.000000</td>\n",
       "      <td>986.000000</td>\n",
       "    </tr>\n",
       "    <tr>\n",
       "      <th>mean</th>\n",
       "      <td>1262.957404</td>\n",
       "      <td>8.254564</td>\n",
       "      <td>73.318458</td>\n",
       "      <td>526.089249</td>\n",
       "      <td>49.313387</td>\n",
       "      <td>19467.137931</td>\n",
       "      <td>18.521298</td>\n",
       "      <td>2050.557809</td>\n",
       "    </tr>\n",
       "    <tr>\n",
       "      <th>std</th>\n",
       "      <td>140.689268</td>\n",
       "      <td>2.872786</td>\n",
       "      <td>43.956739</td>\n",
       "      <td>317.887549</td>\n",
       "      <td>47.806040</td>\n",
       "      <td>10110.255401</td>\n",
       "      <td>9.855507</td>\n",
       "      <td>338.557995</td>\n",
       "    </tr>\n",
       "    <tr>\n",
       "      <th>min</th>\n",
       "      <td>1000.000000</td>\n",
       "      <td>1.000000</td>\n",
       "      <td>0.000000</td>\n",
       "      <td>0.000000</td>\n",
       "      <td>0.000000</td>\n",
       "      <td>0.000000</td>\n",
       "      <td>0.000000</td>\n",
       "      <td>1950.000000</td>\n",
       "    </tr>\n",
       "    <tr>\n",
       "      <th>25%</th>\n",
       "      <td>1143.000000</td>\n",
       "      <td>6.000000</td>\n",
       "      <td>41.000000</td>\n",
       "      <td>282.500000</td>\n",
       "      <td>6.000000</td>\n",
       "      <td>11761.000000</td>\n",
       "      <td>11.000000</td>\n",
       "      <td>1950.000000</td>\n",
       "    </tr>\n",
       "    <tr>\n",
       "      <th>50%</th>\n",
       "      <td>1277.000000</td>\n",
       "      <td>9.000000</td>\n",
       "      <td>73.500000</td>\n",
       "      <td>518.000000</td>\n",
       "      <td>38.000000</td>\n",
       "      <td>19320.000000</td>\n",
       "      <td>18.000000</td>\n",
       "      <td>1950.000000</td>\n",
       "    </tr>\n",
       "    <tr>\n",
       "      <th>75%</th>\n",
       "      <td>1381.000000</td>\n",
       "      <td>11.000000</td>\n",
       "      <td>103.750000</td>\n",
       "      <td>751.750000</td>\n",
       "      <td>78.750000</td>\n",
       "      <td>26860.250000</td>\n",
       "      <td>26.000000</td>\n",
       "      <td>1950.000000</td>\n",
       "    </tr>\n",
       "    <tr>\n",
       "      <th>max</th>\n",
       "      <td>1495.000000</td>\n",
       "      <td>12.000000</td>\n",
       "      <td>244.000000</td>\n",
       "      <td>1673.000000</td>\n",
       "      <td>224.000000</td>\n",
       "      <td>49789.000000</td>\n",
       "      <td>48.000000</td>\n",
       "      <td>4650.000000</td>\n",
       "    </tr>\n",
       "  </tbody>\n",
       "</table>\n",
       "</div>"
      ],
      "text/plain": [
       "           user_id       month       calls          min         mes  \\\n",
       "count   986.000000  986.000000  986.000000   986.000000  986.000000   \n",
       "mean   1262.957404    8.254564   73.318458   526.089249   49.313387   \n",
       "std     140.689268    2.872786   43.956739   317.887549   47.806040   \n",
       "min    1000.000000    1.000000    0.000000     0.000000    0.000000   \n",
       "25%    1143.000000    6.000000   41.000000   282.500000    6.000000   \n",
       "50%    1277.000000    9.000000   73.500000   518.000000   38.000000   \n",
       "75%    1381.000000   11.000000  103.750000   751.750000   78.750000   \n",
       "max    1495.000000   12.000000  244.000000  1673.000000  224.000000   \n",
       "\n",
       "                 mb          gb       income  \n",
       "count    986.000000  986.000000   986.000000  \n",
       "mean   19467.137931   18.521298  2050.557809  \n",
       "std    10110.255401    9.855507   338.557995  \n",
       "min        0.000000    0.000000  1950.000000  \n",
       "25%    11761.000000   11.000000  1950.000000  \n",
       "50%    19320.000000   18.000000  1950.000000  \n",
       "75%    26860.250000   26.000000  1950.000000  \n",
       "max    49789.000000   48.000000  4650.000000  "
      ]
     },
     "execution_count": 139,
     "metadata": {},
     "output_type": "execute_result"
    }
   ],
   "source": [
    "abonents_ultra = abonents.query('tariff == \"ultra\"')\n",
    "abonents_ultra.describe()"
   ]
  },
  {
   "cell_type": "markdown",
   "metadata": {},
   "source": [
    "#### Анализ ULTRA - минуты"
   ]
  },
  {
   "cell_type": "code",
   "execution_count": 140,
   "metadata": {},
   "outputs": [
    {
     "name": "stdout",
     "output_type": "stream",
     "text": [
      "Дисперсия -  101052.49354928387\n",
      "Отклонение -  317.8875485911392\n",
      "Среднее -  526.0892494929006\n"
     ]
    }
   ],
   "source": [
    "variance = np.var(abonents_ultra['min'], ddof=1)\n",
    "print('Дисперсия - ', variance)\n",
    "print('Отклонение - ', np.sqrt(variance))\n",
    "print('Среднее - ', abonents_ultra['min'].mean())"
   ]
  },
  {
   "cell_type": "code",
   "execution_count": 141,
   "metadata": {},
   "outputs": [
    {
     "data": {
      "image/png": "[encoded data removed]",
      "text/plain": [
       "<Figure size 432x288 with 1 Axes>"
      ]
     },
     "metadata": {
      "needs_background": "light"
     },
     "output_type": "display_data"
    }
   ],
   "source": [
    "sns.distplot(abonents_ultra['min'], hist=True, \n",
    "             bins=50, color = 'blue', hist_kws={'edgecolor':'black'}).set_title('Анализ минут УЛЬТРА')\n",
    "\n",
    "plt.xlabel(\"Кол-во минут в месяц\") \n",
    "plt.ylabel(\"Частота\"); "
   ]
  },
  {
   "cell_type": "markdown",
   "metadata": {},
   "source": [
    "#### Вывод"
   ]
  },
  {
   "cell_type": "markdown",
   "metadata": {},
   "source": [
    "По графику и посчитанным значениям видно, что абоненты тарифа ultra используют в среднем от 0  до 1000 минут, потом количество абонентов больше разговаривающих начинает уменьшаться. В тарифе включено 3000 минут, при максимальном значении по нашей выборке 1673 минуты. Следовательно сверх лимита никто не доплачивает за минуты."
   ]
  },
  {
   "cell_type": "markdown",
   "metadata": {},
   "source": [
    "#### Анализ ULTRA - сообщения"
   ]
  },
  {
   "cell_type": "code",
   "execution_count": 142,
   "metadata": {},
   "outputs": [
    {
     "name": "stdout",
     "output_type": "stream",
     "text": [
      "Дисперсия -  2285.4174246558414\n",
      "Отклонение -  47.80603962530092\n",
      "Среднее -  49.31338742393509\n"
     ]
    }
   ],
   "source": [
    "variance = np.var(abonents_ultra['mes'], ddof=1)\n",
    "print('Дисперсия - ', variance)\n",
    "print('Отклонение - ', np.sqrt(variance))\n",
    "print('Среднее - ', abonents_ultra['mes'].mean())"
   ]
  },
  {
   "cell_type": "code",
   "execution_count": 143,
   "metadata": {},
   "outputs": [
    {
     "data": {
      "image/png": "[encoded data removed]",
      "text/plain": [
       "<Figure size 432x288 with 1 Axes>"
      ]
     },
     "metadata": {
      "needs_background": "light"
     },
     "output_type": "display_data"
    }
   ],
   "source": [
    "sns.distplot(abonents_ultra['mes'], hist=True, \n",
    "             bins=50, color = 'blue', hist_kws={'edgecolor':'black'}).set_title('Анализ сообщений УЛЬТРА')\n",
    "\n",
    "plt.xlabel(\"Кол-во сообщений в месяц\") \n",
    "plt.ylabel(\"Частота\"); "
   ]
  },
  {
   "cell_type": "markdown",
   "metadata": {},
   "source": [
    "#### Вывод"
   ]
  },
  {
   "cell_type": "markdown",
   "metadata": {},
   "source": [
    "В наших расчетах максимальное количество отправленных сообщений 224, при включенных в абонентскую плату 1000. На графике видно что большая часть абонентов вообще не пользуется смс сообщениями. "
   ]
  },
  {
   "cell_type": "markdown",
   "metadata": {},
   "source": [
    "#### Анализ ULTRA - интернет"
   ]
  },
  {
   "cell_type": "code",
   "execution_count": 144,
   "metadata": {},
   "outputs": [
    {
     "name": "stdout",
     "output_type": "stream",
     "text": [
      "Дисперсия -  97.13101800846367\n",
      "Отклонение -  9.855506988910498\n",
      "Среднее -  18.52129817444219\n"
     ]
    }
   ],
   "source": [
    "variance = np.var(abonents_ultra['gb'], ddof=1)\n",
    "print('Дисперсия - ', variance)\n",
    "print('Отклонение - ', np.sqrt(variance))\n",
    "print('Среднее - ', abonents_ultra['gb'].mean())"
   ]
  },
  {
   "cell_type": "code",
   "execution_count": 145,
   "metadata": {},
   "outputs": [
    {
     "data": {
      "image/png": "[encoded data removed]",
      "text/plain": [
       "<Figure size 432x288 with 1 Axes>"
      ]
     },
     "metadata": {
      "needs_background": "light"
     },
     "output_type": "display_data"
    }
   ],
   "source": [
    "sns.distplot(abonents_ultra['gb'], hist=True, \n",
    "             bins=50, color = 'blue', hist_kws={'edgecolor':'black'}).set_title('Анализ интернет УЛЬТРА')\n",
    "\n",
    "plt.xlabel(\"Кол-во ГБ в месяц\") \n",
    "plt.ylabel(\"Частота\"); "
   ]
  },
  {
   "cell_type": "code",
   "execution_count": 146,
   "metadata": {},
   "outputs": [
    {
     "data": {
      "text/plain": [
       "648150"
      ]
     },
     "execution_count": 146,
     "metadata": {},
     "output_type": "execute_result"
    }
   ],
   "source": [
    "gb_ultra = abonents_ultra.query('gb > 30')['gb'].sum()\n",
    "gb_ultra = gb_ultra*150\n",
    "gb_ultra"
   ]
  },
  {
   "cell_type": "markdown",
   "metadata": {},
   "source": [
    "#### Вывод"
   ]
  },
  {
   "cell_type": "markdown",
   "metadata": {},
   "source": [
    "По использованию интернета наш тариф очень перспективен. У нас приблизительно 25% абонентов превышают включенный в абонентскую плату лимит трафика. При том, что среднее у нас 18,5 это больше 50% абонетов не полность расходуют лимит. Получается достаточно большая категория пользователей, которая приносит доход, но фактические затраты на них компенсируюся за счет неизрасходованного трафика другими пользователями. Дополнительная выручка составила почти 650000"
   ]
  },
  {
   "cell_type": "markdown",
   "metadata": {},
   "source": [
    "### Анализ тарифа SMART"
   ]
  },
  {
   "cell_type": "code",
   "execution_count": 147,
   "metadata": {},
   "outputs": [
    {
     "data": {
      "text/html": [
       "<div>\n",
       "<style scoped>\n",
       "    .dataframe tbody tr th:only-of-type {\n",
       "        vertical-align: middle;\n",
       "    }\n",
       "\n",
       "    .dataframe tbody tr th {\n",
       "        vertical-align: top;\n",
       "    }\n",
       "\n",
       "    .dataframe thead th {\n",
       "        text-align: right;\n",
       "    }\n",
       "</style>\n",
       "<table border=\"1\" class=\"dataframe\">\n",
       "  <thead>\n",
       "    <tr style=\"text-align: right;\">\n",
       "      <th></th>\n",
       "      <th>user_id</th>\n",
       "      <th>month</th>\n",
       "      <th>calls</th>\n",
       "      <th>min</th>\n",
       "      <th>mes</th>\n",
       "      <th>mb</th>\n",
       "      <th>gb</th>\n",
       "      <th>income</th>\n",
       "    </tr>\n",
       "  </thead>\n",
       "  <tbody>\n",
       "    <tr>\n",
       "      <th>count</th>\n",
       "      <td>2230.000000</td>\n",
       "      <td>2230.000000</td>\n",
       "      <td>2230.000000</td>\n",
       "      <td>2230.000000</td>\n",
       "      <td>2230.000000</td>\n",
       "      <td>2230.000000</td>\n",
       "      <td>2230.000000</td>\n",
       "      <td>2230.000000</td>\n",
       "    </tr>\n",
       "    <tr>\n",
       "      <th>mean</th>\n",
       "      <td>1246.562332</td>\n",
       "      <td>8.348430</td>\n",
       "      <td>58.437220</td>\n",
       "      <td>417.747534</td>\n",
       "      <td>33.369058</td>\n",
       "      <td>16221.910762</td>\n",
       "      <td>15.353812</td>\n",
       "      <td>1176.995964</td>\n",
       "    </tr>\n",
       "    <tr>\n",
       "      <th>std</th>\n",
       "      <td>146.110501</td>\n",
       "      <td>2.920685</td>\n",
       "      <td>25.963572</td>\n",
       "      <td>190.476754</td>\n",
       "      <td>28.230396</td>\n",
       "      <td>5886.299627</td>\n",
       "      <td>5.765098</td>\n",
       "      <td>760.285788</td>\n",
       "    </tr>\n",
       "    <tr>\n",
       "      <th>min</th>\n",
       "      <td>1001.000000</td>\n",
       "      <td>1.000000</td>\n",
       "      <td>0.000000</td>\n",
       "      <td>0.000000</td>\n",
       "      <td>0.000000</td>\n",
       "      <td>0.000000</td>\n",
       "      <td>0.000000</td>\n",
       "      <td>550.000000</td>\n",
       "    </tr>\n",
       "    <tr>\n",
       "      <th>25%</th>\n",
       "      <td>1121.000000</td>\n",
       "      <td>6.000000</td>\n",
       "      <td>40.000000</td>\n",
       "      <td>282.000000</td>\n",
       "      <td>10.000000</td>\n",
       "      <td>12645.250000</td>\n",
       "      <td>12.000000</td>\n",
       "      <td>550.000000</td>\n",
       "    </tr>\n",
       "    <tr>\n",
       "      <th>50%</th>\n",
       "      <td>1240.000000</td>\n",
       "      <td>9.000000</td>\n",
       "      <td>60.000000</td>\n",
       "      <td>421.500000</td>\n",
       "      <td>28.000000</td>\n",
       "      <td>16529.000000</td>\n",
       "      <td>16.000000</td>\n",
       "      <td>917.500000</td>\n",
       "    </tr>\n",
       "    <tr>\n",
       "      <th>75%</th>\n",
       "      <td>1376.000000</td>\n",
       "      <td>11.000000</td>\n",
       "      <td>76.000000</td>\n",
       "      <td>545.000000</td>\n",
       "      <td>51.000000</td>\n",
       "      <td>20068.000000</td>\n",
       "      <td>19.000000</td>\n",
       "      <td>1550.000000</td>\n",
       "    </tr>\n",
       "    <tr>\n",
       "      <th>max</th>\n",
       "      <td>1499.000000</td>\n",
       "      <td>12.000000</td>\n",
       "      <td>198.000000</td>\n",
       "      <td>1435.000000</td>\n",
       "      <td>143.000000</td>\n",
       "      <td>38610.000000</td>\n",
       "      <td>37.000000</td>\n",
       "      <td>6570.000000</td>\n",
       "    </tr>\n",
       "  </tbody>\n",
       "</table>\n",
       "</div>"
      ],
      "text/plain": [
       "           user_id        month        calls          min          mes  \\\n",
       "count  2230.000000  2230.000000  2230.000000  2230.000000  2230.000000   \n",
       "mean   1246.562332     8.348430    58.437220   417.747534    33.369058   \n",
       "std     146.110501     2.920685    25.963572   190.476754    28.230396   \n",
       "min    1001.000000     1.000000     0.000000     0.000000     0.000000   \n",
       "25%    1121.000000     6.000000    40.000000   282.000000    10.000000   \n",
       "50%    1240.000000     9.000000    60.000000   421.500000    28.000000   \n",
       "75%    1376.000000    11.000000    76.000000   545.000000    51.000000   \n",
       "max    1499.000000    12.000000   198.000000  1435.000000   143.000000   \n",
       "\n",
       "                 mb           gb       income  \n",
       "count   2230.000000  2230.000000  2230.000000  \n",
       "mean   16221.910762    15.353812  1176.995964  \n",
       "std     5886.299627     5.765098   760.285788  \n",
       "min        0.000000     0.000000   550.000000  \n",
       "25%    12645.250000    12.000000   550.000000  \n",
       "50%    16529.000000    16.000000   917.500000  \n",
       "75%    20068.000000    19.000000  1550.000000  \n",
       "max    38610.000000    37.000000  6570.000000  "
      ]
     },
     "execution_count": 147,
     "metadata": {},
     "output_type": "execute_result"
    }
   ],
   "source": [
    "abonents_smart = abonents.query('tariff == \"smart\"')\n",
    "abonents_smart.describe()"
   ]
  },
  {
   "cell_type": "markdown",
   "metadata": {},
   "source": [
    "#### Анализ SMART - минуты"
   ]
  },
  {
   "cell_type": "code",
   "execution_count": 148,
   "metadata": {},
   "outputs": [
    {
     "name": "stdout",
     "output_type": "stream",
     "text": [
      "Дисперсия -  36281.39383644458\n",
      "Отклонение -  190.4767540579285\n",
      "Среднее -  417.747533632287\n"
     ]
    }
   ],
   "source": [
    "variance = np.var(abonents_smart['min'], ddof=1)\n",
    "print('Дисперсия - ', variance)\n",
    "print('Отклонение - ', np.sqrt(variance))\n",
    "print('Среднее - ', abonents_smart['min'].mean())"
   ]
  },
  {
   "cell_type": "code",
   "execution_count": 149,
   "metadata": {},
   "outputs": [
    {
     "data": {
      "image/png": "[encoded data removed]",
      "text/plain": [
       "<Figure size 432x288 with 1 Axes>"
      ]
     },
     "metadata": {
      "needs_background": "light"
     },
     "output_type": "display_data"
    }
   ],
   "source": [
    "sns.distplot(abonents_smart['min'], hist=True, \n",
    "             bins=50, color = 'blue', hist_kws={'edgecolor':'black'}).set_title('Анализ минут СМАРТ')\n",
    "\n",
    "plt.xlabel(\"Кол-во минут в месяц\") \n",
    "plt.ylabel(\"Частота\"); "
   ]
  },
  {
   "cell_type": "code",
   "execution_count": 150,
   "metadata": {},
   "outputs": [
    {
     "data": {
      "text/plain": [
       "1409217"
      ]
     },
     "execution_count": 150,
     "metadata": {},
     "output_type": "execute_result"
    }
   ],
   "source": [
    "min_smart = abonents_smart.query('min>500')['min'].sum()\n",
    "min_smart = min_smart * 3\n",
    "min_smart"
   ]
  },
  {
   "cell_type": "markdown",
   "metadata": {},
   "source": [
    "#### Вывод"
   ]
  },
  {
   "cell_type": "markdown",
   "metadata": {},
   "source": [
    "Абоненты тарифа smart как правило не укладываются в лимит минут входящих в пакет. Наша медиана составляет 421 минуту, а среднее 418. По графику видно, что около 40% абонентов превышают лимит. На дополнительных расходах абонентов компания получила 1400000 "
   ]
  },
  {
   "cell_type": "markdown",
   "metadata": {},
   "source": [
    "#### Анализ SMART - сообщения"
   ]
  },
  {
   "cell_type": "code",
   "execution_count": 151,
   "metadata": {},
   "outputs": [
    {
     "name": "stdout",
     "output_type": "stream",
     "text": [
      "Дисперсия -  796.9552557301129\n",
      "Отклонение -  28.230395954185852\n",
      "Среднее -  33.36905829596412\n"
     ]
    }
   ],
   "source": [
    "variance = np.var(abonents_smart['mes'], ddof=1)\n",
    "print('Дисперсия - ', variance)\n",
    "print('Отклонение - ', np.sqrt(variance))\n",
    "print('Среднее - ', abonents_smart['mes'].mean())"
   ]
  },
  {
   "cell_type": "code",
   "execution_count": 152,
   "metadata": {},
   "outputs": [
    {
     "data": {
      "image/png": "[encoded data removed]",
      "text/plain": [
       "<Figure size 432x288 with 1 Axes>"
      ]
     },
     "metadata": {
      "needs_background": "light"
     },
     "output_type": "display_data"
    }
   ],
   "source": [
    "sns.distplot(abonents_smart['mes'], hist=True, \n",
    "             bins=50, color = 'blue', hist_kws={'edgecolor':'black'}).set_title('Анализ сообщений СМАРТ')\n",
    "\n",
    "plt.xlabel(\"Кол-во сообщений в месяц\") \n",
    "plt.ylabel(\"Частота\"); "
   ]
  },
  {
   "cell_type": "code",
   "execution_count": 153,
   "metadata": {},
   "outputs": [
    {
     "data": {
      "text/plain": [
       "41128.0"
      ]
     },
     "execution_count": 153,
     "metadata": {},
     "output_type": "execute_result"
    }
   ],
   "source": [
    "mes_smart = abonents_smart.query('mes>50')['mes'].sum()\n",
    "mes_smart"
   ]
  },
  {
   "cell_type": "code",
   "execution_count": 154,
   "metadata": {},
   "outputs": [
    {
     "data": {
      "text/plain": [
       "123384.0"
      ]
     },
     "execution_count": 154,
     "metadata": {},
     "output_type": "execute_result"
    }
   ],
   "source": [
    "mes_smart_p = mes_smart * 3\n",
    "mes_smart_p"
   ]
  },
  {
   "cell_type": "markdown",
   "metadata": {},
   "source": [
    "#### Вывод"
   ]
  },
  {
   "cell_type": "markdown",
   "metadata": {},
   "source": [
    "Использование пакета смс на тарифе smart неоднородно. С одной стороны есть те,кто вообще не пользуется смс. С другой стороны, есть те, кто превышает лимит и приносит дополнительную выручку компании - 123000. Порядка 75% абонентов не превышают лимит."
   ]
  },
  {
   "cell_type": "markdown",
   "metadata": {},
   "source": [
    "#### Анализ SMART - интернет"
   ]
  },
  {
   "cell_type": "code",
   "execution_count": 155,
   "metadata": {},
   "outputs": [
    {
     "name": "stdout",
     "output_type": "stream",
     "text": [
      "Дисперсия -  33.236358277656734\n",
      "Отклонение -  5.7650982886379945\n",
      "Среднее -  15.353811659192825\n"
     ]
    }
   ],
   "source": [
    "variance = np.var(abonents_smart['gb'], ddof=1)\n",
    "print('Дисперсия - ', variance)\n",
    "print('Отклонение - ', np.sqrt(variance))\n",
    "print('Среднее - ', abonents_smart['gb'].mean())"
   ]
  },
  {
   "cell_type": "code",
   "execution_count": 156,
   "metadata": {},
   "outputs": [
    {
     "data": {
      "image/png": "[encoded data removed]",
      "text/plain": [
       "<Figure size 432x288 with 1 Axes>"
      ]
     },
     "metadata": {
      "needs_background": "light"
     },
     "output_type": "display_data"
    }
   ],
   "source": [
    "sns.distplot(abonents_smart['gb'], hist=True, \n",
    "             bins=30, color = 'blue', hist_kws={'edgecolor':'black'}).set_title('Анализ интернет СМАРТ')\n",
    "\n",
    "plt.xlabel(\"Кол-во ГБ в месяц\") \n",
    "plt.ylabel(\"Частота\"); "
   ]
  },
  {
   "cell_type": "code",
   "execution_count": 157,
   "metadata": {},
   "outputs": [
    {
     "data": {
      "text/plain": [
       "4483200"
      ]
     },
     "execution_count": 157,
     "metadata": {},
     "output_type": "execute_result"
    }
   ],
   "source": [
    "gb_smart = abonents_smart.query('gb > 15')['gb'].sum()\n",
    "gb_smart = gb_smart*200\n",
    "gb_smart"
   ]
  },
  {
   "cell_type": "markdown",
   "metadata": {},
   "source": [
    "#### Вывод"
   ]
  },
  {
   "cell_type": "markdown",
   "metadata": {},
   "source": [
    "Меньше 50% пользователей укладываются в лимит ГБ своего тарифа. Сверхлимитное потребление принесло почти 4500000 выручки компании."
   ]
  },
  {
   "cell_type": "markdown",
   "metadata": {},
   "source": [
    "### Вывод"
   ]
  },
  {
   "cell_type": "code",
   "execution_count": 158,
   "metadata": {},
   "outputs": [
    {
     "data": {
      "text/plain": [
       "2021850.0"
      ]
     },
     "execution_count": 158,
     "metadata": {},
     "output_type": "execute_result"
    }
   ],
   "source": [
    "income_ultra = abonents_ultra['income'].sum()\n",
    "income_ultra"
   ]
  },
  {
   "cell_type": "code",
   "execution_count": 159,
   "metadata": {},
   "outputs": [
    {
     "data": {
      "text/plain": [
       "13569.463087248321"
      ]
     },
     "execution_count": 159,
     "metadata": {},
     "output_type": "execute_result"
    }
   ],
   "source": [
    "income_ultra_ab = income_ultra / 149\n",
    "income_ultra_ab"
   ]
  },
  {
   "cell_type": "code",
   "execution_count": 160,
   "metadata": {},
   "outputs": [
    {
     "data": {
      "text/plain": [
       "2624701.0"
      ]
     },
     "execution_count": 160,
     "metadata": {},
     "output_type": "execute_result"
    }
   ],
   "source": [
    "income_smart = abonents_smart['income'].sum()\n",
    "income_smart"
   ]
  },
  {
   "cell_type": "code",
   "execution_count": 161,
   "metadata": {},
   "outputs": [
    {
     "data": {
      "text/plain": [
       "7477.780626780626"
      ]
     },
     "execution_count": 161,
     "metadata": {},
     "output_type": "execute_result"
    }
   ],
   "source": [
    "income_smart_ab = income_smart / 351\n",
    "income_smart_ab"
   ]
  },
  {
   "cell_type": "markdown",
   "metadata": {},
   "source": [
    "Проведя анализ двух тарифов и рассмотрев использование минут, сообщений и интернет трафика. Можно прийти к выводу, что интернет наиболее используемая опция на обоих тарифах. Сообщения используются мало и наименьшим количеством людей, а превышение лимита может быть связано с какими-то рассылками отдельных абонентов.\n",
    "В тарифе SMART по всем параметрам абоненты превышают лимит, и приносят дополнительную выручку компании. В то время как на тарифе ULTRA большая часть абонентов не превышает лимиты входящие в пакеты, кроме интернета. \n",
    "Общая средняя выручка в пересчете на абонента тарифа SMART = 7477, а тарифа ULTRA = 13569. На основании этих цифр можно сделать вывод, что тариф ULTRA более выгоден компании, он приносит в два раза больше выручки, хоть и дополнительных доходов с него не так много по сравнению с тарифом SMART."
   ]
  },
  {
   "cell_type": "markdown",
   "metadata": {},
   "source": [
    "</div>"
   ]
  },
  {
   "cell_type": "markdown",
   "metadata": {},
   "source": [
    "## Проверка гипотез"
   ]
  },
  {
   "cell_type": "markdown",
   "metadata": {},
   "source": [
    "### Средняя выручка пользователей тарифов \"Ультра\" и \"Смарт\" различаются "
   ]
  },
  {
   "cell_type": "code",
   "execution_count": 162,
   "metadata": {},
   "outputs": [],
   "source": [
    "ultra_income_mean = abonents.query('tariff ==\"ultra\"')['income'].values "
   ]
  },
  {
   "cell_type": "code",
   "execution_count": 163,
   "metadata": {},
   "outputs": [],
   "source": [
    "smart_income_mean = abonents.query('tariff ==\"smart\"')['income'].values "
   ]
  },
  {
   "cell_type": "markdown",
   "metadata": {},
   "source": [
    "H0 - средняя выручка пользователей тарифов УЛЬТРА и СМАРТ равны\n",
    "\n",
    "H1 - средняя выручка пользователей тарифов УЛЬТРА и СМАРТ различаются"
   ]
  },
  {
   "cell_type": "code",
   "execution_count": 164,
   "metadata": {},
   "outputs": [
    {
     "name": "stdout",
     "output_type": "stream",
     "text": [
      "p-значение: 0.0\n",
      "Отвергаем нулевую гипотезу\n"
     ]
    }
   ],
   "source": [
    "from scipy import stats as st\n",
    "\n",
    "alpha = 0.05\n",
    "\n",
    "results = st.ttest_ind(smart_income_mean, ultra_income_mean, equal_var = False)\n",
    "\n",
    "print('p-значение:', results.pvalue)\n",
    "\n",
    "if (results.pvalue < alpha):\n",
    "    print(\"Отвергаем нулевую гипотезу\")\n",
    "else:\n",
    "    print(\"Не получилось отвергнуть нулевую гипотезу\")"
   ]
  },
  {
   "cell_type": "markdown",
   "metadata": {},
   "source": [
    "### Вывод"
   ]
  },
  {
   "cell_type": "markdown",
   "metadata": {},
   "source": [
    "Проверив гипотезу можно подтвердить, что средняя выручка пользователей тарифов УЛЬТРА и СМАРТ различаются. Это и подтверждается средними значениями из таблиц УЛЬТРА = 2050, СМАРТ = 1176"
   ]
  },
  {
   "cell_type": "markdown",
   "metadata": {},
   "source": [
    "### Средняя выручка пользователей из Москвы отличается от выручки пользователей из других регионов."
   ]
  },
  {
   "cell_type": "code",
   "execution_count": 165,
   "metadata": {},
   "outputs": [],
   "source": [
    "moscow_income_mean = abonents.query('city == \"Москва\"')['income'].values\n",
    "other_income_mean = abonents.query('city != \"Москва\"')['income'].values"
   ]
  },
  {
   "cell_type": "markdown",
   "metadata": {},
   "source": [
    "H0 - средняя выручка пользователей из Москвы и пользователей из других регионов равны.\n",
    "\n",
    "H1 - средняя выручка пользователей из Москвы  и пользователей из других регионов различается."
   ]
  },
  {
   "cell_type": "code",
   "execution_count": 166,
   "metadata": {},
   "outputs": [
    {
     "name": "stdout",
     "output_type": "stream",
     "text": [
      "p-значение: 0.3706849604906597\n",
      "Не получилось отвергнуть нулевую гипотезу\n"
     ]
    }
   ],
   "source": [
    "alpha = 0.05\n",
    "\n",
    "results = st.ttest_ind(moscow_income_mean, other_income_mean, equal_var = True)\n",
    "\n",
    "print('p-значение:', results.pvalue) # ваш код: выведите на экран получившееся p-значение)\n",
    "\n",
    "if (results.pvalue < alpha): # ваш код: сравните получившееся p-значение с заданным уровнем статистической значимости):\n",
    "    print(\"Отвергаем нулевую гипотезу\")\n",
    "else:\n",
    "    print(\"Не получилось отвергнуть нулевую гипотезу\")"
   ]
  },
  {
   "cell_type": "code",
   "execution_count": 167,
   "metadata": {},
   "outputs": [
    {
     "data": {
      "text/plain": [
       "1470.0360065466448"
      ]
     },
     "execution_count": 167,
     "metadata": {},
     "output_type": "execute_result"
    }
   ],
   "source": [
    "moscow_income_mean.mean()"
   ]
  },
  {
   "cell_type": "code",
   "execution_count": 168,
   "metadata": {},
   "outputs": [
    {
     "data": {
      "text/plain": [
       "1438.9094049904031"
      ]
     },
     "execution_count": 168,
     "metadata": {},
     "output_type": "execute_result"
    }
   ],
   "source": [
    "other_income_mean.mean()"
   ]
  },
  {
   "cell_type": "markdown",
   "metadata": {},
   "source": [
    "### Вывод"
   ]
  },
  {
   "cell_type": "markdown",
   "metadata": {},
   "source": [
    "При проверке гипотеза : Средняя выручка пользователей из Москвы отличается от выручки пользователей из других регионов не подтвердилась. Для проверки посчитали среднее значение по выручки в Москве = 1470 и Других городах = 1438, как видно из цифр они не сильно отличается. Что и подтвержено проверкой нашей гипотезы через p-value"
   ]
  },
  {
   "cell_type": "markdown",
   "metadata": {},
   "source": [
    "## Общий вывод"
   ]
  },
  {
   "cell_type": "markdown",
   "metadata": {},
   "source": [
    "Мы получили данные за 2018 год об использовании 500 абонентов своих сим карт. У нас данные по звонкам, сообщениям и интернет-трафику по двум тарифам Ультра и Смарт. Проверив данные на выбросы, пропуски и корректность подготовили датасеты для анализа.\n",
    "Каждый тариф был проанализирован по количеству использованных минут, сообщений и интернет-трафику ежемесячно. Было найдено только 2 абонента, которые не пользовались сим-картами, соответственно данные максимально чистые.\n",
    "При анализе использования пакетов минут было выявлено, что абоненты тарифа Ультра не преышают лимит пакета, тогда как 40% абонентов тарифа Смарт доплачивают за дополнительные минуты. При анализе сообщений была такая же ситуация. Тариф Ультра не превышают лимит, а в случае Смарт так же были превышения приблизительно у 25% абонентов. А вот с интернетом ситуация на обоих тарифах одинаковая. На двух тарифах есть превышения и большие, на тарифе Ультра порядка 25% не укладываются в пакет из 30ГБ, а на Смарт более 50%, но и пакет там только 15ГБ. Тариф смарт имея небольшой пакет включенных услуг, позволяет по всем пакетам получать дополнительную выручку, кроме абонентской платы. Средний ежемесячная выручка по тарифу Смарт 1176. Тариф Ультра включает большой пакет услуг изначально, при более высокой абонентской плате и средняя ежемесячная выручка по нему 2050. Для компании тариф Ультра приносит больший доход, но в нашей выборке абонентов тарифа Смарт в два с лишним раза больше, чем абонентов тарифа Ультра. Можно предположить,что не все клиенты готовы пользоваться фиксированным пакетом, им удобнее доплачивать за сверхлимитные услуги, или может это попытка экономии. Поэтому для компании возможно удобнее будет предложить абанентам тарифа Смарт дополнительные услуги, за которые они будут доплачивать. На основании всех расчетов нужно было проверить две гипотезы: 1)средняя выручка пользователей тарифов УЛЬТРА и СМАРТ различаются - Гипотеза подтвердилась. 2)средняя выручка пользователей из Москвы и пользователей из других регионов различается - Гипотеза не подтвердилась."
   ]
  }
 ],
 "metadata": {
  "ExecuteTimeLog": [
   {
    "duration": 965,
    "start_time": "2021-12-20T08:48:13.624Z"
   },
   {
    "duration": 122,
    "start_time": "2021-12-20T08:51:26.985Z"
   },
   {
    "duration": 16,
    "start_time": "2021-12-20T08:53:32.572Z"
   },
   {
    "duration": 474,
    "start_time": "2021-12-20T08:58:49.042Z"
   },
   {
    "duration": 103,
    "start_time": "2021-12-20T08:58:59.827Z"
   },
   {
    "duration": 88,
    "start_time": "2021-12-21T05:53:40.767Z"
   },
   {
    "duration": 306,
    "start_time": "2021-12-21T06:06:26.223Z"
   },
   {
    "duration": 491,
    "start_time": "2021-12-21T06:06:36.347Z"
   },
   {
    "duration": 250,
    "start_time": "2021-12-21T06:06:40.541Z"
   },
   {
    "duration": 921,
    "start_time": "2021-12-21T06:06:51.401Z"
   },
   {
    "duration": 46,
    "start_time": "2021-12-21T06:06:52.325Z"
   },
   {
    "duration": 12,
    "start_time": "2021-12-21T06:45:14.963Z"
   },
   {
    "duration": 5,
    "start_time": "2021-12-21T06:45:18.315Z"
   },
   {
    "duration": 49,
    "start_time": "2021-12-21T06:45:38.504Z"
   },
   {
    "duration": 7,
    "start_time": "2021-12-21T06:52:24.912Z"
   },
   {
    "duration": 48,
    "start_time": "2021-12-21T06:52:26.907Z"
   },
   {
    "duration": 12,
    "start_time": "2021-12-21T07:42:25.783Z"
   },
   {
    "duration": 29,
    "start_time": "2021-12-21T07:43:17.515Z"
   },
   {
    "duration": 29,
    "start_time": "2021-12-21T07:43:22.122Z"
   },
   {
    "duration": 28,
    "start_time": "2021-12-21T07:43:38.952Z"
   },
   {
    "duration": 9,
    "start_time": "2021-12-21T07:43:41.805Z"
   },
   {
    "duration": 9,
    "start_time": "2021-12-21T07:44:02.096Z"
   },
   {
    "duration": 8,
    "start_time": "2021-12-21T07:44:46.553Z"
   },
   {
    "duration": 8,
    "start_time": "2021-12-21T07:45:10.208Z"
   },
   {
    "duration": 9,
    "start_time": "2021-12-21T07:45:28.427Z"
   },
   {
    "duration": 8,
    "start_time": "2021-12-21T07:45:57.088Z"
   },
   {
    "duration": 11,
    "start_time": "2021-12-21T07:46:11.390Z"
   },
   {
    "duration": 10,
    "start_time": "2021-12-21T07:46:34.686Z"
   },
   {
    "duration": 8,
    "start_time": "2021-12-21T07:47:21.196Z"
   },
   {
    "duration": 9,
    "start_time": "2021-12-21T07:47:36.017Z"
   },
   {
    "duration": 65,
    "start_time": "2021-12-21T07:51:38.716Z"
   },
   {
    "duration": 566,
    "start_time": "2021-12-23T06:33:46.886Z"
   },
   {
    "duration": 1335,
    "start_time": "2021-12-23T06:33:50.635Z"
   },
   {
    "duration": 50,
    "start_time": "2021-12-23T06:33:51.973Z"
   },
   {
    "duration": 43,
    "start_time": "2021-12-23T06:33:52.026Z"
   },
   {
    "duration": 126,
    "start_time": "2021-12-23T06:33:52.072Z"
   },
   {
    "duration": 13,
    "start_time": "2021-12-23T06:33:52.200Z"
   },
   {
    "duration": 7,
    "start_time": "2021-12-23T06:33:52.215Z"
   },
   {
    "duration": 10,
    "start_time": "2021-12-23T06:33:52.224Z"
   },
   {
    "duration": 6,
    "start_time": "2021-12-23T06:33:52.264Z"
   },
   {
    "duration": 90,
    "start_time": "2021-12-23T06:33:52.273Z"
   },
   {
    "duration": 8,
    "start_time": "2021-12-23T06:33:52.365Z"
   },
   {
    "duration": 50,
    "start_time": "2021-12-23T06:33:52.375Z"
   },
   {
    "duration": 508,
    "start_time": "2021-12-23T06:37:17.162Z"
   },
   {
    "duration": 324,
    "start_time": "2021-12-23T06:52:42.460Z"
   },
   {
    "duration": 8,
    "start_time": "2021-12-23T06:52:53.798Z"
   },
   {
    "duration": 7,
    "start_time": "2021-12-23T06:52:56.145Z"
   },
   {
    "duration": 8,
    "start_time": "2021-12-23T06:53:56.460Z"
   },
   {
    "duration": 337,
    "start_time": "2021-12-23T06:54:15.944Z"
   },
   {
    "duration": 7,
    "start_time": "2021-12-23T06:54:24.802Z"
   },
   {
    "duration": 11,
    "start_time": "2021-12-23T06:56:14.972Z"
   },
   {
    "duration": 8,
    "start_time": "2021-12-23T06:56:18.690Z"
   },
   {
    "duration": 5,
    "start_time": "2021-12-23T06:57:00.914Z"
   },
   {
    "duration": 47,
    "start_time": "2021-12-23T06:58:56.443Z"
   },
   {
    "duration": 17,
    "start_time": "2021-12-23T06:59:35.395Z"
   },
   {
    "duration": 288,
    "start_time": "2021-12-23T07:01:07.379Z"
   },
   {
    "duration": 294,
    "start_time": "2021-12-23T07:01:14.891Z"
   },
   {
    "duration": 7,
    "start_time": "2021-12-23T07:01:23.268Z"
   },
   {
    "duration": 7,
    "start_time": "2021-12-23T07:01:33.961Z"
   },
   {
    "duration": 6,
    "start_time": "2021-12-23T07:01:51.048Z"
   },
   {
    "duration": 7,
    "start_time": "2021-12-23T07:01:56.450Z"
   },
   {
    "duration": 7,
    "start_time": "2021-12-23T07:01:57.688Z"
   },
   {
    "duration": 8,
    "start_time": "2021-12-23T07:08:45.554Z"
   },
   {
    "duration": 6,
    "start_time": "2021-12-23T07:08:47.104Z"
   },
   {
    "duration": 10,
    "start_time": "2021-12-23T07:11:48.706Z"
   },
   {
    "duration": 16,
    "start_time": "2021-12-23T07:12:22.672Z"
   },
   {
    "duration": 7,
    "start_time": "2021-12-23T07:13:20.017Z"
   },
   {
    "duration": 10,
    "start_time": "2021-12-23T07:13:53.136Z"
   },
   {
    "duration": 137,
    "start_time": "2021-12-23T10:09:35.241Z"
   },
   {
    "duration": 85,
    "start_time": "2021-12-23T10:10:19.376Z"
   },
   {
    "duration": 7,
    "start_time": "2021-12-23T10:11:10.374Z"
   },
   {
    "duration": 20,
    "start_time": "2021-12-23T10:11:30.642Z"
   },
   {
    "duration": 8,
    "start_time": "2021-12-23T10:12:32.478Z"
   },
   {
    "duration": 331,
    "start_time": "2021-12-23T10:21:42.209Z"
   },
   {
    "duration": 14,
    "start_time": "2021-12-23T10:21:55.028Z"
   },
   {
    "duration": 14,
    "start_time": "2021-12-23T10:21:59.806Z"
   },
   {
    "duration": 12,
    "start_time": "2021-12-23T10:30:28.718Z"
   },
   {
    "duration": 49,
    "start_time": "2021-12-23T10:30:32.072Z"
   },
   {
    "duration": 7,
    "start_time": "2021-12-23T10:30:57.591Z"
   },
   {
    "duration": 8,
    "start_time": "2021-12-23T10:31:05.601Z"
   },
   {
    "duration": 48,
    "start_time": "2021-12-23T10:31:10.321Z"
   },
   {
    "duration": 17,
    "start_time": "2021-12-23T11:16:44.499Z"
   },
   {
    "duration": 9,
    "start_time": "2021-12-23T11:19:09.476Z"
   },
   {
    "duration": 315,
    "start_time": "2021-12-23T11:22:59.252Z"
   },
   {
    "duration": 23,
    "start_time": "2021-12-23T11:23:14.367Z"
   },
   {
    "duration": 24,
    "start_time": "2021-12-23T11:29:11.893Z"
   },
   {
    "duration": 25,
    "start_time": "2021-12-23T11:29:24.047Z"
   },
   {
    "duration": 9,
    "start_time": "2021-12-23T11:32:12.538Z"
   },
   {
    "duration": 387,
    "start_time": "2021-12-23T11:32:53.242Z"
   },
   {
    "duration": 343,
    "start_time": "2021-12-23T11:34:39.125Z"
   },
   {
    "duration": 294,
    "start_time": "2021-12-23T11:34:53.078Z"
   },
   {
    "duration": 302,
    "start_time": "2021-12-23T11:35:00.045Z"
   },
   {
    "duration": 11,
    "start_time": "2021-12-23T11:36:09.674Z"
   },
   {
    "duration": 11,
    "start_time": "2021-12-23T11:36:32.355Z"
   },
   {
    "duration": 9,
    "start_time": "2021-12-23T11:39:30.827Z"
   },
   {
    "duration": 22,
    "start_time": "2021-12-23T11:40:24.972Z"
   },
   {
    "duration": 100,
    "start_time": "2021-12-23T11:53:59.433Z"
   },
   {
    "duration": 493,
    "start_time": "2021-12-23T11:54:08.840Z"
   },
   {
    "duration": 280,
    "start_time": "2021-12-23T11:58:53.466Z"
   },
   {
    "duration": 7,
    "start_time": "2021-12-23T11:59:00.142Z"
   },
   {
    "duration": 10,
    "start_time": "2021-12-23T11:59:12.761Z"
   },
   {
    "duration": 7,
    "start_time": "2021-12-23T11:59:45.682Z"
   },
   {
    "duration": 11,
    "start_time": "2021-12-23T11:59:50.847Z"
   },
   {
    "duration": 12,
    "start_time": "2021-12-23T12:00:24.405Z"
   },
   {
    "duration": 7,
    "start_time": "2021-12-23T12:05:30.862Z"
   },
   {
    "duration": 8,
    "start_time": "2021-12-23T12:05:32.658Z"
   },
   {
    "duration": 9,
    "start_time": "2021-12-23T12:05:37.764Z"
   },
   {
    "duration": 7,
    "start_time": "2021-12-23T12:06:10.201Z"
   },
   {
    "duration": 9,
    "start_time": "2021-12-23T12:06:14.672Z"
   },
   {
    "duration": 7,
    "start_time": "2021-12-23T12:06:40.815Z"
   },
   {
    "duration": 9,
    "start_time": "2021-12-23T12:06:43.789Z"
   },
   {
    "duration": 7,
    "start_time": "2021-12-23T12:08:03.827Z"
   },
   {
    "duration": 10,
    "start_time": "2021-12-23T12:08:06.905Z"
   },
   {
    "duration": 7,
    "start_time": "2021-12-23T12:08:14.164Z"
   },
   {
    "duration": 7,
    "start_time": "2021-12-23T12:08:19.976Z"
   },
   {
    "duration": 10,
    "start_time": "2021-12-23T12:08:21.352Z"
   },
   {
    "duration": 695,
    "start_time": "2021-12-23T12:10:12.956Z"
   },
   {
    "duration": 8,
    "start_time": "2021-12-23T12:12:53.790Z"
   },
   {
    "duration": 128,
    "start_time": "2021-12-23T12:13:57.095Z"
   },
   {
    "duration": 51,
    "start_time": "2021-12-23T12:13:57.225Z"
   },
   {
    "duration": 17,
    "start_time": "2021-12-23T12:13:57.279Z"
   },
   {
    "duration": 140,
    "start_time": "2021-12-23T12:13:57.299Z"
   },
   {
    "duration": 30,
    "start_time": "2021-12-23T12:13:57.442Z"
   },
   {
    "duration": 12,
    "start_time": "2021-12-23T12:13:57.475Z"
   },
   {
    "duration": 13,
    "start_time": "2021-12-23T12:13:57.489Z"
   },
   {
    "duration": 10,
    "start_time": "2021-12-23T12:13:57.507Z"
   },
   {
    "duration": 43,
    "start_time": "2021-12-23T12:13:57.521Z"
   },
   {
    "duration": 12,
    "start_time": "2021-12-23T12:13:57.567Z"
   },
   {
    "duration": 6,
    "start_time": "2021-12-23T12:13:57.582Z"
   },
   {
    "duration": 7,
    "start_time": "2021-12-23T12:13:57.592Z"
   },
   {
    "duration": 61,
    "start_time": "2021-12-23T12:13:57.602Z"
   },
   {
    "duration": 6,
    "start_time": "2021-12-23T12:13:57.666Z"
   },
   {
    "duration": 9,
    "start_time": "2021-12-23T12:13:57.674Z"
   },
   {
    "duration": 9,
    "start_time": "2021-12-23T12:13:57.685Z"
   },
   {
    "duration": 7,
    "start_time": "2021-12-23T12:13:57.697Z"
   },
   {
    "duration": 58,
    "start_time": "2021-12-23T12:13:57.709Z"
   },
   {
    "duration": 13,
    "start_time": "2021-12-23T12:13:57.771Z"
   },
   {
    "duration": 131,
    "start_time": "2021-12-23T12:13:57.787Z"
   },
   {
    "duration": 6,
    "start_time": "2021-12-23T12:13:57.920Z"
   },
   {
    "duration": 17,
    "start_time": "2021-12-23T12:13:57.928Z"
   },
   {
    "duration": 7,
    "start_time": "2021-12-23T12:13:57.962Z"
   },
   {
    "duration": 12,
    "start_time": "2021-12-23T12:13:57.972Z"
   },
   {
    "duration": 10,
    "start_time": "2021-12-23T12:13:57.987Z"
   },
   {
    "duration": 7,
    "start_time": "2021-12-23T12:13:58.000Z"
   },
   {
    "duration": 8,
    "start_time": "2021-12-23T12:13:58.009Z"
   },
   {
    "duration": 6,
    "start_time": "2021-12-23T12:13:58.063Z"
   },
   {
    "duration": 8,
    "start_time": "2021-12-23T12:13:58.071Z"
   },
   {
    "duration": 2163,
    "start_time": "2021-12-23T12:13:58.081Z"
   },
   {
    "duration": 2101,
    "start_time": "2021-12-23T12:13:58.147Z"
   },
   {
    "duration": 2091,
    "start_time": "2021-12-23T12:13:58.159Z"
   },
   {
    "duration": 2088,
    "start_time": "2021-12-23T12:13:58.164Z"
   },
   {
    "duration": 2079,
    "start_time": "2021-12-23T12:13:58.175Z"
   },
   {
    "duration": 2256,
    "start_time": "2021-12-23T12:14:28.198Z"
   },
   {
    "duration": 3188,
    "start_time": "2021-12-23T12:15:24.147Z"
   },
   {
    "duration": 14,
    "start_time": "2021-12-23T12:16:23.827Z"
   },
   {
    "duration": 3298,
    "start_time": "2021-12-23T12:17:03.952Z"
   },
   {
    "duration": 6533,
    "start_time": "2021-12-23T12:17:07.262Z"
   },
   {
    "duration": 13,
    "start_time": "2021-12-23T12:17:13.797Z"
   },
   {
    "duration": 2577,
    "start_time": "2021-12-23T12:25:46.463Z"
   },
   {
    "duration": 132,
    "start_time": "2021-12-23T12:25:51.063Z"
   },
   {
    "duration": 65,
    "start_time": "2021-12-23T12:25:51.198Z"
   },
   {
    "duration": 15,
    "start_time": "2021-12-23T12:25:51.265Z"
   },
   {
    "duration": 130,
    "start_time": "2021-12-23T12:25:51.283Z"
   },
   {
    "duration": 11,
    "start_time": "2021-12-23T12:25:51.416Z"
   },
   {
    "duration": 34,
    "start_time": "2021-12-23T12:25:51.430Z"
   },
   {
    "duration": 11,
    "start_time": "2021-12-23T12:25:51.468Z"
   },
   {
    "duration": 12,
    "start_time": "2021-12-23T12:25:51.482Z"
   },
   {
    "duration": 7,
    "start_time": "2021-12-23T12:25:51.501Z"
   },
   {
    "duration": 11,
    "start_time": "2021-12-23T12:25:51.511Z"
   },
   {
    "duration": 9,
    "start_time": "2021-12-23T12:25:51.564Z"
   },
   {
    "duration": 7,
    "start_time": "2021-12-23T12:25:51.576Z"
   },
   {
    "duration": 7,
    "start_time": "2021-12-23T12:25:51.586Z"
   },
   {
    "duration": 7,
    "start_time": "2021-12-23T12:25:51.596Z"
   },
   {
    "duration": 62,
    "start_time": "2021-12-23T12:25:51.605Z"
   },
   {
    "duration": 10,
    "start_time": "2021-12-23T12:25:51.670Z"
   },
   {
    "duration": 8,
    "start_time": "2021-12-23T12:25:51.683Z"
   },
   {
    "duration": 7,
    "start_time": "2021-12-23T12:25:51.693Z"
   },
   {
    "duration": 60,
    "start_time": "2021-12-23T12:25:51.703Z"
   },
   {
    "duration": 130,
    "start_time": "2021-12-23T12:25:51.766Z"
   },
   {
    "duration": 6,
    "start_time": "2021-12-23T12:25:51.899Z"
   },
   {
    "duration": 13,
    "start_time": "2021-12-23T12:25:51.907Z"
   },
   {
    "duration": 40,
    "start_time": "2021-12-23T12:25:51.922Z"
   },
   {
    "duration": 9,
    "start_time": "2021-12-23T12:25:51.964Z"
   },
   {
    "duration": 14,
    "start_time": "2021-12-23T12:25:51.976Z"
   },
   {
    "duration": 7,
    "start_time": "2021-12-23T12:25:51.992Z"
   },
   {
    "duration": 2049,
    "start_time": "2021-12-23T12:25:52.004Z"
   },
   {
    "duration": 2134,
    "start_time": "2021-12-23T12:25:51.922Z"
   },
   {
    "duration": 2119,
    "start_time": "2021-12-23T12:25:51.938Z"
   },
   {
    "duration": 2115,
    "start_time": "2021-12-23T12:25:51.944Z"
   },
   {
    "duration": 2112,
    "start_time": "2021-12-23T12:25:51.948Z"
   },
   {
    "duration": 380,
    "start_time": "2021-12-23T12:34:43.307Z"
   },
   {
    "duration": 361,
    "start_time": "2021-12-23T12:35:19.200Z"
   },
   {
    "duration": 372,
    "start_time": "2021-12-23T12:35:29.444Z"
   },
   {
    "duration": 344,
    "start_time": "2021-12-23T12:36:27.819Z"
   },
   {
    "duration": 136,
    "start_time": "2021-12-23T12:36:36.710Z"
   },
   {
    "duration": 49,
    "start_time": "2021-12-23T12:36:36.863Z"
   },
   {
    "duration": 17,
    "start_time": "2021-12-23T12:36:36.917Z"
   },
   {
    "duration": 150,
    "start_time": "2021-12-23T12:36:36.937Z"
   },
   {
    "duration": 11,
    "start_time": "2021-12-23T12:36:37.090Z"
   },
   {
    "duration": 7,
    "start_time": "2021-12-23T12:36:37.104Z"
   },
   {
    "duration": 10,
    "start_time": "2021-12-23T12:36:37.114Z"
   },
   {
    "duration": 37,
    "start_time": "2021-12-23T12:36:37.128Z"
   },
   {
    "duration": 7,
    "start_time": "2021-12-23T12:36:37.168Z"
   },
   {
    "duration": 8,
    "start_time": "2021-12-23T12:36:37.178Z"
   },
   {
    "duration": 6,
    "start_time": "2021-12-23T12:36:37.189Z"
   },
   {
    "duration": 8,
    "start_time": "2021-12-23T12:36:37.198Z"
   },
   {
    "duration": 8,
    "start_time": "2021-12-23T12:36:37.265Z"
   },
   {
    "duration": 6,
    "start_time": "2021-12-23T12:36:37.280Z"
   },
   {
    "duration": 8,
    "start_time": "2021-12-23T12:36:37.289Z"
   },
   {
    "duration": 8,
    "start_time": "2021-12-23T12:36:37.300Z"
   },
   {
    "duration": 6,
    "start_time": "2021-12-23T12:36:37.311Z"
   },
   {
    "duration": 8,
    "start_time": "2021-12-23T12:36:37.362Z"
   },
   {
    "duration": 11,
    "start_time": "2021-12-23T12:36:37.373Z"
   },
   {
    "duration": 137,
    "start_time": "2021-12-23T12:36:37.387Z"
   },
   {
    "duration": 8,
    "start_time": "2021-12-23T12:36:37.526Z"
   },
   {
    "duration": 39,
    "start_time": "2021-12-23T12:36:37.537Z"
   },
   {
    "duration": 11,
    "start_time": "2021-12-23T12:36:37.583Z"
   },
   {
    "duration": 13,
    "start_time": "2021-12-23T12:36:37.597Z"
   },
   {
    "duration": 15,
    "start_time": "2021-12-23T12:36:37.614Z"
   },
   {
    "duration": 185,
    "start_time": "2021-12-23T12:36:37.664Z"
   },
   {
    "duration": 13,
    "start_time": "2021-12-23T12:36:37.853Z"
   },
   {
    "duration": 18,
    "start_time": "2021-12-23T12:36:37.870Z"
   },
   {
    "duration": 104,
    "start_time": "2021-12-23T12:36:37.892Z"
   },
   {
    "duration": 13,
    "start_time": "2021-12-23T12:36:37.999Z"
   },
   {
    "duration": 525,
    "start_time": "2021-12-23T12:36:38.015Z"
   },
   {
    "duration": 221,
    "start_time": "2021-12-23T12:38:39.470Z"
   },
   {
    "duration": 11,
    "start_time": "2021-12-23T12:38:43.473Z"
   },
   {
    "duration": 237,
    "start_time": "2021-12-23T12:39:30.506Z"
   },
   {
    "duration": 12,
    "start_time": "2021-12-23T12:39:35.512Z"
   },
   {
    "duration": 416,
    "start_time": "2021-12-23T12:40:11.037Z"
   },
   {
    "duration": 11,
    "start_time": "2021-12-23T12:40:13.065Z"
   },
   {
    "duration": 15,
    "start_time": "2021-12-23T12:40:19.263Z"
   },
   {
    "duration": 51,
    "start_time": "2021-12-23T12:40:27.557Z"
   },
   {
    "duration": 15,
    "start_time": "2021-12-23T12:40:37.741Z"
   },
   {
    "duration": 2419,
    "start_time": "2021-12-23T12:48:25.893Z"
   },
   {
    "duration": 9,
    "start_time": "2021-12-23T12:51:16.380Z"
   },
   {
    "duration": 50,
    "start_time": "2021-12-23T12:51:23.519Z"
   },
   {
    "duration": 15,
    "start_time": "2021-12-23T12:51:42.903Z"
   },
   {
    "duration": 62417,
    "start_time": "2021-12-23T12:55:44.071Z"
   },
   {
    "duration": 17,
    "start_time": "2021-12-23T12:57:33.458Z"
   },
   {
    "duration": 2619,
    "start_time": "2021-12-23T12:58:27.150Z"
   },
   {
    "duration": 2619,
    "start_time": "2021-12-23T12:58:58.438Z"
   },
   {
    "duration": 2514,
    "start_time": "2021-12-23T12:59:55.687Z"
   },
   {
    "duration": 124,
    "start_time": "2021-12-23T13:00:05.196Z"
   },
   {
    "duration": 62,
    "start_time": "2021-12-23T13:00:05.323Z"
   },
   {
    "duration": 24,
    "start_time": "2021-12-23T13:00:05.389Z"
   },
   {
    "duration": 135,
    "start_time": "2021-12-23T13:00:05.416Z"
   },
   {
    "duration": 12,
    "start_time": "2021-12-23T13:00:05.563Z"
   },
   {
    "duration": 10,
    "start_time": "2021-12-23T13:00:05.577Z"
   },
   {
    "duration": 11,
    "start_time": "2021-12-23T13:00:05.590Z"
   },
   {
    "duration": 58,
    "start_time": "2021-12-23T13:00:05.603Z"
   },
   {
    "duration": 6,
    "start_time": "2021-12-23T13:00:05.666Z"
   },
   {
    "duration": 9,
    "start_time": "2021-12-23T13:00:05.676Z"
   },
   {
    "duration": 6,
    "start_time": "2021-12-23T13:00:05.688Z"
   },
   {
    "duration": 10,
    "start_time": "2021-12-23T13:00:05.696Z"
   },
   {
    "duration": 6,
    "start_time": "2021-12-23T13:00:05.709Z"
   },
   {
    "duration": 47,
    "start_time": "2021-12-23T13:00:05.717Z"
   },
   {
    "duration": 8,
    "start_time": "2021-12-23T13:00:05.767Z"
   },
   {
    "duration": 7,
    "start_time": "2021-12-23T13:00:05.778Z"
   },
   {
    "duration": 7,
    "start_time": "2021-12-23T13:00:05.788Z"
   },
   {
    "duration": 6,
    "start_time": "2021-12-23T13:00:05.798Z"
   },
   {
    "duration": 57,
    "start_time": "2021-12-23T13:00:05.806Z"
   },
   {
    "duration": 104,
    "start_time": "2021-12-23T13:00:05.866Z"
   },
   {
    "duration": 6,
    "start_time": "2021-12-23T13:00:05.972Z"
   },
   {
    "duration": 12,
    "start_time": "2021-12-23T13:00:05.981Z"
   },
   {
    "duration": 7,
    "start_time": "2021-12-23T13:00:05.996Z"
   },
   {
    "duration": 10,
    "start_time": "2021-12-23T13:00:06.005Z"
   },
   {
    "duration": 52,
    "start_time": "2021-12-23T13:00:06.018Z"
   },
   {
    "duration": 275,
    "start_time": "2021-12-23T13:00:06.073Z"
   },
   {
    "duration": 16,
    "start_time": "2021-12-23T13:00:06.353Z"
   },
   {
    "duration": 2469,
    "start_time": "2021-12-23T13:00:06.372Z"
   },
   {
    "duration": 20,
    "start_time": "2021-12-23T13:00:08.844Z"
   },
   {
    "duration": 9,
    "start_time": "2021-12-23T13:00:08.867Z"
   },
   {
    "duration": 2518,
    "start_time": "2021-12-23T13:00:08.879Z"
   },
   {
    "duration": 70,
    "start_time": "2021-12-23T13:00:11.400Z"
   },
   {
    "duration": 14,
    "start_time": "2021-12-23T13:00:11.473Z"
   },
   {
    "duration": 533,
    "start_time": "2021-12-23T13:00:11.490Z"
   },
   {
    "duration": 3069,
    "start_time": "2021-12-23T13:02:07.570Z"
   },
   {
    "duration": 13,
    "start_time": "2021-12-23T13:02:43.508Z"
   },
   {
    "duration": 69,
    "start_time": "2021-12-23T13:02:47.232Z"
   },
   {
    "duration": 14,
    "start_time": "2021-12-23T13:03:04.389Z"
   },
   {
    "duration": 2481,
    "start_time": "2021-12-23T13:08:28.932Z"
   },
   {
    "duration": 8,
    "start_time": "2021-12-23T13:09:28.506Z"
   },
   {
    "duration": 49,
    "start_time": "2021-12-23T13:09:32.540Z"
   },
   {
    "duration": 73,
    "start_time": "2021-12-23T13:09:49.274Z"
   },
   {
    "duration": 169,
    "start_time": "2021-12-23T13:10:13.529Z"
   },
   {
    "duration": 74,
    "start_time": "2021-12-23T13:10:13.701Z"
   },
   {
    "duration": 17,
    "start_time": "2021-12-23T13:10:13.778Z"
   },
   {
    "duration": 136,
    "start_time": "2021-12-23T13:10:13.798Z"
   },
   {
    "duration": 12,
    "start_time": "2021-12-23T13:10:13.936Z"
   },
   {
    "duration": 18,
    "start_time": "2021-12-23T13:10:13.950Z"
   },
   {
    "duration": 10,
    "start_time": "2021-12-23T13:10:13.970Z"
   },
   {
    "duration": 9,
    "start_time": "2021-12-23T13:10:13.983Z"
   },
   {
    "duration": 7,
    "start_time": "2021-12-23T13:10:13.995Z"
   },
   {
    "duration": 61,
    "start_time": "2021-12-23T13:10:14.005Z"
   },
   {
    "duration": 7,
    "start_time": "2021-12-23T13:10:14.068Z"
   },
   {
    "duration": 9,
    "start_time": "2021-12-23T13:10:14.078Z"
   },
   {
    "duration": 7,
    "start_time": "2021-12-23T13:10:14.090Z"
   },
   {
    "duration": 6,
    "start_time": "2021-12-23T13:10:14.100Z"
   },
   {
    "duration": 61,
    "start_time": "2021-12-23T13:10:14.109Z"
   },
   {
    "duration": 11,
    "start_time": "2021-12-23T13:10:14.172Z"
   },
   {
    "duration": 10,
    "start_time": "2021-12-23T13:10:14.185Z"
   },
   {
    "duration": 9,
    "start_time": "2021-12-23T13:10:14.197Z"
   },
   {
    "duration": 55,
    "start_time": "2021-12-23T13:10:14.209Z"
   },
   {
    "duration": 112,
    "start_time": "2021-12-23T13:10:14.266Z"
   },
   {
    "duration": 7,
    "start_time": "2021-12-23T13:10:14.380Z"
   },
   {
    "duration": 15,
    "start_time": "2021-12-23T13:10:14.390Z"
   },
   {
    "duration": 10,
    "start_time": "2021-12-23T13:10:14.412Z"
   },
   {
    "duration": 10,
    "start_time": "2021-12-23T13:10:14.465Z"
   },
   {
    "duration": 14,
    "start_time": "2021-12-23T13:10:14.477Z"
   },
   {
    "duration": 295,
    "start_time": "2021-12-23T13:10:14.494Z"
   },
   {
    "duration": 12,
    "start_time": "2021-12-23T13:10:14.791Z"
   },
   {
    "duration": 3017,
    "start_time": "2021-12-23T13:10:14.806Z"
   },
   {
    "duration": 8,
    "start_time": "2021-12-23T13:10:17.826Z"
   },
   {
    "duration": 27,
    "start_time": "2021-12-23T13:10:17.837Z"
   },
   {
    "duration": 3147,
    "start_time": "2021-12-23T13:10:17.867Z"
   },
   {
    "duration": 7,
    "start_time": "2021-12-23T13:10:21.017Z"
   },
   {
    "duration": 2862,
    "start_time": "2021-12-23T13:10:21.027Z"
   },
   {
    "duration": 8,
    "start_time": "2021-12-23T13:10:23.892Z"
   },
   {
    "duration": 69,
    "start_time": "2021-12-23T13:10:23.902Z"
   },
   {
    "duration": 18,
    "start_time": "2021-12-23T13:10:23.974Z"
   },
   {
    "duration": 507,
    "start_time": "2021-12-23T13:10:23.995Z"
   },
   {
    "duration": 9,
    "start_time": "2021-12-23T13:11:20.459Z"
   },
   {
    "duration": 78,
    "start_time": "2021-12-23T13:11:34.837Z"
   },
   {
    "duration": 14,
    "start_time": "2021-12-23T13:11:40.091Z"
   },
   {
    "duration": 8,
    "start_time": "2021-12-23T13:12:31.420Z"
   },
   {
    "duration": 51,
    "start_time": "2021-12-23T13:12:35.228Z"
   },
   {
    "duration": 16,
    "start_time": "2021-12-23T13:12:43.026Z"
   },
   {
    "duration": 9,
    "start_time": "2021-12-23T13:13:36.371Z"
   },
   {
    "duration": 8,
    "start_time": "2021-12-23T13:13:39.884Z"
   },
   {
    "duration": 21,
    "start_time": "2021-12-23T13:13:48.364Z"
   },
   {
    "duration": 61,
    "start_time": "2021-12-23T13:13:54.117Z"
   },
   {
    "duration": 8,
    "start_time": "2021-12-23T13:16:03.621Z"
   },
   {
    "duration": 2898,
    "start_time": "2021-12-23T13:16:05.201Z"
   },
   {
    "duration": 11,
    "start_time": "2021-12-23T13:16:16.539Z"
   },
   {
    "duration": 10,
    "start_time": "2021-12-23T13:16:29.771Z"
   },
   {
    "duration": 61,
    "start_time": "2021-12-23T13:16:32.152Z"
   },
   {
    "duration": 16,
    "start_time": "2021-12-23T13:16:43.878Z"
   },
   {
    "duration": 2725,
    "start_time": "2021-12-23T13:19:59.504Z"
   },
   {
    "duration": 9,
    "start_time": "2021-12-23T13:20:02.452Z"
   },
   {
    "duration": 50,
    "start_time": "2021-12-23T13:20:04.974Z"
   },
   {
    "duration": 14,
    "start_time": "2021-12-23T13:20:13.503Z"
   },
   {
    "duration": 7,
    "start_time": "2021-12-23T13:21:56.551Z"
   },
   {
    "duration": 2597,
    "start_time": "2021-12-23T13:23:12.072Z"
   },
   {
    "duration": 12,
    "start_time": "2021-12-23T13:23:44.391Z"
   },
   {
    "duration": 52,
    "start_time": "2021-12-23T13:23:47.980Z"
   },
   {
    "duration": 16,
    "start_time": "2021-12-23T13:24:10.144Z"
   },
   {
    "duration": 4,
    "start_time": "2021-12-23T13:25:06.689Z"
   },
   {
    "duration": 8,
    "start_time": "2021-12-23T13:33:56.159Z"
   },
   {
    "duration": 140,
    "start_time": "2021-12-23T13:34:37.266Z"
   },
   {
    "duration": 65,
    "start_time": "2021-12-23T13:34:37.409Z"
   },
   {
    "duration": 22,
    "start_time": "2021-12-23T13:34:37.477Z"
   },
   {
    "duration": 125,
    "start_time": "2021-12-23T13:34:37.502Z"
   },
   {
    "duration": 14,
    "start_time": "2021-12-23T13:34:37.631Z"
   },
   {
    "duration": 8,
    "start_time": "2021-12-23T13:34:37.663Z"
   },
   {
    "duration": 10,
    "start_time": "2021-12-23T13:34:37.674Z"
   },
   {
    "duration": 8,
    "start_time": "2021-12-23T13:34:37.686Z"
   },
   {
    "duration": 5,
    "start_time": "2021-12-23T13:34:37.698Z"
   },
   {
    "duration": 8,
    "start_time": "2021-12-23T13:34:37.706Z"
   },
   {
    "duration": 50,
    "start_time": "2021-12-23T13:34:37.716Z"
   },
   {
    "duration": 20,
    "start_time": "2021-12-23T13:34:37.769Z"
   },
   {
    "duration": 22,
    "start_time": "2021-12-23T13:34:37.791Z"
   },
   {
    "duration": 8,
    "start_time": "2021-12-23T13:34:37.815Z"
   },
   {
    "duration": 13,
    "start_time": "2021-12-23T13:34:37.826Z"
   },
   {
    "duration": 22,
    "start_time": "2021-12-23T13:34:37.841Z"
   },
   {
    "duration": 14,
    "start_time": "2021-12-23T13:34:37.866Z"
   },
   {
    "duration": 17,
    "start_time": "2021-12-23T13:34:37.882Z"
   },
   {
    "duration": 13,
    "start_time": "2021-12-23T13:34:37.902Z"
   },
   {
    "duration": 119,
    "start_time": "2021-12-23T13:34:37.918Z"
   },
   {
    "duration": 23,
    "start_time": "2021-12-23T13:34:38.040Z"
   },
   {
    "duration": 16,
    "start_time": "2021-12-23T13:34:38.066Z"
   },
   {
    "duration": 10,
    "start_time": "2021-12-23T13:34:38.085Z"
   },
   {
    "duration": 12,
    "start_time": "2021-12-23T13:34:38.098Z"
   },
   {
    "duration": 58,
    "start_time": "2021-12-23T13:34:38.113Z"
   },
   {
    "duration": 282,
    "start_time": "2021-12-23T13:34:38.174Z"
   },
   {
    "duration": 12,
    "start_time": "2021-12-23T13:34:38.461Z"
   },
   {
    "duration": 2486,
    "start_time": "2021-12-23T13:34:38.477Z"
   },
   {
    "duration": 7,
    "start_time": "2021-12-23T13:34:40.965Z"
   },
   {
    "duration": 12,
    "start_time": "2021-12-23T13:34:40.975Z"
   },
   {
    "duration": 2490,
    "start_time": "2021-12-23T13:34:40.989Z"
   },
   {
    "duration": 9,
    "start_time": "2021-12-23T13:34:43.482Z"
   },
   {
    "duration": 2582,
    "start_time": "2021-12-23T13:34:43.494Z"
   },
   {
    "duration": 10,
    "start_time": "2021-12-23T13:34:46.078Z"
   },
   {
    "duration": 7,
    "start_time": "2021-12-23T13:34:46.091Z"
   },
   {
    "duration": 2709,
    "start_time": "2021-12-23T13:34:46.100Z"
   },
   {
    "duration": 8,
    "start_time": "2021-12-23T13:34:48.811Z"
   },
   {
    "duration": 6,
    "start_time": "2021-12-23T13:34:48.821Z"
   },
   {
    "duration": 309,
    "start_time": "2021-12-23T13:34:48.830Z"
   },
   {
    "duration": 2154,
    "start_time": "2021-12-23T13:34:46.987Z"
   },
   {
    "duration": 2152,
    "start_time": "2021-12-23T13:34:46.991Z"
   },
   {
    "duration": 2152,
    "start_time": "2021-12-23T13:34:46.994Z"
   },
   {
    "duration": 2150,
    "start_time": "2021-12-23T13:34:46.998Z"
   },
   {
    "duration": 14,
    "start_time": "2021-12-23T13:35:58.876Z"
   },
   {
    "duration": 124,
    "start_time": "2021-12-23T13:36:22.287Z"
   },
   {
    "duration": 77,
    "start_time": "2021-12-23T13:36:22.413Z"
   },
   {
    "duration": 16,
    "start_time": "2021-12-23T13:36:22.493Z"
   },
   {
    "duration": 156,
    "start_time": "2021-12-23T13:36:22.512Z"
   },
   {
    "duration": 14,
    "start_time": "2021-12-23T13:36:22.671Z"
   },
   {
    "duration": 9,
    "start_time": "2021-12-23T13:36:22.687Z"
   },
   {
    "duration": 8,
    "start_time": "2021-12-23T13:36:22.698Z"
   },
   {
    "duration": 8,
    "start_time": "2021-12-23T13:36:22.708Z"
   },
   {
    "duration": 46,
    "start_time": "2021-12-23T13:36:22.720Z"
   },
   {
    "duration": 9,
    "start_time": "2021-12-23T13:36:22.768Z"
   },
   {
    "duration": 7,
    "start_time": "2021-12-23T13:36:22.780Z"
   },
   {
    "duration": 8,
    "start_time": "2021-12-23T13:36:22.790Z"
   },
   {
    "duration": 8,
    "start_time": "2021-12-23T13:36:22.801Z"
   },
   {
    "duration": 56,
    "start_time": "2021-12-23T13:36:22.811Z"
   },
   {
    "duration": 8,
    "start_time": "2021-12-23T13:36:22.871Z"
   },
   {
    "duration": 7,
    "start_time": "2021-12-23T13:36:22.881Z"
   },
   {
    "duration": 6,
    "start_time": "2021-12-23T13:36:22.891Z"
   },
   {
    "duration": 8,
    "start_time": "2021-12-23T13:36:22.900Z"
   },
   {
    "duration": 10,
    "start_time": "2021-12-23T13:36:22.963Z"
   },
   {
    "duration": 111,
    "start_time": "2021-12-23T13:36:22.975Z"
   },
   {
    "duration": 20,
    "start_time": "2021-12-23T13:36:23.088Z"
   },
   {
    "duration": 16,
    "start_time": "2021-12-23T13:36:23.111Z"
   },
   {
    "duration": 8,
    "start_time": "2021-12-23T13:36:23.130Z"
   },
   {
    "duration": 11,
    "start_time": "2021-12-23T13:36:23.164Z"
   },
   {
    "duration": 11,
    "start_time": "2021-12-23T13:36:23.178Z"
   },
   {
    "duration": 352,
    "start_time": "2021-12-23T13:36:23.193Z"
   },
   {
    "duration": 12,
    "start_time": "2021-12-23T13:36:23.562Z"
   },
   {
    "duration": 2574,
    "start_time": "2021-12-23T13:36:23.577Z"
   },
   {
    "duration": 8,
    "start_time": "2021-12-23T13:36:26.162Z"
   },
   {
    "duration": 12,
    "start_time": "2021-12-23T13:36:26.173Z"
   },
   {
    "duration": 2537,
    "start_time": "2021-12-23T13:36:26.187Z"
   },
   {
    "duration": 8,
    "start_time": "2021-12-23T13:36:28.726Z"
   },
   {
    "duration": 2839,
    "start_time": "2021-12-23T13:36:28.736Z"
   },
   {
    "duration": 7,
    "start_time": "2021-12-23T13:36:31.578Z"
   },
   {
    "duration": 8,
    "start_time": "2021-12-23T13:36:31.587Z"
   },
   {
    "duration": 2605,
    "start_time": "2021-12-23T13:36:31.598Z"
   },
   {
    "duration": 8,
    "start_time": "2021-12-23T13:36:34.205Z"
   },
   {
    "duration": 7,
    "start_time": "2021-12-23T13:36:34.215Z"
   },
   {
    "duration": 346,
    "start_time": "2021-12-23T13:36:34.224Z"
   },
   {
    "duration": 2162,
    "start_time": "2021-12-23T13:36:32.411Z"
   },
   {
    "duration": 2161,
    "start_time": "2021-12-23T13:36:32.414Z"
   },
   {
    "duration": 2159,
    "start_time": "2021-12-23T13:36:32.418Z"
   },
   {
    "duration": 2157,
    "start_time": "2021-12-23T13:36:32.422Z"
   },
   {
    "duration": 7,
    "start_time": "2021-12-23T13:37:36.500Z"
   },
   {
    "duration": 7,
    "start_time": "2021-12-23T13:37:41.138Z"
   },
   {
    "duration": 2642,
    "start_time": "2021-12-23T13:41:07.281Z"
   },
   {
    "duration": 7,
    "start_time": "2021-12-23T13:41:13.829Z"
   },
   {
    "duration": 9,
    "start_time": "2021-12-23T13:41:17.373Z"
   },
   {
    "duration": 8,
    "start_time": "2021-12-23T13:42:03.980Z"
   },
   {
    "duration": 7,
    "start_time": "2021-12-23T13:42:05.490Z"
   },
   {
    "duration": 8,
    "start_time": "2021-12-23T13:42:10.024Z"
   },
   {
    "duration": 209,
    "start_time": "2021-12-23T13:42:21.659Z"
   },
   {
    "duration": 49,
    "start_time": "2021-12-23T13:42:21.872Z"
   },
   {
    "duration": 40,
    "start_time": "2021-12-23T13:42:21.924Z"
   },
   {
    "duration": 127,
    "start_time": "2021-12-23T13:42:21.967Z"
   },
   {
    "duration": 12,
    "start_time": "2021-12-23T13:42:22.096Z"
   },
   {
    "duration": 12,
    "start_time": "2021-12-23T13:42:22.111Z"
   },
   {
    "duration": 15,
    "start_time": "2021-12-23T13:42:22.125Z"
   },
   {
    "duration": 28,
    "start_time": "2021-12-23T13:42:22.144Z"
   },
   {
    "duration": 7,
    "start_time": "2021-12-23T13:42:22.176Z"
   },
   {
    "duration": 9,
    "start_time": "2021-12-23T13:42:22.187Z"
   },
   {
    "duration": 5,
    "start_time": "2021-12-23T13:42:22.199Z"
   },
   {
    "duration": 7,
    "start_time": "2021-12-23T13:42:22.207Z"
   },
   {
    "duration": 9,
    "start_time": "2021-12-23T13:42:22.263Z"
   },
   {
    "duration": 8,
    "start_time": "2021-12-23T13:42:22.274Z"
   },
   {
    "duration": 7,
    "start_time": "2021-12-23T13:42:22.285Z"
   },
   {
    "duration": 7,
    "start_time": "2021-12-23T13:42:22.295Z"
   },
   {
    "duration": 6,
    "start_time": "2021-12-23T13:42:22.305Z"
   },
   {
    "duration": 7,
    "start_time": "2021-12-23T13:42:22.362Z"
   },
   {
    "duration": 37,
    "start_time": "2021-12-23T13:42:22.371Z"
   },
   {
    "duration": 96,
    "start_time": "2021-12-23T13:42:22.412Z"
   },
   {
    "duration": 6,
    "start_time": "2021-12-23T13:42:22.510Z"
   },
   {
    "duration": 29,
    "start_time": "2021-12-23T13:42:22.518Z"
   },
   {
    "duration": 9,
    "start_time": "2021-12-23T13:42:22.563Z"
   },
   {
    "duration": 22,
    "start_time": "2021-12-23T13:42:22.575Z"
   },
   {
    "duration": 28,
    "start_time": "2021-12-23T13:42:22.600Z"
   },
   {
    "duration": 280,
    "start_time": "2021-12-23T13:42:22.631Z"
   },
   {
    "duration": 12,
    "start_time": "2021-12-23T13:42:22.913Z"
   },
   {
    "duration": 2618,
    "start_time": "2021-12-23T13:42:22.927Z"
   },
   {
    "duration": 18,
    "start_time": "2021-12-23T13:42:25.547Z"
   },
   {
    "duration": 18,
    "start_time": "2021-12-23T13:42:25.567Z"
   },
   {
    "duration": 2736,
    "start_time": "2021-12-23T13:42:25.588Z"
   },
   {
    "duration": 8,
    "start_time": "2021-12-23T13:42:28.326Z"
   },
   {
    "duration": 2892,
    "start_time": "2021-12-23T13:42:28.337Z"
   },
   {
    "duration": 8,
    "start_time": "2021-12-23T13:42:31.231Z"
   },
   {
    "duration": 24,
    "start_time": "2021-12-23T13:42:31.241Z"
   },
   {
    "duration": 2706,
    "start_time": "2021-12-23T13:42:31.268Z"
   },
   {
    "duration": 8,
    "start_time": "2021-12-23T13:42:33.976Z"
   },
   {
    "duration": 2919,
    "start_time": "2021-12-23T13:42:33.987Z"
   },
   {
    "duration": 7,
    "start_time": "2021-12-23T13:42:36.909Z"
   },
   {
    "duration": 6,
    "start_time": "2021-12-23T13:42:36.919Z"
   },
   {
    "duration": 40,
    "start_time": "2021-12-23T13:42:36.928Z"
   },
   {
    "duration": 2697,
    "start_time": "2021-12-23T13:42:36.971Z"
   },
   {
    "duration": 12,
    "start_time": "2021-12-23T13:42:39.671Z"
   },
   {
    "duration": 49,
    "start_time": "2021-12-23T13:42:39.785Z"
   },
   {
    "duration": 40,
    "start_time": "2021-12-23T13:42:39.837Z"
   },
   {
    "duration": 131,
    "start_time": "2021-12-23T13:42:42.003Z"
   },
   {
    "duration": 61,
    "start_time": "2021-12-23T13:42:42.136Z"
   },
   {
    "duration": 16,
    "start_time": "2021-12-23T13:42:42.201Z"
   },
   {
    "duration": 144,
    "start_time": "2021-12-23T13:42:42.220Z"
   },
   {
    "duration": 15,
    "start_time": "2021-12-23T13:42:42.367Z"
   },
   {
    "duration": 14,
    "start_time": "2021-12-23T13:42:42.384Z"
   },
   {
    "duration": 10,
    "start_time": "2021-12-23T13:42:42.400Z"
   },
   {
    "duration": 9,
    "start_time": "2021-12-23T13:42:42.413Z"
   },
   {
    "duration": 7,
    "start_time": "2021-12-23T13:42:42.463Z"
   },
   {
    "duration": 14,
    "start_time": "2021-12-23T13:42:42.474Z"
   },
   {
    "duration": 7,
    "start_time": "2021-12-23T13:42:42.490Z"
   },
   {
    "duration": 6,
    "start_time": "2021-12-23T13:42:42.500Z"
   },
   {
    "duration": 7,
    "start_time": "2021-12-23T13:42:42.509Z"
   },
   {
    "duration": 47,
    "start_time": "2021-12-23T13:42:42.519Z"
   },
   {
    "duration": 10,
    "start_time": "2021-12-23T13:42:42.569Z"
   },
   {
    "duration": 7,
    "start_time": "2021-12-23T13:42:42.582Z"
   },
   {
    "duration": 6,
    "start_time": "2021-12-23T13:42:42.592Z"
   },
   {
    "duration": 5,
    "start_time": "2021-12-23T13:42:42.600Z"
   },
   {
    "duration": 55,
    "start_time": "2021-12-23T13:42:42.608Z"
   },
   {
    "duration": 111,
    "start_time": "2021-12-23T13:42:42.666Z"
   },
   {
    "duration": 7,
    "start_time": "2021-12-23T13:42:42.780Z"
   },
   {
    "duration": 17,
    "start_time": "2021-12-23T13:42:42.789Z"
   },
   {
    "duration": 7,
    "start_time": "2021-12-23T13:42:42.809Z"
   },
   {
    "duration": 47,
    "start_time": "2021-12-23T13:42:42.818Z"
   },
   {
    "duration": 14,
    "start_time": "2021-12-23T13:42:42.868Z"
   },
   {
    "duration": 289,
    "start_time": "2021-12-23T13:42:42.885Z"
   },
   {
    "duration": 11,
    "start_time": "2021-12-23T13:42:43.180Z"
   },
   {
    "duration": 2742,
    "start_time": "2021-12-23T13:42:43.194Z"
   },
   {
    "duration": 7,
    "start_time": "2021-12-23T13:42:45.938Z"
   },
   {
    "duration": 24,
    "start_time": "2021-12-23T13:42:45.948Z"
   },
   {
    "duration": 2870,
    "start_time": "2021-12-23T13:42:45.976Z"
   },
   {
    "duration": 17,
    "start_time": "2021-12-23T13:42:48.849Z"
   },
   {
    "duration": 3003,
    "start_time": "2021-12-23T13:42:48.869Z"
   },
   {
    "duration": 8,
    "start_time": "2021-12-23T13:42:51.875Z"
   },
   {
    "duration": 15,
    "start_time": "2021-12-23T13:42:51.886Z"
   },
   {
    "duration": 2843,
    "start_time": "2021-12-23T13:42:51.904Z"
   },
   {
    "duration": 19,
    "start_time": "2021-12-23T13:42:54.750Z"
   },
   {
    "duration": 2709,
    "start_time": "2021-12-23T13:42:54.772Z"
   },
   {
    "duration": 8,
    "start_time": "2021-12-23T13:42:57.483Z"
   },
   {
    "duration": 7,
    "start_time": "2021-12-23T13:42:57.493Z"
   },
   {
    "duration": 9,
    "start_time": "2021-12-23T13:42:57.503Z"
   },
   {
    "duration": 2713,
    "start_time": "2021-12-23T13:42:57.515Z"
   },
   {
    "duration": 7,
    "start_time": "2021-12-23T13:43:00.231Z"
   },
   {
    "duration": 72,
    "start_time": "2021-12-23T13:43:00.240Z"
   },
   {
    "duration": 14,
    "start_time": "2021-12-23T13:43:00.315Z"
   },
   {
    "duration": 2629,
    "start_time": "2021-12-23T13:44:05.118Z"
   },
   {
    "duration": 48,
    "start_time": "2021-12-23T13:44:08.787Z"
   },
   {
    "duration": 13,
    "start_time": "2021-12-23T13:44:12.399Z"
   },
   {
    "duration": 8,
    "start_time": "2021-12-23T13:45:05.199Z"
   },
   {
    "duration": 2902,
    "start_time": "2021-12-23T13:45:05.882Z"
   },
   {
    "duration": 7,
    "start_time": "2021-12-23T13:45:08.786Z"
   },
   {
    "duration": 72,
    "start_time": "2021-12-23T13:45:08.796Z"
   },
   {
    "duration": 16,
    "start_time": "2021-12-23T13:45:08.871Z"
   },
   {
    "duration": 6,
    "start_time": "2021-12-23T13:46:03.544Z"
   },
   {
    "duration": 2682,
    "start_time": "2021-12-23T13:46:04.243Z"
   },
   {
    "duration": 10,
    "start_time": "2021-12-23T13:46:06.928Z"
   },
   {
    "duration": 70,
    "start_time": "2021-12-23T13:46:06.941Z"
   },
   {
    "duration": 14,
    "start_time": "2021-12-23T13:46:07.014Z"
   },
   {
    "duration": 138,
    "start_time": "2021-12-23T13:47:13.070Z"
   },
   {
    "duration": 72,
    "start_time": "2021-12-23T13:47:13.211Z"
   },
   {
    "duration": 15,
    "start_time": "2021-12-23T13:47:13.286Z"
   },
   {
    "duration": 143,
    "start_time": "2021-12-23T13:47:13.304Z"
   },
   {
    "duration": 17,
    "start_time": "2021-12-23T13:47:13.451Z"
   },
   {
    "duration": 10,
    "start_time": "2021-12-23T13:47:13.471Z"
   },
   {
    "duration": 11,
    "start_time": "2021-12-23T13:47:13.483Z"
   },
   {
    "duration": 8,
    "start_time": "2021-12-23T13:47:13.497Z"
   },
   {
    "duration": 5,
    "start_time": "2021-12-23T13:47:13.509Z"
   },
   {
    "duration": 9,
    "start_time": "2021-12-23T13:47:13.564Z"
   },
   {
    "duration": 7,
    "start_time": "2021-12-23T13:47:13.575Z"
   },
   {
    "duration": 10,
    "start_time": "2021-12-23T13:47:13.584Z"
   },
   {
    "duration": 6,
    "start_time": "2021-12-23T13:47:13.597Z"
   },
   {
    "duration": 16,
    "start_time": "2021-12-23T13:47:13.606Z"
   },
   {
    "duration": 45,
    "start_time": "2021-12-23T13:47:13.624Z"
   },
   {
    "duration": 10,
    "start_time": "2021-12-23T13:47:13.672Z"
   },
   {
    "duration": 6,
    "start_time": "2021-12-23T13:47:13.685Z"
   },
   {
    "duration": 6,
    "start_time": "2021-12-23T13:47:13.693Z"
   },
   {
    "duration": 10,
    "start_time": "2021-12-23T13:47:13.701Z"
   },
   {
    "duration": 133,
    "start_time": "2021-12-23T13:47:13.713Z"
   },
   {
    "duration": 20,
    "start_time": "2021-12-23T13:47:13.849Z"
   },
   {
    "duration": 25,
    "start_time": "2021-12-23T13:47:13.871Z"
   },
   {
    "duration": 17,
    "start_time": "2021-12-23T13:47:13.901Z"
   },
   {
    "duration": 23,
    "start_time": "2021-12-23T13:47:13.921Z"
   },
   {
    "duration": 19,
    "start_time": "2021-12-23T13:47:13.946Z"
   },
   {
    "duration": 286,
    "start_time": "2021-12-23T13:47:13.967Z"
   },
   {
    "duration": 19,
    "start_time": "2021-12-23T13:47:14.256Z"
   },
   {
    "duration": 2847,
    "start_time": "2021-12-23T13:47:14.278Z"
   },
   {
    "duration": 8,
    "start_time": "2021-12-23T13:47:17.127Z"
   },
   {
    "duration": 27,
    "start_time": "2021-12-23T13:47:17.138Z"
   },
   {
    "duration": 2978,
    "start_time": "2021-12-23T13:47:17.168Z"
   },
   {
    "duration": 22,
    "start_time": "2021-12-23T13:47:20.149Z"
   },
   {
    "duration": 2833,
    "start_time": "2021-12-23T13:47:20.174Z"
   },
   {
    "duration": 7,
    "start_time": "2021-12-23T13:47:23.010Z"
   },
   {
    "duration": 4,
    "start_time": "2021-12-23T13:47:23.020Z"
   },
   {
    "duration": 2725,
    "start_time": "2021-12-23T13:47:23.027Z"
   },
   {
    "duration": 10,
    "start_time": "2021-12-23T13:47:25.763Z"
   },
   {
    "duration": 2721,
    "start_time": "2021-12-23T13:47:25.776Z"
   },
   {
    "duration": 7,
    "start_time": "2021-12-23T13:47:28.500Z"
   },
   {
    "duration": 7,
    "start_time": "2021-12-23T13:47:28.510Z"
   },
   {
    "duration": 6,
    "start_time": "2021-12-23T13:47:28.519Z"
   },
   {
    "duration": 3077,
    "start_time": "2021-12-23T13:47:28.528Z"
   },
   {
    "duration": 8,
    "start_time": "2021-12-23T13:47:31.609Z"
   },
   {
    "duration": 77,
    "start_time": "2021-12-23T13:47:31.620Z"
   },
   {
    "duration": 15,
    "start_time": "2021-12-23T13:47:31.700Z"
   },
   {
    "duration": 322,
    "start_time": "2021-12-25T10:36:30.126Z"
   },
   {
    "duration": 987,
    "start_time": "2021-12-25T10:36:34.580Z"
   },
   {
    "duration": 50,
    "start_time": "2021-12-25T10:36:35.570Z"
   },
   {
    "duration": 24,
    "start_time": "2021-12-25T10:36:35.624Z"
   },
   {
    "duration": 122,
    "start_time": "2021-12-25T10:36:35.668Z"
   },
   {
    "duration": 13,
    "start_time": "2021-12-25T10:36:35.793Z"
   },
   {
    "duration": 17,
    "start_time": "2021-12-25T10:36:35.808Z"
   },
   {
    "duration": 15,
    "start_time": "2021-12-25T10:36:35.828Z"
   },
   {
    "duration": 27,
    "start_time": "2021-12-25T10:36:35.847Z"
   },
   {
    "duration": 7,
    "start_time": "2021-12-25T10:36:35.877Z"
   },
   {
    "duration": 16,
    "start_time": "2021-12-25T10:36:35.886Z"
   },
   {
    "duration": 5,
    "start_time": "2021-12-25T10:36:35.905Z"
   },
   {
    "duration": 8,
    "start_time": "2021-12-25T10:36:35.912Z"
   },
   {
    "duration": 44,
    "start_time": "2021-12-25T10:36:35.923Z"
   },
   {
    "duration": 7,
    "start_time": "2021-12-25T10:36:35.969Z"
   },
   {
    "duration": 9,
    "start_time": "2021-12-25T10:36:35.979Z"
   },
   {
    "duration": 18,
    "start_time": "2021-12-25T10:36:35.990Z"
   },
   {
    "duration": 6,
    "start_time": "2021-12-25T10:36:36.011Z"
   },
   {
    "duration": 7,
    "start_time": "2021-12-25T10:36:36.020Z"
   },
   {
    "duration": 9,
    "start_time": "2021-12-25T10:36:36.066Z"
   },
   {
    "duration": 108,
    "start_time": "2021-12-25T10:36:36.077Z"
   },
   {
    "duration": 6,
    "start_time": "2021-12-25T10:36:36.187Z"
   },
   {
    "duration": 20,
    "start_time": "2021-12-25T10:36:36.196Z"
   },
   {
    "duration": 5,
    "start_time": "2021-12-25T10:36:36.221Z"
   },
   {
    "duration": 41,
    "start_time": "2021-12-25T10:36:36.229Z"
   },
   {
    "duration": 12,
    "start_time": "2021-12-25T10:36:36.273Z"
   },
   {
    "duration": 299,
    "start_time": "2021-12-25T10:36:36.287Z"
   },
   {
    "duration": 12,
    "start_time": "2021-12-25T10:36:36.588Z"
   },
   {
    "duration": 2887,
    "start_time": "2021-12-25T10:36:36.603Z"
   },
   {
    "duration": 10,
    "start_time": "2021-12-25T10:36:39.492Z"
   },
   {
    "duration": 19,
    "start_time": "2021-12-25T10:36:39.505Z"
   },
   {
    "duration": 2679,
    "start_time": "2021-12-25T10:36:39.527Z"
   },
   {
    "duration": 8,
    "start_time": "2021-12-25T10:36:42.208Z"
   },
   {
    "duration": 2797,
    "start_time": "2021-12-25T10:36:42.219Z"
   },
   {
    "duration": 8,
    "start_time": "2021-12-25T10:36:45.018Z"
   },
   {
    "duration": 6,
    "start_time": "2021-12-25T10:36:45.029Z"
   },
   {
    "duration": 2646,
    "start_time": "2021-12-25T10:36:45.037Z"
   },
   {
    "duration": 7,
    "start_time": "2021-12-25T10:36:47.685Z"
   },
   {
    "duration": 2594,
    "start_time": "2021-12-25T10:36:47.694Z"
   },
   {
    "duration": 8,
    "start_time": "2021-12-25T10:36:50.291Z"
   },
   {
    "duration": 11,
    "start_time": "2021-12-25T10:36:50.301Z"
   },
   {
    "duration": 11,
    "start_time": "2021-12-25T10:36:50.315Z"
   },
   {
    "duration": 2819,
    "start_time": "2021-12-25T10:36:50.329Z"
   },
   {
    "duration": 21,
    "start_time": "2021-12-25T10:36:53.151Z"
   },
   {
    "duration": 50,
    "start_time": "2021-12-25T10:36:53.175Z"
   },
   {
    "duration": 47,
    "start_time": "2021-12-25T10:36:53.227Z"
   },
   {
    "duration": 5,
    "start_time": "2021-12-25T10:36:53.291Z"
   },
   {
    "duration": 7,
    "start_time": "2021-12-25T10:37:00.689Z"
   },
   {
    "duration": 22,
    "start_time": "2021-12-25T10:38:29.996Z"
   },
   {
    "duration": 303,
    "start_time": "2021-12-25T10:38:54.316Z"
   },
   {
    "duration": 1056,
    "start_time": "2021-12-25T10:39:32.845Z"
   },
   {
    "duration": 1610,
    "start_time": "2021-12-25T10:41:57.534Z"
   },
   {
    "duration": 85,
    "start_time": "2021-12-25T10:41:59.216Z"
   },
   {
    "duration": 6,
    "start_time": "2021-12-25T10:41:59.664Z"
   },
   {
    "duration": 5,
    "start_time": "2021-12-25T10:42:07.160Z"
   },
   {
    "duration": 5,
    "start_time": "2021-12-25T10:42:07.644Z"
   },
   {
    "duration": 46,
    "start_time": "2021-12-25T10:42:21.849Z"
   },
   {
    "duration": 725,
    "start_time": "2021-12-25T11:03:19.418Z"
   },
   {
    "duration": 141,
    "start_time": "2021-12-25T11:04:20.990Z"
   },
   {
    "duration": 79,
    "start_time": "2021-12-25T11:04:21.133Z"
   },
   {
    "duration": 15,
    "start_time": "2021-12-25T11:04:21.215Z"
   },
   {
    "duration": 144,
    "start_time": "2021-12-25T11:04:21.233Z"
   },
   {
    "duration": 13,
    "start_time": "2021-12-25T11:04:21.384Z"
   },
   {
    "duration": 7,
    "start_time": "2021-12-25T11:04:21.400Z"
   },
   {
    "duration": 12,
    "start_time": "2021-12-25T11:04:21.409Z"
   },
   {
    "duration": 8,
    "start_time": "2021-12-25T11:04:21.425Z"
   },
   {
    "duration": 7,
    "start_time": "2021-12-25T11:04:21.474Z"
   },
   {
    "duration": 12,
    "start_time": "2021-12-25T11:04:21.483Z"
   },
   {
    "duration": 6,
    "start_time": "2021-12-25T11:04:21.498Z"
   },
   {
    "duration": 6,
    "start_time": "2021-12-25T11:04:21.507Z"
   },
   {
    "duration": 10,
    "start_time": "2021-12-25T11:04:21.515Z"
   },
   {
    "duration": 49,
    "start_time": "2021-12-25T11:04:21.527Z"
   },
   {
    "duration": 8,
    "start_time": "2021-12-25T11:04:21.582Z"
   },
   {
    "duration": 12,
    "start_time": "2021-12-25T11:04:21.593Z"
   },
   {
    "duration": 6,
    "start_time": "2021-12-25T11:04:21.607Z"
   },
   {
    "duration": 13,
    "start_time": "2021-12-25T11:04:21.616Z"
   },
   {
    "duration": 46,
    "start_time": "2021-12-25T11:04:21.632Z"
   },
   {
    "duration": 104,
    "start_time": "2021-12-25T11:04:21.681Z"
   },
   {
    "duration": 6,
    "start_time": "2021-12-25T11:04:21.787Z"
   },
   {
    "duration": 15,
    "start_time": "2021-12-25T11:04:21.795Z"
   },
   {
    "duration": 5,
    "start_time": "2021-12-25T11:04:21.815Z"
   },
   {
    "duration": 11,
    "start_time": "2021-12-25T11:04:21.823Z"
   },
   {
    "duration": 18,
    "start_time": "2021-12-25T11:04:21.867Z"
   },
   {
    "duration": 304,
    "start_time": "2021-12-25T11:04:21.887Z"
   },
   {
    "duration": 11,
    "start_time": "2021-12-25T11:04:22.194Z"
   },
   {
    "duration": 2862,
    "start_time": "2021-12-25T11:04:22.208Z"
   },
   {
    "duration": 10,
    "start_time": "2021-12-25T11:04:25.073Z"
   },
   {
    "duration": 9,
    "start_time": "2021-12-25T11:04:25.086Z"
   },
   {
    "duration": 2815,
    "start_time": "2021-12-25T11:04:25.098Z"
   },
   {
    "duration": 9,
    "start_time": "2021-12-25T11:04:27.915Z"
   },
   {
    "duration": 2786,
    "start_time": "2021-12-25T11:04:27.927Z"
   },
   {
    "duration": 9,
    "start_time": "2021-12-25T11:04:30.715Z"
   },
   {
    "duration": 18,
    "start_time": "2021-12-25T11:04:30.726Z"
   },
   {
    "duration": 2800,
    "start_time": "2021-12-25T11:04:30.746Z"
   },
   {
    "duration": 20,
    "start_time": "2021-12-25T11:04:33.548Z"
   },
   {
    "duration": 2715,
    "start_time": "2021-12-25T11:04:33.576Z"
   },
   {
    "duration": 10,
    "start_time": "2021-12-25T11:04:36.294Z"
   },
   {
    "duration": 5,
    "start_time": "2021-12-25T11:04:36.307Z"
   },
   {
    "duration": 5,
    "start_time": "2021-12-25T11:04:36.315Z"
   },
   {
    "duration": 2754,
    "start_time": "2021-12-25T11:04:36.323Z"
   },
   {
    "duration": 9,
    "start_time": "2021-12-25T11:04:39.080Z"
   },
   {
    "duration": 55,
    "start_time": "2021-12-25T11:04:39.091Z"
   },
   {
    "duration": 31,
    "start_time": "2021-12-25T11:04:39.149Z"
   },
   {
    "duration": 6,
    "start_time": "2021-12-25T11:04:39.185Z"
   },
   {
    "duration": 26,
    "start_time": "2021-12-25T11:04:39.194Z"
   },
   {
    "duration": 1061,
    "start_time": "2021-12-25T11:04:39.222Z"
   },
   {
    "duration": 5,
    "start_time": "2021-12-25T11:04:40.286Z"
   },
   {
    "duration": 8,
    "start_time": "2021-12-25T11:04:40.294Z"
   },
   {
    "duration": 70,
    "start_time": "2021-12-25T11:04:40.304Z"
   },
   {
    "duration": 582,
    "start_time": "2021-12-25T11:04:40.379Z"
   },
   {
    "duration": 601,
    "start_time": "2021-12-25T11:04:46.690Z"
   },
   {
    "duration": 913,
    "start_time": "2021-12-25T11:09:51.289Z"
   },
   {
    "duration": 635,
    "start_time": "2021-12-25T11:10:32.288Z"
   },
   {
    "duration": 12,
    "start_time": "2021-12-25T11:18:13.228Z"
   },
   {
    "duration": 12,
    "start_time": "2021-12-25T11:18:32.739Z"
   },
   {
    "duration": 803,
    "start_time": "2021-12-25T12:07:41.731Z"
   },
   {
    "duration": 582,
    "start_time": "2021-12-25T12:07:48.129Z"
   },
   {
    "duration": 951,
    "start_time": "2021-12-25T12:08:12.309Z"
   },
   {
    "duration": 680,
    "start_time": "2021-12-25T12:09:25.098Z"
   },
   {
    "duration": 271,
    "start_time": "2021-12-25T12:10:08.196Z"
   },
   {
    "duration": 214,
    "start_time": "2021-12-25T12:11:25.911Z"
   },
   {
    "duration": 16,
    "start_time": "2021-12-25T12:13:05.980Z"
   },
   {
    "duration": 232,
    "start_time": "2021-12-25T12:13:07.052Z"
   },
   {
    "duration": 308,
    "start_time": "2021-12-25T12:13:21.117Z"
   },
   {
    "duration": 218,
    "start_time": "2021-12-25T12:13:43.927Z"
   },
   {
    "duration": 500,
    "start_time": "2021-12-25T12:14:16.772Z"
   },
   {
    "duration": 386,
    "start_time": "2021-12-25T12:14:24.865Z"
   },
   {
    "duration": 215,
    "start_time": "2021-12-25T12:17:18.976Z"
   },
   {
    "duration": 233,
    "start_time": "2021-12-25T12:21:23.109Z"
   },
   {
    "duration": 330,
    "start_time": "2021-12-25T12:21:31.313Z"
   },
   {
    "duration": 273,
    "start_time": "2021-12-25T12:23:56.761Z"
   },
   {
    "duration": 16,
    "start_time": "2021-12-25T12:24:09.963Z"
   },
   {
    "duration": 221,
    "start_time": "2021-12-25T12:24:21.882Z"
   },
   {
    "duration": 327,
    "start_time": "2021-12-25T12:24:32.927Z"
   },
   {
    "duration": 226,
    "start_time": "2021-12-25T12:27:29.096Z"
   },
   {
    "duration": 307,
    "start_time": "2021-12-25T12:28:00.126Z"
   },
   {
    "duration": 254,
    "start_time": "2021-12-25T12:29:53.337Z"
   },
   {
    "duration": 220,
    "start_time": "2021-12-25T12:34:45.633Z"
   },
   {
    "duration": 232,
    "start_time": "2021-12-25T12:34:50.872Z"
   },
   {
    "duration": 301,
    "start_time": "2021-12-25T12:35:28.833Z"
   },
   {
    "duration": 27,
    "start_time": "2021-12-25T12:35:52.551Z"
   },
   {
    "duration": 238,
    "start_time": "2021-12-25T12:36:04.851Z"
   },
   {
    "duration": 12,
    "start_time": "2021-12-25T12:38:28.108Z"
   },
   {
    "duration": 11,
    "start_time": "2021-12-25T12:39:14.481Z"
   },
   {
    "duration": 212,
    "start_time": "2021-12-25T12:39:25.689Z"
   },
   {
    "duration": 222,
    "start_time": "2021-12-25T12:41:13.565Z"
   },
   {
    "duration": 347,
    "start_time": "2021-12-25T12:44:28.843Z"
   },
   {
    "duration": 18,
    "start_time": "2021-12-25T12:44:49.781Z"
   },
   {
    "duration": 235,
    "start_time": "2021-12-25T12:45:03.453Z"
   },
   {
    "duration": 100,
    "start_time": "2021-12-25T12:49:13.788Z"
   },
   {
    "duration": 9,
    "start_time": "2021-12-25T12:49:19.097Z"
   },
   {
    "duration": 8,
    "start_time": "2021-12-25T12:49:29.333Z"
   },
   {
    "duration": 8,
    "start_time": "2021-12-25T12:49:32.102Z"
   },
   {
    "duration": 816,
    "start_time": "2021-12-25T12:50:12.735Z"
   },
   {
    "duration": 375,
    "start_time": "2021-12-25T12:53:20.692Z"
   },
   {
    "duration": 766,
    "start_time": "2021-12-25T12:56:02.078Z"
   },
   {
    "duration": 968,
    "start_time": "2021-12-25T12:56:16.443Z"
   },
   {
    "duration": 543,
    "start_time": "2021-12-25T12:56:23.384Z"
   },
   {
    "duration": 640,
    "start_time": "2021-12-25T12:56:48.157Z"
   },
   {
    "duration": 13,
    "start_time": "2021-12-25T14:16:00.344Z"
   },
   {
    "duration": 785,
    "start_time": "2021-12-25T14:21:31.888Z"
   },
   {
    "duration": 663,
    "start_time": "2021-12-25T14:24:49.907Z"
   },
   {
    "duration": 817,
    "start_time": "2021-12-25T14:32:30.422Z"
   },
   {
    "duration": 681,
    "start_time": "2021-12-25T14:32:50.358Z"
   },
   {
    "duration": 342,
    "start_time": "2021-12-25T14:37:36.735Z"
   },
   {
    "duration": 12,
    "start_time": "2021-12-25T14:37:48.404Z"
   },
   {
    "duration": 133,
    "start_time": "2021-12-25T14:37:51.201Z"
   },
   {
    "duration": 17,
    "start_time": "2021-12-25T14:40:44.205Z"
   },
   {
    "duration": 661,
    "start_time": "2021-12-25T14:40:56.939Z"
   },
   {
    "duration": 661,
    "start_time": "2021-12-25T14:41:20.312Z"
   },
   {
    "duration": 786,
    "start_time": "2021-12-25T14:41:50.581Z"
   },
   {
    "duration": 12,
    "start_time": "2021-12-25T14:43:02.020Z"
   },
   {
    "duration": 15,
    "start_time": "2021-12-25T14:45:06.354Z"
   },
   {
    "duration": 10,
    "start_time": "2021-12-25T14:45:08.284Z"
   },
   {
    "duration": 20,
    "start_time": "2021-12-25T14:45:16.226Z"
   },
   {
    "duration": 11,
    "start_time": "2021-12-25T14:45:18.348Z"
   },
   {
    "duration": 298,
    "start_time": "2021-12-25T14:45:19.017Z"
   },
   {
    "duration": 18,
    "start_time": "2021-12-25T14:45:52.426Z"
   },
   {
    "duration": 15,
    "start_time": "2021-12-25T14:47:28.855Z"
   },
   {
    "duration": 13,
    "start_time": "2021-12-25T14:47:31.437Z"
   },
   {
    "duration": 681,
    "start_time": "2021-12-25T14:47:45.724Z"
   },
   {
    "duration": 155,
    "start_time": "2021-12-25T14:47:47.912Z"
   },
   {
    "duration": 51,
    "start_time": "2021-12-25T14:47:48.070Z"
   },
   {
    "duration": 51,
    "start_time": "2021-12-25T14:47:48.125Z"
   },
   {
    "duration": 128,
    "start_time": "2021-12-25T14:47:48.179Z"
   },
   {
    "duration": 13,
    "start_time": "2021-12-25T14:47:48.310Z"
   },
   {
    "duration": 11,
    "start_time": "2021-12-25T14:47:48.325Z"
   },
   {
    "duration": 32,
    "start_time": "2021-12-25T14:47:48.339Z"
   },
   {
    "duration": 10,
    "start_time": "2021-12-25T14:47:48.375Z"
   },
   {
    "duration": 7,
    "start_time": "2021-12-25T14:47:48.389Z"
   },
   {
    "duration": 14,
    "start_time": "2021-12-25T14:47:48.398Z"
   },
   {
    "duration": 7,
    "start_time": "2021-12-25T14:47:48.414Z"
   },
   {
    "duration": 45,
    "start_time": "2021-12-25T14:47:48.423Z"
   },
   {
    "duration": 13,
    "start_time": "2021-12-25T14:47:48.471Z"
   },
   {
    "duration": 6,
    "start_time": "2021-12-25T14:47:48.486Z"
   },
   {
    "duration": 12,
    "start_time": "2021-12-25T14:47:48.494Z"
   },
   {
    "duration": 8,
    "start_time": "2021-12-25T14:47:48.508Z"
   },
   {
    "duration": 8,
    "start_time": "2021-12-25T14:47:48.519Z"
   },
   {
    "duration": 43,
    "start_time": "2021-12-25T14:47:48.529Z"
   },
   {
    "duration": 15,
    "start_time": "2021-12-25T14:47:48.575Z"
   },
   {
    "duration": 116,
    "start_time": "2021-12-25T14:47:48.592Z"
   },
   {
    "duration": 5,
    "start_time": "2021-12-25T14:47:48.711Z"
   },
   {
    "duration": 17,
    "start_time": "2021-12-25T14:47:48.718Z"
   },
   {
    "duration": 30,
    "start_time": "2021-12-25T14:47:48.740Z"
   },
   {
    "duration": 13,
    "start_time": "2021-12-25T14:47:48.773Z"
   },
   {
    "duration": 11,
    "start_time": "2021-12-25T14:47:48.789Z"
   },
   {
    "duration": 304,
    "start_time": "2021-12-25T14:47:48.802Z"
   },
   {
    "duration": 14,
    "start_time": "2021-12-25T14:47:49.109Z"
   },
   {
    "duration": 2789,
    "start_time": "2021-12-25T14:47:49.126Z"
   },
   {
    "duration": 8,
    "start_time": "2021-12-25T14:47:51.918Z"
   },
   {
    "duration": 21,
    "start_time": "2021-12-25T14:47:51.929Z"
   },
   {
    "duration": 2830,
    "start_time": "2021-12-25T14:47:51.953Z"
   },
   {
    "duration": 8,
    "start_time": "2021-12-25T14:47:54.786Z"
   },
   {
    "duration": 2704,
    "start_time": "2021-12-25T14:47:54.796Z"
   },
   {
    "duration": 10,
    "start_time": "2021-12-25T14:47:57.503Z"
   },
   {
    "duration": 7,
    "start_time": "2021-12-25T14:47:57.516Z"
   },
   {
    "duration": 2663,
    "start_time": "2021-12-25T14:47:57.526Z"
   },
   {
    "duration": 9,
    "start_time": "2021-12-25T14:48:00.192Z"
   },
   {
    "duration": 2927,
    "start_time": "2021-12-25T14:48:00.203Z"
   },
   {
    "duration": 8,
    "start_time": "2021-12-25T14:48:03.132Z"
   },
   {
    "duration": 36,
    "start_time": "2021-12-25T14:48:03.142Z"
   },
   {
    "duration": 10,
    "start_time": "2021-12-25T14:48:03.180Z"
   },
   {
    "duration": 2805,
    "start_time": "2021-12-25T14:48:03.193Z"
   },
   {
    "duration": 10,
    "start_time": "2021-12-25T14:48:06.001Z"
   },
   {
    "duration": 74,
    "start_time": "2021-12-25T14:48:06.014Z"
   },
   {
    "duration": 16,
    "start_time": "2021-12-25T14:48:06.090Z"
   },
   {
    "duration": 6,
    "start_time": "2021-12-25T14:48:06.108Z"
   },
   {
    "duration": 50,
    "start_time": "2021-12-25T14:48:06.117Z"
   },
   {
    "duration": 1249,
    "start_time": "2021-12-25T14:48:06.170Z"
   },
   {
    "duration": 5,
    "start_time": "2021-12-25T14:48:07.422Z"
   },
   {
    "duration": 14,
    "start_time": "2021-12-25T14:48:07.429Z"
   },
   {
    "duration": 66,
    "start_time": "2021-12-25T14:48:07.445Z"
   },
   {
    "duration": 560,
    "start_time": "2021-12-25T14:48:07.513Z"
   },
   {
    "duration": 12,
    "start_time": "2021-12-25T14:48:08.075Z"
   },
   {
    "duration": 245,
    "start_time": "2021-12-25T14:48:08.090Z"
   },
   {
    "duration": 12,
    "start_time": "2021-12-25T14:48:08.338Z"
   },
   {
    "duration": 297,
    "start_time": "2021-12-25T14:48:08.352Z"
   },
   {
    "duration": 724,
    "start_time": "2021-12-25T14:48:08.656Z"
   },
   {
    "duration": 663,
    "start_time": "2021-12-25T14:48:09.385Z"
   },
   {
    "duration": 252,
    "start_time": "2021-12-25T14:48:10.051Z"
   },
   {
    "duration": 14,
    "start_time": "2021-12-25T14:48:10.305Z"
   },
   {
    "duration": 50,
    "start_time": "2021-12-25T14:48:10.322Z"
   },
   {
    "duration": 246,
    "start_time": "2021-12-25T14:48:10.374Z"
   },
   {
    "duration": 407,
    "start_time": "2021-12-25T14:48:10.623Z"
   },
   {
    "duration": 223,
    "start_time": "2021-12-25T14:48:11.032Z"
   },
   {
    "duration": 18,
    "start_time": "2021-12-25T14:48:11.258Z"
   },
   {
    "duration": 14,
    "start_time": "2021-12-25T14:48:11.278Z"
   },
   {
    "duration": 263,
    "start_time": "2021-12-25T14:48:11.294Z"
   },
   {
    "duration": 390,
    "start_time": "2021-12-25T14:48:11.559Z"
   },
   {
    "duration": 26,
    "start_time": "2021-12-25T14:48:11.951Z"
   },
   {
    "duration": 5,
    "start_time": "2021-12-25T14:48:11.980Z"
   },
   {
    "duration": 12,
    "start_time": "2021-12-25T14:48:11.988Z"
   },
   {
    "duration": 744,
    "start_time": "2021-12-25T14:48:12.002Z"
   },
   {
    "duration": 268,
    "start_time": "2021-12-25T14:48:12.749Z"
   },
   {
    "duration": 11,
    "start_time": "2021-12-25T14:48:13.020Z"
   },
   {
    "duration": 716,
    "start_time": "2021-12-25T14:48:13.033Z"
   },
   {
    "duration": 25,
    "start_time": "2021-12-25T14:48:13.752Z"
   },
   {
    "duration": 11,
    "start_time": "2021-12-25T14:48:13.780Z"
   },
   {
    "duration": 693,
    "start_time": "2021-12-25T14:48:13.794Z"
   },
   {
    "duration": 13,
    "start_time": "2021-12-25T15:53:00.524Z"
   },
   {
    "duration": 12,
    "start_time": "2021-12-25T15:53:03.055Z"
   },
   {
    "duration": 136,
    "start_time": "2021-12-25T15:53:08.680Z"
   },
   {
    "duration": 92,
    "start_time": "2021-12-25T15:53:08.819Z"
   },
   {
    "duration": 59,
    "start_time": "2021-12-25T15:53:08.914Z"
   },
   {
    "duration": 126,
    "start_time": "2021-12-25T15:53:08.976Z"
   },
   {
    "duration": 11,
    "start_time": "2021-12-25T15:53:09.105Z"
   },
   {
    "duration": 11,
    "start_time": "2021-12-25T15:53:09.119Z"
   },
   {
    "duration": 36,
    "start_time": "2021-12-25T15:53:09.133Z"
   },
   {
    "duration": 11,
    "start_time": "2021-12-25T15:53:09.172Z"
   },
   {
    "duration": 7,
    "start_time": "2021-12-25T15:53:09.189Z"
   },
   {
    "duration": 10,
    "start_time": "2021-12-25T15:53:09.200Z"
   },
   {
    "duration": 55,
    "start_time": "2021-12-25T15:53:09.212Z"
   },
   {
    "duration": 15,
    "start_time": "2021-12-25T15:53:09.270Z"
   },
   {
    "duration": 9,
    "start_time": "2021-12-25T15:53:09.287Z"
   },
   {
    "duration": 7,
    "start_time": "2021-12-25T15:53:09.299Z"
   },
   {
    "duration": 16,
    "start_time": "2021-12-25T15:53:09.308Z"
   },
   {
    "duration": 44,
    "start_time": "2021-12-25T15:53:09.326Z"
   },
   {
    "duration": 8,
    "start_time": "2021-12-25T15:53:09.372Z"
   },
   {
    "duration": 7,
    "start_time": "2021-12-25T15:53:09.383Z"
   },
   {
    "duration": 12,
    "start_time": "2021-12-25T15:53:09.394Z"
   },
   {
    "duration": 181,
    "start_time": "2021-12-25T15:53:09.409Z"
   },
   {
    "duration": 7,
    "start_time": "2021-12-25T15:53:09.593Z"
   },
   {
    "duration": 17,
    "start_time": "2021-12-25T15:53:09.603Z"
   },
   {
    "duration": 6,
    "start_time": "2021-12-25T15:53:09.623Z"
   },
   {
    "duration": 44,
    "start_time": "2021-12-25T15:53:09.632Z"
   },
   {
    "duration": 17,
    "start_time": "2021-12-25T15:53:09.679Z"
   },
   {
    "duration": 463,
    "start_time": "2021-12-25T15:53:09.699Z"
   },
   {
    "duration": 17,
    "start_time": "2021-12-25T15:53:10.175Z"
   },
   {
    "duration": 3193,
    "start_time": "2021-12-25T15:53:10.196Z"
   },
   {
    "duration": 10,
    "start_time": "2021-12-25T15:53:13.392Z"
   },
   {
    "duration": 12,
    "start_time": "2021-12-25T15:53:13.405Z"
   },
   {
    "duration": 3309,
    "start_time": "2021-12-25T15:53:13.421Z"
   },
   {
    "duration": 9,
    "start_time": "2021-12-25T15:53:16.733Z"
   },
   {
    "duration": 3377,
    "start_time": "2021-12-25T15:53:16.746Z"
   },
   {
    "duration": 8,
    "start_time": "2021-12-25T15:53:20.125Z"
   },
   {
    "duration": 32,
    "start_time": "2021-12-25T15:53:20.135Z"
   },
   {
    "duration": 2961,
    "start_time": "2021-12-25T15:53:20.170Z"
   },
   {
    "duration": 10,
    "start_time": "2021-12-25T15:53:23.134Z"
   },
   {
    "duration": 3007,
    "start_time": "2021-12-25T15:53:23.147Z"
   },
   {
    "duration": 18,
    "start_time": "2021-12-25T15:53:26.157Z"
   },
   {
    "duration": 8,
    "start_time": "2021-12-25T15:53:26.179Z"
   },
   {
    "duration": 13,
    "start_time": "2021-12-25T15:53:26.190Z"
   },
   {
    "duration": 3038,
    "start_time": "2021-12-25T15:53:26.206Z"
   },
   {
    "duration": 25,
    "start_time": "2021-12-25T15:53:29.246Z"
   },
   {
    "duration": 51,
    "start_time": "2021-12-25T15:53:29.274Z"
   },
   {
    "duration": 39,
    "start_time": "2021-12-25T15:53:29.328Z"
   },
   {
    "duration": 6,
    "start_time": "2021-12-25T15:53:29.370Z"
   },
   {
    "duration": 24,
    "start_time": "2021-12-25T15:53:29.379Z"
   },
   {
    "duration": 1003,
    "start_time": "2021-12-25T15:53:29.405Z"
   },
   {
    "duration": 6,
    "start_time": "2021-12-25T15:53:30.411Z"
   },
   {
    "duration": 10,
    "start_time": "2021-12-25T15:53:30.420Z"
   },
   {
    "duration": 74,
    "start_time": "2021-12-25T15:53:30.433Z"
   },
   {
    "duration": 577,
    "start_time": "2021-12-25T15:53:30.509Z"
   },
   {
    "duration": 14,
    "start_time": "2021-12-25T15:53:31.089Z"
   },
   {
    "duration": 377,
    "start_time": "2021-12-25T15:53:31.106Z"
   },
   {
    "duration": 14,
    "start_time": "2021-12-25T15:53:31.485Z"
   },
   {
    "duration": 315,
    "start_time": "2021-12-25T15:53:31.502Z"
   },
   {
    "duration": 608,
    "start_time": "2021-12-25T15:53:31.820Z"
   },
   {
    "duration": 648,
    "start_time": "2021-12-25T15:53:32.431Z"
   },
   {
    "duration": 236,
    "start_time": "2021-12-25T15:53:33.082Z"
   },
   {
    "duration": 11,
    "start_time": "2021-12-25T15:53:33.321Z"
   },
   {
    "duration": 45,
    "start_time": "2021-12-25T15:53:33.334Z"
   },
   {
    "duration": 328,
    "start_time": "2021-12-25T15:53:33.382Z"
   },
   {
    "duration": 542,
    "start_time": "2021-12-25T15:53:33.713Z"
   },
   {
    "duration": 230,
    "start_time": "2021-12-25T15:53:34.257Z"
   },
   {
    "duration": 13,
    "start_time": "2021-12-25T15:53:34.489Z"
   },
   {
    "duration": 12,
    "start_time": "2021-12-25T15:53:34.505Z"
   },
   {
    "duration": 379,
    "start_time": "2021-12-25T15:53:34.519Z"
   },
   {
    "duration": 740,
    "start_time": "2021-12-25T15:53:34.901Z"
   },
   {
    "duration": 27,
    "start_time": "2021-12-25T15:53:35.644Z"
   },
   {
    "duration": 6,
    "start_time": "2021-12-25T15:53:35.674Z"
   },
   {
    "duration": 13,
    "start_time": "2021-12-25T15:53:35.683Z"
   },
   {
    "duration": 633,
    "start_time": "2021-12-25T15:53:35.698Z"
   },
   {
    "duration": 271,
    "start_time": "2021-12-25T15:53:36.333Z"
   },
   {
    "duration": 12,
    "start_time": "2021-12-25T15:53:36.607Z"
   },
   {
    "duration": 759,
    "start_time": "2021-12-25T15:53:36.621Z"
   },
   {
    "duration": 14,
    "start_time": "2021-12-25T15:53:37.382Z"
   },
   {
    "duration": 15,
    "start_time": "2021-12-25T15:53:37.398Z"
   },
   {
    "duration": 765,
    "start_time": "2021-12-25T15:53:37.416Z"
   },
   {
    "duration": 13,
    "start_time": "2021-12-25T15:55:27.042Z"
   },
   {
    "duration": 14,
    "start_time": "2021-12-25T15:55:28.786Z"
   },
   {
    "duration": 15,
    "start_time": "2021-12-25T15:55:34.163Z"
   },
   {
    "duration": 906,
    "start_time": "2021-12-25T15:56:32.773Z"
   },
   {
    "duration": 791,
    "start_time": "2021-12-25T15:56:49.828Z"
   },
   {
    "duration": 636,
    "start_time": "2021-12-25T15:57:02.842Z"
   },
   {
    "duration": 959,
    "start_time": "2021-12-25T15:57:24.721Z"
   },
   {
    "duration": 47,
    "start_time": "2021-12-25T16:50:40.284Z"
   },
   {
    "duration": 16,
    "start_time": "2021-12-25T16:50:56.219Z"
   },
   {
    "duration": 7,
    "start_time": "2021-12-25T16:57:00.267Z"
   },
   {
    "duration": 7,
    "start_time": "2021-12-25T17:00:06.283Z"
   },
   {
    "duration": 474,
    "start_time": "2021-12-25T17:02:33.195Z"
   },
   {
    "duration": 744,
    "start_time": "2021-12-25T17:02:41.787Z"
   },
   {
    "duration": 7,
    "start_time": "2021-12-25T17:06:28.674Z"
   },
   {
    "duration": 748,
    "start_time": "2021-12-25T17:07:21.949Z"
   },
   {
    "duration": 8,
    "start_time": "2021-12-25T17:12:13.689Z"
   },
   {
    "duration": 708,
    "start_time": "2021-12-25T17:20:28.597Z"
   },
   {
    "duration": 744,
    "start_time": "2021-12-25T17:21:10.088Z"
   },
   {
    "duration": 7,
    "start_time": "2021-12-25T17:23:54.261Z"
   },
   {
    "duration": 746,
    "start_time": "2021-12-25T17:24:31.412Z"
   },
   {
    "duration": 830,
    "start_time": "2021-12-25T17:26:48.099Z"
   },
   {
    "duration": 138,
    "start_time": "2021-12-25T17:29:50.249Z"
   },
   {
    "duration": 49,
    "start_time": "2021-12-25T17:29:50.389Z"
   },
   {
    "duration": 16,
    "start_time": "2021-12-25T17:29:50.468Z"
   },
   {
    "duration": 288,
    "start_time": "2021-12-25T17:29:50.487Z"
   },
   {
    "duration": 12,
    "start_time": "2021-12-25T17:29:50.778Z"
   },
   {
    "duration": 11,
    "start_time": "2021-12-25T17:29:50.793Z"
   },
   {
    "duration": 18,
    "start_time": "2021-12-25T17:29:50.807Z"
   },
   {
    "duration": 14,
    "start_time": "2021-12-25T17:29:50.829Z"
   },
   {
    "duration": 26,
    "start_time": "2021-12-25T17:29:50.846Z"
   },
   {
    "duration": 15,
    "start_time": "2021-12-25T17:29:50.875Z"
   },
   {
    "duration": 11,
    "start_time": "2021-12-25T17:29:50.893Z"
   },
   {
    "duration": 11,
    "start_time": "2021-12-25T17:29:50.906Z"
   },
   {
    "duration": 16,
    "start_time": "2021-12-25T17:29:50.919Z"
   },
   {
    "duration": 32,
    "start_time": "2021-12-25T17:29:50.938Z"
   },
   {
    "duration": 10,
    "start_time": "2021-12-25T17:29:50.973Z"
   },
   {
    "duration": 9,
    "start_time": "2021-12-25T17:29:50.985Z"
   },
   {
    "duration": 7,
    "start_time": "2021-12-25T17:29:50.997Z"
   },
   {
    "duration": 8,
    "start_time": "2021-12-25T17:29:51.007Z"
   },
   {
    "duration": 58,
    "start_time": "2021-12-25T17:29:51.017Z"
   },
   {
    "duration": 114,
    "start_time": "2021-12-25T17:29:51.077Z"
   },
   {
    "duration": 6,
    "start_time": "2021-12-25T17:29:51.193Z"
   },
   {
    "duration": 21,
    "start_time": "2021-12-25T17:29:51.201Z"
   },
   {
    "duration": 10,
    "start_time": "2021-12-25T17:29:51.229Z"
   },
   {
    "duration": 27,
    "start_time": "2021-12-25T17:29:51.243Z"
   },
   {
    "duration": 11,
    "start_time": "2021-12-25T17:29:51.273Z"
   },
   {
    "duration": 290,
    "start_time": "2021-12-25T17:29:51.287Z"
   },
   {
    "duration": 13,
    "start_time": "2021-12-25T17:29:51.580Z"
   },
   {
    "duration": 2611,
    "start_time": "2021-12-25T17:29:51.595Z"
   },
   {
    "duration": 8,
    "start_time": "2021-12-25T17:29:54.208Z"
   },
   {
    "duration": 10,
    "start_time": "2021-12-25T17:29:54.219Z"
   },
   {
    "duration": 2644,
    "start_time": "2021-12-25T17:29:54.231Z"
   },
   {
    "duration": 8,
    "start_time": "2021-12-25T17:29:56.877Z"
   },
   {
    "duration": 2649,
    "start_time": "2021-12-25T17:29:56.887Z"
   },
   {
    "duration": 7,
    "start_time": "2021-12-25T17:29:59.539Z"
   },
   {
    "duration": 5,
    "start_time": "2021-12-25T17:29:59.567Z"
   },
   {
    "duration": 2809,
    "start_time": "2021-12-25T17:29:59.574Z"
   },
   {
    "duration": 11,
    "start_time": "2021-12-25T17:30:02.386Z"
   },
   {
    "duration": 2673,
    "start_time": "2021-12-25T17:30:02.400Z"
   },
   {
    "duration": 8,
    "start_time": "2021-12-25T17:30:05.075Z"
   },
   {
    "duration": 10,
    "start_time": "2021-12-25T17:30:05.086Z"
   },
   {
    "duration": 6,
    "start_time": "2021-12-25T17:30:05.099Z"
   },
   {
    "duration": 2726,
    "start_time": "2021-12-25T17:30:05.107Z"
   },
   {
    "duration": 8,
    "start_time": "2021-12-25T17:30:07.836Z"
   },
   {
    "duration": 69,
    "start_time": "2021-12-25T17:30:07.847Z"
   },
   {
    "duration": 27,
    "start_time": "2021-12-25T17:30:07.919Z"
   },
   {
    "duration": 19,
    "start_time": "2021-12-25T17:30:07.968Z"
   },
   {
    "duration": 49,
    "start_time": "2021-12-25T17:30:07.991Z"
   },
   {
    "duration": 1101,
    "start_time": "2021-12-25T17:30:08.043Z"
   },
   {
    "duration": 5,
    "start_time": "2021-12-25T17:30:09.146Z"
   },
   {
    "duration": 16,
    "start_time": "2021-12-25T17:30:09.154Z"
   },
   {
    "duration": 50,
    "start_time": "2021-12-25T17:30:09.172Z"
   },
   {
    "duration": 579,
    "start_time": "2021-12-25T17:30:09.224Z"
   },
   {
    "duration": 12,
    "start_time": "2021-12-25T17:30:09.806Z"
   },
   {
    "duration": 248,
    "start_time": "2021-12-25T17:30:09.820Z"
   },
   {
    "duration": 11,
    "start_time": "2021-12-25T17:30:10.070Z"
   },
   {
    "duration": 246,
    "start_time": "2021-12-25T17:30:10.084Z"
   },
   {
    "duration": 598,
    "start_time": "2021-12-25T17:30:10.333Z"
   },
   {
    "duration": 650,
    "start_time": "2021-12-25T17:30:10.934Z"
   },
   {
    "duration": 349,
    "start_time": "2021-12-25T17:30:11.587Z"
   },
   {
    "duration": 27,
    "start_time": "2021-12-25T17:30:11.940Z"
   },
   {
    "duration": 19,
    "start_time": "2021-12-25T17:30:11.969Z"
   },
   {
    "duration": 241,
    "start_time": "2021-12-25T17:30:11.991Z"
   },
   {
    "duration": 411,
    "start_time": "2021-12-25T17:30:12.234Z"
   },
   {
    "duration": 223,
    "start_time": "2021-12-25T17:30:12.647Z"
   },
   {
    "duration": 12,
    "start_time": "2021-12-25T17:30:12.872Z"
   },
   {
    "duration": 11,
    "start_time": "2021-12-25T17:30:12.886Z"
   },
   {
    "duration": 259,
    "start_time": "2021-12-25T17:30:12.899Z"
   },
   {
    "duration": 397,
    "start_time": "2021-12-25T17:30:13.170Z"
   },
   {
    "duration": 18,
    "start_time": "2021-12-25T17:30:13.570Z"
   },
   {
    "duration": 7,
    "start_time": "2021-12-25T17:30:13.590Z"
   },
   {
    "duration": 11,
    "start_time": "2021-12-25T17:30:13.599Z"
   },
   {
    "duration": 628,
    "start_time": "2021-12-25T17:30:13.613Z"
   },
   {
    "duration": 260,
    "start_time": "2021-12-25T17:30:14.244Z"
   },
   {
    "duration": 11,
    "start_time": "2021-12-25T17:30:14.507Z"
   },
   {
    "duration": 684,
    "start_time": "2021-12-25T17:30:14.520Z"
   },
   {
    "duration": 13,
    "start_time": "2021-12-25T17:30:15.207Z"
   },
   {
    "duration": 13,
    "start_time": "2021-12-25T17:30:15.223Z"
   },
   {
    "duration": 34,
    "start_time": "2021-12-25T17:30:15.238Z"
   },
   {
    "duration": 864,
    "start_time": "2021-12-25T17:30:15.274Z"
   },
   {
    "duration": 8,
    "start_time": "2021-12-25T17:30:16.141Z"
   },
   {
    "duration": 775,
    "start_time": "2021-12-25T17:30:16.168Z"
   },
   {
    "duration": 6,
    "start_time": "2021-12-25T17:30:16.946Z"
   },
   {
    "duration": 807,
    "start_time": "2021-12-25T17:30:16.954Z"
   },
   {
    "duration": 777,
    "start_time": "2021-12-25T17:30:17.767Z"
   },
   {
    "duration": 213,
    "start_time": "2021-12-25T17:30:43.610Z"
   },
   {
    "duration": 232,
    "start_time": "2021-12-25T17:31:34.129Z"
   },
   {
    "duration": 125,
    "start_time": "2021-12-25T17:32:01.607Z"
   },
   {
    "duration": 74,
    "start_time": "2021-12-25T17:32:01.734Z"
   },
   {
    "duration": 16,
    "start_time": "2021-12-25T17:32:01.811Z"
   },
   {
    "duration": 176,
    "start_time": "2021-12-25T17:32:01.829Z"
   },
   {
    "duration": 12,
    "start_time": "2021-12-25T17:32:02.007Z"
   },
   {
    "duration": 27,
    "start_time": "2021-12-25T17:32:02.022Z"
   },
   {
    "duration": 28,
    "start_time": "2021-12-25T17:32:02.051Z"
   },
   {
    "duration": 17,
    "start_time": "2021-12-25T17:32:02.083Z"
   },
   {
    "duration": 13,
    "start_time": "2021-12-25T17:32:02.103Z"
   },
   {
    "duration": 23,
    "start_time": "2021-12-25T17:32:02.118Z"
   },
   {
    "duration": 14,
    "start_time": "2021-12-25T17:32:02.144Z"
   },
   {
    "duration": 14,
    "start_time": "2021-12-25T17:32:02.160Z"
   },
   {
    "duration": 22,
    "start_time": "2021-12-25T17:32:02.176Z"
   },
   {
    "duration": 13,
    "start_time": "2021-12-25T17:32:02.200Z"
   },
   {
    "duration": 44,
    "start_time": "2021-12-25T17:32:02.216Z"
   },
   {
    "duration": 38,
    "start_time": "2021-12-25T17:32:02.263Z"
   },
   {
    "duration": 14,
    "start_time": "2021-12-25T17:32:02.303Z"
   },
   {
    "duration": 23,
    "start_time": "2021-12-25T17:32:02.320Z"
   },
   {
    "duration": 21,
    "start_time": "2021-12-25T17:32:02.345Z"
   },
   {
    "duration": 101,
    "start_time": "2021-12-25T17:32:02.368Z"
   },
   {
    "duration": 5,
    "start_time": "2021-12-25T17:32:02.472Z"
   },
   {
    "duration": 27,
    "start_time": "2021-12-25T17:32:02.480Z"
   },
   {
    "duration": 6,
    "start_time": "2021-12-25T17:32:02.513Z"
   },
   {
    "duration": 20,
    "start_time": "2021-12-25T17:32:02.523Z"
   },
   {
    "duration": 26,
    "start_time": "2021-12-25T17:32:02.546Z"
   },
   {
    "duration": 285,
    "start_time": "2021-12-25T17:32:02.575Z"
   },
   {
    "duration": 13,
    "start_time": "2021-12-25T17:32:02.862Z"
   },
   {
    "duration": 2525,
    "start_time": "2021-12-25T17:32:02.877Z"
   },
   {
    "duration": 8,
    "start_time": "2021-12-25T17:32:05.404Z"
   },
   {
    "duration": 11,
    "start_time": "2021-12-25T17:32:05.415Z"
   },
   {
    "duration": 2724,
    "start_time": "2021-12-25T17:32:05.428Z"
   },
   {
    "duration": 36,
    "start_time": "2021-12-25T17:32:08.158Z"
   },
   {
    "duration": 2807,
    "start_time": "2021-12-25T17:32:08.215Z"
   },
   {
    "duration": 7,
    "start_time": "2021-12-25T17:32:11.025Z"
   },
   {
    "duration": 5,
    "start_time": "2021-12-25T17:32:11.034Z"
   },
   {
    "duration": 2641,
    "start_time": "2021-12-25T17:32:11.042Z"
   },
   {
    "duration": 8,
    "start_time": "2021-12-25T17:32:13.685Z"
   },
   {
    "duration": 2647,
    "start_time": "2021-12-25T17:32:13.695Z"
   },
   {
    "duration": 23,
    "start_time": "2021-12-25T17:32:16.345Z"
   },
   {
    "duration": 7,
    "start_time": "2021-12-25T17:32:16.371Z"
   },
   {
    "duration": 7,
    "start_time": "2021-12-25T17:32:16.381Z"
   },
   {
    "duration": 2782,
    "start_time": "2021-12-25T17:32:16.391Z"
   },
   {
    "duration": 9,
    "start_time": "2021-12-25T17:32:19.176Z"
   },
   {
    "duration": 51,
    "start_time": "2021-12-25T17:32:19.188Z"
   },
   {
    "duration": 15,
    "start_time": "2021-12-25T17:32:19.267Z"
   },
   {
    "duration": 5,
    "start_time": "2021-12-25T17:32:19.284Z"
   },
   {
    "duration": 25,
    "start_time": "2021-12-25T17:32:19.291Z"
   },
   {
    "duration": 997,
    "start_time": "2021-12-25T17:32:19.318Z"
   },
   {
    "duration": 5,
    "start_time": "2021-12-25T17:32:20.317Z"
   },
   {
    "duration": 10,
    "start_time": "2021-12-25T17:32:20.325Z"
   },
   {
    "duration": 67,
    "start_time": "2021-12-25T17:32:20.338Z"
   },
   {
    "duration": 553,
    "start_time": "2021-12-25T17:32:20.407Z"
   },
   {
    "duration": 11,
    "start_time": "2021-12-25T17:32:20.967Z"
   },
   {
    "duration": 338,
    "start_time": "2021-12-25T17:32:20.981Z"
   },
   {
    "duration": 12,
    "start_time": "2021-12-25T17:32:21.321Z"
   },
   {
    "duration": 238,
    "start_time": "2021-12-25T17:32:21.336Z"
   },
   {
    "duration": 594,
    "start_time": "2021-12-25T17:32:21.576Z"
   },
   {
    "duration": 679,
    "start_time": "2021-12-25T17:32:22.172Z"
   },
   {
    "duration": 390,
    "start_time": "2021-12-25T17:32:22.854Z"
   },
   {
    "duration": 22,
    "start_time": "2021-12-25T17:32:23.248Z"
   },
   {
    "duration": 28,
    "start_time": "2021-12-25T17:32:23.274Z"
   },
   {
    "duration": 315,
    "start_time": "2021-12-25T17:32:23.305Z"
   },
   {
    "duration": 436,
    "start_time": "2021-12-25T17:32:23.622Z"
   },
   {
    "duration": 224,
    "start_time": "2021-12-25T17:32:24.061Z"
   },
   {
    "duration": 11,
    "start_time": "2021-12-25T17:32:24.287Z"
   },
   {
    "duration": 13,
    "start_time": "2021-12-25T17:32:24.300Z"
   },
   {
    "duration": 241,
    "start_time": "2021-12-25T17:32:24.315Z"
   },
   {
    "duration": 740,
    "start_time": "2021-12-25T17:32:24.564Z"
   },
   {
    "duration": 17,
    "start_time": "2021-12-25T17:32:25.308Z"
   },
   {
    "duration": 6,
    "start_time": "2021-12-25T17:32:25.328Z"
   },
   {
    "duration": 35,
    "start_time": "2021-12-25T17:32:25.337Z"
   },
   {
    "duration": 632,
    "start_time": "2021-12-25T17:32:25.374Z"
   },
   {
    "duration": 271,
    "start_time": "2021-12-25T17:32:26.008Z"
   },
   {
    "duration": 12,
    "start_time": "2021-12-25T17:32:26.281Z"
   },
   {
    "duration": 678,
    "start_time": "2021-12-25T17:32:26.295Z"
   },
   {
    "duration": 15,
    "start_time": "2021-12-25T17:32:26.976Z"
   },
   {
    "duration": 14,
    "start_time": "2021-12-25T17:32:26.994Z"
   },
   {
    "duration": 9,
    "start_time": "2021-12-25T17:32:27.011Z"
   },
   {
    "duration": 782,
    "start_time": "2021-12-25T17:32:27.023Z"
   },
   {
    "duration": 9,
    "start_time": "2021-12-25T17:32:27.808Z"
   },
   {
    "duration": 739,
    "start_time": "2021-12-25T17:32:27.820Z"
   },
   {
    "duration": 10,
    "start_time": "2021-12-25T17:32:28.566Z"
   },
   {
    "duration": 789,
    "start_time": "2021-12-25T17:32:28.578Z"
   },
   {
    "duration": 780,
    "start_time": "2021-12-25T17:32:29.369Z"
   },
   {
    "duration": 349,
    "start_time": "2021-12-25T17:40:35.954Z"
   },
   {
    "duration": 291,
    "start_time": "2021-12-25T17:46:04.800Z"
   },
   {
    "duration": 87,
    "start_time": "2021-12-25T17:47:04.566Z"
   },
   {
    "duration": 14,
    "start_time": "2021-12-25T17:47:13.007Z"
   },
   {
    "duration": 13,
    "start_time": "2021-12-25T17:47:16.813Z"
   },
   {
    "duration": 487,
    "start_time": "2021-12-25T17:47:36.917Z"
   },
   {
    "duration": 379,
    "start_time": "2021-12-25T17:48:58.491Z"
   },
   {
    "duration": 156,
    "start_time": "2021-12-25T17:56:01.956Z"
   },
   {
    "duration": 77,
    "start_time": "2021-12-25T17:56:02.115Z"
   },
   {
    "duration": 16,
    "start_time": "2021-12-25T17:56:02.196Z"
   },
   {
    "duration": 170,
    "start_time": "2021-12-25T17:56:02.215Z"
   },
   {
    "duration": 11,
    "start_time": "2021-12-25T17:56:02.388Z"
   },
   {
    "duration": 22,
    "start_time": "2021-12-25T17:56:02.401Z"
   },
   {
    "duration": 25,
    "start_time": "2021-12-25T17:56:02.425Z"
   },
   {
    "duration": 19,
    "start_time": "2021-12-25T17:56:02.454Z"
   },
   {
    "duration": 7,
    "start_time": "2021-12-25T17:56:02.476Z"
   },
   {
    "duration": 21,
    "start_time": "2021-12-25T17:56:02.486Z"
   },
   {
    "duration": 8,
    "start_time": "2021-12-25T17:56:02.510Z"
   },
   {
    "duration": 14,
    "start_time": "2021-12-25T17:56:02.521Z"
   },
   {
    "duration": 9,
    "start_time": "2021-12-25T17:56:02.568Z"
   },
   {
    "duration": 12,
    "start_time": "2021-12-25T17:56:02.579Z"
   },
   {
    "duration": 15,
    "start_time": "2021-12-25T17:56:02.593Z"
   },
   {
    "duration": 11,
    "start_time": "2021-12-25T17:56:02.611Z"
   },
   {
    "duration": 7,
    "start_time": "2021-12-25T17:56:02.624Z"
   },
   {
    "duration": 39,
    "start_time": "2021-12-25T17:56:02.633Z"
   },
   {
    "duration": 18,
    "start_time": "2021-12-25T17:56:02.675Z"
   },
   {
    "duration": 115,
    "start_time": "2021-12-25T17:56:02.696Z"
   },
   {
    "duration": 7,
    "start_time": "2021-12-25T17:56:02.813Z"
   },
   {
    "duration": 21,
    "start_time": "2021-12-25T17:56:02.824Z"
   },
   {
    "duration": 18,
    "start_time": "2021-12-25T17:56:02.853Z"
   },
   {
    "duration": 13,
    "start_time": "2021-12-25T17:56:02.875Z"
   },
   {
    "duration": 13,
    "start_time": "2021-12-25T17:56:02.890Z"
   },
   {
    "duration": 306,
    "start_time": "2021-12-25T17:56:02.906Z"
   },
   {
    "duration": 11,
    "start_time": "2021-12-25T17:56:03.215Z"
   },
   {
    "duration": 2547,
    "start_time": "2021-12-25T17:56:03.228Z"
   },
   {
    "duration": 9,
    "start_time": "2021-12-25T17:56:05.777Z"
   },
   {
    "duration": 16,
    "start_time": "2021-12-25T17:56:05.788Z"
   },
   {
    "duration": 2686,
    "start_time": "2021-12-25T17:56:05.806Z"
   },
   {
    "duration": 11,
    "start_time": "2021-12-25T17:56:08.495Z"
   },
   {
    "duration": 2758,
    "start_time": "2021-12-25T17:56:08.512Z"
   },
   {
    "duration": 8,
    "start_time": "2021-12-25T17:56:11.272Z"
   },
   {
    "duration": 8,
    "start_time": "2021-12-25T17:56:11.282Z"
   },
   {
    "duration": 2744,
    "start_time": "2021-12-25T17:56:11.293Z"
   },
   {
    "duration": 7,
    "start_time": "2021-12-25T17:56:14.040Z"
   },
   {
    "duration": 2756,
    "start_time": "2021-12-25T17:56:14.050Z"
   },
   {
    "duration": 7,
    "start_time": "2021-12-25T17:56:16.809Z"
   },
   {
    "duration": 7,
    "start_time": "2021-12-25T17:56:16.818Z"
   },
   {
    "duration": 10,
    "start_time": "2021-12-25T17:56:16.827Z"
   },
   {
    "duration": 2883,
    "start_time": "2021-12-25T17:56:16.839Z"
   },
   {
    "duration": 8,
    "start_time": "2021-12-25T17:56:19.724Z"
   },
   {
    "duration": 69,
    "start_time": "2021-12-25T17:56:19.734Z"
   },
   {
    "duration": 15,
    "start_time": "2021-12-25T17:56:19.805Z"
   },
   {
    "duration": 6,
    "start_time": "2021-12-25T17:56:19.822Z"
   },
   {
    "duration": 48,
    "start_time": "2021-12-25T17:56:19.830Z"
   },
   {
    "duration": 989,
    "start_time": "2021-12-25T17:56:19.881Z"
   },
   {
    "duration": 5,
    "start_time": "2021-12-25T17:56:20.872Z"
   },
   {
    "duration": 9,
    "start_time": "2021-12-25T17:56:20.880Z"
   },
   {
    "duration": 50,
    "start_time": "2021-12-25T17:56:20.891Z"
   },
   {
    "duration": 593,
    "start_time": "2021-12-25T17:56:20.943Z"
   },
   {
    "duration": 12,
    "start_time": "2021-12-25T17:56:21.539Z"
   },
   {
    "duration": 222,
    "start_time": "2021-12-25T17:56:21.567Z"
   },
   {
    "duration": 11,
    "start_time": "2021-12-25T17:56:21.791Z"
   },
   {
    "duration": 233,
    "start_time": "2021-12-25T17:56:21.804Z"
   },
   {
    "duration": 578,
    "start_time": "2021-12-25T17:56:22.039Z"
   },
   {
    "duration": 753,
    "start_time": "2021-12-25T17:56:22.620Z"
   },
   {
    "duration": 294,
    "start_time": "2021-12-25T17:56:23.376Z"
   },
   {
    "duration": 14,
    "start_time": "2021-12-25T17:56:23.673Z"
   },
   {
    "duration": 18,
    "start_time": "2021-12-25T17:56:23.690Z"
   },
   {
    "duration": 245,
    "start_time": "2021-12-25T17:56:23.711Z"
   },
   {
    "duration": 524,
    "start_time": "2021-12-25T17:56:23.958Z"
   },
   {
    "duration": 227,
    "start_time": "2021-12-25T17:56:24.484Z"
   },
   {
    "duration": 11,
    "start_time": "2021-12-25T17:56:24.767Z"
   },
   {
    "duration": 12,
    "start_time": "2021-12-25T17:56:24.780Z"
   },
   {
    "duration": 372,
    "start_time": "2021-12-25T17:56:24.795Z"
   },
   {
    "duration": 448,
    "start_time": "2021-12-25T17:56:25.179Z"
   },
   {
    "duration": 18,
    "start_time": "2021-12-25T17:56:25.630Z"
   },
   {
    "duration": 21,
    "start_time": "2021-12-25T17:56:25.650Z"
   },
   {
    "duration": 7,
    "start_time": "2021-12-25T17:56:25.673Z"
   },
   {
    "duration": 635,
    "start_time": "2021-12-25T17:56:25.682Z"
   },
   {
    "duration": 262,
    "start_time": "2021-12-25T17:56:26.319Z"
   },
   {
    "duration": 12,
    "start_time": "2021-12-25T17:56:26.584Z"
   },
   {
    "duration": 806,
    "start_time": "2021-12-25T17:56:26.598Z"
   },
   {
    "duration": 13,
    "start_time": "2021-12-25T17:56:27.407Z"
   },
   {
    "duration": 19,
    "start_time": "2021-12-25T17:56:27.423Z"
   },
   {
    "duration": 27,
    "start_time": "2021-12-25T17:56:27.444Z"
   },
   {
    "duration": 746,
    "start_time": "2021-12-25T17:56:27.474Z"
   },
   {
    "duration": 7,
    "start_time": "2021-12-25T17:56:28.222Z"
   },
   {
    "duration": 768,
    "start_time": "2021-12-25T17:56:28.231Z"
   },
   {
    "duration": 7,
    "start_time": "2021-12-25T17:56:29.002Z"
   },
   {
    "duration": 914,
    "start_time": "2021-12-25T17:56:29.012Z"
   },
   {
    "duration": 761,
    "start_time": "2021-12-25T17:56:29.928Z"
   },
   {
    "duration": 498,
    "start_time": "2021-12-25T17:56:30.693Z"
   },
   {
    "duration": 396,
    "start_time": "2021-12-25T17:56:31.193Z"
   },
   {
    "duration": 387,
    "start_time": "2021-12-25T17:56:38.126Z"
   },
   {
    "duration": 350,
    "start_time": "2021-12-25T18:01:18.104Z"
   },
   {
    "duration": 478,
    "start_time": "2021-12-25T18:06:28.434Z"
   },
   {
    "duration": 336,
    "start_time": "2021-12-25T18:18:17.393Z"
   },
   {
    "duration": 948,
    "start_time": "2021-12-27T13:18:47.016Z"
   },
   {
    "duration": 51,
    "start_time": "2021-12-27T13:18:47.966Z"
   },
   {
    "duration": 27,
    "start_time": "2021-12-27T13:18:48.028Z"
   },
   {
    "duration": 104,
    "start_time": "2021-12-27T13:18:48.062Z"
   },
   {
    "duration": 12,
    "start_time": "2021-12-27T13:18:48.170Z"
   },
   {
    "duration": 15,
    "start_time": "2021-12-27T13:18:48.184Z"
   },
   {
    "duration": 11,
    "start_time": "2021-12-27T13:18:48.200Z"
   },
   {
    "duration": 15,
    "start_time": "2021-12-27T13:18:48.214Z"
   },
   {
    "duration": 5,
    "start_time": "2021-12-27T13:18:48.231Z"
   },
   {
    "duration": 11,
    "start_time": "2021-12-27T13:18:48.238Z"
   },
   {
    "duration": 5,
    "start_time": "2021-12-27T13:18:48.250Z"
   },
   {
    "duration": 6,
    "start_time": "2021-12-27T13:18:48.256Z"
   },
   {
    "duration": 6,
    "start_time": "2021-12-27T13:18:48.264Z"
   },
   {
    "duration": 6,
    "start_time": "2021-12-27T13:18:48.271Z"
   },
   {
    "duration": 10,
    "start_time": "2021-12-27T13:18:48.279Z"
   },
   {
    "duration": 8,
    "start_time": "2021-12-27T13:18:48.327Z"
   },
   {
    "duration": 5,
    "start_time": "2021-12-27T13:18:48.337Z"
   },
   {
    "duration": 9,
    "start_time": "2021-12-27T13:18:48.343Z"
   },
   {
    "duration": 13,
    "start_time": "2021-12-27T13:18:48.353Z"
   },
   {
    "duration": 99,
    "start_time": "2021-12-27T13:18:48.367Z"
   },
   {
    "duration": 5,
    "start_time": "2021-12-27T13:18:48.469Z"
   },
   {
    "duration": 15,
    "start_time": "2021-12-27T13:18:48.475Z"
   },
   {
    "duration": 4,
    "start_time": "2021-12-27T13:18:48.495Z"
   },
   {
    "duration": 26,
    "start_time": "2021-12-27T13:18:48.502Z"
   },
   {
    "duration": 8,
    "start_time": "2021-12-27T13:18:48.530Z"
   },
   {
    "duration": 158,
    "start_time": "2021-12-27T13:18:48.540Z"
   },
   {
    "duration": 7,
    "start_time": "2021-12-27T13:18:48.699Z"
   },
   {
    "duration": 1647,
    "start_time": "2021-12-27T13:18:48.708Z"
   },
   {
    "duration": 4,
    "start_time": "2021-12-27T13:18:50.357Z"
   },
   {
    "duration": 7,
    "start_time": "2021-12-27T13:18:50.363Z"
   },
   {
    "duration": 1501,
    "start_time": "2021-12-27T13:18:50.371Z"
   },
   {
    "duration": 5,
    "start_time": "2021-12-27T13:18:51.874Z"
   },
   {
    "duration": 1671,
    "start_time": "2021-12-27T13:18:51.880Z"
   },
   {
    "duration": 5,
    "start_time": "2021-12-27T13:18:53.553Z"
   },
   {
    "duration": 10,
    "start_time": "2021-12-27T13:18:53.560Z"
   },
   {
    "duration": 1792,
    "start_time": "2021-12-27T13:18:53.572Z"
   },
   {
    "duration": 6,
    "start_time": "2021-12-27T13:18:55.366Z"
   },
   {
    "duration": 2063,
    "start_time": "2021-12-27T13:18:55.374Z"
   },
   {
    "duration": 5,
    "start_time": "2021-12-27T13:18:57.438Z"
   },
   {
    "duration": 18,
    "start_time": "2021-12-27T13:18:57.444Z"
   },
   {
    "duration": 11,
    "start_time": "2021-12-27T13:18:57.463Z"
   },
   {
    "duration": 1562,
    "start_time": "2021-12-27T13:18:57.475Z"
   },
   {
    "duration": 6,
    "start_time": "2021-12-27T13:18:59.039Z"
   },
   {
    "duration": 27,
    "start_time": "2021-12-27T13:18:59.046Z"
   },
   {
    "duration": 8,
    "start_time": "2021-12-27T13:18:59.074Z"
   },
   {
    "duration": 11,
    "start_time": "2021-12-27T13:18:59.083Z"
   },
   {
    "duration": 36,
    "start_time": "2021-12-27T13:18:59.095Z"
   },
   {
    "duration": 537,
    "start_time": "2021-12-27T13:18:59.133Z"
   },
   {
    "duration": 4,
    "start_time": "2021-12-27T13:18:59.672Z"
   },
   {
    "duration": 9,
    "start_time": "2021-12-27T13:18:59.678Z"
   },
   {
    "duration": 39,
    "start_time": "2021-12-27T13:18:59.689Z"
   },
   {
    "duration": 317,
    "start_time": "2021-12-27T13:18:59.730Z"
   },
   {
    "duration": 9,
    "start_time": "2021-12-27T13:19:00.048Z"
   },
   {
    "duration": 137,
    "start_time": "2021-12-27T13:19:00.059Z"
   },
   {
    "duration": 7,
    "start_time": "2021-12-27T13:19:00.198Z"
   },
   {
    "duration": 128,
    "start_time": "2021-12-27T13:19:00.207Z"
   },
   {
    "duration": 314,
    "start_time": "2021-12-27T13:19:00.336Z"
   },
   {
    "duration": 739,
    "start_time": "2021-12-27T13:19:00.653Z"
   },
   {
    "duration": 268,
    "start_time": "2021-12-27T13:19:01.394Z"
   },
   {
    "duration": 12,
    "start_time": "2021-12-27T13:19:01.665Z"
   },
   {
    "duration": 24,
    "start_time": "2021-12-27T13:19:01.680Z"
   },
   {
    "duration": 251,
    "start_time": "2021-12-27T13:19:01.706Z"
   },
   {
    "duration": 452,
    "start_time": "2021-12-27T13:19:01.959Z"
   },
   {
    "duration": 314,
    "start_time": "2021-12-27T13:19:02.413Z"
   },
   {
    "duration": 11,
    "start_time": "2021-12-27T13:19:02.730Z"
   },
   {
    "duration": 12,
    "start_time": "2021-12-27T13:19:02.743Z"
   },
   {
    "duration": 138,
    "start_time": "2021-12-27T13:19:02.757Z"
   },
   {
    "duration": 227,
    "start_time": "2021-12-27T13:19:02.900Z"
   },
   {
    "duration": 15,
    "start_time": "2021-12-27T13:19:03.129Z"
   },
   {
    "duration": 5,
    "start_time": "2021-12-27T13:19:03.145Z"
   },
   {
    "duration": 9,
    "start_time": "2021-12-27T13:19:03.152Z"
   },
   {
    "duration": 326,
    "start_time": "2021-12-27T13:19:03.162Z"
   },
   {
    "duration": 139,
    "start_time": "2021-12-27T13:19:03.490Z"
   },
   {
    "duration": 8,
    "start_time": "2021-12-27T13:19:03.630Z"
   },
   {
    "duration": 349,
    "start_time": "2021-12-27T13:19:03.639Z"
   },
   {
    "duration": 8,
    "start_time": "2021-12-27T13:19:03.989Z"
   },
   {
    "duration": 8,
    "start_time": "2021-12-27T13:19:03.998Z"
   },
   {
    "duration": 22,
    "start_time": "2021-12-27T13:19:04.008Z"
   },
   {
    "duration": 518,
    "start_time": "2021-12-27T13:19:04.031Z"
   },
   {
    "duration": 4,
    "start_time": "2021-12-27T13:19:04.550Z"
   },
   {
    "duration": 490,
    "start_time": "2021-12-27T13:19:04.556Z"
   },
   {
    "duration": 6,
    "start_time": "2021-12-27T13:19:05.048Z"
   },
   {
    "duration": 525,
    "start_time": "2021-12-27T13:19:05.056Z"
   },
   {
    "duration": 509,
    "start_time": "2021-12-27T13:19:05.583Z"
   },
   {
    "duration": 194,
    "start_time": "2021-12-27T13:19:06.093Z"
   },
   {
    "duration": 188,
    "start_time": "2021-12-27T13:19:06.289Z"
   },
   {
    "duration": 200,
    "start_time": "2021-12-27T13:19:06.479Z"
   },
   {
    "duration": 192,
    "start_time": "2021-12-27T13:19:06.681Z"
   },
   {
    "duration": 375,
    "start_time": "2021-12-27T13:19:06.874Z"
   },
   {
    "duration": 8,
    "start_time": "2021-12-27T13:21:08.664Z"
   },
   {
    "duration": 9,
    "start_time": "2021-12-27T13:21:13.431Z"
   },
   {
    "duration": 13,
    "start_time": "2021-12-27T13:21:22.072Z"
   },
   {
    "duration": 4,
    "start_time": "2021-12-27T13:24:22.650Z"
   },
   {
    "duration": 186,
    "start_time": "2021-12-27T13:40:55.197Z"
   },
   {
    "duration": 308,
    "start_time": "2021-12-27T14:08:44.061Z"
   },
   {
    "duration": 8,
    "start_time": "2021-12-27T14:08:48.823Z"
   },
   {
    "duration": 9,
    "start_time": "2021-12-27T14:08:50.025Z"
   },
   {
    "duration": 344,
    "start_time": "2021-12-27T14:11:26.351Z"
   },
   {
    "duration": 309,
    "start_time": "2021-12-27T14:12:04.696Z"
   },
   {
    "duration": 2,
    "start_time": "2021-12-27T14:15:41.311Z"
   },
   {
    "duration": 10,
    "start_time": "2021-12-27T14:16:16.660Z"
   },
   {
    "duration": 1895,
    "start_time": "2021-12-27T14:16:33.732Z"
   },
   {
    "duration": 1810,
    "start_time": "2021-12-27T14:17:49.788Z"
   },
   {
    "duration": 1919,
    "start_time": "2021-12-27T14:17:51.830Z"
   },
   {
    "duration": 3,
    "start_time": "2021-12-27T14:23:04.821Z"
   },
   {
    "duration": 324,
    "start_time": "2021-12-27T14:23:18.504Z"
   },
   {
    "duration": 2,
    "start_time": "2021-12-27T14:24:05.951Z"
   },
   {
    "duration": 369,
    "start_time": "2021-12-27T14:24:09.426Z"
   },
   {
    "duration": 3,
    "start_time": "2021-12-27T14:27:14.996Z"
   },
   {
    "duration": 346,
    "start_time": "2021-12-27T14:27:16.904Z"
   },
   {
    "duration": 3,
    "start_time": "2021-12-27T14:29:41.532Z"
   },
   {
    "duration": 3,
    "start_time": "2021-12-27T14:29:51.799Z"
   },
   {
    "duration": 4436,
    "start_time": "2021-12-27T14:32:10.702Z"
   },
   {
    "duration": 3,
    "start_time": "2021-12-27T14:32:41.753Z"
   },
   {
    "duration": 1636,
    "start_time": "2021-12-27T14:32:48.618Z"
   },
   {
    "duration": 2,
    "start_time": "2021-12-27T14:33:41.392Z"
   },
   {
    "duration": 2020,
    "start_time": "2021-12-27T14:33:44.164Z"
   },
   {
    "duration": 3,
    "start_time": "2021-12-27T14:35:03.131Z"
   },
   {
    "duration": 4592,
    "start_time": "2021-12-27T14:35:03.935Z"
   },
   {
    "duration": 4806,
    "start_time": "2021-12-27T14:35:21.804Z"
   },
   {
    "duration": 4699,
    "start_time": "2021-12-27T14:35:39.562Z"
   },
   {
    "duration": 172,
    "start_time": "2021-12-27T14:42:11.967Z"
   },
   {
    "duration": 158,
    "start_time": "2021-12-27T14:44:56.928Z"
   },
   {
    "duration": 291,
    "start_time": "2021-12-27T14:46:39.757Z"
   },
   {
    "duration": 177,
    "start_time": "2021-12-27T14:48:12.146Z"
   },
   {
    "duration": 176,
    "start_time": "2021-12-27T14:49:11.534Z"
   },
   {
    "duration": 180,
    "start_time": "2021-12-27T14:50:20.214Z"
   },
   {
    "duration": 130,
    "start_time": "2021-12-27T15:49:54.098Z"
   },
   {
    "duration": 36,
    "start_time": "2021-12-27T15:49:54.230Z"
   },
   {
    "duration": 15,
    "start_time": "2021-12-27T15:49:54.268Z"
   },
   {
    "duration": 113,
    "start_time": "2021-12-27T15:49:54.285Z"
   },
   {
    "duration": 10,
    "start_time": "2021-12-27T15:49:54.399Z"
   },
   {
    "duration": 6,
    "start_time": "2021-12-27T15:49:54.428Z"
   },
   {
    "duration": 9,
    "start_time": "2021-12-27T15:49:54.436Z"
   },
   {
    "duration": 7,
    "start_time": "2021-12-27T15:49:54.448Z"
   },
   {
    "duration": 5,
    "start_time": "2021-12-27T15:49:54.458Z"
   },
   {
    "duration": 7,
    "start_time": "2021-12-27T15:49:54.464Z"
   },
   {
    "duration": 5,
    "start_time": "2021-12-27T15:49:54.473Z"
   },
   {
    "duration": 50,
    "start_time": "2021-12-27T15:49:54.480Z"
   },
   {
    "duration": 7,
    "start_time": "2021-12-27T15:49:54.532Z"
   },
   {
    "duration": 8,
    "start_time": "2021-12-27T15:49:54.540Z"
   },
   {
    "duration": 10,
    "start_time": "2021-12-27T15:49:54.549Z"
   },
   {
    "duration": 6,
    "start_time": "2021-12-27T15:49:54.561Z"
   },
   {
    "duration": 4,
    "start_time": "2021-12-27T15:49:54.568Z"
   },
   {
    "duration": 8,
    "start_time": "2021-12-27T15:49:54.573Z"
   },
   {
    "duration": 13,
    "start_time": "2021-12-27T15:49:54.582Z"
   },
   {
    "duration": 50,
    "start_time": "2021-12-27T15:49:54.627Z"
   },
   {
    "duration": 4,
    "start_time": "2021-12-27T15:49:54.678Z"
   },
   {
    "duration": 10,
    "start_time": "2021-12-27T15:49:54.683Z"
   },
   {
    "duration": 4,
    "start_time": "2021-12-27T15:49:54.696Z"
   },
   {
    "duration": 29,
    "start_time": "2021-12-27T15:49:54.702Z"
   },
   {
    "duration": 7,
    "start_time": "2021-12-27T15:49:54.733Z"
   },
   {
    "duration": 157,
    "start_time": "2021-12-27T15:49:54.741Z"
   },
   {
    "duration": 7,
    "start_time": "2021-12-27T15:49:54.899Z"
   },
   {
    "duration": 1499,
    "start_time": "2021-12-27T15:49:54.908Z"
   },
   {
    "duration": 5,
    "start_time": "2021-12-27T15:49:56.408Z"
   },
   {
    "duration": 6,
    "start_time": "2021-12-27T15:49:56.426Z"
   },
   {
    "duration": 1504,
    "start_time": "2021-12-27T15:49:56.434Z"
   },
   {
    "duration": 5,
    "start_time": "2021-12-27T15:49:57.939Z"
   },
   {
    "duration": 1523,
    "start_time": "2021-12-27T15:49:57.946Z"
   },
   {
    "duration": 4,
    "start_time": "2021-12-27T15:49:59.471Z"
   },
   {
    "duration": 4,
    "start_time": "2021-12-27T15:49:59.477Z"
   },
   {
    "duration": 1533,
    "start_time": "2021-12-27T15:49:59.482Z"
   },
   {
    "duration": 14,
    "start_time": "2021-12-27T15:50:01.016Z"
   },
   {
    "duration": 1549,
    "start_time": "2021-12-27T15:50:01.031Z"
   },
   {
    "duration": 5,
    "start_time": "2021-12-27T15:50:02.582Z"
   },
   {
    "duration": 6,
    "start_time": "2021-12-27T15:50:02.588Z"
   },
   {
    "duration": 4,
    "start_time": "2021-12-27T15:50:02.596Z"
   },
   {
    "duration": 1573,
    "start_time": "2021-12-27T15:50:02.602Z"
   },
   {
    "duration": 5,
    "start_time": "2021-12-27T15:50:04.177Z"
   },
   {
    "duration": 53,
    "start_time": "2021-12-27T15:50:04.184Z"
   },
   {
    "duration": 11,
    "start_time": "2021-12-27T15:50:04.239Z"
   },
   {
    "duration": 4,
    "start_time": "2021-12-27T15:50:04.251Z"
   },
   {
    "duration": 14,
    "start_time": "2021-12-27T15:50:04.257Z"
   },
   {
    "duration": 660,
    "start_time": "2021-12-27T15:50:04.272Z"
   },
   {
    "duration": 4,
    "start_time": "2021-12-27T15:50:04.933Z"
   },
   {
    "duration": 8,
    "start_time": "2021-12-27T15:50:04.939Z"
   },
   {
    "duration": 31,
    "start_time": "2021-12-27T15:50:04.949Z"
   },
   {
    "duration": 295,
    "start_time": "2021-12-27T15:50:04.982Z"
   },
   {
    "duration": 8,
    "start_time": "2021-12-27T15:50:05.278Z"
   },
   {
    "duration": 135,
    "start_time": "2021-12-27T15:50:05.287Z"
   },
   {
    "duration": 9,
    "start_time": "2021-12-27T15:50:05.423Z"
   },
   {
    "duration": 129,
    "start_time": "2021-12-27T15:50:05.433Z"
   },
   {
    "duration": 294,
    "start_time": "2021-12-27T15:50:05.564Z"
   },
   {
    "duration": 540,
    "start_time": "2021-12-27T15:50:05.860Z"
   },
   {
    "duration": 128,
    "start_time": "2021-12-27T15:50:06.402Z"
   },
   {
    "duration": 9,
    "start_time": "2021-12-27T15:50:06.532Z"
   },
   {
    "duration": 12,
    "start_time": "2021-12-27T15:50:06.542Z"
   },
   {
    "duration": 147,
    "start_time": "2021-12-27T15:50:06.556Z"
   },
   {
    "duration": 215,
    "start_time": "2021-12-27T15:50:06.705Z"
   },
   {
    "duration": 116,
    "start_time": "2021-12-27T15:50:06.922Z"
   },
   {
    "duration": 7,
    "start_time": "2021-12-27T15:50:07.040Z"
   },
   {
    "duration": 770,
    "start_time": "2021-12-28T12:28:29.172Z"
   },
   {
    "duration": 28,
    "start_time": "2021-12-28T12:28:29.944Z"
   },
   {
    "duration": 23,
    "start_time": "2021-12-28T12:28:29.974Z"
   },
   {
    "duration": 82,
    "start_time": "2021-12-28T12:28:29.999Z"
   },
   {
    "duration": 9,
    "start_time": "2021-12-28T12:28:30.082Z"
   },
   {
    "duration": 24,
    "start_time": "2021-12-28T12:28:30.092Z"
   },
   {
    "duration": 24,
    "start_time": "2021-12-28T12:28:30.118Z"
   },
   {
    "duration": 20,
    "start_time": "2021-12-28T12:28:30.144Z"
   },
   {
    "duration": 23,
    "start_time": "2021-12-28T12:28:30.166Z"
   },
   {
    "duration": 19,
    "start_time": "2021-12-28T12:28:30.191Z"
   },
   {
    "duration": 38,
    "start_time": "2021-12-28T12:28:30.212Z"
   },
   {
    "duration": 14,
    "start_time": "2021-12-28T12:28:30.253Z"
   },
   {
    "duration": 40,
    "start_time": "2021-12-28T12:28:30.269Z"
   },
   {
    "duration": 36,
    "start_time": "2021-12-28T12:28:30.311Z"
   },
   {
    "duration": 31,
    "start_time": "2021-12-28T12:28:30.349Z"
   },
   {
    "duration": 37,
    "start_time": "2021-12-28T12:28:30.382Z"
   },
   {
    "duration": 32,
    "start_time": "2021-12-28T12:28:30.420Z"
   },
   {
    "duration": 25,
    "start_time": "2021-12-28T12:28:30.454Z"
   },
   {
    "duration": 23,
    "start_time": "2021-12-28T12:28:30.482Z"
   },
   {
    "duration": 94,
    "start_time": "2021-12-28T12:28:30.507Z"
   },
   {
    "duration": 5,
    "start_time": "2021-12-28T12:28:30.603Z"
   },
   {
    "duration": 27,
    "start_time": "2021-12-28T12:28:30.610Z"
   },
   {
    "duration": 12,
    "start_time": "2021-12-28T12:28:30.642Z"
   },
   {
    "duration": 19,
    "start_time": "2021-12-28T12:28:30.657Z"
   },
   {
    "duration": 39,
    "start_time": "2021-12-28T12:28:30.679Z"
   },
   {
    "duration": 194,
    "start_time": "2021-12-28T12:28:30.720Z"
   },
   {
    "duration": 9,
    "start_time": "2021-12-28T12:28:30.916Z"
   },
   {
    "duration": 1660,
    "start_time": "2021-12-28T12:28:30.926Z"
   },
   {
    "duration": 6,
    "start_time": "2021-12-28T12:28:32.589Z"
   },
   {
    "duration": 13,
    "start_time": "2021-12-28T12:28:32.597Z"
   },
   {
    "duration": 1576,
    "start_time": "2021-12-28T12:28:32.612Z"
   },
   {
    "duration": 5,
    "start_time": "2021-12-28T12:28:34.190Z"
   },
   {
    "duration": 1653,
    "start_time": "2021-12-28T12:28:34.197Z"
   },
   {
    "duration": 5,
    "start_time": "2021-12-28T12:28:35.852Z"
   },
   {
    "duration": 22,
    "start_time": "2021-12-28T12:28:35.858Z"
   },
   {
    "duration": 1577,
    "start_time": "2021-12-28T12:28:35.882Z"
   },
   {
    "duration": 6,
    "start_time": "2021-12-28T12:28:37.462Z"
   },
   {
    "duration": 1572,
    "start_time": "2021-12-28T12:28:37.470Z"
   },
   {
    "duration": 5,
    "start_time": "2021-12-28T12:28:39.044Z"
   },
   {
    "duration": 7,
    "start_time": "2021-12-28T12:28:39.050Z"
   },
   {
    "duration": 6,
    "start_time": "2021-12-28T12:28:39.059Z"
   },
   {
    "duration": 1598,
    "start_time": "2021-12-28T12:28:39.067Z"
   },
   {
    "duration": 9,
    "start_time": "2021-12-28T12:28:40.667Z"
   },
   {
    "duration": 30,
    "start_time": "2021-12-28T12:28:40.678Z"
   },
   {
    "duration": 31,
    "start_time": "2021-12-28T12:28:40.711Z"
   },
   {
    "duration": 9,
    "start_time": "2021-12-28T12:28:40.744Z"
   },
   {
    "duration": 12,
    "start_time": "2021-12-28T12:28:40.755Z"
   },
   {
    "duration": 529,
    "start_time": "2021-12-28T12:28:40.769Z"
   },
   {
    "duration": 4,
    "start_time": "2021-12-28T12:28:41.300Z"
   },
   {
    "duration": 6,
    "start_time": "2021-12-28T12:28:41.306Z"
   },
   {
    "duration": 41,
    "start_time": "2021-12-28T12:28:41.313Z"
   },
   {
    "duration": 340,
    "start_time": "2021-12-28T12:28:41.356Z"
   },
   {
    "duration": 8,
    "start_time": "2021-12-28T12:28:41.698Z"
   },
   {
    "duration": 121,
    "start_time": "2021-12-28T12:28:41.707Z"
   },
   {
    "duration": 15,
    "start_time": "2021-12-28T12:28:41.829Z"
   },
   {
    "duration": 123,
    "start_time": "2021-12-28T12:28:41.845Z"
   },
   {
    "duration": 296,
    "start_time": "2021-12-28T12:28:41.970Z"
   },
   {
    "duration": 357,
    "start_time": "2021-12-28T12:28:42.267Z"
   },
   {
    "duration": 134,
    "start_time": "2021-12-28T12:28:42.626Z"
   },
   {
    "duration": 8,
    "start_time": "2021-12-28T12:28:42.761Z"
   },
   {
    "duration": 15,
    "start_time": "2021-12-28T12:28:42.770Z"
   },
   {
    "duration": 143,
    "start_time": "2021-12-28T12:28:42.787Z"
   },
   {
    "duration": 219,
    "start_time": "2021-12-28T12:28:42.932Z"
   },
   {
    "duration": 190,
    "start_time": "2021-12-28T12:28:43.152Z"
   },
   {
    "duration": 8,
    "start_time": "2021-12-28T12:28:43.343Z"
   },
   {
    "duration": 8,
    "start_time": "2021-12-28T12:28:43.352Z"
   },
   {
    "duration": 142,
    "start_time": "2021-12-28T12:28:43.361Z"
   },
   {
    "duration": 223,
    "start_time": "2021-12-28T12:28:43.509Z"
   },
   {
    "duration": 16,
    "start_time": "2021-12-28T12:28:43.735Z"
   },
   {
    "duration": 6,
    "start_time": "2021-12-28T12:28:43.752Z"
   },
   {
    "duration": 7,
    "start_time": "2021-12-28T12:28:43.759Z"
   },
   {
    "duration": 346,
    "start_time": "2021-12-28T12:28:43.768Z"
   },
   {
    "duration": 147,
    "start_time": "2021-12-28T12:28:44.115Z"
   },
   {
    "duration": 8,
    "start_time": "2021-12-28T12:28:44.263Z"
   },
   {
    "duration": 370,
    "start_time": "2021-12-28T12:28:44.273Z"
   },
   {
    "duration": 9,
    "start_time": "2021-12-28T12:28:44.644Z"
   },
   {
    "duration": 7,
    "start_time": "2021-12-28T12:28:44.655Z"
   },
   {
    "duration": 4,
    "start_time": "2021-12-28T12:28:44.664Z"
   },
   {
    "duration": 502,
    "start_time": "2021-12-28T12:28:44.670Z"
   },
   {
    "duration": 5,
    "start_time": "2021-12-28T12:28:45.174Z"
   },
   {
    "duration": 502,
    "start_time": "2021-12-28T12:28:45.181Z"
   },
   {
    "duration": 6,
    "start_time": "2021-12-28T12:28:45.685Z"
   },
   {
    "duration": 502,
    "start_time": "2021-12-28T12:28:45.693Z"
   },
   {
    "duration": 552,
    "start_time": "2021-12-28T12:28:46.197Z"
   },
   {
    "duration": 200,
    "start_time": "2021-12-28T12:28:46.751Z"
   },
   {
    "duration": 201,
    "start_time": "2021-12-28T12:28:46.954Z"
   },
   {
    "duration": 213,
    "start_time": "2021-12-28T12:28:47.156Z"
   },
   {
    "duration": 297,
    "start_time": "2021-12-28T12:28:47.371Z"
   },
   {
    "duration": 12,
    "start_time": "2021-12-28T12:28:47.671Z"
   },
   {
    "duration": 3,
    "start_time": "2021-12-28T12:28:47.685Z"
   },
   {
    "duration": 205,
    "start_time": "2021-12-28T12:28:47.690Z"
   },
   {
    "duration": 8,
    "start_time": "2021-12-28T12:28:47.897Z"
   },
   {
    "duration": 11,
    "start_time": "2021-12-28T12:28:47.907Z"
   },
   {
    "duration": 6,
    "start_time": "2021-12-28T12:28:47.919Z"
   },
   {
    "duration": 20,
    "start_time": "2021-12-28T12:28:47.927Z"
   },
   {
    "duration": 1936,
    "start_time": "2021-12-28T12:28:47.948Z"
   },
   {
    "duration": 197,
    "start_time": "2021-12-28T12:28:49.885Z"
   },
   {
    "duration": 164,
    "start_time": "2021-12-28T12:28:50.084Z"
   },
   {
    "duration": 327,
    "start_time": "2021-12-28T12:28:50.250Z"
   },
   {
    "duration": 192,
    "start_time": "2021-12-28T12:28:50.579Z"
   },
   {
    "duration": 189,
    "start_time": "2021-12-28T12:28:50.772Z"
   },
   {
    "duration": 192,
    "start_time": "2021-12-28T12:28:50.963Z"
   },
   {
    "duration": 380,
    "start_time": "2021-12-28T22:05:35.386Z"
   },
   {
    "duration": 293,
    "start_time": "2021-12-28T22:07:13.542Z"
   },
   {
    "duration": 289,
    "start_time": "2021-12-28T22:07:32.806Z"
   },
   {
    "duration": 291,
    "start_time": "2021-12-28T22:07:35.379Z"
   },
   {
    "duration": 1151,
    "start_time": "2021-12-28T22:07:39.642Z"
   },
   {
    "duration": 67,
    "start_time": "2021-12-28T22:07:40.796Z"
   },
   {
    "duration": 20,
    "start_time": "2021-12-28T22:07:40.868Z"
   },
   {
    "duration": 133,
    "start_time": "2021-12-28T22:07:40.891Z"
   },
   {
    "duration": 11,
    "start_time": "2021-12-28T22:07:41.027Z"
   },
   {
    "duration": 23,
    "start_time": "2021-12-28T22:07:41.041Z"
   },
   {
    "duration": 16,
    "start_time": "2021-12-28T22:07:41.066Z"
   },
   {
    "duration": 9,
    "start_time": "2021-12-28T22:07:41.085Z"
   },
   {
    "duration": 5,
    "start_time": "2021-12-28T22:07:41.097Z"
   },
   {
    "duration": 9,
    "start_time": "2021-12-28T22:07:41.104Z"
   },
   {
    "duration": 5,
    "start_time": "2021-12-28T22:07:41.115Z"
   },
   {
    "duration": 45,
    "start_time": "2021-12-28T22:07:41.122Z"
   },
   {
    "duration": 9,
    "start_time": "2021-12-28T22:07:41.174Z"
   },
   {
    "duration": 6,
    "start_time": "2021-12-28T22:07:41.185Z"
   },
   {
    "duration": 8,
    "start_time": "2021-12-28T22:07:41.193Z"
   },
   {
    "duration": 11,
    "start_time": "2021-12-28T22:07:41.204Z"
   },
   {
    "duration": 6,
    "start_time": "2021-12-28T22:07:41.218Z"
   },
   {
    "duration": 15,
    "start_time": "2021-12-28T22:07:41.265Z"
   },
   {
    "duration": 12,
    "start_time": "2021-12-28T22:07:41.283Z"
   },
   {
    "duration": 142,
    "start_time": "2021-12-28T22:07:41.297Z"
   },
   {
    "duration": 7,
    "start_time": "2021-12-28T22:07:41.442Z"
   },
   {
    "duration": 21,
    "start_time": "2021-12-28T22:07:41.462Z"
   },
   {
    "duration": 8,
    "start_time": "2021-12-28T22:07:41.494Z"
   },
   {
    "duration": 10,
    "start_time": "2021-12-28T22:07:41.508Z"
   },
   {
    "duration": 48,
    "start_time": "2021-12-28T22:07:41.521Z"
   },
   {
    "duration": 284,
    "start_time": "2021-12-28T22:07:41.575Z"
   },
   {
    "duration": 15,
    "start_time": "2021-12-28T22:07:41.863Z"
   },
   {
    "duration": 2805,
    "start_time": "2021-12-28T22:07:41.881Z"
   },
   {
    "duration": 9,
    "start_time": "2021-12-28T22:07:44.689Z"
   },
   {
    "duration": 12,
    "start_time": "2021-12-28T22:07:44.705Z"
   },
   {
    "duration": 3058,
    "start_time": "2021-12-28T22:07:44.719Z"
   },
   {
    "duration": 10,
    "start_time": "2021-12-28T22:07:47.780Z"
   },
   {
    "duration": 2811,
    "start_time": "2021-12-28T22:07:47.793Z"
   },
   {
    "duration": 7,
    "start_time": "2021-12-28T22:07:50.606Z"
   },
   {
    "duration": 11,
    "start_time": "2021-12-28T22:07:50.615Z"
   },
   {
    "duration": 2562,
    "start_time": "2021-12-28T22:07:50.629Z"
   },
   {
    "duration": 7,
    "start_time": "2021-12-28T22:07:53.193Z"
   },
   {
    "duration": 2624,
    "start_time": "2021-12-28T22:07:53.203Z"
   },
   {
    "duration": 8,
    "start_time": "2021-12-28T22:07:55.829Z"
   },
   {
    "duration": 7,
    "start_time": "2021-12-28T22:07:55.839Z"
   },
   {
    "duration": 6,
    "start_time": "2021-12-28T22:07:55.867Z"
   },
   {
    "duration": 2726,
    "start_time": "2021-12-28T22:07:55.876Z"
   },
   {
    "duration": 7,
    "start_time": "2021-12-28T22:07:58.605Z"
   },
   {
    "duration": 82,
    "start_time": "2021-12-28T22:07:58.615Z"
   },
   {
    "duration": 12,
    "start_time": "2021-12-28T22:07:58.699Z"
   },
   {
    "duration": 11,
    "start_time": "2021-12-28T22:07:58.714Z"
   },
   {
    "duration": 42,
    "start_time": "2021-12-28T22:07:58.728Z"
   },
   {
    "duration": 1318,
    "start_time": "2021-12-28T22:07:58.773Z"
   },
   {
    "duration": 5,
    "start_time": "2021-12-28T22:08:00.094Z"
   },
   {
    "duration": 16,
    "start_time": "2021-12-28T22:08:00.102Z"
   },
   {
    "duration": 70,
    "start_time": "2021-12-28T22:08:00.121Z"
   },
   {
    "duration": 627,
    "start_time": "2021-12-28T22:08:00.195Z"
   },
   {
    "duration": 12,
    "start_time": "2021-12-28T22:08:00.824Z"
   },
   {
    "duration": 243,
    "start_time": "2021-12-28T22:08:00.838Z"
   },
   {
    "duration": 12,
    "start_time": "2021-12-28T22:08:01.083Z"
   },
   {
    "duration": 254,
    "start_time": "2021-12-28T22:08:01.097Z"
   },
   {
    "duration": 616,
    "start_time": "2021-12-28T22:08:01.354Z"
   },
   {
    "duration": 690,
    "start_time": "2021-12-28T22:08:01.973Z"
   },
   {
    "duration": 240,
    "start_time": "2021-12-28T22:08:02.665Z"
   },
   {
    "duration": 12,
    "start_time": "2021-12-28T22:08:02.908Z"
   },
   {
    "duration": 45,
    "start_time": "2021-12-28T22:08:02.922Z"
   },
   {
    "duration": 253,
    "start_time": "2021-12-28T22:08:02.970Z"
   },
   {
    "duration": 431,
    "start_time": "2021-12-28T22:08:03.225Z"
   },
   {
    "duration": 302,
    "start_time": "2021-12-28T22:08:03.662Z"
   },
   {
    "duration": 14,
    "start_time": "2021-12-28T22:08:03.967Z"
   },
   {
    "duration": 13,
    "start_time": "2021-12-28T22:08:03.984Z"
   },
   {
    "duration": 259,
    "start_time": "2021-12-28T22:08:03.999Z"
   },
   {
    "duration": 404,
    "start_time": "2021-12-28T22:08:04.284Z"
   },
   {
    "duration": 18,
    "start_time": "2021-12-28T22:08:04.691Z"
   },
   {
    "duration": 7,
    "start_time": "2021-12-28T22:08:04.711Z"
   },
   {
    "duration": 18,
    "start_time": "2021-12-28T22:08:04.720Z"
   },
   {
    "duration": 632,
    "start_time": "2021-12-28T22:08:04.771Z"
   },
   {
    "duration": 285,
    "start_time": "2021-12-28T22:08:05.406Z"
   },
   {
    "duration": 15,
    "start_time": "2021-12-28T22:08:05.694Z"
   },
   {
    "duration": 728,
    "start_time": "2021-12-28T22:08:05.711Z"
   },
   {
    "duration": 32,
    "start_time": "2021-12-28T22:08:06.441Z"
   },
   {
    "duration": 12,
    "start_time": "2021-12-28T22:08:06.477Z"
   },
   {
    "duration": 9,
    "start_time": "2021-12-28T22:08:06.492Z"
   },
   {
    "duration": 923,
    "start_time": "2021-12-28T22:08:06.505Z"
   },
   {
    "duration": 7,
    "start_time": "2021-12-28T22:08:07.431Z"
   },
   {
    "duration": 798,
    "start_time": "2021-12-28T22:08:07.441Z"
   },
   {
    "duration": 21,
    "start_time": "2021-12-28T22:08:08.241Z"
   },
   {
    "duration": 781,
    "start_time": "2021-12-28T22:08:08.265Z"
   },
   {
    "duration": 872,
    "start_time": "2021-12-28T22:08:09.050Z"
   },
   {
    "duration": 372,
    "start_time": "2021-12-28T22:08:09.926Z"
   },
   {
    "duration": 365,
    "start_time": "2021-12-28T22:08:10.301Z"
   },
   {
    "duration": 381,
    "start_time": "2021-12-28T22:08:10.669Z"
   },
   {
    "duration": 383,
    "start_time": "2021-12-28T22:08:11.053Z"
   },
   {
    "duration": 39,
    "start_time": "2021-12-28T22:08:11.438Z"
   },
   {
    "duration": 5,
    "start_time": "2021-12-28T22:08:11.482Z"
   },
   {
    "duration": 369,
    "start_time": "2021-12-28T22:08:11.490Z"
   },
   {
    "duration": 18,
    "start_time": "2021-12-28T22:08:11.862Z"
   },
   {
    "duration": 22,
    "start_time": "2021-12-28T22:08:11.882Z"
   },
   {
    "duration": 12636,
    "start_time": "2021-12-28T22:08:11.907Z"
   },
   {
    "duration": 13175,
    "start_time": "2021-12-28T22:08:24.546Z"
   },
   {
    "duration": 14,
    "start_time": "2021-12-28T22:08:37.724Z"
   },
   {
    "duration": 3150,
    "start_time": "2021-12-28T22:08:37.740Z"
   },
   {
    "duration": 350,
    "start_time": "2021-12-28T22:08:40.892Z"
   },
   {
    "duration": 299,
    "start_time": "2021-12-28T22:08:41.245Z"
   },
   {
    "duration": 485,
    "start_time": "2021-12-28T22:08:41.547Z"
   },
   {
    "duration": 352,
    "start_time": "2021-12-28T22:08:42.035Z"
   },
   {
    "duration": 351,
    "start_time": "2021-12-28T22:08:42.389Z"
   },
   {
    "duration": 352,
    "start_time": "2021-12-28T22:08:42.742Z"
   },
   {
    "duration": 358,
    "start_time": "2021-12-28T22:12:28.530Z"
   },
   {
    "duration": 579,
    "start_time": "2021-12-28T22:13:24.906Z"
   },
   {
    "duration": 286,
    "start_time": "2021-12-29T05:49:30.770Z"
   },
   {
    "duration": 756,
    "start_time": "2021-12-29T05:49:46.569Z"
   },
   {
    "duration": 27,
    "start_time": "2021-12-29T05:49:47.327Z"
   },
   {
    "duration": 11,
    "start_time": "2021-12-29T05:49:47.356Z"
   },
   {
    "duration": 74,
    "start_time": "2021-12-29T05:49:47.369Z"
   },
   {
    "duration": 8,
    "start_time": "2021-12-29T05:49:47.444Z"
   },
   {
    "duration": 8,
    "start_time": "2021-12-29T05:49:47.454Z"
   },
   {
    "duration": 8,
    "start_time": "2021-12-29T05:49:47.463Z"
   },
   {
    "duration": 5,
    "start_time": "2021-12-29T05:49:47.474Z"
   },
   {
    "duration": 4,
    "start_time": "2021-12-29T05:49:47.481Z"
   },
   {
    "duration": 6,
    "start_time": "2021-12-29T05:49:47.486Z"
   },
   {
    "duration": 4,
    "start_time": "2021-12-29T05:49:47.493Z"
   },
   {
    "duration": 5,
    "start_time": "2021-12-29T05:49:47.498Z"
   },
   {
    "duration": 7,
    "start_time": "2021-12-29T05:49:47.542Z"
   },
   {
    "duration": 6,
    "start_time": "2021-12-29T05:49:47.550Z"
   },
   {
    "duration": 7,
    "start_time": "2021-12-29T05:49:47.558Z"
   },
   {
    "duration": 9,
    "start_time": "2021-12-29T05:49:47.566Z"
   },
   {
    "duration": 6,
    "start_time": "2021-12-29T05:49:47.577Z"
   },
   {
    "duration": 6,
    "start_time": "2021-12-29T05:49:47.585Z"
   },
   {
    "duration": 11,
    "start_time": "2021-12-29T05:49:47.593Z"
   },
   {
    "duration": 85,
    "start_time": "2021-12-29T05:49:47.606Z"
   },
   {
    "duration": 5,
    "start_time": "2021-12-29T05:49:47.693Z"
   },
   {
    "duration": 11,
    "start_time": "2021-12-29T05:49:47.700Z"
   },
   {
    "duration": 3,
    "start_time": "2021-12-29T05:49:47.716Z"
   },
   {
    "duration": 7,
    "start_time": "2021-12-29T05:49:47.742Z"
   },
   {
    "duration": 12,
    "start_time": "2021-12-29T05:49:47.751Z"
   },
   {
    "duration": 155,
    "start_time": "2021-12-29T05:49:47.765Z"
   },
   {
    "duration": 7,
    "start_time": "2021-12-29T05:49:47.922Z"
   },
   {
    "duration": 1466,
    "start_time": "2021-12-29T05:49:47.931Z"
   },
   {
    "duration": 5,
    "start_time": "2021-12-29T05:49:49.399Z"
   },
   {
    "duration": 10,
    "start_time": "2021-12-29T05:49:49.405Z"
   },
   {
    "duration": 1540,
    "start_time": "2021-12-29T05:49:49.416Z"
   },
   {
    "duration": 6,
    "start_time": "2021-12-29T05:49:50.958Z"
   },
   {
    "duration": 1658,
    "start_time": "2021-12-29T05:49:50.965Z"
   },
   {
    "duration": 19,
    "start_time": "2021-12-29T05:49:52.625Z"
   },
   {
    "duration": 25,
    "start_time": "2021-12-29T05:49:52.646Z"
   },
   {
    "duration": 1609,
    "start_time": "2021-12-29T05:49:52.673Z"
   },
   {
    "duration": 5,
    "start_time": "2021-12-29T05:49:54.283Z"
   },
   {
    "duration": 1539,
    "start_time": "2021-12-29T05:49:54.290Z"
   },
   {
    "duration": 15,
    "start_time": "2021-12-29T05:49:55.831Z"
   },
   {
    "duration": 6,
    "start_time": "2021-12-29T05:49:55.847Z"
   },
   {
    "duration": 6,
    "start_time": "2021-12-29T05:49:55.855Z"
   },
   {
    "duration": 1559,
    "start_time": "2021-12-29T05:49:55.862Z"
   },
   {
    "duration": 4,
    "start_time": "2021-12-29T05:49:57.423Z"
   },
   {
    "duration": 27,
    "start_time": "2021-12-29T05:49:57.441Z"
   },
   {
    "duration": 8,
    "start_time": "2021-12-29T05:49:57.469Z"
   },
   {
    "duration": 7,
    "start_time": "2021-12-29T05:49:57.478Z"
   },
   {
    "duration": 10,
    "start_time": "2021-12-29T05:49:57.487Z"
   },
   {
    "duration": 533,
    "start_time": "2021-12-29T05:49:57.499Z"
   },
   {
    "duration": 8,
    "start_time": "2021-12-29T05:49:58.033Z"
   },
   {
    "duration": 7,
    "start_time": "2021-12-29T05:49:58.042Z"
   },
   {
    "duration": 28,
    "start_time": "2021-12-29T05:49:58.051Z"
   },
   {
    "duration": 324,
    "start_time": "2021-12-29T05:49:58.081Z"
   },
   {
    "duration": 7,
    "start_time": "2021-12-29T05:49:58.407Z"
   },
   {
    "duration": 131,
    "start_time": "2021-12-29T05:49:58.416Z"
   },
   {
    "duration": 8,
    "start_time": "2021-12-29T05:49:58.549Z"
   },
   {
    "duration": 140,
    "start_time": "2021-12-29T05:49:58.558Z"
   },
   {
    "duration": 310,
    "start_time": "2021-12-29T05:49:58.700Z"
   },
   {
    "duration": 343,
    "start_time": "2021-12-29T05:49:59.012Z"
   },
   {
    "duration": 139,
    "start_time": "2021-12-29T05:49:59.357Z"
   },
   {
    "duration": 8,
    "start_time": "2021-12-29T05:49:59.498Z"
   },
   {
    "duration": 12,
    "start_time": "2021-12-29T05:49:59.508Z"
   },
   {
    "duration": 155,
    "start_time": "2021-12-29T05:49:59.522Z"
   },
   {
    "duration": 225,
    "start_time": "2021-12-29T05:49:59.679Z"
   },
   {
    "duration": 195,
    "start_time": "2021-12-29T05:49:59.906Z"
   },
   {
    "duration": 8,
    "start_time": "2021-12-29T05:50:00.103Z"
   },
   {
    "duration": 9,
    "start_time": "2021-12-29T05:50:00.112Z"
   },
   {
    "duration": 167,
    "start_time": "2021-12-29T05:50:00.123Z"
   },
   {
    "duration": 214,
    "start_time": "2021-12-29T05:50:00.296Z"
   },
   {
    "duration": 13,
    "start_time": "2021-12-29T05:50:00.513Z"
   },
   {
    "duration": 5,
    "start_time": "2021-12-29T05:50:00.540Z"
   },
   {
    "duration": 8,
    "start_time": "2021-12-29T05:50:00.547Z"
   },
   {
    "duration": 325,
    "start_time": "2021-12-29T05:50:00.557Z"
   },
   {
    "duration": 147,
    "start_time": "2021-12-29T05:50:00.884Z"
   },
   {
    "duration": 14,
    "start_time": "2021-12-29T05:50:01.033Z"
   },
   {
    "duration": 363,
    "start_time": "2021-12-29T05:50:01.049Z"
   },
   {
    "duration": 11,
    "start_time": "2021-12-29T05:50:01.414Z"
   },
   {
    "duration": 85,
    "start_time": "2021-12-29T05:50:01.426Z"
   },
   {
    "duration": 6,
    "start_time": "2021-12-29T05:50:01.513Z"
   },
   {
    "duration": 473,
    "start_time": "2021-12-29T05:50:01.521Z"
   },
   {
    "duration": 5,
    "start_time": "2021-12-29T05:50:01.996Z"
   },
   {
    "duration": 481,
    "start_time": "2021-12-29T05:50:02.002Z"
   },
   {
    "duration": 5,
    "start_time": "2021-12-29T05:50:02.485Z"
   },
   {
    "duration": 498,
    "start_time": "2021-12-29T05:50:02.491Z"
   },
   {
    "duration": 555,
    "start_time": "2021-12-29T05:50:02.991Z"
   },
   {
    "duration": 195,
    "start_time": "2021-12-29T05:50:03.548Z"
   },
   {
    "duration": 202,
    "start_time": "2021-12-29T05:50:03.745Z"
   },
   {
    "duration": 202,
    "start_time": "2021-12-29T05:50:03.949Z"
   },
   {
    "duration": 188,
    "start_time": "2021-12-29T05:50:04.153Z"
   },
   {
    "duration": 13,
    "start_time": "2021-12-29T05:50:04.342Z"
   },
   {
    "duration": 3,
    "start_time": "2021-12-29T05:50:04.357Z"
   },
   {
    "duration": 195,
    "start_time": "2021-12-29T05:50:04.361Z"
   },
   {
    "duration": 7,
    "start_time": "2021-12-29T05:50:04.558Z"
   },
   {
    "duration": 9,
    "start_time": "2021-12-29T05:50:04.567Z"
   },
   {
    "duration": 318,
    "start_time": "2021-12-29T05:50:04.578Z"
   },
   {
    "duration": -47,
    "start_time": "2021-12-29T05:50:04.945Z"
   },
   {
    "duration": -54,
    "start_time": "2021-12-29T05:50:04.953Z"
   },
   {
    "duration": -59,
    "start_time": "2021-12-29T05:50:04.959Z"
   },
   {
    "duration": -66,
    "start_time": "2021-12-29T05:50:04.967Z"
   },
   {
    "duration": -71,
    "start_time": "2021-12-29T05:50:04.973Z"
   },
   {
    "duration": -81,
    "start_time": "2021-12-29T05:50:04.984Z"
   },
   {
    "duration": -86,
    "start_time": "2021-12-29T05:50:04.990Z"
   },
   {
    "duration": -91,
    "start_time": "2021-12-29T05:50:04.996Z"
   },
   {
    "duration": 253,
    "start_time": "2021-12-29T05:50:39.166Z"
   },
   {
    "duration": 234,
    "start_time": "2021-12-29T05:51:03.339Z"
   },
   {
    "duration": 252,
    "start_time": "2021-12-29T05:51:38.099Z"
   },
   {
    "duration": 261,
    "start_time": "2021-12-29T05:52:31.990Z"
   },
   {
    "duration": 250,
    "start_time": "2021-12-29T05:54:38.018Z"
   },
   {
    "duration": 298,
    "start_time": "2021-12-29T05:56:03.165Z"
   },
   {
    "duration": 293,
    "start_time": "2021-12-29T06:17:13.997Z"
   },
   {
    "duration": 408,
    "start_time": "2021-12-29T06:17:48.332Z"
   },
   {
    "duration": 196,
    "start_time": "2021-12-29T06:18:27.853Z"
   },
   {
    "duration": 90,
    "start_time": "2021-12-29T06:19:02.348Z"
   },
   {
    "duration": 83,
    "start_time": "2021-12-29T06:21:43.864Z"
   },
   {
    "duration": 100,
    "start_time": "2021-12-29T06:22:01.500Z"
   },
   {
    "duration": 253,
    "start_time": "2021-12-29T06:22:30.196Z"
   },
   {
    "duration": 521,
    "start_time": "2021-12-29T06:35:54.916Z"
   },
   {
    "duration": 346,
    "start_time": "2021-12-29T14:46:18.334Z"
   },
   {
    "duration": 832,
    "start_time": "2021-12-29T14:46:39.740Z"
   },
   {
    "duration": 33,
    "start_time": "2021-12-29T14:46:40.574Z"
   },
   {
    "duration": 14,
    "start_time": "2021-12-29T14:46:40.609Z"
   },
   {
    "duration": 85,
    "start_time": "2021-12-29T14:46:40.625Z"
   },
   {
    "duration": 8,
    "start_time": "2021-12-29T14:46:40.712Z"
   },
   {
    "duration": 13,
    "start_time": "2021-12-29T14:46:40.721Z"
   },
   {
    "duration": 9,
    "start_time": "2021-12-29T14:46:40.735Z"
   },
   {
    "duration": 14,
    "start_time": "2021-12-29T14:46:40.747Z"
   },
   {
    "duration": 5,
    "start_time": "2021-12-29T14:46:40.763Z"
   },
   {
    "duration": 13,
    "start_time": "2021-12-29T14:46:40.769Z"
   },
   {
    "duration": 4,
    "start_time": "2021-12-29T14:46:40.784Z"
   },
   {
    "duration": 11,
    "start_time": "2021-12-29T14:46:40.789Z"
   },
   {
    "duration": 11,
    "start_time": "2021-12-29T14:46:40.802Z"
   },
   {
    "duration": 10,
    "start_time": "2021-12-29T14:46:40.814Z"
   },
   {
    "duration": 10,
    "start_time": "2021-12-29T14:46:40.825Z"
   },
   {
    "duration": 8,
    "start_time": "2021-12-29T14:46:40.837Z"
   },
   {
    "duration": 17,
    "start_time": "2021-12-29T14:46:40.846Z"
   },
   {
    "duration": 7,
    "start_time": "2021-12-29T14:46:40.864Z"
   },
   {
    "duration": 10,
    "start_time": "2021-12-29T14:46:40.872Z"
   },
   {
    "duration": 54,
    "start_time": "2021-12-29T14:46:40.884Z"
   },
   {
    "duration": 24,
    "start_time": "2021-12-29T14:46:40.940Z"
   },
   {
    "duration": 10,
    "start_time": "2021-12-29T14:46:40.965Z"
   },
   {
    "duration": 4,
    "start_time": "2021-12-29T14:46:40.979Z"
   },
   {
    "duration": 11,
    "start_time": "2021-12-29T14:46:40.985Z"
   },
   {
    "duration": 8,
    "start_time": "2021-12-29T14:46:40.998Z"
   },
   {
    "duration": 185,
    "start_time": "2021-12-29T14:46:41.008Z"
   },
   {
    "duration": 8,
    "start_time": "2021-12-29T14:46:41.195Z"
   },
   {
    "duration": 1618,
    "start_time": "2021-12-29T14:46:41.205Z"
   },
   {
    "duration": 5,
    "start_time": "2021-12-29T14:46:42.825Z"
   },
   {
    "duration": 9,
    "start_time": "2021-12-29T14:46:42.831Z"
   },
   {
    "duration": 1642,
    "start_time": "2021-12-29T14:46:42.842Z"
   },
   {
    "duration": 6,
    "start_time": "2021-12-29T14:46:44.485Z"
   },
   {
    "duration": 1636,
    "start_time": "2021-12-29T14:46:44.493Z"
   },
   {
    "duration": 5,
    "start_time": "2021-12-29T14:46:46.131Z"
   },
   {
    "duration": 5,
    "start_time": "2021-12-29T14:46:46.138Z"
   },
   {
    "duration": 1681,
    "start_time": "2021-12-29T14:46:46.144Z"
   },
   {
    "duration": 5,
    "start_time": "2021-12-29T14:46:47.827Z"
   },
   {
    "duration": 1668,
    "start_time": "2021-12-29T14:46:47.833Z"
   },
   {
    "duration": 5,
    "start_time": "2021-12-29T14:46:49.502Z"
   },
   {
    "duration": 4,
    "start_time": "2021-12-29T14:46:49.509Z"
   },
   {
    "duration": 5,
    "start_time": "2021-12-29T14:46:49.515Z"
   },
   {
    "duration": 1674,
    "start_time": "2021-12-29T14:46:49.522Z"
   },
   {
    "duration": 5,
    "start_time": "2021-12-29T14:46:51.197Z"
   },
   {
    "duration": 45,
    "start_time": "2021-12-29T14:46:51.204Z"
   },
   {
    "duration": 13,
    "start_time": "2021-12-29T14:46:51.250Z"
   },
   {
    "duration": 9,
    "start_time": "2021-12-29T14:46:51.265Z"
   },
   {
    "duration": 21,
    "start_time": "2021-12-29T14:46:51.275Z"
   },
   {
    "duration": 572,
    "start_time": "2021-12-29T14:46:51.298Z"
   },
   {
    "duration": 4,
    "start_time": "2021-12-29T14:46:51.872Z"
   },
   {
    "duration": 11,
    "start_time": "2021-12-29T14:46:51.877Z"
   },
   {
    "duration": 33,
    "start_time": "2021-12-29T14:46:51.889Z"
   },
   {
    "duration": 372,
    "start_time": "2021-12-29T14:46:51.923Z"
   },
   {
    "duration": 8,
    "start_time": "2021-12-29T14:46:52.297Z"
   },
   {
    "duration": 140,
    "start_time": "2021-12-29T14:46:52.307Z"
   },
   {
    "duration": 16,
    "start_time": "2021-12-29T14:46:52.449Z"
   },
   {
    "duration": 132,
    "start_time": "2021-12-29T14:46:52.467Z"
   },
   {
    "duration": 338,
    "start_time": "2021-12-29T14:46:52.600Z"
   },
   {
    "duration": 359,
    "start_time": "2021-12-29T14:46:52.940Z"
   },
   {
    "duration": 147,
    "start_time": "2021-12-29T14:46:53.302Z"
   },
   {
    "duration": 15,
    "start_time": "2021-12-29T14:46:53.452Z"
   },
   {
    "duration": 14,
    "start_time": "2021-12-29T14:46:53.468Z"
   },
   {
    "duration": 154,
    "start_time": "2021-12-29T14:46:53.484Z"
   },
   {
    "duration": 226,
    "start_time": "2021-12-29T14:46:53.640Z"
   },
   {
    "duration": 194,
    "start_time": "2021-12-29T14:46:53.868Z"
   },
   {
    "duration": 7,
    "start_time": "2021-12-29T14:46:54.064Z"
   },
   {
    "duration": 8,
    "start_time": "2021-12-29T14:46:54.073Z"
   },
   {
    "duration": 154,
    "start_time": "2021-12-29T14:46:54.083Z"
   },
   {
    "duration": 233,
    "start_time": "2021-12-29T14:46:54.242Z"
   },
   {
    "duration": 12,
    "start_time": "2021-12-29T14:46:54.477Z"
   },
   {
    "duration": 4,
    "start_time": "2021-12-29T14:46:54.490Z"
   },
   {
    "duration": 7,
    "start_time": "2021-12-29T14:46:54.496Z"
   },
   {
    "duration": 352,
    "start_time": "2021-12-29T14:46:54.505Z"
   },
   {
    "duration": 158,
    "start_time": "2021-12-29T14:46:54.859Z"
   },
   {
    "duration": 9,
    "start_time": "2021-12-29T14:46:55.018Z"
   },
   {
    "duration": 394,
    "start_time": "2021-12-29T14:46:55.029Z"
   },
   {
    "duration": 9,
    "start_time": "2021-12-29T14:46:55.425Z"
   },
   {
    "duration": 26,
    "start_time": "2021-12-29T14:46:55.436Z"
   },
   {
    "duration": 6,
    "start_time": "2021-12-29T14:46:55.463Z"
   },
   {
    "duration": 515,
    "start_time": "2021-12-29T14:46:55.470Z"
   },
   {
    "duration": 4,
    "start_time": "2021-12-29T14:46:55.987Z"
   },
   {
    "duration": 541,
    "start_time": "2021-12-29T14:46:55.993Z"
   },
   {
    "duration": 5,
    "start_time": "2021-12-29T14:46:56.536Z"
   },
   {
    "duration": 525,
    "start_time": "2021-12-29T14:46:56.542Z"
   },
   {
    "duration": 574,
    "start_time": "2021-12-29T14:46:57.069Z"
   },
   {
    "duration": 210,
    "start_time": "2021-12-29T14:46:57.644Z"
   },
   {
    "duration": 203,
    "start_time": "2021-12-29T14:46:57.856Z"
   },
   {
    "duration": 219,
    "start_time": "2021-12-29T14:46:58.061Z"
   },
   {
    "duration": 205,
    "start_time": "2021-12-29T14:46:58.281Z"
   },
   {
    "duration": 13,
    "start_time": "2021-12-29T14:46:58.488Z"
   },
   {
    "duration": 7,
    "start_time": "2021-12-29T14:46:58.503Z"
   },
   {
    "duration": 214,
    "start_time": "2021-12-29T14:46:58.511Z"
   },
   {
    "duration": 9,
    "start_time": "2021-12-29T14:46:58.727Z"
   },
   {
    "duration": 23,
    "start_time": "2021-12-29T14:46:58.738Z"
   },
   {
    "duration": 442,
    "start_time": "2021-12-29T14:46:58.762Z"
   },
   {
    "duration": 328,
    "start_time": "2021-12-29T14:46:58.878Z"
   },
   {
    "duration": 321,
    "start_time": "2021-12-29T14:46:58.886Z"
   },
   {
    "duration": 315,
    "start_time": "2021-12-29T14:46:58.893Z"
   },
   {
    "duration": 309,
    "start_time": "2021-12-29T14:46:58.900Z"
   },
   {
    "duration": 303,
    "start_time": "2021-12-29T14:46:58.907Z"
   },
   {
    "duration": 298,
    "start_time": "2021-12-29T14:46:58.913Z"
   },
   {
    "duration": 292,
    "start_time": "2021-12-29T14:46:58.920Z"
   },
   {
    "duration": 287,
    "start_time": "2021-12-29T14:46:58.926Z"
   },
   {
    "duration": 1260,
    "start_time": "2021-12-29T14:47:38.504Z"
   },
   {
    "duration": 1189,
    "start_time": "2021-12-29T14:48:07.925Z"
   },
   {
    "duration": 97,
    "start_time": "2021-12-29T14:48:23.377Z"
   },
   {
    "duration": 29,
    "start_time": "2021-12-29T14:48:23.476Z"
   },
   {
    "duration": 17,
    "start_time": "2021-12-29T14:48:23.507Z"
   },
   {
    "duration": 93,
    "start_time": "2021-12-29T14:48:23.526Z"
   },
   {
    "duration": 8,
    "start_time": "2021-12-29T14:48:23.621Z"
   },
   {
    "duration": 31,
    "start_time": "2021-12-29T14:48:23.631Z"
   },
   {
    "duration": 9,
    "start_time": "2021-12-29T14:48:23.664Z"
   },
   {
    "duration": 6,
    "start_time": "2021-12-29T14:48:23.676Z"
   },
   {
    "duration": 5,
    "start_time": "2021-12-29T14:48:23.683Z"
   },
   {
    "duration": 9,
    "start_time": "2021-12-29T14:48:23.689Z"
   },
   {
    "duration": 6,
    "start_time": "2021-12-29T14:48:23.700Z"
   },
   {
    "duration": 6,
    "start_time": "2021-12-29T14:48:23.708Z"
   },
   {
    "duration": 46,
    "start_time": "2021-12-29T14:48:23.716Z"
   },
   {
    "duration": 7,
    "start_time": "2021-12-29T14:48:23.764Z"
   },
   {
    "duration": 12,
    "start_time": "2021-12-29T14:48:23.773Z"
   },
   {
    "duration": 5,
    "start_time": "2021-12-29T14:48:23.786Z"
   },
   {
    "duration": 4,
    "start_time": "2021-12-29T14:48:23.793Z"
   },
   {
    "duration": 10,
    "start_time": "2021-12-29T14:48:23.798Z"
   },
   {
    "duration": 10,
    "start_time": "2021-12-29T14:48:23.809Z"
   },
   {
    "duration": 88,
    "start_time": "2021-12-29T14:48:23.820Z"
   },
   {
    "duration": 4,
    "start_time": "2021-12-29T14:48:23.910Z"
   },
   {
    "duration": 13,
    "start_time": "2021-12-29T14:48:23.916Z"
   },
   {
    "duration": 4,
    "start_time": "2021-12-29T14:48:23.962Z"
   },
   {
    "duration": 9,
    "start_time": "2021-12-29T14:48:23.969Z"
   },
   {
    "duration": 8,
    "start_time": "2021-12-29T14:48:23.980Z"
   },
   {
    "duration": 167,
    "start_time": "2021-12-29T14:48:23.990Z"
   },
   {
    "duration": 8,
    "start_time": "2021-12-29T14:48:24.161Z"
   },
   {
    "duration": 1639,
    "start_time": "2021-12-29T14:48:24.171Z"
   },
   {
    "duration": 7,
    "start_time": "2021-12-29T14:48:25.812Z"
   },
   {
    "duration": 17,
    "start_time": "2021-12-29T14:48:25.820Z"
   },
   {
    "duration": 1744,
    "start_time": "2021-12-29T14:48:25.839Z"
   },
   {
    "duration": 5,
    "start_time": "2021-12-29T14:48:27.585Z"
   },
   {
    "duration": 1662,
    "start_time": "2021-12-29T14:48:27.592Z"
   },
   {
    "duration": 5,
    "start_time": "2021-12-29T14:48:29.260Z"
   },
   {
    "duration": 16,
    "start_time": "2021-12-29T14:48:29.267Z"
   },
   {
    "duration": 1717,
    "start_time": "2021-12-29T14:48:29.285Z"
   },
   {
    "duration": 6,
    "start_time": "2021-12-29T14:48:31.004Z"
   },
   {
    "duration": 1762,
    "start_time": "2021-12-29T14:48:31.012Z"
   },
   {
    "duration": 5,
    "start_time": "2021-12-29T14:48:32.776Z"
   },
   {
    "duration": 10,
    "start_time": "2021-12-29T14:48:32.783Z"
   },
   {
    "duration": 33,
    "start_time": "2021-12-29T14:48:32.795Z"
   },
   {
    "duration": 1693,
    "start_time": "2021-12-29T14:48:32.830Z"
   },
   {
    "duration": 5,
    "start_time": "2021-12-29T14:48:34.525Z"
   },
   {
    "duration": 43,
    "start_time": "2021-12-29T14:48:34.531Z"
   },
   {
    "duration": 9,
    "start_time": "2021-12-29T14:48:34.575Z"
   },
   {
    "duration": 7,
    "start_time": "2021-12-29T14:48:34.585Z"
   },
   {
    "duration": 14,
    "start_time": "2021-12-29T14:48:34.594Z"
   },
   {
    "duration": 664,
    "start_time": "2021-12-29T14:48:34.609Z"
   },
   {
    "duration": 4,
    "start_time": "2021-12-29T14:48:35.275Z"
   },
   {
    "duration": 10,
    "start_time": "2021-12-29T14:48:35.280Z"
   },
   {
    "duration": 33,
    "start_time": "2021-12-29T14:48:35.292Z"
   },
   {
    "duration": 328,
    "start_time": "2021-12-29T14:48:35.327Z"
   },
   {
    "duration": 8,
    "start_time": "2021-12-29T14:48:35.661Z"
   },
   {
    "duration": 134,
    "start_time": "2021-12-29T14:48:35.670Z"
   },
   {
    "duration": 8,
    "start_time": "2021-12-29T14:48:35.806Z"
   },
   {
    "duration": 139,
    "start_time": "2021-12-29T14:48:35.815Z"
   },
   {
    "duration": 332,
    "start_time": "2021-12-29T14:48:35.955Z"
   },
   {
    "duration": 461,
    "start_time": "2021-12-29T14:48:36.289Z"
   },
   {
    "duration": 166,
    "start_time": "2021-12-29T14:48:36.752Z"
   },
   {
    "duration": 11,
    "start_time": "2021-12-29T14:48:36.920Z"
   },
   {
    "duration": 28,
    "start_time": "2021-12-29T14:48:36.933Z"
   },
   {
    "duration": 170,
    "start_time": "2021-12-29T14:48:36.963Z"
   },
   {
    "duration": 277,
    "start_time": "2021-12-29T14:48:37.135Z"
   },
   {
    "duration": 133,
    "start_time": "2021-12-29T14:48:37.414Z"
   },
   {
    "duration": 15,
    "start_time": "2021-12-29T14:48:37.549Z"
   },
   {
    "duration": 8,
    "start_time": "2021-12-29T14:48:37.566Z"
   },
   {
    "duration": 147,
    "start_time": "2021-12-29T14:48:37.576Z"
   },
   {
    "duration": 225,
    "start_time": "2021-12-29T14:48:37.728Z"
   },
   {
    "duration": 15,
    "start_time": "2021-12-29T14:48:37.955Z"
   },
   {
    "duration": 5,
    "start_time": "2021-12-29T14:48:37.972Z"
   },
   {
    "duration": 7,
    "start_time": "2021-12-29T14:48:37.979Z"
   },
   {
    "duration": 466,
    "start_time": "2021-12-29T14:48:37.987Z"
   },
   {
    "duration": 192,
    "start_time": "2021-12-29T14:48:38.455Z"
   },
   {
    "duration": 14,
    "start_time": "2021-12-29T14:48:38.649Z"
   },
   {
    "duration": 570,
    "start_time": "2021-12-29T14:48:38.665Z"
   },
   {
    "duration": 10,
    "start_time": "2021-12-29T14:48:39.237Z"
   },
   {
    "duration": 10,
    "start_time": "2021-12-29T14:48:39.260Z"
   },
   {
    "duration": 6,
    "start_time": "2021-12-29T14:48:39.272Z"
   },
   {
    "duration": 567,
    "start_time": "2021-12-29T14:48:39.280Z"
   },
   {
    "duration": 12,
    "start_time": "2021-12-29T14:48:39.849Z"
   },
   {
    "duration": 578,
    "start_time": "2021-12-29T14:48:39.864Z"
   },
   {
    "duration": 7,
    "start_time": "2021-12-29T14:48:40.444Z"
   },
   {
    "duration": 578,
    "start_time": "2021-12-29T14:48:40.461Z"
   },
   {
    "duration": 523,
    "start_time": "2021-12-29T14:48:41.041Z"
   },
   {
    "duration": 261,
    "start_time": "2021-12-29T14:48:41.566Z"
   },
   {
    "duration": 244,
    "start_time": "2021-12-29T14:48:41.829Z"
   },
   {
    "duration": 228,
    "start_time": "2021-12-29T14:48:42.075Z"
   },
   {
    "duration": 314,
    "start_time": "2021-12-29T14:48:42.305Z"
   },
   {
    "duration": 13,
    "start_time": "2021-12-29T14:48:42.621Z"
   },
   {
    "duration": 17,
    "start_time": "2021-12-29T14:48:42.636Z"
   },
   {
    "duration": 214,
    "start_time": "2021-12-29T14:48:42.654Z"
   },
   {
    "duration": 9,
    "start_time": "2021-12-29T14:48:42.870Z"
   },
   {
    "duration": 26,
    "start_time": "2021-12-29T14:48:42.881Z"
   },
   {
    "duration": 1268,
    "start_time": "2021-12-29T14:48:42.909Z"
   },
   {
    "duration": 10,
    "start_time": "2021-12-29T14:48:44.178Z"
   },
   {
    "duration": 1799,
    "start_time": "2021-12-29T14:48:44.189Z"
   },
   {
    "duration": 201,
    "start_time": "2021-12-29T14:48:45.990Z"
   },
   {
    "duration": 173,
    "start_time": "2021-12-29T14:48:46.193Z"
   },
   {
    "duration": 330,
    "start_time": "2021-12-29T14:48:46.368Z"
   },
   {
    "duration": 284,
    "start_time": "2021-12-29T14:48:46.700Z"
   },
   {
    "duration": 208,
    "start_time": "2021-12-29T14:48:46.986Z"
   },
   {
    "duration": 205,
    "start_time": "2021-12-29T14:48:47.195Z"
   },
   {
    "duration": 90,
    "start_time": "2021-12-29T14:50:14.256Z"
   },
   {
    "duration": 1075,
    "start_time": "2022-01-10T06:41:13.568Z"
   },
   {
    "duration": 82,
    "start_time": "2022-01-10T06:41:14.646Z"
   },
   {
    "duration": 36,
    "start_time": "2022-01-10T06:41:14.732Z"
   },
   {
    "duration": 124,
    "start_time": "2022-01-10T06:41:14.771Z"
   },
   {
    "duration": 13,
    "start_time": "2022-01-10T06:41:14.897Z"
   },
   {
    "duration": 10,
    "start_time": "2022-01-10T06:41:14.912Z"
   },
   {
    "duration": 11,
    "start_time": "2022-01-10T06:41:14.924Z"
   },
   {
    "duration": 34,
    "start_time": "2022-01-10T06:41:14.939Z"
   },
   {
    "duration": 6,
    "start_time": "2022-01-10T06:41:14.976Z"
   },
   {
    "duration": 8,
    "start_time": "2022-01-10T06:41:14.985Z"
   },
   {
    "duration": 6,
    "start_time": "2022-01-10T06:41:14.995Z"
   },
   {
    "duration": 18,
    "start_time": "2022-01-10T06:41:15.004Z"
   },
   {
    "duration": 49,
    "start_time": "2022-01-10T06:41:15.024Z"
   },
   {
    "duration": 6,
    "start_time": "2022-01-10T06:41:15.076Z"
   },
   {
    "duration": 10,
    "start_time": "2022-01-10T06:41:15.084Z"
   },
   {
    "duration": 11,
    "start_time": "2022-01-10T06:41:15.096Z"
   },
   {
    "duration": 12,
    "start_time": "2022-01-10T06:41:15.109Z"
   },
   {
    "duration": 6,
    "start_time": "2022-01-10T06:41:15.124Z"
   },
   {
    "duration": 41,
    "start_time": "2022-01-10T06:41:15.132Z"
   },
   {
    "duration": 114,
    "start_time": "2022-01-10T06:41:15.176Z"
   },
   {
    "duration": 6,
    "start_time": "2022-01-10T06:41:15.293Z"
   },
   {
    "duration": 16,
    "start_time": "2022-01-10T06:41:15.301Z"
   },
   {
    "duration": 5,
    "start_time": "2022-01-10T06:41:15.324Z"
   },
   {
    "duration": 43,
    "start_time": "2022-01-10T06:41:15.333Z"
   },
   {
    "duration": 11,
    "start_time": "2022-01-10T06:41:15.378Z"
   },
   {
    "duration": 293,
    "start_time": "2022-01-10T06:41:15.392Z"
   },
   {
    "duration": 13,
    "start_time": "2022-01-10T06:41:15.687Z"
   },
   {
    "duration": 2472,
    "start_time": "2022-01-10T06:41:15.703Z"
   },
   {
    "duration": 11,
    "start_time": "2022-01-10T06:41:18.178Z"
   },
   {
    "duration": 13,
    "start_time": "2022-01-10T06:41:18.192Z"
   },
   {
    "duration": 2451,
    "start_time": "2022-01-10T06:41:18.207Z"
   },
   {
    "duration": 14,
    "start_time": "2022-01-10T06:41:20.661Z"
   },
   {
    "duration": 2526,
    "start_time": "2022-01-10T06:41:20.678Z"
   },
   {
    "duration": 10,
    "start_time": "2022-01-10T06:41:23.207Z"
   },
   {
    "duration": 7,
    "start_time": "2022-01-10T06:41:23.220Z"
   },
   {
    "duration": 2448,
    "start_time": "2022-01-10T06:41:23.230Z"
   },
   {
    "duration": 8,
    "start_time": "2022-01-10T06:41:25.680Z"
   },
   {
    "duration": 2527,
    "start_time": "2022-01-10T06:41:25.690Z"
   },
   {
    "duration": 7,
    "start_time": "2022-01-10T06:41:28.219Z"
   },
   {
    "duration": 7,
    "start_time": "2022-01-10T06:41:28.229Z"
   },
   {
    "duration": 6,
    "start_time": "2022-01-10T06:41:28.267Z"
   },
   {
    "duration": 2572,
    "start_time": "2022-01-10T06:41:28.275Z"
   },
   {
    "duration": 22,
    "start_time": "2022-01-10T06:41:30.849Z"
   },
   {
    "duration": 49,
    "start_time": "2022-01-10T06:41:30.874Z"
   },
   {
    "duration": 14,
    "start_time": "2022-01-10T06:41:30.925Z"
   },
   {
    "duration": 10,
    "start_time": "2022-01-10T06:41:30.967Z"
   },
   {
    "duration": 25,
    "start_time": "2022-01-10T06:41:30.979Z"
   },
   {
    "duration": 974,
    "start_time": "2022-01-10T06:41:31.007Z"
   },
   {
    "duration": 6,
    "start_time": "2022-01-10T06:41:31.983Z"
   },
   {
    "duration": 8,
    "start_time": "2022-01-10T06:41:31.991Z"
   },
   {
    "duration": 67,
    "start_time": "2022-01-10T06:41:32.001Z"
   },
   {
    "duration": 599,
    "start_time": "2022-01-10T06:41:32.070Z"
   },
   {
    "duration": 12,
    "start_time": "2022-01-10T06:41:32.672Z"
   },
   {
    "duration": 231,
    "start_time": "2022-01-10T06:41:32.686Z"
   },
   {
    "duration": 12,
    "start_time": "2022-01-10T06:41:32.919Z"
   },
   {
    "duration": 224,
    "start_time": "2022-01-10T06:41:32.933Z"
   },
   {
    "duration": 556,
    "start_time": "2022-01-10T06:41:33.159Z"
   },
   {
    "duration": 608,
    "start_time": "2022-01-10T06:41:33.718Z"
   },
   {
    "duration": 242,
    "start_time": "2022-01-10T06:41:34.328Z"
   },
   {
    "duration": 14,
    "start_time": "2022-01-10T06:41:34.573Z"
   },
   {
    "duration": 22,
    "start_time": "2022-01-10T06:41:34.590Z"
   },
   {
    "duration": 263,
    "start_time": "2022-01-10T06:41:34.614Z"
   },
   {
    "duration": 399,
    "start_time": "2022-01-10T06:41:34.879Z"
   },
   {
    "duration": 305,
    "start_time": "2022-01-10T06:41:35.280Z"
   },
   {
    "duration": 10,
    "start_time": "2022-01-10T06:41:35.588Z"
   },
   {
    "duration": 13,
    "start_time": "2022-01-10T06:41:35.600Z"
   },
   {
    "duration": 239,
    "start_time": "2022-01-10T06:41:35.615Z"
   },
   {
    "duration": 376,
    "start_time": "2022-01-10T06:41:35.863Z"
   },
   {
    "duration": 25,
    "start_time": "2022-01-10T06:41:36.243Z"
   },
   {
    "duration": 6,
    "start_time": "2022-01-10T06:41:36.271Z"
   },
   {
    "duration": 8,
    "start_time": "2022-01-10T06:41:36.279Z"
   },
   {
    "duration": 629,
    "start_time": "2022-01-10T06:41:36.290Z"
   },
   {
    "duration": 272,
    "start_time": "2022-01-10T06:41:36.921Z"
   },
   {
    "duration": 12,
    "start_time": "2022-01-10T06:41:37.196Z"
   },
   {
    "duration": 666,
    "start_time": "2022-01-10T06:41:37.211Z"
   },
   {
    "duration": 12,
    "start_time": "2022-01-10T06:41:37.880Z"
   },
   {
    "duration": 12,
    "start_time": "2022-01-10T06:41:37.894Z"
   },
   {
    "duration": 7,
    "start_time": "2022-01-10T06:41:37.908Z"
   },
   {
    "duration": 800,
    "start_time": "2022-01-10T06:41:37.918Z"
   },
   {
    "duration": 9,
    "start_time": "2022-01-10T06:41:38.721Z"
   },
   {
    "duration": 779,
    "start_time": "2022-01-10T06:41:38.733Z"
   },
   {
    "duration": 8,
    "start_time": "2022-01-10T06:41:39.517Z"
   },
   {
    "duration": 754,
    "start_time": "2022-01-10T06:41:39.528Z"
   },
   {
    "duration": 854,
    "start_time": "2022-01-10T06:41:40.286Z"
   },
   {
    "duration": 361,
    "start_time": "2022-01-10T06:41:41.143Z"
   },
   {
    "duration": 360,
    "start_time": "2022-01-10T06:41:41.507Z"
   },
   {
    "duration": 397,
    "start_time": "2022-01-10T06:41:41.870Z"
   },
   {
    "duration": 339,
    "start_time": "2022-01-10T06:41:42.269Z"
   },
   {
    "duration": 19,
    "start_time": "2022-01-10T06:41:42.610Z"
   },
   {
    "duration": 5,
    "start_time": "2022-01-10T06:41:42.631Z"
   },
   {
    "duration": 355,
    "start_time": "2022-01-10T06:41:42.638Z"
   },
   {
    "duration": 15,
    "start_time": "2022-01-10T06:41:42.996Z"
   },
   {
    "duration": 15,
    "start_time": "2022-01-10T06:41:43.014Z"
   },
   {
    "duration": 1897,
    "start_time": "2022-01-10T06:41:43.033Z"
   },
   {
    "duration": 36,
    "start_time": "2022-01-10T06:41:44.933Z"
   },
   {
    "duration": 2941,
    "start_time": "2022-01-10T06:41:44.972Z"
   },
   {
    "duration": 357,
    "start_time": "2022-01-10T06:41:47.916Z"
   },
   {
    "duration": 308,
    "start_time": "2022-01-10T06:41:48.275Z"
   },
   {
    "duration": 466,
    "start_time": "2022-01-10T06:41:48.586Z"
   },
   {
    "duration": 344,
    "start_time": "2022-01-10T06:41:49.054Z"
   },
   {
    "duration": 347,
    "start_time": "2022-01-10T06:41:49.400Z"
   },
   {
    "duration": 354,
    "start_time": "2022-01-10T06:41:49.749Z"
   },
   {
    "duration": 25,
    "start_time": "2022-01-10T08:11:01.133Z"
   },
   {
    "duration": 25,
    "start_time": "2022-01-10T08:11:21.221Z"
   },
   {
    "duration": 22,
    "start_time": "2022-01-10T08:31:45.163Z"
   },
   {
    "duration": 23,
    "start_time": "2022-01-10T08:31:58.767Z"
   },
   {
    "duration": 28,
    "start_time": "2022-01-10T08:32:03.126Z"
   },
   {
    "duration": 4,
    "start_time": "2022-01-10T08:32:12.331Z"
   },
   {
    "duration": 60,
    "start_time": "2022-01-10T08:34:06.968Z"
   },
   {
    "duration": 420,
    "start_time": "2022-01-10T08:34:20.958Z"
   },
   {
    "duration": 47,
    "start_time": "2022-01-10T08:34:36.013Z"
   },
   {
    "duration": 51,
    "start_time": "2022-01-10T08:34:43.306Z"
   },
   {
    "duration": 11,
    "start_time": "2022-01-10T08:35:00.087Z"
   },
   {
    "duration": 223,
    "start_time": "2022-01-10T08:41:28.266Z"
   },
   {
    "duration": 27,
    "start_time": "2022-01-10T08:41:43.002Z"
   },
   {
    "duration": 135,
    "start_time": "2022-01-10T08:45:23.185Z"
   },
   {
    "duration": 20,
    "start_time": "2022-01-10T08:45:37.563Z"
   },
   {
    "duration": 196,
    "start_time": "2022-01-10T08:49:50.679Z"
   },
   {
    "duration": 24,
    "start_time": "2022-01-10T08:50:00.914Z"
   },
   {
    "duration": 197,
    "start_time": "2022-01-10T08:50:08.586Z"
   },
   {
    "duration": 620,
    "start_time": "2022-01-10T09:06:57.893Z"
   },
   {
    "duration": 26,
    "start_time": "2022-01-10T09:06:58.516Z"
   },
   {
    "duration": 40,
    "start_time": "2022-01-10T09:06:59.326Z"
   },
   {
    "duration": 9,
    "start_time": "2022-01-10T09:06:59.368Z"
   },
   {
    "duration": 236,
    "start_time": "2022-01-10T09:07:00.187Z"
   },
   {
    "duration": 27,
    "start_time": "2022-01-10T09:07:00.426Z"
   },
   {
    "duration": 132,
    "start_time": "2022-01-10T09:07:01.044Z"
   },
   {
    "duration": 21,
    "start_time": "2022-01-10T09:07:01.180Z"
   },
   {
    "duration": 198,
    "start_time": "2022-01-10T09:07:01.615Z"
   },
   {
    "duration": 27,
    "start_time": "2022-01-10T09:07:01.817Z"
   },
   {
    "duration": 226,
    "start_time": "2022-01-10T09:15:34.342Z"
   },
   {
    "duration": 349,
    "start_time": "2022-01-10T09:17:50.039Z"
   },
   {
    "duration": 18,
    "start_time": "2022-01-10T09:18:38.414Z"
   },
   {
    "duration": 9,
    "start_time": "2022-01-10T09:29:53.597Z"
   },
   {
    "duration": 11,
    "start_time": "2022-01-10T09:34:23.814Z"
   },
   {
    "duration": 10,
    "start_time": "2022-01-10T09:35:58.805Z"
   },
   {
    "duration": 7,
    "start_time": "2022-01-10T09:36:45.957Z"
   },
   {
    "duration": 13,
    "start_time": "2022-01-10T09:37:01.421Z"
   },
   {
    "duration": 9,
    "start_time": "2022-01-10T09:37:25.518Z"
   },
   {
    "duration": 309,
    "start_time": "2022-01-10T09:38:46.650Z"
   },
   {
    "duration": 9,
    "start_time": "2022-01-10T09:39:29.962Z"
   },
   {
    "duration": 7,
    "start_time": "2022-01-10T09:41:09.238Z"
   },
   {
    "duration": 9,
    "start_time": "2022-01-10T09:41:22.587Z"
   },
   {
    "duration": 6,
    "start_time": "2022-01-10T09:41:23.295Z"
   },
   {
    "duration": 10,
    "start_time": "2022-01-10T09:41:27.039Z"
   },
   {
    "duration": 9,
    "start_time": "2022-01-10T09:43:04.750Z"
   },
   {
    "duration": 9,
    "start_time": "2022-01-10T09:45:30.640Z"
   },
   {
    "duration": 357,
    "start_time": "2022-01-10T10:09:35.543Z"
   },
   {
    "duration": 42,
    "start_time": "2022-01-10T10:09:40.567Z"
   },
   {
    "duration": 316,
    "start_time": "2022-01-10T10:09:44.196Z"
   },
   {
    "duration": 341,
    "start_time": "2022-01-10T10:10:11.455Z"
   },
   {
    "duration": 8,
    "start_time": "2022-01-10T10:10:49.888Z"
   },
   {
    "duration": 122,
    "start_time": "2022-01-10T10:10:52.976Z"
   },
   {
    "duration": 153,
    "start_time": "2022-01-10T10:10:57.094Z"
   },
   {
    "duration": 20,
    "start_time": "2022-01-10T10:11:09.657Z"
   },
   {
    "duration": 7,
    "start_time": "2022-01-10T10:11:26.392Z"
   },
   {
    "duration": 157,
    "start_time": "2022-01-10T10:11:32.793Z"
   },
   {
    "duration": 5,
    "start_time": "2022-01-10T10:11:36.015Z"
   },
   {
    "duration": 35,
    "start_time": "2022-01-10T10:11:36.023Z"
   },
   {
    "duration": 52,
    "start_time": "2022-01-10T10:11:36.063Z"
   },
   {
    "duration": 15,
    "start_time": "2022-01-10T10:11:36.119Z"
   },
   {
    "duration": 218,
    "start_time": "2022-01-10T10:11:36.137Z"
   },
   {
    "duration": 31,
    "start_time": "2022-01-10T10:11:36.357Z"
   },
   {
    "duration": 141,
    "start_time": "2022-01-10T10:11:36.391Z"
   },
   {
    "duration": 35,
    "start_time": "2022-01-10T10:11:36.536Z"
   },
   {
    "duration": 185,
    "start_time": "2022-01-10T10:11:36.574Z"
   },
   {
    "duration": 25,
    "start_time": "2022-01-10T10:11:36.762Z"
   },
   {
    "duration": 20,
    "start_time": "2022-01-10T10:11:36.811Z"
   },
   {
    "duration": 10,
    "start_time": "2022-01-10T10:11:37.514Z"
   },
   {
    "duration": 11,
    "start_time": "2022-01-10T10:11:37.527Z"
   },
   {
    "duration": 10,
    "start_time": "2022-01-10T10:11:37.541Z"
   },
   {
    "duration": 11,
    "start_time": "2022-01-10T10:11:37.554Z"
   },
   {
    "duration": 14,
    "start_time": "2022-01-10T10:11:37.568Z"
   },
   {
    "duration": 10,
    "start_time": "2022-01-10T10:11:37.586Z"
   },
   {
    "duration": 8,
    "start_time": "2022-01-10T10:11:37.599Z"
   },
   {
    "duration": 9,
    "start_time": "2022-01-10T10:11:37.611Z"
   },
   {
    "duration": 47,
    "start_time": "2022-01-10T10:11:37.623Z"
   },
   {
    "duration": 332,
    "start_time": "2022-01-10T10:11:37.920Z"
   },
   {
    "duration": 51,
    "start_time": "2022-01-10T10:11:38.255Z"
   },
   {
    "duration": 9,
    "start_time": "2022-01-10T10:11:38.310Z"
   },
   {
    "duration": 290,
    "start_time": "2022-01-10T10:11:38.321Z"
   },
   {
    "duration": 29,
    "start_time": "2022-01-10T10:11:38.614Z"
   },
   {
    "duration": 157,
    "start_time": "2022-01-10T10:12:36.608Z"
   },
   {
    "duration": 166,
    "start_time": "2022-01-10T10:12:58.121Z"
   },
   {
    "duration": 8,
    "start_time": "2022-01-10T10:12:58.613Z"
   },
   {
    "duration": 21,
    "start_time": "2022-01-10T10:13:04.565Z"
   },
   {
    "duration": 305,
    "start_time": "2022-01-10T10:18:18.075Z"
   },
   {
    "duration": 569,
    "start_time": "2022-01-10T10:20:02.099Z"
   },
   {
    "duration": 320,
    "start_time": "2022-01-10T10:20:08.395Z"
   },
   {
    "duration": 38,
    "start_time": "2022-01-10T10:20:14.715Z"
   },
   {
    "duration": 25,
    "start_time": "2022-01-10T10:20:17.403Z"
   },
   {
    "duration": 323,
    "start_time": "2022-01-10T10:20:23.291Z"
   },
   {
    "duration": 46,
    "start_time": "2022-01-10T10:20:34.851Z"
   },
   {
    "duration": 9,
    "start_time": "2022-01-10T10:21:12.674Z"
   },
   {
    "duration": 48,
    "start_time": "2022-01-10T10:21:30.696Z"
   },
   {
    "duration": 188,
    "start_time": "2022-01-10T10:45:29.275Z"
   },
   {
    "duration": 7163,
    "start_time": "2022-01-10T10:48:14.557Z"
   },
   {
    "duration": 46,
    "start_time": "2022-01-10T10:48:52.462Z"
   },
   {
    "duration": 19,
    "start_time": "2022-01-10T10:49:05.055Z"
   },
   {
    "duration": 233,
    "start_time": "2022-01-10T10:55:11.941Z"
   },
   {
    "duration": 77,
    "start_time": "2022-01-10T10:56:55.957Z"
   },
   {
    "duration": 19,
    "start_time": "2022-01-10T10:58:24.940Z"
   },
   {
    "duration": 159,
    "start_time": "2022-01-10T11:01:22.576Z"
   },
   {
    "duration": 30,
    "start_time": "2022-01-10T11:02:29.217Z"
   },
   {
    "duration": 15,
    "start_time": "2022-01-10T11:02:34.048Z"
   },
   {
    "duration": 20,
    "start_time": "2022-01-10T11:02:38.721Z"
   },
   {
    "duration": 10,
    "start_time": "2022-01-10T11:07:21.939Z"
   },
   {
    "duration": 7516,
    "start_time": "2022-01-10T11:07:31.354Z"
   },
   {
    "duration": 1360,
    "start_time": "2022-01-10T11:07:37.512Z"
   },
   {
    "duration": 4,
    "start_time": "2022-01-10T11:08:05.225Z"
   },
   {
    "duration": 36,
    "start_time": "2022-01-10T11:08:05.232Z"
   },
   {
    "duration": 63,
    "start_time": "2022-01-10T11:08:05.271Z"
   },
   {
    "duration": 9,
    "start_time": "2022-01-10T11:08:05.337Z"
   },
   {
    "duration": 236,
    "start_time": "2022-01-10T11:08:05.348Z"
   },
   {
    "duration": 27,
    "start_time": "2022-01-10T11:08:05.586Z"
   },
   {
    "duration": 142,
    "start_time": "2022-01-10T11:08:05.616Z"
   },
   {
    "duration": 19,
    "start_time": "2022-01-10T11:08:05.766Z"
   },
   {
    "duration": 211,
    "start_time": "2022-01-10T11:08:05.789Z"
   },
   {
    "duration": 23,
    "start_time": "2022-01-10T11:08:06.003Z"
   },
   {
    "duration": 42,
    "start_time": "2022-01-10T11:08:06.029Z"
   },
   {
    "duration": 26,
    "start_time": "2022-01-10T11:08:06.074Z"
   },
   {
    "duration": 14,
    "start_time": "2022-01-10T11:08:06.103Z"
   },
   {
    "duration": 25,
    "start_time": "2022-01-10T11:08:06.119Z"
   },
   {
    "duration": 21,
    "start_time": "2022-01-10T11:08:06.147Z"
   },
   {
    "duration": 12,
    "start_time": "2022-01-10T11:08:06.170Z"
   },
   {
    "duration": 16,
    "start_time": "2022-01-10T11:08:06.184Z"
   },
   {
    "duration": 9,
    "start_time": "2022-01-10T11:08:06.202Z"
   },
   {
    "duration": 13,
    "start_time": "2022-01-10T11:08:06.213Z"
   },
   {
    "duration": 41,
    "start_time": "2022-01-10T11:08:06.228Z"
   },
   {
    "duration": 361,
    "start_time": "2022-01-10T11:08:06.272Z"
   },
   {
    "duration": 32,
    "start_time": "2022-01-10T11:08:06.635Z"
   },
   {
    "duration": 8,
    "start_time": "2022-01-10T11:08:06.672Z"
   },
   {
    "duration": 91,
    "start_time": "2022-01-10T11:08:06.683Z"
   },
   {
    "duration": 25,
    "start_time": "2022-01-10T11:08:06.777Z"
   },
   {
    "duration": 181,
    "start_time": "2022-01-10T11:08:06.804Z"
   },
   {
    "duration": 44,
    "start_time": "2022-01-10T11:08:06.987Z"
   },
   {
    "duration": 37,
    "start_time": "2022-01-10T11:08:07.033Z"
   },
   {
    "duration": 218,
    "start_time": "2022-01-10T11:08:07.073Z"
   },
   {
    "duration": 54,
    "start_time": "2022-01-10T11:08:07.294Z"
   },
   {
    "duration": 20,
    "start_time": "2022-01-10T11:08:07.366Z"
   },
   {
    "duration": 8,
    "start_time": "2022-01-10T11:08:07.388Z"
   },
   {
    "duration": 17,
    "start_time": "2022-01-10T11:08:07.399Z"
   },
   {
    "duration": 15,
    "start_time": "2022-01-10T11:08:07.418Z"
   },
   {
    "duration": 1405,
    "start_time": "2022-01-10T11:12:27.402Z"
   },
   {
    "duration": 13,
    "start_time": "2022-01-10T11:12:30.931Z"
   },
   {
    "duration": 5,
    "start_time": "2022-01-10T11:12:37.329Z"
   },
   {
    "duration": 29,
    "start_time": "2022-01-10T11:12:37.337Z"
   },
   {
    "duration": 49,
    "start_time": "2022-01-10T11:12:37.369Z"
   },
   {
    "duration": 9,
    "start_time": "2022-01-10T11:12:37.421Z"
   },
   {
    "duration": 235,
    "start_time": "2022-01-10T11:12:37.432Z"
   },
   {
    "duration": 28,
    "start_time": "2022-01-10T11:12:37.671Z"
   },
   {
    "duration": 147,
    "start_time": "2022-01-10T11:12:37.703Z"
   },
   {
    "duration": 24,
    "start_time": "2022-01-10T11:12:37.853Z"
   },
   {
    "duration": 205,
    "start_time": "2022-01-10T11:12:37.880Z"
   },
   {
    "duration": 24,
    "start_time": "2022-01-10T11:12:38.088Z"
   },
   {
    "duration": 21,
    "start_time": "2022-01-10T11:12:38.114Z"
   },
   {
    "duration": 38,
    "start_time": "2022-01-10T11:12:38.137Z"
   },
   {
    "duration": 14,
    "start_time": "2022-01-10T11:12:38.178Z"
   },
   {
    "duration": 13,
    "start_time": "2022-01-10T11:12:38.196Z"
   },
   {
    "duration": 9,
    "start_time": "2022-01-10T11:12:38.211Z"
   },
   {
    "duration": 52,
    "start_time": "2022-01-10T11:12:38.223Z"
   },
   {
    "duration": 10,
    "start_time": "2022-01-10T11:12:38.278Z"
   },
   {
    "duration": 11,
    "start_time": "2022-01-10T11:12:38.290Z"
   },
   {
    "duration": 10,
    "start_time": "2022-01-10T11:12:38.305Z"
   },
   {
    "duration": 53,
    "start_time": "2022-01-10T11:12:38.318Z"
   },
   {
    "duration": 324,
    "start_time": "2022-01-10T11:12:38.374Z"
   },
   {
    "duration": 20,
    "start_time": "2022-01-10T11:12:38.701Z"
   },
   {
    "duration": 7,
    "start_time": "2022-01-10T11:12:38.724Z"
   },
   {
    "duration": 98,
    "start_time": "2022-01-10T11:12:38.734Z"
   },
   {
    "duration": 37,
    "start_time": "2022-01-10T11:12:38.834Z"
   },
   {
    "duration": 159,
    "start_time": "2022-01-10T11:12:38.873Z"
   },
   {
    "duration": 56,
    "start_time": "2022-01-10T11:12:39.034Z"
   },
   {
    "duration": 16,
    "start_time": "2022-01-10T11:12:39.093Z"
   },
   {
    "duration": 183,
    "start_time": "2022-01-10T11:12:39.111Z"
   },
   {
    "duration": 52,
    "start_time": "2022-01-10T11:12:39.296Z"
   },
   {
    "duration": 30,
    "start_time": "2022-01-10T11:12:39.351Z"
   },
   {
    "duration": 318,
    "start_time": "2022-01-10T11:12:39.383Z"
   },
   {
    "duration": 1385,
    "start_time": "2022-01-10T11:12:38.318Z"
   },
   {
    "duration": 298,
    "start_time": "2022-01-10T11:13:33.485Z"
   },
   {
    "duration": 6,
    "start_time": "2022-01-10T11:13:39.263Z"
   },
   {
    "duration": 14,
    "start_time": "2022-01-10T11:13:41.496Z"
   },
   {
    "duration": 43,
    "start_time": "2022-01-10T12:20:11.223Z"
   },
   {
    "duration": 41,
    "start_time": "2022-01-10T12:20:14.432Z"
   },
   {
    "duration": 12,
    "start_time": "2022-01-10T12:20:38.016Z"
   },
   {
    "duration": 290,
    "start_time": "2022-01-10T12:21:17.815Z"
   },
   {
    "duration": 371,
    "start_time": "2022-01-10T12:21:50.926Z"
   },
   {
    "duration": 5,
    "start_time": "2022-01-10T12:21:54.717Z"
   },
   {
    "duration": 36,
    "start_time": "2022-01-10T12:21:54.726Z"
   },
   {
    "duration": 50,
    "start_time": "2022-01-10T12:21:54.765Z"
   },
   {
    "duration": 10,
    "start_time": "2022-01-10T12:21:54.818Z"
   },
   {
    "duration": 238,
    "start_time": "2022-01-10T12:21:54.831Z"
   },
   {
    "duration": 32,
    "start_time": "2022-01-10T12:21:55.072Z"
   },
   {
    "duration": 148,
    "start_time": "2022-01-10T12:21:55.108Z"
   },
   {
    "duration": 26,
    "start_time": "2022-01-10T12:21:55.259Z"
   },
   {
    "duration": 207,
    "start_time": "2022-01-10T12:21:55.288Z"
   },
   {
    "duration": 25,
    "start_time": "2022-01-10T12:21:55.498Z"
   },
   {
    "duration": 44,
    "start_time": "2022-01-10T12:21:55.525Z"
   },
   {
    "duration": 10,
    "start_time": "2022-01-10T12:21:55.572Z"
   },
   {
    "duration": 12,
    "start_time": "2022-01-10T12:21:55.585Z"
   },
   {
    "duration": 16,
    "start_time": "2022-01-10T12:21:55.599Z"
   },
   {
    "duration": 51,
    "start_time": "2022-01-10T12:21:55.618Z"
   },
   {
    "duration": 13,
    "start_time": "2022-01-10T12:21:55.672Z"
   },
   {
    "duration": 18,
    "start_time": "2022-01-10T12:21:55.688Z"
   },
   {
    "duration": 8,
    "start_time": "2022-01-10T12:21:55.708Z"
   },
   {
    "duration": 9,
    "start_time": "2022-01-10T12:21:55.721Z"
   },
   {
    "duration": 41,
    "start_time": "2022-01-10T12:21:55.734Z"
   },
   {
    "duration": 346,
    "start_time": "2022-01-10T12:21:55.778Z"
   },
   {
    "duration": 21,
    "start_time": "2022-01-10T12:21:56.127Z"
   },
   {
    "duration": 7,
    "start_time": "2022-01-10T12:21:56.167Z"
   },
   {
    "duration": 74,
    "start_time": "2022-01-10T12:21:56.177Z"
   },
   {
    "duration": 25,
    "start_time": "2022-01-10T12:21:56.268Z"
   },
   {
    "duration": 159,
    "start_time": "2022-01-10T12:21:56.296Z"
   },
   {
    "duration": 46,
    "start_time": "2022-01-10T12:21:56.467Z"
   },
   {
    "duration": 18,
    "start_time": "2022-01-10T12:21:56.516Z"
   },
   {
    "duration": 205,
    "start_time": "2022-01-10T12:21:56.537Z"
   },
   {
    "duration": 69,
    "start_time": "2022-01-10T12:21:56.745Z"
   },
   {
    "duration": 17,
    "start_time": "2022-01-10T12:21:56.816Z"
   },
   {
    "duration": 6,
    "start_time": "2022-01-10T12:21:56.836Z"
   },
   {
    "duration": 34,
    "start_time": "2022-01-10T12:21:56.844Z"
   },
   {
    "duration": 49,
    "start_time": "2022-01-10T12:21:56.880Z"
   },
   {
    "duration": 38,
    "start_time": "2022-01-10T12:21:56.931Z"
   },
   {
    "duration": 23,
    "start_time": "2022-01-10T12:21:56.973Z"
   },
   {
    "duration": 12,
    "start_time": "2022-01-10T12:21:56.998Z"
   },
   {
    "duration": 72,
    "start_time": "2022-01-10T12:21:57.012Z"
   },
   {
    "duration": 11,
    "start_time": "2022-01-10T12:21:57.086Z"
   },
   {
    "duration": 12,
    "start_time": "2022-01-10T12:22:07.073Z"
   },
   {
    "duration": 102,
    "start_time": "2022-01-10T12:30:26.869Z"
   },
   {
    "duration": 213,
    "start_time": "2022-01-11T08:18:58.692Z"
   },
   {
    "duration": 1113,
    "start_time": "2022-01-11T08:19:25.197Z"
   },
   {
    "duration": 24,
    "start_time": "2022-01-11T08:19:26.312Z"
   },
   {
    "duration": 42,
    "start_time": "2022-01-11T08:19:26.337Z"
   },
   {
    "duration": 8,
    "start_time": "2022-01-11T08:19:26.381Z"
   },
   {
    "duration": 156,
    "start_time": "2022-01-11T08:19:26.390Z"
   },
   {
    "duration": 19,
    "start_time": "2022-01-11T08:19:26.548Z"
   },
   {
    "duration": 113,
    "start_time": "2022-01-11T08:19:26.569Z"
   },
   {
    "duration": 20,
    "start_time": "2022-01-11T08:19:26.685Z"
   },
   {
    "duration": 162,
    "start_time": "2022-01-11T08:19:26.707Z"
   },
   {
    "duration": 20,
    "start_time": "2022-01-11T08:19:26.871Z"
   },
   {
    "duration": 13,
    "start_time": "2022-01-11T08:19:26.893Z"
   },
   {
    "duration": 5,
    "start_time": "2022-01-11T08:19:26.908Z"
   },
   {
    "duration": 9,
    "start_time": "2022-01-11T08:19:26.915Z"
   },
   {
    "duration": 8,
    "start_time": "2022-01-11T08:19:26.926Z"
   },
   {
    "duration": 8,
    "start_time": "2022-01-11T08:19:26.935Z"
   },
   {
    "duration": 13,
    "start_time": "2022-01-11T08:19:26.944Z"
   },
   {
    "duration": 35,
    "start_time": "2022-01-11T08:19:26.959Z"
   },
   {
    "duration": 5,
    "start_time": "2022-01-11T08:19:26.996Z"
   },
   {
    "duration": 9,
    "start_time": "2022-01-11T08:19:27.002Z"
   },
   {
    "duration": 9,
    "start_time": "2022-01-11T08:19:27.012Z"
   },
   {
    "duration": 282,
    "start_time": "2022-01-11T08:19:27.023Z"
   },
   {
    "duration": 17,
    "start_time": "2022-01-11T08:19:27.306Z"
   },
   {
    "duration": 6,
    "start_time": "2022-01-11T08:19:27.325Z"
   },
   {
    "duration": 68,
    "start_time": "2022-01-11T08:19:27.333Z"
   },
   {
    "duration": 19,
    "start_time": "2022-01-11T08:19:27.403Z"
   },
   {
    "duration": 112,
    "start_time": "2022-01-11T08:19:27.424Z"
   },
   {
    "duration": 30,
    "start_time": "2022-01-11T08:19:27.538Z"
   },
   {
    "duration": 24,
    "start_time": "2022-01-11T08:19:27.570Z"
   },
   {
    "duration": 133,
    "start_time": "2022-01-11T08:19:27.596Z"
   },
   {
    "duration": 38,
    "start_time": "2022-01-11T08:19:27.731Z"
   },
   {
    "duration": 27,
    "start_time": "2022-01-11T08:19:27.771Z"
   },
   {
    "duration": 13,
    "start_time": "2022-01-11T08:19:27.800Z"
   },
   {
    "duration": 5,
    "start_time": "2022-01-11T08:19:27.815Z"
   },
   {
    "duration": 14,
    "start_time": "2022-01-11T08:19:27.821Z"
   },
   {
    "duration": 37,
    "start_time": "2022-01-11T08:19:27.837Z"
   },
   {
    "duration": 8,
    "start_time": "2022-01-11T08:19:27.891Z"
   },
   {
    "duration": 18,
    "start_time": "2022-01-11T08:19:27.900Z"
   },
   {
    "duration": 7,
    "start_time": "2022-01-11T08:19:27.919Z"
   },
   {
    "duration": 20,
    "start_time": "2022-01-11T08:19:27.928Z"
   },
   {
    "duration": 8,
    "start_time": "2022-01-11T08:19:27.950Z"
   },
   {
    "duration": 8,
    "start_time": "2022-01-11T08:25:23.402Z"
   },
   {
    "duration": 10,
    "start_time": "2022-01-11T08:26:27.423Z"
   },
   {
    "duration": 9,
    "start_time": "2022-01-11T08:27:33.376Z"
   },
   {
    "duration": 383,
    "start_time": "2022-01-11T08:30:34.581Z"
   },
   {
    "duration": 248,
    "start_time": "2022-01-11T08:46:21.582Z"
   },
   {
    "duration": 31,
    "start_time": "2022-01-11T08:47:41.615Z"
   },
   {
    "duration": 6,
    "start_time": "2022-01-11T08:49:16.951Z"
   },
   {
    "duration": 15,
    "start_time": "2022-01-11T08:49:53.161Z"
   },
   {
    "duration": 11,
    "start_time": "2022-01-11T08:51:09.882Z"
   },
   {
    "duration": 11,
    "start_time": "2022-01-11T08:51:14.327Z"
   },
   {
    "duration": 11,
    "start_time": "2022-01-11T08:51:23.476Z"
   },
   {
    "duration": 11,
    "start_time": "2022-01-11T08:51:26.571Z"
   },
   {
    "duration": 16,
    "start_time": "2022-01-11T08:55:46.864Z"
   },
   {
    "duration": 14,
    "start_time": "2022-01-11T08:56:21.463Z"
   },
   {
    "duration": 5,
    "start_time": "2022-01-11T09:03:14.684Z"
   },
   {
    "duration": 20,
    "start_time": "2022-01-11T09:03:21.377Z"
   },
   {
    "duration": 315,
    "start_time": "2022-01-11T09:45:21.052Z"
   },
   {
    "duration": 310,
    "start_time": "2022-01-11T09:46:19.827Z"
   },
   {
    "duration": 307,
    "start_time": "2022-01-11T09:49:18.581Z"
   },
   {
    "duration": 12,
    "start_time": "2022-01-11T09:50:29.340Z"
   },
   {
    "duration": 140,
    "start_time": "2022-01-11T09:55:17.876Z"
   },
   {
    "duration": 130,
    "start_time": "2022-01-11T09:55:41.632Z"
   },
   {
    "duration": 66,
    "start_time": "2022-01-11T09:59:16.914Z"
   },
   {
    "duration": 59,
    "start_time": "2022-01-11T10:06:51.102Z"
   },
   {
    "duration": 4,
    "start_time": "2022-01-11T10:10:20.217Z"
   },
   {
    "duration": 27,
    "start_time": "2022-01-11T10:10:20.222Z"
   },
   {
    "duration": 34,
    "start_time": "2022-01-11T10:10:20.251Z"
   },
   {
    "duration": 7,
    "start_time": "2022-01-11T10:10:20.287Z"
   },
   {
    "duration": 177,
    "start_time": "2022-01-11T10:10:20.296Z"
   },
   {
    "duration": 24,
    "start_time": "2022-01-11T10:10:20.475Z"
   },
   {
    "duration": 99,
    "start_time": "2022-01-11T10:10:20.502Z"
   },
   {
    "duration": 15,
    "start_time": "2022-01-11T10:10:20.603Z"
   },
   {
    "duration": 157,
    "start_time": "2022-01-11T10:10:20.620Z"
   },
   {
    "duration": 23,
    "start_time": "2022-01-11T10:10:20.779Z"
   },
   {
    "duration": 30,
    "start_time": "2022-01-11T10:10:20.803Z"
   },
   {
    "duration": 33,
    "start_time": "2022-01-11T10:10:20.835Z"
   },
   {
    "duration": 23,
    "start_time": "2022-01-11T10:10:20.870Z"
   },
   {
    "duration": 36,
    "start_time": "2022-01-11T10:10:20.895Z"
   },
   {
    "duration": 22,
    "start_time": "2022-01-11T10:10:20.933Z"
   },
   {
    "duration": 19,
    "start_time": "2022-01-11T10:10:20.957Z"
   },
   {
    "duration": 11,
    "start_time": "2022-01-11T10:10:20.977Z"
   },
   {
    "duration": 11,
    "start_time": "2022-01-11T10:10:20.989Z"
   },
   {
    "duration": 8,
    "start_time": "2022-01-11T10:10:21.004Z"
   },
   {
    "duration": 8,
    "start_time": "2022-01-11T10:10:21.015Z"
   },
   {
    "duration": 286,
    "start_time": "2022-01-11T10:10:21.025Z"
   },
   {
    "duration": 7,
    "start_time": "2022-01-11T10:10:21.312Z"
   },
   {
    "duration": 16,
    "start_time": "2022-01-11T10:10:21.321Z"
   },
   {
    "duration": 6,
    "start_time": "2022-01-11T10:10:21.338Z"
   },
   {
    "duration": 82,
    "start_time": "2022-01-11T10:10:21.346Z"
   },
   {
    "duration": 18,
    "start_time": "2022-01-11T10:10:21.430Z"
   },
   {
    "duration": 117,
    "start_time": "2022-01-11T10:10:21.450Z"
   },
   {
    "duration": 6,
    "start_time": "2022-01-11T10:10:21.569Z"
   },
   {
    "duration": 30,
    "start_time": "2022-01-11T10:10:21.592Z"
   },
   {
    "duration": 13,
    "start_time": "2022-01-11T10:10:21.624Z"
   },
   {
    "duration": 154,
    "start_time": "2022-01-11T10:10:21.639Z"
   },
   {
    "duration": 8,
    "start_time": "2022-01-11T10:10:21.795Z"
   },
   {
    "duration": 401,
    "start_time": "2022-01-11T10:10:21.804Z"
   },
   {
    "duration": 37,
    "start_time": "2022-01-11T10:10:22.206Z"
   },
   {
    "duration": 13,
    "start_time": "2022-01-11T10:10:22.244Z"
   },
   {
    "duration": 40,
    "start_time": "2022-01-11T10:10:22.259Z"
   },
   {
    "duration": 5,
    "start_time": "2022-01-11T10:10:22.301Z"
   },
   {
    "duration": 10,
    "start_time": "2022-01-11T10:10:22.308Z"
   },
   {
    "duration": 36,
    "start_time": "2022-01-11T10:10:22.319Z"
   },
   {
    "duration": 10,
    "start_time": "2022-01-11T10:10:22.356Z"
   },
   {
    "duration": 41,
    "start_time": "2022-01-11T10:10:22.367Z"
   },
   {
    "duration": 8,
    "start_time": "2022-01-11T10:10:22.410Z"
   },
   {
    "duration": 24,
    "start_time": "2022-01-11T10:10:22.420Z"
   },
   {
    "duration": 8,
    "start_time": "2022-01-11T10:10:22.446Z"
   },
   {
    "duration": 65,
    "start_time": "2022-01-11T10:10:22.456Z"
   },
   {
    "duration": 8,
    "start_time": "2022-01-11T10:10:22.523Z"
   },
   {
    "duration": 15,
    "start_time": "2022-01-11T10:10:22.532Z"
   },
   {
    "duration": 13,
    "start_time": "2022-01-11T10:10:22.548Z"
   },
   {
    "duration": 13,
    "start_time": "2022-01-11T10:10:22.592Z"
   },
   {
    "duration": 14,
    "start_time": "2022-01-11T10:10:22.607Z"
   },
   {
    "duration": 11,
    "start_time": "2022-01-11T10:10:22.622Z"
   },
   {
    "duration": 6,
    "start_time": "2022-01-11T10:10:22.635Z"
   },
   {
    "duration": 14,
    "start_time": "2022-01-11T10:10:22.642Z"
   },
   {
    "duration": 176,
    "start_time": "2022-01-11T10:10:22.657Z"
   },
   {
    "duration": 192,
    "start_time": "2022-01-11T10:34:20.530Z"
   },
   {
    "duration": 34,
    "start_time": "2022-01-11T10:34:32.034Z"
   },
   {
    "duration": 5,
    "start_time": "2022-01-11T10:53:42.969Z"
   },
   {
    "duration": 511,
    "start_time": "2022-01-11T11:03:37.558Z"
   },
   {
    "duration": 4539,
    "start_time": "2022-01-11T11:03:57.237Z"
   },
   {
    "duration": 289,
    "start_time": "2022-01-11T11:04:13.157Z"
   },
   {
    "duration": 5,
    "start_time": "2022-01-11T11:13:45.641Z"
   },
   {
    "duration": 290,
    "start_time": "2022-01-11T11:13:48.149Z"
   },
   {
    "duration": 5,
    "start_time": "2022-01-11T11:18:26.745Z"
   },
   {
    "duration": 283,
    "start_time": "2022-01-11T11:18:30.069Z"
   },
   {
    "duration": 236,
    "start_time": "2022-01-11T11:19:28.466Z"
   },
   {
    "duration": 265,
    "start_time": "2022-01-11T11:19:46.371Z"
   },
   {
    "duration": 4,
    "start_time": "2022-01-11T11:21:48.300Z"
   },
   {
    "duration": 59,
    "start_time": "2022-01-11T11:23:05.155Z"
   },
   {
    "duration": 3,
    "start_time": "2022-01-11T11:23:11.300Z"
   },
   {
    "duration": 4,
    "start_time": "2022-01-11T11:23:16.515Z"
   },
   {
    "duration": 4,
    "start_time": "2022-01-11T11:25:12.708Z"
   },
   {
    "duration": 3,
    "start_time": "2022-01-11T11:25:14.973Z"
   },
   {
    "duration": 6,
    "start_time": "2022-01-11T11:25:28.199Z"
   },
   {
    "duration": 4,
    "start_time": "2022-01-11T11:26:03.316Z"
   },
   {
    "duration": 5,
    "start_time": "2022-01-11T11:26:06.196Z"
   },
   {
    "duration": 5,
    "start_time": "2022-01-11T11:26:31.601Z"
   },
   {
    "duration": 105,
    "start_time": "2022-01-11T11:34:17.859Z"
   },
   {
    "duration": 37,
    "start_time": "2022-01-11T11:35:21.233Z"
   },
   {
    "duration": 6,
    "start_time": "2022-01-11T11:35:39.613Z"
   },
   {
    "duration": 7,
    "start_time": "2022-01-11T11:38:08.024Z"
   },
   {
    "duration": 5,
    "start_time": "2022-01-11T11:38:10.680Z"
   },
   {
    "duration": 9,
    "start_time": "2022-01-11T11:38:17.497Z"
   },
   {
    "duration": 404,
    "start_time": "2022-01-11T11:50:48.933Z"
   },
   {
    "duration": 38,
    "start_time": "2022-01-11T11:51:03.286Z"
   },
   {
    "duration": 694,
    "start_time": "2022-01-11T11:51:41.061Z"
   },
   {
    "duration": 285,
    "start_time": "2022-01-11T11:53:24.629Z"
   },
   {
    "duration": 270,
    "start_time": "2022-01-11T11:53:34.757Z"
   },
   {
    "duration": 185,
    "start_time": "2022-01-11T11:54:37.255Z"
   },
   {
    "duration": 8,
    "start_time": "2022-01-11T11:54:48.840Z"
   },
   {
    "duration": 7,
    "start_time": "2022-01-11T11:56:12.164Z"
   },
   {
    "duration": 7,
    "start_time": "2022-01-11T11:56:36.349Z"
   },
   {
    "duration": 178,
    "start_time": "2022-01-11T12:47:40.517Z"
   },
   {
    "duration": 4,
    "start_time": "2022-01-11T12:51:01.963Z"
   },
   {
    "duration": 38,
    "start_time": "2022-01-11T12:51:01.970Z"
   },
   {
    "duration": 69,
    "start_time": "2022-01-11T12:51:02.010Z"
   },
   {
    "duration": 24,
    "start_time": "2022-01-11T12:51:02.081Z"
   },
   {
    "duration": 206,
    "start_time": "2022-01-11T12:51:02.107Z"
   },
   {
    "duration": 21,
    "start_time": "2022-01-11T12:51:02.315Z"
   },
   {
    "duration": 102,
    "start_time": "2022-01-11T12:51:02.338Z"
   },
   {
    "duration": 14,
    "start_time": "2022-01-11T12:51:02.442Z"
   },
   {
    "duration": 148,
    "start_time": "2022-01-11T12:51:02.458Z"
   },
   {
    "duration": 17,
    "start_time": "2022-01-11T12:51:02.608Z"
   },
   {
    "duration": 13,
    "start_time": "2022-01-11T12:51:02.627Z"
   },
   {
    "duration": 22,
    "start_time": "2022-01-11T12:51:02.642Z"
   },
   {
    "duration": 24,
    "start_time": "2022-01-11T12:51:02.666Z"
   },
   {
    "duration": 18,
    "start_time": "2022-01-11T12:51:02.692Z"
   },
   {
    "duration": 17,
    "start_time": "2022-01-11T12:51:02.712Z"
   },
   {
    "duration": 25,
    "start_time": "2022-01-11T12:51:02.731Z"
   },
   {
    "duration": 11,
    "start_time": "2022-01-11T12:51:02.758Z"
   },
   {
    "duration": 16,
    "start_time": "2022-01-11T12:51:02.770Z"
   },
   {
    "duration": 14,
    "start_time": "2022-01-11T12:51:02.789Z"
   },
   {
    "duration": 13,
    "start_time": "2022-01-11T12:51:02.805Z"
   },
   {
    "duration": 248,
    "start_time": "2022-01-11T12:51:02.819Z"
   },
   {
    "duration": 8,
    "start_time": "2022-01-11T12:51:03.069Z"
   },
   {
    "duration": 16,
    "start_time": "2022-01-11T12:51:03.092Z"
   },
   {
    "duration": 6,
    "start_time": "2022-01-11T12:51:03.112Z"
   },
   {
    "duration": 46,
    "start_time": "2022-01-11T12:51:03.120Z"
   },
   {
    "duration": 38,
    "start_time": "2022-01-11T12:51:03.168Z"
   },
   {
    "duration": 119,
    "start_time": "2022-01-11T12:51:03.208Z"
   },
   {
    "duration": 7,
    "start_time": "2022-01-11T12:51:03.329Z"
   },
   {
    "duration": 39,
    "start_time": "2022-01-11T12:51:03.337Z"
   },
   {
    "duration": 20,
    "start_time": "2022-01-11T12:51:03.377Z"
   },
   {
    "duration": 130,
    "start_time": "2022-01-11T12:51:03.399Z"
   },
   {
    "duration": 9,
    "start_time": "2022-01-11T12:51:03.530Z"
   },
   {
    "duration": 391,
    "start_time": "2022-01-11T12:51:03.541Z"
   },
   {
    "duration": 45,
    "start_time": "2022-01-11T12:51:03.934Z"
   },
   {
    "duration": 22,
    "start_time": "2022-01-11T12:51:03.980Z"
   },
   {
    "duration": 34,
    "start_time": "2022-01-11T12:51:04.004Z"
   },
   {
    "duration": 5,
    "start_time": "2022-01-11T12:51:04.040Z"
   },
   {
    "duration": 33,
    "start_time": "2022-01-11T12:51:04.047Z"
   },
   {
    "duration": 55,
    "start_time": "2022-01-11T12:51:04.082Z"
   },
   {
    "duration": 9,
    "start_time": "2022-01-11T12:51:04.139Z"
   },
   {
    "duration": 32,
    "start_time": "2022-01-11T12:51:04.149Z"
   },
   {
    "duration": 13,
    "start_time": "2022-01-11T12:51:04.183Z"
   },
   {
    "duration": 50,
    "start_time": "2022-01-11T12:51:04.198Z"
   },
   {
    "duration": 9,
    "start_time": "2022-01-11T12:51:04.251Z"
   },
   {
    "duration": 62,
    "start_time": "2022-01-11T12:51:04.261Z"
   },
   {
    "duration": 7,
    "start_time": "2022-01-11T12:51:04.325Z"
   },
   {
    "duration": 21,
    "start_time": "2022-01-11T12:51:04.335Z"
   },
   {
    "duration": 30,
    "start_time": "2022-01-11T12:51:04.357Z"
   },
   {
    "duration": 34,
    "start_time": "2022-01-11T12:51:04.389Z"
   },
   {
    "duration": 25,
    "start_time": "2022-01-11T12:51:04.425Z"
   },
   {
    "duration": 17,
    "start_time": "2022-01-11T12:51:04.452Z"
   },
   {
    "duration": 10,
    "start_time": "2022-01-11T12:51:04.471Z"
   },
   {
    "duration": 35,
    "start_time": "2022-01-11T12:51:04.482Z"
   },
   {
    "duration": 155,
    "start_time": "2022-01-11T12:51:04.519Z"
   },
   {
    "duration": 38,
    "start_time": "2022-01-11T12:51:04.676Z"
   },
   {
    "duration": 6,
    "start_time": "2022-01-11T12:51:04.716Z"
   },
   {
    "duration": 309,
    "start_time": "2022-01-11T12:51:04.723Z"
   },
   {
    "duration": 7,
    "start_time": "2022-01-11T12:51:05.034Z"
   },
   {
    "duration": 327,
    "start_time": "2022-01-11T12:51:05.043Z"
   },
   {
    "duration": 5,
    "start_time": "2022-01-11T12:51:05.373Z"
   },
   {
    "duration": 292,
    "start_time": "2022-01-11T12:51:05.391Z"
   },
   {
    "duration": 14,
    "start_time": "2022-01-11T12:51:05.685Z"
   },
   {
    "duration": 261,
    "start_time": "2022-01-11T12:51:05.700Z"
   },
   {
    "duration": 831,
    "start_time": "2022-01-11T12:51:05.132Z"
   },
   {
    "duration": 827,
    "start_time": "2022-01-11T12:51:05.137Z"
   },
   {
    "duration": 820,
    "start_time": "2022-01-11T12:51:05.145Z"
   },
   {
    "duration": 815,
    "start_time": "2022-01-11T12:51:05.151Z"
   },
   {
    "duration": 810,
    "start_time": "2022-01-11T12:51:05.157Z"
   },
   {
    "duration": 6,
    "start_time": "2022-01-11T12:53:09.448Z"
   },
   {
    "duration": 12,
    "start_time": "2022-01-11T12:53:46.461Z"
   },
   {
    "duration": 13,
    "start_time": "2022-01-11T12:53:57.479Z"
   },
   {
    "duration": 11,
    "start_time": "2022-01-11T12:55:26.245Z"
   },
   {
    "duration": 11,
    "start_time": "2022-01-11T12:55:31.613Z"
   },
   {
    "duration": 9,
    "start_time": "2022-01-11T12:55:42.928Z"
   },
   {
    "duration": 9,
    "start_time": "2022-01-11T12:55:47.219Z"
   },
   {
    "duration": 8,
    "start_time": "2022-01-11T12:55:50.508Z"
   },
   {
    "duration": 4,
    "start_time": "2022-01-11T12:55:53.245Z"
   },
   {
    "duration": 23,
    "start_time": "2022-01-11T12:55:53.251Z"
   },
   {
    "duration": 37,
    "start_time": "2022-01-11T12:55:53.276Z"
   },
   {
    "duration": 6,
    "start_time": "2022-01-11T12:55:53.314Z"
   },
   {
    "duration": 174,
    "start_time": "2022-01-11T12:55:53.322Z"
   },
   {
    "duration": 22,
    "start_time": "2022-01-11T12:55:53.498Z"
   },
   {
    "duration": 113,
    "start_time": "2022-01-11T12:55:53.523Z"
   },
   {
    "duration": 14,
    "start_time": "2022-01-11T12:55:53.638Z"
   },
   {
    "duration": 138,
    "start_time": "2022-01-11T12:55:53.653Z"
   },
   {
    "duration": 17,
    "start_time": "2022-01-11T12:55:53.793Z"
   },
   {
    "duration": 11,
    "start_time": "2022-01-11T12:55:53.812Z"
   },
   {
    "duration": 6,
    "start_time": "2022-01-11T12:55:53.824Z"
   },
   {
    "duration": 9,
    "start_time": "2022-01-11T12:55:53.831Z"
   },
   {
    "duration": 8,
    "start_time": "2022-01-11T12:55:53.842Z"
   },
   {
    "duration": 6,
    "start_time": "2022-01-11T12:55:53.852Z"
   },
   {
    "duration": 37,
    "start_time": "2022-01-11T12:55:53.860Z"
   },
   {
    "duration": 16,
    "start_time": "2022-01-11T12:55:53.898Z"
   },
   {
    "duration": 14,
    "start_time": "2022-01-11T12:55:53.916Z"
   },
   {
    "duration": 8,
    "start_time": "2022-01-11T12:55:53.934Z"
   },
   {
    "duration": 16,
    "start_time": "2022-01-11T12:55:53.945Z"
   },
   {
    "duration": 248,
    "start_time": "2022-01-11T12:55:53.962Z"
   },
   {
    "duration": 7,
    "start_time": "2022-01-11T12:55:54.212Z"
   },
   {
    "duration": 28,
    "start_time": "2022-01-11T12:55:54.220Z"
   },
   {
    "duration": 6,
    "start_time": "2022-01-11T12:55:54.249Z"
   },
   {
    "duration": 60,
    "start_time": "2022-01-11T12:55:54.256Z"
   },
   {
    "duration": 19,
    "start_time": "2022-01-11T12:55:54.318Z"
   },
   {
    "duration": 112,
    "start_time": "2022-01-11T12:55:54.339Z"
   },
   {
    "duration": 6,
    "start_time": "2022-01-11T12:55:54.453Z"
   },
   {
    "duration": 47,
    "start_time": "2022-01-11T12:55:54.461Z"
   },
   {
    "duration": 12,
    "start_time": "2022-01-11T12:55:54.510Z"
   },
   {
    "duration": 121,
    "start_time": "2022-01-11T12:55:54.524Z"
   },
   {
    "duration": 8,
    "start_time": "2022-01-11T12:55:54.646Z"
   },
   {
    "duration": 398,
    "start_time": "2022-01-11T12:55:54.656Z"
   },
   {
    "duration": 42,
    "start_time": "2022-01-11T12:55:55.056Z"
   },
   {
    "duration": 13,
    "start_time": "2022-01-11T12:55:55.100Z"
   },
   {
    "duration": 13,
    "start_time": "2022-01-11T12:55:55.114Z"
   },
   {
    "duration": 5,
    "start_time": "2022-01-11T12:55:55.129Z"
   },
   {
    "duration": 8,
    "start_time": "2022-01-11T12:55:55.135Z"
   },
   {
    "duration": 59,
    "start_time": "2022-01-11T12:55:55.145Z"
   },
   {
    "duration": 8,
    "start_time": "2022-01-11T12:55:55.205Z"
   },
   {
    "duration": 18,
    "start_time": "2022-01-11T12:55:55.214Z"
   },
   {
    "duration": 7,
    "start_time": "2022-01-11T12:55:55.233Z"
   },
   {
    "duration": 24,
    "start_time": "2022-01-11T12:55:55.242Z"
   },
   {
    "duration": 7,
    "start_time": "2022-01-11T12:55:55.292Z"
   },
   {
    "duration": 32,
    "start_time": "2022-01-11T12:55:55.301Z"
   },
   {
    "duration": 5,
    "start_time": "2022-01-11T12:55:55.335Z"
   },
   {
    "duration": 11,
    "start_time": "2022-01-11T12:55:55.342Z"
   },
   {
    "duration": 38,
    "start_time": "2022-01-11T12:55:55.355Z"
   },
   {
    "duration": 11,
    "start_time": "2022-01-11T12:55:55.394Z"
   },
   {
    "duration": 14,
    "start_time": "2022-01-11T12:55:55.407Z"
   },
   {
    "duration": 12,
    "start_time": "2022-01-11T12:55:55.422Z"
   },
   {
    "duration": 5,
    "start_time": "2022-01-11T12:55:55.436Z"
   },
   {
    "duration": 15,
    "start_time": "2022-01-11T12:55:55.442Z"
   },
   {
    "duration": 168,
    "start_time": "2022-01-11T12:55:55.458Z"
   },
   {
    "duration": 31,
    "start_time": "2022-01-11T12:55:55.631Z"
   },
   {
    "duration": 5,
    "start_time": "2022-01-11T12:55:55.664Z"
   },
   {
    "duration": 297,
    "start_time": "2022-01-11T12:55:55.671Z"
   },
   {
    "duration": 4,
    "start_time": "2022-01-11T12:55:55.970Z"
   },
   {
    "duration": 276,
    "start_time": "2022-01-11T12:55:55.976Z"
   },
   {
    "duration": 6,
    "start_time": "2022-01-11T12:55:56.254Z"
   },
   {
    "duration": 276,
    "start_time": "2022-01-11T12:55:56.261Z"
   },
   {
    "duration": 9,
    "start_time": "2022-01-11T12:55:56.539Z"
   },
   {
    "duration": 48,
    "start_time": "2022-01-11T12:55:56.549Z"
   },
   {
    "duration": 5,
    "start_time": "2022-01-11T12:55:56.599Z"
   },
   {
    "duration": 383,
    "start_time": "2022-01-11T12:55:56.605Z"
   },
   {
    "duration": 8,
    "start_time": "2022-01-11T12:55:56.992Z"
   },
   {
    "duration": 8,
    "start_time": "2022-01-11T12:55:57.002Z"
   },
   {
    "duration": 6,
    "start_time": "2022-01-11T12:56:50.881Z"
   },
   {
    "duration": 271,
    "start_time": "2022-01-11T12:56:53.961Z"
   },
   {
    "duration": 6,
    "start_time": "2022-01-11T12:56:54.948Z"
   },
   {
    "duration": 8,
    "start_time": "2022-01-11T12:57:11.371Z"
   },
   {
    "duration": 11,
    "start_time": "2022-01-11T12:57:27.881Z"
   },
   {
    "duration": 6,
    "start_time": "2022-01-11T12:57:47.710Z"
   },
   {
    "duration": 8,
    "start_time": "2022-01-11T12:57:56.501Z"
   },
   {
    "duration": 6,
    "start_time": "2022-01-11T12:58:13.745Z"
   },
   {
    "duration": 7,
    "start_time": "2022-01-11T12:58:22.258Z"
   },
   {
    "duration": 8,
    "start_time": "2022-01-11T13:01:18.125Z"
   },
   {
    "duration": 6,
    "start_time": "2022-01-11T13:04:37.013Z"
   },
   {
    "duration": 7,
    "start_time": "2022-01-11T13:04:39.512Z"
   },
   {
    "duration": 8,
    "start_time": "2022-01-11T13:04:49.375Z"
   },
   {
    "duration": 8,
    "start_time": "2022-01-11T13:06:44.606Z"
   },
   {
    "duration": 8,
    "start_time": "2022-01-11T13:07:30.552Z"
   },
   {
    "duration": 7,
    "start_time": "2022-01-11T13:13:18.483Z"
   },
   {
    "duration": 282,
    "start_time": "2022-01-11T13:13:20.865Z"
   },
   {
    "duration": 8,
    "start_time": "2022-01-11T13:15:13.550Z"
   },
   {
    "duration": 4,
    "start_time": "2022-01-11T13:15:15.894Z"
   },
   {
    "duration": 6,
    "start_time": "2022-01-11T13:16:09.279Z"
   },
   {
    "duration": 4,
    "start_time": "2022-01-11T13:17:50.001Z"
   },
   {
    "duration": 5,
    "start_time": "2022-01-11T13:27:12.014Z"
   },
   {
    "duration": 261,
    "start_time": "2022-01-11T13:27:16.898Z"
   },
   {
    "duration": 225,
    "start_time": "2022-01-11T13:27:24.414Z"
   },
   {
    "duration": 9,
    "start_time": "2022-01-11T13:31:42.346Z"
   },
   {
    "duration": 3,
    "start_time": "2022-01-11T13:42:33.875Z"
   },
   {
    "duration": 5,
    "start_time": "2022-01-11T13:42:56.540Z"
   },
   {
    "duration": 5,
    "start_time": "2022-01-11T13:43:00.812Z"
   },
   {
    "duration": 4,
    "start_time": "2022-01-11T13:45:38.532Z"
   },
   {
    "duration": 4,
    "start_time": "2022-01-11T13:47:04.712Z"
   },
   {
    "duration": 191,
    "start_time": "2022-01-11T14:05:02.633Z"
   },
   {
    "duration": 7,
    "start_time": "2022-01-11T14:07:00.748Z"
   },
   {
    "duration": 3,
    "start_time": "2022-01-11T14:12:40.803Z"
   },
   {
    "duration": 24,
    "start_time": "2022-01-11T14:12:40.808Z"
   },
   {
    "duration": 50,
    "start_time": "2022-01-11T14:12:40.833Z"
   },
   {
    "duration": 5,
    "start_time": "2022-01-11T14:12:40.885Z"
   },
   {
    "duration": 164,
    "start_time": "2022-01-11T14:12:40.892Z"
   },
   {
    "duration": 57,
    "start_time": "2022-01-11T14:12:41.058Z"
   },
   {
    "duration": 121,
    "start_time": "2022-01-11T14:12:41.118Z"
   },
   {
    "duration": 15,
    "start_time": "2022-01-11T14:12:41.241Z"
   },
   {
    "duration": 147,
    "start_time": "2022-01-11T14:12:41.258Z"
   },
   {
    "duration": 18,
    "start_time": "2022-01-11T14:12:41.407Z"
   },
   {
    "duration": 14,
    "start_time": "2022-01-11T14:12:41.426Z"
   },
   {
    "duration": 11,
    "start_time": "2022-01-11T14:12:41.442Z"
   },
   {
    "duration": 9,
    "start_time": "2022-01-11T14:12:41.454Z"
   },
   {
    "duration": 29,
    "start_time": "2022-01-11T14:12:41.464Z"
   },
   {
    "duration": 8,
    "start_time": "2022-01-11T14:12:41.494Z"
   },
   {
    "duration": 12,
    "start_time": "2022-01-11T14:12:41.503Z"
   },
   {
    "duration": 7,
    "start_time": "2022-01-11T14:12:41.517Z"
   },
   {
    "duration": 5,
    "start_time": "2022-01-11T14:12:41.528Z"
   },
   {
    "duration": 6,
    "start_time": "2022-01-11T14:12:41.536Z"
   },
   {
    "duration": 8,
    "start_time": "2022-01-11T14:12:41.544Z"
   },
   {
    "duration": 269,
    "start_time": "2022-01-11T14:12:41.554Z"
   },
   {
    "duration": 7,
    "start_time": "2022-01-11T14:12:41.825Z"
   },
   {
    "duration": 15,
    "start_time": "2022-01-11T14:12:41.833Z"
   },
   {
    "duration": 6,
    "start_time": "2022-01-11T14:12:41.849Z"
   },
   {
    "duration": 79,
    "start_time": "2022-01-11T14:12:41.856Z"
   },
   {
    "duration": 16,
    "start_time": "2022-01-11T14:12:41.937Z"
   },
   {
    "duration": 109,
    "start_time": "2022-01-11T14:12:41.955Z"
   },
   {
    "duration": 7,
    "start_time": "2022-01-11T14:12:42.066Z"
   },
   {
    "duration": 46,
    "start_time": "2022-01-11T14:12:42.075Z"
   },
   {
    "duration": 12,
    "start_time": "2022-01-11T14:12:42.123Z"
   },
   {
    "duration": 126,
    "start_time": "2022-01-11T14:12:42.136Z"
   },
   {
    "duration": 8,
    "start_time": "2022-01-11T14:12:42.263Z"
   },
   {
    "duration": 477,
    "start_time": "2022-01-11T14:12:42.273Z"
   },
   {
    "duration": 44,
    "start_time": "2022-01-11T14:12:42.752Z"
   },
   {
    "duration": 13,
    "start_time": "2022-01-11T14:12:42.797Z"
   },
   {
    "duration": 13,
    "start_time": "2022-01-11T14:12:42.812Z"
   },
   {
    "duration": 15,
    "start_time": "2022-01-11T14:12:42.827Z"
   },
   {
    "duration": 28,
    "start_time": "2022-01-11T14:12:42.843Z"
   },
   {
    "duration": 39,
    "start_time": "2022-01-11T14:12:42.873Z"
   },
   {
    "duration": 9,
    "start_time": "2022-01-11T14:12:42.914Z"
   },
   {
    "duration": 36,
    "start_time": "2022-01-11T14:12:42.924Z"
   },
   {
    "duration": 7,
    "start_time": "2022-01-11T14:12:42.962Z"
   },
   {
    "duration": 54,
    "start_time": "2022-01-11T14:12:42.971Z"
   },
   {
    "duration": 9,
    "start_time": "2022-01-11T14:12:43.028Z"
   },
   {
    "duration": 54,
    "start_time": "2022-01-11T14:12:43.039Z"
   },
   {
    "duration": 7,
    "start_time": "2022-01-11T14:12:43.095Z"
   },
   {
    "duration": 20,
    "start_time": "2022-01-11T14:12:43.104Z"
   },
   {
    "duration": 19,
    "start_time": "2022-01-11T14:12:43.127Z"
   },
   {
    "duration": 45,
    "start_time": "2022-01-11T14:12:43.148Z"
   },
   {
    "duration": 19,
    "start_time": "2022-01-11T14:12:43.196Z"
   },
   {
    "duration": 12,
    "start_time": "2022-01-11T14:12:43.220Z"
   },
   {
    "duration": 6,
    "start_time": "2022-01-11T14:12:43.234Z"
   },
   {
    "duration": 15,
    "start_time": "2022-01-11T14:12:43.241Z"
   },
   {
    "duration": 168,
    "start_time": "2022-01-11T14:12:43.257Z"
   },
   {
    "duration": 43,
    "start_time": "2022-01-11T14:12:43.427Z"
   },
   {
    "duration": 21,
    "start_time": "2022-01-11T14:12:43.473Z"
   },
   {
    "duration": 296,
    "start_time": "2022-01-11T14:12:43.496Z"
   },
   {
    "duration": 6,
    "start_time": "2022-01-11T14:12:43.794Z"
   },
   {
    "duration": 295,
    "start_time": "2022-01-11T14:12:43.802Z"
   },
   {
    "duration": 6,
    "start_time": "2022-01-11T14:12:44.099Z"
   },
   {
    "duration": 299,
    "start_time": "2022-01-11T14:12:44.107Z"
   },
   {
    "duration": 8,
    "start_time": "2022-01-11T14:12:44.408Z"
   },
   {
    "duration": 63,
    "start_time": "2022-01-11T14:12:44.418Z"
   },
   {
    "duration": 4,
    "start_time": "2022-01-11T14:12:44.483Z"
   },
   {
    "duration": 302,
    "start_time": "2022-01-11T14:12:44.489Z"
   },
   {
    "duration": 8,
    "start_time": "2022-01-11T14:12:44.793Z"
   },
   {
    "duration": 19,
    "start_time": "2022-01-11T14:12:44.803Z"
   },
   {
    "duration": 323,
    "start_time": "2022-01-11T14:12:44.824Z"
   },
   {
    "duration": 9,
    "start_time": "2022-01-11T14:12:45.149Z"
   },
   {
    "duration": 6,
    "start_time": "2022-01-11T14:12:45.159Z"
   },
   {
    "duration": 25,
    "start_time": "2022-01-11T14:12:45.167Z"
   },
   {
    "duration": 345,
    "start_time": "2022-01-11T14:12:45.194Z"
   },
   {
    "duration": 7,
    "start_time": "2022-01-11T14:12:45.541Z"
   },
   {
    "duration": 4,
    "start_time": "2022-01-11T14:12:45.550Z"
   },
   {
    "duration": 6,
    "start_time": "2022-01-11T14:12:45.556Z"
   },
   {
    "duration": 28,
    "start_time": "2022-01-11T14:12:45.564Z"
   },
   {
    "duration": 5,
    "start_time": "2022-01-11T14:12:45.594Z"
   },
   {
    "duration": 7,
    "start_time": "2022-01-11T14:12:45.601Z"
   },
   {
    "duration": 11,
    "start_time": "2022-01-11T14:12:45.610Z"
   },
   {
    "duration": 6,
    "start_time": "2022-01-11T14:14:07.934Z"
   },
   {
    "duration": 15,
    "start_time": "2022-01-11T14:15:40.340Z"
   },
   {
    "duration": 8,
    "start_time": "2022-01-11T14:15:45.430Z"
   },
   {
    "duration": 6,
    "start_time": "2022-01-11T14:16:36.836Z"
   },
   {
    "duration": 3,
    "start_time": "2022-01-11T14:18:28.960Z"
   },
   {
    "duration": 177,
    "start_time": "2022-01-11T14:18:28.965Z"
   },
   {
    "duration": 104,
    "start_time": "2022-01-11T14:18:29.144Z"
   },
   {
    "duration": 48,
    "start_time": "2022-01-11T14:18:29.250Z"
   },
   {
    "duration": 218,
    "start_time": "2022-01-11T14:18:29.300Z"
   },
   {
    "duration": 21,
    "start_time": "2022-01-11T14:18:29.521Z"
   },
   {
    "duration": 235,
    "start_time": "2022-01-11T14:18:29.546Z"
   },
   {
    "duration": 68,
    "start_time": "2022-01-11T14:18:29.783Z"
   },
   {
    "duration": 184,
    "start_time": "2022-01-11T14:18:29.853Z"
   },
   {
    "duration": 19,
    "start_time": "2022-01-11T14:18:30.040Z"
   },
   {
    "duration": 105,
    "start_time": "2022-01-11T14:18:30.061Z"
   },
   {
    "duration": 141,
    "start_time": "2022-01-11T14:18:30.169Z"
   },
   {
    "duration": 76,
    "start_time": "2022-01-11T14:18:30.312Z"
   },
   {
    "duration": 82,
    "start_time": "2022-01-11T14:18:30.390Z"
   },
   {
    "duration": 60,
    "start_time": "2022-01-11T14:18:30.474Z"
   },
   {
    "duration": 63,
    "start_time": "2022-01-11T14:18:30.535Z"
   },
   {
    "duration": 146,
    "start_time": "2022-01-11T14:18:30.600Z"
   },
   {
    "duration": 164,
    "start_time": "2022-01-11T14:18:30.748Z"
   },
   {
    "duration": 61,
    "start_time": "2022-01-11T14:18:30.916Z"
   },
   {
    "duration": 62,
    "start_time": "2022-01-11T14:18:30.980Z"
   },
   {
    "duration": 333,
    "start_time": "2022-01-11T14:18:31.044Z"
   },
   {
    "duration": 14,
    "start_time": "2022-01-11T14:18:31.378Z"
   },
   {
    "duration": 55,
    "start_time": "2022-01-11T14:18:31.394Z"
   },
   {
    "duration": 130,
    "start_time": "2022-01-11T14:18:31.451Z"
   },
   {
    "duration": 162,
    "start_time": "2022-01-11T14:18:31.583Z"
   },
   {
    "duration": 78,
    "start_time": "2022-01-11T14:18:31.747Z"
   },
   {
    "duration": 214,
    "start_time": "2022-01-11T14:18:31.827Z"
   },
   {
    "duration": 8,
    "start_time": "2022-01-11T14:18:32.043Z"
   },
   {
    "duration": 51,
    "start_time": "2022-01-11T14:18:32.053Z"
   },
   {
    "duration": 85,
    "start_time": "2022-01-11T14:18:32.106Z"
   },
   {
    "duration": 125,
    "start_time": "2022-01-11T14:18:32.193Z"
   },
   {
    "duration": 9,
    "start_time": "2022-01-11T14:18:32.320Z"
   },
   {
    "duration": 386,
    "start_time": "2022-01-11T14:18:32.331Z"
   },
   {
    "duration": 37,
    "start_time": "2022-01-11T14:18:32.720Z"
   },
   {
    "duration": 12,
    "start_time": "2022-01-11T14:18:32.760Z"
   },
   {
    "duration": 16,
    "start_time": "2022-01-11T14:18:32.791Z"
   },
   {
    "duration": 6,
    "start_time": "2022-01-11T14:18:32.809Z"
   },
   {
    "duration": 11,
    "start_time": "2022-01-11T14:18:32.816Z"
   },
   {
    "duration": 31,
    "start_time": "2022-01-11T14:18:32.829Z"
   },
   {
    "duration": 33,
    "start_time": "2022-01-11T14:18:32.862Z"
   },
   {
    "duration": 19,
    "start_time": "2022-01-11T14:18:32.897Z"
   },
   {
    "duration": 7,
    "start_time": "2022-01-11T14:18:32.918Z"
   },
   {
    "duration": 33,
    "start_time": "2022-01-11T14:18:32.927Z"
   },
   {
    "duration": 34,
    "start_time": "2022-01-11T14:18:32.962Z"
   },
   {
    "duration": 33,
    "start_time": "2022-01-11T14:18:32.998Z"
   },
   {
    "duration": 6,
    "start_time": "2022-01-11T14:18:33.032Z"
   },
   {
    "duration": 10,
    "start_time": "2022-01-11T14:18:33.040Z"
   },
   {
    "duration": 12,
    "start_time": "2022-01-11T14:18:33.051Z"
   },
   {
    "duration": 12,
    "start_time": "2022-01-11T14:18:33.092Z"
   },
   {
    "duration": 14,
    "start_time": "2022-01-11T14:18:33.106Z"
   },
   {
    "duration": 17,
    "start_time": "2022-01-11T14:18:33.122Z"
   },
   {
    "duration": 6,
    "start_time": "2022-01-11T14:18:33.141Z"
   },
   {
    "duration": 56,
    "start_time": "2022-01-11T14:18:33.148Z"
   },
   {
    "duration": 172,
    "start_time": "2022-01-11T14:18:33.206Z"
   },
   {
    "duration": 40,
    "start_time": "2022-01-11T14:18:33.382Z"
   },
   {
    "duration": 6,
    "start_time": "2022-01-11T14:18:33.426Z"
   },
   {
    "duration": 360,
    "start_time": "2022-01-11T14:18:33.434Z"
   },
   {
    "duration": 7,
    "start_time": "2022-01-11T14:18:33.796Z"
   },
   {
    "duration": 333,
    "start_time": "2022-01-11T14:18:33.805Z"
   },
   {
    "duration": 6,
    "start_time": "2022-01-11T14:18:34.140Z"
   },
   {
    "duration": 322,
    "start_time": "2022-01-11T14:18:34.147Z"
   },
   {
    "duration": 13,
    "start_time": "2022-01-11T14:18:34.470Z"
   },
   {
    "duration": 88,
    "start_time": "2022-01-11T14:18:34.492Z"
   },
   {
    "duration": 5,
    "start_time": "2022-01-11T14:18:34.582Z"
   },
   {
    "duration": 377,
    "start_time": "2022-01-11T14:18:34.589Z"
   },
   {
    "duration": 8,
    "start_time": "2022-01-11T14:18:34.968Z"
   },
   {
    "duration": 26,
    "start_time": "2022-01-11T14:18:34.991Z"
   },
   {
    "duration": 299,
    "start_time": "2022-01-11T14:18:35.019Z"
   },
   {
    "duration": 8,
    "start_time": "2022-01-11T14:18:35.320Z"
   },
   {
    "duration": 88,
    "start_time": "2022-01-11T14:18:35.330Z"
   },
   {
    "duration": 48,
    "start_time": "2022-01-11T14:18:35.420Z"
   },
   {
    "duration": 315,
    "start_time": "2022-01-11T14:18:35.470Z"
   },
   {
    "duration": 8,
    "start_time": "2022-01-11T14:18:35.786Z"
   },
   {
    "duration": 45,
    "start_time": "2022-01-11T14:18:35.796Z"
   },
   {
    "duration": 14,
    "start_time": "2022-01-11T14:18:35.843Z"
   },
   {
    "duration": 78,
    "start_time": "2022-01-11T14:18:35.858Z"
   },
   {
    "duration": 32,
    "start_time": "2022-01-11T14:18:35.938Z"
   },
   {
    "duration": 29,
    "start_time": "2022-01-11T14:18:35.971Z"
   },
   {
    "duration": 18,
    "start_time": "2022-01-11T14:18:36.002Z"
   },
   {
    "duration": 45,
    "start_time": "2022-01-11T14:18:36.022Z"
   },
   {
    "duration": 11,
    "start_time": "2022-01-11T14:18:36.069Z"
   },
   {
    "duration": 203,
    "start_time": "2022-01-11T14:25:44.263Z"
   },
   {
    "duration": 5,
    "start_time": "2022-01-11T14:26:03.607Z"
   },
   {
    "duration": 4,
    "start_time": "2022-01-11T14:27:19.778Z"
   },
   {
    "duration": 6,
    "start_time": "2022-01-11T14:28:08.633Z"
   },
   {
    "duration": 6,
    "start_time": "2022-01-11T14:28:18.070Z"
   },
   {
    "duration": 251,
    "start_time": "2022-01-11T14:44:18.815Z"
   },
   {
    "duration": 4,
    "start_time": "2022-01-11T14:45:01.692Z"
   },
   {
    "duration": 26,
    "start_time": "2022-01-11T14:45:01.698Z"
   },
   {
    "duration": 49,
    "start_time": "2022-01-11T14:45:01.726Z"
   },
   {
    "duration": 7,
    "start_time": "2022-01-11T14:45:01.777Z"
   },
   {
    "duration": 172,
    "start_time": "2022-01-11T14:45:01.785Z"
   },
   {
    "duration": 56,
    "start_time": "2022-01-11T14:45:01.959Z"
   },
   {
    "duration": 120,
    "start_time": "2022-01-11T14:45:02.018Z"
   },
   {
    "duration": 15,
    "start_time": "2022-01-11T14:45:02.141Z"
   },
   {
    "duration": 157,
    "start_time": "2022-01-11T14:45:02.158Z"
   },
   {
    "duration": 17,
    "start_time": "2022-01-11T14:45:02.317Z"
   },
   {
    "duration": 25,
    "start_time": "2022-01-11T14:45:02.336Z"
   },
   {
    "duration": 21,
    "start_time": "2022-01-11T14:45:02.363Z"
   },
   {
    "duration": 28,
    "start_time": "2022-01-11T14:45:02.386Z"
   },
   {
    "duration": 25,
    "start_time": "2022-01-11T14:45:02.415Z"
   },
   {
    "duration": 22,
    "start_time": "2022-01-11T14:45:02.442Z"
   },
   {
    "duration": 23,
    "start_time": "2022-01-11T14:45:02.466Z"
   },
   {
    "duration": 16,
    "start_time": "2022-01-11T14:45:02.491Z"
   },
   {
    "duration": 21,
    "start_time": "2022-01-11T14:45:02.509Z"
   },
   {
    "duration": 16,
    "start_time": "2022-01-11T14:45:02.534Z"
   },
   {
    "duration": 14,
    "start_time": "2022-01-11T14:45:02.554Z"
   },
   {
    "duration": 292,
    "start_time": "2022-01-11T14:45:02.571Z"
   },
   {
    "duration": 9,
    "start_time": "2022-01-11T14:45:02.865Z"
   },
   {
    "duration": 28,
    "start_time": "2022-01-11T14:45:02.876Z"
   },
   {
    "duration": 6,
    "start_time": "2022-01-11T14:45:02.906Z"
   },
   {
    "duration": 51,
    "start_time": "2022-01-11T14:45:02.913Z"
   },
   {
    "duration": 40,
    "start_time": "2022-01-11T14:45:02.966Z"
   },
   {
    "duration": 152,
    "start_time": "2022-01-11T14:45:03.008Z"
   },
   {
    "duration": 7,
    "start_time": "2022-01-11T14:45:03.162Z"
   },
   {
    "duration": 49,
    "start_time": "2022-01-11T14:45:03.171Z"
   },
   {
    "duration": 17,
    "start_time": "2022-01-11T14:45:03.222Z"
   },
   {
    "duration": 166,
    "start_time": "2022-01-11T14:45:03.242Z"
   },
   {
    "duration": 7,
    "start_time": "2022-01-11T14:45:03.410Z"
   },
   {
    "duration": 416,
    "start_time": "2022-01-11T14:45:03.419Z"
   },
   {
    "duration": 38,
    "start_time": "2022-01-11T14:45:03.837Z"
   },
   {
    "duration": 25,
    "start_time": "2022-01-11T14:45:03.877Z"
   },
   {
    "duration": 13,
    "start_time": "2022-01-11T14:45:03.904Z"
   },
   {
    "duration": 5,
    "start_time": "2022-01-11T14:45:03.918Z"
   },
   {
    "duration": 10,
    "start_time": "2022-01-11T14:45:03.926Z"
   },
   {
    "duration": 78,
    "start_time": "2022-01-11T14:45:03.938Z"
   },
   {
    "duration": 9,
    "start_time": "2022-01-11T14:45:04.018Z"
   },
   {
    "duration": 26,
    "start_time": "2022-01-11T14:45:04.029Z"
   },
   {
    "duration": 11,
    "start_time": "2022-01-11T14:45:04.057Z"
   },
   {
    "duration": 58,
    "start_time": "2022-01-11T14:45:04.070Z"
   },
   {
    "duration": 9,
    "start_time": "2022-01-11T14:45:04.130Z"
   },
   {
    "duration": 54,
    "start_time": "2022-01-11T14:45:04.141Z"
   },
   {
    "duration": 9,
    "start_time": "2022-01-11T14:45:04.197Z"
   },
   {
    "duration": 13,
    "start_time": "2022-01-11T14:45:04.208Z"
   },
   {
    "duration": 11,
    "start_time": "2022-01-11T14:45:04.224Z"
   },
   {
    "duration": 19,
    "start_time": "2022-01-11T14:45:04.237Z"
   },
   {
    "duration": 38,
    "start_time": "2022-01-11T14:45:04.258Z"
   },
   {
    "duration": 29,
    "start_time": "2022-01-11T14:45:04.298Z"
   },
   {
    "duration": 5,
    "start_time": "2022-01-11T14:45:04.330Z"
   },
   {
    "duration": 17,
    "start_time": "2022-01-11T14:45:04.337Z"
   },
   {
    "duration": 176,
    "start_time": "2022-01-11T14:45:04.356Z"
   },
   {
    "duration": 37,
    "start_time": "2022-01-11T14:45:04.538Z"
   },
   {
    "duration": 18,
    "start_time": "2022-01-11T14:45:04.577Z"
   },
   {
    "duration": 296,
    "start_time": "2022-01-11T14:45:04.597Z"
   },
   {
    "duration": 5,
    "start_time": "2022-01-11T14:45:04.895Z"
   },
   {
    "duration": 291,
    "start_time": "2022-01-11T14:45:04.902Z"
   },
   {
    "duration": 6,
    "start_time": "2022-01-11T14:45:05.196Z"
   },
   {
    "duration": 377,
    "start_time": "2022-01-11T14:45:05.203Z"
   },
   {
    "duration": 12,
    "start_time": "2022-01-11T14:45:05.581Z"
   },
   {
    "duration": 38,
    "start_time": "2022-01-11T14:45:05.595Z"
   },
   {
    "duration": 5,
    "start_time": "2022-01-11T14:45:05.635Z"
   },
   {
    "duration": 318,
    "start_time": "2022-01-11T14:45:05.642Z"
   },
   {
    "duration": 8,
    "start_time": "2022-01-11T14:45:05.962Z"
   },
   {
    "duration": 22,
    "start_time": "2022-01-11T14:45:05.972Z"
   },
   {
    "duration": 287,
    "start_time": "2022-01-11T14:45:05.996Z"
   },
   {
    "duration": 12,
    "start_time": "2022-01-11T14:45:06.285Z"
   },
   {
    "duration": 6,
    "start_time": "2022-01-11T14:45:06.298Z"
   },
   {
    "duration": 9,
    "start_time": "2022-01-11T14:45:06.305Z"
   },
   {
    "duration": 253,
    "start_time": "2022-01-11T14:45:06.316Z"
   },
   {
    "duration": 7,
    "start_time": "2022-01-11T14:45:06.571Z"
   },
   {
    "duration": 14,
    "start_time": "2022-01-11T14:45:06.580Z"
   },
   {
    "duration": 6,
    "start_time": "2022-01-11T14:45:06.595Z"
   },
   {
    "duration": 5,
    "start_time": "2022-01-11T14:45:06.603Z"
   },
   {
    "duration": 4,
    "start_time": "2022-01-11T14:45:06.610Z"
   },
   {
    "duration": 6,
    "start_time": "2022-01-11T14:45:06.616Z"
   },
   {
    "duration": 6,
    "start_time": "2022-01-11T14:45:06.623Z"
   },
   {
    "duration": 5,
    "start_time": "2022-01-11T14:45:06.631Z"
   },
   {
    "duration": 182,
    "start_time": "2022-01-11T14:45:06.638Z"
   },
   {
    "duration": 4,
    "start_time": "2022-01-11T14:45:55.856Z"
   },
   {
    "duration": 183,
    "start_time": "2022-01-11T14:46:08.072Z"
   },
   {
    "duration": 185,
    "start_time": "2022-01-11T14:50:27.763Z"
   },
   {
    "duration": 3,
    "start_time": "2022-01-11T14:51:11.966Z"
   },
   {
    "duration": 25,
    "start_time": "2022-01-11T14:51:11.971Z"
   },
   {
    "duration": 44,
    "start_time": "2022-01-11T14:51:11.999Z"
   },
   {
    "duration": 6,
    "start_time": "2022-01-11T14:51:12.046Z"
   },
   {
    "duration": 166,
    "start_time": "2022-01-11T14:51:12.054Z"
   },
   {
    "duration": 20,
    "start_time": "2022-01-11T14:51:12.222Z"
   },
   {
    "duration": 111,
    "start_time": "2022-01-11T14:51:12.245Z"
   },
   {
    "duration": 38,
    "start_time": "2022-01-11T14:51:12.358Z"
   },
   {
    "duration": 144,
    "start_time": "2022-01-11T14:51:12.398Z"
   },
   {
    "duration": 19,
    "start_time": "2022-01-11T14:51:12.544Z"
   },
   {
    "duration": 26,
    "start_time": "2022-01-11T14:51:12.565Z"
   },
   {
    "duration": 6,
    "start_time": "2022-01-11T14:51:12.593Z"
   },
   {
    "duration": 8,
    "start_time": "2022-01-11T14:51:12.600Z"
   },
   {
    "duration": 7,
    "start_time": "2022-01-11T14:51:12.610Z"
   },
   {
    "duration": 6,
    "start_time": "2022-01-11T14:51:12.619Z"
   },
   {
    "duration": 10,
    "start_time": "2022-01-11T14:51:12.626Z"
   },
   {
    "duration": 6,
    "start_time": "2022-01-11T14:51:12.638Z"
   },
   {
    "duration": 4,
    "start_time": "2022-01-11T14:51:12.646Z"
   },
   {
    "duration": 43,
    "start_time": "2022-01-11T14:51:12.653Z"
   },
   {
    "duration": 9,
    "start_time": "2022-01-11T14:51:12.699Z"
   },
   {
    "duration": 256,
    "start_time": "2022-01-11T14:51:12.709Z"
   },
   {
    "duration": 8,
    "start_time": "2022-01-11T14:51:12.966Z"
   },
   {
    "duration": 29,
    "start_time": "2022-01-11T14:51:12.976Z"
   },
   {
    "duration": 7,
    "start_time": "2022-01-11T14:51:13.007Z"
   },
   {
    "duration": 47,
    "start_time": "2022-01-11T14:51:13.015Z"
   },
   {
    "duration": 40,
    "start_time": "2022-01-11T14:51:13.064Z"
   },
   {
    "duration": 106,
    "start_time": "2022-01-11T14:51:13.106Z"
   },
   {
    "duration": 7,
    "start_time": "2022-01-11T14:51:13.214Z"
   },
   {
    "duration": 35,
    "start_time": "2022-01-11T14:51:13.223Z"
   },
   {
    "duration": 12,
    "start_time": "2022-01-11T14:51:13.260Z"
   },
   {
    "duration": 119,
    "start_time": "2022-01-11T14:51:13.291Z"
   },
   {
    "duration": 10,
    "start_time": "2022-01-11T14:51:13.412Z"
   },
   {
    "duration": 416,
    "start_time": "2022-01-11T14:51:13.424Z"
   },
   {
    "duration": 35,
    "start_time": "2022-01-11T14:51:13.842Z"
   },
   {
    "duration": 22,
    "start_time": "2022-01-11T14:51:13.879Z"
   },
   {
    "duration": 15,
    "start_time": "2022-01-11T14:51:13.903Z"
   },
   {
    "duration": 5,
    "start_time": "2022-01-11T14:51:13.920Z"
   },
   {
    "duration": 10,
    "start_time": "2022-01-11T14:51:13.927Z"
   },
   {
    "duration": 63,
    "start_time": "2022-01-11T14:51:13.938Z"
   },
   {
    "duration": 9,
    "start_time": "2022-01-11T14:51:14.003Z"
   },
   {
    "duration": 18,
    "start_time": "2022-01-11T14:51:14.014Z"
   },
   {
    "duration": 6,
    "start_time": "2022-01-11T14:51:14.034Z"
   },
   {
    "duration": 24,
    "start_time": "2022-01-11T14:51:14.042Z"
   },
   {
    "duration": 8,
    "start_time": "2022-01-11T14:51:14.091Z"
   },
   {
    "duration": 34,
    "start_time": "2022-01-11T14:51:14.101Z"
   },
   {
    "duration": 6,
    "start_time": "2022-01-11T14:51:14.137Z"
   },
   {
    "duration": 12,
    "start_time": "2022-01-11T14:51:14.145Z"
   },
   {
    "duration": 35,
    "start_time": "2022-01-11T14:51:14.158Z"
   },
   {
    "duration": 11,
    "start_time": "2022-01-11T14:51:14.195Z"
   },
   {
    "duration": 21,
    "start_time": "2022-01-11T14:51:14.207Z"
   },
   {
    "duration": 13,
    "start_time": "2022-01-11T14:51:14.230Z"
   },
   {
    "duration": 6,
    "start_time": "2022-01-11T14:51:14.244Z"
   },
   {
    "duration": 15,
    "start_time": "2022-01-11T14:51:14.251Z"
   },
   {
    "duration": 165,
    "start_time": "2022-01-11T14:51:14.268Z"
   },
   {
    "duration": 33,
    "start_time": "2022-01-11T14:51:14.438Z"
   },
   {
    "duration": 21,
    "start_time": "2022-01-11T14:51:14.473Z"
   },
   {
    "duration": 297,
    "start_time": "2022-01-11T14:51:14.496Z"
   },
   {
    "duration": 6,
    "start_time": "2022-01-11T14:51:14.795Z"
   },
   {
    "duration": 283,
    "start_time": "2022-01-11T14:51:14.803Z"
   },
   {
    "duration": 6,
    "start_time": "2022-01-11T14:51:15.088Z"
   },
   {
    "duration": 272,
    "start_time": "2022-01-11T14:51:15.096Z"
   },
   {
    "duration": 8,
    "start_time": "2022-01-11T14:51:15.369Z"
   },
   {
    "duration": 43,
    "start_time": "2022-01-11T14:51:15.390Z"
   },
   {
    "duration": 5,
    "start_time": "2022-01-11T14:51:15.434Z"
   },
   {
    "duration": 293,
    "start_time": "2022-01-11T14:51:15.440Z"
   },
   {
    "duration": 8,
    "start_time": "2022-01-11T14:51:15.734Z"
   },
   {
    "duration": 13,
    "start_time": "2022-01-11T14:51:15.743Z"
   },
   {
    "duration": 288,
    "start_time": "2022-01-11T14:51:15.757Z"
   },
   {
    "duration": 7,
    "start_time": "2022-01-11T14:51:16.047Z"
   },
   {
    "duration": 9,
    "start_time": "2022-01-11T14:51:16.056Z"
   },
   {
    "duration": 19,
    "start_time": "2022-01-11T14:51:16.067Z"
   },
   {
    "duration": 240,
    "start_time": "2022-01-11T14:51:16.092Z"
   },
   {
    "duration": 9,
    "start_time": "2022-01-11T14:51:16.335Z"
   },
   {
    "duration": 24,
    "start_time": "2022-01-11T14:51:16.346Z"
   },
   {
    "duration": 13,
    "start_time": "2022-01-11T14:51:16.372Z"
   },
   {
    "duration": 14,
    "start_time": "2022-01-11T14:51:16.386Z"
   },
   {
    "duration": 14,
    "start_time": "2022-01-11T14:51:16.402Z"
   },
   {
    "duration": 15,
    "start_time": "2022-01-11T14:51:16.417Z"
   },
   {
    "duration": 19,
    "start_time": "2022-01-11T14:51:16.434Z"
   },
   {
    "duration": 17,
    "start_time": "2022-01-11T14:51:16.454Z"
   },
   {
    "duration": 187,
    "start_time": "2022-01-11T14:51:16.473Z"
   },
   {
    "duration": 552,
    "start_time": "2022-01-11T15:25:03.210Z"
   },
   {
    "duration": 374,
    "start_time": "2022-01-11T15:26:08.462Z"
   },
   {
    "duration": 193,
    "start_time": "2022-01-11T15:37:27.813Z"
   },
   {
    "duration": 10,
    "start_time": "2022-01-11T15:37:34.243Z"
   },
   {
    "duration": 62,
    "start_time": "2022-01-11T15:37:34.781Z"
   },
   {
    "duration": 8,
    "start_time": "2022-01-11T15:37:35.499Z"
   },
   {
    "duration": 9,
    "start_time": "2022-01-11T15:37:45.541Z"
   },
   {
    "duration": 6,
    "start_time": "2022-01-11T15:37:48.020Z"
   },
   {
    "duration": 4,
    "start_time": "2022-01-11T15:39:09.389Z"
   },
   {
    "duration": 4,
    "start_time": "2022-01-11T15:39:17.128Z"
   },
   {
    "duration": 4,
    "start_time": "2022-01-11T15:39:23.579Z"
   },
   {
    "duration": 3,
    "start_time": "2022-01-11T15:45:22.888Z"
   },
   {
    "duration": 24,
    "start_time": "2022-01-11T15:45:22.894Z"
   },
   {
    "duration": 45,
    "start_time": "2022-01-11T15:45:22.921Z"
   },
   {
    "duration": 7,
    "start_time": "2022-01-11T15:45:22.968Z"
   },
   {
    "duration": 178,
    "start_time": "2022-01-11T15:45:22.976Z"
   },
   {
    "duration": 40,
    "start_time": "2022-01-11T15:45:23.156Z"
   },
   {
    "duration": 109,
    "start_time": "2022-01-11T15:45:23.197Z"
   },
   {
    "duration": 15,
    "start_time": "2022-01-11T15:45:23.308Z"
   },
   {
    "duration": 147,
    "start_time": "2022-01-11T15:45:23.326Z"
   },
   {
    "duration": 25,
    "start_time": "2022-01-11T15:45:23.475Z"
   },
   {
    "duration": 12,
    "start_time": "2022-01-11T15:45:23.502Z"
   },
   {
    "duration": 7,
    "start_time": "2022-01-11T15:45:23.516Z"
   },
   {
    "duration": 8,
    "start_time": "2022-01-11T15:45:23.525Z"
   },
   {
    "duration": 8,
    "start_time": "2022-01-11T15:45:23.535Z"
   },
   {
    "duration": 7,
    "start_time": "2022-01-11T15:45:23.545Z"
   },
   {
    "duration": 43,
    "start_time": "2022-01-11T15:45:23.554Z"
   },
   {
    "duration": 6,
    "start_time": "2022-01-11T15:45:23.598Z"
   },
   {
    "duration": 5,
    "start_time": "2022-01-11T15:45:23.606Z"
   },
   {
    "duration": 6,
    "start_time": "2022-01-11T15:45:23.613Z"
   },
   {
    "duration": 6,
    "start_time": "2022-01-11T15:45:23.621Z"
   },
   {
    "duration": 268,
    "start_time": "2022-01-11T15:45:23.629Z"
   },
   {
    "duration": 6,
    "start_time": "2022-01-11T15:45:23.899Z"
   },
   {
    "duration": 15,
    "start_time": "2022-01-11T15:45:23.907Z"
   },
   {
    "duration": 5,
    "start_time": "2022-01-11T15:45:23.926Z"
   },
   {
    "duration": 71,
    "start_time": "2022-01-11T15:45:23.933Z"
   },
   {
    "duration": 19,
    "start_time": "2022-01-11T15:45:24.006Z"
   },
   {
    "duration": 112,
    "start_time": "2022-01-11T15:45:24.027Z"
   },
   {
    "duration": 6,
    "start_time": "2022-01-11T15:45:24.141Z"
   },
   {
    "duration": 45,
    "start_time": "2022-01-11T15:45:24.149Z"
   },
   {
    "duration": 12,
    "start_time": "2022-01-11T15:45:24.195Z"
   },
   {
    "duration": 136,
    "start_time": "2022-01-11T15:45:24.209Z"
   },
   {
    "duration": 10,
    "start_time": "2022-01-11T15:45:24.348Z"
   },
   {
    "duration": 430,
    "start_time": "2022-01-11T15:45:24.361Z"
   },
   {
    "duration": 40,
    "start_time": "2022-01-11T15:45:24.793Z"
   },
   {
    "duration": 13,
    "start_time": "2022-01-11T15:45:24.835Z"
   },
   {
    "duration": 13,
    "start_time": "2022-01-11T15:45:24.850Z"
   },
   {
    "duration": 28,
    "start_time": "2022-01-11T15:45:24.865Z"
   },
   {
    "duration": 8,
    "start_time": "2022-01-11T15:45:24.895Z"
   },
   {
    "duration": 48,
    "start_time": "2022-01-11T15:45:24.905Z"
   },
   {
    "duration": 8,
    "start_time": "2022-01-11T15:45:24.955Z"
   },
   {
    "duration": 43,
    "start_time": "2022-01-11T15:45:24.965Z"
   },
   {
    "duration": 8,
    "start_time": "2022-01-11T15:45:25.009Z"
   },
   {
    "duration": 21,
    "start_time": "2022-01-11T15:45:25.019Z"
   },
   {
    "duration": 9,
    "start_time": "2022-01-11T15:45:25.042Z"
   },
   {
    "duration": 62,
    "start_time": "2022-01-11T15:45:25.052Z"
   },
   {
    "duration": 7,
    "start_time": "2022-01-11T15:45:25.116Z"
   },
   {
    "duration": 12,
    "start_time": "2022-01-11T15:45:25.125Z"
   },
   {
    "duration": 11,
    "start_time": "2022-01-11T15:45:25.138Z"
   },
   {
    "duration": 14,
    "start_time": "2022-01-11T15:45:25.151Z"
   },
   {
    "duration": 15,
    "start_time": "2022-01-11T15:45:25.191Z"
   },
   {
    "duration": 13,
    "start_time": "2022-01-11T15:45:25.208Z"
   },
   {
    "duration": 4,
    "start_time": "2022-01-11T15:45:25.223Z"
   },
   {
    "duration": 16,
    "start_time": "2022-01-11T15:45:25.229Z"
   },
   {
    "duration": 160,
    "start_time": "2022-01-11T15:45:25.247Z"
   },
   {
    "duration": 36,
    "start_time": "2022-01-11T15:45:25.409Z"
   },
   {
    "duration": 5,
    "start_time": "2022-01-11T15:45:25.447Z"
   },
   {
    "duration": 303,
    "start_time": "2022-01-11T15:45:25.454Z"
   },
   {
    "duration": 5,
    "start_time": "2022-01-11T15:45:25.759Z"
   },
   {
    "duration": 295,
    "start_time": "2022-01-11T15:45:25.766Z"
   },
   {
    "duration": 4,
    "start_time": "2022-01-11T15:45:26.063Z"
   },
   {
    "duration": 296,
    "start_time": "2022-01-11T15:45:26.069Z"
   },
   {
    "duration": 7,
    "start_time": "2022-01-11T15:45:26.367Z"
   },
   {
    "duration": 48,
    "start_time": "2022-01-11T15:45:26.376Z"
   },
   {
    "duration": 5,
    "start_time": "2022-01-11T15:45:26.426Z"
   },
   {
    "duration": 313,
    "start_time": "2022-01-11T15:45:26.433Z"
   },
   {
    "duration": 8,
    "start_time": "2022-01-11T15:45:26.748Z"
   },
   {
    "duration": 6,
    "start_time": "2022-01-11T15:45:26.758Z"
   },
   {
    "duration": 303,
    "start_time": "2022-01-11T15:45:26.766Z"
   },
   {
    "duration": 8,
    "start_time": "2022-01-11T15:45:27.074Z"
   },
   {
    "duration": 4,
    "start_time": "2022-01-11T15:45:27.091Z"
   },
   {
    "duration": 7,
    "start_time": "2022-01-11T15:45:27.096Z"
   },
   {
    "duration": 253,
    "start_time": "2022-01-11T15:45:27.105Z"
   },
   {
    "duration": 8,
    "start_time": "2022-01-11T15:45:27.360Z"
   },
   {
    "duration": 4,
    "start_time": "2022-01-11T15:45:27.369Z"
   },
   {
    "duration": 20,
    "start_time": "2022-01-11T15:45:27.375Z"
   },
   {
    "duration": 6,
    "start_time": "2022-01-11T15:45:27.396Z"
   },
   {
    "duration": 6,
    "start_time": "2022-01-11T15:45:27.404Z"
   },
   {
    "duration": 6,
    "start_time": "2022-01-11T15:45:27.411Z"
   },
   {
    "duration": 5,
    "start_time": "2022-01-11T15:45:27.419Z"
   },
   {
    "duration": 5,
    "start_time": "2022-01-11T15:45:27.426Z"
   },
   {
    "duration": 10,
    "start_time": "2022-01-11T15:45:27.432Z"
   },
   {
    "duration": 4,
    "start_time": "2022-01-11T15:45:27.444Z"
   },
   {
    "duration": 41,
    "start_time": "2022-01-11T15:45:27.450Z"
   },
   {
    "duration": 3,
    "start_time": "2022-01-11T15:45:27.493Z"
   },
   {
    "duration": 1353,
    "start_time": "2022-01-13T16:18:33.292Z"
   },
   {
    "duration": 24,
    "start_time": "2022-01-13T16:18:34.647Z"
   },
   {
    "duration": 36,
    "start_time": "2022-01-13T16:18:34.673Z"
   },
   {
    "duration": 7,
    "start_time": "2022-01-13T16:18:34.711Z"
   },
   {
    "duration": 243,
    "start_time": "2022-01-13T16:18:34.719Z"
   },
   {
    "duration": 20,
    "start_time": "2022-01-13T16:18:34.964Z"
   },
   {
    "duration": 142,
    "start_time": "2022-01-13T16:18:34.986Z"
   },
   {
    "duration": 17,
    "start_time": "2022-01-13T16:18:35.129Z"
   },
   {
    "duration": 222,
    "start_time": "2022-01-13T16:18:35.149Z"
   },
   {
    "duration": 17,
    "start_time": "2022-01-13T16:18:35.373Z"
   },
   {
    "duration": 13,
    "start_time": "2022-01-13T16:18:35.392Z"
   },
   {
    "duration": 6,
    "start_time": "2022-01-13T16:18:35.407Z"
   },
   {
    "duration": 8,
    "start_time": "2022-01-13T16:18:35.414Z"
   },
   {
    "duration": 39,
    "start_time": "2022-01-13T16:18:35.424Z"
   },
   {
    "duration": 5,
    "start_time": "2022-01-13T16:18:35.464Z"
   },
   {
    "duration": 9,
    "start_time": "2022-01-13T16:18:35.471Z"
   },
   {
    "duration": 7,
    "start_time": "2022-01-13T16:18:35.481Z"
   },
   {
    "duration": 6,
    "start_time": "2022-01-13T16:18:35.489Z"
   },
   {
    "duration": 9,
    "start_time": "2022-01-13T16:18:35.497Z"
   },
   {
    "duration": 11,
    "start_time": "2022-01-13T16:18:35.507Z"
   },
   {
    "duration": 304,
    "start_time": "2022-01-13T16:18:35.520Z"
   },
   {
    "duration": 7,
    "start_time": "2022-01-13T16:18:35.826Z"
   },
   {
    "duration": 31,
    "start_time": "2022-01-13T16:18:35.835Z"
   },
   {
    "duration": 6,
    "start_time": "2022-01-13T16:18:35.867Z"
   },
   {
    "duration": 52,
    "start_time": "2022-01-13T16:18:35.875Z"
   },
   {
    "duration": 34,
    "start_time": "2022-01-13T16:18:35.929Z"
   },
   {
    "duration": 121,
    "start_time": "2022-01-13T16:18:35.968Z"
   },
   {
    "duration": 6,
    "start_time": "2022-01-13T16:18:36.092Z"
   },
   {
    "duration": 31,
    "start_time": "2022-01-13T16:18:36.100Z"
   },
   {
    "duration": 32,
    "start_time": "2022-01-13T16:18:36.133Z"
   },
   {
    "duration": 142,
    "start_time": "2022-01-13T16:18:36.167Z"
   },
   {
    "duration": 8,
    "start_time": "2022-01-13T16:18:36.310Z"
   },
   {
    "duration": 398,
    "start_time": "2022-01-13T16:18:36.320Z"
   },
   {
    "duration": 46,
    "start_time": "2022-01-13T16:18:36.720Z"
   },
   {
    "duration": 15,
    "start_time": "2022-01-13T16:18:36.767Z"
   },
   {
    "duration": 13,
    "start_time": "2022-01-13T16:18:36.784Z"
   },
   {
    "duration": 5,
    "start_time": "2022-01-13T16:18:36.799Z"
   },
   {
    "duration": 9,
    "start_time": "2022-01-13T16:18:36.805Z"
   },
   {
    "duration": 64,
    "start_time": "2022-01-13T16:18:36.816Z"
   },
   {
    "duration": 8,
    "start_time": "2022-01-13T16:18:36.882Z"
   },
   {
    "duration": 18,
    "start_time": "2022-01-13T16:18:36.892Z"
   },
   {
    "duration": 8,
    "start_time": "2022-01-13T16:18:36.912Z"
   },
   {
    "duration": 48,
    "start_time": "2022-01-13T16:18:36.922Z"
   },
   {
    "duration": 8,
    "start_time": "2022-01-13T16:18:36.972Z"
   },
   {
    "duration": 35,
    "start_time": "2022-01-13T16:18:36.982Z"
   },
   {
    "duration": 7,
    "start_time": "2022-01-13T16:18:37.019Z"
   },
   {
    "duration": 42,
    "start_time": "2022-01-13T16:18:37.028Z"
   },
   {
    "duration": 12,
    "start_time": "2022-01-13T16:18:37.072Z"
   },
   {
    "duration": 12,
    "start_time": "2022-01-13T16:18:37.086Z"
   },
   {
    "duration": 13,
    "start_time": "2022-01-13T16:18:37.100Z"
   },
   {
    "duration": 47,
    "start_time": "2022-01-13T16:18:37.115Z"
   },
   {
    "duration": 6,
    "start_time": "2022-01-13T16:18:37.164Z"
   },
   {
    "duration": 15,
    "start_time": "2022-01-13T16:18:37.172Z"
   },
   {
    "duration": 149,
    "start_time": "2022-01-13T16:18:37.189Z"
   },
   {
    "duration": 40,
    "start_time": "2022-01-13T16:18:37.340Z"
   },
   {
    "duration": 5,
    "start_time": "2022-01-13T16:18:37.383Z"
   },
   {
    "duration": 280,
    "start_time": "2022-01-13T16:18:37.390Z"
   },
   {
    "duration": 6,
    "start_time": "2022-01-13T16:18:37.672Z"
   },
   {
    "duration": 265,
    "start_time": "2022-01-13T16:18:37.680Z"
   },
   {
    "duration": 15,
    "start_time": "2022-01-13T16:18:37.948Z"
   },
   {
    "duration": 269,
    "start_time": "2022-01-13T16:18:37.965Z"
   },
   {
    "duration": 14,
    "start_time": "2022-01-13T16:18:38.236Z"
   },
   {
    "duration": 33,
    "start_time": "2022-01-13T16:18:38.261Z"
   },
   {
    "duration": 5,
    "start_time": "2022-01-13T16:18:38.296Z"
   },
   {
    "duration": 280,
    "start_time": "2022-01-13T16:18:38.303Z"
   },
   {
    "duration": 7,
    "start_time": "2022-01-13T16:18:38.585Z"
   },
   {
    "duration": 5,
    "start_time": "2022-01-13T16:18:38.594Z"
   },
   {
    "duration": 272,
    "start_time": "2022-01-13T16:18:38.601Z"
   },
   {
    "duration": 8,
    "start_time": "2022-01-13T16:18:38.874Z"
   },
   {
    "duration": 6,
    "start_time": "2022-01-13T16:18:38.883Z"
   },
   {
    "duration": 8,
    "start_time": "2022-01-13T16:18:38.890Z"
   },
   {
    "duration": 315,
    "start_time": "2022-01-13T16:18:38.900Z"
   },
   {
    "duration": 7,
    "start_time": "2022-01-13T16:18:39.217Z"
   },
   {
    "duration": 4,
    "start_time": "2022-01-13T16:18:39.226Z"
   },
   {
    "duration": 6,
    "start_time": "2022-01-13T16:18:39.231Z"
   },
   {
    "duration": 23,
    "start_time": "2022-01-13T16:18:39.239Z"
   },
   {
    "duration": 8,
    "start_time": "2022-01-13T16:18:39.263Z"
   },
   {
    "duration": 12,
    "start_time": "2022-01-13T16:18:39.273Z"
   },
   {
    "duration": 10,
    "start_time": "2022-01-13T16:18:39.286Z"
   },
   {
    "duration": 6,
    "start_time": "2022-01-13T16:18:39.298Z"
   },
   {
    "duration": 9,
    "start_time": "2022-01-13T16:18:39.310Z"
   },
   {
    "duration": 5,
    "start_time": "2022-01-13T16:18:39.321Z"
   },
   {
    "duration": 37,
    "start_time": "2022-01-13T16:18:39.328Z"
   },
   {
    "duration": 5,
    "start_time": "2022-01-13T16:18:39.367Z"
   },
   {
    "duration": 147,
    "start_time": "2022-01-13T17:03:21.765Z"
   },
   {
    "duration": 1126,
    "start_time": "2022-07-14T16:57:19.094Z"
   },
   {
    "duration": 72,
    "start_time": "2022-07-14T16:57:20.222Z"
   },
   {
    "duration": 78,
    "start_time": "2022-07-14T16:57:20.295Z"
   },
   {
    "duration": 10,
    "start_time": "2022-07-14T16:57:20.376Z"
   },
   {
    "duration": 239,
    "start_time": "2022-07-14T16:57:20.387Z"
   },
   {
    "duration": 21,
    "start_time": "2022-07-14T16:57:20.635Z"
   },
   {
    "duration": 288,
    "start_time": "2022-07-14T16:57:20.658Z"
   },
   {
    "duration": 16,
    "start_time": "2022-07-14T16:57:20.947Z"
   },
   {
    "duration": 324,
    "start_time": "2022-07-14T16:57:20.964Z"
   },
   {
    "duration": 22,
    "start_time": "2022-07-14T16:57:21.290Z"
   },
   {
    "duration": 20,
    "start_time": "2022-07-14T16:57:21.313Z"
   },
   {
    "duration": 21,
    "start_time": "2022-07-14T16:57:21.335Z"
   },
   {
    "duration": 12,
    "start_time": "2022-07-14T16:57:21.358Z"
   },
   {
    "duration": 20,
    "start_time": "2022-07-14T16:57:21.372Z"
   },
   {
    "duration": 29,
    "start_time": "2022-07-14T16:57:21.394Z"
   },
   {
    "duration": 9,
    "start_time": "2022-07-14T16:57:21.425Z"
   },
   {
    "duration": 7,
    "start_time": "2022-07-14T16:57:21.436Z"
   },
   {
    "duration": 11,
    "start_time": "2022-07-14T16:57:21.444Z"
   },
   {
    "duration": 10,
    "start_time": "2022-07-14T16:57:21.457Z"
   },
   {
    "duration": 14,
    "start_time": "2022-07-14T16:57:21.469Z"
   },
   {
    "duration": 269,
    "start_time": "2022-07-14T16:57:21.484Z"
   },
   {
    "duration": 7,
    "start_time": "2022-07-14T16:57:21.756Z"
   },
   {
    "duration": 22,
    "start_time": "2022-07-14T16:57:21.765Z"
   },
   {
    "duration": 22,
    "start_time": "2022-07-14T16:57:21.789Z"
   },
   {
    "duration": 58,
    "start_time": "2022-07-14T16:57:21.813Z"
   },
   {
    "duration": 17,
    "start_time": "2022-07-14T16:57:21.872Z"
   },
   {
    "duration": 103,
    "start_time": "2022-07-14T16:57:21.891Z"
   },
   {
    "duration": 14,
    "start_time": "2022-07-14T16:57:22.004Z"
   },
   {
    "duration": 40,
    "start_time": "2022-07-14T16:57:22.020Z"
   },
   {
    "duration": 13,
    "start_time": "2022-07-14T16:57:22.062Z"
   },
   {
    "duration": 118,
    "start_time": "2022-07-14T16:57:22.077Z"
   },
   {
    "duration": 11,
    "start_time": "2022-07-14T16:57:22.201Z"
   },
   {
    "duration": 405,
    "start_time": "2022-07-14T16:57:22.214Z"
   },
   {
    "duration": 37,
    "start_time": "2022-07-14T16:57:22.621Z"
   },
   {
    "duration": 13,
    "start_time": "2022-07-14T16:57:22.659Z"
   },
   {
    "duration": 36,
    "start_time": "2022-07-14T16:57:22.674Z"
   },
   {
    "duration": 7,
    "start_time": "2022-07-14T16:57:22.712Z"
   },
   {
    "duration": 15,
    "start_time": "2022-07-14T16:57:22.721Z"
   },
   {
    "duration": 23,
    "start_time": "2022-07-14T16:57:22.738Z"
   },
   {
    "duration": 8,
    "start_time": "2022-07-14T16:57:22.762Z"
   },
   {
    "duration": 33,
    "start_time": "2022-07-14T16:57:22.772Z"
   },
   {
    "duration": 8,
    "start_time": "2022-07-14T16:57:22.807Z"
   },
   {
    "duration": 21,
    "start_time": "2022-07-14T16:57:22.816Z"
   },
   {
    "duration": 7,
    "start_time": "2022-07-14T16:57:22.839Z"
   },
   {
    "duration": 39,
    "start_time": "2022-07-14T16:57:22.848Z"
   },
   {
    "duration": 14,
    "start_time": "2022-07-14T16:57:22.889Z"
   },
   {
    "duration": 18,
    "start_time": "2022-07-14T16:57:22.912Z"
   },
   {
    "duration": 15,
    "start_time": "2022-07-14T16:57:22.931Z"
   },
   {
    "duration": 18,
    "start_time": "2022-07-14T16:57:22.947Z"
   },
   {
    "duration": 50,
    "start_time": "2022-07-14T16:57:22.967Z"
   },
   {
    "duration": 14,
    "start_time": "2022-07-14T16:57:23.018Z"
   },
   {
    "duration": 24,
    "start_time": "2022-07-14T16:57:23.034Z"
   },
   {
    "duration": 17,
    "start_time": "2022-07-14T16:57:23.060Z"
   },
   {
    "duration": 100,
    "start_time": "2022-07-14T16:57:23.078Z"
   },
   {
    "duration": 43,
    "start_time": "2022-07-14T16:57:23.180Z"
   },
   {
    "duration": 5,
    "start_time": "2022-07-14T16:57:23.225Z"
   },
   {
    "duration": 233,
    "start_time": "2022-07-14T16:57:23.231Z"
   },
   {
    "duration": 6,
    "start_time": "2022-07-14T16:57:23.466Z"
   },
   {
    "duration": 236,
    "start_time": "2022-07-14T16:57:23.475Z"
   },
   {
    "duration": 5,
    "start_time": "2022-07-14T16:57:23.713Z"
   },
   {
    "duration": 215,
    "start_time": "2022-07-14T16:57:23.720Z"
   },
   {
    "duration": 7,
    "start_time": "2022-07-14T16:57:23.937Z"
   },
   {
    "duration": 63,
    "start_time": "2022-07-14T16:57:23.946Z"
   },
   {
    "duration": 8,
    "start_time": "2022-07-14T16:57:24.014Z"
   },
   {
    "duration": 276,
    "start_time": "2022-07-14T16:57:24.024Z"
   },
   {
    "duration": 9,
    "start_time": "2022-07-14T16:57:24.313Z"
   },
   {
    "duration": 12,
    "start_time": "2022-07-14T16:57:24.323Z"
   },
   {
    "duration": 208,
    "start_time": "2022-07-14T16:57:24.336Z"
   },
   {
    "duration": 8,
    "start_time": "2022-07-14T16:57:24.546Z"
   },
   {
    "duration": 16,
    "start_time": "2022-07-14T16:57:24.555Z"
   },
   {
    "duration": 34,
    "start_time": "2022-07-14T16:57:24.573Z"
   },
   {
    "duration": 257,
    "start_time": "2022-07-14T16:57:24.612Z"
   },
   {
    "duration": 7,
    "start_time": "2022-07-14T16:57:24.871Z"
   },
   {
    "duration": 36,
    "start_time": "2022-07-14T16:57:24.879Z"
   },
   {
    "duration": 21,
    "start_time": "2022-07-14T16:57:24.916Z"
   },
   {
    "duration": 8,
    "start_time": "2022-07-14T16:57:24.938Z"
   },
   {
    "duration": 10,
    "start_time": "2022-07-14T16:57:24.948Z"
   },
   {
    "duration": 13,
    "start_time": "2022-07-14T16:57:24.959Z"
   },
   {
    "duration": 12,
    "start_time": "2022-07-14T16:57:24.973Z"
   },
   {
    "duration": 31,
    "start_time": "2022-07-14T16:57:24.987Z"
   },
   {
    "duration": 12,
    "start_time": "2022-07-14T16:57:25.019Z"
   },
   {
    "duration": 21,
    "start_time": "2022-07-14T16:57:25.036Z"
   },
   {
    "duration": 17,
    "start_time": "2022-07-14T16:57:25.058Z"
   },
   {
    "duration": 10,
    "start_time": "2022-07-14T16:57:25.077Z"
   },
   {
    "duration": 3,
    "start_time": "2022-07-14T16:58:44.922Z"
   },
   {
    "duration": 28,
    "start_time": "2022-07-14T16:58:44.938Z"
   },
   {
    "duration": 39,
    "start_time": "2022-07-14T16:58:44.968Z"
   },
   {
    "duration": 11,
    "start_time": "2022-07-14T16:58:45.012Z"
   },
   {
    "duration": 177,
    "start_time": "2022-07-14T16:58:45.025Z"
   },
   {
    "duration": 26,
    "start_time": "2022-07-14T16:58:45.207Z"
   },
   {
    "duration": 113,
    "start_time": "2022-07-14T16:58:45.235Z"
   },
   {
    "duration": 20,
    "start_time": "2022-07-14T16:58:45.349Z"
   },
   {
    "duration": 173,
    "start_time": "2022-07-14T16:58:45.371Z"
   },
   {
    "duration": 24,
    "start_time": "2022-07-14T16:58:45.547Z"
   },
   {
    "duration": 28,
    "start_time": "2022-07-14T16:58:45.573Z"
   },
   {
    "duration": 25,
    "start_time": "2022-07-14T16:58:45.603Z"
   },
   {
    "duration": 17,
    "start_time": "2022-07-14T16:58:45.630Z"
   },
   {
    "duration": 9,
    "start_time": "2022-07-14T16:58:45.648Z"
   },
   {
    "duration": 4,
    "start_time": "2022-07-14T16:58:45.660Z"
   },
   {
    "duration": 10,
    "start_time": "2022-07-14T16:58:45.665Z"
   },
   {
    "duration": 8,
    "start_time": "2022-07-14T16:58:45.676Z"
   },
   {
    "duration": 7,
    "start_time": "2022-07-14T16:58:45.685Z"
   },
   {
    "duration": 10,
    "start_time": "2022-07-14T16:58:45.693Z"
   },
   {
    "duration": 23,
    "start_time": "2022-07-14T16:58:45.704Z"
   },
   {
    "duration": 228,
    "start_time": "2022-07-14T16:58:45.728Z"
   },
   {
    "duration": 7,
    "start_time": "2022-07-14T16:58:45.958Z"
   },
   {
    "duration": 22,
    "start_time": "2022-07-14T16:58:45.966Z"
   },
   {
    "duration": 22,
    "start_time": "2022-07-14T16:58:45.990Z"
   },
   {
    "duration": 58,
    "start_time": "2022-07-14T16:58:46.014Z"
   },
   {
    "duration": 17,
    "start_time": "2022-07-14T16:58:46.074Z"
   },
   {
    "duration": 106,
    "start_time": "2022-07-14T16:58:46.093Z"
   },
   {
    "duration": 15,
    "start_time": "2022-07-14T16:58:46.201Z"
   },
   {
    "duration": 32,
    "start_time": "2022-07-14T16:58:46.218Z"
   },
   {
    "duration": 15,
    "start_time": "2022-07-14T16:58:46.251Z"
   },
   {
    "duration": 127,
    "start_time": "2022-07-14T16:58:46.268Z"
   },
   {
    "duration": 11,
    "start_time": "2022-07-14T16:58:46.401Z"
   },
   {
    "duration": 407,
    "start_time": "2022-07-14T16:58:46.414Z"
   },
   {
    "duration": 37,
    "start_time": "2022-07-14T16:58:46.823Z"
   },
   {
    "duration": 11,
    "start_time": "2022-07-14T16:58:46.862Z"
   },
   {
    "duration": 42,
    "start_time": "2022-07-14T16:58:46.874Z"
   },
   {
    "duration": 6,
    "start_time": "2022-07-14T16:58:46.918Z"
   },
   {
    "duration": 12,
    "start_time": "2022-07-14T16:58:46.925Z"
   },
   {
    "duration": 23,
    "start_time": "2022-07-14T16:58:46.939Z"
   },
   {
    "duration": 9,
    "start_time": "2022-07-14T16:58:46.964Z"
   },
   {
    "duration": 37,
    "start_time": "2022-07-14T16:58:46.974Z"
   },
   {
    "duration": 6,
    "start_time": "2022-07-14T16:58:47.016Z"
   },
   {
    "duration": 34,
    "start_time": "2022-07-14T16:58:47.023Z"
   },
   {
    "duration": 8,
    "start_time": "2022-07-14T16:58:47.058Z"
   },
   {
    "duration": 46,
    "start_time": "2022-07-14T16:58:47.067Z"
   },
   {
    "duration": 6,
    "start_time": "2022-07-14T16:58:47.114Z"
   },
   {
    "duration": 12,
    "start_time": "2022-07-14T16:58:47.122Z"
   },
   {
    "duration": 9,
    "start_time": "2022-07-14T16:58:47.136Z"
   },
   {
    "duration": 16,
    "start_time": "2022-07-14T16:58:47.147Z"
   },
   {
    "duration": 13,
    "start_time": "2022-07-14T16:58:47.165Z"
   },
   {
    "duration": 31,
    "start_time": "2022-07-14T16:58:47.180Z"
   },
   {
    "duration": 8,
    "start_time": "2022-07-14T16:58:47.212Z"
   },
   {
    "duration": 15,
    "start_time": "2022-07-14T16:58:47.221Z"
   },
   {
    "duration": 84,
    "start_time": "2022-07-14T16:58:47.238Z"
   },
   {
    "duration": 36,
    "start_time": "2022-07-14T16:58:47.323Z"
   },
   {
    "duration": 5,
    "start_time": "2022-07-14T16:58:47.361Z"
   },
   {
    "duration": 224,
    "start_time": "2022-07-14T16:58:47.367Z"
   },
   {
    "duration": 22,
    "start_time": "2022-07-14T16:58:47.593Z"
   },
   {
    "duration": 205,
    "start_time": "2022-07-14T16:58:47.616Z"
   },
   {
    "duration": 5,
    "start_time": "2022-07-14T16:58:47.822Z"
   },
   {
    "duration": 208,
    "start_time": "2022-07-14T16:58:47.828Z"
   },
   {
    "duration": 7,
    "start_time": "2022-07-14T16:58:48.038Z"
   },
   {
    "duration": 39,
    "start_time": "2022-07-14T16:58:48.047Z"
   },
   {
    "duration": 20,
    "start_time": "2022-07-14T16:58:48.088Z"
   },
   {
    "duration": 237,
    "start_time": "2022-07-14T16:58:48.110Z"
   },
   {
    "duration": 7,
    "start_time": "2022-07-14T16:58:48.349Z"
   },
   {
    "duration": 7,
    "start_time": "2022-07-14T16:58:48.358Z"
   },
   {
    "duration": 218,
    "start_time": "2022-07-14T16:58:48.367Z"
   },
   {
    "duration": 18,
    "start_time": "2022-07-14T16:58:48.587Z"
   },
   {
    "duration": 6,
    "start_time": "2022-07-14T16:58:48.608Z"
   },
   {
    "duration": 10,
    "start_time": "2022-07-14T16:58:48.616Z"
   },
   {
    "duration": 184,
    "start_time": "2022-07-14T16:58:48.628Z"
   },
   {
    "duration": 7,
    "start_time": "2022-07-14T16:58:48.814Z"
   },
   {
    "duration": 6,
    "start_time": "2022-07-14T16:58:48.823Z"
   },
   {
    "duration": 6,
    "start_time": "2022-07-14T16:58:48.830Z"
   },
   {
    "duration": 6,
    "start_time": "2022-07-14T16:58:48.837Z"
   },
   {
    "duration": 6,
    "start_time": "2022-07-14T16:58:48.844Z"
   },
   {
    "duration": 7,
    "start_time": "2022-07-14T16:58:48.851Z"
   },
   {
    "duration": 5,
    "start_time": "2022-07-14T16:58:48.860Z"
   },
   {
    "duration": 9,
    "start_time": "2022-07-14T16:58:48.867Z"
   },
   {
    "duration": 45,
    "start_time": "2022-07-14T16:58:48.877Z"
   },
   {
    "duration": 8,
    "start_time": "2022-07-14T16:58:48.923Z"
   },
   {
    "duration": 5,
    "start_time": "2022-07-14T16:58:48.933Z"
   },
   {
    "duration": 10,
    "start_time": "2022-07-14T16:58:48.939Z"
   }
  ],
  "kernelspec": {
   "display_name": "Python 3 (ipykernel)",
   "language": "python",
   "name": "python3"
  },
  "language_info": {
   "codemirror_mode": {
    "name": "ipython",
    "version": 3
   },
   "file_extension": ".py",
   "mimetype": "text/x-python",
   "name": "python",
   "nbconvert_exporter": "python",
   "pygments_lexer": "ipython3",
   "version": "3.9.5"
  },
  "toc": {
   "base_numbering": 1,
   "nav_menu": {},
   "number_sections": true,
   "sideBar": true,
   "skip_h1_title": true,
   "title_cell": "Содержание",
   "title_sidebar": "Contents",
   "toc_cell": true,
   "toc_position": {
    "height": "calc(100% - 180px)",
    "left": "10px",
    "top": "150px",
    "width": "165px"
   },
   "toc_section_display": true,
   "toc_window_display": false
  }
 },
 "nbformat": 4,
 "nbformat_minor": 2
}
