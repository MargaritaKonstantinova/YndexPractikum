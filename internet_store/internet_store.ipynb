{
 "cells": [
  {
   "cell_type": "markdown",
   "metadata": {
    "toc": true
   },
   "source": [
    "<h1>Содержание<span class=\"tocSkip\"></span></h1>\n",
    "<div class=\"toc\"><ul class=\"toc-item\"><li><span><a href=\"#Изучение-данных-из-файла\" data-toc-modified-id=\"Изучение-данных-из-файла-1\"><span class=\"toc-item-num\">1&nbsp;&nbsp;</span>Изучение данных из файла</a></span><ul class=\"toc-item\"><li><span><a href=\"#Изучение-данных-из-файла-hypothesis\" data-toc-modified-id=\"Изучение-данных-из-файла-hypothesis-1.1\"><span class=\"toc-item-num\">1.1&nbsp;&nbsp;</span>Изучение данных из файла hypothesis</a></span><ul class=\"toc-item\"><li><span><a href=\"#Вывод\" data-toc-modified-id=\"Вывод-1.1.1\"><span class=\"toc-item-num\">1.1.1&nbsp;&nbsp;</span>Вывод</a></span></li></ul></li><li><span><a href=\"#Датасет-orders\" data-toc-modified-id=\"Датасет-orders-1.2\"><span class=\"toc-item-num\">1.2&nbsp;&nbsp;</span>Датасет orders</a></span><ul class=\"toc-item\"><li><span><a href=\"#Вывод\" data-toc-modified-id=\"Вывод-1.2.1\"><span class=\"toc-item-num\">1.2.1&nbsp;&nbsp;</span>Вывод</a></span></li></ul></li><li><span><a href=\"#Датасет-visitors\" data-toc-modified-id=\"Датасет-visitors-1.3\"><span class=\"toc-item-num\">1.3&nbsp;&nbsp;</span>Датасет visitors</a></span><ul class=\"toc-item\"><li><span><a href=\"#Вывод\" data-toc-modified-id=\"Вывод-1.3.1\"><span class=\"toc-item-num\">1.3.1&nbsp;&nbsp;</span>Вывод</a></span></li></ul></li><li><span><a href=\"#Вывод\" data-toc-modified-id=\"Вывод-1.4\"><span class=\"toc-item-num\">1.4&nbsp;&nbsp;</span>Вывод</a></span></li></ul></li><li><span><a href=\"#Приоритизация-гипотез\" data-toc-modified-id=\"Приоритизация-гипотез-2\"><span class=\"toc-item-num\">2&nbsp;&nbsp;</span>Приоритизация гипотез</a></span><ul class=\"toc-item\"><li><span><a href=\"#Применить--фреймворк-ICE-для-приоритизации-гипотез.Отсортировать-по-убыванию-приоритета.\" data-toc-modified-id=\"Применить--фреймворк-ICE-для-приоритизации-гипотез.Отсортировать-по-убыванию-приоритета.-2.1\"><span class=\"toc-item-num\">2.1&nbsp;&nbsp;</span>Применить  фреймворк ICE для приоритизации гипотез.Отсортировать по убыванию приоритета.</a></span></li><li><span><a href=\"#Вывод\" data-toc-modified-id=\"Вывод-2.2\"><span class=\"toc-item-num\">2.2&nbsp;&nbsp;</span>Вывод</a></span></li><li><span><a href=\"#Применить--фреймворк-RICE-для-приоритизации-гипотез.Отсортировать-по-убыванию-приоритета.\" data-toc-modified-id=\"Применить--фреймворк-RICE-для-приоритизации-гипотез.Отсортировать-по-убыванию-приоритета.-2.3\"><span class=\"toc-item-num\">2.3&nbsp;&nbsp;</span>Применить  фреймворк RICE для приоритизации гипотез.Отсортировать по убыванию приоритета.</a></span></li><li><span><a href=\"#Вывод\" data-toc-modified-id=\"Вывод-2.4\"><span class=\"toc-item-num\">2.4&nbsp;&nbsp;</span>Вывод</a></span></li><li><span><a href=\"#Указать,-как-изменилась-приоритизация-гипотез-при-применении-RICE-вместо-ICE\" data-toc-modified-id=\"Указать,-как-изменилась-приоритизация-гипотез-при-применении-RICE-вместо-ICE-2.5\"><span class=\"toc-item-num\">2.5&nbsp;&nbsp;</span>Указать, как изменилась приоритизация гипотез при применении RICE вместо ICE</a></span></li><li><span><a href=\"#Вывод\" data-toc-modified-id=\"Вывод-2.6\"><span class=\"toc-item-num\">2.6&nbsp;&nbsp;</span>Вывод</a></span></li></ul></li><li><span><a href=\"#Анализ-А/В-теста\" data-toc-modified-id=\"Анализ-А/В-теста-3\"><span class=\"toc-item-num\">3&nbsp;&nbsp;</span>Анализ А/В теста</a></span><ul class=\"toc-item\"><li><span><a href=\"#Построить-график-кумулятивной-выручки-по-группам\" data-toc-modified-id=\"Построить-график-кумулятивной-выручки-по-группам-3.1\"><span class=\"toc-item-num\">3.1&nbsp;&nbsp;</span>Построить график кумулятивной выручки по группам</a></span><ul class=\"toc-item\"><li><span><a href=\"#Вывод\" data-toc-modified-id=\"Вывод-3.1.1\"><span class=\"toc-item-num\">3.1.1&nbsp;&nbsp;</span>Вывод</a></span></li></ul></li><li><span><a href=\"#Построить-график-кумулятивного-среднего-чека-по-группам\" data-toc-modified-id=\"Построить-график-кумулятивного-среднего-чека-по-группам-3.2\"><span class=\"toc-item-num\">3.2&nbsp;&nbsp;</span>Построить график кумулятивного среднего чека по группам</a></span><ul class=\"toc-item\"><li><span><a href=\"#Вывод\" data-toc-modified-id=\"Вывод-3.2.1\"><span class=\"toc-item-num\">3.2.1&nbsp;&nbsp;</span>Вывод</a></span></li></ul></li><li><span><a href=\"#Построить-график-относительного-изменения-кумулятивного-среднего-чека-группы-В-к-группе-А\" data-toc-modified-id=\"Построить-график-относительного-изменения-кумулятивного-среднего-чека-группы-В-к-группе-А-3.3\"><span class=\"toc-item-num\">3.3&nbsp;&nbsp;</span>Построить график относительного изменения кумулятивного среднего чека группы В к группе А</a></span><ul class=\"toc-item\"><li><span><a href=\"#Вывод\" data-toc-modified-id=\"Вывод-3.3.1\"><span class=\"toc-item-num\">3.3.1&nbsp;&nbsp;</span>Вывод</a></span></li></ul></li><li><span><a href=\"#Построить-график-кумулятивной-конверсии-по-группам\" data-toc-modified-id=\"Построить-график-кумулятивной-конверсии-по-группам-3.4\"><span class=\"toc-item-num\">3.4&nbsp;&nbsp;</span>Построить график кумулятивной конверсии по группам</a></span><ul class=\"toc-item\"><li><span><a href=\"#Вывод\" data-toc-modified-id=\"Вывод-3.4.1\"><span class=\"toc-item-num\">3.4.1&nbsp;&nbsp;</span>Вывод</a></span></li></ul></li><li><span><a href=\"#Построить-график-относительного-изменения-кумулятивной-конверсии-группы-В-к-группе-А\" data-toc-modified-id=\"Построить-график-относительного-изменения-кумулятивной-конверсии-группы-В-к-группе-А-3.5\"><span class=\"toc-item-num\">3.5&nbsp;&nbsp;</span>Построить график относительного изменения кумулятивной конверсии группы В к группе А</a></span><ul class=\"toc-item\"><li><span><a href=\"#Вывод\" data-toc-modified-id=\"Вывод-3.5.1\"><span class=\"toc-item-num\">3.5.1&nbsp;&nbsp;</span>Вывод</a></span></li></ul></li><li><span><a href=\"#Построить-точечный-график-количества-заказов-по-пользователям\" data-toc-modified-id=\"Построить-точечный-график-количества-заказов-по-пользователям-3.6\"><span class=\"toc-item-num\">3.6&nbsp;&nbsp;</span>Построить точечный график количества заказов по пользователям</a></span><ul class=\"toc-item\"><li><span><a href=\"#Вывод\" data-toc-modified-id=\"Вывод-3.6.1\"><span class=\"toc-item-num\">3.6.1&nbsp;&nbsp;</span>Вывод</a></span></li></ul></li><li><span><a href=\"#Посчитать-95-й-и-99-й-перцентили-количества-заказов-на-пользователя.-Выбрать-границу-для-определения-аномальных-заказов\" data-toc-modified-id=\"Посчитать-95-й-и-99-й-перцентили-количества-заказов-на-пользователя.-Выбрать-границу-для-определения-аномальных-заказов-3.7\"><span class=\"toc-item-num\">3.7&nbsp;&nbsp;</span>Посчитать 95-й и 99-й перцентили количества заказов на пользователя. Выбрать границу для определения аномальных заказов</a></span><ul class=\"toc-item\"><li><span><a href=\"#Вывод\" data-toc-modified-id=\"Вывод-3.7.1\"><span class=\"toc-item-num\">3.7.1&nbsp;&nbsp;</span>Вывод</a></span></li></ul></li><li><span><a href=\"#Построить-точечный-график-стоимости-заказов.\" data-toc-modified-id=\"Построить-точечный-график-стоимости-заказов.-3.8\"><span class=\"toc-item-num\">3.8&nbsp;&nbsp;</span>Построить точечный график стоимости заказов.</a></span><ul class=\"toc-item\"><li><span><a href=\"#Вывод\" data-toc-modified-id=\"Вывод-3.8.1\"><span class=\"toc-item-num\">3.8.1&nbsp;&nbsp;</span>Вывод</a></span></li></ul></li><li><span><a href=\"#Посчитать-95-й-и-99-й-перцентили-стоимости-заказов.-Выбрать-границу-для-определения-аномальных-заказов\" data-toc-modified-id=\"Посчитать-95-й-и-99-й-перцентили-стоимости-заказов.-Выбрать-границу-для-определения-аномальных-заказов-3.9\"><span class=\"toc-item-num\">3.9&nbsp;&nbsp;</span>Посчитать 95-й и 99-й перцентили стоимости заказов. Выбрать границу для определения аномальных заказов</a></span><ul class=\"toc-item\"><li><span><a href=\"#Вывод\" data-toc-modified-id=\"Вывод-3.9.1\"><span class=\"toc-item-num\">3.9.1&nbsp;&nbsp;</span>Вывод</a></span></li></ul></li><li><span><a href=\"#Посчитать-статистическую-значимость-различий-в-конверсии-между-группами-по-&quot;сырым&quot;-данным.\" data-toc-modified-id=\"Посчитать-статистическую-значимость-различий-в-конверсии-между-группами-по-&quot;сырым&quot;-данным.-3.10\"><span class=\"toc-item-num\">3.10&nbsp;&nbsp;</span>Посчитать статистическую значимость различий в конверсии между группами по \"сырым\" данным.</a></span><ul class=\"toc-item\"><li><span><a href=\"#Вывод\" data-toc-modified-id=\"Вывод-3.10.1\"><span class=\"toc-item-num\">3.10.1&nbsp;&nbsp;</span>Вывод</a></span></li></ul></li><li><span><a href=\"#Посчитать-статистическую-значимость-различий-в-среднем-чеке-заказа-между-группами-по-&quot;сырым&quot;-данным.\" data-toc-modified-id=\"Посчитать-статистическую-значимость-различий-в-среднем-чеке-заказа-между-группами-по-&quot;сырым&quot;-данным.-3.11\"><span class=\"toc-item-num\">3.11&nbsp;&nbsp;</span>Посчитать статистическую значимость различий в среднем чеке заказа между группами по \"сырым\" данным.</a></span><ul class=\"toc-item\"><li><span><a href=\"#Вывод\" data-toc-modified-id=\"Вывод-3.11.1\"><span class=\"toc-item-num\">3.11.1&nbsp;&nbsp;</span>Вывод</a></span></li></ul></li><li><span><a href=\"#Посчитать-статистическую-значимость-различий-в-конверсии-между-группами-по-&quot;очищенным&quot;-данным\" data-toc-modified-id=\"Посчитать-статистическую-значимость-различий-в-конверсии-между-группами-по-&quot;очищенным&quot;-данным-3.12\"><span class=\"toc-item-num\">3.12&nbsp;&nbsp;</span>Посчитать статистическую значимость различий в конверсии между группами по \"очищенным\" данным</a></span><ul class=\"toc-item\"><li><span><a href=\"#Вывод\" data-toc-modified-id=\"Вывод-3.12.1\"><span class=\"toc-item-num\">3.12.1&nbsp;&nbsp;</span>Вывод</a></span></li></ul></li><li><span><a href=\"#Посчитать-статистическую-значимость-различий-в-среднем-чеке-заказа-между-группами-по-&quot;очищенным&quot;-данным.\" data-toc-modified-id=\"Посчитать-статистическую-значимость-различий-в-среднем-чеке-заказа-между-группами-по-&quot;очищенным&quot;-данным.-3.13\"><span class=\"toc-item-num\">3.13&nbsp;&nbsp;</span>Посчитать статистическую значимость различий в среднем чеке заказа между группами по \"очищенным\" данным.</a></span><ul class=\"toc-item\"><li><span><a href=\"#Вывод\" data-toc-modified-id=\"Вывод-3.13.1\"><span class=\"toc-item-num\">3.13.1&nbsp;&nbsp;</span>Вывод</a></span></li></ul></li><li><span><a href=\"#Принять-решения-по-результатам-теста\" data-toc-modified-id=\"Принять-решения-по-результатам-теста-3.14\"><span class=\"toc-item-num\">3.14&nbsp;&nbsp;</span>Принять решения по результатам теста</a></span><ul class=\"toc-item\"><li><span><a href=\"#Вывод\" data-toc-modified-id=\"Вывод-3.14.1\"><span class=\"toc-item-num\">3.14.1&nbsp;&nbsp;</span>Вывод</a></span></li></ul></li><li><span><a href=\"#Вывод\" data-toc-modified-id=\"Вывод-3.15\"><span class=\"toc-item-num\">3.15&nbsp;&nbsp;</span>Вывод</a></span></li></ul></li><li><span><a href=\"#Общий-вывод\" data-toc-modified-id=\"Общий-вывод-4\"><span class=\"toc-item-num\">4&nbsp;&nbsp;</span>Общий вывод</a></span></li></ul></div>"
   ]
  },
  {
   "cell_type": "markdown",
   "metadata": {},
   "source": [
    "# Отдел Аналитики крупного интернет магазина.\n",
    "Вместе с отделом маркетинга подготовлен список гипотез для увеличения выручки.\n",
    "Цель приоритизировать гипотезы, запустить A/B тест и проанализировать результаты"
   ]
  },
  {
   "cell_type": "markdown",
   "metadata": {},
   "source": [
    "## Изучение данных из файла"
   ]
  },
  {
   "cell_type": "code",
   "execution_count": 1,
   "metadata": {},
   "outputs": [],
   "source": [
    "import pandas as pd\n",
    "from IPython.display import display\n",
    "import numpy as np\n",
    "import scipy.stats as sps\n",
    "import matplotlib.pyplot as plt\n",
    "import seaborn as sns\n",
    "import datetime as dt\n",
    "import warnings\n",
    "warnings.filterwarnings('ignore')"
   ]
  },
  {
   "cell_type": "markdown",
   "metadata": {},
   "source": [
    "### Изучение данных из файла hypothesis"
   ]
  },
  {
   "cell_type": "code",
   "execution_count": 2,
   "metadata": {},
   "outputs": [
    {
     "data": {
      "text/html": [
       "<div>\n",
       "<style scoped>\n",
       "    .dataframe tbody tr th:only-of-type {\n",
       "        vertical-align: middle;\n",
       "    }\n",
       "\n",
       "    .dataframe tbody tr th {\n",
       "        vertical-align: top;\n",
       "    }\n",
       "\n",
       "    .dataframe thead th {\n",
       "        text-align: right;\n",
       "    }\n",
       "</style>\n",
       "<table border=\"1\" class=\"dataframe\">\n",
       "  <thead>\n",
       "    <tr style=\"text-align: right;\">\n",
       "      <th></th>\n",
       "      <th>Hypothesis</th>\n",
       "      <th>Reach</th>\n",
       "      <th>Impact</th>\n",
       "      <th>Confidence</th>\n",
       "      <th>Efforts</th>\n",
       "    </tr>\n",
       "  </thead>\n",
       "  <tbody>\n",
       "    <tr>\n",
       "      <th>0</th>\n",
       "      <td>Добавить два новых канала привлечения трафика, что позволит привлекать на 30% больше пользователей</td>\n",
       "      <td>3</td>\n",
       "      <td>10</td>\n",
       "      <td>8</td>\n",
       "      <td>6</td>\n",
       "    </tr>\n",
       "    <tr>\n",
       "      <th>1</th>\n",
       "      <td>Запустить собственную службу доставки, что сократит срок доставки заказов</td>\n",
       "      <td>2</td>\n",
       "      <td>5</td>\n",
       "      <td>4</td>\n",
       "      <td>10</td>\n",
       "    </tr>\n",
       "    <tr>\n",
       "      <th>2</th>\n",
       "      <td>Добавить блоки рекомендаций товаров на сайт интернет магазина, чтобы повысить конверсию и средний чек заказа</td>\n",
       "      <td>8</td>\n",
       "      <td>3</td>\n",
       "      <td>7</td>\n",
       "      <td>3</td>\n",
       "    </tr>\n",
       "    <tr>\n",
       "      <th>3</th>\n",
       "      <td>Изменить структура категорий, что увеличит конверсию, т.к. пользователи быстрее найдут нужный товар</td>\n",
       "      <td>8</td>\n",
       "      <td>3</td>\n",
       "      <td>3</td>\n",
       "      <td>8</td>\n",
       "    </tr>\n",
       "    <tr>\n",
       "      <th>4</th>\n",
       "      <td>Изменить цвет фона главной страницы, чтобы увеличить вовлеченность пользователей</td>\n",
       "      <td>3</td>\n",
       "      <td>1</td>\n",
       "      <td>1</td>\n",
       "      <td>1</td>\n",
       "    </tr>\n",
       "    <tr>\n",
       "      <th>5</th>\n",
       "      <td>Добавить страницу отзывов клиентов о магазине, что позволит увеличить количество заказов</td>\n",
       "      <td>3</td>\n",
       "      <td>2</td>\n",
       "      <td>2</td>\n",
       "      <td>3</td>\n",
       "    </tr>\n",
       "    <tr>\n",
       "      <th>6</th>\n",
       "      <td>Показать на главной странице баннеры с актуальными акциями и распродажами, чтобы увеличить конверсию</td>\n",
       "      <td>5</td>\n",
       "      <td>3</td>\n",
       "      <td>8</td>\n",
       "      <td>3</td>\n",
       "    </tr>\n",
       "    <tr>\n",
       "      <th>7</th>\n",
       "      <td>Добавить форму подписки на все основные страницы, чтобы собрать базу клиентов для email-рассылок</td>\n",
       "      <td>10</td>\n",
       "      <td>7</td>\n",
       "      <td>8</td>\n",
       "      <td>5</td>\n",
       "    </tr>\n",
       "    <tr>\n",
       "      <th>8</th>\n",
       "      <td>Запустить акцию, дающую скидку на товар в день рождения</td>\n",
       "      <td>1</td>\n",
       "      <td>9</td>\n",
       "      <td>9</td>\n",
       "      <td>5</td>\n",
       "    </tr>\n",
       "  </tbody>\n",
       "</table>\n",
       "</div>"
      ],
      "text/plain": [
       "                                                                                                     Hypothesis  \\\n",
       "0            Добавить два новых канала привлечения трафика, что позволит привлекать на 30% больше пользователей   \n",
       "1                                     Запустить собственную службу доставки, что сократит срок доставки заказов   \n",
       "2  Добавить блоки рекомендаций товаров на сайт интернет магазина, чтобы повысить конверсию и средний чек заказа   \n",
       "3           Изменить структура категорий, что увеличит конверсию, т.к. пользователи быстрее найдут нужный товар   \n",
       "4                              Изменить цвет фона главной страницы, чтобы увеличить вовлеченность пользователей   \n",
       "5                      Добавить страницу отзывов клиентов о магазине, что позволит увеличить количество заказов   \n",
       "6          Показать на главной странице баннеры с актуальными акциями и распродажами, чтобы увеличить конверсию   \n",
       "7              Добавить форму подписки на все основные страницы, чтобы собрать базу клиентов для email-рассылок   \n",
       "8                                                       Запустить акцию, дающую скидку на товар в день рождения   \n",
       "\n",
       "   Reach  Impact  Confidence  Efforts  \n",
       "0      3      10           8        6  \n",
       "1      2       5           4       10  \n",
       "2      8       3           7        3  \n",
       "3      8       3           3        8  \n",
       "4      3       1           1        1  \n",
       "5      3       2           2        3  \n",
       "6      5       3           8        3  \n",
       "7     10       7           8        5  \n",
       "8      1       9           9        5  "
      ]
     },
     "execution_count": 2,
     "metadata": {},
     "output_type": "execute_result"
    }
   ],
   "source": [
    "hypothesis = pd.read_csv('/datasets/hypothesis.csv', sep = ',')\n",
    "pd.options.display.max_colwidth = 150  \n",
    "hypothesis.head(10)"
   ]
  },
  {
   "cell_type": "code",
   "execution_count": 3,
   "metadata": {},
   "outputs": [
    {
     "name": "stdout",
     "output_type": "stream",
     "text": [
      "<class 'pandas.core.frame.DataFrame'>\n",
      "RangeIndex: 9 entries, 0 to 8\n",
      "Data columns (total 5 columns):\n",
      " #   Column      Non-Null Count  Dtype \n",
      "---  ------      --------------  ----- \n",
      " 0   Hypothesis  9 non-null      object\n",
      " 1   Reach       9 non-null      int64 \n",
      " 2   Impact      9 non-null      int64 \n",
      " 3   Confidence  9 non-null      int64 \n",
      " 4   Efforts     9 non-null      int64 \n",
      "dtypes: int64(4), object(1)\n",
      "memory usage: 488.0+ bytes\n"
     ]
    }
   ],
   "source": [
    "hypothesis.info()"
   ]
  },
  {
   "cell_type": "code",
   "execution_count": 4,
   "metadata": {},
   "outputs": [],
   "source": [
    "hypothesis.columns = [x.lower() for x in hypothesis.columns.values]"
   ]
  },
  {
   "cell_type": "markdown",
   "metadata": {},
   "source": [
    "#### Вывод"
   ]
  },
  {
   "cell_type": "markdown",
   "metadata": {},
   "source": [
    "Описание данных\n",
    " - Hypothesis - краткое описание гипотезы\n",
    " - Reach - охват пользователей по 10-балльной шкале\n",
    " - Impact - влияние на пользователей по 10-балльной шкале\n",
    " - Confidence - уверенность в гипотезе по 10-балльной шкале\n",
    " - Efforts - затраты ресурсов на проверку гипотезы по 10-балльной шкале. Чем больше значение Efforts, тем дороже проверка          гипотезы\n",
    "   "
   ]
  },
  {
   "cell_type": "markdown",
   "metadata": {},
   "source": [
    "### Датасет orders"
   ]
  },
  {
   "cell_type": "code",
   "execution_count": 5,
   "metadata": {},
   "outputs": [
    {
     "data": {
      "text/html": [
       "<div>\n",
       "<style scoped>\n",
       "    .dataframe tbody tr th:only-of-type {\n",
       "        vertical-align: middle;\n",
       "    }\n",
       "\n",
       "    .dataframe tbody tr th {\n",
       "        vertical-align: top;\n",
       "    }\n",
       "\n",
       "    .dataframe thead th {\n",
       "        text-align: right;\n",
       "    }\n",
       "</style>\n",
       "<table border=\"1\" class=\"dataframe\">\n",
       "  <thead>\n",
       "    <tr style=\"text-align: right;\">\n",
       "      <th></th>\n",
       "      <th>transactionId</th>\n",
       "      <th>visitorId</th>\n",
       "      <th>date</th>\n",
       "      <th>revenue</th>\n",
       "      <th>group</th>\n",
       "    </tr>\n",
       "  </thead>\n",
       "  <tbody>\n",
       "    <tr>\n",
       "      <th>984</th>\n",
       "      <td>3217433767</td>\n",
       "      <td>2637462286</td>\n",
       "      <td>2019-08-10</td>\n",
       "      <td>100</td>\n",
       "      <td>B</td>\n",
       "    </tr>\n",
       "    <tr>\n",
       "      <th>926</th>\n",
       "      <td>884109530</td>\n",
       "      <td>1909539331</td>\n",
       "      <td>2019-08-30</td>\n",
       "      <td>3430</td>\n",
       "      <td>A</td>\n",
       "    </tr>\n",
       "    <tr>\n",
       "      <th>742</th>\n",
       "      <td>1113045957</td>\n",
       "      <td>3323129950</td>\n",
       "      <td>2019-08-09</td>\n",
       "      <td>14490</td>\n",
       "      <td>A</td>\n",
       "    </tr>\n",
       "    <tr>\n",
       "      <th>849</th>\n",
       "      <td>373945924</td>\n",
       "      <td>3785537730</td>\n",
       "      <td>2019-08-05</td>\n",
       "      <td>2290</td>\n",
       "      <td>B</td>\n",
       "    </tr>\n",
       "    <tr>\n",
       "      <th>308</th>\n",
       "      <td>2669609377</td>\n",
       "      <td>3511496907</td>\n",
       "      <td>2019-08-19</td>\n",
       "      <td>1900</td>\n",
       "      <td>A</td>\n",
       "    </tr>\n",
       "    <tr>\n",
       "      <th>737</th>\n",
       "      <td>1061639574</td>\n",
       "      <td>2195309755</td>\n",
       "      <td>2019-08-09</td>\n",
       "      <td>2960</td>\n",
       "      <td>B</td>\n",
       "    </tr>\n",
       "    <tr>\n",
       "      <th>721</th>\n",
       "      <td>390467479</td>\n",
       "      <td>2546716293</td>\n",
       "      <td>2019-08-05</td>\n",
       "      <td>1805</td>\n",
       "      <td>A</td>\n",
       "    </tr>\n",
       "    <tr>\n",
       "      <th>536</th>\n",
       "      <td>3925488023</td>\n",
       "      <td>3984495233</td>\n",
       "      <td>2019-08-04</td>\n",
       "      <td>20219</td>\n",
       "      <td>A</td>\n",
       "    </tr>\n",
       "    <tr>\n",
       "      <th>236</th>\n",
       "      <td>3422531330</td>\n",
       "      <td>2230225652</td>\n",
       "      <td>2019-08-23</td>\n",
       "      <td>660</td>\n",
       "      <td>B</td>\n",
       "    </tr>\n",
       "    <tr>\n",
       "      <th>885</th>\n",
       "      <td>335158381</td>\n",
       "      <td>947532470</td>\n",
       "      <td>2019-08-05</td>\n",
       "      <td>5280</td>\n",
       "      <td>A</td>\n",
       "    </tr>\n",
       "  </tbody>\n",
       "</table>\n",
       "</div>"
      ],
      "text/plain": [
       "     transactionId   visitorId        date  revenue group\n",
       "984     3217433767  2637462286  2019-08-10      100     B\n",
       "926      884109530  1909539331  2019-08-30     3430     A\n",
       "742     1113045957  3323129950  2019-08-09    14490     A\n",
       "849      373945924  3785537730  2019-08-05     2290     B\n",
       "308     2669609377  3511496907  2019-08-19     1900     A\n",
       "737     1061639574  2195309755  2019-08-09     2960     B\n",
       "721      390467479  2546716293  2019-08-05     1805     A\n",
       "536     3925488023  3984495233  2019-08-04    20219     A\n",
       "236     3422531330  2230225652  2019-08-23      660     B\n",
       "885      335158381   947532470  2019-08-05     5280     A"
      ]
     },
     "execution_count": 5,
     "metadata": {},
     "output_type": "execute_result"
    }
   ],
   "source": [
    "orders = pd.read_csv('/datasets/orders.csv', sep = ',')\n",
    "orders.sample(10)"
   ]
  },
  {
   "cell_type": "code",
   "execution_count": 6,
   "metadata": {},
   "outputs": [
    {
     "name": "stdout",
     "output_type": "stream",
     "text": [
      "<class 'pandas.core.frame.DataFrame'>\n",
      "RangeIndex: 1197 entries, 0 to 1196\n",
      "Data columns (total 5 columns):\n",
      " #   Column         Non-Null Count  Dtype \n",
      "---  ------         --------------  ----- \n",
      " 0   transactionId  1197 non-null   int64 \n",
      " 1   visitorId      1197 non-null   int64 \n",
      " 2   date           1197 non-null   object\n",
      " 3   revenue        1197 non-null   int64 \n",
      " 4   group          1197 non-null   object\n",
      "dtypes: int64(3), object(2)\n",
      "memory usage: 46.9+ KB\n"
     ]
    }
   ],
   "source": [
    "orders.info()"
   ]
  },
  {
   "cell_type": "code",
   "execution_count": 7,
   "metadata": {},
   "outputs": [],
   "source": [
    "orders['date'] = orders['date'].map(\n",
    "    lambda x: dt.datetime.strptime(x, '%Y-%m-%d')\n",
    ")"
   ]
  },
  {
   "cell_type": "code",
   "execution_count": 8,
   "metadata": {},
   "outputs": [
    {
     "data": {
      "text/plain": [
       "1658608862    1\n",
       "2211880073    1\n",
       "3913205113    1\n",
       "437656952     1\n",
       "3592105335    1\n",
       "             ..\n",
       "2872509092    1\n",
       "2013919907    1\n",
       "3154167297    1\n",
       "2960804513    1\n",
       "4281129020    1\n",
       "Name: transactionId, Length: 1197, dtype: int64"
      ]
     },
     "execution_count": 8,
     "metadata": {},
     "output_type": "execute_result"
    }
   ],
   "source": [
    "orders['transactionId'].value_counts()"
   ]
  },
  {
   "cell_type": "code",
   "execution_count": 9,
   "metadata": {},
   "outputs": [
    {
     "data": {
      "text/plain": [
       "4256040402    11\n",
       "2458001652    11\n",
       "2378935119     9\n",
       "2038680547     8\n",
       "199603092      5\n",
       "              ..\n",
       "2406916810     1\n",
       "1255412427     1\n",
       "3866069709     1\n",
       "54447517       1\n",
       "3013339133     1\n",
       "Name: visitorId, Length: 1031, dtype: int64"
      ]
     },
     "execution_count": 9,
     "metadata": {},
     "output_type": "execute_result"
    }
   ],
   "source": [
    "orders['visitorId'].value_counts()"
   ]
  },
  {
   "cell_type": "code",
   "execution_count": 10,
   "metadata": {},
   "outputs": [
    {
     "data": {
      "text/plain": [
       "count                    1197\n",
       "unique                     31\n",
       "top       2019-08-05 00:00:00\n",
       "freq                       48\n",
       "first     2019-08-01 00:00:00\n",
       "last      2019-08-31 00:00:00\n",
       "Name: date, dtype: object"
      ]
     },
     "execution_count": 10,
     "metadata": {},
     "output_type": "execute_result"
    }
   ],
   "source": [
    "orders['date'].describe()"
   ]
  },
  {
   "cell_type": "code",
   "execution_count": 11,
   "metadata": {},
   "outputs": [
    {
     "data": {
      "text/plain": [
       "B    640\n",
       "A    557\n",
       "Name: group, dtype: int64"
      ]
     },
     "execution_count": 11,
     "metadata": {},
     "output_type": "execute_result"
    }
   ],
   "source": [
    "orders['group'].value_counts()"
   ]
  },
  {
   "cell_type": "markdown",
   "metadata": {},
   "source": [
    "#### Вывод"
   ]
  },
  {
   "cell_type": "markdown",
   "metadata": {},
   "source": [
    "Описание данных\n",
    " - transactionId - идентификатор заказа\n",
    " - visitirId - идентификатор пользователя, совершившего заказ\n",
    " - date - дата, когда был совершен заказ\n",
    " - revenue - выручка заказа\n",
    " - group - группа А/В теста, в которую попал заказ"
   ]
  },
  {
   "cell_type": "markdown",
   "metadata": {},
   "source": [
    "Поменяли формат в поле дата. Всего у нас 1197 строк с заказами. Максимальное количество заказов одним пользователем 11. Пользователи поделены на две неравные группы А-557 человек, В - 640 человек это почти на 15% больше."
   ]
  },
  {
   "cell_type": "markdown",
   "metadata": {},
   "source": [
    "### Датасет visitors"
   ]
  },
  {
   "cell_type": "code",
   "execution_count": 12,
   "metadata": {},
   "outputs": [
    {
     "data": {
      "text/html": [
       "<div>\n",
       "<style scoped>\n",
       "    .dataframe tbody tr th:only-of-type {\n",
       "        vertical-align: middle;\n",
       "    }\n",
       "\n",
       "    .dataframe tbody tr th {\n",
       "        vertical-align: top;\n",
       "    }\n",
       "\n",
       "    .dataframe thead th {\n",
       "        text-align: right;\n",
       "    }\n",
       "</style>\n",
       "<table border=\"1\" class=\"dataframe\">\n",
       "  <thead>\n",
       "    <tr style=\"text-align: right;\">\n",
       "      <th></th>\n",
       "      <th>date</th>\n",
       "      <th>group</th>\n",
       "      <th>visitors</th>\n",
       "    </tr>\n",
       "  </thead>\n",
       "  <tbody>\n",
       "    <tr>\n",
       "      <th>27</th>\n",
       "      <td>2019-08-28</td>\n",
       "      <td>A</td>\n",
       "      <td>594</td>\n",
       "    </tr>\n",
       "    <tr>\n",
       "      <th>4</th>\n",
       "      <td>2019-08-05</td>\n",
       "      <td>A</td>\n",
       "      <td>756</td>\n",
       "    </tr>\n",
       "    <tr>\n",
       "      <th>55</th>\n",
       "      <td>2019-08-25</td>\n",
       "      <td>B</td>\n",
       "      <td>679</td>\n",
       "    </tr>\n",
       "    <tr>\n",
       "      <th>31</th>\n",
       "      <td>2019-08-01</td>\n",
       "      <td>B</td>\n",
       "      <td>713</td>\n",
       "    </tr>\n",
       "    <tr>\n",
       "      <th>5</th>\n",
       "      <td>2019-08-06</td>\n",
       "      <td>A</td>\n",
       "      <td>667</td>\n",
       "    </tr>\n",
       "    <tr>\n",
       "      <th>14</th>\n",
       "      <td>2019-08-15</td>\n",
       "      <td>A</td>\n",
       "      <td>628</td>\n",
       "    </tr>\n",
       "    <tr>\n",
       "      <th>39</th>\n",
       "      <td>2019-08-09</td>\n",
       "      <td>B</td>\n",
       "      <td>610</td>\n",
       "    </tr>\n",
       "    <tr>\n",
       "      <th>48</th>\n",
       "      <td>2019-08-18</td>\n",
       "      <td>B</td>\n",
       "      <td>737</td>\n",
       "    </tr>\n",
       "    <tr>\n",
       "      <th>11</th>\n",
       "      <td>2019-08-12</td>\n",
       "      <td>A</td>\n",
       "      <td>595</td>\n",
       "    </tr>\n",
       "    <tr>\n",
       "      <th>10</th>\n",
       "      <td>2019-08-11</td>\n",
       "      <td>A</td>\n",
       "      <td>718</td>\n",
       "    </tr>\n",
       "  </tbody>\n",
       "</table>\n",
       "</div>"
      ],
      "text/plain": [
       "          date group  visitors\n",
       "27  2019-08-28     A       594\n",
       "4   2019-08-05     A       756\n",
       "55  2019-08-25     B       679\n",
       "31  2019-08-01     B       713\n",
       "5   2019-08-06     A       667\n",
       "14  2019-08-15     A       628\n",
       "39  2019-08-09     B       610\n",
       "48  2019-08-18     B       737\n",
       "11  2019-08-12     A       595\n",
       "10  2019-08-11     A       718"
      ]
     },
     "execution_count": 12,
     "metadata": {},
     "output_type": "execute_result"
    }
   ],
   "source": [
    "visitors = pd.read_csv('/datasets/visitors.csv', sep = ',')\n",
    "visitors.sample(10)"
   ]
  },
  {
   "cell_type": "code",
   "execution_count": 13,
   "metadata": {},
   "outputs": [
    {
     "name": "stdout",
     "output_type": "stream",
     "text": [
      "<class 'pandas.core.frame.DataFrame'>\n",
      "RangeIndex: 62 entries, 0 to 61\n",
      "Data columns (total 3 columns):\n",
      " #   Column    Non-Null Count  Dtype \n",
      "---  ------    --------------  ----- \n",
      " 0   date      62 non-null     object\n",
      " 1   group     62 non-null     object\n",
      " 2   visitors  62 non-null     int64 \n",
      "dtypes: int64(1), object(2)\n",
      "memory usage: 1.6+ KB\n"
     ]
    }
   ],
   "source": [
    "visitors.info()"
   ]
  },
  {
   "cell_type": "code",
   "execution_count": 14,
   "metadata": {},
   "outputs": [],
   "source": [
    "visitors['date'] = visitors['date'].map(\n",
    "    lambda x: dt.datetime.strptime(x, '%Y-%m-%d')\n",
    ")"
   ]
  },
  {
   "cell_type": "code",
   "execution_count": 15,
   "metadata": {},
   "outputs": [
    {
     "data": {
      "text/plain": [
       "count                      62\n",
       "unique                     31\n",
       "top       2019-08-27 00:00:00\n",
       "freq                        2\n",
       "first     2019-08-01 00:00:00\n",
       "last      2019-08-31 00:00:00\n",
       "Name: date, dtype: object"
      ]
     },
     "execution_count": 15,
     "metadata": {},
     "output_type": "execute_result"
    }
   ],
   "source": [
    "visitors['date'].describe()"
   ]
  },
  {
   "cell_type": "code",
   "execution_count": 16,
   "metadata": {},
   "outputs": [
    {
     "data": {
      "text/plain": [
       "B    31\n",
       "A    31\n",
       "Name: group, dtype: int64"
      ]
     },
     "execution_count": 16,
     "metadata": {},
     "output_type": "execute_result"
    }
   ],
   "source": [
    "visitors['group'].value_counts()"
   ]
  },
  {
   "cell_type": "code",
   "execution_count": 17,
   "metadata": {},
   "outputs": [
    {
     "data": {
      "text/plain": [
       "count     62.000000\n",
       "mean     607.290323\n",
       "std      114.400560\n",
       "min      361.000000\n",
       "25%      534.000000\n",
       "50%      624.500000\n",
       "75%      710.500000\n",
       "max      770.000000\n",
       "Name: visitors, dtype: float64"
      ]
     },
     "execution_count": 17,
     "metadata": {},
     "output_type": "execute_result"
    }
   ],
   "source": [
    "visitors['visitors'].describe()"
   ]
  },
  {
   "cell_type": "code",
   "execution_count": 18,
   "metadata": {},
   "outputs": [
    {
     "ename": "ValueError",
     "evalue": "Length mismatch: Expected axis has 1 elements, new values have 2 elements",
     "output_type": "error",
     "traceback": [
      "\u001b[0;31m---------------------------------------------------------------------------\u001b[0m",
      "\u001b[0;31mValueError\u001b[0m                                Traceback (most recent call last)",
      "\u001b[0;32m/tmp/ipykernel_151/4003512405.py\u001b[0m in \u001b[0;36m<module>\u001b[0;34m\u001b[0m\n\u001b[1;32m      1\u001b[0m \u001b[0mgr\u001b[0m \u001b[0;34m=\u001b[0m \u001b[0morders\u001b[0m\u001b[0;34m.\u001b[0m\u001b[0mpivot_table\u001b[0m\u001b[0;34m(\u001b[0m\u001b[0mindex\u001b[0m\u001b[0;34m=\u001b[0m\u001b[0;34m'visitorId'\u001b[0m\u001b[0;34m,\u001b[0m \u001b[0mvalues\u001b[0m\u001b[0;34m=\u001b[0m\u001b[0;34m'group'\u001b[0m\u001b[0;34m,\u001b[0m \u001b[0maggfunc\u001b[0m\u001b[0;34m=\u001b[0m\u001b[0;34m'nunique'\u001b[0m\u001b[0;34m)\u001b[0m\u001b[0;34m\u001b[0m\u001b[0;34m\u001b[0m\u001b[0m\n\u001b[0;32m----> 2\u001b[0;31m \u001b[0mgr\u001b[0m\u001b[0;34m.\u001b[0m\u001b[0mcolumns\u001b[0m \u001b[0;34m=\u001b[0m \u001b[0;34m[\u001b[0m\u001b[0;34m'group_count'\u001b[0m\u001b[0;34m,\u001b[0m \u001b[0;34m'del_col'\u001b[0m\u001b[0;34m]\u001b[0m\u001b[0;34m\u001b[0m\u001b[0;34m\u001b[0m\u001b[0m\n\u001b[0m\u001b[1;32m      3\u001b[0m \u001b[0mgr\u001b[0m\u001b[0;34m.\u001b[0m\u001b[0mreset_index\u001b[0m\u001b[0;34m(\u001b[0m\u001b[0;34m)\u001b[0m\u001b[0;34m\u001b[0m\u001b[0;34m\u001b[0m\u001b[0m\n\u001b[1;32m      4\u001b[0m \u001b[0mgr\u001b[0m\u001b[0;34m.\u001b[0m\u001b[0mquery\u001b[0m\u001b[0;34m(\u001b[0m\u001b[0;34m'group_count > 1'\u001b[0m\u001b[0;34m)\u001b[0m\u001b[0;34m.\u001b[0m\u001b[0mcount\u001b[0m\u001b[0;34m(\u001b[0m\u001b[0;34m)\u001b[0m\u001b[0;34m\u001b[0m\u001b[0;34m\u001b[0m\u001b[0m\n",
      "\u001b[0;32m/opt/conda/lib/python3.9/site-packages/pandas/core/generic.py\u001b[0m in \u001b[0;36m__setattr__\u001b[0;34m(self, name, value)\u001b[0m\n\u001b[1;32m   5476\u001b[0m         \u001b[0;32mtry\u001b[0m\u001b[0;34m:\u001b[0m\u001b[0;34m\u001b[0m\u001b[0;34m\u001b[0m\u001b[0m\n\u001b[1;32m   5477\u001b[0m             \u001b[0mobject\u001b[0m\u001b[0;34m.\u001b[0m\u001b[0m__getattribute__\u001b[0m\u001b[0;34m(\u001b[0m\u001b[0mself\u001b[0m\u001b[0;34m,\u001b[0m \u001b[0mname\u001b[0m\u001b[0;34m)\u001b[0m\u001b[0;34m\u001b[0m\u001b[0;34m\u001b[0m\u001b[0m\n\u001b[0;32m-> 5478\u001b[0;31m             \u001b[0;32mreturn\u001b[0m \u001b[0mobject\u001b[0m\u001b[0;34m.\u001b[0m\u001b[0m__setattr__\u001b[0m\u001b[0;34m(\u001b[0m\u001b[0mself\u001b[0m\u001b[0;34m,\u001b[0m \u001b[0mname\u001b[0m\u001b[0;34m,\u001b[0m \u001b[0mvalue\u001b[0m\u001b[0;34m)\u001b[0m\u001b[0;34m\u001b[0m\u001b[0;34m\u001b[0m\u001b[0m\n\u001b[0m\u001b[1;32m   5479\u001b[0m         \u001b[0;32mexcept\u001b[0m \u001b[0mAttributeError\u001b[0m\u001b[0;34m:\u001b[0m\u001b[0;34m\u001b[0m\u001b[0;34m\u001b[0m\u001b[0m\n\u001b[1;32m   5480\u001b[0m             \u001b[0;32mpass\u001b[0m\u001b[0;34m\u001b[0m\u001b[0;34m\u001b[0m\u001b[0m\n",
      "\u001b[0;32mpandas/_libs/properties.pyx\u001b[0m in \u001b[0;36mpandas._libs.properties.AxisProperty.__set__\u001b[0;34m()\u001b[0m\n",
      "\u001b[0;32m/opt/conda/lib/python3.9/site-packages/pandas/core/generic.py\u001b[0m in \u001b[0;36m_set_axis\u001b[0;34m(self, axis, labels)\u001b[0m\n\u001b[1;32m    668\u001b[0m     \u001b[0;32mdef\u001b[0m \u001b[0m_set_axis\u001b[0m\u001b[0;34m(\u001b[0m\u001b[0mself\u001b[0m\u001b[0;34m,\u001b[0m \u001b[0maxis\u001b[0m\u001b[0;34m:\u001b[0m \u001b[0mint\u001b[0m\u001b[0;34m,\u001b[0m \u001b[0mlabels\u001b[0m\u001b[0;34m:\u001b[0m \u001b[0mIndex\u001b[0m\u001b[0;34m)\u001b[0m \u001b[0;34m->\u001b[0m \u001b[0;32mNone\u001b[0m\u001b[0;34m:\u001b[0m\u001b[0;34m\u001b[0m\u001b[0;34m\u001b[0m\u001b[0m\n\u001b[1;32m    669\u001b[0m         \u001b[0mlabels\u001b[0m \u001b[0;34m=\u001b[0m \u001b[0mensure_index\u001b[0m\u001b[0;34m(\u001b[0m\u001b[0mlabels\u001b[0m\u001b[0;34m)\u001b[0m\u001b[0;34m\u001b[0m\u001b[0;34m\u001b[0m\u001b[0m\n\u001b[0;32m--> 670\u001b[0;31m         \u001b[0mself\u001b[0m\u001b[0;34m.\u001b[0m\u001b[0m_mgr\u001b[0m\u001b[0;34m.\u001b[0m\u001b[0mset_axis\u001b[0m\u001b[0;34m(\u001b[0m\u001b[0maxis\u001b[0m\u001b[0;34m,\u001b[0m \u001b[0mlabels\u001b[0m\u001b[0;34m)\u001b[0m\u001b[0;34m\u001b[0m\u001b[0;34m\u001b[0m\u001b[0m\n\u001b[0m\u001b[1;32m    671\u001b[0m         \u001b[0mself\u001b[0m\u001b[0;34m.\u001b[0m\u001b[0m_clear_item_cache\u001b[0m\u001b[0;34m(\u001b[0m\u001b[0;34m)\u001b[0m\u001b[0;34m\u001b[0m\u001b[0;34m\u001b[0m\u001b[0m\n\u001b[1;32m    672\u001b[0m \u001b[0;34m\u001b[0m\u001b[0m\n",
      "\u001b[0;32m/opt/conda/lib/python3.9/site-packages/pandas/core/internals/managers.py\u001b[0m in \u001b[0;36mset_axis\u001b[0;34m(self, axis, new_labels)\u001b[0m\n\u001b[1;32m    218\u001b[0m \u001b[0;34m\u001b[0m\u001b[0m\n\u001b[1;32m    219\u001b[0m         \u001b[0;32mif\u001b[0m \u001b[0mnew_len\u001b[0m \u001b[0;34m!=\u001b[0m \u001b[0mold_len\u001b[0m\u001b[0;34m:\u001b[0m\u001b[0;34m\u001b[0m\u001b[0;34m\u001b[0m\u001b[0m\n\u001b[0;32m--> 220\u001b[0;31m             raise ValueError(\n\u001b[0m\u001b[1;32m    221\u001b[0m                 \u001b[0;34mf\"Length mismatch: Expected axis has {old_len} elements, new \"\u001b[0m\u001b[0;34m\u001b[0m\u001b[0;34m\u001b[0m\u001b[0m\n\u001b[1;32m    222\u001b[0m                 \u001b[0;34mf\"values have {new_len} elements\"\u001b[0m\u001b[0;34m\u001b[0m\u001b[0;34m\u001b[0m\u001b[0m\n",
      "\u001b[0;31mValueError\u001b[0m: Length mismatch: Expected axis has 1 elements, new values have 2 elements"
     ]
    }
   ],
   "source": [
    "gr = orders.pivot_table(index='visitorId', values='group', aggfunc='nunique')\n",
    "gr.columns = ['group_count', 'del_col']\n",
    "gr.reset_index()\n",
    "gr.query('group_count > 1').count()"
   ]
  },
  {
   "cell_type": "markdown",
   "metadata": {},
   "source": [
    "#### Вывод"
   ]
  },
  {
   "cell_type": "markdown",
   "metadata": {},
   "source": [
    "Описание данных\n",
    " - date - дата\n",
    " - group - группа А/В теста\n",
    " - visitors - количество пользователей в указанную дату в указанной группе А/В теста"
   ]
  },
  {
   "cell_type": "markdown",
   "metadata": {},
   "source": [
    "Поменяли формат времени в поле дата. Данные собранные в датасете за месяц. У нас две группы пользователей. 58 пользователей оказались сразу в двух группах. Это 5% процентов пользователей, удалять их не будем так как это может повлиять на показатели платящих-неплатящих пользователей."
   ]
  },
  {
   "cell_type": "markdown",
   "metadata": {},
   "source": [
    "### Вывод"
   ]
  },
  {
   "cell_type": "markdown",
   "metadata": {},
   "source": [
    "У нас три датасета. В первом список из 9 гипотез, которые нужно приоритизировать изходя из параметров данных в датасете.В двух других данные о пользователях и их заказах при проведение А/В теста. На основании этих данных нам нужно сделать анализ проведенного теста. Для удобства привели названия столбцов к нижнему регистру. Выяснили, что 58 пользователей попали сразу в две группы. Для анализа у нас данные о заказах за период с 1-08-2019 по 31-08-2019. Пользователи поделены на две неравные группы."
   ]
  },
  {
   "cell_type": "markdown",
   "metadata": {},
   "source": [
    "## Приоритизация гипотез"
   ]
  },
  {
   "cell_type": "markdown",
   "metadata": {},
   "source": [
    "### Применить  фреймворк ICE для приоритизации гипотез.Отсортировать по убыванию приоритета."
   ]
  },
  {
   "cell_type": "code",
   "execution_count": null,
   "metadata": {},
   "outputs": [],
   "source": [
    "hypothesis['ice'] = ((hypothesis['impact'] * hypothesis['confidence']) / hypothesis['efforts']).round(2)\n",
    "\n",
    "hypothesis[['hypothesis', 'ice']].sort_values(by='ice', ascending=False)\n"
   ]
  },
  {
   "cell_type": "markdown",
   "metadata": {},
   "source": [
    "### Вывод"
   ]
  },
  {
   "cell_type": "markdown",
   "metadata": {},
   "source": [
    "Применили способ приоритизации гипотез ICE. После расчета можно выделить три самые перспективные гипотезы:\n",
    "- Запустить акцию, дающую скидку на товар в день рождения\n",
    "- Добавить два новых канала привлечения трафика, что позволит привлекать на 30% больше пользователей\n",
    "- Добавить форму подписки на все основные страницы, чтобы собрать базу клиентов для email-рассылок"
   ]
  },
  {
   "cell_type": "markdown",
   "metadata": {},
   "source": [
    "### Применить  фреймворк RICE для приоритизации гипотез.Отсортировать по убыванию приоритета."
   ]
  },
  {
   "cell_type": "code",
   "execution_count": null,
   "metadata": {},
   "outputs": [],
   "source": [
    "hypothesis['rice'] = ((hypothesis['reach'] * hypothesis['impact'] * hypothesis['confidence']) / hypothesis['efforts']).round(2)\n",
    "\n",
    "hypothesis[['hypothesis', 'rice']].sort_values(by='rice', ascending=False)"
   ]
  },
  {
   "cell_type": "markdown",
   "metadata": {},
   "source": [
    "### Вывод"
   ]
  },
  {
   "cell_type": "markdown",
   "metadata": {},
   "source": [
    "Применили способ приоритизации гипотез RICE. После расчета можно выделить три самые перспективные гипотезы:\n",
    "   - Добавить форму подписки на все основные страницы, чтобы собрать базу клиентов для email-рассылок\n",
    "   - Добавить блоки рекомендаций товаров на сайт интернет магазина, чтобы повысить конверсию и средний чек заказа\t\n",
    "   - Добавить два новых канала привлечения трафика, что позволит привлекать на 30% больше пользователей"
   ]
  },
  {
   "cell_type": "markdown",
   "metadata": {},
   "source": [
    "### Указать, как изменилась приоритизация гипотез при применении RICE вместо ICE"
   ]
  },
  {
   "cell_type": "markdown",
   "metadata": {},
   "source": [
    "После изменения фреймворка на первое место вышла гипотезы \"Добавить форму подписки на все основные страницы, чтобы собрать базу клиентов для email-рассылок\". В формулу расчета RICE добавляется параметр REACH. Это показатель, количества пользователей которое затронет изменение. В этой гипотезе показатель имеет максимальные 10 балов. Поэтому гипотеза заняла первое место. Из-за этого показателя также поменяла место гипотеза \"Добавить два новых канала привлечения трафика, что позволит привлекать на 30% больше пользователей\", а гипотеза \"Запустить акцию, дающую скидку на товар в день рождения\" вообще не вошла в тройку. Так как день рождения в период акции может совпасть только у маленького числа пользователей, соответственно и показатель REACH =1."
   ]
  },
  {
   "cell_type": "markdown",
   "metadata": {},
   "source": [
    "### Вывод"
   ]
  },
  {
   "cell_type": "markdown",
   "metadata": {},
   "source": [
    "Применили на практике фреймворки ICE и RICE. Увидели как показатели IMPACT, CONFIDENCE, EFFORTS и REACH влияют на приоритизацию гипотез. Поэтому в зависимости от задачи главное выбрать правильный способ приоритизации. Если нам надо увеличить показатели влияющие на удовлетворение продуктом, и для нас не главное количество пользователей вполне подходит показатель ICE. Но если нам нужно охватить как можно большую аудиторию пользователей, для расчета подойдет только RICE"
   ]
  },
  {
   "cell_type": "markdown",
   "metadata": {},
   "source": [
    "## Анализ А/В теста"
   ]
  },
  {
   "cell_type": "markdown",
   "metadata": {},
   "source": [
    "### Построить график кумулятивной выручки по группам"
   ]
  },
  {
   "cell_type": "code",
   "execution_count": null,
   "metadata": {},
   "outputs": [],
   "source": [
    "orders.head()"
   ]
  },
  {
   "cell_type": "code",
   "execution_count": null,
   "metadata": {},
   "outputs": [],
   "source": [
    "datesGroups = orders[['date', 'group']].drop_duplicates()"
   ]
  },
  {
   "cell_type": "code",
   "execution_count": null,
   "metadata": {},
   "outputs": [],
   "source": [
    "datesGroups.head()"
   ]
  },
  {
   "cell_type": "code",
   "execution_count": null,
   "metadata": {},
   "outputs": [],
   "source": [
    "# получаем агрегированные кумулятивные по дням данные о заказах \n",
    "ordersAggregated = datesGroups.apply(\n",
    "    lambda x: orders[\n",
    "        np.logical_and(\n",
    "            orders['date'] <= x['date'], orders['group'] == x['group']\n",
    "        )\n",
    "    ].agg(\n",
    "        {\n",
    "            'date': 'max',\n",
    "            'group': 'max',\n",
    "            'transactionId': pd.Series.nunique,\n",
    "            'visitorId': pd.Series.nunique,\n",
    "            'revenue': 'sum',\n",
    "        }\n",
    "    ),\n",
    "    axis=1,\n",
    ").sort_values(by=['date', 'group'])"
   ]
  },
  {
   "cell_type": "code",
   "execution_count": null,
   "metadata": {},
   "outputs": [],
   "source": [
    "ordersAggregated.head()"
   ]
  },
  {
   "cell_type": "code",
   "execution_count": null,
   "metadata": {},
   "outputs": [],
   "source": [
    "visitorsAggregated = datesGroups.apply(\n",
    "    lambda x: visitors[\n",
    "        np.logical_and(\n",
    "            visitors['date'] <= x['date'], visitors['group'] == x['group']\n",
    "        )\n",
    "    ].agg({'date': 'max', 'group': 'max', 'visitors': 'sum'}),\n",
    "    axis=1,\n",
    ").sort_values(by=['date', 'group'])"
   ]
  },
  {
   "cell_type": "code",
   "execution_count": null,
   "metadata": {},
   "outputs": [],
   "source": [
    "visitorsAggregated.head()"
   ]
  },
  {
   "cell_type": "code",
   "execution_count": null,
   "metadata": {},
   "outputs": [],
   "source": [
    "# объединяем кумулятивные данные в одной таблице и присваиваем ее столбцам понятные названия\n",
    "cumulativeData = ordersAggregated.merge(\n",
    "    visitorsAggregated, left_on=['date', 'group'], right_on=['date', 'group']\n",
    ")\n",
    "cumulativeData.columns = [\n",
    "    'date',\n",
    "    'group',\n",
    "    'orders',\n",
    "    'buyers',\n",
    "    'revenue',\n",
    "    'visitors',\n",
    "]"
   ]
  },
  {
   "cell_type": "code",
   "execution_count": null,
   "metadata": {},
   "outputs": [],
   "source": [
    "cumulativeData.head()"
   ]
  },
  {
   "cell_type": "code",
   "execution_count": null,
   "metadata": {},
   "outputs": [],
   "source": [
    "cumulativeRevenueA = cumulativeData[cumulativeData['group']=='A'][['date','revenue', 'orders']]\n",
    "cumulativeRevenueA.head()"
   ]
  },
  {
   "cell_type": "code",
   "execution_count": null,
   "metadata": {},
   "outputs": [],
   "source": [
    "# датафрейм с кумулятивным количеством заказов и кумулятивной выручкой по дням в группе B\n",
    "cumulativeRevenueB = cumulativeData[cumulativeData['group']=='B'][['date','revenue', 'orders']]\n",
    "cumulativeRevenueB.head()"
   ]
  },
  {
   "cell_type": "code",
   "execution_count": null,
   "metadata": {},
   "outputs": [],
   "source": [
    "# Строим график выручки группы А\n",
    "plt.plot(cumulativeRevenueA['date'], cumulativeRevenueA['revenue'], label='A')\n",
    "\n",
    "# Строим график выручки группы B\n",
    "plt.plot(cumulativeRevenueB['date'], cumulativeRevenueB['revenue'], label='B')\n",
    "plt.xticks(rotation=45)\n",
    "plt.legend() \n",
    "plt.title('Кумулятивная выручка по группам')\n",
    "plt.xlabel('Дата, день')\n",
    "plt.ylabel('Выручка, руб')\n",
    "plt.show()"
   ]
  },
  {
   "cell_type": "markdown",
   "metadata": {},
   "source": [
    "#### Вывод"
   ]
  },
  {
   "cell_type": "markdown",
   "metadata": {},
   "source": [
    "Выручка по группа была на одном уровне только первые 5 дней. Потом выручка группы В стала рости, а 17-08-2019 был большой скачок, после которого группа вырвалась сильно вперед. Не стоит забывать, что в группе В на 15%, больше пользователей и это дает большое преимущество в выручке. Надо выяснить из-за чего был большой скачок."
   ]
  },
  {
   "cell_type": "markdown",
   "metadata": {},
   "source": [
    "### Построить график кумулятивного среднего чека по группам"
   ]
  },
  {
   "cell_type": "code",
   "execution_count": null,
   "metadata": {},
   "outputs": [],
   "source": [
    "plt.plot(cumulativeRevenueA['date'], cumulativeRevenueA['revenue']/cumulativeRevenueA['orders'], label='A')\n",
    "plt.plot(cumulativeRevenueB['date'], cumulativeRevenueB['revenue']/cumulativeRevenueB['orders'], label='B')\n",
    "plt.xticks(rotation=45)\n",
    "plt.title('Кумулятивный средний чек по группам')\n",
    "plt.xlabel('Дата, день')\n",
    "plt.ylabel('Средний чек, руб')\n",
    "plt.legend() \n",
    "plt.show()"
   ]
  },
  {
   "cell_type": "markdown",
   "metadata": {},
   "source": [
    "#### Вывод"
   ]
  },
  {
   "cell_type": "markdown",
   "metadata": {},
   "source": [
    "На графике видно несколько скачков по среднему чеку. для группы А сначала было снижение, но 8-9-10 августа было сразу два скачка, после которых средний чек был более стабилен. В группе В большой скачок 17-18 августа, показатели взлетели за 1000 и потом стали плавно снижаться. Это мог быть большой или очень дорогой заказ."
   ]
  },
  {
   "cell_type": "markdown",
   "metadata": {},
   "source": [
    "### Построить график относительного изменения кумулятивного среднего чека группы В к группе А"
   ]
  },
  {
   "cell_type": "code",
   "execution_count": null,
   "metadata": {},
   "outputs": [],
   "source": [
    "mergedCumulativeRevenue = cumulativeRevenueA.merge(\n",
    "    cumulativeRevenueB, left_on='date', right_on='date', how='left', suffixes=['A', 'B'])"
   ]
  },
  {
   "cell_type": "code",
   "execution_count": null,
   "metadata": {},
   "outputs": [],
   "source": [
    "mergedCumulativeRevenue.head()"
   ]
  },
  {
   "cell_type": "code",
   "execution_count": null,
   "metadata": {},
   "outputs": [],
   "source": [
    "# cтроим отношение средних чеков\n",
    "plt.plot(mergedCumulativeRevenue['date'], (mergedCumulativeRevenue['revenueB']/mergedCumulativeRevenue['ordersB'])/(mergedCumulativeRevenue['revenueA']/mergedCumulativeRevenue['ordersA'])-1)\n",
    "# добавляем ось X\n",
    "plt.axhline(y=0, color='black', linestyle='--') \n",
    "plt.xticks(rotation=45)\n",
    "plt.title('Относительное изменение кумулятивного среднего чека группы B к группе A')\n",
    "plt.xlabel('Дата, день')\n",
    "plt.ylabel('Отношение средних чеков')\n",
    "plt.show()"
   ]
  },
  {
   "cell_type": "markdown",
   "metadata": {},
   "source": [
    "#### Вывод"
   ]
  },
  {
   "cell_type": "markdown",
   "metadata": {},
   "source": [
    "В нескольких точках графика опять скачки. Причем здесь есть и провал в минус и опять большой скачок 17-18 числа, после которого наблюдается снижение чека. "
   ]
  },
  {
   "cell_type": "markdown",
   "metadata": {},
   "source": [
    "### Построить график кумулятивной конверсии по группам"
   ]
  },
  {
   "cell_type": "code",
   "execution_count": null,
   "metadata": {},
   "outputs": [],
   "source": [
    "# считаем кумулятивную конверсию\n",
    "cumulativeData['conversion'] = cumulativeData['orders']/cumulativeData['visitors']\n",
    "cumulativeData"
   ]
  },
  {
   "cell_type": "code",
   "execution_count": null,
   "metadata": {},
   "outputs": [],
   "source": [
    "# отделяем данные по группе A\n",
    "cumulativeDataA = cumulativeData[cumulativeData['group']=='A']\n",
    " \n",
    "# отделяем данные по группе B\n",
    "cumulativeDataB = cumulativeData[cumulativeData['group']=='B']"
   ]
  },
  {
   "cell_type": "code",
   "execution_count": null,
   "metadata": {},
   "outputs": [],
   "source": [
    "# строим графики\n",
    "plt.plot(cumulativeDataA['date'], cumulativeDataA['conversion'], label='A')\n",
    "plt.plot(cumulativeDataB['date'], cumulativeDataB['conversion'], label='B')\n",
    "plt.legend()\n",
    "plt.xticks(rotation=45)\n",
    "plt.title(\"Кумулятивная конверсия по группам\")\n",
    "plt.xlabel('Дата, день')\n",
    "plt.ylabel('Конверсия')\n",
    " \n",
    "# задаем масштаб осей\n",
    "plt.axis(['2019-08-01', '2019-08-31', 0.025, 0.04])\n",
    "\n",
    "plt.show()"
   ]
  },
  {
   "cell_type": "markdown",
   "metadata": {},
   "source": [
    "#### Вывод"
   ]
  },
  {
   "cell_type": "markdown",
   "metadata": {},
   "source": [
    "Сначала в группе А был скачок конверсии, потом значения упали и колебания остались на уровне 0,03. В группе В тоже вначале был большой скачок конверсии, но затем показатели выровнялись и конверсия осталась на уровне 0,034. В принципе колебания не большие, все изменения происходят в пределах 1%.  "
   ]
  },
  {
   "cell_type": "markdown",
   "metadata": {},
   "source": [
    "### Построить график относительного изменения кумулятивной конверсии группы В к группе А"
   ]
  },
  {
   "cell_type": "code",
   "execution_count": null,
   "metadata": {},
   "outputs": [],
   "source": [
    "mergedCumulativeConversions = cumulativeDataA[['date','conversion']].merge(\n",
    "    cumulativeDataB[['date','conversion']], left_on='date', right_on='date', how='left', suffixes=['A', 'B'])\n",
    "\n",
    "mergedCumulativeConversions.head()"
   ]
  },
  {
   "cell_type": "code",
   "execution_count": null,
   "metadata": {},
   "outputs": [],
   "source": [
    "plt.figure(figsize=(8,6))\n",
    "plt.plot(\n",
    "    mergedCumulativeConversions['date'], \n",
    "    mergedCumulativeConversions['conversionB']/mergedCumulativeConversions['conversionA']-1, \n",
    "    label=\"Относительный прирост конверсии группы B относительно группы A\"\n",
    ")\n",
    "plt.legend()\n",
    "plt.xlabel('Дата, день')\n",
    "plt.ylabel('Значение прироста')\n",
    "\n",
    "plt.xticks(rotation=45)\n",
    "\n",
    "#Добавим пунктирную линию оси X чёрного цвета ('black') со значением оси Y = 0 методом plt.axhline(). \n",
    "plt.axhline(y=0, color='black', linestyle='--')\n",
    "#И ещё одну линию оси X серого цвета ('grey') со значением оси Y = 0.2.\n",
    "plt.axhline(y=0.2, color='grey', linestyle='--')\n",
    "\n",
    "plt.axis([\"2019-08-01\", '2019-08-31', -0.2, 0.3])\n",
    "\n",
    "plt.show()"
   ]
  },
  {
   "cell_type": "markdown",
   "metadata": {},
   "source": [
    "#### Вывод"
   ]
  },
  {
   "cell_type": "markdown",
   "metadata": {},
   "source": [
    "Вначале был большой скачок на 15% вверх, а потом и вниз конверсии группы В. После 3 августа конверсия стала постоянно расти до 17 августа, и только потом начался стабильный плавный спад. В конце месяца конверсия установилась на уровне 10-13%"
   ]
  },
  {
   "cell_type": "markdown",
   "metadata": {},
   "source": [
    "### Построить точечный график количества заказов по пользователям"
   ]
  },
  {
   "cell_type": "code",
   "execution_count": null,
   "metadata": {},
   "outputs": [],
   "source": [
    "ordersByUsers = (\n",
    "    orders.drop(['group', 'revenue', 'date'], axis=1)\n",
    "    .groupby('visitorId', as_index=False)\n",
    "    .agg({'transactionId': pd.Series.nunique})\n",
    ")\n",
    "\n",
    "ordersByUsers.columns = ['userId', 'orders']\n",
    "\n",
    "ordersByUsers.sort_values(by='orders', ascending=False).head(10)"
   ]
  },
  {
   "cell_type": "code",
   "execution_count": null,
   "metadata": {},
   "outputs": [],
   "source": [
    "# серия из чисел от 0 до количества наблюдений в ordersByUsers\n",
    "x_values = pd.Series(range(0, len(ordersByUsers)))\n",
    "\n",
    "plt.scatter(x_values, ordersByUsers['orders']) \n",
    "\n",
    "plt.title('Распределение числа заказов по пользователям')\n",
    "plt.xlabel('Число пользователей, чел')\n",
    "plt.ylabel('Число заказов, шт')\n",
    "plt.show()"
   ]
  },
  {
   "cell_type": "markdown",
   "metadata": {},
   "source": [
    "#### Вывод"
   ]
  },
  {
   "cell_type": "markdown",
   "metadata": {},
   "source": [
    "Большинство пользователей делает только один заказ. Но на самом деле достаточно большое количество пользователей делает два заказа. По графику также видно, что есть пользователи сделавшие 3-5 заказов. И даже несколько пользователей, которых можно прчислить к аномальным с их 8-11 заказами."
   ]
  },
  {
   "cell_type": "markdown",
   "metadata": {},
   "source": [
    "### Посчитать 95-й и 99-й перцентили количества заказов на пользователя. Выбрать границу для определения аномальных заказов"
   ]
  },
  {
   "cell_type": "code",
   "execution_count": null,
   "metadata": {},
   "outputs": [],
   "source": [
    "# Метод np.percentile('column', [percentile1, percentile2, percentile3]) находит перцентили.\n",
    "print(np.percentile(ordersByUsers['orders'], [95, 99]))"
   ]
  },
  {
   "cell_type": "markdown",
   "metadata": {},
   "source": [
    "#### Вывод"
   ]
  },
  {
   "cell_type": "markdown",
   "metadata": {},
   "source": [
    "Не больше 5% пользователей делали 2 заказа, и не более 1% делали 4 и более заказа. Разумно выбрать 4 заказа на одного пользователя за нижнию границу, и отсеять аномальных пользователей по ней."
   ]
  },
  {
   "cell_type": "markdown",
   "metadata": {},
   "source": [
    "### Построить точечный график стоимости заказов."
   ]
  },
  {
   "cell_type": "code",
   "execution_count": null,
   "metadata": {},
   "outputs": [],
   "source": [
    "x_values = pd.Series(range(0, len(orders['revenue'])))\n",
    "\n",
    "plt.scatter(x_values, orders['revenue']) \n",
    "\n",
    "plt.title('Распределение стоимости заказов')\n",
    "plt.xlabel('Число пользователей, чел')\n",
    "plt.ylabel('Стоимость заказов, руб')\n",
    "plt.axis([0, 1200, 0, 130000])\n",
    "\n",
    "plt.show()"
   ]
  },
  {
   "cell_type": "markdown",
   "metadata": {},
   "source": [
    "#### Вывод"
   ]
  },
  {
   "cell_type": "markdown",
   "metadata": {},
   "source": [
    "Большинство заказов находятся в диапозоне до 20000 рублей. Достаточно большое количество заказов приходится на диапазон 20000-50000. А вот более дорогие заказы встречаются гораздо реже.  "
   ]
  },
  {
   "cell_type": "markdown",
   "metadata": {},
   "source": [
    "### Посчитать 95-й и 99-й перцентили стоимости заказов. Выбрать границу для определения аномальных заказов"
   ]
  },
  {
   "cell_type": "code",
   "execution_count": null,
   "metadata": {},
   "outputs": [],
   "source": [
    "print(np.percentile(orders['revenue'], [95,97.5, 99])) "
   ]
  },
  {
   "cell_type": "markdown",
   "metadata": {},
   "source": [
    "#### Вывод"
   ]
  },
  {
   "cell_type": "markdown",
   "metadata": {},
   "source": [
    "Не более 5% пользователей делают заказ дороже 28000, и не более 1% пользователей дороже 58000. Границу аномальных заказов можно установить на 28000. В этот диапазон входят достаточно большое количество дорогих заказов, но уже исключаются крупные заказы влияющие на расчеты."
   ]
  },
  {
   "cell_type": "markdown",
   "metadata": {},
   "source": [
    "### Посчитать статистическую значимость различий в конверсии между группами по \"сырым\" данным."
   ]
  },
  {
   "cell_type": "code",
   "execution_count": null,
   "metadata": {},
   "outputs": [],
   "source": [
    "# получаем агрегированные кумулятивные по дням данные о посетителях группы А\n",
    "visitorsADaily = visitors[visitors['group'] == 'A'][['date', 'visitors']]\n",
    "visitorsADaily.columns = ['date', 'visitorsPerDateA']\n",
    "visitorsADaily.head()"
   ]
  },
  {
   "cell_type": "code",
   "execution_count": null,
   "metadata": {},
   "outputs": [],
   "source": [
    "visitorsACummulative = visitorsADaily.apply(\n",
    "    lambda x: visitorsADaily[visitorsADaily['date'] <= x['date']].agg(\n",
    "        {'date': 'max', 'visitorsPerDateA': 'sum'}\n",
    "    ),\n",
    "    axis=1,\n",
    ")\n",
    "visitorsACummulative.columns = ['date', 'visitorsCummulativeA']\n",
    "visitorsACummulative.head()"
   ]
  },
  {
   "cell_type": "code",
   "execution_count": null,
   "metadata": {},
   "outputs": [],
   "source": [
    "# получаем агрегированные кумулятивные по дням данные о посетителях группы В\n",
    "visitorsBDaily = visitors[visitors['group'] == 'B'][['date', 'visitors']]\n",
    "visitorsBDaily.columns = ['date', 'visitorsPerDateB']"
   ]
  },
  {
   "cell_type": "code",
   "execution_count": null,
   "metadata": {},
   "outputs": [],
   "source": [
    "visitorsBCummulative = visitorsBDaily.apply(\n",
    "    lambda x: visitorsBDaily[visitorsBDaily['date'] <= x['date']].agg(\n",
    "        {'date': 'max', 'visitorsPerDateB': 'sum'}\n",
    "    ),\n",
    "    axis=1,\n",
    ")\n",
    "visitorsBCummulative.columns = ['date', 'visitorsCummulativeB']\n",
    "visitorsBCummulative.head()"
   ]
  },
  {
   "cell_type": "code",
   "execution_count": null,
   "metadata": {},
   "outputs": [],
   "source": [
    "# получаем агрегированные по дням данные о заказах и выручке группы А\n",
    "ordersADaily = (\n",
    "    orders[orders['group'] == 'A'][['date', 'transactionId', 'visitorId', 'revenue']]\n",
    "    .groupby('date', as_index=False)\n",
    "    .agg({'transactionId': pd.Series.nunique, 'revenue': 'sum'})\n",
    ")\n",
    "ordersADaily.columns = ['date', 'ordersPerDateA', 'revenuePerDateA']\n"
   ]
  },
  {
   "cell_type": "code",
   "execution_count": null,
   "metadata": {},
   "outputs": [],
   "source": [
    "ordersADaily.head()"
   ]
  },
  {
   "cell_type": "code",
   "execution_count": null,
   "metadata": {},
   "outputs": [],
   "source": [
    "# получаем кумулятивные по дням данные о заказах и выручке группы А\n",
    "ordersACummulative = ordersADaily.apply(\n",
    "    lambda x: ordersADaily[ordersADaily['date'] <= x['date']].agg(\n",
    "        {'date': 'max', 'ordersPerDateA': 'sum', 'revenuePerDateA': 'sum'}\n",
    "    ),\n",
    "    axis=1,\n",
    ").sort_values(by=['date'])\n",
    "\n",
    "ordersACummulative.columns = [\n",
    "    'date',\n",
    "    'ordersCummulativeA',\n",
    "    'revenueCummulativeA',\n",
    "]\n",
    "\n",
    "ordersACummulative.head()"
   ]
  },
  {
   "cell_type": "code",
   "execution_count": null,
   "metadata": {},
   "outputs": [],
   "source": [
    "# получаем агрегированные по дням данные о заказах и выручке группы В\n",
    "ordersBDaily = (\n",
    "    orders[orders['group'] == 'B'][['date', 'transactionId', 'visitorId', 'revenue']]\n",
    "    .groupby('date', as_index=False)\n",
    "    .agg({'visitorId': pd.Series.nunique, 'revenue': 'sum'})\n",
    ")\n",
    "ordersBDaily.columns = ['date', 'ordersPerDateB', 'revenuePerDateB']\n",
    "ordersBDaily.head()"
   ]
  },
  {
   "cell_type": "code",
   "execution_count": null,
   "metadata": {},
   "outputs": [],
   "source": [
    "# получаем кумулятивные по дням данные о заказах и выручке группы В\n",
    "ordersBCummulative = ordersBDaily.apply(\n",
    "    lambda x: ordersBDaily[ordersBDaily['date'] <= x['date']].agg(\n",
    "        {'date': 'max', 'ordersPerDateB': 'sum', 'revenuePerDateB': 'sum'}\n",
    "    ),\n",
    "    axis=1,\n",
    ").sort_values(by=['date'])\n",
    "\n",
    "ordersBCummulative.columns = [\n",
    "    'date',\n",
    "    'ordersCummulativeB',\n",
    "    'revenueCummulativeB',\n",
    "]\n",
    "ordersBCummulative.head()"
   ]
  },
  {
   "cell_type": "code",
   "execution_count": null,
   "metadata": {},
   "outputs": [],
   "source": [
    "# Объединяем по дате все полученные кумулятивные данные в один датафрейм\n",
    "data = (\n",
    "    ordersADaily.merge(\n",
    "        ordersBDaily, left_on='date', right_on='date', how='left'\n",
    "    )\n",
    "    .merge(ordersACummulative, left_on='date', right_on='date', how='left')\n",
    "    .merge(ordersBCummulative, left_on='date', right_on='date', how='left')\n",
    "    .merge(visitorsADaily, left_on='date', right_on='date', how='left')\n",
    "    .merge(visitorsBDaily, left_on='date', right_on='date', how='left')\n",
    "    .merge(visitorsACummulative, left_on='date', right_on='date', how='left')\n",
    "    .merge(visitorsBCummulative, left_on='date', right_on='date', how='left')\n",
    ")\n",
    "\n",
    "data.head(5)"
   ]
  },
  {
   "cell_type": "code",
   "execution_count": null,
   "metadata": {},
   "outputs": [],
   "source": [
    "ordersByUsersA = (\n",
    "    orders[orders['group'] == 'A']\n",
    "    .groupby('visitorId', as_index=False)\n",
    "    .agg({'transactionId': pd.Series.nunique})\n",
    ")\n",
    "ordersByUsersA.columns = ['userId', 'orders']\n",
    "ordersByUsersA.head()"
   ]
  },
  {
   "cell_type": "code",
   "execution_count": null,
   "metadata": {},
   "outputs": [],
   "source": [
    "ordersByUsersB = (\n",
    "    orders[orders['group'] == 'B']\n",
    "    .groupby('visitorId', as_index=False)\n",
    "    .agg({'transactionId': pd.Series.nunique})\n",
    ")\n",
    "ordersByUsersB.columns = ['userId', 'orders'] \n",
    "ordersByUsersB.head()"
   ]
  },
  {
   "cell_type": "code",
   "execution_count": null,
   "metadata": {},
   "outputs": [],
   "source": [
    "#в sampleA сохраняем выборку, где каждый элемент — число заказов определённого пользователя, в том числе ноль. \n",
    "# число элементов sampleA — это количество пользователей, сумма всех элементов — количество заказов.\n",
    "sampleA = pd.concat(\n",
    "    [\n",
    "        ordersByUsersA['orders'],\n",
    "        pd.Series(\n",
    "            0,\n",
    "            index=np.arange(\n",
    "                data['visitorsPerDateA'].sum() - len(ordersByUsersA['orders'])\n",
    "            ),\n",
    "            name='orders',\n",
    "        ),\n",
    "    ],\n",
    "    axis=0,\n",
    ")\n",
    "sampleA.count()"
   ]
  },
  {
   "cell_type": "code",
   "execution_count": null,
   "metadata": {},
   "outputs": [],
   "source": [
    "sampleB = pd.concat(\n",
    "    [\n",
    "        ordersByUsersB['orders'],\n",
    "        pd.Series(\n",
    "            0,\n",
    "            index=np.arange(\n",
    "                data['visitorsPerDateB'].sum() - len(ordersByUsersB['orders'])\n",
    "            ),\n",
    "            name='orders',\n",
    "        ),\n",
    "    ],\n",
    "    axis=0,\n",
    ")\n",
    "sampleB.count()"
   ]
  },
  {
   "cell_type": "markdown",
   "metadata": {},
   "source": [
    "Получили Series с 18916 значений.\n",
    "\n",
    "Сформулируем гипотезы\n",
    "\n",
    "Н0 - различия в конверсиях между группами по «сырым» данным статистически не значимы\n",
    "\n",
    "Н1 - различия в конверсиях между группами по «сырым» данным статистически значимы\n",
    "\n",
    "Пороговое значение alpha примем за 5%.\n",
    "\n",
    "У реализации метода Манн-Уитни в python есть одна особенность: его базовые настройки в python не предполагают проверку двухсторонней гипотезы, а это не соответствует гипотезам, проверяемым в проекте. Для корректной работы метода необходимо задать его параметр alternative = 'two-sided'\n",
    "\n"
   ]
  },
  {
   "cell_type": "code",
   "execution_count": null,
   "metadata": {},
   "outputs": [],
   "source": [
    "p_val_conversion = (sps.mannwhitneyu(sampleA, sampleB,alternative = 'two-sided')[1]).round(5)\n",
    "\n",
    "print(\"P-value по конверсии по сырым данным: {0:.3f}\".format(p_val_conversion))"
   ]
  },
  {
   "cell_type": "code",
   "execution_count": null,
   "metadata": {},
   "outputs": [],
   "source": [
    "relative_increase_conversion = sampleB.mean() / sampleA.mean() - 1\n",
    "print(\"Относительный прирост конверсии группы B: {0:.3f}\".format(relative_increase_conversion))"
   ]
  },
  {
   "cell_type": "code",
   "execution_count": null,
   "metadata": {},
   "outputs": [],
   "source": [
    "alpha = .05\n",
    "\n",
    "if (p_val_conversion < alpha):\n",
    "    print(\"Отвергаем нулевую гипотезу\")\n",
    "else:\n",
    "    print(\"Не получилось отвергнуть нулевую гипотезу\")"
   ]
  },
  {
   "cell_type": "markdown",
   "metadata": {},
   "source": [
    "#### Вывод"
   ]
  },
  {
   "cell_type": "markdown",
   "metadata": {},
   "source": [
    "Отвергаем нулевую гипотезу и принимаем H1. P-value меньше 5%, а это значит, что различия в конверсиях между группами по «сырым» данным статистически значимы.Прирост конверсии группы В 13,8%. "
   ]
  },
  {
   "cell_type": "markdown",
   "metadata": {},
   "source": [
    "### Посчитать статистическую значимость различий в среднем чеке заказа между группами по \"сырым\" данным."
   ]
  },
  {
   "cell_type": "markdown",
   "metadata": {},
   "source": [
    "Сформулируем гипотезы\n",
    "\n",
    "Н0 - различия в среднем чеке заказа между группами по «сырым» данным статистически не значимы\n",
    "\n",
    "Н1 - различия в среднем чеке заказа между группами по «сырым» данным статистически значимы\n",
    "\n",
    "Пороговое значение alpha примем за 5%.\n",
    "\n",
    "Гипотеза у нас двусторонняя (есть нулевая и альтернативная), поэтому добавим в них параметр alternative = 'two-sided'.\n",
    "\n",
    "Чтобы рассчитать статистическую значимость различий в среднем чеке между сегментами, передадим критерию mannwhitneyu() данные о выручке с заказов."
   ]
  },
  {
   "cell_type": "code",
   "execution_count": null,
   "metadata": {},
   "outputs": [],
   "source": [
    "revenue_A = orders[orders['group']=='A']['revenue']"
   ]
  },
  {
   "cell_type": "code",
   "execution_count": null,
   "metadata": {},
   "outputs": [],
   "source": [
    "revenue_B = orders[orders['group']=='B']['revenue']"
   ]
  },
  {
   "cell_type": "code",
   "execution_count": null,
   "metadata": {},
   "outputs": [],
   "source": [
    "p_val_check = (sps.mannwhitneyu(revenue_A, revenue_B,alternative = 'two-sided')[1]).round(3)\n",
    "\n",
    "print('P-value по среднему чеку до очистки данных: {}'.format(p_val_check))"
   ]
  },
  {
   "cell_type": "code",
   "execution_count": null,
   "metadata": {},
   "outputs": [],
   "source": [
    "relative_increase_check = revenue_B.mean() / revenue_A.mean() - 1\n",
    "\n",
    "print('Относительный прирост среднего чека группы B к А по сырым данным: {:.2f}'.format(relative_increase_check))"
   ]
  },
  {
   "cell_type": "code",
   "execution_count": null,
   "metadata": {},
   "outputs": [],
   "source": [
    "alpha = .05\n",
    "\n",
    "if (p_val_check < alpha):\n",
    "    print(\"Отвергаем нулевую гипотезу\")\n",
    "else:\n",
    "    print(\"Не получилось отвергнуть нулевую гипотезу\")\n",
    "    "
   ]
  },
  {
   "cell_type": "markdown",
   "metadata": {},
   "source": [
    "#### Вывод"
   ]
  },
  {
   "cell_type": "markdown",
   "metadata": {},
   "source": [
    "Подтвердили нулевую гипотезу - различия в среднем чеке заказа между группами по «сырым» данным статистически не значимы. P value равно 0,729 что значительно превышает наш порог. Прирост среднего чека группы В "
   ]
  },
  {
   "cell_type": "markdown",
   "metadata": {},
   "source": [
    "### Посчитать статистическую значимость различий в конверсии между группами по \"очищенным\" данным "
   ]
  },
  {
   "cell_type": "markdown",
   "metadata": {},
   "source": [
    "Сделаем срезы пользователей с числом заказов 4 и более — usersWithManyOrders и пользователей, совершивших заказы дороже 28 000 — usersWithExpensiveOrders."
   ]
  },
  {
   "cell_type": "code",
   "execution_count": null,
   "metadata": {},
   "outputs": [],
   "source": [
    "usersWithManyOrders = pd.concat(\n",
    "    [\n",
    "        ordersByUsersA[ordersByUsersA['orders'] > 4]['userId'],\n",
    "        ordersByUsersB[ordersByUsersB['orders'] > 4]['userId'],\n",
    "    ],\n",
    "    axis=0,\n",
    ")"
   ]
  },
  {
   "cell_type": "code",
   "execution_count": null,
   "metadata": {},
   "outputs": [],
   "source": [
    "usersWithExpensiveOrders = orders[orders['revenue'] > 30000]['visitorId']"
   ]
  },
  {
   "cell_type": "code",
   "execution_count": null,
   "metadata": {},
   "outputs": [],
   "source": [
    "abnormalUsers = (\n",
    "    pd.concat([usersWithManyOrders, usersWithExpensiveOrders], axis=0)\n",
    "    .drop_duplicates()\n",
    "    .sort_values()\n",
    ")\n",
    "abnormalUsers.head(5)"
   ]
  },
  {
   "cell_type": "code",
   "execution_count": null,
   "metadata": {},
   "outputs": [],
   "source": [
    "abnormalUsers.shape"
   ]
  },
  {
   "cell_type": "markdown",
   "metadata": {},
   "source": [
    "Получили множество 53 аномальных пользователя. После их удаления можно считать статистическую значимость.\n",
    "\n",
    "Сформулируем гипотезы\n",
    "\n",
    "Н0 - различия в конверсии между группами по «очищенным» данным статистически не значимы\n",
    "\n",
    "Н1 - различия в конверсии между группами по «очищенным» данным статистически значимы\n",
    "\n",
    "Пороговое значение alpha примем за 5%.\n",
    "\n",
    "Создадим переменные sampleAFiltered и sampleBFiltered, в которых сохраним очищенные данные о заказах — не включая аномальных пользователей."
   ]
  },
  {
   "cell_type": "code",
   "execution_count": null,
   "metadata": {},
   "outputs": [],
   "source": [
    "sampleAFiltered = pd.concat(\n",
    "    [\n",
    "        ordersByUsersA[\n",
    "            np.logical_not(ordersByUsersA['userId'].isin(abnormalUsers))\n",
    "        ]['orders'],\n",
    "        pd.Series(\n",
    "            0,\n",
    "            index=np.arange(\n",
    "                data['visitorsPerDateA'].sum() - len(ordersByUsersA['orders'])\n",
    "            ),\n",
    "            name='orders',\n",
    "        ),\n",
    "    ],\n",
    "    axis=0,\n",
    ")"
   ]
  },
  {
   "cell_type": "code",
   "execution_count": null,
   "metadata": {},
   "outputs": [],
   "source": [
    "sampleBFiltered = pd.concat(\n",
    "    [\n",
    "        ordersByUsersB[\n",
    "            np.logical_not(ordersByUsersB['userId'].isin(abnormalUsers))\n",
    "        ]['orders'],\n",
    "        pd.Series(\n",
    "            0,\n",
    "            index=np.arange(\n",
    "                data['visitorsPerDateB'].sum() - len(ordersByUsersB['orders'])\n",
    "            ),\n",
    "            name='orders',\n",
    "        ),\n",
    "    ],\n",
    "    axis=0,\n",
    ") "
   ]
  },
  {
   "cell_type": "code",
   "execution_count": null,
   "metadata": {},
   "outputs": [],
   "source": [
    "p_val_conversion_clean = (sps.mannwhitneyu(sampleAFiltered, sampleBFiltered, alternative = 'two-sided')[1]).round(5)\n",
    "\n",
    "print('P-value по конверсии после очистки данных: {}'.format(p_val_conversion_clean))"
   ]
  },
  {
   "cell_type": "code",
   "execution_count": null,
   "metadata": {},
   "outputs": [],
   "source": [
    "relative_increase_conversion_clean = sampleBFiltered.mean()/sampleAFiltered.mean()-1\n",
    "\n",
    "print('Относительный прирост конверсии группы B к конверсии группы А после очистки данных: {:.2f}'.format(relative_increase_conversion_clean))"
   ]
  },
  {
   "cell_type": "code",
   "execution_count": null,
   "metadata": {},
   "outputs": [],
   "source": [
    "alpha = .05\n",
    "\n",
    "if (p_val_conversion_clean < alpha):\n",
    "    print(\"Отвергаем нулевую гипотезу\")\n",
    "else:\n",
    "    print(\"Не получилось отвергнуть нулевую гипотезу\")"
   ]
  },
  {
   "cell_type": "markdown",
   "metadata": {},
   "source": [
    "#### Вывод"
   ]
  },
  {
   "cell_type": "markdown",
   "metadata": {},
   "source": [
    "P value равен 0,01 значит мы отвергаем Нулевую гипотезу и принимаем альтернативную. Различия в конверсии между группами по «очищенным» данным статистически значимы. Прирост конверсии группы В по очищенным данным составляет 14%."
   ]
  },
  {
   "cell_type": "markdown",
   "metadata": {},
   "source": [
    "### Посчитать статистическую значимость различий в среднем чеке заказа между группами по \"очищенным\" данным."
   ]
  },
  {
   "cell_type": "markdown",
   "metadata": {},
   "source": [
    "Посчитаем статистическую значимость различия средних чеков после удаления аномальных пользователей.\n",
    "\n",
    "Сформулируем гипотезы\n",
    "\n",
    "Н0 - различия в среднем чеке заказа между группами по «очищенным» данным статистически не значимы\n",
    "\n",
    "Н1 - различия в среднем чеке заказа между группами по «очищенным» данным статистически значимы\n",
    "\n",
    "Пороговое значение alpha примем за 5%.\n",
    "\n",
    "Гипотеза у нас двусторонняя (есть нулевая и альтернативная), поэтому добавим в них параметр alternative = 'two-sided'."
   ]
  },
  {
   "cell_type": "code",
   "execution_count": null,
   "metadata": {},
   "outputs": [],
   "source": [
    "#отфильтруем аномальных пользователей\n",
    "sampleAFiltered_revenue = orders[\n",
    "                np.logical_and(\n",
    "                    orders['group'] == 'A',\n",
    "                    np.logical_not(orders['visitorId'].isin(abnormalUsers)),\n",
    "                )\n",
    "            ]['revenue']\n",
    "\n",
    "sampleBFiltered_revenue = orders[\n",
    "                np.logical_and(\n",
    "                    orders['group'] == 'B',\n",
    "                    np.logical_not(orders['visitorId'].isin(abnormalUsers)),\n",
    "                )\n",
    "            ]['revenue']"
   ]
  },
  {
   "cell_type": "code",
   "execution_count": null,
   "metadata": {},
   "outputs": [],
   "source": [
    "p_val_avg_check_clean = (sps.mannwhitneyu(\n",
    "    sampleAFiltered_revenue, \n",
    "    sampleBFiltered_revenue, \n",
    "    alternative = 'two-sided')[1]).round(5)\n",
    "\n",
    "print('P-value по среднему чеку после очистки данных: {:.3f}'.format(p_val_avg_check_clean))"
   ]
  },
  {
   "cell_type": "code",
   "execution_count": null,
   "metadata": {},
   "outputs": [],
   "source": [
    "relative_increase_avg_check_clean = sampleBFiltered_revenue.mean()/sampleAFiltered_revenue.mean()-1\n",
    "\n",
    "print('Относительный прирост среднего чека группы B к среднему чеку группы А после очистки данных: {:.2f}'.format(relative_increase_avg_check_clean))"
   ]
  },
  {
   "cell_type": "code",
   "execution_count": null,
   "metadata": {},
   "outputs": [],
   "source": [
    "alpha = .05\n",
    "\n",
    "if (p_val_avg_check_clean < alpha):\n",
    "    print(\"Отвергаем нулевую гипотезу\")\n",
    "else:\n",
    "    print(\"Не получилось отвергнуть нулевую гипотезу\")"
   ]
  },
  {
   "cell_type": "markdown",
   "metadata": {},
   "source": [
    "#### Вывод"
   ]
  },
  {
   "cell_type": "markdown",
   "metadata": {},
   "source": [
    "Мы подтвердили нулевую гипотезу, что различия в среднем чеке заказа между группами по «очищенным» данным статистически не значимы. Относительный прирост в чеке по очищенным данным упал с 0.26 до -0.02. "
   ]
  },
  {
   "cell_type": "markdown",
   "metadata": {},
   "source": [
    "### Принять решения по результатам теста"
   ]
  },
  {
   "cell_type": "markdown",
   "metadata": {},
   "source": [
    "Примите решение по результатам теста и объясните его. Варианты решений: 1. Остановить тест, зафиксировать победу одной из групп. 2. Остановить тест, зафиксировать отсутствие различий между группами. 3. Продолжить тест."
   ]
  },
  {
   "cell_type": "markdown",
   "metadata": {},
   "source": [
    "Опираясь на полученные результаты и несмотря на то, что по среднему чеку статистической значимости не обнаружено, нужно остановить тест и зафиксировать победу группы В. Группа B статистически значимо лучше группы A по метрике конверсии, но различий в средних чеках нет. Так как задача стоит в эффективности гипотезы по увеличению выручки, нужно смотреть на конверсию. Выручка не всегда покажет положительную или отрицательную динамику, точнее сложно понять по выручке, без учета числа покупателей.\n",
    "\n",
    "Коверсия влияет на выручку, и поэтому раз конверсия в случае группы В значимо увеличилась, то и выручка увеличилась тоже. Даже с учетом того, что средний чек остался без изменений."
   ]
  },
  {
   "cell_type": "markdown",
   "metadata": {},
   "source": [
    "#### Вывод"
   ]
  },
  {
   "cell_type": "markdown",
   "metadata": {},
   "source": [
    "Опираясь на результаты тестов можно остановить тест. Мы проверяли основную гипотезу по увеличению выручки. По графикам у нас показатели среднего чека в группе В рос, по отношению к среднему чеку группы А. При проверке гипотезы по увелечению среднего чека, мы не получили статистически значимых результатов, что средний чек увеличился.  Посчитав статистическую значимость различий в конверсии мы убедились, что различия в показателях группы В  статистически значимы. По графикам кумулятивной конверсии тоже виден рост с небольшими коллебаниями, но конверсия растет. Следовательно мы получили увеличение выручки в группе В. "
   ]
  },
  {
   "cell_type": "markdown",
   "metadata": {},
   "source": [
    "### Вывод"
   ]
  },
  {
   "cell_type": "markdown",
   "metadata": {},
   "source": [
    "- Провели анализ кумулятивной выручки по групам, подтвердили ее рост в обеих группах.\n",
    "- Проанализировали средний чек по группам, обнаружили несколько скачков при отстутствии постоянного стабильного роста.\n",
    "- Изменение кумулятивного среднего чека группы В к группе А нестабильно. По графику наблюдаются большие скачки и вверх и провалы до минуса\n",
    "- Кумулятивная конверсия в группе В выше, чем в группе. Но изменения колеблются в пределах 1%\n",
    "- По графику кумулятивной конверсии группы В к группе А наблюдается стабильный рост. Был небольшой спад после 20% прироста, но потом конверсия стала опять рости.\n",
    "- По графику количества заказов наблюдается приоритет заказов 2-4. Отчетливо видно, что количество заказов больше 5 редкие, аномальные. \n",
    "- Не больше 5% пользователей делали 2 заказа, и не более 1% делали 4 и более заказа. Разумно выбрать 4 заказа на одного пользователя за нижнию границу, и отсеять аномальных пользователей по ней.\n",
    "- По точечному графику видно, что большая частьзаказов сфокусирована в пределах 20000\n",
    "- Не более 5% пользователей делают заказ дороже 28000, и не более 1% пользователей дороже 58000. \n",
    "- Различия в конверсиях между группами по «сырым» данным статистически значимы.\n",
    "- Различия в среднем чеке заказа между группами по «сырым» данным статистически не значимы\n",
    "- Различия в конверсии между группами по «очищенным» данным статистически значимы\n",
    "- Различия в среднем чеке заказа между группами по «очищенным» данным статистически не значимы.\n",
    "- По всем имеющимся данным принято решение тест остановить. Группа В победила.\n"
   ]
  },
  {
   "cell_type": "markdown",
   "metadata": {},
   "source": [
    "## Общий вывод"
   ]
  },
  {
   "cell_type": "markdown",
   "metadata": {},
   "source": [
    "Получили три датасета с данными для анализа крупного интернет магазина. Цель увеличение выручки. На входе проверили все данные. Поменяли где необходимо формат, привели к нижнему регистру столбцы."
   ]
  },
  {
   "cell_type": "markdown",
   "metadata": {},
   "source": [
    "Часть 1.\n",
    "- У нас 9 гипотез для приоритизации.\n",
    "\n",
    "По фреймворку ICE( влияние, уверенность, усилия)  три приоритетные гипотезы :\n",
    "   - Запустить акцию, дающую скидку на товар в день рождения\n",
    "   - Добавить два новых канала привлечения трафика, что позволит привлекать на 30% больше пользователей\n",
    "   - Добавить форму подписки на все основные страницы, чтобы собрать базу клиентов для email-рассылок\n",
    "   \n",
    "По фреймворку RICE добавляется показатель REACH (скольких пользователей затронет изменения), который меняет приоритеты:\n",
    "   - Добавить форму подписки на все основные страницы, чтобы собрать базу клиентов для email-рассылок\n",
    "   - Добавить блоки рекомендаций товаров на сайт интернет магазина, чтобы повысить конверсию и средний чек заказа\n",
    "   - Добавить два новых канала привлечения трафика, что позволит привлекать на 30% больше пользователей\n",
    "   \n",
    "Поэтому в зависимости от задачи главное выбрать правильный способ приоритизации. Если нам надо увеличить показатели влияющие на удовлетворение продуктом, и для нас не главное количество пользователей вполне подходит показатель ICE. Но если нам нужно охватить как можно большую аудиторию пользователей, для расчета подойдет только RICE   "
   ]
  },
  {
   "cell_type": "markdown",
   "metadata": {},
   "source": [
    "Часть 2.\n",
    "\n",
    "На входе получили данные из двух датасетов с данными о пользователях, группах к которым они относятся и их заказах. У нас 1197 пользователей поделенных на 640-группа В и 557-группа А. 58 пользователей входит в две группы. Удалять их не стали, их порядка 5% поэтому влиять на анализ они не должны. Данные по заказам у нас за промежуток с 1-08-2019 по 31-08-2019. \n",
    "\n",
    "Проанализированы кумулятивные метрики:\n",
    "  - Подтвердили рост выручки в обеих группах.\n",
    "  - Обнаружили несколько скачков по увеличению среднего чека, при отстутствии постоянного стабильного роста.\n",
    "  - Изменение кумулятивного среднего чека группы В к группе А нестабильно. По графику наблюдаются большие скачки и вверх и         провалы до минуса.\n",
    "  - Конверсия в группе В выше, чем в группе. Но изменения колеблются в пределах 1%\n",
    "  - Наблюдается стабильный рост конверсии группы В к группе А. Был небольшой спад после 20% прироста, но потом конверсия стала     опять рости.\n",
    "  \n",
    "Проанализированы аномалии по количеству заказов и стоимости заказов:\n",
    "   - Большая часть пользователей делает 2-4. Есть редкие заказы от 5 и выше, некоторые пользователи совершали до 11 заказов.\n",
    "   - Не больше 5% пользователей делали 2 заказа, и не более 1% делали 4 и более заказа. Что говорит о том, что более 4 заказов      это аномальные данные, которые могут влиять на расчет показателей и гипотезы.\n",
    "   - Большинство заказов не превышают 20000.\n",
    "   - Не более 5% пользователей делают заказ дороже 28000, и не более 1% пользователей дороже 58000. Заказы превышающие эти          цифры редкие и их можно отнести к аномальным и для расчета гипотез их надо исключать.\n",
    "   \n",
    "Изучена статистическая сначимость различий в среднем чеке и конверсии по \"сырым\" и очищенным данным.\n",
    "   - В конверсии между группами по \"сырым\" данным есть статистически значимые различия.\n",
    "   - Относительный прирост конверсии группы B к конверсии группы А равен 13%.\n",
    "   - Различия в конверсии между группами по «очищенным» данным статистически значимы.\n",
    "   - Статистически значимых различий в среднем чеке заказа между группами по «сырым» данным нет. \n",
    "   - Различия в среднем чеке заказа между группами по «очищенным» данным статистически не значимы.\n",
    "   \n",
    "   \n",
    "Опираясь на результаты анализа принято решение остановить тест. Группа В победила.Мы проверяли основную гипотезу по увеличению выручки. По графикам у нас показатели среднего чека в группе В росли, по отношению к среднему чеку группы А. При проверке гипотезы по увелечению среднего чека, мы не получили статистически значимых результатов, что средний чек увеличился. Посчитав статистическую значимость различий в конверсии мы убедились, что различия в показателях группы В статистически значимы. По графикам кумулятивной конверсии тоже виден рост с небольшими коллебаниями, но конверсия растет. Следовательно мы получили увеличение выручки в группе В.     "
   ]
  }
 ],
 "metadata": {
  "ExecuteTimeLog": [
   {
    "duration": 965,
    "start_time": "2021-12-20T08:48:13.624Z"
   },
   {
    "duration": 122,
    "start_time": "2021-12-20T08:51:26.985Z"
   },
   {
    "duration": 16,
    "start_time": "2021-12-20T08:53:32.572Z"
   },
   {
    "duration": 474,
    "start_time": "2021-12-20T08:58:49.042Z"
   },
   {
    "duration": 103,
    "start_time": "2021-12-20T08:58:59.827Z"
   },
   {
    "duration": 88,
    "start_time": "2021-12-21T05:53:40.767Z"
   },
   {
    "duration": 306,
    "start_time": "2021-12-21T06:06:26.223Z"
   },
   {
    "duration": 491,
    "start_time": "2021-12-21T06:06:36.347Z"
   },
   {
    "duration": 250,
    "start_time": "2021-12-21T06:06:40.541Z"
   },
   {
    "duration": 921,
    "start_time": "2021-12-21T06:06:51.401Z"
   },
   {
    "duration": 46,
    "start_time": "2021-12-21T06:06:52.325Z"
   },
   {
    "duration": 12,
    "start_time": "2021-12-21T06:45:14.963Z"
   },
   {
    "duration": 5,
    "start_time": "2021-12-21T06:45:18.315Z"
   },
   {
    "duration": 49,
    "start_time": "2021-12-21T06:45:38.504Z"
   },
   {
    "duration": 7,
    "start_time": "2021-12-21T06:52:24.912Z"
   },
   {
    "duration": 48,
    "start_time": "2021-12-21T06:52:26.907Z"
   },
   {
    "duration": 12,
    "start_time": "2021-12-21T07:42:25.783Z"
   },
   {
    "duration": 29,
    "start_time": "2021-12-21T07:43:17.515Z"
   },
   {
    "duration": 29,
    "start_time": "2021-12-21T07:43:22.122Z"
   },
   {
    "duration": 28,
    "start_time": "2021-12-21T07:43:38.952Z"
   },
   {
    "duration": 9,
    "start_time": "2021-12-21T07:43:41.805Z"
   },
   {
    "duration": 9,
    "start_time": "2021-12-21T07:44:02.096Z"
   },
   {
    "duration": 8,
    "start_time": "2021-12-21T07:44:46.553Z"
   },
   {
    "duration": 8,
    "start_time": "2021-12-21T07:45:10.208Z"
   },
   {
    "duration": 9,
    "start_time": "2021-12-21T07:45:28.427Z"
   },
   {
    "duration": 8,
    "start_time": "2021-12-21T07:45:57.088Z"
   },
   {
    "duration": 11,
    "start_time": "2021-12-21T07:46:11.390Z"
   },
   {
    "duration": 10,
    "start_time": "2021-12-21T07:46:34.686Z"
   },
   {
    "duration": 8,
    "start_time": "2021-12-21T07:47:21.196Z"
   },
   {
    "duration": 9,
    "start_time": "2021-12-21T07:47:36.017Z"
   },
   {
    "duration": 65,
    "start_time": "2021-12-21T07:51:38.716Z"
   },
   {
    "duration": 566,
    "start_time": "2021-12-23T06:33:46.886Z"
   },
   {
    "duration": 1335,
    "start_time": "2021-12-23T06:33:50.635Z"
   },
   {
    "duration": 50,
    "start_time": "2021-12-23T06:33:51.973Z"
   },
   {
    "duration": 43,
    "start_time": "2021-12-23T06:33:52.026Z"
   },
   {
    "duration": 126,
    "start_time": "2021-12-23T06:33:52.072Z"
   },
   {
    "duration": 13,
    "start_time": "2021-12-23T06:33:52.200Z"
   },
   {
    "duration": 7,
    "start_time": "2021-12-23T06:33:52.215Z"
   },
   {
    "duration": 10,
    "start_time": "2021-12-23T06:33:52.224Z"
   },
   {
    "duration": 6,
    "start_time": "2021-12-23T06:33:52.264Z"
   },
   {
    "duration": 90,
    "start_time": "2021-12-23T06:33:52.273Z"
   },
   {
    "duration": 8,
    "start_time": "2021-12-23T06:33:52.365Z"
   },
   {
    "duration": 50,
    "start_time": "2021-12-23T06:33:52.375Z"
   },
   {
    "duration": 508,
    "start_time": "2021-12-23T06:37:17.162Z"
   },
   {
    "duration": 324,
    "start_time": "2021-12-23T06:52:42.460Z"
   },
   {
    "duration": 8,
    "start_time": "2021-12-23T06:52:53.798Z"
   },
   {
    "duration": 7,
    "start_time": "2021-12-23T06:52:56.145Z"
   },
   {
    "duration": 8,
    "start_time": "2021-12-23T06:53:56.460Z"
   },
   {
    "duration": 337,
    "start_time": "2021-12-23T06:54:15.944Z"
   },
   {
    "duration": 7,
    "start_time": "2021-12-23T06:54:24.802Z"
   },
   {
    "duration": 11,
    "start_time": "2021-12-23T06:56:14.972Z"
   },
   {
    "duration": 8,
    "start_time": "2021-12-23T06:56:18.690Z"
   },
   {
    "duration": 5,
    "start_time": "2021-12-23T06:57:00.914Z"
   },
   {
    "duration": 47,
    "start_time": "2021-12-23T06:58:56.443Z"
   },
   {
    "duration": 17,
    "start_time": "2021-12-23T06:59:35.395Z"
   },
   {
    "duration": 288,
    "start_time": "2021-12-23T07:01:07.379Z"
   },
   {
    "duration": 294,
    "start_time": "2021-12-23T07:01:14.891Z"
   },
   {
    "duration": 7,
    "start_time": "2021-12-23T07:01:23.268Z"
   },
   {
    "duration": 7,
    "start_time": "2021-12-23T07:01:33.961Z"
   },
   {
    "duration": 6,
    "start_time": "2021-12-23T07:01:51.048Z"
   },
   {
    "duration": 7,
    "start_time": "2021-12-23T07:01:56.450Z"
   },
   {
    "duration": 7,
    "start_time": "2021-12-23T07:01:57.688Z"
   },
   {
    "duration": 8,
    "start_time": "2021-12-23T07:08:45.554Z"
   },
   {
    "duration": 6,
    "start_time": "2021-12-23T07:08:47.104Z"
   },
   {
    "duration": 10,
    "start_time": "2021-12-23T07:11:48.706Z"
   },
   {
    "duration": 16,
    "start_time": "2021-12-23T07:12:22.672Z"
   },
   {
    "duration": 7,
    "start_time": "2021-12-23T07:13:20.017Z"
   },
   {
    "duration": 10,
    "start_time": "2021-12-23T07:13:53.136Z"
   },
   {
    "duration": 137,
    "start_time": "2021-12-23T10:09:35.241Z"
   },
   {
    "duration": 85,
    "start_time": "2021-12-23T10:10:19.376Z"
   },
   {
    "duration": 7,
    "start_time": "2021-12-23T10:11:10.374Z"
   },
   {
    "duration": 20,
    "start_time": "2021-12-23T10:11:30.642Z"
   },
   {
    "duration": 8,
    "start_time": "2021-12-23T10:12:32.478Z"
   },
   {
    "duration": 331,
    "start_time": "2021-12-23T10:21:42.209Z"
   },
   {
    "duration": 14,
    "start_time": "2021-12-23T10:21:55.028Z"
   },
   {
    "duration": 14,
    "start_time": "2021-12-23T10:21:59.806Z"
   },
   {
    "duration": 12,
    "start_time": "2021-12-23T10:30:28.718Z"
   },
   {
    "duration": 49,
    "start_time": "2021-12-23T10:30:32.072Z"
   },
   {
    "duration": 7,
    "start_time": "2021-12-23T10:30:57.591Z"
   },
   {
    "duration": 8,
    "start_time": "2021-12-23T10:31:05.601Z"
   },
   {
    "duration": 48,
    "start_time": "2021-12-23T10:31:10.321Z"
   },
   {
    "duration": 17,
    "start_time": "2021-12-23T11:16:44.499Z"
   },
   {
    "duration": 9,
    "start_time": "2021-12-23T11:19:09.476Z"
   },
   {
    "duration": 315,
    "start_time": "2021-12-23T11:22:59.252Z"
   },
   {
    "duration": 23,
    "start_time": "2021-12-23T11:23:14.367Z"
   },
   {
    "duration": 24,
    "start_time": "2021-12-23T11:29:11.893Z"
   },
   {
    "duration": 25,
    "start_time": "2021-12-23T11:29:24.047Z"
   },
   {
    "duration": 9,
    "start_time": "2021-12-23T11:32:12.538Z"
   },
   {
    "duration": 387,
    "start_time": "2021-12-23T11:32:53.242Z"
   },
   {
    "duration": 343,
    "start_time": "2021-12-23T11:34:39.125Z"
   },
   {
    "duration": 294,
    "start_time": "2021-12-23T11:34:53.078Z"
   },
   {
    "duration": 302,
    "start_time": "2021-12-23T11:35:00.045Z"
   },
   {
    "duration": 11,
    "start_time": "2021-12-23T11:36:09.674Z"
   },
   {
    "duration": 11,
    "start_time": "2021-12-23T11:36:32.355Z"
   },
   {
    "duration": 9,
    "start_time": "2021-12-23T11:39:30.827Z"
   },
   {
    "duration": 22,
    "start_time": "2021-12-23T11:40:24.972Z"
   },
   {
    "duration": 100,
    "start_time": "2021-12-23T11:53:59.433Z"
   },
   {
    "duration": 493,
    "start_time": "2021-12-23T11:54:08.840Z"
   },
   {
    "duration": 280,
    "start_time": "2021-12-23T11:58:53.466Z"
   },
   {
    "duration": 7,
    "start_time": "2021-12-23T11:59:00.142Z"
   },
   {
    "duration": 10,
    "start_time": "2021-12-23T11:59:12.761Z"
   },
   {
    "duration": 7,
    "start_time": "2021-12-23T11:59:45.682Z"
   },
   {
    "duration": 11,
    "start_time": "2021-12-23T11:59:50.847Z"
   },
   {
    "duration": 12,
    "start_time": "2021-12-23T12:00:24.405Z"
   },
   {
    "duration": 7,
    "start_time": "2021-12-23T12:05:30.862Z"
   },
   {
    "duration": 8,
    "start_time": "2021-12-23T12:05:32.658Z"
   },
   {
    "duration": 9,
    "start_time": "2021-12-23T12:05:37.764Z"
   },
   {
    "duration": 7,
    "start_time": "2021-12-23T12:06:10.201Z"
   },
   {
    "duration": 9,
    "start_time": "2021-12-23T12:06:14.672Z"
   },
   {
    "duration": 7,
    "start_time": "2021-12-23T12:06:40.815Z"
   },
   {
    "duration": 9,
    "start_time": "2021-12-23T12:06:43.789Z"
   },
   {
    "duration": 7,
    "start_time": "2021-12-23T12:08:03.827Z"
   },
   {
    "duration": 10,
    "start_time": "2021-12-23T12:08:06.905Z"
   },
   {
    "duration": 7,
    "start_time": "2021-12-23T12:08:14.164Z"
   },
   {
    "duration": 7,
    "start_time": "2021-12-23T12:08:19.976Z"
   },
   {
    "duration": 10,
    "start_time": "2021-12-23T12:08:21.352Z"
   },
   {
    "duration": 695,
    "start_time": "2021-12-23T12:10:12.956Z"
   },
   {
    "duration": 8,
    "start_time": "2021-12-23T12:12:53.790Z"
   },
   {
    "duration": 128,
    "start_time": "2021-12-23T12:13:57.095Z"
   },
   {
    "duration": 51,
    "start_time": "2021-12-23T12:13:57.225Z"
   },
   {
    "duration": 17,
    "start_time": "2021-12-23T12:13:57.279Z"
   },
   {
    "duration": 140,
    "start_time": "2021-12-23T12:13:57.299Z"
   },
   {
    "duration": 30,
    "start_time": "2021-12-23T12:13:57.442Z"
   },
   {
    "duration": 12,
    "start_time": "2021-12-23T12:13:57.475Z"
   },
   {
    "duration": 13,
    "start_time": "2021-12-23T12:13:57.489Z"
   },
   {
    "duration": 10,
    "start_time": "2021-12-23T12:13:57.507Z"
   },
   {
    "duration": 43,
    "start_time": "2021-12-23T12:13:57.521Z"
   },
   {
    "duration": 12,
    "start_time": "2021-12-23T12:13:57.567Z"
   },
   {
    "duration": 6,
    "start_time": "2021-12-23T12:13:57.582Z"
   },
   {
    "duration": 7,
    "start_time": "2021-12-23T12:13:57.592Z"
   },
   {
    "duration": 61,
    "start_time": "2021-12-23T12:13:57.602Z"
   },
   {
    "duration": 6,
    "start_time": "2021-12-23T12:13:57.666Z"
   },
   {
    "duration": 9,
    "start_time": "2021-12-23T12:13:57.674Z"
   },
   {
    "duration": 9,
    "start_time": "2021-12-23T12:13:57.685Z"
   },
   {
    "duration": 7,
    "start_time": "2021-12-23T12:13:57.697Z"
   },
   {
    "duration": 58,
    "start_time": "2021-12-23T12:13:57.709Z"
   },
   {
    "duration": 13,
    "start_time": "2021-12-23T12:13:57.771Z"
   },
   {
    "duration": 131,
    "start_time": "2021-12-23T12:13:57.787Z"
   },
   {
    "duration": 6,
    "start_time": "2021-12-23T12:13:57.920Z"
   },
   {
    "duration": 17,
    "start_time": "2021-12-23T12:13:57.928Z"
   },
   {
    "duration": 7,
    "start_time": "2021-12-23T12:13:57.962Z"
   },
   {
    "duration": 12,
    "start_time": "2021-12-23T12:13:57.972Z"
   },
   {
    "duration": 10,
    "start_time": "2021-12-23T12:13:57.987Z"
   },
   {
    "duration": 7,
    "start_time": "2021-12-23T12:13:58.000Z"
   },
   {
    "duration": 8,
    "start_time": "2021-12-23T12:13:58.009Z"
   },
   {
    "duration": 6,
    "start_time": "2021-12-23T12:13:58.063Z"
   },
   {
    "duration": 8,
    "start_time": "2021-12-23T12:13:58.071Z"
   },
   {
    "duration": 2163,
    "start_time": "2021-12-23T12:13:58.081Z"
   },
   {
    "duration": 2101,
    "start_time": "2021-12-23T12:13:58.147Z"
   },
   {
    "duration": 2091,
    "start_time": "2021-12-23T12:13:58.159Z"
   },
   {
    "duration": 2088,
    "start_time": "2021-12-23T12:13:58.164Z"
   },
   {
    "duration": 2079,
    "start_time": "2021-12-23T12:13:58.175Z"
   },
   {
    "duration": 2256,
    "start_time": "2021-12-23T12:14:28.198Z"
   },
   {
    "duration": 3188,
    "start_time": "2021-12-23T12:15:24.147Z"
   },
   {
    "duration": 14,
    "start_time": "2021-12-23T12:16:23.827Z"
   },
   {
    "duration": 3298,
    "start_time": "2021-12-23T12:17:03.952Z"
   },
   {
    "duration": 6533,
    "start_time": "2021-12-23T12:17:07.262Z"
   },
   {
    "duration": 13,
    "start_time": "2021-12-23T12:17:13.797Z"
   },
   {
    "duration": 2577,
    "start_time": "2021-12-23T12:25:46.463Z"
   },
   {
    "duration": 132,
    "start_time": "2021-12-23T12:25:51.063Z"
   },
   {
    "duration": 65,
    "start_time": "2021-12-23T12:25:51.198Z"
   },
   {
    "duration": 15,
    "start_time": "2021-12-23T12:25:51.265Z"
   },
   {
    "duration": 130,
    "start_time": "2021-12-23T12:25:51.283Z"
   },
   {
    "duration": 11,
    "start_time": "2021-12-23T12:25:51.416Z"
   },
   {
    "duration": 34,
    "start_time": "2021-12-23T12:25:51.430Z"
   },
   {
    "duration": 11,
    "start_time": "2021-12-23T12:25:51.468Z"
   },
   {
    "duration": 12,
    "start_time": "2021-12-23T12:25:51.482Z"
   },
   {
    "duration": 7,
    "start_time": "2021-12-23T12:25:51.501Z"
   },
   {
    "duration": 11,
    "start_time": "2021-12-23T12:25:51.511Z"
   },
   {
    "duration": 9,
    "start_time": "2021-12-23T12:25:51.564Z"
   },
   {
    "duration": 7,
    "start_time": "2021-12-23T12:25:51.576Z"
   },
   {
    "duration": 7,
    "start_time": "2021-12-23T12:25:51.586Z"
   },
   {
    "duration": 7,
    "start_time": "2021-12-23T12:25:51.596Z"
   },
   {
    "duration": 62,
    "start_time": "2021-12-23T12:25:51.605Z"
   },
   {
    "duration": 10,
    "start_time": "2021-12-23T12:25:51.670Z"
   },
   {
    "duration": 8,
    "start_time": "2021-12-23T12:25:51.683Z"
   },
   {
    "duration": 7,
    "start_time": "2021-12-23T12:25:51.693Z"
   },
   {
    "duration": 60,
    "start_time": "2021-12-23T12:25:51.703Z"
   },
   {
    "duration": 130,
    "start_time": "2021-12-23T12:25:51.766Z"
   },
   {
    "duration": 6,
    "start_time": "2021-12-23T12:25:51.899Z"
   },
   {
    "duration": 13,
    "start_time": "2021-12-23T12:25:51.907Z"
   },
   {
    "duration": 40,
    "start_time": "2021-12-23T12:25:51.922Z"
   },
   {
    "duration": 9,
    "start_time": "2021-12-23T12:25:51.964Z"
   },
   {
    "duration": 14,
    "start_time": "2021-12-23T12:25:51.976Z"
   },
   {
    "duration": 7,
    "start_time": "2021-12-23T12:25:51.992Z"
   },
   {
    "duration": 2049,
    "start_time": "2021-12-23T12:25:52.004Z"
   },
   {
    "duration": 2134,
    "start_time": "2021-12-23T12:25:51.922Z"
   },
   {
    "duration": 2119,
    "start_time": "2021-12-23T12:25:51.938Z"
   },
   {
    "duration": 2115,
    "start_time": "2021-12-23T12:25:51.944Z"
   },
   {
    "duration": 2112,
    "start_time": "2021-12-23T12:25:51.948Z"
   },
   {
    "duration": 380,
    "start_time": "2021-12-23T12:34:43.307Z"
   },
   {
    "duration": 361,
    "start_time": "2021-12-23T12:35:19.200Z"
   },
   {
    "duration": 372,
    "start_time": "2021-12-23T12:35:29.444Z"
   },
   {
    "duration": 344,
    "start_time": "2021-12-23T12:36:27.819Z"
   },
   {
    "duration": 136,
    "start_time": "2021-12-23T12:36:36.710Z"
   },
   {
    "duration": 49,
    "start_time": "2021-12-23T12:36:36.863Z"
   },
   {
    "duration": 17,
    "start_time": "2021-12-23T12:36:36.917Z"
   },
   {
    "duration": 150,
    "start_time": "2021-12-23T12:36:36.937Z"
   },
   {
    "duration": 11,
    "start_time": "2021-12-23T12:36:37.090Z"
   },
   {
    "duration": 7,
    "start_time": "2021-12-23T12:36:37.104Z"
   },
   {
    "duration": 10,
    "start_time": "2021-12-23T12:36:37.114Z"
   },
   {
    "duration": 37,
    "start_time": "2021-12-23T12:36:37.128Z"
   },
   {
    "duration": 7,
    "start_time": "2021-12-23T12:36:37.168Z"
   },
   {
    "duration": 8,
    "start_time": "2021-12-23T12:36:37.178Z"
   },
   {
    "duration": 6,
    "start_time": "2021-12-23T12:36:37.189Z"
   },
   {
    "duration": 8,
    "start_time": "2021-12-23T12:36:37.198Z"
   },
   {
    "duration": 8,
    "start_time": "2021-12-23T12:36:37.265Z"
   },
   {
    "duration": 6,
    "start_time": "2021-12-23T12:36:37.280Z"
   },
   {
    "duration": 8,
    "start_time": "2021-12-23T12:36:37.289Z"
   },
   {
    "duration": 8,
    "start_time": "2021-12-23T12:36:37.300Z"
   },
   {
    "duration": 6,
    "start_time": "2021-12-23T12:36:37.311Z"
   },
   {
    "duration": 8,
    "start_time": "2021-12-23T12:36:37.362Z"
   },
   {
    "duration": 11,
    "start_time": "2021-12-23T12:36:37.373Z"
   },
   {
    "duration": 137,
    "start_time": "2021-12-23T12:36:37.387Z"
   },
   {
    "duration": 8,
    "start_time": "2021-12-23T12:36:37.526Z"
   },
   {
    "duration": 39,
    "start_time": "2021-12-23T12:36:37.537Z"
   },
   {
    "duration": 11,
    "start_time": "2021-12-23T12:36:37.583Z"
   },
   {
    "duration": 13,
    "start_time": "2021-12-23T12:36:37.597Z"
   },
   {
    "duration": 15,
    "start_time": "2021-12-23T12:36:37.614Z"
   },
   {
    "duration": 185,
    "start_time": "2021-12-23T12:36:37.664Z"
   },
   {
    "duration": 13,
    "start_time": "2021-12-23T12:36:37.853Z"
   },
   {
    "duration": 18,
    "start_time": "2021-12-23T12:36:37.870Z"
   },
   {
    "duration": 104,
    "start_time": "2021-12-23T12:36:37.892Z"
   },
   {
    "duration": 13,
    "start_time": "2021-12-23T12:36:37.999Z"
   },
   {
    "duration": 525,
    "start_time": "2021-12-23T12:36:38.015Z"
   },
   {
    "duration": 221,
    "start_time": "2021-12-23T12:38:39.470Z"
   },
   {
    "duration": 11,
    "start_time": "2021-12-23T12:38:43.473Z"
   },
   {
    "duration": 237,
    "start_time": "2021-12-23T12:39:30.506Z"
   },
   {
    "duration": 12,
    "start_time": "2021-12-23T12:39:35.512Z"
   },
   {
    "duration": 416,
    "start_time": "2021-12-23T12:40:11.037Z"
   },
   {
    "duration": 11,
    "start_time": "2021-12-23T12:40:13.065Z"
   },
   {
    "duration": 15,
    "start_time": "2021-12-23T12:40:19.263Z"
   },
   {
    "duration": 51,
    "start_time": "2021-12-23T12:40:27.557Z"
   },
   {
    "duration": 15,
    "start_time": "2021-12-23T12:40:37.741Z"
   },
   {
    "duration": 2419,
    "start_time": "2021-12-23T12:48:25.893Z"
   },
   {
    "duration": 9,
    "start_time": "2021-12-23T12:51:16.380Z"
   },
   {
    "duration": 50,
    "start_time": "2021-12-23T12:51:23.519Z"
   },
   {
    "duration": 15,
    "start_time": "2021-12-23T12:51:42.903Z"
   },
   {
    "duration": 62417,
    "start_time": "2021-12-23T12:55:44.071Z"
   },
   {
    "duration": 17,
    "start_time": "2021-12-23T12:57:33.458Z"
   },
   {
    "duration": 2619,
    "start_time": "2021-12-23T12:58:27.150Z"
   },
   {
    "duration": 2619,
    "start_time": "2021-12-23T12:58:58.438Z"
   },
   {
    "duration": 2514,
    "start_time": "2021-12-23T12:59:55.687Z"
   },
   {
    "duration": 124,
    "start_time": "2021-12-23T13:00:05.196Z"
   },
   {
    "duration": 62,
    "start_time": "2021-12-23T13:00:05.323Z"
   },
   {
    "duration": 24,
    "start_time": "2021-12-23T13:00:05.389Z"
   },
   {
    "duration": 135,
    "start_time": "2021-12-23T13:00:05.416Z"
   },
   {
    "duration": 12,
    "start_time": "2021-12-23T13:00:05.563Z"
   },
   {
    "duration": 10,
    "start_time": "2021-12-23T13:00:05.577Z"
   },
   {
    "duration": 11,
    "start_time": "2021-12-23T13:00:05.590Z"
   },
   {
    "duration": 58,
    "start_time": "2021-12-23T13:00:05.603Z"
   },
   {
    "duration": 6,
    "start_time": "2021-12-23T13:00:05.666Z"
   },
   {
    "duration": 9,
    "start_time": "2021-12-23T13:00:05.676Z"
   },
   {
    "duration": 6,
    "start_time": "2021-12-23T13:00:05.688Z"
   },
   {
    "duration": 10,
    "start_time": "2021-12-23T13:00:05.696Z"
   },
   {
    "duration": 6,
    "start_time": "2021-12-23T13:00:05.709Z"
   },
   {
    "duration": 47,
    "start_time": "2021-12-23T13:00:05.717Z"
   },
   {
    "duration": 8,
    "start_time": "2021-12-23T13:00:05.767Z"
   },
   {
    "duration": 7,
    "start_time": "2021-12-23T13:00:05.778Z"
   },
   {
    "duration": 7,
    "start_time": "2021-12-23T13:00:05.788Z"
   },
   {
    "duration": 6,
    "start_time": "2021-12-23T13:00:05.798Z"
   },
   {
    "duration": 57,
    "start_time": "2021-12-23T13:00:05.806Z"
   },
   {
    "duration": 104,
    "start_time": "2021-12-23T13:00:05.866Z"
   },
   {
    "duration": 6,
    "start_time": "2021-12-23T13:00:05.972Z"
   },
   {
    "duration": 12,
    "start_time": "2021-12-23T13:00:05.981Z"
   },
   {
    "duration": 7,
    "start_time": "2021-12-23T13:00:05.996Z"
   },
   {
    "duration": 10,
    "start_time": "2021-12-23T13:00:06.005Z"
   },
   {
    "duration": 52,
    "start_time": "2021-12-23T13:00:06.018Z"
   },
   {
    "duration": 275,
    "start_time": "2021-12-23T13:00:06.073Z"
   },
   {
    "duration": 16,
    "start_time": "2021-12-23T13:00:06.353Z"
   },
   {
    "duration": 2469,
    "start_time": "2021-12-23T13:00:06.372Z"
   },
   {
    "duration": 20,
    "start_time": "2021-12-23T13:00:08.844Z"
   },
   {
    "duration": 9,
    "start_time": "2021-12-23T13:00:08.867Z"
   },
   {
    "duration": 2518,
    "start_time": "2021-12-23T13:00:08.879Z"
   },
   {
    "duration": 70,
    "start_time": "2021-12-23T13:00:11.400Z"
   },
   {
    "duration": 14,
    "start_time": "2021-12-23T13:00:11.473Z"
   },
   {
    "duration": 533,
    "start_time": "2021-12-23T13:00:11.490Z"
   },
   {
    "duration": 3069,
    "start_time": "2021-12-23T13:02:07.570Z"
   },
   {
    "duration": 13,
    "start_time": "2021-12-23T13:02:43.508Z"
   },
   {
    "duration": 69,
    "start_time": "2021-12-23T13:02:47.232Z"
   },
   {
    "duration": 14,
    "start_time": "2021-12-23T13:03:04.389Z"
   },
   {
    "duration": 2481,
    "start_time": "2021-12-23T13:08:28.932Z"
   },
   {
    "duration": 8,
    "start_time": "2021-12-23T13:09:28.506Z"
   },
   {
    "duration": 49,
    "start_time": "2021-12-23T13:09:32.540Z"
   },
   {
    "duration": 73,
    "start_time": "2021-12-23T13:09:49.274Z"
   },
   {
    "duration": 169,
    "start_time": "2021-12-23T13:10:13.529Z"
   },
   {
    "duration": 74,
    "start_time": "2021-12-23T13:10:13.701Z"
   },
   {
    "duration": 17,
    "start_time": "2021-12-23T13:10:13.778Z"
   },
   {
    "duration": 136,
    "start_time": "2021-12-23T13:10:13.798Z"
   },
   {
    "duration": 12,
    "start_time": "2021-12-23T13:10:13.936Z"
   },
   {
    "duration": 18,
    "start_time": "2021-12-23T13:10:13.950Z"
   },
   {
    "duration": 10,
    "start_time": "2021-12-23T13:10:13.970Z"
   },
   {
    "duration": 9,
    "start_time": "2021-12-23T13:10:13.983Z"
   },
   {
    "duration": 7,
    "start_time": "2021-12-23T13:10:13.995Z"
   },
   {
    "duration": 61,
    "start_time": "2021-12-23T13:10:14.005Z"
   },
   {
    "duration": 7,
    "start_time": "2021-12-23T13:10:14.068Z"
   },
   {
    "duration": 9,
    "start_time": "2021-12-23T13:10:14.078Z"
   },
   {
    "duration": 7,
    "start_time": "2021-12-23T13:10:14.090Z"
   },
   {
    "duration": 6,
    "start_time": "2021-12-23T13:10:14.100Z"
   },
   {
    "duration": 61,
    "start_time": "2021-12-23T13:10:14.109Z"
   },
   {
    "duration": 11,
    "start_time": "2021-12-23T13:10:14.172Z"
   },
   {
    "duration": 10,
    "start_time": "2021-12-23T13:10:14.185Z"
   },
   {
    "duration": 9,
    "start_time": "2021-12-23T13:10:14.197Z"
   },
   {
    "duration": 55,
    "start_time": "2021-12-23T13:10:14.209Z"
   },
   {
    "duration": 112,
    "start_time": "2021-12-23T13:10:14.266Z"
   },
   {
    "duration": 7,
    "start_time": "2021-12-23T13:10:14.380Z"
   },
   {
    "duration": 15,
    "start_time": "2021-12-23T13:10:14.390Z"
   },
   {
    "duration": 10,
    "start_time": "2021-12-23T13:10:14.412Z"
   },
   {
    "duration": 10,
    "start_time": "2021-12-23T13:10:14.465Z"
   },
   {
    "duration": 14,
    "start_time": "2021-12-23T13:10:14.477Z"
   },
   {
    "duration": 295,
    "start_time": "2021-12-23T13:10:14.494Z"
   },
   {
    "duration": 12,
    "start_time": "2021-12-23T13:10:14.791Z"
   },
   {
    "duration": 3017,
    "start_time": "2021-12-23T13:10:14.806Z"
   },
   {
    "duration": 8,
    "start_time": "2021-12-23T13:10:17.826Z"
   },
   {
    "duration": 27,
    "start_time": "2021-12-23T13:10:17.837Z"
   },
   {
    "duration": 3147,
    "start_time": "2021-12-23T13:10:17.867Z"
   },
   {
    "duration": 7,
    "start_time": "2021-12-23T13:10:21.017Z"
   },
   {
    "duration": 2862,
    "start_time": "2021-12-23T13:10:21.027Z"
   },
   {
    "duration": 8,
    "start_time": "2021-12-23T13:10:23.892Z"
   },
   {
    "duration": 69,
    "start_time": "2021-12-23T13:10:23.902Z"
   },
   {
    "duration": 18,
    "start_time": "2021-12-23T13:10:23.974Z"
   },
   {
    "duration": 507,
    "start_time": "2021-12-23T13:10:23.995Z"
   },
   {
    "duration": 9,
    "start_time": "2021-12-23T13:11:20.459Z"
   },
   {
    "duration": 78,
    "start_time": "2021-12-23T13:11:34.837Z"
   },
   {
    "duration": 14,
    "start_time": "2021-12-23T13:11:40.091Z"
   },
   {
    "duration": 8,
    "start_time": "2021-12-23T13:12:31.420Z"
   },
   {
    "duration": 51,
    "start_time": "2021-12-23T13:12:35.228Z"
   },
   {
    "duration": 16,
    "start_time": "2021-12-23T13:12:43.026Z"
   },
   {
    "duration": 9,
    "start_time": "2021-12-23T13:13:36.371Z"
   },
   {
    "duration": 8,
    "start_time": "2021-12-23T13:13:39.884Z"
   },
   {
    "duration": 21,
    "start_time": "2021-12-23T13:13:48.364Z"
   },
   {
    "duration": 61,
    "start_time": "2021-12-23T13:13:54.117Z"
   },
   {
    "duration": 8,
    "start_time": "2021-12-23T13:16:03.621Z"
   },
   {
    "duration": 2898,
    "start_time": "2021-12-23T13:16:05.201Z"
   },
   {
    "duration": 11,
    "start_time": "2021-12-23T13:16:16.539Z"
   },
   {
    "duration": 10,
    "start_time": "2021-12-23T13:16:29.771Z"
   },
   {
    "duration": 61,
    "start_time": "2021-12-23T13:16:32.152Z"
   },
   {
    "duration": 16,
    "start_time": "2021-12-23T13:16:43.878Z"
   },
   {
    "duration": 2725,
    "start_time": "2021-12-23T13:19:59.504Z"
   },
   {
    "duration": 9,
    "start_time": "2021-12-23T13:20:02.452Z"
   },
   {
    "duration": 50,
    "start_time": "2021-12-23T13:20:04.974Z"
   },
   {
    "duration": 14,
    "start_time": "2021-12-23T13:20:13.503Z"
   },
   {
    "duration": 7,
    "start_time": "2021-12-23T13:21:56.551Z"
   },
   {
    "duration": 2597,
    "start_time": "2021-12-23T13:23:12.072Z"
   },
   {
    "duration": 12,
    "start_time": "2021-12-23T13:23:44.391Z"
   },
   {
    "duration": 52,
    "start_time": "2021-12-23T13:23:47.980Z"
   },
   {
    "duration": 16,
    "start_time": "2021-12-23T13:24:10.144Z"
   },
   {
    "duration": 4,
    "start_time": "2021-12-23T13:25:06.689Z"
   },
   {
    "duration": 8,
    "start_time": "2021-12-23T13:33:56.159Z"
   },
   {
    "duration": 140,
    "start_time": "2021-12-23T13:34:37.266Z"
   },
   {
    "duration": 65,
    "start_time": "2021-12-23T13:34:37.409Z"
   },
   {
    "duration": 22,
    "start_time": "2021-12-23T13:34:37.477Z"
   },
   {
    "duration": 125,
    "start_time": "2021-12-23T13:34:37.502Z"
   },
   {
    "duration": 14,
    "start_time": "2021-12-23T13:34:37.631Z"
   },
   {
    "duration": 8,
    "start_time": "2021-12-23T13:34:37.663Z"
   },
   {
    "duration": 10,
    "start_time": "2021-12-23T13:34:37.674Z"
   },
   {
    "duration": 8,
    "start_time": "2021-12-23T13:34:37.686Z"
   },
   {
    "duration": 5,
    "start_time": "2021-12-23T13:34:37.698Z"
   },
   {
    "duration": 8,
    "start_time": "2021-12-23T13:34:37.706Z"
   },
   {
    "duration": 50,
    "start_time": "2021-12-23T13:34:37.716Z"
   },
   {
    "duration": 20,
    "start_time": "2021-12-23T13:34:37.769Z"
   },
   {
    "duration": 22,
    "start_time": "2021-12-23T13:34:37.791Z"
   },
   {
    "duration": 8,
    "start_time": "2021-12-23T13:34:37.815Z"
   },
   {
    "duration": 13,
    "start_time": "2021-12-23T13:34:37.826Z"
   },
   {
    "duration": 22,
    "start_time": "2021-12-23T13:34:37.841Z"
   },
   {
    "duration": 14,
    "start_time": "2021-12-23T13:34:37.866Z"
   },
   {
    "duration": 17,
    "start_time": "2021-12-23T13:34:37.882Z"
   },
   {
    "duration": 13,
    "start_time": "2021-12-23T13:34:37.902Z"
   },
   {
    "duration": 119,
    "start_time": "2021-12-23T13:34:37.918Z"
   },
   {
    "duration": 23,
    "start_time": "2021-12-23T13:34:38.040Z"
   },
   {
    "duration": 16,
    "start_time": "2021-12-23T13:34:38.066Z"
   },
   {
    "duration": 10,
    "start_time": "2021-12-23T13:34:38.085Z"
   },
   {
    "duration": 12,
    "start_time": "2021-12-23T13:34:38.098Z"
   },
   {
    "duration": 58,
    "start_time": "2021-12-23T13:34:38.113Z"
   },
   {
    "duration": 282,
    "start_time": "2021-12-23T13:34:38.174Z"
   },
   {
    "duration": 12,
    "start_time": "2021-12-23T13:34:38.461Z"
   },
   {
    "duration": 2486,
    "start_time": "2021-12-23T13:34:38.477Z"
   },
   {
    "duration": 7,
    "start_time": "2021-12-23T13:34:40.965Z"
   },
   {
    "duration": 12,
    "start_time": "2021-12-23T13:34:40.975Z"
   },
   {
    "duration": 2490,
    "start_time": "2021-12-23T13:34:40.989Z"
   },
   {
    "duration": 9,
    "start_time": "2021-12-23T13:34:43.482Z"
   },
   {
    "duration": 2582,
    "start_time": "2021-12-23T13:34:43.494Z"
   },
   {
    "duration": 10,
    "start_time": "2021-12-23T13:34:46.078Z"
   },
   {
    "duration": 7,
    "start_time": "2021-12-23T13:34:46.091Z"
   },
   {
    "duration": 2709,
    "start_time": "2021-12-23T13:34:46.100Z"
   },
   {
    "duration": 8,
    "start_time": "2021-12-23T13:34:48.811Z"
   },
   {
    "duration": 6,
    "start_time": "2021-12-23T13:34:48.821Z"
   },
   {
    "duration": 309,
    "start_time": "2021-12-23T13:34:48.830Z"
   },
   {
    "duration": 2154,
    "start_time": "2021-12-23T13:34:46.987Z"
   },
   {
    "duration": 2152,
    "start_time": "2021-12-23T13:34:46.991Z"
   },
   {
    "duration": 2152,
    "start_time": "2021-12-23T13:34:46.994Z"
   },
   {
    "duration": 2150,
    "start_time": "2021-12-23T13:34:46.998Z"
   },
   {
    "duration": 14,
    "start_time": "2021-12-23T13:35:58.876Z"
   },
   {
    "duration": 124,
    "start_time": "2021-12-23T13:36:22.287Z"
   },
   {
    "duration": 77,
    "start_time": "2021-12-23T13:36:22.413Z"
   },
   {
    "duration": 16,
    "start_time": "2021-12-23T13:36:22.493Z"
   },
   {
    "duration": 156,
    "start_time": "2021-12-23T13:36:22.512Z"
   },
   {
    "duration": 14,
    "start_time": "2021-12-23T13:36:22.671Z"
   },
   {
    "duration": 9,
    "start_time": "2021-12-23T13:36:22.687Z"
   },
   {
    "duration": 8,
    "start_time": "2021-12-23T13:36:22.698Z"
   },
   {
    "duration": 8,
    "start_time": "2021-12-23T13:36:22.708Z"
   },
   {
    "duration": 46,
    "start_time": "2021-12-23T13:36:22.720Z"
   },
   {
    "duration": 9,
    "start_time": "2021-12-23T13:36:22.768Z"
   },
   {
    "duration": 7,
    "start_time": "2021-12-23T13:36:22.780Z"
   },
   {
    "duration": 8,
    "start_time": "2021-12-23T13:36:22.790Z"
   },
   {
    "duration": 8,
    "start_time": "2021-12-23T13:36:22.801Z"
   },
   {
    "duration": 56,
    "start_time": "2021-12-23T13:36:22.811Z"
   },
   {
    "duration": 8,
    "start_time": "2021-12-23T13:36:22.871Z"
   },
   {
    "duration": 7,
    "start_time": "2021-12-23T13:36:22.881Z"
   },
   {
    "duration": 6,
    "start_time": "2021-12-23T13:36:22.891Z"
   },
   {
    "duration": 8,
    "start_time": "2021-12-23T13:36:22.900Z"
   },
   {
    "duration": 10,
    "start_time": "2021-12-23T13:36:22.963Z"
   },
   {
    "duration": 111,
    "start_time": "2021-12-23T13:36:22.975Z"
   },
   {
    "duration": 20,
    "start_time": "2021-12-23T13:36:23.088Z"
   },
   {
    "duration": 16,
    "start_time": "2021-12-23T13:36:23.111Z"
   },
   {
    "duration": 8,
    "start_time": "2021-12-23T13:36:23.130Z"
   },
   {
    "duration": 11,
    "start_time": "2021-12-23T13:36:23.164Z"
   },
   {
    "duration": 11,
    "start_time": "2021-12-23T13:36:23.178Z"
   },
   {
    "duration": 352,
    "start_time": "2021-12-23T13:36:23.193Z"
   },
   {
    "duration": 12,
    "start_time": "2021-12-23T13:36:23.562Z"
   },
   {
    "duration": 2574,
    "start_time": "2021-12-23T13:36:23.577Z"
   },
   {
    "duration": 8,
    "start_time": "2021-12-23T13:36:26.162Z"
   },
   {
    "duration": 12,
    "start_time": "2021-12-23T13:36:26.173Z"
   },
   {
    "duration": 2537,
    "start_time": "2021-12-23T13:36:26.187Z"
   },
   {
    "duration": 8,
    "start_time": "2021-12-23T13:36:28.726Z"
   },
   {
    "duration": 2839,
    "start_time": "2021-12-23T13:36:28.736Z"
   },
   {
    "duration": 7,
    "start_time": "2021-12-23T13:36:31.578Z"
   },
   {
    "duration": 8,
    "start_time": "2021-12-23T13:36:31.587Z"
   },
   {
    "duration": 2605,
    "start_time": "2021-12-23T13:36:31.598Z"
   },
   {
    "duration": 8,
    "start_time": "2021-12-23T13:36:34.205Z"
   },
   {
    "duration": 7,
    "start_time": "2021-12-23T13:36:34.215Z"
   },
   {
    "duration": 346,
    "start_time": "2021-12-23T13:36:34.224Z"
   },
   {
    "duration": 2162,
    "start_time": "2021-12-23T13:36:32.411Z"
   },
   {
    "duration": 2161,
    "start_time": "2021-12-23T13:36:32.414Z"
   },
   {
    "duration": 2159,
    "start_time": "2021-12-23T13:36:32.418Z"
   },
   {
    "duration": 2157,
    "start_time": "2021-12-23T13:36:32.422Z"
   },
   {
    "duration": 7,
    "start_time": "2021-12-23T13:37:36.500Z"
   },
   {
    "duration": 7,
    "start_time": "2021-12-23T13:37:41.138Z"
   },
   {
    "duration": 2642,
    "start_time": "2021-12-23T13:41:07.281Z"
   },
   {
    "duration": 7,
    "start_time": "2021-12-23T13:41:13.829Z"
   },
   {
    "duration": 9,
    "start_time": "2021-12-23T13:41:17.373Z"
   },
   {
    "duration": 8,
    "start_time": "2021-12-23T13:42:03.980Z"
   },
   {
    "duration": 7,
    "start_time": "2021-12-23T13:42:05.490Z"
   },
   {
    "duration": 8,
    "start_time": "2021-12-23T13:42:10.024Z"
   },
   {
    "duration": 209,
    "start_time": "2021-12-23T13:42:21.659Z"
   },
   {
    "duration": 49,
    "start_time": "2021-12-23T13:42:21.872Z"
   },
   {
    "duration": 40,
    "start_time": "2021-12-23T13:42:21.924Z"
   },
   {
    "duration": 127,
    "start_time": "2021-12-23T13:42:21.967Z"
   },
   {
    "duration": 12,
    "start_time": "2021-12-23T13:42:22.096Z"
   },
   {
    "duration": 12,
    "start_time": "2021-12-23T13:42:22.111Z"
   },
   {
    "duration": 15,
    "start_time": "2021-12-23T13:42:22.125Z"
   },
   {
    "duration": 28,
    "start_time": "2021-12-23T13:42:22.144Z"
   },
   {
    "duration": 7,
    "start_time": "2021-12-23T13:42:22.176Z"
   },
   {
    "duration": 9,
    "start_time": "2021-12-23T13:42:22.187Z"
   },
   {
    "duration": 5,
    "start_time": "2021-12-23T13:42:22.199Z"
   },
   {
    "duration": 7,
    "start_time": "2021-12-23T13:42:22.207Z"
   },
   {
    "duration": 9,
    "start_time": "2021-12-23T13:42:22.263Z"
   },
   {
    "duration": 8,
    "start_time": "2021-12-23T13:42:22.274Z"
   },
   {
    "duration": 7,
    "start_time": "2021-12-23T13:42:22.285Z"
   },
   {
    "duration": 7,
    "start_time": "2021-12-23T13:42:22.295Z"
   },
   {
    "duration": 6,
    "start_time": "2021-12-23T13:42:22.305Z"
   },
   {
    "duration": 7,
    "start_time": "2021-12-23T13:42:22.362Z"
   },
   {
    "duration": 37,
    "start_time": "2021-12-23T13:42:22.371Z"
   },
   {
    "duration": 96,
    "start_time": "2021-12-23T13:42:22.412Z"
   },
   {
    "duration": 6,
    "start_time": "2021-12-23T13:42:22.510Z"
   },
   {
    "duration": 29,
    "start_time": "2021-12-23T13:42:22.518Z"
   },
   {
    "duration": 9,
    "start_time": "2021-12-23T13:42:22.563Z"
   },
   {
    "duration": 22,
    "start_time": "2021-12-23T13:42:22.575Z"
   },
   {
    "duration": 28,
    "start_time": "2021-12-23T13:42:22.600Z"
   },
   {
    "duration": 280,
    "start_time": "2021-12-23T13:42:22.631Z"
   },
   {
    "duration": 12,
    "start_time": "2021-12-23T13:42:22.913Z"
   },
   {
    "duration": 2618,
    "start_time": "2021-12-23T13:42:22.927Z"
   },
   {
    "duration": 18,
    "start_time": "2021-12-23T13:42:25.547Z"
   },
   {
    "duration": 18,
    "start_time": "2021-12-23T13:42:25.567Z"
   },
   {
    "duration": 2736,
    "start_time": "2021-12-23T13:42:25.588Z"
   },
   {
    "duration": 8,
    "start_time": "2021-12-23T13:42:28.326Z"
   },
   {
    "duration": 2892,
    "start_time": "2021-12-23T13:42:28.337Z"
   },
   {
    "duration": 8,
    "start_time": "2021-12-23T13:42:31.231Z"
   },
   {
    "duration": 24,
    "start_time": "2021-12-23T13:42:31.241Z"
   },
   {
    "duration": 2706,
    "start_time": "2021-12-23T13:42:31.268Z"
   },
   {
    "duration": 8,
    "start_time": "2021-12-23T13:42:33.976Z"
   },
   {
    "duration": 2919,
    "start_time": "2021-12-23T13:42:33.987Z"
   },
   {
    "duration": 7,
    "start_time": "2021-12-23T13:42:36.909Z"
   },
   {
    "duration": 6,
    "start_time": "2021-12-23T13:42:36.919Z"
   },
   {
    "duration": 40,
    "start_time": "2021-12-23T13:42:36.928Z"
   },
   {
    "duration": 2697,
    "start_time": "2021-12-23T13:42:36.971Z"
   },
   {
    "duration": 12,
    "start_time": "2021-12-23T13:42:39.671Z"
   },
   {
    "duration": 49,
    "start_time": "2021-12-23T13:42:39.785Z"
   },
   {
    "duration": 40,
    "start_time": "2021-12-23T13:42:39.837Z"
   },
   {
    "duration": 131,
    "start_time": "2021-12-23T13:42:42.003Z"
   },
   {
    "duration": 61,
    "start_time": "2021-12-23T13:42:42.136Z"
   },
   {
    "duration": 16,
    "start_time": "2021-12-23T13:42:42.201Z"
   },
   {
    "duration": 144,
    "start_time": "2021-12-23T13:42:42.220Z"
   },
   {
    "duration": 15,
    "start_time": "2021-12-23T13:42:42.367Z"
   },
   {
    "duration": 14,
    "start_time": "2021-12-23T13:42:42.384Z"
   },
   {
    "duration": 10,
    "start_time": "2021-12-23T13:42:42.400Z"
   },
   {
    "duration": 9,
    "start_time": "2021-12-23T13:42:42.413Z"
   },
   {
    "duration": 7,
    "start_time": "2021-12-23T13:42:42.463Z"
   },
   {
    "duration": 14,
    "start_time": "2021-12-23T13:42:42.474Z"
   },
   {
    "duration": 7,
    "start_time": "2021-12-23T13:42:42.490Z"
   },
   {
    "duration": 6,
    "start_time": "2021-12-23T13:42:42.500Z"
   },
   {
    "duration": 7,
    "start_time": "2021-12-23T13:42:42.509Z"
   },
   {
    "duration": 47,
    "start_time": "2021-12-23T13:42:42.519Z"
   },
   {
    "duration": 10,
    "start_time": "2021-12-23T13:42:42.569Z"
   },
   {
    "duration": 7,
    "start_time": "2021-12-23T13:42:42.582Z"
   },
   {
    "duration": 6,
    "start_time": "2021-12-23T13:42:42.592Z"
   },
   {
    "duration": 5,
    "start_time": "2021-12-23T13:42:42.600Z"
   },
   {
    "duration": 55,
    "start_time": "2021-12-23T13:42:42.608Z"
   },
   {
    "duration": 111,
    "start_time": "2021-12-23T13:42:42.666Z"
   },
   {
    "duration": 7,
    "start_time": "2021-12-23T13:42:42.780Z"
   },
   {
    "duration": 17,
    "start_time": "2021-12-23T13:42:42.789Z"
   },
   {
    "duration": 7,
    "start_time": "2021-12-23T13:42:42.809Z"
   },
   {
    "duration": 47,
    "start_time": "2021-12-23T13:42:42.818Z"
   },
   {
    "duration": 14,
    "start_time": "2021-12-23T13:42:42.868Z"
   },
   {
    "duration": 289,
    "start_time": "2021-12-23T13:42:42.885Z"
   },
   {
    "duration": 11,
    "start_time": "2021-12-23T13:42:43.180Z"
   },
   {
    "duration": 2742,
    "start_time": "2021-12-23T13:42:43.194Z"
   },
   {
    "duration": 7,
    "start_time": "2021-12-23T13:42:45.938Z"
   },
   {
    "duration": 24,
    "start_time": "2021-12-23T13:42:45.948Z"
   },
   {
    "duration": 2870,
    "start_time": "2021-12-23T13:42:45.976Z"
   },
   {
    "duration": 17,
    "start_time": "2021-12-23T13:42:48.849Z"
   },
   {
    "duration": 3003,
    "start_time": "2021-12-23T13:42:48.869Z"
   },
   {
    "duration": 8,
    "start_time": "2021-12-23T13:42:51.875Z"
   },
   {
    "duration": 15,
    "start_time": "2021-12-23T13:42:51.886Z"
   },
   {
    "duration": 2843,
    "start_time": "2021-12-23T13:42:51.904Z"
   },
   {
    "duration": 19,
    "start_time": "2021-12-23T13:42:54.750Z"
   },
   {
    "duration": 2709,
    "start_time": "2021-12-23T13:42:54.772Z"
   },
   {
    "duration": 8,
    "start_time": "2021-12-23T13:42:57.483Z"
   },
   {
    "duration": 7,
    "start_time": "2021-12-23T13:42:57.493Z"
   },
   {
    "duration": 9,
    "start_time": "2021-12-23T13:42:57.503Z"
   },
   {
    "duration": 2713,
    "start_time": "2021-12-23T13:42:57.515Z"
   },
   {
    "duration": 7,
    "start_time": "2021-12-23T13:43:00.231Z"
   },
   {
    "duration": 72,
    "start_time": "2021-12-23T13:43:00.240Z"
   },
   {
    "duration": 14,
    "start_time": "2021-12-23T13:43:00.315Z"
   },
   {
    "duration": 2629,
    "start_time": "2021-12-23T13:44:05.118Z"
   },
   {
    "duration": 48,
    "start_time": "2021-12-23T13:44:08.787Z"
   },
   {
    "duration": 13,
    "start_time": "2021-12-23T13:44:12.399Z"
   },
   {
    "duration": 8,
    "start_time": "2021-12-23T13:45:05.199Z"
   },
   {
    "duration": 2902,
    "start_time": "2021-12-23T13:45:05.882Z"
   },
   {
    "duration": 7,
    "start_time": "2021-12-23T13:45:08.786Z"
   },
   {
    "duration": 72,
    "start_time": "2021-12-23T13:45:08.796Z"
   },
   {
    "duration": 16,
    "start_time": "2021-12-23T13:45:08.871Z"
   },
   {
    "duration": 6,
    "start_time": "2021-12-23T13:46:03.544Z"
   },
   {
    "duration": 2682,
    "start_time": "2021-12-23T13:46:04.243Z"
   },
   {
    "duration": 10,
    "start_time": "2021-12-23T13:46:06.928Z"
   },
   {
    "duration": 70,
    "start_time": "2021-12-23T13:46:06.941Z"
   },
   {
    "duration": 14,
    "start_time": "2021-12-23T13:46:07.014Z"
   },
   {
    "duration": 138,
    "start_time": "2021-12-23T13:47:13.070Z"
   },
   {
    "duration": 72,
    "start_time": "2021-12-23T13:47:13.211Z"
   },
   {
    "duration": 15,
    "start_time": "2021-12-23T13:47:13.286Z"
   },
   {
    "duration": 143,
    "start_time": "2021-12-23T13:47:13.304Z"
   },
   {
    "duration": 17,
    "start_time": "2021-12-23T13:47:13.451Z"
   },
   {
    "duration": 10,
    "start_time": "2021-12-23T13:47:13.471Z"
   },
   {
    "duration": 11,
    "start_time": "2021-12-23T13:47:13.483Z"
   },
   {
    "duration": 8,
    "start_time": "2021-12-23T13:47:13.497Z"
   },
   {
    "duration": 5,
    "start_time": "2021-12-23T13:47:13.509Z"
   },
   {
    "duration": 9,
    "start_time": "2021-12-23T13:47:13.564Z"
   },
   {
    "duration": 7,
    "start_time": "2021-12-23T13:47:13.575Z"
   },
   {
    "duration": 10,
    "start_time": "2021-12-23T13:47:13.584Z"
   },
   {
    "duration": 6,
    "start_time": "2021-12-23T13:47:13.597Z"
   },
   {
    "duration": 16,
    "start_time": "2021-12-23T13:47:13.606Z"
   },
   {
    "duration": 45,
    "start_time": "2021-12-23T13:47:13.624Z"
   },
   {
    "duration": 10,
    "start_time": "2021-12-23T13:47:13.672Z"
   },
   {
    "duration": 6,
    "start_time": "2021-12-23T13:47:13.685Z"
   },
   {
    "duration": 6,
    "start_time": "2021-12-23T13:47:13.693Z"
   },
   {
    "duration": 10,
    "start_time": "2021-12-23T13:47:13.701Z"
   },
   {
    "duration": 133,
    "start_time": "2021-12-23T13:47:13.713Z"
   },
   {
    "duration": 20,
    "start_time": "2021-12-23T13:47:13.849Z"
   },
   {
    "duration": 25,
    "start_time": "2021-12-23T13:47:13.871Z"
   },
   {
    "duration": 17,
    "start_time": "2021-12-23T13:47:13.901Z"
   },
   {
    "duration": 23,
    "start_time": "2021-12-23T13:47:13.921Z"
   },
   {
    "duration": 19,
    "start_time": "2021-12-23T13:47:13.946Z"
   },
   {
    "duration": 286,
    "start_time": "2021-12-23T13:47:13.967Z"
   },
   {
    "duration": 19,
    "start_time": "2021-12-23T13:47:14.256Z"
   },
   {
    "duration": 2847,
    "start_time": "2021-12-23T13:47:14.278Z"
   },
   {
    "duration": 8,
    "start_time": "2021-12-23T13:47:17.127Z"
   },
   {
    "duration": 27,
    "start_time": "2021-12-23T13:47:17.138Z"
   },
   {
    "duration": 2978,
    "start_time": "2021-12-23T13:47:17.168Z"
   },
   {
    "duration": 22,
    "start_time": "2021-12-23T13:47:20.149Z"
   },
   {
    "duration": 2833,
    "start_time": "2021-12-23T13:47:20.174Z"
   },
   {
    "duration": 7,
    "start_time": "2021-12-23T13:47:23.010Z"
   },
   {
    "duration": 4,
    "start_time": "2021-12-23T13:47:23.020Z"
   },
   {
    "duration": 2725,
    "start_time": "2021-12-23T13:47:23.027Z"
   },
   {
    "duration": 10,
    "start_time": "2021-12-23T13:47:25.763Z"
   },
   {
    "duration": 2721,
    "start_time": "2021-12-23T13:47:25.776Z"
   },
   {
    "duration": 7,
    "start_time": "2021-12-23T13:47:28.500Z"
   },
   {
    "duration": 7,
    "start_time": "2021-12-23T13:47:28.510Z"
   },
   {
    "duration": 6,
    "start_time": "2021-12-23T13:47:28.519Z"
   },
   {
    "duration": 3077,
    "start_time": "2021-12-23T13:47:28.528Z"
   },
   {
    "duration": 8,
    "start_time": "2021-12-23T13:47:31.609Z"
   },
   {
    "duration": 77,
    "start_time": "2021-12-23T13:47:31.620Z"
   },
   {
    "duration": 15,
    "start_time": "2021-12-23T13:47:31.700Z"
   },
   {
    "duration": 322,
    "start_time": "2021-12-25T10:36:30.126Z"
   },
   {
    "duration": 987,
    "start_time": "2021-12-25T10:36:34.580Z"
   },
   {
    "duration": 50,
    "start_time": "2021-12-25T10:36:35.570Z"
   },
   {
    "duration": 24,
    "start_time": "2021-12-25T10:36:35.624Z"
   },
   {
    "duration": 122,
    "start_time": "2021-12-25T10:36:35.668Z"
   },
   {
    "duration": 13,
    "start_time": "2021-12-25T10:36:35.793Z"
   },
   {
    "duration": 17,
    "start_time": "2021-12-25T10:36:35.808Z"
   },
   {
    "duration": 15,
    "start_time": "2021-12-25T10:36:35.828Z"
   },
   {
    "duration": 27,
    "start_time": "2021-12-25T10:36:35.847Z"
   },
   {
    "duration": 7,
    "start_time": "2021-12-25T10:36:35.877Z"
   },
   {
    "duration": 16,
    "start_time": "2021-12-25T10:36:35.886Z"
   },
   {
    "duration": 5,
    "start_time": "2021-12-25T10:36:35.905Z"
   },
   {
    "duration": 8,
    "start_time": "2021-12-25T10:36:35.912Z"
   },
   {
    "duration": 44,
    "start_time": "2021-12-25T10:36:35.923Z"
   },
   {
    "duration": 7,
    "start_time": "2021-12-25T10:36:35.969Z"
   },
   {
    "duration": 9,
    "start_time": "2021-12-25T10:36:35.979Z"
   },
   {
    "duration": 18,
    "start_time": "2021-12-25T10:36:35.990Z"
   },
   {
    "duration": 6,
    "start_time": "2021-12-25T10:36:36.011Z"
   },
   {
    "duration": 7,
    "start_time": "2021-12-25T10:36:36.020Z"
   },
   {
    "duration": 9,
    "start_time": "2021-12-25T10:36:36.066Z"
   },
   {
    "duration": 108,
    "start_time": "2021-12-25T10:36:36.077Z"
   },
   {
    "duration": 6,
    "start_time": "2021-12-25T10:36:36.187Z"
   },
   {
    "duration": 20,
    "start_time": "2021-12-25T10:36:36.196Z"
   },
   {
    "duration": 5,
    "start_time": "2021-12-25T10:36:36.221Z"
   },
   {
    "duration": 41,
    "start_time": "2021-12-25T10:36:36.229Z"
   },
   {
    "duration": 12,
    "start_time": "2021-12-25T10:36:36.273Z"
   },
   {
    "duration": 299,
    "start_time": "2021-12-25T10:36:36.287Z"
   },
   {
    "duration": 12,
    "start_time": "2021-12-25T10:36:36.588Z"
   },
   {
    "duration": 2887,
    "start_time": "2021-12-25T10:36:36.603Z"
   },
   {
    "duration": 10,
    "start_time": "2021-12-25T10:36:39.492Z"
   },
   {
    "duration": 19,
    "start_time": "2021-12-25T10:36:39.505Z"
   },
   {
    "duration": 2679,
    "start_time": "2021-12-25T10:36:39.527Z"
   },
   {
    "duration": 8,
    "start_time": "2021-12-25T10:36:42.208Z"
   },
   {
    "duration": 2797,
    "start_time": "2021-12-25T10:36:42.219Z"
   },
   {
    "duration": 8,
    "start_time": "2021-12-25T10:36:45.018Z"
   },
   {
    "duration": 6,
    "start_time": "2021-12-25T10:36:45.029Z"
   },
   {
    "duration": 2646,
    "start_time": "2021-12-25T10:36:45.037Z"
   },
   {
    "duration": 7,
    "start_time": "2021-12-25T10:36:47.685Z"
   },
   {
    "duration": 2594,
    "start_time": "2021-12-25T10:36:47.694Z"
   },
   {
    "duration": 8,
    "start_time": "2021-12-25T10:36:50.291Z"
   },
   {
    "duration": 11,
    "start_time": "2021-12-25T10:36:50.301Z"
   },
   {
    "duration": 11,
    "start_time": "2021-12-25T10:36:50.315Z"
   },
   {
    "duration": 2819,
    "start_time": "2021-12-25T10:36:50.329Z"
   },
   {
    "duration": 21,
    "start_time": "2021-12-25T10:36:53.151Z"
   },
   {
    "duration": 50,
    "start_time": "2021-12-25T10:36:53.175Z"
   },
   {
    "duration": 47,
    "start_time": "2021-12-25T10:36:53.227Z"
   },
   {
    "duration": 5,
    "start_time": "2021-12-25T10:36:53.291Z"
   },
   {
    "duration": 7,
    "start_time": "2021-12-25T10:37:00.689Z"
   },
   {
    "duration": 22,
    "start_time": "2021-12-25T10:38:29.996Z"
   },
   {
    "duration": 303,
    "start_time": "2021-12-25T10:38:54.316Z"
   },
   {
    "duration": 1056,
    "start_time": "2021-12-25T10:39:32.845Z"
   },
   {
    "duration": 1610,
    "start_time": "2021-12-25T10:41:57.534Z"
   },
   {
    "duration": 85,
    "start_time": "2021-12-25T10:41:59.216Z"
   },
   {
    "duration": 6,
    "start_time": "2021-12-25T10:41:59.664Z"
   },
   {
    "duration": 5,
    "start_time": "2021-12-25T10:42:07.160Z"
   },
   {
    "duration": 5,
    "start_time": "2021-12-25T10:42:07.644Z"
   },
   {
    "duration": 46,
    "start_time": "2021-12-25T10:42:21.849Z"
   },
   {
    "duration": 725,
    "start_time": "2021-12-25T11:03:19.418Z"
   },
   {
    "duration": 141,
    "start_time": "2021-12-25T11:04:20.990Z"
   },
   {
    "duration": 79,
    "start_time": "2021-12-25T11:04:21.133Z"
   },
   {
    "duration": 15,
    "start_time": "2021-12-25T11:04:21.215Z"
   },
   {
    "duration": 144,
    "start_time": "2021-12-25T11:04:21.233Z"
   },
   {
    "duration": 13,
    "start_time": "2021-12-25T11:04:21.384Z"
   },
   {
    "duration": 7,
    "start_time": "2021-12-25T11:04:21.400Z"
   },
   {
    "duration": 12,
    "start_time": "2021-12-25T11:04:21.409Z"
   },
   {
    "duration": 8,
    "start_time": "2021-12-25T11:04:21.425Z"
   },
   {
    "duration": 7,
    "start_time": "2021-12-25T11:04:21.474Z"
   },
   {
    "duration": 12,
    "start_time": "2021-12-25T11:04:21.483Z"
   },
   {
    "duration": 6,
    "start_time": "2021-12-25T11:04:21.498Z"
   },
   {
    "duration": 6,
    "start_time": "2021-12-25T11:04:21.507Z"
   },
   {
    "duration": 10,
    "start_time": "2021-12-25T11:04:21.515Z"
   },
   {
    "duration": 49,
    "start_time": "2021-12-25T11:04:21.527Z"
   },
   {
    "duration": 8,
    "start_time": "2021-12-25T11:04:21.582Z"
   },
   {
    "duration": 12,
    "start_time": "2021-12-25T11:04:21.593Z"
   },
   {
    "duration": 6,
    "start_time": "2021-12-25T11:04:21.607Z"
   },
   {
    "duration": 13,
    "start_time": "2021-12-25T11:04:21.616Z"
   },
   {
    "duration": 46,
    "start_time": "2021-12-25T11:04:21.632Z"
   },
   {
    "duration": 104,
    "start_time": "2021-12-25T11:04:21.681Z"
   },
   {
    "duration": 6,
    "start_time": "2021-12-25T11:04:21.787Z"
   },
   {
    "duration": 15,
    "start_time": "2021-12-25T11:04:21.795Z"
   },
   {
    "duration": 5,
    "start_time": "2021-12-25T11:04:21.815Z"
   },
   {
    "duration": 11,
    "start_time": "2021-12-25T11:04:21.823Z"
   },
   {
    "duration": 18,
    "start_time": "2021-12-25T11:04:21.867Z"
   },
   {
    "duration": 304,
    "start_time": "2021-12-25T11:04:21.887Z"
   },
   {
    "duration": 11,
    "start_time": "2021-12-25T11:04:22.194Z"
   },
   {
    "duration": 2862,
    "start_time": "2021-12-25T11:04:22.208Z"
   },
   {
    "duration": 10,
    "start_time": "2021-12-25T11:04:25.073Z"
   },
   {
    "duration": 9,
    "start_time": "2021-12-25T11:04:25.086Z"
   },
   {
    "duration": 2815,
    "start_time": "2021-12-25T11:04:25.098Z"
   },
   {
    "duration": 9,
    "start_time": "2021-12-25T11:04:27.915Z"
   },
   {
    "duration": 2786,
    "start_time": "2021-12-25T11:04:27.927Z"
   },
   {
    "duration": 9,
    "start_time": "2021-12-25T11:04:30.715Z"
   },
   {
    "duration": 18,
    "start_time": "2021-12-25T11:04:30.726Z"
   },
   {
    "duration": 2800,
    "start_time": "2021-12-25T11:04:30.746Z"
   },
   {
    "duration": 20,
    "start_time": "2021-12-25T11:04:33.548Z"
   },
   {
    "duration": 2715,
    "start_time": "2021-12-25T11:04:33.576Z"
   },
   {
    "duration": 10,
    "start_time": "2021-12-25T11:04:36.294Z"
   },
   {
    "duration": 5,
    "start_time": "2021-12-25T11:04:36.307Z"
   },
   {
    "duration": 5,
    "start_time": "2021-12-25T11:04:36.315Z"
   },
   {
    "duration": 2754,
    "start_time": "2021-12-25T11:04:36.323Z"
   },
   {
    "duration": 9,
    "start_time": "2021-12-25T11:04:39.080Z"
   },
   {
    "duration": 55,
    "start_time": "2021-12-25T11:04:39.091Z"
   },
   {
    "duration": 31,
    "start_time": "2021-12-25T11:04:39.149Z"
   },
   {
    "duration": 6,
    "start_time": "2021-12-25T11:04:39.185Z"
   },
   {
    "duration": 26,
    "start_time": "2021-12-25T11:04:39.194Z"
   },
   {
    "duration": 1061,
    "start_time": "2021-12-25T11:04:39.222Z"
   },
   {
    "duration": 5,
    "start_time": "2021-12-25T11:04:40.286Z"
   },
   {
    "duration": 8,
    "start_time": "2021-12-25T11:04:40.294Z"
   },
   {
    "duration": 70,
    "start_time": "2021-12-25T11:04:40.304Z"
   },
   {
    "duration": 582,
    "start_time": "2021-12-25T11:04:40.379Z"
   },
   {
    "duration": 601,
    "start_time": "2021-12-25T11:04:46.690Z"
   },
   {
    "duration": 913,
    "start_time": "2021-12-25T11:09:51.289Z"
   },
   {
    "duration": 635,
    "start_time": "2021-12-25T11:10:32.288Z"
   },
   {
    "duration": 12,
    "start_time": "2021-12-25T11:18:13.228Z"
   },
   {
    "duration": 12,
    "start_time": "2021-12-25T11:18:32.739Z"
   },
   {
    "duration": 803,
    "start_time": "2021-12-25T12:07:41.731Z"
   },
   {
    "duration": 582,
    "start_time": "2021-12-25T12:07:48.129Z"
   },
   {
    "duration": 951,
    "start_time": "2021-12-25T12:08:12.309Z"
   },
   {
    "duration": 680,
    "start_time": "2021-12-25T12:09:25.098Z"
   },
   {
    "duration": 271,
    "start_time": "2021-12-25T12:10:08.196Z"
   },
   {
    "duration": 214,
    "start_time": "2021-12-25T12:11:25.911Z"
   },
   {
    "duration": 16,
    "start_time": "2021-12-25T12:13:05.980Z"
   },
   {
    "duration": 232,
    "start_time": "2021-12-25T12:13:07.052Z"
   },
   {
    "duration": 308,
    "start_time": "2021-12-25T12:13:21.117Z"
   },
   {
    "duration": 218,
    "start_time": "2021-12-25T12:13:43.927Z"
   },
   {
    "duration": 500,
    "start_time": "2021-12-25T12:14:16.772Z"
   },
   {
    "duration": 386,
    "start_time": "2021-12-25T12:14:24.865Z"
   },
   {
    "duration": 215,
    "start_time": "2021-12-25T12:17:18.976Z"
   },
   {
    "duration": 233,
    "start_time": "2021-12-25T12:21:23.109Z"
   },
   {
    "duration": 330,
    "start_time": "2021-12-25T12:21:31.313Z"
   },
   {
    "duration": 273,
    "start_time": "2021-12-25T12:23:56.761Z"
   },
   {
    "duration": 16,
    "start_time": "2021-12-25T12:24:09.963Z"
   },
   {
    "duration": 221,
    "start_time": "2021-12-25T12:24:21.882Z"
   },
   {
    "duration": 327,
    "start_time": "2021-12-25T12:24:32.927Z"
   },
   {
    "duration": 226,
    "start_time": "2021-12-25T12:27:29.096Z"
   },
   {
    "duration": 307,
    "start_time": "2021-12-25T12:28:00.126Z"
   },
   {
    "duration": 254,
    "start_time": "2021-12-25T12:29:53.337Z"
   },
   {
    "duration": 220,
    "start_time": "2021-12-25T12:34:45.633Z"
   },
   {
    "duration": 232,
    "start_time": "2021-12-25T12:34:50.872Z"
   },
   {
    "duration": 301,
    "start_time": "2021-12-25T12:35:28.833Z"
   },
   {
    "duration": 27,
    "start_time": "2021-12-25T12:35:52.551Z"
   },
   {
    "duration": 238,
    "start_time": "2021-12-25T12:36:04.851Z"
   },
   {
    "duration": 12,
    "start_time": "2021-12-25T12:38:28.108Z"
   },
   {
    "duration": 11,
    "start_time": "2021-12-25T12:39:14.481Z"
   },
   {
    "duration": 212,
    "start_time": "2021-12-25T12:39:25.689Z"
   },
   {
    "duration": 222,
    "start_time": "2021-12-25T12:41:13.565Z"
   },
   {
    "duration": 347,
    "start_time": "2021-12-25T12:44:28.843Z"
   },
   {
    "duration": 18,
    "start_time": "2021-12-25T12:44:49.781Z"
   },
   {
    "duration": 235,
    "start_time": "2021-12-25T12:45:03.453Z"
   },
   {
    "duration": 100,
    "start_time": "2021-12-25T12:49:13.788Z"
   },
   {
    "duration": 9,
    "start_time": "2021-12-25T12:49:19.097Z"
   },
   {
    "duration": 8,
    "start_time": "2021-12-25T12:49:29.333Z"
   },
   {
    "duration": 8,
    "start_time": "2021-12-25T12:49:32.102Z"
   },
   {
    "duration": 816,
    "start_time": "2021-12-25T12:50:12.735Z"
   },
   {
    "duration": 375,
    "start_time": "2021-12-25T12:53:20.692Z"
   },
   {
    "duration": 766,
    "start_time": "2021-12-25T12:56:02.078Z"
   },
   {
    "duration": 968,
    "start_time": "2021-12-25T12:56:16.443Z"
   },
   {
    "duration": 543,
    "start_time": "2021-12-25T12:56:23.384Z"
   },
   {
    "duration": 640,
    "start_time": "2021-12-25T12:56:48.157Z"
   },
   {
    "duration": 13,
    "start_time": "2021-12-25T14:16:00.344Z"
   },
   {
    "duration": 785,
    "start_time": "2021-12-25T14:21:31.888Z"
   },
   {
    "duration": 663,
    "start_time": "2021-12-25T14:24:49.907Z"
   },
   {
    "duration": 817,
    "start_time": "2021-12-25T14:32:30.422Z"
   },
   {
    "duration": 681,
    "start_time": "2021-12-25T14:32:50.358Z"
   },
   {
    "duration": 342,
    "start_time": "2021-12-25T14:37:36.735Z"
   },
   {
    "duration": 12,
    "start_time": "2021-12-25T14:37:48.404Z"
   },
   {
    "duration": 133,
    "start_time": "2021-12-25T14:37:51.201Z"
   },
   {
    "duration": 17,
    "start_time": "2021-12-25T14:40:44.205Z"
   },
   {
    "duration": 661,
    "start_time": "2021-12-25T14:40:56.939Z"
   },
   {
    "duration": 661,
    "start_time": "2021-12-25T14:41:20.312Z"
   },
   {
    "duration": 786,
    "start_time": "2021-12-25T14:41:50.581Z"
   },
   {
    "duration": 12,
    "start_time": "2021-12-25T14:43:02.020Z"
   },
   {
    "duration": 15,
    "start_time": "2021-12-25T14:45:06.354Z"
   },
   {
    "duration": 10,
    "start_time": "2021-12-25T14:45:08.284Z"
   },
   {
    "duration": 20,
    "start_time": "2021-12-25T14:45:16.226Z"
   },
   {
    "duration": 11,
    "start_time": "2021-12-25T14:45:18.348Z"
   },
   {
    "duration": 298,
    "start_time": "2021-12-25T14:45:19.017Z"
   },
   {
    "duration": 18,
    "start_time": "2021-12-25T14:45:52.426Z"
   },
   {
    "duration": 15,
    "start_time": "2021-12-25T14:47:28.855Z"
   },
   {
    "duration": 13,
    "start_time": "2021-12-25T14:47:31.437Z"
   },
   {
    "duration": 681,
    "start_time": "2021-12-25T14:47:45.724Z"
   },
   {
    "duration": 155,
    "start_time": "2021-12-25T14:47:47.912Z"
   },
   {
    "duration": 51,
    "start_time": "2021-12-25T14:47:48.070Z"
   },
   {
    "duration": 51,
    "start_time": "2021-12-25T14:47:48.125Z"
   },
   {
    "duration": 128,
    "start_time": "2021-12-25T14:47:48.179Z"
   },
   {
    "duration": 13,
    "start_time": "2021-12-25T14:47:48.310Z"
   },
   {
    "duration": 11,
    "start_time": "2021-12-25T14:47:48.325Z"
   },
   {
    "duration": 32,
    "start_time": "2021-12-25T14:47:48.339Z"
   },
   {
    "duration": 10,
    "start_time": "2021-12-25T14:47:48.375Z"
   },
   {
    "duration": 7,
    "start_time": "2021-12-25T14:47:48.389Z"
   },
   {
    "duration": 14,
    "start_time": "2021-12-25T14:47:48.398Z"
   },
   {
    "duration": 7,
    "start_time": "2021-12-25T14:47:48.414Z"
   },
   {
    "duration": 45,
    "start_time": "2021-12-25T14:47:48.423Z"
   },
   {
    "duration": 13,
    "start_time": "2021-12-25T14:47:48.471Z"
   },
   {
    "duration": 6,
    "start_time": "2021-12-25T14:47:48.486Z"
   },
   {
    "duration": 12,
    "start_time": "2021-12-25T14:47:48.494Z"
   },
   {
    "duration": 8,
    "start_time": "2021-12-25T14:47:48.508Z"
   },
   {
    "duration": 8,
    "start_time": "2021-12-25T14:47:48.519Z"
   },
   {
    "duration": 43,
    "start_time": "2021-12-25T14:47:48.529Z"
   },
   {
    "duration": 15,
    "start_time": "2021-12-25T14:47:48.575Z"
   },
   {
    "duration": 116,
    "start_time": "2021-12-25T14:47:48.592Z"
   },
   {
    "duration": 5,
    "start_time": "2021-12-25T14:47:48.711Z"
   },
   {
    "duration": 17,
    "start_time": "2021-12-25T14:47:48.718Z"
   },
   {
    "duration": 30,
    "start_time": "2021-12-25T14:47:48.740Z"
   },
   {
    "duration": 13,
    "start_time": "2021-12-25T14:47:48.773Z"
   },
   {
    "duration": 11,
    "start_time": "2021-12-25T14:47:48.789Z"
   },
   {
    "duration": 304,
    "start_time": "2021-12-25T14:47:48.802Z"
   },
   {
    "duration": 14,
    "start_time": "2021-12-25T14:47:49.109Z"
   },
   {
    "duration": 2789,
    "start_time": "2021-12-25T14:47:49.126Z"
   },
   {
    "duration": 8,
    "start_time": "2021-12-25T14:47:51.918Z"
   },
   {
    "duration": 21,
    "start_time": "2021-12-25T14:47:51.929Z"
   },
   {
    "duration": 2830,
    "start_time": "2021-12-25T14:47:51.953Z"
   },
   {
    "duration": 8,
    "start_time": "2021-12-25T14:47:54.786Z"
   },
   {
    "duration": 2704,
    "start_time": "2021-12-25T14:47:54.796Z"
   },
   {
    "duration": 10,
    "start_time": "2021-12-25T14:47:57.503Z"
   },
   {
    "duration": 7,
    "start_time": "2021-12-25T14:47:57.516Z"
   },
   {
    "duration": 2663,
    "start_time": "2021-12-25T14:47:57.526Z"
   },
   {
    "duration": 9,
    "start_time": "2021-12-25T14:48:00.192Z"
   },
   {
    "duration": 2927,
    "start_time": "2021-12-25T14:48:00.203Z"
   },
   {
    "duration": 8,
    "start_time": "2021-12-25T14:48:03.132Z"
   },
   {
    "duration": 36,
    "start_time": "2021-12-25T14:48:03.142Z"
   },
   {
    "duration": 10,
    "start_time": "2021-12-25T14:48:03.180Z"
   },
   {
    "duration": 2805,
    "start_time": "2021-12-25T14:48:03.193Z"
   },
   {
    "duration": 10,
    "start_time": "2021-12-25T14:48:06.001Z"
   },
   {
    "duration": 74,
    "start_time": "2021-12-25T14:48:06.014Z"
   },
   {
    "duration": 16,
    "start_time": "2021-12-25T14:48:06.090Z"
   },
   {
    "duration": 6,
    "start_time": "2021-12-25T14:48:06.108Z"
   },
   {
    "duration": 50,
    "start_time": "2021-12-25T14:48:06.117Z"
   },
   {
    "duration": 1249,
    "start_time": "2021-12-25T14:48:06.170Z"
   },
   {
    "duration": 5,
    "start_time": "2021-12-25T14:48:07.422Z"
   },
   {
    "duration": 14,
    "start_time": "2021-12-25T14:48:07.429Z"
   },
   {
    "duration": 66,
    "start_time": "2021-12-25T14:48:07.445Z"
   },
   {
    "duration": 560,
    "start_time": "2021-12-25T14:48:07.513Z"
   },
   {
    "duration": 12,
    "start_time": "2021-12-25T14:48:08.075Z"
   },
   {
    "duration": 245,
    "start_time": "2021-12-25T14:48:08.090Z"
   },
   {
    "duration": 12,
    "start_time": "2021-12-25T14:48:08.338Z"
   },
   {
    "duration": 297,
    "start_time": "2021-12-25T14:48:08.352Z"
   },
   {
    "duration": 724,
    "start_time": "2021-12-25T14:48:08.656Z"
   },
   {
    "duration": 663,
    "start_time": "2021-12-25T14:48:09.385Z"
   },
   {
    "duration": 252,
    "start_time": "2021-12-25T14:48:10.051Z"
   },
   {
    "duration": 14,
    "start_time": "2021-12-25T14:48:10.305Z"
   },
   {
    "duration": 50,
    "start_time": "2021-12-25T14:48:10.322Z"
   },
   {
    "duration": 246,
    "start_time": "2021-12-25T14:48:10.374Z"
   },
   {
    "duration": 407,
    "start_time": "2021-12-25T14:48:10.623Z"
   },
   {
    "duration": 223,
    "start_time": "2021-12-25T14:48:11.032Z"
   },
   {
    "duration": 18,
    "start_time": "2021-12-25T14:48:11.258Z"
   },
   {
    "duration": 14,
    "start_time": "2021-12-25T14:48:11.278Z"
   },
   {
    "duration": 263,
    "start_time": "2021-12-25T14:48:11.294Z"
   },
   {
    "duration": 390,
    "start_time": "2021-12-25T14:48:11.559Z"
   },
   {
    "duration": 26,
    "start_time": "2021-12-25T14:48:11.951Z"
   },
   {
    "duration": 5,
    "start_time": "2021-12-25T14:48:11.980Z"
   },
   {
    "duration": 12,
    "start_time": "2021-12-25T14:48:11.988Z"
   },
   {
    "duration": 744,
    "start_time": "2021-12-25T14:48:12.002Z"
   },
   {
    "duration": 268,
    "start_time": "2021-12-25T14:48:12.749Z"
   },
   {
    "duration": 11,
    "start_time": "2021-12-25T14:48:13.020Z"
   },
   {
    "duration": 716,
    "start_time": "2021-12-25T14:48:13.033Z"
   },
   {
    "duration": 25,
    "start_time": "2021-12-25T14:48:13.752Z"
   },
   {
    "duration": 11,
    "start_time": "2021-12-25T14:48:13.780Z"
   },
   {
    "duration": 693,
    "start_time": "2021-12-25T14:48:13.794Z"
   },
   {
    "duration": 13,
    "start_time": "2021-12-25T15:53:00.524Z"
   },
   {
    "duration": 12,
    "start_time": "2021-12-25T15:53:03.055Z"
   },
   {
    "duration": 136,
    "start_time": "2021-12-25T15:53:08.680Z"
   },
   {
    "duration": 92,
    "start_time": "2021-12-25T15:53:08.819Z"
   },
   {
    "duration": 59,
    "start_time": "2021-12-25T15:53:08.914Z"
   },
   {
    "duration": 126,
    "start_time": "2021-12-25T15:53:08.976Z"
   },
   {
    "duration": 11,
    "start_time": "2021-12-25T15:53:09.105Z"
   },
   {
    "duration": 11,
    "start_time": "2021-12-25T15:53:09.119Z"
   },
   {
    "duration": 36,
    "start_time": "2021-12-25T15:53:09.133Z"
   },
   {
    "duration": 11,
    "start_time": "2021-12-25T15:53:09.172Z"
   },
   {
    "duration": 7,
    "start_time": "2021-12-25T15:53:09.189Z"
   },
   {
    "duration": 10,
    "start_time": "2021-12-25T15:53:09.200Z"
   },
   {
    "duration": 55,
    "start_time": "2021-12-25T15:53:09.212Z"
   },
   {
    "duration": 15,
    "start_time": "2021-12-25T15:53:09.270Z"
   },
   {
    "duration": 9,
    "start_time": "2021-12-25T15:53:09.287Z"
   },
   {
    "duration": 7,
    "start_time": "2021-12-25T15:53:09.299Z"
   },
   {
    "duration": 16,
    "start_time": "2021-12-25T15:53:09.308Z"
   },
   {
    "duration": 44,
    "start_time": "2021-12-25T15:53:09.326Z"
   },
   {
    "duration": 8,
    "start_time": "2021-12-25T15:53:09.372Z"
   },
   {
    "duration": 7,
    "start_time": "2021-12-25T15:53:09.383Z"
   },
   {
    "duration": 12,
    "start_time": "2021-12-25T15:53:09.394Z"
   },
   {
    "duration": 181,
    "start_time": "2021-12-25T15:53:09.409Z"
   },
   {
    "duration": 7,
    "start_time": "2021-12-25T15:53:09.593Z"
   },
   {
    "duration": 17,
    "start_time": "2021-12-25T15:53:09.603Z"
   },
   {
    "duration": 6,
    "start_time": "2021-12-25T15:53:09.623Z"
   },
   {
    "duration": 44,
    "start_time": "2021-12-25T15:53:09.632Z"
   },
   {
    "duration": 17,
    "start_time": "2021-12-25T15:53:09.679Z"
   },
   {
    "duration": 463,
    "start_time": "2021-12-25T15:53:09.699Z"
   },
   {
    "duration": 17,
    "start_time": "2021-12-25T15:53:10.175Z"
   },
   {
    "duration": 3193,
    "start_time": "2021-12-25T15:53:10.196Z"
   },
   {
    "duration": 10,
    "start_time": "2021-12-25T15:53:13.392Z"
   },
   {
    "duration": 12,
    "start_time": "2021-12-25T15:53:13.405Z"
   },
   {
    "duration": 3309,
    "start_time": "2021-12-25T15:53:13.421Z"
   },
   {
    "duration": 9,
    "start_time": "2021-12-25T15:53:16.733Z"
   },
   {
    "duration": 3377,
    "start_time": "2021-12-25T15:53:16.746Z"
   },
   {
    "duration": 8,
    "start_time": "2021-12-25T15:53:20.125Z"
   },
   {
    "duration": 32,
    "start_time": "2021-12-25T15:53:20.135Z"
   },
   {
    "duration": 2961,
    "start_time": "2021-12-25T15:53:20.170Z"
   },
   {
    "duration": 10,
    "start_time": "2021-12-25T15:53:23.134Z"
   },
   {
    "duration": 3007,
    "start_time": "2021-12-25T15:53:23.147Z"
   },
   {
    "duration": 18,
    "start_time": "2021-12-25T15:53:26.157Z"
   },
   {
    "duration": 8,
    "start_time": "2021-12-25T15:53:26.179Z"
   },
   {
    "duration": 13,
    "start_time": "2021-12-25T15:53:26.190Z"
   },
   {
    "duration": 3038,
    "start_time": "2021-12-25T15:53:26.206Z"
   },
   {
    "duration": 25,
    "start_time": "2021-12-25T15:53:29.246Z"
   },
   {
    "duration": 51,
    "start_time": "2021-12-25T15:53:29.274Z"
   },
   {
    "duration": 39,
    "start_time": "2021-12-25T15:53:29.328Z"
   },
   {
    "duration": 6,
    "start_time": "2021-12-25T15:53:29.370Z"
   },
   {
    "duration": 24,
    "start_time": "2021-12-25T15:53:29.379Z"
   },
   {
    "duration": 1003,
    "start_time": "2021-12-25T15:53:29.405Z"
   },
   {
    "duration": 6,
    "start_time": "2021-12-25T15:53:30.411Z"
   },
   {
    "duration": 10,
    "start_time": "2021-12-25T15:53:30.420Z"
   },
   {
    "duration": 74,
    "start_time": "2021-12-25T15:53:30.433Z"
   },
   {
    "duration": 577,
    "start_time": "2021-12-25T15:53:30.509Z"
   },
   {
    "duration": 14,
    "start_time": "2021-12-25T15:53:31.089Z"
   },
   {
    "duration": 377,
    "start_time": "2021-12-25T15:53:31.106Z"
   },
   {
    "duration": 14,
    "start_time": "2021-12-25T15:53:31.485Z"
   },
   {
    "duration": 315,
    "start_time": "2021-12-25T15:53:31.502Z"
   },
   {
    "duration": 608,
    "start_time": "2021-12-25T15:53:31.820Z"
   },
   {
    "duration": 648,
    "start_time": "2021-12-25T15:53:32.431Z"
   },
   {
    "duration": 236,
    "start_time": "2021-12-25T15:53:33.082Z"
   },
   {
    "duration": 11,
    "start_time": "2021-12-25T15:53:33.321Z"
   },
   {
    "duration": 45,
    "start_time": "2021-12-25T15:53:33.334Z"
   },
   {
    "duration": 328,
    "start_time": "2021-12-25T15:53:33.382Z"
   },
   {
    "duration": 542,
    "start_time": "2021-12-25T15:53:33.713Z"
   },
   {
    "duration": 230,
    "start_time": "2021-12-25T15:53:34.257Z"
   },
   {
    "duration": 13,
    "start_time": "2021-12-25T15:53:34.489Z"
   },
   {
    "duration": 12,
    "start_time": "2021-12-25T15:53:34.505Z"
   },
   {
    "duration": 379,
    "start_time": "2021-12-25T15:53:34.519Z"
   },
   {
    "duration": 740,
    "start_time": "2021-12-25T15:53:34.901Z"
   },
   {
    "duration": 27,
    "start_time": "2021-12-25T15:53:35.644Z"
   },
   {
    "duration": 6,
    "start_time": "2021-12-25T15:53:35.674Z"
   },
   {
    "duration": 13,
    "start_time": "2021-12-25T15:53:35.683Z"
   },
   {
    "duration": 633,
    "start_time": "2021-12-25T15:53:35.698Z"
   },
   {
    "duration": 271,
    "start_time": "2021-12-25T15:53:36.333Z"
   },
   {
    "duration": 12,
    "start_time": "2021-12-25T15:53:36.607Z"
   },
   {
    "duration": 759,
    "start_time": "2021-12-25T15:53:36.621Z"
   },
   {
    "duration": 14,
    "start_time": "2021-12-25T15:53:37.382Z"
   },
   {
    "duration": 15,
    "start_time": "2021-12-25T15:53:37.398Z"
   },
   {
    "duration": 765,
    "start_time": "2021-12-25T15:53:37.416Z"
   },
   {
    "duration": 13,
    "start_time": "2021-12-25T15:55:27.042Z"
   },
   {
    "duration": 14,
    "start_time": "2021-12-25T15:55:28.786Z"
   },
   {
    "duration": 15,
    "start_time": "2021-12-25T15:55:34.163Z"
   },
   {
    "duration": 906,
    "start_time": "2021-12-25T15:56:32.773Z"
   },
   {
    "duration": 791,
    "start_time": "2021-12-25T15:56:49.828Z"
   },
   {
    "duration": 636,
    "start_time": "2021-12-25T15:57:02.842Z"
   },
   {
    "duration": 959,
    "start_time": "2021-12-25T15:57:24.721Z"
   },
   {
    "duration": 47,
    "start_time": "2021-12-25T16:50:40.284Z"
   },
   {
    "duration": 16,
    "start_time": "2021-12-25T16:50:56.219Z"
   },
   {
    "duration": 7,
    "start_time": "2021-12-25T16:57:00.267Z"
   },
   {
    "duration": 7,
    "start_time": "2021-12-25T17:00:06.283Z"
   },
   {
    "duration": 474,
    "start_time": "2021-12-25T17:02:33.195Z"
   },
   {
    "duration": 744,
    "start_time": "2021-12-25T17:02:41.787Z"
   },
   {
    "duration": 7,
    "start_time": "2021-12-25T17:06:28.674Z"
   },
   {
    "duration": 748,
    "start_time": "2021-12-25T17:07:21.949Z"
   },
   {
    "duration": 8,
    "start_time": "2021-12-25T17:12:13.689Z"
   },
   {
    "duration": 708,
    "start_time": "2021-12-25T17:20:28.597Z"
   },
   {
    "duration": 744,
    "start_time": "2021-12-25T17:21:10.088Z"
   },
   {
    "duration": 7,
    "start_time": "2021-12-25T17:23:54.261Z"
   },
   {
    "duration": 746,
    "start_time": "2021-12-25T17:24:31.412Z"
   },
   {
    "duration": 830,
    "start_time": "2021-12-25T17:26:48.099Z"
   },
   {
    "duration": 138,
    "start_time": "2021-12-25T17:29:50.249Z"
   },
   {
    "duration": 49,
    "start_time": "2021-12-25T17:29:50.389Z"
   },
   {
    "duration": 16,
    "start_time": "2021-12-25T17:29:50.468Z"
   },
   {
    "duration": 288,
    "start_time": "2021-12-25T17:29:50.487Z"
   },
   {
    "duration": 12,
    "start_time": "2021-12-25T17:29:50.778Z"
   },
   {
    "duration": 11,
    "start_time": "2021-12-25T17:29:50.793Z"
   },
   {
    "duration": 18,
    "start_time": "2021-12-25T17:29:50.807Z"
   },
   {
    "duration": 14,
    "start_time": "2021-12-25T17:29:50.829Z"
   },
   {
    "duration": 26,
    "start_time": "2021-12-25T17:29:50.846Z"
   },
   {
    "duration": 15,
    "start_time": "2021-12-25T17:29:50.875Z"
   },
   {
    "duration": 11,
    "start_time": "2021-12-25T17:29:50.893Z"
   },
   {
    "duration": 11,
    "start_time": "2021-12-25T17:29:50.906Z"
   },
   {
    "duration": 16,
    "start_time": "2021-12-25T17:29:50.919Z"
   },
   {
    "duration": 32,
    "start_time": "2021-12-25T17:29:50.938Z"
   },
   {
    "duration": 10,
    "start_time": "2021-12-25T17:29:50.973Z"
   },
   {
    "duration": 9,
    "start_time": "2021-12-25T17:29:50.985Z"
   },
   {
    "duration": 7,
    "start_time": "2021-12-25T17:29:50.997Z"
   },
   {
    "duration": 8,
    "start_time": "2021-12-25T17:29:51.007Z"
   },
   {
    "duration": 58,
    "start_time": "2021-12-25T17:29:51.017Z"
   },
   {
    "duration": 114,
    "start_time": "2021-12-25T17:29:51.077Z"
   },
   {
    "duration": 6,
    "start_time": "2021-12-25T17:29:51.193Z"
   },
   {
    "duration": 21,
    "start_time": "2021-12-25T17:29:51.201Z"
   },
   {
    "duration": 10,
    "start_time": "2021-12-25T17:29:51.229Z"
   },
   {
    "duration": 27,
    "start_time": "2021-12-25T17:29:51.243Z"
   },
   {
    "duration": 11,
    "start_time": "2021-12-25T17:29:51.273Z"
   },
   {
    "duration": 290,
    "start_time": "2021-12-25T17:29:51.287Z"
   },
   {
    "duration": 13,
    "start_time": "2021-12-25T17:29:51.580Z"
   },
   {
    "duration": 2611,
    "start_time": "2021-12-25T17:29:51.595Z"
   },
   {
    "duration": 8,
    "start_time": "2021-12-25T17:29:54.208Z"
   },
   {
    "duration": 10,
    "start_time": "2021-12-25T17:29:54.219Z"
   },
   {
    "duration": 2644,
    "start_time": "2021-12-25T17:29:54.231Z"
   },
   {
    "duration": 8,
    "start_time": "2021-12-25T17:29:56.877Z"
   },
   {
    "duration": 2649,
    "start_time": "2021-12-25T17:29:56.887Z"
   },
   {
    "duration": 7,
    "start_time": "2021-12-25T17:29:59.539Z"
   },
   {
    "duration": 5,
    "start_time": "2021-12-25T17:29:59.567Z"
   },
   {
    "duration": 2809,
    "start_time": "2021-12-25T17:29:59.574Z"
   },
   {
    "duration": 11,
    "start_time": "2021-12-25T17:30:02.386Z"
   },
   {
    "duration": 2673,
    "start_time": "2021-12-25T17:30:02.400Z"
   },
   {
    "duration": 8,
    "start_time": "2021-12-25T17:30:05.075Z"
   },
   {
    "duration": 10,
    "start_time": "2021-12-25T17:30:05.086Z"
   },
   {
    "duration": 6,
    "start_time": "2021-12-25T17:30:05.099Z"
   },
   {
    "duration": 2726,
    "start_time": "2021-12-25T17:30:05.107Z"
   },
   {
    "duration": 8,
    "start_time": "2021-12-25T17:30:07.836Z"
   },
   {
    "duration": 69,
    "start_time": "2021-12-25T17:30:07.847Z"
   },
   {
    "duration": 27,
    "start_time": "2021-12-25T17:30:07.919Z"
   },
   {
    "duration": 19,
    "start_time": "2021-12-25T17:30:07.968Z"
   },
   {
    "duration": 49,
    "start_time": "2021-12-25T17:30:07.991Z"
   },
   {
    "duration": 1101,
    "start_time": "2021-12-25T17:30:08.043Z"
   },
   {
    "duration": 5,
    "start_time": "2021-12-25T17:30:09.146Z"
   },
   {
    "duration": 16,
    "start_time": "2021-12-25T17:30:09.154Z"
   },
   {
    "duration": 50,
    "start_time": "2021-12-25T17:30:09.172Z"
   },
   {
    "duration": 579,
    "start_time": "2021-12-25T17:30:09.224Z"
   },
   {
    "duration": 12,
    "start_time": "2021-12-25T17:30:09.806Z"
   },
   {
    "duration": 248,
    "start_time": "2021-12-25T17:30:09.820Z"
   },
   {
    "duration": 11,
    "start_time": "2021-12-25T17:30:10.070Z"
   },
   {
    "duration": 246,
    "start_time": "2021-12-25T17:30:10.084Z"
   },
   {
    "duration": 598,
    "start_time": "2021-12-25T17:30:10.333Z"
   },
   {
    "duration": 650,
    "start_time": "2021-12-25T17:30:10.934Z"
   },
   {
    "duration": 349,
    "start_time": "2021-12-25T17:30:11.587Z"
   },
   {
    "duration": 27,
    "start_time": "2021-12-25T17:30:11.940Z"
   },
   {
    "duration": 19,
    "start_time": "2021-12-25T17:30:11.969Z"
   },
   {
    "duration": 241,
    "start_time": "2021-12-25T17:30:11.991Z"
   },
   {
    "duration": 411,
    "start_time": "2021-12-25T17:30:12.234Z"
   },
   {
    "duration": 223,
    "start_time": "2021-12-25T17:30:12.647Z"
   },
   {
    "duration": 12,
    "start_time": "2021-12-25T17:30:12.872Z"
   },
   {
    "duration": 11,
    "start_time": "2021-12-25T17:30:12.886Z"
   },
   {
    "duration": 259,
    "start_time": "2021-12-25T17:30:12.899Z"
   },
   {
    "duration": 397,
    "start_time": "2021-12-25T17:30:13.170Z"
   },
   {
    "duration": 18,
    "start_time": "2021-12-25T17:30:13.570Z"
   },
   {
    "duration": 7,
    "start_time": "2021-12-25T17:30:13.590Z"
   },
   {
    "duration": 11,
    "start_time": "2021-12-25T17:30:13.599Z"
   },
   {
    "duration": 628,
    "start_time": "2021-12-25T17:30:13.613Z"
   },
   {
    "duration": 260,
    "start_time": "2021-12-25T17:30:14.244Z"
   },
   {
    "duration": 11,
    "start_time": "2021-12-25T17:30:14.507Z"
   },
   {
    "duration": 684,
    "start_time": "2021-12-25T17:30:14.520Z"
   },
   {
    "duration": 13,
    "start_time": "2021-12-25T17:30:15.207Z"
   },
   {
    "duration": 13,
    "start_time": "2021-12-25T17:30:15.223Z"
   },
   {
    "duration": 34,
    "start_time": "2021-12-25T17:30:15.238Z"
   },
   {
    "duration": 864,
    "start_time": "2021-12-25T17:30:15.274Z"
   },
   {
    "duration": 8,
    "start_time": "2021-12-25T17:30:16.141Z"
   },
   {
    "duration": 775,
    "start_time": "2021-12-25T17:30:16.168Z"
   },
   {
    "duration": 6,
    "start_time": "2021-12-25T17:30:16.946Z"
   },
   {
    "duration": 807,
    "start_time": "2021-12-25T17:30:16.954Z"
   },
   {
    "duration": 777,
    "start_time": "2021-12-25T17:30:17.767Z"
   },
   {
    "duration": 213,
    "start_time": "2021-12-25T17:30:43.610Z"
   },
   {
    "duration": 232,
    "start_time": "2021-12-25T17:31:34.129Z"
   },
   {
    "duration": 125,
    "start_time": "2021-12-25T17:32:01.607Z"
   },
   {
    "duration": 74,
    "start_time": "2021-12-25T17:32:01.734Z"
   },
   {
    "duration": 16,
    "start_time": "2021-12-25T17:32:01.811Z"
   },
   {
    "duration": 176,
    "start_time": "2021-12-25T17:32:01.829Z"
   },
   {
    "duration": 12,
    "start_time": "2021-12-25T17:32:02.007Z"
   },
   {
    "duration": 27,
    "start_time": "2021-12-25T17:32:02.022Z"
   },
   {
    "duration": 28,
    "start_time": "2021-12-25T17:32:02.051Z"
   },
   {
    "duration": 17,
    "start_time": "2021-12-25T17:32:02.083Z"
   },
   {
    "duration": 13,
    "start_time": "2021-12-25T17:32:02.103Z"
   },
   {
    "duration": 23,
    "start_time": "2021-12-25T17:32:02.118Z"
   },
   {
    "duration": 14,
    "start_time": "2021-12-25T17:32:02.144Z"
   },
   {
    "duration": 14,
    "start_time": "2021-12-25T17:32:02.160Z"
   },
   {
    "duration": 22,
    "start_time": "2021-12-25T17:32:02.176Z"
   },
   {
    "duration": 13,
    "start_time": "2021-12-25T17:32:02.200Z"
   },
   {
    "duration": 44,
    "start_time": "2021-12-25T17:32:02.216Z"
   },
   {
    "duration": 38,
    "start_time": "2021-12-25T17:32:02.263Z"
   },
   {
    "duration": 14,
    "start_time": "2021-12-25T17:32:02.303Z"
   },
   {
    "duration": 23,
    "start_time": "2021-12-25T17:32:02.320Z"
   },
   {
    "duration": 21,
    "start_time": "2021-12-25T17:32:02.345Z"
   },
   {
    "duration": 101,
    "start_time": "2021-12-25T17:32:02.368Z"
   },
   {
    "duration": 5,
    "start_time": "2021-12-25T17:32:02.472Z"
   },
   {
    "duration": 27,
    "start_time": "2021-12-25T17:32:02.480Z"
   },
   {
    "duration": 6,
    "start_time": "2021-12-25T17:32:02.513Z"
   },
   {
    "duration": 20,
    "start_time": "2021-12-25T17:32:02.523Z"
   },
   {
    "duration": 26,
    "start_time": "2021-12-25T17:32:02.546Z"
   },
   {
    "duration": 285,
    "start_time": "2021-12-25T17:32:02.575Z"
   },
   {
    "duration": 13,
    "start_time": "2021-12-25T17:32:02.862Z"
   },
   {
    "duration": 2525,
    "start_time": "2021-12-25T17:32:02.877Z"
   },
   {
    "duration": 8,
    "start_time": "2021-12-25T17:32:05.404Z"
   },
   {
    "duration": 11,
    "start_time": "2021-12-25T17:32:05.415Z"
   },
   {
    "duration": 2724,
    "start_time": "2021-12-25T17:32:05.428Z"
   },
   {
    "duration": 36,
    "start_time": "2021-12-25T17:32:08.158Z"
   },
   {
    "duration": 2807,
    "start_time": "2021-12-25T17:32:08.215Z"
   },
   {
    "duration": 7,
    "start_time": "2021-12-25T17:32:11.025Z"
   },
   {
    "duration": 5,
    "start_time": "2021-12-25T17:32:11.034Z"
   },
   {
    "duration": 2641,
    "start_time": "2021-12-25T17:32:11.042Z"
   },
   {
    "duration": 8,
    "start_time": "2021-12-25T17:32:13.685Z"
   },
   {
    "duration": 2647,
    "start_time": "2021-12-25T17:32:13.695Z"
   },
   {
    "duration": 23,
    "start_time": "2021-12-25T17:32:16.345Z"
   },
   {
    "duration": 7,
    "start_time": "2021-12-25T17:32:16.371Z"
   },
   {
    "duration": 7,
    "start_time": "2021-12-25T17:32:16.381Z"
   },
   {
    "duration": 2782,
    "start_time": "2021-12-25T17:32:16.391Z"
   },
   {
    "duration": 9,
    "start_time": "2021-12-25T17:32:19.176Z"
   },
   {
    "duration": 51,
    "start_time": "2021-12-25T17:32:19.188Z"
   },
   {
    "duration": 15,
    "start_time": "2021-12-25T17:32:19.267Z"
   },
   {
    "duration": 5,
    "start_time": "2021-12-25T17:32:19.284Z"
   },
   {
    "duration": 25,
    "start_time": "2021-12-25T17:32:19.291Z"
   },
   {
    "duration": 997,
    "start_time": "2021-12-25T17:32:19.318Z"
   },
   {
    "duration": 5,
    "start_time": "2021-12-25T17:32:20.317Z"
   },
   {
    "duration": 10,
    "start_time": "2021-12-25T17:32:20.325Z"
   },
   {
    "duration": 67,
    "start_time": "2021-12-25T17:32:20.338Z"
   },
   {
    "duration": 553,
    "start_time": "2021-12-25T17:32:20.407Z"
   },
   {
    "duration": 11,
    "start_time": "2021-12-25T17:32:20.967Z"
   },
   {
    "duration": 338,
    "start_time": "2021-12-25T17:32:20.981Z"
   },
   {
    "duration": 12,
    "start_time": "2021-12-25T17:32:21.321Z"
   },
   {
    "duration": 238,
    "start_time": "2021-12-25T17:32:21.336Z"
   },
   {
    "duration": 594,
    "start_time": "2021-12-25T17:32:21.576Z"
   },
   {
    "duration": 679,
    "start_time": "2021-12-25T17:32:22.172Z"
   },
   {
    "duration": 390,
    "start_time": "2021-12-25T17:32:22.854Z"
   },
   {
    "duration": 22,
    "start_time": "2021-12-25T17:32:23.248Z"
   },
   {
    "duration": 28,
    "start_time": "2021-12-25T17:32:23.274Z"
   },
   {
    "duration": 315,
    "start_time": "2021-12-25T17:32:23.305Z"
   },
   {
    "duration": 436,
    "start_time": "2021-12-25T17:32:23.622Z"
   },
   {
    "duration": 224,
    "start_time": "2021-12-25T17:32:24.061Z"
   },
   {
    "duration": 11,
    "start_time": "2021-12-25T17:32:24.287Z"
   },
   {
    "duration": 13,
    "start_time": "2021-12-25T17:32:24.300Z"
   },
   {
    "duration": 241,
    "start_time": "2021-12-25T17:32:24.315Z"
   },
   {
    "duration": 740,
    "start_time": "2021-12-25T17:32:24.564Z"
   },
   {
    "duration": 17,
    "start_time": "2021-12-25T17:32:25.308Z"
   },
   {
    "duration": 6,
    "start_time": "2021-12-25T17:32:25.328Z"
   },
   {
    "duration": 35,
    "start_time": "2021-12-25T17:32:25.337Z"
   },
   {
    "duration": 632,
    "start_time": "2021-12-25T17:32:25.374Z"
   },
   {
    "duration": 271,
    "start_time": "2021-12-25T17:32:26.008Z"
   },
   {
    "duration": 12,
    "start_time": "2021-12-25T17:32:26.281Z"
   },
   {
    "duration": 678,
    "start_time": "2021-12-25T17:32:26.295Z"
   },
   {
    "duration": 15,
    "start_time": "2021-12-25T17:32:26.976Z"
   },
   {
    "duration": 14,
    "start_time": "2021-12-25T17:32:26.994Z"
   },
   {
    "duration": 9,
    "start_time": "2021-12-25T17:32:27.011Z"
   },
   {
    "duration": 782,
    "start_time": "2021-12-25T17:32:27.023Z"
   },
   {
    "duration": 9,
    "start_time": "2021-12-25T17:32:27.808Z"
   },
   {
    "duration": 739,
    "start_time": "2021-12-25T17:32:27.820Z"
   },
   {
    "duration": 10,
    "start_time": "2021-12-25T17:32:28.566Z"
   },
   {
    "duration": 789,
    "start_time": "2021-12-25T17:32:28.578Z"
   },
   {
    "duration": 780,
    "start_time": "2021-12-25T17:32:29.369Z"
   },
   {
    "duration": 349,
    "start_time": "2021-12-25T17:40:35.954Z"
   },
   {
    "duration": 291,
    "start_time": "2021-12-25T17:46:04.800Z"
   },
   {
    "duration": 87,
    "start_time": "2021-12-25T17:47:04.566Z"
   },
   {
    "duration": 14,
    "start_time": "2021-12-25T17:47:13.007Z"
   },
   {
    "duration": 13,
    "start_time": "2021-12-25T17:47:16.813Z"
   },
   {
    "duration": 487,
    "start_time": "2021-12-25T17:47:36.917Z"
   },
   {
    "duration": 379,
    "start_time": "2021-12-25T17:48:58.491Z"
   },
   {
    "duration": 156,
    "start_time": "2021-12-25T17:56:01.956Z"
   },
   {
    "duration": 77,
    "start_time": "2021-12-25T17:56:02.115Z"
   },
   {
    "duration": 16,
    "start_time": "2021-12-25T17:56:02.196Z"
   },
   {
    "duration": 170,
    "start_time": "2021-12-25T17:56:02.215Z"
   },
   {
    "duration": 11,
    "start_time": "2021-12-25T17:56:02.388Z"
   },
   {
    "duration": 22,
    "start_time": "2021-12-25T17:56:02.401Z"
   },
   {
    "duration": 25,
    "start_time": "2021-12-25T17:56:02.425Z"
   },
   {
    "duration": 19,
    "start_time": "2021-12-25T17:56:02.454Z"
   },
   {
    "duration": 7,
    "start_time": "2021-12-25T17:56:02.476Z"
   },
   {
    "duration": 21,
    "start_time": "2021-12-25T17:56:02.486Z"
   },
   {
    "duration": 8,
    "start_time": "2021-12-25T17:56:02.510Z"
   },
   {
    "duration": 14,
    "start_time": "2021-12-25T17:56:02.521Z"
   },
   {
    "duration": 9,
    "start_time": "2021-12-25T17:56:02.568Z"
   },
   {
    "duration": 12,
    "start_time": "2021-12-25T17:56:02.579Z"
   },
   {
    "duration": 15,
    "start_time": "2021-12-25T17:56:02.593Z"
   },
   {
    "duration": 11,
    "start_time": "2021-12-25T17:56:02.611Z"
   },
   {
    "duration": 7,
    "start_time": "2021-12-25T17:56:02.624Z"
   },
   {
    "duration": 39,
    "start_time": "2021-12-25T17:56:02.633Z"
   },
   {
    "duration": 18,
    "start_time": "2021-12-25T17:56:02.675Z"
   },
   {
    "duration": 115,
    "start_time": "2021-12-25T17:56:02.696Z"
   },
   {
    "duration": 7,
    "start_time": "2021-12-25T17:56:02.813Z"
   },
   {
    "duration": 21,
    "start_time": "2021-12-25T17:56:02.824Z"
   },
   {
    "duration": 18,
    "start_time": "2021-12-25T17:56:02.853Z"
   },
   {
    "duration": 13,
    "start_time": "2021-12-25T17:56:02.875Z"
   },
   {
    "duration": 13,
    "start_time": "2021-12-25T17:56:02.890Z"
   },
   {
    "duration": 306,
    "start_time": "2021-12-25T17:56:02.906Z"
   },
   {
    "duration": 11,
    "start_time": "2021-12-25T17:56:03.215Z"
   },
   {
    "duration": 2547,
    "start_time": "2021-12-25T17:56:03.228Z"
   },
   {
    "duration": 9,
    "start_time": "2021-12-25T17:56:05.777Z"
   },
   {
    "duration": 16,
    "start_time": "2021-12-25T17:56:05.788Z"
   },
   {
    "duration": 2686,
    "start_time": "2021-12-25T17:56:05.806Z"
   },
   {
    "duration": 11,
    "start_time": "2021-12-25T17:56:08.495Z"
   },
   {
    "duration": 2758,
    "start_time": "2021-12-25T17:56:08.512Z"
   },
   {
    "duration": 8,
    "start_time": "2021-12-25T17:56:11.272Z"
   },
   {
    "duration": 8,
    "start_time": "2021-12-25T17:56:11.282Z"
   },
   {
    "duration": 2744,
    "start_time": "2021-12-25T17:56:11.293Z"
   },
   {
    "duration": 7,
    "start_time": "2021-12-25T17:56:14.040Z"
   },
   {
    "duration": 2756,
    "start_time": "2021-12-25T17:56:14.050Z"
   },
   {
    "duration": 7,
    "start_time": "2021-12-25T17:56:16.809Z"
   },
   {
    "duration": 7,
    "start_time": "2021-12-25T17:56:16.818Z"
   },
   {
    "duration": 10,
    "start_time": "2021-12-25T17:56:16.827Z"
   },
   {
    "duration": 2883,
    "start_time": "2021-12-25T17:56:16.839Z"
   },
   {
    "duration": 8,
    "start_time": "2021-12-25T17:56:19.724Z"
   },
   {
    "duration": 69,
    "start_time": "2021-12-25T17:56:19.734Z"
   },
   {
    "duration": 15,
    "start_time": "2021-12-25T17:56:19.805Z"
   },
   {
    "duration": 6,
    "start_time": "2021-12-25T17:56:19.822Z"
   },
   {
    "duration": 48,
    "start_time": "2021-12-25T17:56:19.830Z"
   },
   {
    "duration": 989,
    "start_time": "2021-12-25T17:56:19.881Z"
   },
   {
    "duration": 5,
    "start_time": "2021-12-25T17:56:20.872Z"
   },
   {
    "duration": 9,
    "start_time": "2021-12-25T17:56:20.880Z"
   },
   {
    "duration": 50,
    "start_time": "2021-12-25T17:56:20.891Z"
   },
   {
    "duration": 593,
    "start_time": "2021-12-25T17:56:20.943Z"
   },
   {
    "duration": 12,
    "start_time": "2021-12-25T17:56:21.539Z"
   },
   {
    "duration": 222,
    "start_time": "2021-12-25T17:56:21.567Z"
   },
   {
    "duration": 11,
    "start_time": "2021-12-25T17:56:21.791Z"
   },
   {
    "duration": 233,
    "start_time": "2021-12-25T17:56:21.804Z"
   },
   {
    "duration": 578,
    "start_time": "2021-12-25T17:56:22.039Z"
   },
   {
    "duration": 753,
    "start_time": "2021-12-25T17:56:22.620Z"
   },
   {
    "duration": 294,
    "start_time": "2021-12-25T17:56:23.376Z"
   },
   {
    "duration": 14,
    "start_time": "2021-12-25T17:56:23.673Z"
   },
   {
    "duration": 18,
    "start_time": "2021-12-25T17:56:23.690Z"
   },
   {
    "duration": 245,
    "start_time": "2021-12-25T17:56:23.711Z"
   },
   {
    "duration": 524,
    "start_time": "2021-12-25T17:56:23.958Z"
   },
   {
    "duration": 227,
    "start_time": "2021-12-25T17:56:24.484Z"
   },
   {
    "duration": 11,
    "start_time": "2021-12-25T17:56:24.767Z"
   },
   {
    "duration": 12,
    "start_time": "2021-12-25T17:56:24.780Z"
   },
   {
    "duration": 372,
    "start_time": "2021-12-25T17:56:24.795Z"
   },
   {
    "duration": 448,
    "start_time": "2021-12-25T17:56:25.179Z"
   },
   {
    "duration": 18,
    "start_time": "2021-12-25T17:56:25.630Z"
   },
   {
    "duration": 21,
    "start_time": "2021-12-25T17:56:25.650Z"
   },
   {
    "duration": 7,
    "start_time": "2021-12-25T17:56:25.673Z"
   },
   {
    "duration": 635,
    "start_time": "2021-12-25T17:56:25.682Z"
   },
   {
    "duration": 262,
    "start_time": "2021-12-25T17:56:26.319Z"
   },
   {
    "duration": 12,
    "start_time": "2021-12-25T17:56:26.584Z"
   },
   {
    "duration": 806,
    "start_time": "2021-12-25T17:56:26.598Z"
   },
   {
    "duration": 13,
    "start_time": "2021-12-25T17:56:27.407Z"
   },
   {
    "duration": 19,
    "start_time": "2021-12-25T17:56:27.423Z"
   },
   {
    "duration": 27,
    "start_time": "2021-12-25T17:56:27.444Z"
   },
   {
    "duration": 746,
    "start_time": "2021-12-25T17:56:27.474Z"
   },
   {
    "duration": 7,
    "start_time": "2021-12-25T17:56:28.222Z"
   },
   {
    "duration": 768,
    "start_time": "2021-12-25T17:56:28.231Z"
   },
   {
    "duration": 7,
    "start_time": "2021-12-25T17:56:29.002Z"
   },
   {
    "duration": 914,
    "start_time": "2021-12-25T17:56:29.012Z"
   },
   {
    "duration": 761,
    "start_time": "2021-12-25T17:56:29.928Z"
   },
   {
    "duration": 498,
    "start_time": "2021-12-25T17:56:30.693Z"
   },
   {
    "duration": 396,
    "start_time": "2021-12-25T17:56:31.193Z"
   },
   {
    "duration": 387,
    "start_time": "2021-12-25T17:56:38.126Z"
   },
   {
    "duration": 350,
    "start_time": "2021-12-25T18:01:18.104Z"
   },
   {
    "duration": 478,
    "start_time": "2021-12-25T18:06:28.434Z"
   },
   {
    "duration": 336,
    "start_time": "2021-12-25T18:18:17.393Z"
   },
   {
    "duration": 948,
    "start_time": "2021-12-27T13:18:47.016Z"
   },
   {
    "duration": 51,
    "start_time": "2021-12-27T13:18:47.966Z"
   },
   {
    "duration": 27,
    "start_time": "2021-12-27T13:18:48.028Z"
   },
   {
    "duration": 104,
    "start_time": "2021-12-27T13:18:48.062Z"
   },
   {
    "duration": 12,
    "start_time": "2021-12-27T13:18:48.170Z"
   },
   {
    "duration": 15,
    "start_time": "2021-12-27T13:18:48.184Z"
   },
   {
    "duration": 11,
    "start_time": "2021-12-27T13:18:48.200Z"
   },
   {
    "duration": 15,
    "start_time": "2021-12-27T13:18:48.214Z"
   },
   {
    "duration": 5,
    "start_time": "2021-12-27T13:18:48.231Z"
   },
   {
    "duration": 11,
    "start_time": "2021-12-27T13:18:48.238Z"
   },
   {
    "duration": 5,
    "start_time": "2021-12-27T13:18:48.250Z"
   },
   {
    "duration": 6,
    "start_time": "2021-12-27T13:18:48.256Z"
   },
   {
    "duration": 6,
    "start_time": "2021-12-27T13:18:48.264Z"
   },
   {
    "duration": 6,
    "start_time": "2021-12-27T13:18:48.271Z"
   },
   {
    "duration": 10,
    "start_time": "2021-12-27T13:18:48.279Z"
   },
   {
    "duration": 8,
    "start_time": "2021-12-27T13:18:48.327Z"
   },
   {
    "duration": 5,
    "start_time": "2021-12-27T13:18:48.337Z"
   },
   {
    "duration": 9,
    "start_time": "2021-12-27T13:18:48.343Z"
   },
   {
    "duration": 13,
    "start_time": "2021-12-27T13:18:48.353Z"
   },
   {
    "duration": 99,
    "start_time": "2021-12-27T13:18:48.367Z"
   },
   {
    "duration": 5,
    "start_time": "2021-12-27T13:18:48.469Z"
   },
   {
    "duration": 15,
    "start_time": "2021-12-27T13:18:48.475Z"
   },
   {
    "duration": 4,
    "start_time": "2021-12-27T13:18:48.495Z"
   },
   {
    "duration": 26,
    "start_time": "2021-12-27T13:18:48.502Z"
   },
   {
    "duration": 8,
    "start_time": "2021-12-27T13:18:48.530Z"
   },
   {
    "duration": 158,
    "start_time": "2021-12-27T13:18:48.540Z"
   },
   {
    "duration": 7,
    "start_time": "2021-12-27T13:18:48.699Z"
   },
   {
    "duration": 1647,
    "start_time": "2021-12-27T13:18:48.708Z"
   },
   {
    "duration": 4,
    "start_time": "2021-12-27T13:18:50.357Z"
   },
   {
    "duration": 7,
    "start_time": "2021-12-27T13:18:50.363Z"
   },
   {
    "duration": 1501,
    "start_time": "2021-12-27T13:18:50.371Z"
   },
   {
    "duration": 5,
    "start_time": "2021-12-27T13:18:51.874Z"
   },
   {
    "duration": 1671,
    "start_time": "2021-12-27T13:18:51.880Z"
   },
   {
    "duration": 5,
    "start_time": "2021-12-27T13:18:53.553Z"
   },
   {
    "duration": 10,
    "start_time": "2021-12-27T13:18:53.560Z"
   },
   {
    "duration": 1792,
    "start_time": "2021-12-27T13:18:53.572Z"
   },
   {
    "duration": 6,
    "start_time": "2021-12-27T13:18:55.366Z"
   },
   {
    "duration": 2063,
    "start_time": "2021-12-27T13:18:55.374Z"
   },
   {
    "duration": 5,
    "start_time": "2021-12-27T13:18:57.438Z"
   },
   {
    "duration": 18,
    "start_time": "2021-12-27T13:18:57.444Z"
   },
   {
    "duration": 11,
    "start_time": "2021-12-27T13:18:57.463Z"
   },
   {
    "duration": 1562,
    "start_time": "2021-12-27T13:18:57.475Z"
   },
   {
    "duration": 6,
    "start_time": "2021-12-27T13:18:59.039Z"
   },
   {
    "duration": 27,
    "start_time": "2021-12-27T13:18:59.046Z"
   },
   {
    "duration": 8,
    "start_time": "2021-12-27T13:18:59.074Z"
   },
   {
    "duration": 11,
    "start_time": "2021-12-27T13:18:59.083Z"
   },
   {
    "duration": 36,
    "start_time": "2021-12-27T13:18:59.095Z"
   },
   {
    "duration": 537,
    "start_time": "2021-12-27T13:18:59.133Z"
   },
   {
    "duration": 4,
    "start_time": "2021-12-27T13:18:59.672Z"
   },
   {
    "duration": 9,
    "start_time": "2021-12-27T13:18:59.678Z"
   },
   {
    "duration": 39,
    "start_time": "2021-12-27T13:18:59.689Z"
   },
   {
    "duration": 317,
    "start_time": "2021-12-27T13:18:59.730Z"
   },
   {
    "duration": 9,
    "start_time": "2021-12-27T13:19:00.048Z"
   },
   {
    "duration": 137,
    "start_time": "2021-12-27T13:19:00.059Z"
   },
   {
    "duration": 7,
    "start_time": "2021-12-27T13:19:00.198Z"
   },
   {
    "duration": 128,
    "start_time": "2021-12-27T13:19:00.207Z"
   },
   {
    "duration": 314,
    "start_time": "2021-12-27T13:19:00.336Z"
   },
   {
    "duration": 739,
    "start_time": "2021-12-27T13:19:00.653Z"
   },
   {
    "duration": 268,
    "start_time": "2021-12-27T13:19:01.394Z"
   },
   {
    "duration": 12,
    "start_time": "2021-12-27T13:19:01.665Z"
   },
   {
    "duration": 24,
    "start_time": "2021-12-27T13:19:01.680Z"
   },
   {
    "duration": 251,
    "start_time": "2021-12-27T13:19:01.706Z"
   },
   {
    "duration": 452,
    "start_time": "2021-12-27T13:19:01.959Z"
   },
   {
    "duration": 314,
    "start_time": "2021-12-27T13:19:02.413Z"
   },
   {
    "duration": 11,
    "start_time": "2021-12-27T13:19:02.730Z"
   },
   {
    "duration": 12,
    "start_time": "2021-12-27T13:19:02.743Z"
   },
   {
    "duration": 138,
    "start_time": "2021-12-27T13:19:02.757Z"
   },
   {
    "duration": 227,
    "start_time": "2021-12-27T13:19:02.900Z"
   },
   {
    "duration": 15,
    "start_time": "2021-12-27T13:19:03.129Z"
   },
   {
    "duration": 5,
    "start_time": "2021-12-27T13:19:03.145Z"
   },
   {
    "duration": 9,
    "start_time": "2021-12-27T13:19:03.152Z"
   },
   {
    "duration": 326,
    "start_time": "2021-12-27T13:19:03.162Z"
   },
   {
    "duration": 139,
    "start_time": "2021-12-27T13:19:03.490Z"
   },
   {
    "duration": 8,
    "start_time": "2021-12-27T13:19:03.630Z"
   },
   {
    "duration": 349,
    "start_time": "2021-12-27T13:19:03.639Z"
   },
   {
    "duration": 8,
    "start_time": "2021-12-27T13:19:03.989Z"
   },
   {
    "duration": 8,
    "start_time": "2021-12-27T13:19:03.998Z"
   },
   {
    "duration": 22,
    "start_time": "2021-12-27T13:19:04.008Z"
   },
   {
    "duration": 518,
    "start_time": "2021-12-27T13:19:04.031Z"
   },
   {
    "duration": 4,
    "start_time": "2021-12-27T13:19:04.550Z"
   },
   {
    "duration": 490,
    "start_time": "2021-12-27T13:19:04.556Z"
   },
   {
    "duration": 6,
    "start_time": "2021-12-27T13:19:05.048Z"
   },
   {
    "duration": 525,
    "start_time": "2021-12-27T13:19:05.056Z"
   },
   {
    "duration": 509,
    "start_time": "2021-12-27T13:19:05.583Z"
   },
   {
    "duration": 194,
    "start_time": "2021-12-27T13:19:06.093Z"
   },
   {
    "duration": 188,
    "start_time": "2021-12-27T13:19:06.289Z"
   },
   {
    "duration": 200,
    "start_time": "2021-12-27T13:19:06.479Z"
   },
   {
    "duration": 192,
    "start_time": "2021-12-27T13:19:06.681Z"
   },
   {
    "duration": 375,
    "start_time": "2021-12-27T13:19:06.874Z"
   },
   {
    "duration": 8,
    "start_time": "2021-12-27T13:21:08.664Z"
   },
   {
    "duration": 9,
    "start_time": "2021-12-27T13:21:13.431Z"
   },
   {
    "duration": 13,
    "start_time": "2021-12-27T13:21:22.072Z"
   },
   {
    "duration": 4,
    "start_time": "2021-12-27T13:24:22.650Z"
   },
   {
    "duration": 186,
    "start_time": "2021-12-27T13:40:55.197Z"
   },
   {
    "duration": 308,
    "start_time": "2021-12-27T14:08:44.061Z"
   },
   {
    "duration": 8,
    "start_time": "2021-12-27T14:08:48.823Z"
   },
   {
    "duration": 9,
    "start_time": "2021-12-27T14:08:50.025Z"
   },
   {
    "duration": 344,
    "start_time": "2021-12-27T14:11:26.351Z"
   },
   {
    "duration": 309,
    "start_time": "2021-12-27T14:12:04.696Z"
   },
   {
    "duration": 2,
    "start_time": "2021-12-27T14:15:41.311Z"
   },
   {
    "duration": 10,
    "start_time": "2021-12-27T14:16:16.660Z"
   },
   {
    "duration": 1895,
    "start_time": "2021-12-27T14:16:33.732Z"
   },
   {
    "duration": 1810,
    "start_time": "2021-12-27T14:17:49.788Z"
   },
   {
    "duration": 1919,
    "start_time": "2021-12-27T14:17:51.830Z"
   },
   {
    "duration": 3,
    "start_time": "2021-12-27T14:23:04.821Z"
   },
   {
    "duration": 324,
    "start_time": "2021-12-27T14:23:18.504Z"
   },
   {
    "duration": 2,
    "start_time": "2021-12-27T14:24:05.951Z"
   },
   {
    "duration": 369,
    "start_time": "2021-12-27T14:24:09.426Z"
   },
   {
    "duration": 3,
    "start_time": "2021-12-27T14:27:14.996Z"
   },
   {
    "duration": 346,
    "start_time": "2021-12-27T14:27:16.904Z"
   },
   {
    "duration": 3,
    "start_time": "2021-12-27T14:29:41.532Z"
   },
   {
    "duration": 3,
    "start_time": "2021-12-27T14:29:51.799Z"
   },
   {
    "duration": 4436,
    "start_time": "2021-12-27T14:32:10.702Z"
   },
   {
    "duration": 3,
    "start_time": "2021-12-27T14:32:41.753Z"
   },
   {
    "duration": 1636,
    "start_time": "2021-12-27T14:32:48.618Z"
   },
   {
    "duration": 2,
    "start_time": "2021-12-27T14:33:41.392Z"
   },
   {
    "duration": 2020,
    "start_time": "2021-12-27T14:33:44.164Z"
   },
   {
    "duration": 3,
    "start_time": "2021-12-27T14:35:03.131Z"
   },
   {
    "duration": 4592,
    "start_time": "2021-12-27T14:35:03.935Z"
   },
   {
    "duration": 4806,
    "start_time": "2021-12-27T14:35:21.804Z"
   },
   {
    "duration": 4699,
    "start_time": "2021-12-27T14:35:39.562Z"
   },
   {
    "duration": 172,
    "start_time": "2021-12-27T14:42:11.967Z"
   },
   {
    "duration": 158,
    "start_time": "2021-12-27T14:44:56.928Z"
   },
   {
    "duration": 291,
    "start_time": "2021-12-27T14:46:39.757Z"
   },
   {
    "duration": 177,
    "start_time": "2021-12-27T14:48:12.146Z"
   },
   {
    "duration": 176,
    "start_time": "2021-12-27T14:49:11.534Z"
   },
   {
    "duration": 180,
    "start_time": "2021-12-27T14:50:20.214Z"
   },
   {
    "duration": 130,
    "start_time": "2021-12-27T15:49:54.098Z"
   },
   {
    "duration": 36,
    "start_time": "2021-12-27T15:49:54.230Z"
   },
   {
    "duration": 15,
    "start_time": "2021-12-27T15:49:54.268Z"
   },
   {
    "duration": 113,
    "start_time": "2021-12-27T15:49:54.285Z"
   },
   {
    "duration": 10,
    "start_time": "2021-12-27T15:49:54.399Z"
   },
   {
    "duration": 6,
    "start_time": "2021-12-27T15:49:54.428Z"
   },
   {
    "duration": 9,
    "start_time": "2021-12-27T15:49:54.436Z"
   },
   {
    "duration": 7,
    "start_time": "2021-12-27T15:49:54.448Z"
   },
   {
    "duration": 5,
    "start_time": "2021-12-27T15:49:54.458Z"
   },
   {
    "duration": 7,
    "start_time": "2021-12-27T15:49:54.464Z"
   },
   {
    "duration": 5,
    "start_time": "2021-12-27T15:49:54.473Z"
   },
   {
    "duration": 50,
    "start_time": "2021-12-27T15:49:54.480Z"
   },
   {
    "duration": 7,
    "start_time": "2021-12-27T15:49:54.532Z"
   },
   {
    "duration": 8,
    "start_time": "2021-12-27T15:49:54.540Z"
   },
   {
    "duration": 10,
    "start_time": "2021-12-27T15:49:54.549Z"
   },
   {
    "duration": 6,
    "start_time": "2021-12-27T15:49:54.561Z"
   },
   {
    "duration": 4,
    "start_time": "2021-12-27T15:49:54.568Z"
   },
   {
    "duration": 8,
    "start_time": "2021-12-27T15:49:54.573Z"
   },
   {
    "duration": 13,
    "start_time": "2021-12-27T15:49:54.582Z"
   },
   {
    "duration": 50,
    "start_time": "2021-12-27T15:49:54.627Z"
   },
   {
    "duration": 4,
    "start_time": "2021-12-27T15:49:54.678Z"
   },
   {
    "duration": 10,
    "start_time": "2021-12-27T15:49:54.683Z"
   },
   {
    "duration": 4,
    "start_time": "2021-12-27T15:49:54.696Z"
   },
   {
    "duration": 29,
    "start_time": "2021-12-27T15:49:54.702Z"
   },
   {
    "duration": 7,
    "start_time": "2021-12-27T15:49:54.733Z"
   },
   {
    "duration": 157,
    "start_time": "2021-12-27T15:49:54.741Z"
   },
   {
    "duration": 7,
    "start_time": "2021-12-27T15:49:54.899Z"
   },
   {
    "duration": 1499,
    "start_time": "2021-12-27T15:49:54.908Z"
   },
   {
    "duration": 5,
    "start_time": "2021-12-27T15:49:56.408Z"
   },
   {
    "duration": 6,
    "start_time": "2021-12-27T15:49:56.426Z"
   },
   {
    "duration": 1504,
    "start_time": "2021-12-27T15:49:56.434Z"
   },
   {
    "duration": 5,
    "start_time": "2021-12-27T15:49:57.939Z"
   },
   {
    "duration": 1523,
    "start_time": "2021-12-27T15:49:57.946Z"
   },
   {
    "duration": 4,
    "start_time": "2021-12-27T15:49:59.471Z"
   },
   {
    "duration": 4,
    "start_time": "2021-12-27T15:49:59.477Z"
   },
   {
    "duration": 1533,
    "start_time": "2021-12-27T15:49:59.482Z"
   },
   {
    "duration": 14,
    "start_time": "2021-12-27T15:50:01.016Z"
   },
   {
    "duration": 1549,
    "start_time": "2021-12-27T15:50:01.031Z"
   },
   {
    "duration": 5,
    "start_time": "2021-12-27T15:50:02.582Z"
   },
   {
    "duration": 6,
    "start_time": "2021-12-27T15:50:02.588Z"
   },
   {
    "duration": 4,
    "start_time": "2021-12-27T15:50:02.596Z"
   },
   {
    "duration": 1573,
    "start_time": "2021-12-27T15:50:02.602Z"
   },
   {
    "duration": 5,
    "start_time": "2021-12-27T15:50:04.177Z"
   },
   {
    "duration": 53,
    "start_time": "2021-12-27T15:50:04.184Z"
   },
   {
    "duration": 11,
    "start_time": "2021-12-27T15:50:04.239Z"
   },
   {
    "duration": 4,
    "start_time": "2021-12-27T15:50:04.251Z"
   },
   {
    "duration": 14,
    "start_time": "2021-12-27T15:50:04.257Z"
   },
   {
    "duration": 660,
    "start_time": "2021-12-27T15:50:04.272Z"
   },
   {
    "duration": 4,
    "start_time": "2021-12-27T15:50:04.933Z"
   },
   {
    "duration": 8,
    "start_time": "2021-12-27T15:50:04.939Z"
   },
   {
    "duration": 31,
    "start_time": "2021-12-27T15:50:04.949Z"
   },
   {
    "duration": 295,
    "start_time": "2021-12-27T15:50:04.982Z"
   },
   {
    "duration": 8,
    "start_time": "2021-12-27T15:50:05.278Z"
   },
   {
    "duration": 135,
    "start_time": "2021-12-27T15:50:05.287Z"
   },
   {
    "duration": 9,
    "start_time": "2021-12-27T15:50:05.423Z"
   },
   {
    "duration": 129,
    "start_time": "2021-12-27T15:50:05.433Z"
   },
   {
    "duration": 294,
    "start_time": "2021-12-27T15:50:05.564Z"
   },
   {
    "duration": 540,
    "start_time": "2021-12-27T15:50:05.860Z"
   },
   {
    "duration": 128,
    "start_time": "2021-12-27T15:50:06.402Z"
   },
   {
    "duration": 9,
    "start_time": "2021-12-27T15:50:06.532Z"
   },
   {
    "duration": 12,
    "start_time": "2021-12-27T15:50:06.542Z"
   },
   {
    "duration": 147,
    "start_time": "2021-12-27T15:50:06.556Z"
   },
   {
    "duration": 215,
    "start_time": "2021-12-27T15:50:06.705Z"
   },
   {
    "duration": 116,
    "start_time": "2021-12-27T15:50:06.922Z"
   },
   {
    "duration": 7,
    "start_time": "2021-12-27T15:50:07.040Z"
   },
   {
    "duration": 770,
    "start_time": "2021-12-28T12:28:29.172Z"
   },
   {
    "duration": 28,
    "start_time": "2021-12-28T12:28:29.944Z"
   },
   {
    "duration": 23,
    "start_time": "2021-12-28T12:28:29.974Z"
   },
   {
    "duration": 82,
    "start_time": "2021-12-28T12:28:29.999Z"
   },
   {
    "duration": 9,
    "start_time": "2021-12-28T12:28:30.082Z"
   },
   {
    "duration": 24,
    "start_time": "2021-12-28T12:28:30.092Z"
   },
   {
    "duration": 24,
    "start_time": "2021-12-28T12:28:30.118Z"
   },
   {
    "duration": 20,
    "start_time": "2021-12-28T12:28:30.144Z"
   },
   {
    "duration": 23,
    "start_time": "2021-12-28T12:28:30.166Z"
   },
   {
    "duration": 19,
    "start_time": "2021-12-28T12:28:30.191Z"
   },
   {
    "duration": 38,
    "start_time": "2021-12-28T12:28:30.212Z"
   },
   {
    "duration": 14,
    "start_time": "2021-12-28T12:28:30.253Z"
   },
   {
    "duration": 40,
    "start_time": "2021-12-28T12:28:30.269Z"
   },
   {
    "duration": 36,
    "start_time": "2021-12-28T12:28:30.311Z"
   },
   {
    "duration": 31,
    "start_time": "2021-12-28T12:28:30.349Z"
   },
   {
    "duration": 37,
    "start_time": "2021-12-28T12:28:30.382Z"
   },
   {
    "duration": 32,
    "start_time": "2021-12-28T12:28:30.420Z"
   },
   {
    "duration": 25,
    "start_time": "2021-12-28T12:28:30.454Z"
   },
   {
    "duration": 23,
    "start_time": "2021-12-28T12:28:30.482Z"
   },
   {
    "duration": 94,
    "start_time": "2021-12-28T12:28:30.507Z"
   },
   {
    "duration": 5,
    "start_time": "2021-12-28T12:28:30.603Z"
   },
   {
    "duration": 27,
    "start_time": "2021-12-28T12:28:30.610Z"
   },
   {
    "duration": 12,
    "start_time": "2021-12-28T12:28:30.642Z"
   },
   {
    "duration": 19,
    "start_time": "2021-12-28T12:28:30.657Z"
   },
   {
    "duration": 39,
    "start_time": "2021-12-28T12:28:30.679Z"
   },
   {
    "duration": 194,
    "start_time": "2021-12-28T12:28:30.720Z"
   },
   {
    "duration": 9,
    "start_time": "2021-12-28T12:28:30.916Z"
   },
   {
    "duration": 1660,
    "start_time": "2021-12-28T12:28:30.926Z"
   },
   {
    "duration": 6,
    "start_time": "2021-12-28T12:28:32.589Z"
   },
   {
    "duration": 13,
    "start_time": "2021-12-28T12:28:32.597Z"
   },
   {
    "duration": 1576,
    "start_time": "2021-12-28T12:28:32.612Z"
   },
   {
    "duration": 5,
    "start_time": "2021-12-28T12:28:34.190Z"
   },
   {
    "duration": 1653,
    "start_time": "2021-12-28T12:28:34.197Z"
   },
   {
    "duration": 5,
    "start_time": "2021-12-28T12:28:35.852Z"
   },
   {
    "duration": 22,
    "start_time": "2021-12-28T12:28:35.858Z"
   },
   {
    "duration": 1577,
    "start_time": "2021-12-28T12:28:35.882Z"
   },
   {
    "duration": 6,
    "start_time": "2021-12-28T12:28:37.462Z"
   },
   {
    "duration": 1572,
    "start_time": "2021-12-28T12:28:37.470Z"
   },
   {
    "duration": 5,
    "start_time": "2021-12-28T12:28:39.044Z"
   },
   {
    "duration": 7,
    "start_time": "2021-12-28T12:28:39.050Z"
   },
   {
    "duration": 6,
    "start_time": "2021-12-28T12:28:39.059Z"
   },
   {
    "duration": 1598,
    "start_time": "2021-12-28T12:28:39.067Z"
   },
   {
    "duration": 9,
    "start_time": "2021-12-28T12:28:40.667Z"
   },
   {
    "duration": 30,
    "start_time": "2021-12-28T12:28:40.678Z"
   },
   {
    "duration": 31,
    "start_time": "2021-12-28T12:28:40.711Z"
   },
   {
    "duration": 9,
    "start_time": "2021-12-28T12:28:40.744Z"
   },
   {
    "duration": 12,
    "start_time": "2021-12-28T12:28:40.755Z"
   },
   {
    "duration": 529,
    "start_time": "2021-12-28T12:28:40.769Z"
   },
   {
    "duration": 4,
    "start_time": "2021-12-28T12:28:41.300Z"
   },
   {
    "duration": 6,
    "start_time": "2021-12-28T12:28:41.306Z"
   },
   {
    "duration": 41,
    "start_time": "2021-12-28T12:28:41.313Z"
   },
   {
    "duration": 340,
    "start_time": "2021-12-28T12:28:41.356Z"
   },
   {
    "duration": 8,
    "start_time": "2021-12-28T12:28:41.698Z"
   },
   {
    "duration": 121,
    "start_time": "2021-12-28T12:28:41.707Z"
   },
   {
    "duration": 15,
    "start_time": "2021-12-28T12:28:41.829Z"
   },
   {
    "duration": 123,
    "start_time": "2021-12-28T12:28:41.845Z"
   },
   {
    "duration": 296,
    "start_time": "2021-12-28T12:28:41.970Z"
   },
   {
    "duration": 357,
    "start_time": "2021-12-28T12:28:42.267Z"
   },
   {
    "duration": 134,
    "start_time": "2021-12-28T12:28:42.626Z"
   },
   {
    "duration": 8,
    "start_time": "2021-12-28T12:28:42.761Z"
   },
   {
    "duration": 15,
    "start_time": "2021-12-28T12:28:42.770Z"
   },
   {
    "duration": 143,
    "start_time": "2021-12-28T12:28:42.787Z"
   },
   {
    "duration": 219,
    "start_time": "2021-12-28T12:28:42.932Z"
   },
   {
    "duration": 190,
    "start_time": "2021-12-28T12:28:43.152Z"
   },
   {
    "duration": 8,
    "start_time": "2021-12-28T12:28:43.343Z"
   },
   {
    "duration": 8,
    "start_time": "2021-12-28T12:28:43.352Z"
   },
   {
    "duration": 142,
    "start_time": "2021-12-28T12:28:43.361Z"
   },
   {
    "duration": 223,
    "start_time": "2021-12-28T12:28:43.509Z"
   },
   {
    "duration": 16,
    "start_time": "2021-12-28T12:28:43.735Z"
   },
   {
    "duration": 6,
    "start_time": "2021-12-28T12:28:43.752Z"
   },
   {
    "duration": 7,
    "start_time": "2021-12-28T12:28:43.759Z"
   },
   {
    "duration": 346,
    "start_time": "2021-12-28T12:28:43.768Z"
   },
   {
    "duration": 147,
    "start_time": "2021-12-28T12:28:44.115Z"
   },
   {
    "duration": 8,
    "start_time": "2021-12-28T12:28:44.263Z"
   },
   {
    "duration": 370,
    "start_time": "2021-12-28T12:28:44.273Z"
   },
   {
    "duration": 9,
    "start_time": "2021-12-28T12:28:44.644Z"
   },
   {
    "duration": 7,
    "start_time": "2021-12-28T12:28:44.655Z"
   },
   {
    "duration": 4,
    "start_time": "2021-12-28T12:28:44.664Z"
   },
   {
    "duration": 502,
    "start_time": "2021-12-28T12:28:44.670Z"
   },
   {
    "duration": 5,
    "start_time": "2021-12-28T12:28:45.174Z"
   },
   {
    "duration": 502,
    "start_time": "2021-12-28T12:28:45.181Z"
   },
   {
    "duration": 6,
    "start_time": "2021-12-28T12:28:45.685Z"
   },
   {
    "duration": 502,
    "start_time": "2021-12-28T12:28:45.693Z"
   },
   {
    "duration": 552,
    "start_time": "2021-12-28T12:28:46.197Z"
   },
   {
    "duration": 200,
    "start_time": "2021-12-28T12:28:46.751Z"
   },
   {
    "duration": 201,
    "start_time": "2021-12-28T12:28:46.954Z"
   },
   {
    "duration": 213,
    "start_time": "2021-12-28T12:28:47.156Z"
   },
   {
    "duration": 297,
    "start_time": "2021-12-28T12:28:47.371Z"
   },
   {
    "duration": 12,
    "start_time": "2021-12-28T12:28:47.671Z"
   },
   {
    "duration": 3,
    "start_time": "2021-12-28T12:28:47.685Z"
   },
   {
    "duration": 205,
    "start_time": "2021-12-28T12:28:47.690Z"
   },
   {
    "duration": 8,
    "start_time": "2021-12-28T12:28:47.897Z"
   },
   {
    "duration": 11,
    "start_time": "2021-12-28T12:28:47.907Z"
   },
   {
    "duration": 6,
    "start_time": "2021-12-28T12:28:47.919Z"
   },
   {
    "duration": 20,
    "start_time": "2021-12-28T12:28:47.927Z"
   },
   {
    "duration": 1936,
    "start_time": "2021-12-28T12:28:47.948Z"
   },
   {
    "duration": 197,
    "start_time": "2021-12-28T12:28:49.885Z"
   },
   {
    "duration": 164,
    "start_time": "2021-12-28T12:28:50.084Z"
   },
   {
    "duration": 327,
    "start_time": "2021-12-28T12:28:50.250Z"
   },
   {
    "duration": 192,
    "start_time": "2021-12-28T12:28:50.579Z"
   },
   {
    "duration": 189,
    "start_time": "2021-12-28T12:28:50.772Z"
   },
   {
    "duration": 192,
    "start_time": "2021-12-28T12:28:50.963Z"
   },
   {
    "duration": 380,
    "start_time": "2021-12-28T22:05:35.386Z"
   },
   {
    "duration": 293,
    "start_time": "2021-12-28T22:07:13.542Z"
   },
   {
    "duration": 289,
    "start_time": "2021-12-28T22:07:32.806Z"
   },
   {
    "duration": 291,
    "start_time": "2021-12-28T22:07:35.379Z"
   },
   {
    "duration": 1151,
    "start_time": "2021-12-28T22:07:39.642Z"
   },
   {
    "duration": 67,
    "start_time": "2021-12-28T22:07:40.796Z"
   },
   {
    "duration": 20,
    "start_time": "2021-12-28T22:07:40.868Z"
   },
   {
    "duration": 133,
    "start_time": "2021-12-28T22:07:40.891Z"
   },
   {
    "duration": 11,
    "start_time": "2021-12-28T22:07:41.027Z"
   },
   {
    "duration": 23,
    "start_time": "2021-12-28T22:07:41.041Z"
   },
   {
    "duration": 16,
    "start_time": "2021-12-28T22:07:41.066Z"
   },
   {
    "duration": 9,
    "start_time": "2021-12-28T22:07:41.085Z"
   },
   {
    "duration": 5,
    "start_time": "2021-12-28T22:07:41.097Z"
   },
   {
    "duration": 9,
    "start_time": "2021-12-28T22:07:41.104Z"
   },
   {
    "duration": 5,
    "start_time": "2021-12-28T22:07:41.115Z"
   },
   {
    "duration": 45,
    "start_time": "2021-12-28T22:07:41.122Z"
   },
   {
    "duration": 9,
    "start_time": "2021-12-28T22:07:41.174Z"
   },
   {
    "duration": 6,
    "start_time": "2021-12-28T22:07:41.185Z"
   },
   {
    "duration": 8,
    "start_time": "2021-12-28T22:07:41.193Z"
   },
   {
    "duration": 11,
    "start_time": "2021-12-28T22:07:41.204Z"
   },
   {
    "duration": 6,
    "start_time": "2021-12-28T22:07:41.218Z"
   },
   {
    "duration": 15,
    "start_time": "2021-12-28T22:07:41.265Z"
   },
   {
    "duration": 12,
    "start_time": "2021-12-28T22:07:41.283Z"
   },
   {
    "duration": 142,
    "start_time": "2021-12-28T22:07:41.297Z"
   },
   {
    "duration": 7,
    "start_time": "2021-12-28T22:07:41.442Z"
   },
   {
    "duration": 21,
    "start_time": "2021-12-28T22:07:41.462Z"
   },
   {
    "duration": 8,
    "start_time": "2021-12-28T22:07:41.494Z"
   },
   {
    "duration": 10,
    "start_time": "2021-12-28T22:07:41.508Z"
   },
   {
    "duration": 48,
    "start_time": "2021-12-28T22:07:41.521Z"
   },
   {
    "duration": 284,
    "start_time": "2021-12-28T22:07:41.575Z"
   },
   {
    "duration": 15,
    "start_time": "2021-12-28T22:07:41.863Z"
   },
   {
    "duration": 2805,
    "start_time": "2021-12-28T22:07:41.881Z"
   },
   {
    "duration": 9,
    "start_time": "2021-12-28T22:07:44.689Z"
   },
   {
    "duration": 12,
    "start_time": "2021-12-28T22:07:44.705Z"
   },
   {
    "duration": 3058,
    "start_time": "2021-12-28T22:07:44.719Z"
   },
   {
    "duration": 10,
    "start_time": "2021-12-28T22:07:47.780Z"
   },
   {
    "duration": 2811,
    "start_time": "2021-12-28T22:07:47.793Z"
   },
   {
    "duration": 7,
    "start_time": "2021-12-28T22:07:50.606Z"
   },
   {
    "duration": 11,
    "start_time": "2021-12-28T22:07:50.615Z"
   },
   {
    "duration": 2562,
    "start_time": "2021-12-28T22:07:50.629Z"
   },
   {
    "duration": 7,
    "start_time": "2021-12-28T22:07:53.193Z"
   },
   {
    "duration": 2624,
    "start_time": "2021-12-28T22:07:53.203Z"
   },
   {
    "duration": 8,
    "start_time": "2021-12-28T22:07:55.829Z"
   },
   {
    "duration": 7,
    "start_time": "2021-12-28T22:07:55.839Z"
   },
   {
    "duration": 6,
    "start_time": "2021-12-28T22:07:55.867Z"
   },
   {
    "duration": 2726,
    "start_time": "2021-12-28T22:07:55.876Z"
   },
   {
    "duration": 7,
    "start_time": "2021-12-28T22:07:58.605Z"
   },
   {
    "duration": 82,
    "start_time": "2021-12-28T22:07:58.615Z"
   },
   {
    "duration": 12,
    "start_time": "2021-12-28T22:07:58.699Z"
   },
   {
    "duration": 11,
    "start_time": "2021-12-28T22:07:58.714Z"
   },
   {
    "duration": 42,
    "start_time": "2021-12-28T22:07:58.728Z"
   },
   {
    "duration": 1318,
    "start_time": "2021-12-28T22:07:58.773Z"
   },
   {
    "duration": 5,
    "start_time": "2021-12-28T22:08:00.094Z"
   },
   {
    "duration": 16,
    "start_time": "2021-12-28T22:08:00.102Z"
   },
   {
    "duration": 70,
    "start_time": "2021-12-28T22:08:00.121Z"
   },
   {
    "duration": 627,
    "start_time": "2021-12-28T22:08:00.195Z"
   },
   {
    "duration": 12,
    "start_time": "2021-12-28T22:08:00.824Z"
   },
   {
    "duration": 243,
    "start_time": "2021-12-28T22:08:00.838Z"
   },
   {
    "duration": 12,
    "start_time": "2021-12-28T22:08:01.083Z"
   },
   {
    "duration": 254,
    "start_time": "2021-12-28T22:08:01.097Z"
   },
   {
    "duration": 616,
    "start_time": "2021-12-28T22:08:01.354Z"
   },
   {
    "duration": 690,
    "start_time": "2021-12-28T22:08:01.973Z"
   },
   {
    "duration": 240,
    "start_time": "2021-12-28T22:08:02.665Z"
   },
   {
    "duration": 12,
    "start_time": "2021-12-28T22:08:02.908Z"
   },
   {
    "duration": 45,
    "start_time": "2021-12-28T22:08:02.922Z"
   },
   {
    "duration": 253,
    "start_time": "2021-12-28T22:08:02.970Z"
   },
   {
    "duration": 431,
    "start_time": "2021-12-28T22:08:03.225Z"
   },
   {
    "duration": 302,
    "start_time": "2021-12-28T22:08:03.662Z"
   },
   {
    "duration": 14,
    "start_time": "2021-12-28T22:08:03.967Z"
   },
   {
    "duration": 13,
    "start_time": "2021-12-28T22:08:03.984Z"
   },
   {
    "duration": 259,
    "start_time": "2021-12-28T22:08:03.999Z"
   },
   {
    "duration": 404,
    "start_time": "2021-12-28T22:08:04.284Z"
   },
   {
    "duration": 18,
    "start_time": "2021-12-28T22:08:04.691Z"
   },
   {
    "duration": 7,
    "start_time": "2021-12-28T22:08:04.711Z"
   },
   {
    "duration": 18,
    "start_time": "2021-12-28T22:08:04.720Z"
   },
   {
    "duration": 632,
    "start_time": "2021-12-28T22:08:04.771Z"
   },
   {
    "duration": 285,
    "start_time": "2021-12-28T22:08:05.406Z"
   },
   {
    "duration": 15,
    "start_time": "2021-12-28T22:08:05.694Z"
   },
   {
    "duration": 728,
    "start_time": "2021-12-28T22:08:05.711Z"
   },
   {
    "duration": 32,
    "start_time": "2021-12-28T22:08:06.441Z"
   },
   {
    "duration": 12,
    "start_time": "2021-12-28T22:08:06.477Z"
   },
   {
    "duration": 9,
    "start_time": "2021-12-28T22:08:06.492Z"
   },
   {
    "duration": 923,
    "start_time": "2021-12-28T22:08:06.505Z"
   },
   {
    "duration": 7,
    "start_time": "2021-12-28T22:08:07.431Z"
   },
   {
    "duration": 798,
    "start_time": "2021-12-28T22:08:07.441Z"
   },
   {
    "duration": 21,
    "start_time": "2021-12-28T22:08:08.241Z"
   },
   {
    "duration": 781,
    "start_time": "2021-12-28T22:08:08.265Z"
   },
   {
    "duration": 872,
    "start_time": "2021-12-28T22:08:09.050Z"
   },
   {
    "duration": 372,
    "start_time": "2021-12-28T22:08:09.926Z"
   },
   {
    "duration": 365,
    "start_time": "2021-12-28T22:08:10.301Z"
   },
   {
    "duration": 381,
    "start_time": "2021-12-28T22:08:10.669Z"
   },
   {
    "duration": 383,
    "start_time": "2021-12-28T22:08:11.053Z"
   },
   {
    "duration": 39,
    "start_time": "2021-12-28T22:08:11.438Z"
   },
   {
    "duration": 5,
    "start_time": "2021-12-28T22:08:11.482Z"
   },
   {
    "duration": 369,
    "start_time": "2021-12-28T22:08:11.490Z"
   },
   {
    "duration": 18,
    "start_time": "2021-12-28T22:08:11.862Z"
   },
   {
    "duration": 22,
    "start_time": "2021-12-28T22:08:11.882Z"
   },
   {
    "duration": 12636,
    "start_time": "2021-12-28T22:08:11.907Z"
   },
   {
    "duration": 13175,
    "start_time": "2021-12-28T22:08:24.546Z"
   },
   {
    "duration": 14,
    "start_time": "2021-12-28T22:08:37.724Z"
   },
   {
    "duration": 3150,
    "start_time": "2021-12-28T22:08:37.740Z"
   },
   {
    "duration": 350,
    "start_time": "2021-12-28T22:08:40.892Z"
   },
   {
    "duration": 299,
    "start_time": "2021-12-28T22:08:41.245Z"
   },
   {
    "duration": 485,
    "start_time": "2021-12-28T22:08:41.547Z"
   },
   {
    "duration": 352,
    "start_time": "2021-12-28T22:08:42.035Z"
   },
   {
    "duration": 351,
    "start_time": "2021-12-28T22:08:42.389Z"
   },
   {
    "duration": 352,
    "start_time": "2021-12-28T22:08:42.742Z"
   },
   {
    "duration": 358,
    "start_time": "2021-12-28T22:12:28.530Z"
   },
   {
    "duration": 579,
    "start_time": "2021-12-28T22:13:24.906Z"
   },
   {
    "duration": 286,
    "start_time": "2021-12-29T05:49:30.770Z"
   },
   {
    "duration": 756,
    "start_time": "2021-12-29T05:49:46.569Z"
   },
   {
    "duration": 27,
    "start_time": "2021-12-29T05:49:47.327Z"
   },
   {
    "duration": 11,
    "start_time": "2021-12-29T05:49:47.356Z"
   },
   {
    "duration": 74,
    "start_time": "2021-12-29T05:49:47.369Z"
   },
   {
    "duration": 8,
    "start_time": "2021-12-29T05:49:47.444Z"
   },
   {
    "duration": 8,
    "start_time": "2021-12-29T05:49:47.454Z"
   },
   {
    "duration": 8,
    "start_time": "2021-12-29T05:49:47.463Z"
   },
   {
    "duration": 5,
    "start_time": "2021-12-29T05:49:47.474Z"
   },
   {
    "duration": 4,
    "start_time": "2021-12-29T05:49:47.481Z"
   },
   {
    "duration": 6,
    "start_time": "2021-12-29T05:49:47.486Z"
   },
   {
    "duration": 4,
    "start_time": "2021-12-29T05:49:47.493Z"
   },
   {
    "duration": 5,
    "start_time": "2021-12-29T05:49:47.498Z"
   },
   {
    "duration": 7,
    "start_time": "2021-12-29T05:49:47.542Z"
   },
   {
    "duration": 6,
    "start_time": "2021-12-29T05:49:47.550Z"
   },
   {
    "duration": 7,
    "start_time": "2021-12-29T05:49:47.558Z"
   },
   {
    "duration": 9,
    "start_time": "2021-12-29T05:49:47.566Z"
   },
   {
    "duration": 6,
    "start_time": "2021-12-29T05:49:47.577Z"
   },
   {
    "duration": 6,
    "start_time": "2021-12-29T05:49:47.585Z"
   },
   {
    "duration": 11,
    "start_time": "2021-12-29T05:49:47.593Z"
   },
   {
    "duration": 85,
    "start_time": "2021-12-29T05:49:47.606Z"
   },
   {
    "duration": 5,
    "start_time": "2021-12-29T05:49:47.693Z"
   },
   {
    "duration": 11,
    "start_time": "2021-12-29T05:49:47.700Z"
   },
   {
    "duration": 3,
    "start_time": "2021-12-29T05:49:47.716Z"
   },
   {
    "duration": 7,
    "start_time": "2021-12-29T05:49:47.742Z"
   },
   {
    "duration": 12,
    "start_time": "2021-12-29T05:49:47.751Z"
   },
   {
    "duration": 155,
    "start_time": "2021-12-29T05:49:47.765Z"
   },
   {
    "duration": 7,
    "start_time": "2021-12-29T05:49:47.922Z"
   },
   {
    "duration": 1466,
    "start_time": "2021-12-29T05:49:47.931Z"
   },
   {
    "duration": 5,
    "start_time": "2021-12-29T05:49:49.399Z"
   },
   {
    "duration": 10,
    "start_time": "2021-12-29T05:49:49.405Z"
   },
   {
    "duration": 1540,
    "start_time": "2021-12-29T05:49:49.416Z"
   },
   {
    "duration": 6,
    "start_time": "2021-12-29T05:49:50.958Z"
   },
   {
    "duration": 1658,
    "start_time": "2021-12-29T05:49:50.965Z"
   },
   {
    "duration": 19,
    "start_time": "2021-12-29T05:49:52.625Z"
   },
   {
    "duration": 25,
    "start_time": "2021-12-29T05:49:52.646Z"
   },
   {
    "duration": 1609,
    "start_time": "2021-12-29T05:49:52.673Z"
   },
   {
    "duration": 5,
    "start_time": "2021-12-29T05:49:54.283Z"
   },
   {
    "duration": 1539,
    "start_time": "2021-12-29T05:49:54.290Z"
   },
   {
    "duration": 15,
    "start_time": "2021-12-29T05:49:55.831Z"
   },
   {
    "duration": 6,
    "start_time": "2021-12-29T05:49:55.847Z"
   },
   {
    "duration": 6,
    "start_time": "2021-12-29T05:49:55.855Z"
   },
   {
    "duration": 1559,
    "start_time": "2021-12-29T05:49:55.862Z"
   },
   {
    "duration": 4,
    "start_time": "2021-12-29T05:49:57.423Z"
   },
   {
    "duration": 27,
    "start_time": "2021-12-29T05:49:57.441Z"
   },
   {
    "duration": 8,
    "start_time": "2021-12-29T05:49:57.469Z"
   },
   {
    "duration": 7,
    "start_time": "2021-12-29T05:49:57.478Z"
   },
   {
    "duration": 10,
    "start_time": "2021-12-29T05:49:57.487Z"
   },
   {
    "duration": 533,
    "start_time": "2021-12-29T05:49:57.499Z"
   },
   {
    "duration": 8,
    "start_time": "2021-12-29T05:49:58.033Z"
   },
   {
    "duration": 7,
    "start_time": "2021-12-29T05:49:58.042Z"
   },
   {
    "duration": 28,
    "start_time": "2021-12-29T05:49:58.051Z"
   },
   {
    "duration": 324,
    "start_time": "2021-12-29T05:49:58.081Z"
   },
   {
    "duration": 7,
    "start_time": "2021-12-29T05:49:58.407Z"
   },
   {
    "duration": 131,
    "start_time": "2021-12-29T05:49:58.416Z"
   },
   {
    "duration": 8,
    "start_time": "2021-12-29T05:49:58.549Z"
   },
   {
    "duration": 140,
    "start_time": "2021-12-29T05:49:58.558Z"
   },
   {
    "duration": 310,
    "start_time": "2021-12-29T05:49:58.700Z"
   },
   {
    "duration": 343,
    "start_time": "2021-12-29T05:49:59.012Z"
   },
   {
    "duration": 139,
    "start_time": "2021-12-29T05:49:59.357Z"
   },
   {
    "duration": 8,
    "start_time": "2021-12-29T05:49:59.498Z"
   },
   {
    "duration": 12,
    "start_time": "2021-12-29T05:49:59.508Z"
   },
   {
    "duration": 155,
    "start_time": "2021-12-29T05:49:59.522Z"
   },
   {
    "duration": 225,
    "start_time": "2021-12-29T05:49:59.679Z"
   },
   {
    "duration": 195,
    "start_time": "2021-12-29T05:49:59.906Z"
   },
   {
    "duration": 8,
    "start_time": "2021-12-29T05:50:00.103Z"
   },
   {
    "duration": 9,
    "start_time": "2021-12-29T05:50:00.112Z"
   },
   {
    "duration": 167,
    "start_time": "2021-12-29T05:50:00.123Z"
   },
   {
    "duration": 214,
    "start_time": "2021-12-29T05:50:00.296Z"
   },
   {
    "duration": 13,
    "start_time": "2021-12-29T05:50:00.513Z"
   },
   {
    "duration": 5,
    "start_time": "2021-12-29T05:50:00.540Z"
   },
   {
    "duration": 8,
    "start_time": "2021-12-29T05:50:00.547Z"
   },
   {
    "duration": 325,
    "start_time": "2021-12-29T05:50:00.557Z"
   },
   {
    "duration": 147,
    "start_time": "2021-12-29T05:50:00.884Z"
   },
   {
    "duration": 14,
    "start_time": "2021-12-29T05:50:01.033Z"
   },
   {
    "duration": 363,
    "start_time": "2021-12-29T05:50:01.049Z"
   },
   {
    "duration": 11,
    "start_time": "2021-12-29T05:50:01.414Z"
   },
   {
    "duration": 85,
    "start_time": "2021-12-29T05:50:01.426Z"
   },
   {
    "duration": 6,
    "start_time": "2021-12-29T05:50:01.513Z"
   },
   {
    "duration": 473,
    "start_time": "2021-12-29T05:50:01.521Z"
   },
   {
    "duration": 5,
    "start_time": "2021-12-29T05:50:01.996Z"
   },
   {
    "duration": 481,
    "start_time": "2021-12-29T05:50:02.002Z"
   },
   {
    "duration": 5,
    "start_time": "2021-12-29T05:50:02.485Z"
   },
   {
    "duration": 498,
    "start_time": "2021-12-29T05:50:02.491Z"
   },
   {
    "duration": 555,
    "start_time": "2021-12-29T05:50:02.991Z"
   },
   {
    "duration": 195,
    "start_time": "2021-12-29T05:50:03.548Z"
   },
   {
    "duration": 202,
    "start_time": "2021-12-29T05:50:03.745Z"
   },
   {
    "duration": 202,
    "start_time": "2021-12-29T05:50:03.949Z"
   },
   {
    "duration": 188,
    "start_time": "2021-12-29T05:50:04.153Z"
   },
   {
    "duration": 13,
    "start_time": "2021-12-29T05:50:04.342Z"
   },
   {
    "duration": 3,
    "start_time": "2021-12-29T05:50:04.357Z"
   },
   {
    "duration": 195,
    "start_time": "2021-12-29T05:50:04.361Z"
   },
   {
    "duration": 7,
    "start_time": "2021-12-29T05:50:04.558Z"
   },
   {
    "duration": 9,
    "start_time": "2021-12-29T05:50:04.567Z"
   },
   {
    "duration": 318,
    "start_time": "2021-12-29T05:50:04.578Z"
   },
   {
    "duration": -47,
    "start_time": "2021-12-29T05:50:04.945Z"
   },
   {
    "duration": -54,
    "start_time": "2021-12-29T05:50:04.953Z"
   },
   {
    "duration": -59,
    "start_time": "2021-12-29T05:50:04.959Z"
   },
   {
    "duration": -66,
    "start_time": "2021-12-29T05:50:04.967Z"
   },
   {
    "duration": -71,
    "start_time": "2021-12-29T05:50:04.973Z"
   },
   {
    "duration": -81,
    "start_time": "2021-12-29T05:50:04.984Z"
   },
   {
    "duration": -86,
    "start_time": "2021-12-29T05:50:04.990Z"
   },
   {
    "duration": -91,
    "start_time": "2021-12-29T05:50:04.996Z"
   },
   {
    "duration": 253,
    "start_time": "2021-12-29T05:50:39.166Z"
   },
   {
    "duration": 234,
    "start_time": "2021-12-29T05:51:03.339Z"
   },
   {
    "duration": 252,
    "start_time": "2021-12-29T05:51:38.099Z"
   },
   {
    "duration": 261,
    "start_time": "2021-12-29T05:52:31.990Z"
   },
   {
    "duration": 250,
    "start_time": "2021-12-29T05:54:38.018Z"
   },
   {
    "duration": 298,
    "start_time": "2021-12-29T05:56:03.165Z"
   },
   {
    "duration": 293,
    "start_time": "2021-12-29T06:17:13.997Z"
   },
   {
    "duration": 408,
    "start_time": "2021-12-29T06:17:48.332Z"
   },
   {
    "duration": 196,
    "start_time": "2021-12-29T06:18:27.853Z"
   },
   {
    "duration": 90,
    "start_time": "2021-12-29T06:19:02.348Z"
   },
   {
    "duration": 83,
    "start_time": "2021-12-29T06:21:43.864Z"
   },
   {
    "duration": 100,
    "start_time": "2021-12-29T06:22:01.500Z"
   },
   {
    "duration": 253,
    "start_time": "2021-12-29T06:22:30.196Z"
   },
   {
    "duration": 521,
    "start_time": "2021-12-29T06:35:54.916Z"
   },
   {
    "duration": 346,
    "start_time": "2021-12-29T14:46:18.334Z"
   },
   {
    "duration": 832,
    "start_time": "2021-12-29T14:46:39.740Z"
   },
   {
    "duration": 33,
    "start_time": "2021-12-29T14:46:40.574Z"
   },
   {
    "duration": 14,
    "start_time": "2021-12-29T14:46:40.609Z"
   },
   {
    "duration": 85,
    "start_time": "2021-12-29T14:46:40.625Z"
   },
   {
    "duration": 8,
    "start_time": "2021-12-29T14:46:40.712Z"
   },
   {
    "duration": 13,
    "start_time": "2021-12-29T14:46:40.721Z"
   },
   {
    "duration": 9,
    "start_time": "2021-12-29T14:46:40.735Z"
   },
   {
    "duration": 14,
    "start_time": "2021-12-29T14:46:40.747Z"
   },
   {
    "duration": 5,
    "start_time": "2021-12-29T14:46:40.763Z"
   },
   {
    "duration": 13,
    "start_time": "2021-12-29T14:46:40.769Z"
   },
   {
    "duration": 4,
    "start_time": "2021-12-29T14:46:40.784Z"
   },
   {
    "duration": 11,
    "start_time": "2021-12-29T14:46:40.789Z"
   },
   {
    "duration": 11,
    "start_time": "2021-12-29T14:46:40.802Z"
   },
   {
    "duration": 10,
    "start_time": "2021-12-29T14:46:40.814Z"
   },
   {
    "duration": 10,
    "start_time": "2021-12-29T14:46:40.825Z"
   },
   {
    "duration": 8,
    "start_time": "2021-12-29T14:46:40.837Z"
   },
   {
    "duration": 17,
    "start_time": "2021-12-29T14:46:40.846Z"
   },
   {
    "duration": 7,
    "start_time": "2021-12-29T14:46:40.864Z"
   },
   {
    "duration": 10,
    "start_time": "2021-12-29T14:46:40.872Z"
   },
   {
    "duration": 54,
    "start_time": "2021-12-29T14:46:40.884Z"
   },
   {
    "duration": 24,
    "start_time": "2021-12-29T14:46:40.940Z"
   },
   {
    "duration": 10,
    "start_time": "2021-12-29T14:46:40.965Z"
   },
   {
    "duration": 4,
    "start_time": "2021-12-29T14:46:40.979Z"
   },
   {
    "duration": 11,
    "start_time": "2021-12-29T14:46:40.985Z"
   },
   {
    "duration": 8,
    "start_time": "2021-12-29T14:46:40.998Z"
   },
   {
    "duration": 185,
    "start_time": "2021-12-29T14:46:41.008Z"
   },
   {
    "duration": 8,
    "start_time": "2021-12-29T14:46:41.195Z"
   },
   {
    "duration": 1618,
    "start_time": "2021-12-29T14:46:41.205Z"
   },
   {
    "duration": 5,
    "start_time": "2021-12-29T14:46:42.825Z"
   },
   {
    "duration": 9,
    "start_time": "2021-12-29T14:46:42.831Z"
   },
   {
    "duration": 1642,
    "start_time": "2021-12-29T14:46:42.842Z"
   },
   {
    "duration": 6,
    "start_time": "2021-12-29T14:46:44.485Z"
   },
   {
    "duration": 1636,
    "start_time": "2021-12-29T14:46:44.493Z"
   },
   {
    "duration": 5,
    "start_time": "2021-12-29T14:46:46.131Z"
   },
   {
    "duration": 5,
    "start_time": "2021-12-29T14:46:46.138Z"
   },
   {
    "duration": 1681,
    "start_time": "2021-12-29T14:46:46.144Z"
   },
   {
    "duration": 5,
    "start_time": "2021-12-29T14:46:47.827Z"
   },
   {
    "duration": 1668,
    "start_time": "2021-12-29T14:46:47.833Z"
   },
   {
    "duration": 5,
    "start_time": "2021-12-29T14:46:49.502Z"
   },
   {
    "duration": 4,
    "start_time": "2021-12-29T14:46:49.509Z"
   },
   {
    "duration": 5,
    "start_time": "2021-12-29T14:46:49.515Z"
   },
   {
    "duration": 1674,
    "start_time": "2021-12-29T14:46:49.522Z"
   },
   {
    "duration": 5,
    "start_time": "2021-12-29T14:46:51.197Z"
   },
   {
    "duration": 45,
    "start_time": "2021-12-29T14:46:51.204Z"
   },
   {
    "duration": 13,
    "start_time": "2021-12-29T14:46:51.250Z"
   },
   {
    "duration": 9,
    "start_time": "2021-12-29T14:46:51.265Z"
   },
   {
    "duration": 21,
    "start_time": "2021-12-29T14:46:51.275Z"
   },
   {
    "duration": 572,
    "start_time": "2021-12-29T14:46:51.298Z"
   },
   {
    "duration": 4,
    "start_time": "2021-12-29T14:46:51.872Z"
   },
   {
    "duration": 11,
    "start_time": "2021-12-29T14:46:51.877Z"
   },
   {
    "duration": 33,
    "start_time": "2021-12-29T14:46:51.889Z"
   },
   {
    "duration": 372,
    "start_time": "2021-12-29T14:46:51.923Z"
   },
   {
    "duration": 8,
    "start_time": "2021-12-29T14:46:52.297Z"
   },
   {
    "duration": 140,
    "start_time": "2021-12-29T14:46:52.307Z"
   },
   {
    "duration": 16,
    "start_time": "2021-12-29T14:46:52.449Z"
   },
   {
    "duration": 132,
    "start_time": "2021-12-29T14:46:52.467Z"
   },
   {
    "duration": 338,
    "start_time": "2021-12-29T14:46:52.600Z"
   },
   {
    "duration": 359,
    "start_time": "2021-12-29T14:46:52.940Z"
   },
   {
    "duration": 147,
    "start_time": "2021-12-29T14:46:53.302Z"
   },
   {
    "duration": 15,
    "start_time": "2021-12-29T14:46:53.452Z"
   },
   {
    "duration": 14,
    "start_time": "2021-12-29T14:46:53.468Z"
   },
   {
    "duration": 154,
    "start_time": "2021-12-29T14:46:53.484Z"
   },
   {
    "duration": 226,
    "start_time": "2021-12-29T14:46:53.640Z"
   },
   {
    "duration": 194,
    "start_time": "2021-12-29T14:46:53.868Z"
   },
   {
    "duration": 7,
    "start_time": "2021-12-29T14:46:54.064Z"
   },
   {
    "duration": 8,
    "start_time": "2021-12-29T14:46:54.073Z"
   },
   {
    "duration": 154,
    "start_time": "2021-12-29T14:46:54.083Z"
   },
   {
    "duration": 233,
    "start_time": "2021-12-29T14:46:54.242Z"
   },
   {
    "duration": 12,
    "start_time": "2021-12-29T14:46:54.477Z"
   },
   {
    "duration": 4,
    "start_time": "2021-12-29T14:46:54.490Z"
   },
   {
    "duration": 7,
    "start_time": "2021-12-29T14:46:54.496Z"
   },
   {
    "duration": 352,
    "start_time": "2021-12-29T14:46:54.505Z"
   },
   {
    "duration": 158,
    "start_time": "2021-12-29T14:46:54.859Z"
   },
   {
    "duration": 9,
    "start_time": "2021-12-29T14:46:55.018Z"
   },
   {
    "duration": 394,
    "start_time": "2021-12-29T14:46:55.029Z"
   },
   {
    "duration": 9,
    "start_time": "2021-12-29T14:46:55.425Z"
   },
   {
    "duration": 26,
    "start_time": "2021-12-29T14:46:55.436Z"
   },
   {
    "duration": 6,
    "start_time": "2021-12-29T14:46:55.463Z"
   },
   {
    "duration": 515,
    "start_time": "2021-12-29T14:46:55.470Z"
   },
   {
    "duration": 4,
    "start_time": "2021-12-29T14:46:55.987Z"
   },
   {
    "duration": 541,
    "start_time": "2021-12-29T14:46:55.993Z"
   },
   {
    "duration": 5,
    "start_time": "2021-12-29T14:46:56.536Z"
   },
   {
    "duration": 525,
    "start_time": "2021-12-29T14:46:56.542Z"
   },
   {
    "duration": 574,
    "start_time": "2021-12-29T14:46:57.069Z"
   },
   {
    "duration": 210,
    "start_time": "2021-12-29T14:46:57.644Z"
   },
   {
    "duration": 203,
    "start_time": "2021-12-29T14:46:57.856Z"
   },
   {
    "duration": 219,
    "start_time": "2021-12-29T14:46:58.061Z"
   },
   {
    "duration": 205,
    "start_time": "2021-12-29T14:46:58.281Z"
   },
   {
    "duration": 13,
    "start_time": "2021-12-29T14:46:58.488Z"
   },
   {
    "duration": 7,
    "start_time": "2021-12-29T14:46:58.503Z"
   },
   {
    "duration": 214,
    "start_time": "2021-12-29T14:46:58.511Z"
   },
   {
    "duration": 9,
    "start_time": "2021-12-29T14:46:58.727Z"
   },
   {
    "duration": 23,
    "start_time": "2021-12-29T14:46:58.738Z"
   },
   {
    "duration": 442,
    "start_time": "2021-12-29T14:46:58.762Z"
   },
   {
    "duration": 328,
    "start_time": "2021-12-29T14:46:58.878Z"
   },
   {
    "duration": 321,
    "start_time": "2021-12-29T14:46:58.886Z"
   },
   {
    "duration": 315,
    "start_time": "2021-12-29T14:46:58.893Z"
   },
   {
    "duration": 309,
    "start_time": "2021-12-29T14:46:58.900Z"
   },
   {
    "duration": 303,
    "start_time": "2021-12-29T14:46:58.907Z"
   },
   {
    "duration": 298,
    "start_time": "2021-12-29T14:46:58.913Z"
   },
   {
    "duration": 292,
    "start_time": "2021-12-29T14:46:58.920Z"
   },
   {
    "duration": 287,
    "start_time": "2021-12-29T14:46:58.926Z"
   },
   {
    "duration": 1260,
    "start_time": "2021-12-29T14:47:38.504Z"
   },
   {
    "duration": 1189,
    "start_time": "2021-12-29T14:48:07.925Z"
   },
   {
    "duration": 97,
    "start_time": "2021-12-29T14:48:23.377Z"
   },
   {
    "duration": 29,
    "start_time": "2021-12-29T14:48:23.476Z"
   },
   {
    "duration": 17,
    "start_time": "2021-12-29T14:48:23.507Z"
   },
   {
    "duration": 93,
    "start_time": "2021-12-29T14:48:23.526Z"
   },
   {
    "duration": 8,
    "start_time": "2021-12-29T14:48:23.621Z"
   },
   {
    "duration": 31,
    "start_time": "2021-12-29T14:48:23.631Z"
   },
   {
    "duration": 9,
    "start_time": "2021-12-29T14:48:23.664Z"
   },
   {
    "duration": 6,
    "start_time": "2021-12-29T14:48:23.676Z"
   },
   {
    "duration": 5,
    "start_time": "2021-12-29T14:48:23.683Z"
   },
   {
    "duration": 9,
    "start_time": "2021-12-29T14:48:23.689Z"
   },
   {
    "duration": 6,
    "start_time": "2021-12-29T14:48:23.700Z"
   },
   {
    "duration": 6,
    "start_time": "2021-12-29T14:48:23.708Z"
   },
   {
    "duration": 46,
    "start_time": "2021-12-29T14:48:23.716Z"
   },
   {
    "duration": 7,
    "start_time": "2021-12-29T14:48:23.764Z"
   },
   {
    "duration": 12,
    "start_time": "2021-12-29T14:48:23.773Z"
   },
   {
    "duration": 5,
    "start_time": "2021-12-29T14:48:23.786Z"
   },
   {
    "duration": 4,
    "start_time": "2021-12-29T14:48:23.793Z"
   },
   {
    "duration": 10,
    "start_time": "2021-12-29T14:48:23.798Z"
   },
   {
    "duration": 10,
    "start_time": "2021-12-29T14:48:23.809Z"
   },
   {
    "duration": 88,
    "start_time": "2021-12-29T14:48:23.820Z"
   },
   {
    "duration": 4,
    "start_time": "2021-12-29T14:48:23.910Z"
   },
   {
    "duration": 13,
    "start_time": "2021-12-29T14:48:23.916Z"
   },
   {
    "duration": 4,
    "start_time": "2021-12-29T14:48:23.962Z"
   },
   {
    "duration": 9,
    "start_time": "2021-12-29T14:48:23.969Z"
   },
   {
    "duration": 8,
    "start_time": "2021-12-29T14:48:23.980Z"
   },
   {
    "duration": 167,
    "start_time": "2021-12-29T14:48:23.990Z"
   },
   {
    "duration": 8,
    "start_time": "2021-12-29T14:48:24.161Z"
   },
   {
    "duration": 1639,
    "start_time": "2021-12-29T14:48:24.171Z"
   },
   {
    "duration": 7,
    "start_time": "2021-12-29T14:48:25.812Z"
   },
   {
    "duration": 17,
    "start_time": "2021-12-29T14:48:25.820Z"
   },
   {
    "duration": 1744,
    "start_time": "2021-12-29T14:48:25.839Z"
   },
   {
    "duration": 5,
    "start_time": "2021-12-29T14:48:27.585Z"
   },
   {
    "duration": 1662,
    "start_time": "2021-12-29T14:48:27.592Z"
   },
   {
    "duration": 5,
    "start_time": "2021-12-29T14:48:29.260Z"
   },
   {
    "duration": 16,
    "start_time": "2021-12-29T14:48:29.267Z"
   },
   {
    "duration": 1717,
    "start_time": "2021-12-29T14:48:29.285Z"
   },
   {
    "duration": 6,
    "start_time": "2021-12-29T14:48:31.004Z"
   },
   {
    "duration": 1762,
    "start_time": "2021-12-29T14:48:31.012Z"
   },
   {
    "duration": 5,
    "start_time": "2021-12-29T14:48:32.776Z"
   },
   {
    "duration": 10,
    "start_time": "2021-12-29T14:48:32.783Z"
   },
   {
    "duration": 33,
    "start_time": "2021-12-29T14:48:32.795Z"
   },
   {
    "duration": 1693,
    "start_time": "2021-12-29T14:48:32.830Z"
   },
   {
    "duration": 5,
    "start_time": "2021-12-29T14:48:34.525Z"
   },
   {
    "duration": 43,
    "start_time": "2021-12-29T14:48:34.531Z"
   },
   {
    "duration": 9,
    "start_time": "2021-12-29T14:48:34.575Z"
   },
   {
    "duration": 7,
    "start_time": "2021-12-29T14:48:34.585Z"
   },
   {
    "duration": 14,
    "start_time": "2021-12-29T14:48:34.594Z"
   },
   {
    "duration": 664,
    "start_time": "2021-12-29T14:48:34.609Z"
   },
   {
    "duration": 4,
    "start_time": "2021-12-29T14:48:35.275Z"
   },
   {
    "duration": 10,
    "start_time": "2021-12-29T14:48:35.280Z"
   },
   {
    "duration": 33,
    "start_time": "2021-12-29T14:48:35.292Z"
   },
   {
    "duration": 328,
    "start_time": "2021-12-29T14:48:35.327Z"
   },
   {
    "duration": 8,
    "start_time": "2021-12-29T14:48:35.661Z"
   },
   {
    "duration": 134,
    "start_time": "2021-12-29T14:48:35.670Z"
   },
   {
    "duration": 8,
    "start_time": "2021-12-29T14:48:35.806Z"
   },
   {
    "duration": 139,
    "start_time": "2021-12-29T14:48:35.815Z"
   },
   {
    "duration": 332,
    "start_time": "2021-12-29T14:48:35.955Z"
   },
   {
    "duration": 461,
    "start_time": "2021-12-29T14:48:36.289Z"
   },
   {
    "duration": 166,
    "start_time": "2021-12-29T14:48:36.752Z"
   },
   {
    "duration": 11,
    "start_time": "2021-12-29T14:48:36.920Z"
   },
   {
    "duration": 28,
    "start_time": "2021-12-29T14:48:36.933Z"
   },
   {
    "duration": 170,
    "start_time": "2021-12-29T14:48:36.963Z"
   },
   {
    "duration": 277,
    "start_time": "2021-12-29T14:48:37.135Z"
   },
   {
    "duration": 133,
    "start_time": "2021-12-29T14:48:37.414Z"
   },
   {
    "duration": 15,
    "start_time": "2021-12-29T14:48:37.549Z"
   },
   {
    "duration": 8,
    "start_time": "2021-12-29T14:48:37.566Z"
   },
   {
    "duration": 147,
    "start_time": "2021-12-29T14:48:37.576Z"
   },
   {
    "duration": 225,
    "start_time": "2021-12-29T14:48:37.728Z"
   },
   {
    "duration": 15,
    "start_time": "2021-12-29T14:48:37.955Z"
   },
   {
    "duration": 5,
    "start_time": "2021-12-29T14:48:37.972Z"
   },
   {
    "duration": 7,
    "start_time": "2021-12-29T14:48:37.979Z"
   },
   {
    "duration": 466,
    "start_time": "2021-12-29T14:48:37.987Z"
   },
   {
    "duration": 192,
    "start_time": "2021-12-29T14:48:38.455Z"
   },
   {
    "duration": 14,
    "start_time": "2021-12-29T14:48:38.649Z"
   },
   {
    "duration": 570,
    "start_time": "2021-12-29T14:48:38.665Z"
   },
   {
    "duration": 10,
    "start_time": "2021-12-29T14:48:39.237Z"
   },
   {
    "duration": 10,
    "start_time": "2021-12-29T14:48:39.260Z"
   },
   {
    "duration": 6,
    "start_time": "2021-12-29T14:48:39.272Z"
   },
   {
    "duration": 567,
    "start_time": "2021-12-29T14:48:39.280Z"
   },
   {
    "duration": 12,
    "start_time": "2021-12-29T14:48:39.849Z"
   },
   {
    "duration": 578,
    "start_time": "2021-12-29T14:48:39.864Z"
   },
   {
    "duration": 7,
    "start_time": "2021-12-29T14:48:40.444Z"
   },
   {
    "duration": 578,
    "start_time": "2021-12-29T14:48:40.461Z"
   },
   {
    "duration": 523,
    "start_time": "2021-12-29T14:48:41.041Z"
   },
   {
    "duration": 261,
    "start_time": "2021-12-29T14:48:41.566Z"
   },
   {
    "duration": 244,
    "start_time": "2021-12-29T14:48:41.829Z"
   },
   {
    "duration": 228,
    "start_time": "2021-12-29T14:48:42.075Z"
   },
   {
    "duration": 314,
    "start_time": "2021-12-29T14:48:42.305Z"
   },
   {
    "duration": 13,
    "start_time": "2021-12-29T14:48:42.621Z"
   },
   {
    "duration": 17,
    "start_time": "2021-12-29T14:48:42.636Z"
   },
   {
    "duration": 214,
    "start_time": "2021-12-29T14:48:42.654Z"
   },
   {
    "duration": 9,
    "start_time": "2021-12-29T14:48:42.870Z"
   },
   {
    "duration": 26,
    "start_time": "2021-12-29T14:48:42.881Z"
   },
   {
    "duration": 1268,
    "start_time": "2021-12-29T14:48:42.909Z"
   },
   {
    "duration": 10,
    "start_time": "2021-12-29T14:48:44.178Z"
   },
   {
    "duration": 1799,
    "start_time": "2021-12-29T14:48:44.189Z"
   },
   {
    "duration": 201,
    "start_time": "2021-12-29T14:48:45.990Z"
   },
   {
    "duration": 173,
    "start_time": "2021-12-29T14:48:46.193Z"
   },
   {
    "duration": 330,
    "start_time": "2021-12-29T14:48:46.368Z"
   },
   {
    "duration": 284,
    "start_time": "2021-12-29T14:48:46.700Z"
   },
   {
    "duration": 208,
    "start_time": "2021-12-29T14:48:46.986Z"
   },
   {
    "duration": 205,
    "start_time": "2021-12-29T14:48:47.195Z"
   },
   {
    "duration": 90,
    "start_time": "2021-12-29T14:50:14.256Z"
   },
   {
    "duration": 1075,
    "start_time": "2022-01-10T06:41:13.568Z"
   },
   {
    "duration": 82,
    "start_time": "2022-01-10T06:41:14.646Z"
   },
   {
    "duration": 36,
    "start_time": "2022-01-10T06:41:14.732Z"
   },
   {
    "duration": 124,
    "start_time": "2022-01-10T06:41:14.771Z"
   },
   {
    "duration": 13,
    "start_time": "2022-01-10T06:41:14.897Z"
   },
   {
    "duration": 10,
    "start_time": "2022-01-10T06:41:14.912Z"
   },
   {
    "duration": 11,
    "start_time": "2022-01-10T06:41:14.924Z"
   },
   {
    "duration": 34,
    "start_time": "2022-01-10T06:41:14.939Z"
   },
   {
    "duration": 6,
    "start_time": "2022-01-10T06:41:14.976Z"
   },
   {
    "duration": 8,
    "start_time": "2022-01-10T06:41:14.985Z"
   },
   {
    "duration": 6,
    "start_time": "2022-01-10T06:41:14.995Z"
   },
   {
    "duration": 18,
    "start_time": "2022-01-10T06:41:15.004Z"
   },
   {
    "duration": 49,
    "start_time": "2022-01-10T06:41:15.024Z"
   },
   {
    "duration": 6,
    "start_time": "2022-01-10T06:41:15.076Z"
   },
   {
    "duration": 10,
    "start_time": "2022-01-10T06:41:15.084Z"
   },
   {
    "duration": 11,
    "start_time": "2022-01-10T06:41:15.096Z"
   },
   {
    "duration": 12,
    "start_time": "2022-01-10T06:41:15.109Z"
   },
   {
    "duration": 6,
    "start_time": "2022-01-10T06:41:15.124Z"
   },
   {
    "duration": 41,
    "start_time": "2022-01-10T06:41:15.132Z"
   },
   {
    "duration": 114,
    "start_time": "2022-01-10T06:41:15.176Z"
   },
   {
    "duration": 6,
    "start_time": "2022-01-10T06:41:15.293Z"
   },
   {
    "duration": 16,
    "start_time": "2022-01-10T06:41:15.301Z"
   },
   {
    "duration": 5,
    "start_time": "2022-01-10T06:41:15.324Z"
   },
   {
    "duration": 43,
    "start_time": "2022-01-10T06:41:15.333Z"
   },
   {
    "duration": 11,
    "start_time": "2022-01-10T06:41:15.378Z"
   },
   {
    "duration": 293,
    "start_time": "2022-01-10T06:41:15.392Z"
   },
   {
    "duration": 13,
    "start_time": "2022-01-10T06:41:15.687Z"
   },
   {
    "duration": 2472,
    "start_time": "2022-01-10T06:41:15.703Z"
   },
   {
    "duration": 11,
    "start_time": "2022-01-10T06:41:18.178Z"
   },
   {
    "duration": 13,
    "start_time": "2022-01-10T06:41:18.192Z"
   },
   {
    "duration": 2451,
    "start_time": "2022-01-10T06:41:18.207Z"
   },
   {
    "duration": 14,
    "start_time": "2022-01-10T06:41:20.661Z"
   },
   {
    "duration": 2526,
    "start_time": "2022-01-10T06:41:20.678Z"
   },
   {
    "duration": 10,
    "start_time": "2022-01-10T06:41:23.207Z"
   },
   {
    "duration": 7,
    "start_time": "2022-01-10T06:41:23.220Z"
   },
   {
    "duration": 2448,
    "start_time": "2022-01-10T06:41:23.230Z"
   },
   {
    "duration": 8,
    "start_time": "2022-01-10T06:41:25.680Z"
   },
   {
    "duration": 2527,
    "start_time": "2022-01-10T06:41:25.690Z"
   },
   {
    "duration": 7,
    "start_time": "2022-01-10T06:41:28.219Z"
   },
   {
    "duration": 7,
    "start_time": "2022-01-10T06:41:28.229Z"
   },
   {
    "duration": 6,
    "start_time": "2022-01-10T06:41:28.267Z"
   },
   {
    "duration": 2572,
    "start_time": "2022-01-10T06:41:28.275Z"
   },
   {
    "duration": 22,
    "start_time": "2022-01-10T06:41:30.849Z"
   },
   {
    "duration": 49,
    "start_time": "2022-01-10T06:41:30.874Z"
   },
   {
    "duration": 14,
    "start_time": "2022-01-10T06:41:30.925Z"
   },
   {
    "duration": 10,
    "start_time": "2022-01-10T06:41:30.967Z"
   },
   {
    "duration": 25,
    "start_time": "2022-01-10T06:41:30.979Z"
   },
   {
    "duration": 974,
    "start_time": "2022-01-10T06:41:31.007Z"
   },
   {
    "duration": 6,
    "start_time": "2022-01-10T06:41:31.983Z"
   },
   {
    "duration": 8,
    "start_time": "2022-01-10T06:41:31.991Z"
   },
   {
    "duration": 67,
    "start_time": "2022-01-10T06:41:32.001Z"
   },
   {
    "duration": 599,
    "start_time": "2022-01-10T06:41:32.070Z"
   },
   {
    "duration": 12,
    "start_time": "2022-01-10T06:41:32.672Z"
   },
   {
    "duration": 231,
    "start_time": "2022-01-10T06:41:32.686Z"
   },
   {
    "duration": 12,
    "start_time": "2022-01-10T06:41:32.919Z"
   },
   {
    "duration": 224,
    "start_time": "2022-01-10T06:41:32.933Z"
   },
   {
    "duration": 556,
    "start_time": "2022-01-10T06:41:33.159Z"
   },
   {
    "duration": 608,
    "start_time": "2022-01-10T06:41:33.718Z"
   },
   {
    "duration": 242,
    "start_time": "2022-01-10T06:41:34.328Z"
   },
   {
    "duration": 14,
    "start_time": "2022-01-10T06:41:34.573Z"
   },
   {
    "duration": 22,
    "start_time": "2022-01-10T06:41:34.590Z"
   },
   {
    "duration": 263,
    "start_time": "2022-01-10T06:41:34.614Z"
   },
   {
    "duration": 399,
    "start_time": "2022-01-10T06:41:34.879Z"
   },
   {
    "duration": 305,
    "start_time": "2022-01-10T06:41:35.280Z"
   },
   {
    "duration": 10,
    "start_time": "2022-01-10T06:41:35.588Z"
   },
   {
    "duration": 13,
    "start_time": "2022-01-10T06:41:35.600Z"
   },
   {
    "duration": 239,
    "start_time": "2022-01-10T06:41:35.615Z"
   },
   {
    "duration": 376,
    "start_time": "2022-01-10T06:41:35.863Z"
   },
   {
    "duration": 25,
    "start_time": "2022-01-10T06:41:36.243Z"
   },
   {
    "duration": 6,
    "start_time": "2022-01-10T06:41:36.271Z"
   },
   {
    "duration": 8,
    "start_time": "2022-01-10T06:41:36.279Z"
   },
   {
    "duration": 629,
    "start_time": "2022-01-10T06:41:36.290Z"
   },
   {
    "duration": 272,
    "start_time": "2022-01-10T06:41:36.921Z"
   },
   {
    "duration": 12,
    "start_time": "2022-01-10T06:41:37.196Z"
   },
   {
    "duration": 666,
    "start_time": "2022-01-10T06:41:37.211Z"
   },
   {
    "duration": 12,
    "start_time": "2022-01-10T06:41:37.880Z"
   },
   {
    "duration": 12,
    "start_time": "2022-01-10T06:41:37.894Z"
   },
   {
    "duration": 7,
    "start_time": "2022-01-10T06:41:37.908Z"
   },
   {
    "duration": 800,
    "start_time": "2022-01-10T06:41:37.918Z"
   },
   {
    "duration": 9,
    "start_time": "2022-01-10T06:41:38.721Z"
   },
   {
    "duration": 779,
    "start_time": "2022-01-10T06:41:38.733Z"
   },
   {
    "duration": 8,
    "start_time": "2022-01-10T06:41:39.517Z"
   },
   {
    "duration": 754,
    "start_time": "2022-01-10T06:41:39.528Z"
   },
   {
    "duration": 854,
    "start_time": "2022-01-10T06:41:40.286Z"
   },
   {
    "duration": 361,
    "start_time": "2022-01-10T06:41:41.143Z"
   },
   {
    "duration": 360,
    "start_time": "2022-01-10T06:41:41.507Z"
   },
   {
    "duration": 397,
    "start_time": "2022-01-10T06:41:41.870Z"
   },
   {
    "duration": 339,
    "start_time": "2022-01-10T06:41:42.269Z"
   },
   {
    "duration": 19,
    "start_time": "2022-01-10T06:41:42.610Z"
   },
   {
    "duration": 5,
    "start_time": "2022-01-10T06:41:42.631Z"
   },
   {
    "duration": 355,
    "start_time": "2022-01-10T06:41:42.638Z"
   },
   {
    "duration": 15,
    "start_time": "2022-01-10T06:41:42.996Z"
   },
   {
    "duration": 15,
    "start_time": "2022-01-10T06:41:43.014Z"
   },
   {
    "duration": 1897,
    "start_time": "2022-01-10T06:41:43.033Z"
   },
   {
    "duration": 36,
    "start_time": "2022-01-10T06:41:44.933Z"
   },
   {
    "duration": 2941,
    "start_time": "2022-01-10T06:41:44.972Z"
   },
   {
    "duration": 357,
    "start_time": "2022-01-10T06:41:47.916Z"
   },
   {
    "duration": 308,
    "start_time": "2022-01-10T06:41:48.275Z"
   },
   {
    "duration": 466,
    "start_time": "2022-01-10T06:41:48.586Z"
   },
   {
    "duration": 344,
    "start_time": "2022-01-10T06:41:49.054Z"
   },
   {
    "duration": 347,
    "start_time": "2022-01-10T06:41:49.400Z"
   },
   {
    "duration": 354,
    "start_time": "2022-01-10T06:41:49.749Z"
   },
   {
    "duration": 25,
    "start_time": "2022-01-10T08:11:01.133Z"
   },
   {
    "duration": 25,
    "start_time": "2022-01-10T08:11:21.221Z"
   },
   {
    "duration": 22,
    "start_time": "2022-01-10T08:31:45.163Z"
   },
   {
    "duration": 23,
    "start_time": "2022-01-10T08:31:58.767Z"
   },
   {
    "duration": 28,
    "start_time": "2022-01-10T08:32:03.126Z"
   },
   {
    "duration": 4,
    "start_time": "2022-01-10T08:32:12.331Z"
   },
   {
    "duration": 60,
    "start_time": "2022-01-10T08:34:06.968Z"
   },
   {
    "duration": 420,
    "start_time": "2022-01-10T08:34:20.958Z"
   },
   {
    "duration": 47,
    "start_time": "2022-01-10T08:34:36.013Z"
   },
   {
    "duration": 51,
    "start_time": "2022-01-10T08:34:43.306Z"
   },
   {
    "duration": 11,
    "start_time": "2022-01-10T08:35:00.087Z"
   },
   {
    "duration": 223,
    "start_time": "2022-01-10T08:41:28.266Z"
   },
   {
    "duration": 27,
    "start_time": "2022-01-10T08:41:43.002Z"
   },
   {
    "duration": 135,
    "start_time": "2022-01-10T08:45:23.185Z"
   },
   {
    "duration": 20,
    "start_time": "2022-01-10T08:45:37.563Z"
   },
   {
    "duration": 196,
    "start_time": "2022-01-10T08:49:50.679Z"
   },
   {
    "duration": 24,
    "start_time": "2022-01-10T08:50:00.914Z"
   },
   {
    "duration": 197,
    "start_time": "2022-01-10T08:50:08.586Z"
   },
   {
    "duration": 620,
    "start_time": "2022-01-10T09:06:57.893Z"
   },
   {
    "duration": 26,
    "start_time": "2022-01-10T09:06:58.516Z"
   },
   {
    "duration": 40,
    "start_time": "2022-01-10T09:06:59.326Z"
   },
   {
    "duration": 9,
    "start_time": "2022-01-10T09:06:59.368Z"
   },
   {
    "duration": 236,
    "start_time": "2022-01-10T09:07:00.187Z"
   },
   {
    "duration": 27,
    "start_time": "2022-01-10T09:07:00.426Z"
   },
   {
    "duration": 132,
    "start_time": "2022-01-10T09:07:01.044Z"
   },
   {
    "duration": 21,
    "start_time": "2022-01-10T09:07:01.180Z"
   },
   {
    "duration": 198,
    "start_time": "2022-01-10T09:07:01.615Z"
   },
   {
    "duration": 27,
    "start_time": "2022-01-10T09:07:01.817Z"
   },
   {
    "duration": 216,
    "start_time": "2022-01-17T10:28:29.595Z"
   },
   {
    "duration": 1135,
    "start_time": "2022-01-17T10:28:33.911Z"
   },
   {
    "duration": 55,
    "start_time": "2022-01-17T10:28:35.066Z"
   },
   {
    "duration": 11,
    "start_time": "2022-01-17T10:30:55.073Z"
   },
   {
    "duration": 45,
    "start_time": "2022-01-17T10:31:21.914Z"
   },
   {
    "duration": 49,
    "start_time": "2022-01-17T10:31:28.627Z"
   },
   {
    "duration": 49,
    "start_time": "2022-01-17T10:32:17.993Z"
   },
   {
    "duration": 3,
    "start_time": "2022-01-17T10:37:23.342Z"
   },
   {
    "duration": 54,
    "start_time": "2022-01-17T10:37:23.347Z"
   },
   {
    "duration": 11,
    "start_time": "2022-01-17T10:37:23.404Z"
   },
   {
    "duration": 11,
    "start_time": "2022-01-17T10:37:57.216Z"
   },
   {
    "duration": 1181,
    "start_time": "2022-01-17T10:38:36.379Z"
   },
   {
    "duration": 63,
    "start_time": "2022-01-17T10:38:37.562Z"
   },
   {
    "duration": 12,
    "start_time": "2022-01-17T10:38:37.627Z"
   },
   {
    "duration": 7,
    "start_time": "2022-01-17T11:51:26.662Z"
   },
   {
    "duration": 16,
    "start_time": "2022-01-17T11:51:46.873Z"
   },
   {
    "duration": 269,
    "start_time": "2022-01-17T11:52:18.942Z"
   },
   {
    "duration": 19,
    "start_time": "2022-01-17T11:52:25.198Z"
   },
   {
    "duration": 10,
    "start_time": "2022-01-17T11:52:41.544Z"
   },
   {
    "duration": 20,
    "start_time": "2022-01-17T11:54:23.889Z"
   },
   {
    "duration": 7,
    "start_time": "2022-01-17T11:55:38.199Z"
   },
   {
    "duration": 3,
    "start_time": "2022-01-17T12:00:20.708Z"
   },
   {
    "duration": 48,
    "start_time": "2022-01-17T12:00:22.010Z"
   },
   {
    "duration": 11,
    "start_time": "2022-01-17T12:00:39.974Z"
   },
   {
    "duration": 53,
    "start_time": "2022-01-17T12:00:52.546Z"
   },
   {
    "duration": 51,
    "start_time": "2022-01-17T12:00:58.671Z"
   },
   {
    "duration": 4,
    "start_time": "2022-01-17T12:01:02.379Z"
   },
   {
    "duration": 46,
    "start_time": "2022-01-17T12:01:03.520Z"
   },
   {
    "duration": 4,
    "start_time": "2022-01-17T12:01:07.547Z"
   },
   {
    "duration": 50,
    "start_time": "2022-01-17T12:01:07.553Z"
   },
   {
    "duration": 10,
    "start_time": "2022-01-17T12:01:07.605Z"
   },
   {
    "duration": 7,
    "start_time": "2022-01-17T12:01:07.737Z"
   },
   {
    "duration": 11,
    "start_time": "2022-01-17T12:01:07.746Z"
   },
   {
    "duration": 18,
    "start_time": "2022-01-17T12:01:07.759Z"
   },
   {
    "duration": 5,
    "start_time": "2022-01-17T12:01:07.778Z"
   },
   {
    "duration": 45,
    "start_time": "2022-01-17T12:05:47.150Z"
   },
   {
    "duration": 3,
    "start_time": "2022-01-17T12:05:57.293Z"
   },
   {
    "duration": 47,
    "start_time": "2022-01-17T12:05:58.394Z"
   },
   {
    "duration": 1166,
    "start_time": "2022-01-17T12:09:39.164Z"
   },
   {
    "duration": 52,
    "start_time": "2022-01-17T12:10:15.151Z"
   },
   {
    "duration": 58,
    "start_time": "2022-01-17T12:10:20.372Z"
   },
   {
    "duration": 33,
    "start_time": "2022-01-17T12:23:31.766Z"
   },
   {
    "duration": 7,
    "start_time": "2022-01-17T12:27:02.739Z"
   },
   {
    "duration": 8,
    "start_time": "2022-01-17T12:27:03.313Z"
   },
   {
    "duration": 18,
    "start_time": "2022-01-17T12:27:04.320Z"
   },
   {
    "duration": 5,
    "start_time": "2022-01-17T12:27:06.227Z"
   },
   {
    "duration": 256,
    "start_time": "2022-01-17T12:27:11.176Z"
   },
   {
    "duration": 10,
    "start_time": "2022-01-17T12:28:04.850Z"
   },
   {
    "duration": 4,
    "start_time": "2022-01-17T12:29:13.018Z"
   },
   {
    "duration": 5,
    "start_time": "2022-01-17T12:29:28.326Z"
   },
   {
    "duration": 5,
    "start_time": "2022-01-17T12:36:32.869Z"
   },
   {
    "duration": 4,
    "start_time": "2022-01-17T12:36:33.384Z"
   },
   {
    "duration": 15,
    "start_time": "2022-01-17T12:36:47.203Z"
   },
   {
    "duration": 7,
    "start_time": "2022-01-17T12:40:05.000Z"
   },
   {
    "duration": 9,
    "start_time": "2022-01-17T12:40:05.988Z"
   },
   {
    "duration": 17,
    "start_time": "2022-01-17T12:40:06.520Z"
   },
   {
    "duration": 5,
    "start_time": "2022-01-17T12:40:07.076Z"
   },
   {
    "duration": 5,
    "start_time": "2022-01-17T12:40:09.000Z"
   },
   {
    "duration": 5,
    "start_time": "2022-01-17T12:40:10.124Z"
   },
   {
    "duration": 4,
    "start_time": "2022-01-17T12:40:10.798Z"
   },
   {
    "duration": 15,
    "start_time": "2022-01-17T12:40:13.223Z"
   },
   {
    "duration": 17,
    "start_time": "2022-01-17T12:42:47.581Z"
   },
   {
    "duration": 166,
    "start_time": "2022-01-17T12:44:13.512Z"
   },
   {
    "duration": 8,
    "start_time": "2022-01-17T12:44:22.242Z"
   },
   {
    "duration": 5,
    "start_time": "2022-01-17T12:47:50.056Z"
   },
   {
    "duration": 6,
    "start_time": "2022-01-17T12:47:50.638Z"
   },
   {
    "duration": 5,
    "start_time": "2022-01-17T12:47:53.524Z"
   },
   {
    "duration": 177,
    "start_time": "2022-01-17T12:57:35.159Z"
   },
   {
    "duration": 5,
    "start_time": "2022-01-17T12:57:55.924Z"
   },
   {
    "duration": 15,
    "start_time": "2022-01-17T12:58:01.629Z"
   },
   {
    "duration": 4,
    "start_time": "2022-01-17T13:07:10.655Z"
   },
   {
    "duration": 5,
    "start_time": "2022-01-17T13:10:41.472Z"
   },
   {
    "duration": 5,
    "start_time": "2022-01-17T13:10:58.799Z"
   },
   {
    "duration": 56,
    "start_time": "2022-01-17T13:11:48.014Z"
   },
   {
    "duration": 5,
    "start_time": "2022-01-17T13:12:02.138Z"
   },
   {
    "duration": 6,
    "start_time": "2022-01-17T13:12:03.499Z"
   },
   {
    "duration": 14,
    "start_time": "2022-01-17T13:12:07.788Z"
   },
   {
    "duration": 4,
    "start_time": "2022-01-17T13:49:08.604Z"
   },
   {
    "duration": 87,
    "start_time": "2022-01-17T13:49:08.610Z"
   },
   {
    "duration": 33,
    "start_time": "2022-01-17T13:49:08.699Z"
   },
   {
    "duration": 9,
    "start_time": "2022-01-17T13:49:08.734Z"
   },
   {
    "duration": 23,
    "start_time": "2022-01-17T13:49:08.744Z"
   },
   {
    "duration": 23,
    "start_time": "2022-01-17T13:49:08.769Z"
   },
   {
    "duration": 12,
    "start_time": "2022-01-17T13:49:08.794Z"
   },
   {
    "duration": 25,
    "start_time": "2022-01-17T13:49:08.808Z"
   },
   {
    "duration": 17,
    "start_time": "2022-01-17T13:49:08.836Z"
   },
   {
    "duration": 44,
    "start_time": "2022-01-17T13:49:08.855Z"
   },
   {
    "duration": 5,
    "start_time": "2022-01-17T13:49:08.902Z"
   },
   {
    "duration": 4316,
    "start_time": "2022-01-17T13:49:08.909Z"
   },
   {
    "duration": 1803,
    "start_time": "2022-01-17T13:49:11.424Z"
   },
   {
    "duration": 1799,
    "start_time": "2022-01-17T13:49:11.428Z"
   },
   {
    "duration": 1797,
    "start_time": "2022-01-17T13:49:11.432Z"
   },
   {
    "duration": 1795,
    "start_time": "2022-01-17T13:49:11.435Z"
   },
   {
    "duration": 1793,
    "start_time": "2022-01-17T13:49:11.438Z"
   },
   {
    "duration": 1791,
    "start_time": "2022-01-17T13:49:11.441Z"
   },
   {
    "duration": 1789,
    "start_time": "2022-01-17T13:49:11.444Z"
   },
   {
    "duration": 6,
    "start_time": "2022-01-17T13:49:50.421Z"
   },
   {
    "duration": 13,
    "start_time": "2022-01-17T13:49:51.812Z"
   },
   {
    "duration": 7,
    "start_time": "2022-01-17T13:52:32.530Z"
   },
   {
    "duration": 3,
    "start_time": "2022-01-17T13:52:33.287Z"
   },
   {
    "duration": 10,
    "start_time": "2022-01-17T13:52:34.558Z"
   },
   {
    "duration": 5,
    "start_time": "2022-01-17T13:53:05.843Z"
   },
   {
    "duration": 3,
    "start_time": "2022-01-17T13:53:06.493Z"
   },
   {
    "duration": 10,
    "start_time": "2022-01-17T13:53:07.472Z"
   },
   {
    "duration": 3,
    "start_time": "2022-01-17T13:53:10.435Z"
   },
   {
    "duration": 59,
    "start_time": "2022-01-17T13:53:10.440Z"
   },
   {
    "duration": 29,
    "start_time": "2022-01-17T13:53:10.501Z"
   },
   {
    "duration": 10,
    "start_time": "2022-01-17T13:53:10.532Z"
   },
   {
    "duration": 10,
    "start_time": "2022-01-17T13:53:10.544Z"
   },
   {
    "duration": 19,
    "start_time": "2022-01-17T13:53:10.556Z"
   },
   {
    "duration": 30,
    "start_time": "2022-01-17T13:53:10.577Z"
   },
   {
    "duration": 41,
    "start_time": "2022-01-17T13:53:10.609Z"
   },
   {
    "duration": 25,
    "start_time": "2022-01-17T13:53:10.652Z"
   },
   {
    "duration": 16,
    "start_time": "2022-01-17T13:53:10.679Z"
   },
   {
    "duration": 22,
    "start_time": "2022-01-17T13:53:10.696Z"
   },
   {
    "duration": 26,
    "start_time": "2022-01-17T13:53:10.720Z"
   },
   {
    "duration": 21,
    "start_time": "2022-01-17T13:53:10.747Z"
   },
   {
    "duration": 25,
    "start_time": "2022-01-17T13:53:10.770Z"
   },
   {
    "duration": 15,
    "start_time": "2022-01-17T13:53:10.796Z"
   },
   {
    "duration": 33,
    "start_time": "2022-01-17T13:53:10.813Z"
   },
   {
    "duration": 22,
    "start_time": "2022-01-17T13:53:10.848Z"
   },
   {
    "duration": 30,
    "start_time": "2022-01-17T13:53:10.872Z"
   },
   {
    "duration": 35,
    "start_time": "2022-01-17T13:53:10.904Z"
   },
   {
    "duration": 26,
    "start_time": "2022-01-17T13:53:51.691Z"
   },
   {
    "duration": 25,
    "start_time": "2022-01-17T13:54:00.027Z"
   },
   {
    "duration": 10,
    "start_time": "2022-01-17T13:54:16.902Z"
   },
   {
    "duration": 8,
    "start_time": "2022-01-17T13:56:04.555Z"
   },
   {
    "duration": 5,
    "start_time": "2022-01-17T13:56:33.143Z"
   },
   {
    "duration": 5,
    "start_time": "2022-01-17T13:56:34.942Z"
   },
   {
    "duration": 6,
    "start_time": "2022-01-17T13:56:35.421Z"
   },
   {
    "duration": 11,
    "start_time": "2022-01-17T13:56:37.045Z"
   },
   {
    "duration": 5,
    "start_time": "2022-01-17T14:21:54.581Z"
   },
   {
    "duration": 14,
    "start_time": "2022-01-17T14:22:09.161Z"
   },
   {
    "duration": 3,
    "start_time": "2022-01-17T14:46:05.212Z"
   },
   {
    "duration": 60,
    "start_time": "2022-01-17T14:46:05.217Z"
   },
   {
    "duration": 30,
    "start_time": "2022-01-17T14:46:05.279Z"
   },
   {
    "duration": 10,
    "start_time": "2022-01-17T14:46:05.310Z"
   },
   {
    "duration": 7,
    "start_time": "2022-01-17T14:46:05.880Z"
   },
   {
    "duration": 19,
    "start_time": "2022-01-17T14:46:05.889Z"
   },
   {
    "duration": 24,
    "start_time": "2022-01-17T14:46:05.910Z"
   },
   {
    "duration": 27,
    "start_time": "2022-01-17T14:46:05.936Z"
   },
   {
    "duration": 27,
    "start_time": "2022-01-17T14:46:05.964Z"
   },
   {
    "duration": 13,
    "start_time": "2022-01-17T14:46:05.993Z"
   },
   {
    "duration": 24,
    "start_time": "2022-01-17T14:46:06.008Z"
   },
   {
    "duration": 24,
    "start_time": "2022-01-17T14:46:06.033Z"
   },
   {
    "duration": 11,
    "start_time": "2022-01-17T14:46:06.060Z"
   },
   {
    "duration": 25,
    "start_time": "2022-01-17T14:46:06.072Z"
   },
   {
    "duration": 27,
    "start_time": "2022-01-17T14:46:06.099Z"
   },
   {
    "duration": 18,
    "start_time": "2022-01-17T14:46:06.128Z"
   },
   {
    "duration": 21,
    "start_time": "2022-01-17T14:46:06.148Z"
   },
   {
    "duration": 27,
    "start_time": "2022-01-17T14:46:06.170Z"
   },
   {
    "duration": 18,
    "start_time": "2022-01-17T14:46:06.198Z"
   },
   {
    "duration": 35,
    "start_time": "2022-01-17T14:46:06.218Z"
   },
   {
    "duration": 29,
    "start_time": "2022-01-17T14:46:06.255Z"
   },
   {
    "duration": 34,
    "start_time": "2022-01-17T14:46:06.286Z"
   },
   {
    "duration": 602,
    "start_time": "2022-01-20T13:52:32.455Z"
   },
   {
    "duration": 1419,
    "start_time": "2022-01-20T13:52:42.221Z"
   },
   {
    "duration": 70,
    "start_time": "2022-01-20T13:52:43.643Z"
   },
   {
    "duration": 62,
    "start_time": "2022-01-20T13:52:43.716Z"
   },
   {
    "duration": 13,
    "start_time": "2022-01-20T13:52:43.781Z"
   },
   {
    "duration": 11,
    "start_time": "2022-01-20T13:52:43.797Z"
   },
   {
    "duration": 4,
    "start_time": "2022-01-20T13:52:43.810Z"
   },
   {
    "duration": 13,
    "start_time": "2022-01-20T13:52:43.816Z"
   },
   {
    "duration": 53,
    "start_time": "2022-01-20T13:52:43.832Z"
   },
   {
    "duration": 23,
    "start_time": "2022-01-20T13:52:43.889Z"
   },
   {
    "duration": 12,
    "start_time": "2022-01-20T13:52:43.915Z"
   },
   {
    "duration": 42,
    "start_time": "2022-01-20T13:52:43.929Z"
   },
   {
    "duration": 6,
    "start_time": "2022-01-20T13:52:43.974Z"
   },
   {
    "duration": 10,
    "start_time": "2022-01-20T13:52:43.982Z"
   },
   {
    "duration": 8,
    "start_time": "2022-01-20T13:52:43.994Z"
   },
   {
    "duration": 12,
    "start_time": "2022-01-20T13:52:44.005Z"
   },
   {
    "duration": 46,
    "start_time": "2022-01-20T13:52:44.019Z"
   },
   {
    "duration": 6,
    "start_time": "2022-01-20T13:52:44.068Z"
   },
   {
    "duration": 7,
    "start_time": "2022-01-20T13:52:44.077Z"
   },
   {
    "duration": 11,
    "start_time": "2022-01-20T13:52:44.087Z"
   },
   {
    "duration": 17,
    "start_time": "2022-01-20T13:52:44.100Z"
   },
   {
    "duration": 6,
    "start_time": "2022-01-20T13:52:44.120Z"
   },
   {
    "duration": 53,
    "start_time": "2022-01-20T13:52:44.128Z"
   },
   {
    "duration": 8420,
    "start_time": "2022-01-20T13:52:44.183Z"
   },
   {
    "duration": 515,
    "start_time": "2022-01-20T13:53:14.350Z"
   },
   {
    "duration": 733,
    "start_time": "2022-01-20T13:53:18.825Z"
   },
   {
    "duration": 442,
    "start_time": "2022-01-20T13:54:04.573Z"
   },
   {
    "duration": 364,
    "start_time": "2022-01-20T14:06:12.842Z"
   },
   {
    "duration": 106,
    "start_time": "2022-01-20T14:07:57.751Z"
   },
   {
    "duration": 102,
    "start_time": "2022-01-20T14:08:14.857Z"
   },
   {
    "duration": 98,
    "start_time": "2022-01-20T14:09:15.566Z"
   },
   {
    "duration": 98,
    "start_time": "2022-01-20T14:11:06.779Z"
   },
   {
    "duration": 313,
    "start_time": "2022-01-20T14:24:44.125Z"
   },
   {
    "duration": 4,
    "start_time": "2022-01-20T14:25:09.106Z"
   },
   {
    "duration": 73,
    "start_time": "2022-01-20T14:25:09.113Z"
   },
   {
    "duration": 43,
    "start_time": "2022-01-20T14:25:09.189Z"
   },
   {
    "duration": 44,
    "start_time": "2022-01-20T14:25:09.234Z"
   },
   {
    "duration": 8,
    "start_time": "2022-01-20T14:25:09.281Z"
   },
   {
    "duration": 4,
    "start_time": "2022-01-20T14:25:09.292Z"
   },
   {
    "duration": 16,
    "start_time": "2022-01-20T14:25:09.301Z"
   },
   {
    "duration": 67,
    "start_time": "2022-01-20T14:25:09.320Z"
   },
   {
    "duration": 23,
    "start_time": "2022-01-20T14:25:09.390Z"
   },
   {
    "duration": 16,
    "start_time": "2022-01-20T14:25:09.416Z"
   },
   {
    "duration": 37,
    "start_time": "2022-01-20T14:25:09.434Z"
   },
   {
    "duration": 7,
    "start_time": "2022-01-20T14:25:09.474Z"
   },
   {
    "duration": 6,
    "start_time": "2022-01-20T14:25:09.483Z"
   },
   {
    "duration": 11,
    "start_time": "2022-01-20T14:25:09.492Z"
   },
   {
    "duration": 11,
    "start_time": "2022-01-20T14:25:09.505Z"
   },
   {
    "duration": 47,
    "start_time": "2022-01-20T14:25:09.518Z"
   },
   {
    "duration": 7,
    "start_time": "2022-01-20T14:25:09.567Z"
   },
   {
    "duration": 8,
    "start_time": "2022-01-20T14:25:09.576Z"
   },
   {
    "duration": 10,
    "start_time": "2022-01-20T14:25:09.588Z"
   },
   {
    "duration": 20,
    "start_time": "2022-01-20T14:25:09.601Z"
   },
   {
    "duration": 6,
    "start_time": "2022-01-20T14:25:09.623Z"
   },
   {
    "duration": 50,
    "start_time": "2022-01-20T14:25:09.631Z"
   },
   {
    "duration": 473,
    "start_time": "2022-01-20T14:25:09.684Z"
   },
   {
    "duration": 7394,
    "start_time": "2022-01-20T14:25:10.166Z"
   },
   {
    "duration": 114,
    "start_time": "2022-01-20T14:25:17.565Z"
   },
   {
    "duration": 299,
    "start_time": "2022-01-20T14:54:26.255Z"
   },
   {
    "duration": 821,
    "start_time": "2022-01-20T15:23:39.952Z"
   },
   {
    "duration": 22666,
    "start_time": "2022-01-20T15:27:43.280Z"
   },
   {
    "duration": 590,
    "start_time": "2022-01-20T15:28:30.787Z"
   },
   {
    "duration": 585,
    "start_time": "2022-01-20T15:28:30.794Z"
   },
   {
    "duration": 5,
    "start_time": "2022-01-20T15:28:35.708Z"
   },
   {
    "duration": 66,
    "start_time": "2022-01-20T15:28:35.715Z"
   },
   {
    "duration": 45,
    "start_time": "2022-01-20T15:28:35.784Z"
   },
   {
    "duration": 40,
    "start_time": "2022-01-20T15:28:35.832Z"
   },
   {
    "duration": 6,
    "start_time": "2022-01-20T15:28:35.875Z"
   },
   {
    "duration": 6,
    "start_time": "2022-01-20T15:28:35.883Z"
   },
   {
    "duration": 13,
    "start_time": "2022-01-20T15:28:35.893Z"
   },
   {
    "duration": 59,
    "start_time": "2022-01-20T15:28:35.909Z"
   },
   {
    "duration": 22,
    "start_time": "2022-01-20T15:28:35.971Z"
   },
   {
    "duration": 13,
    "start_time": "2022-01-20T15:28:35.995Z"
   },
   {
    "duration": 7,
    "start_time": "2022-01-20T15:28:36.010Z"
   },
   {
    "duration": 8,
    "start_time": "2022-01-20T15:28:36.019Z"
   },
   {
    "duration": 38,
    "start_time": "2022-01-20T15:28:36.029Z"
   },
   {
    "duration": 7,
    "start_time": "2022-01-20T15:28:36.070Z"
   },
   {
    "duration": 9,
    "start_time": "2022-01-20T15:28:36.080Z"
   },
   {
    "duration": 15,
    "start_time": "2022-01-20T15:28:36.091Z"
   },
   {
    "duration": 8,
    "start_time": "2022-01-20T15:28:36.109Z"
   },
   {
    "duration": 7,
    "start_time": "2022-01-20T15:28:36.119Z"
   },
   {
    "duration": 38,
    "start_time": "2022-01-20T15:28:36.130Z"
   },
   {
    "duration": 19,
    "start_time": "2022-01-20T15:28:36.170Z"
   },
   {
    "duration": 5,
    "start_time": "2022-01-20T15:28:36.191Z"
   },
   {
    "duration": 23,
    "start_time": "2022-01-20T15:28:36.198Z"
   },
   {
    "duration": 463,
    "start_time": "2022-01-20T15:28:36.224Z"
   },
   {
    "duration": 109,
    "start_time": "2022-01-20T15:28:36.690Z"
   },
   {
    "duration": 603,
    "start_time": "2022-01-20T15:28:36.199Z"
   },
   {
    "duration": 103,
    "start_time": "2022-01-20T15:28:58.175Z"
   },
   {
    "duration": 319,
    "start_time": "2022-01-20T15:29:05.155Z"
   },
   {
    "duration": 334,
    "start_time": "2022-01-20T15:30:23.213Z"
   },
   {
    "duration": 2436,
    "start_time": "2022-01-20T15:31:01.170Z"
   },
   {
    "duration": 6074,
    "start_time": "2022-01-20T15:33:11.752Z"
   },
   {
    "duration": 419,
    "start_time": "2022-01-21T09:39:46.458Z"
   },
   {
    "duration": 1155,
    "start_time": "2022-01-21T09:39:52.059Z"
   },
   {
    "duration": 52,
    "start_time": "2022-01-21T09:39:53.216Z"
   },
   {
    "duration": 32,
    "start_time": "2022-01-21T09:39:53.271Z"
   },
   {
    "duration": 13,
    "start_time": "2022-01-21T09:39:53.306Z"
   },
   {
    "duration": 32,
    "start_time": "2022-01-21T09:39:53.320Z"
   },
   {
    "duration": 7,
    "start_time": "2022-01-21T09:39:53.354Z"
   },
   {
    "duration": 29,
    "start_time": "2022-01-21T09:39:53.362Z"
   },
   {
    "duration": 31,
    "start_time": "2022-01-21T09:39:53.393Z"
   },
   {
    "duration": 17,
    "start_time": "2022-01-21T09:39:53.426Z"
   },
   {
    "duration": 8,
    "start_time": "2022-01-21T09:39:53.444Z"
   },
   {
    "duration": 16,
    "start_time": "2022-01-21T09:39:53.453Z"
   },
   {
    "duration": 14,
    "start_time": "2022-01-21T09:39:53.470Z"
   },
   {
    "duration": 32,
    "start_time": "2022-01-21T09:39:53.486Z"
   },
   {
    "duration": 11,
    "start_time": "2022-01-21T09:39:53.520Z"
   },
   {
    "duration": 25,
    "start_time": "2022-01-21T09:39:53.533Z"
   },
   {
    "duration": 19,
    "start_time": "2022-01-21T09:39:53.560Z"
   },
   {
    "duration": 15,
    "start_time": "2022-01-21T09:39:53.581Z"
   },
   {
    "duration": 34,
    "start_time": "2022-01-21T09:39:53.598Z"
   },
   {
    "duration": 9,
    "start_time": "2022-01-21T09:39:53.634Z"
   },
   {
    "duration": 21,
    "start_time": "2022-01-21T09:39:53.645Z"
   },
   {
    "duration": 10,
    "start_time": "2022-01-21T09:39:53.667Z"
   },
   {
    "duration": 22,
    "start_time": "2022-01-21T09:39:53.679Z"
   },
   {
    "duration": 342,
    "start_time": "2022-01-21T09:39:53.705Z"
   },
   {
    "duration": 39,
    "start_time": "2022-01-21T09:39:54.049Z"
   },
   {
    "duration": 8,
    "start_time": "2022-01-21T09:46:04.204Z"
   },
   {
    "duration": 13,
    "start_time": "2022-01-21T09:46:37.991Z"
   },
   {
    "duration": 7,
    "start_time": "2022-01-21T09:48:15.846Z"
   },
   {
    "duration": 11,
    "start_time": "2022-01-21T09:48:17.977Z"
   },
   {
    "duration": 7,
    "start_time": "2022-01-21T09:48:45.606Z"
   },
   {
    "duration": 12,
    "start_time": "2022-01-21T09:48:46.216Z"
   },
   {
    "duration": 8,
    "start_time": "2022-01-21T09:48:59.772Z"
   },
   {
    "duration": 16,
    "start_time": "2022-01-21T09:49:00.309Z"
   },
   {
    "duration": 225,
    "start_time": "2022-01-21T09:53:44.591Z"
   },
   {
    "duration": 255,
    "start_time": "2022-01-21T10:09:19.352Z"
   },
   {
    "duration": 231,
    "start_time": "2022-01-21T10:12:01.692Z"
   },
   {
    "duration": 5,
    "start_time": "2022-01-21T10:18:33.421Z"
   },
   {
    "duration": 10,
    "start_time": "2022-01-21T10:18:33.433Z"
   },
   {
    "duration": 26,
    "start_time": "2022-01-21T10:18:33.475Z"
   },
   {
    "duration": 17,
    "start_time": "2022-01-21T10:18:33.531Z"
   },
   {
    "duration": 52,
    "start_time": "2022-01-21T10:18:33.567Z"
   },
   {
    "duration": 9,
    "start_time": "2022-01-21T10:18:33.633Z"
   },
   {
    "duration": 7,
    "start_time": "2022-01-21T10:18:33.652Z"
   },
   {
    "duration": 32,
    "start_time": "2022-01-21T10:18:33.671Z"
   },
   {
    "duration": 6,
    "start_time": "2022-01-21T10:18:33.715Z"
   },
   {
    "duration": 8,
    "start_time": "2022-01-21T10:18:33.731Z"
   },
   {
    "duration": 7,
    "start_time": "2022-01-21T10:18:33.748Z"
   },
   {
    "duration": 7,
    "start_time": "2022-01-21T10:18:33.768Z"
   },
   {
    "duration": 7,
    "start_time": "2022-01-21T10:18:33.802Z"
   },
   {
    "duration": 8,
    "start_time": "2022-01-21T10:18:33.818Z"
   },
   {
    "duration": 6,
    "start_time": "2022-01-21T10:18:33.839Z"
   },
   {
    "duration": 42,
    "start_time": "2022-01-21T10:18:33.864Z"
   },
   {
    "duration": 7,
    "start_time": "2022-01-21T10:18:33.917Z"
   },
   {
    "duration": 20,
    "start_time": "2022-01-21T10:18:33.948Z"
   },
   {
    "duration": 320,
    "start_time": "2022-01-21T10:18:34.314Z"
   },
   {
    "duration": 60,
    "start_time": "2022-01-21T10:18:34.680Z"
   },
   {
    "duration": 10,
    "start_time": "2022-01-21T10:18:34.751Z"
   },
   {
    "duration": 30,
    "start_time": "2022-01-21T10:18:34.775Z"
   },
   {
    "duration": 9,
    "start_time": "2022-01-21T10:18:34.813Z"
   },
   {
    "duration": 226,
    "start_time": "2022-01-21T10:18:35.075Z"
   },
   {
    "duration": 267,
    "start_time": "2022-01-21T10:21:32.450Z"
   },
   {
    "duration": 261,
    "start_time": "2022-01-21T10:21:32.458Z"
   },
   {
    "duration": 256,
    "start_time": "2022-01-21T10:21:32.464Z"
   },
   {
    "duration": 253,
    "start_time": "2022-01-21T10:21:32.469Z"
   },
   {
    "duration": 248,
    "start_time": "2022-01-21T10:21:32.475Z"
   },
   {
    "duration": 241,
    "start_time": "2022-01-21T10:21:32.484Z"
   },
   {
    "duration": 237,
    "start_time": "2022-01-21T10:21:32.489Z"
   },
   {
    "duration": 232,
    "start_time": "2022-01-21T10:21:32.495Z"
   },
   {
    "duration": 228,
    "start_time": "2022-01-21T10:21:32.501Z"
   },
   {
    "duration": 222,
    "start_time": "2022-01-21T10:21:32.508Z"
   },
   {
    "duration": 217,
    "start_time": "2022-01-21T10:21:32.514Z"
   },
   {
    "duration": 212,
    "start_time": "2022-01-21T10:21:32.520Z"
   },
   {
    "duration": 197,
    "start_time": "2022-01-21T10:21:32.536Z"
   },
   {
    "duration": 192,
    "start_time": "2022-01-21T10:21:32.542Z"
   },
   {
    "duration": 188,
    "start_time": "2022-01-21T10:21:32.548Z"
   },
   {
    "duration": 182,
    "start_time": "2022-01-21T10:21:32.555Z"
   },
   {
    "duration": 177,
    "start_time": "2022-01-21T10:21:32.561Z"
   },
   {
    "duration": 172,
    "start_time": "2022-01-21T10:21:32.567Z"
   },
   {
    "duration": 166,
    "start_time": "2022-01-21T10:21:32.574Z"
   },
   {
    "duration": 162,
    "start_time": "2022-01-21T10:21:32.579Z"
   },
   {
    "duration": 158,
    "start_time": "2022-01-21T10:21:32.584Z"
   },
   {
    "duration": 154,
    "start_time": "2022-01-21T10:21:32.589Z"
   },
   {
    "duration": 148,
    "start_time": "2022-01-21T10:21:32.595Z"
   },
   {
    "duration": 144,
    "start_time": "2022-01-21T10:21:32.600Z"
   },
   {
    "duration": 193,
    "start_time": "2022-01-21T10:21:32.606Z"
   },
   {
    "duration": 190,
    "start_time": "2022-01-21T10:21:32.610Z"
   },
   {
    "duration": 185,
    "start_time": "2022-01-21T10:21:32.616Z"
   },
   {
    "duration": 179,
    "start_time": "2022-01-21T10:21:32.623Z"
   },
   {
    "duration": 175,
    "start_time": "2022-01-21T10:21:32.628Z"
   },
   {
    "duration": 3,
    "start_time": "2022-01-21T10:21:40.854Z"
   },
   {
    "duration": 50,
    "start_time": "2022-01-21T10:21:42.953Z"
   },
   {
    "duration": 35,
    "start_time": "2022-01-21T10:21:48.548Z"
   },
   {
    "duration": 11,
    "start_time": "2022-01-21T10:21:49.252Z"
   },
   {
    "duration": 7,
    "start_time": "2022-01-21T10:21:53.749Z"
   },
   {
    "duration": 4,
    "start_time": "2022-01-21T10:21:54.265Z"
   },
   {
    "duration": 9,
    "start_time": "2022-01-21T10:21:55.300Z"
   },
   {
    "duration": 17,
    "start_time": "2022-01-21T10:21:55.816Z"
   },
   {
    "duration": 16,
    "start_time": "2022-01-21T10:21:56.328Z"
   },
   {
    "duration": 9,
    "start_time": "2022-01-21T10:21:56.845Z"
   },
   {
    "duration": 5,
    "start_time": "2022-01-21T10:21:57.945Z"
   },
   {
    "duration": 5,
    "start_time": "2022-01-21T10:21:58.449Z"
   },
   {
    "duration": 4,
    "start_time": "2022-01-21T10:21:59.510Z"
   },
   {
    "duration": 5,
    "start_time": "2022-01-21T10:22:00.468Z"
   },
   {
    "duration": 4,
    "start_time": "2022-01-21T10:22:00.960Z"
   },
   {
    "duration": 8,
    "start_time": "2022-01-21T10:22:01.452Z"
   },
   {
    "duration": 5,
    "start_time": "2022-01-21T10:22:02.489Z"
   },
   {
    "duration": 5,
    "start_time": "2022-01-21T10:22:04.248Z"
   },
   {
    "duration": 5,
    "start_time": "2022-01-21T10:22:04.902Z"
   },
   {
    "duration": 12,
    "start_time": "2022-01-21T10:22:05.927Z"
   },
   {
    "duration": 5,
    "start_time": "2022-01-21T10:22:07.089Z"
   },
   {
    "duration": 18,
    "start_time": "2022-01-21T10:22:07.644Z"
   },
   {
    "duration": 369,
    "start_time": "2022-01-21T10:22:10.293Z"
   },
   {
    "duration": 43,
    "start_time": "2022-01-21T10:22:13.129Z"
   },
   {
    "duration": 9,
    "start_time": "2022-01-21T10:22:15.240Z"
   },
   {
    "duration": 11,
    "start_time": "2022-01-21T10:22:15.983Z"
   },
   {
    "duration": 5,
    "start_time": "2022-01-21T10:22:17.625Z"
   },
   {
    "duration": 231,
    "start_time": "2022-01-21T10:22:25.338Z"
   },
   {
    "duration": 262,
    "start_time": "2022-01-21T10:29:06.029Z"
   },
   {
    "duration": 1190,
    "start_time": "2022-01-21T10:31:38.803Z"
   },
   {
    "duration": 54,
    "start_time": "2022-01-21T10:31:39.995Z"
   },
   {
    "duration": 30,
    "start_time": "2022-01-21T10:31:40.050Z"
   },
   {
    "duration": 24,
    "start_time": "2022-01-21T10:31:40.082Z"
   },
   {
    "duration": 8,
    "start_time": "2022-01-21T10:31:40.108Z"
   },
   {
    "duration": 4,
    "start_time": "2022-01-21T10:31:40.118Z"
   },
   {
    "duration": 18,
    "start_time": "2022-01-21T10:31:40.124Z"
   },
   {
    "duration": 17,
    "start_time": "2022-01-21T10:31:40.145Z"
   },
   {
    "duration": 39,
    "start_time": "2022-01-21T10:31:40.164Z"
   },
   {
    "duration": 11,
    "start_time": "2022-01-21T10:31:40.205Z"
   },
   {
    "duration": 7,
    "start_time": "2022-01-21T10:31:40.218Z"
   },
   {
    "duration": 8,
    "start_time": "2022-01-21T10:31:40.227Z"
   },
   {
    "duration": 7,
    "start_time": "2022-01-21T10:31:40.237Z"
   },
   {
    "duration": 5,
    "start_time": "2022-01-21T10:31:40.246Z"
   },
   {
    "duration": 6,
    "start_time": "2022-01-21T10:31:40.254Z"
   },
   {
    "duration": 39,
    "start_time": "2022-01-21T10:31:40.263Z"
   },
   {
    "duration": 6,
    "start_time": "2022-01-21T10:31:40.304Z"
   },
   {
    "duration": 6,
    "start_time": "2022-01-21T10:31:40.312Z"
   },
   {
    "duration": 6,
    "start_time": "2022-01-21T10:31:40.319Z"
   },
   {
    "duration": 12,
    "start_time": "2022-01-21T10:31:40.326Z"
   },
   {
    "duration": 5,
    "start_time": "2022-01-21T10:31:40.340Z"
   },
   {
    "duration": 54,
    "start_time": "2022-01-21T10:31:40.347Z"
   },
   {
    "duration": 324,
    "start_time": "2022-01-21T10:31:40.404Z"
   },
   {
    "duration": 39,
    "start_time": "2022-01-21T10:31:40.729Z"
   },
   {
    "duration": 6,
    "start_time": "2022-01-21T10:31:40.770Z"
   },
   {
    "duration": 27,
    "start_time": "2022-01-21T10:31:40.778Z"
   },
   {
    "duration": 4,
    "start_time": "2022-01-21T10:31:40.806Z"
   },
   {
    "duration": 222,
    "start_time": "2022-01-21T10:31:40.812Z"
   },
   {
    "duration": 428,
    "start_time": "2022-01-21T10:57:31.276Z"
   },
   {
    "duration": 292,
    "start_time": "2022-01-21T10:59:10.654Z"
   },
   {
    "duration": 4,
    "start_time": "2022-01-21T10:59:54.732Z"
   },
   {
    "duration": 217,
    "start_time": "2022-01-21T10:59:56.025Z"
   },
   {
    "duration": 272,
    "start_time": "2022-01-21T10:59:56.664Z"
   },
   {
    "duration": 371,
    "start_time": "2022-01-21T11:00:07.522Z"
   },
   {
    "duration": 6,
    "start_time": "2022-01-21T11:19:24.006Z"
   },
   {
    "duration": 8,
    "start_time": "2022-01-21T11:19:38.136Z"
   },
   {
    "duration": 10,
    "start_time": "2022-01-21T11:27:10.451Z"
   },
   {
    "duration": 7,
    "start_time": "2022-01-21T11:27:52.523Z"
   },
   {
    "duration": 9,
    "start_time": "2022-01-21T11:27:53.171Z"
   },
   {
    "duration": 11,
    "start_time": "2022-01-21T11:27:55.759Z"
   },
   {
    "duration": 12,
    "start_time": "2022-01-21T11:28:41.424Z"
   },
   {
    "duration": 11,
    "start_time": "2022-01-21T11:31:55.699Z"
   },
   {
    "duration": 313,
    "start_time": "2022-01-21T11:33:10.206Z"
   },
   {
    "duration": 273,
    "start_time": "2022-01-21T11:33:29.257Z"
   },
   {
    "duration": 18,
    "start_time": "2022-01-21T11:33:38.111Z"
   },
   {
    "duration": 164,
    "start_time": "2022-01-21T12:17:17.405Z"
   },
   {
    "duration": 142,
    "start_time": "2022-01-21T12:18:56.185Z"
   },
   {
    "duration": 151,
    "start_time": "2022-01-21T12:19:47.281Z"
   },
   {
    "duration": 224,
    "start_time": "2022-01-21T12:21:06.065Z"
   },
   {
    "duration": 156,
    "start_time": "2022-01-21T12:21:38.577Z"
   },
   {
    "duration": 167,
    "start_time": "2022-01-21T12:22:34.398Z"
   },
   {
    "duration": 421,
    "start_time": "2022-01-21T12:36:45.915Z"
   },
   {
    "duration": 155,
    "start_time": "2022-01-21T12:36:55.136Z"
   },
   {
    "duration": 6,
    "start_time": "2022-01-21T12:44:51.859Z"
   },
   {
    "duration": 89,
    "start_time": "2022-01-21T12:49:32.191Z"
   },
   {
    "duration": 5,
    "start_time": "2022-01-21T12:49:38.125Z"
   },
   {
    "duration": 6,
    "start_time": "2022-01-21T12:51:07.804Z"
   },
   {
    "duration": 5,
    "start_time": "2022-01-21T12:51:24.323Z"
   },
   {
    "duration": 1132,
    "start_time": "2022-01-21T12:52:27.449Z"
   },
   {
    "duration": 314,
    "start_time": "2022-01-21T12:52:47.123Z"
   },
   {
    "duration": 292,
    "start_time": "2022-01-21T12:53:47.136Z"
   },
   {
    "duration": 333,
    "start_time": "2022-01-21T12:57:43.982Z"
   },
   {
    "duration": 341,
    "start_time": "2022-01-21T12:58:03.082Z"
   },
   {
    "duration": 329,
    "start_time": "2022-01-21T12:58:29.167Z"
   },
   {
    "duration": 5,
    "start_time": "2022-01-21T12:58:30.136Z"
   },
   {
    "duration": 331,
    "start_time": "2022-01-21T12:58:31.032Z"
   },
   {
    "duration": 7,
    "start_time": "2022-01-21T13:09:36.451Z"
   },
   {
    "duration": 5,
    "start_time": "2022-01-21T13:09:53.690Z"
   },
   {
    "duration": 332,
    "start_time": "2022-01-21T13:10:16.303Z"
   },
   {
    "duration": 5,
    "start_time": "2022-01-21T13:10:40.010Z"
   },
   {
    "duration": 286,
    "start_time": "2022-01-21T13:11:00.722Z"
   },
   {
    "duration": 7,
    "start_time": "2022-01-21T13:12:12.861Z"
   },
   {
    "duration": 5,
    "start_time": "2022-01-21T13:12:33.310Z"
   },
   {
    "duration": 417,
    "start_time": "2022-01-21T13:13:19.501Z"
   },
   {
    "duration": 6,
    "start_time": "2022-01-21T13:13:46.210Z"
   },
   {
    "duration": 325,
    "start_time": "2022-01-21T13:14:13.771Z"
   },
   {
    "duration": 8,
    "start_time": "2022-01-21T13:15:28.819Z"
   },
   {
    "duration": 5,
    "start_time": "2022-01-21T13:15:54.946Z"
   },
   {
    "duration": 290,
    "start_time": "2022-01-21T13:16:30.957Z"
   },
   {
    "duration": 5,
    "start_time": "2022-01-21T13:16:54.179Z"
   },
   {
    "duration": 324,
    "start_time": "2022-01-21T13:17:39.237Z"
   },
   {
    "duration": 7,
    "start_time": "2022-01-21T13:18:39.608Z"
   },
   {
    "duration": 4,
    "start_time": "2022-01-21T13:19:07.769Z"
   },
   {
    "duration": 308,
    "start_time": "2022-01-21T13:19:35.806Z"
   },
   {
    "duration": 5,
    "start_time": "2022-01-21T13:20:07.891Z"
   },
   {
    "duration": 303,
    "start_time": "2022-01-21T13:20:37.159Z"
   },
   {
    "duration": 325,
    "start_time": "2022-01-21T16:06:50.589Z"
   },
   {
    "duration": 1509,
    "start_time": "2022-01-21T16:07:02.112Z"
   },
   {
    "duration": 148,
    "start_time": "2022-01-21T16:07:03.623Z"
   },
   {
    "duration": 58,
    "start_time": "2022-01-21T16:07:03.774Z"
   },
   {
    "duration": 14,
    "start_time": "2022-01-21T16:07:03.834Z"
   },
   {
    "duration": 13,
    "start_time": "2022-01-21T16:07:03.850Z"
   },
   {
    "duration": 3,
    "start_time": "2022-01-21T16:07:03.866Z"
   },
   {
    "duration": 14,
    "start_time": "2022-01-21T16:07:03.871Z"
   },
   {
    "duration": 55,
    "start_time": "2022-01-21T16:07:03.889Z"
   },
   {
    "duration": 21,
    "start_time": "2022-01-21T16:07:03.947Z"
   },
   {
    "duration": 10,
    "start_time": "2022-01-21T16:07:03.970Z"
   },
   {
    "duration": 12,
    "start_time": "2022-01-21T16:07:03.982Z"
   },
   {
    "duration": 35,
    "start_time": "2022-01-21T16:07:03.997Z"
   },
   {
    "duration": 5,
    "start_time": "2022-01-21T16:07:04.035Z"
   },
   {
    "duration": 8,
    "start_time": "2022-01-21T16:07:04.043Z"
   },
   {
    "duration": 9,
    "start_time": "2022-01-21T16:07:04.054Z"
   },
   {
    "duration": 13,
    "start_time": "2022-01-21T16:07:04.065Z"
   },
   {
    "duration": 8,
    "start_time": "2022-01-21T16:07:04.081Z"
   },
   {
    "duration": 46,
    "start_time": "2022-01-21T16:07:04.091Z"
   },
   {
    "duration": 8,
    "start_time": "2022-01-21T16:07:04.139Z"
   },
   {
    "duration": 17,
    "start_time": "2022-01-21T16:07:04.150Z"
   },
   {
    "duration": 6,
    "start_time": "2022-01-21T16:07:04.169Z"
   },
   {
    "duration": 59,
    "start_time": "2022-01-21T16:07:04.177Z"
   },
   {
    "duration": 459,
    "start_time": "2022-01-21T16:07:04.243Z"
   },
   {
    "duration": 76,
    "start_time": "2022-01-21T16:07:04.705Z"
   },
   {
    "duration": 9,
    "start_time": "2022-01-21T16:07:04.784Z"
   },
   {
    "duration": 19,
    "start_time": "2022-01-21T16:07:04.795Z"
   },
   {
    "duration": 6,
    "start_time": "2022-01-21T16:07:04.833Z"
   },
   {
    "duration": 315,
    "start_time": "2022-01-21T16:07:04.841Z"
   },
   {
    "duration": 9,
    "start_time": "2022-01-21T16:07:05.158Z"
   },
   {
    "duration": 13,
    "start_time": "2022-01-21T16:07:05.169Z"
   },
   {
    "duration": 16,
    "start_time": "2022-01-21T16:07:05.184Z"
   },
   {
    "duration": 58,
    "start_time": "2022-01-21T16:07:05.202Z"
   },
   {
    "duration": 277,
    "start_time": "2022-01-21T16:07:05.262Z"
   },
   {
    "duration": 244,
    "start_time": "2022-01-21T16:07:05.542Z"
   },
   {
    "duration": 261,
    "start_time": "2022-01-21T16:07:05.789Z"
   },
   {
    "duration": 252,
    "start_time": "2022-01-21T16:07:06.052Z"
   },
   {
    "duration": 317,
    "start_time": "2022-01-21T16:07:06.306Z"
   },
   {
    "duration": 15,
    "start_time": "2022-01-21T16:07:06.626Z"
   },
   {
    "duration": 12,
    "start_time": "2022-01-21T16:07:06.644Z"
   },
   {
    "duration": 427,
    "start_time": "2022-01-21T16:07:06.659Z"
   },
   {
    "duration": 7,
    "start_time": "2022-01-21T16:07:07.088Z"
   },
   {
    "duration": 448,
    "start_time": "2022-01-21T16:07:07.098Z"
   },
   {
    "duration": 10,
    "start_time": "2022-01-21T16:07:07.549Z"
   },
   {
    "duration": 13,
    "start_time": "2022-01-21T16:07:07.561Z"
   },
   {
    "duration": 449,
    "start_time": "2022-01-21T16:07:07.577Z"
   },
   {
    "duration": 8,
    "start_time": "2022-01-21T16:07:08.033Z"
   },
   {
    "duration": 404,
    "start_time": "2022-01-21T16:07:08.043Z"
   },
   {
    "duration": 9,
    "start_time": "2022-01-21T16:07:08.450Z"
   },
   {
    "duration": 13,
    "start_time": "2022-01-21T16:07:08.461Z"
   },
   {
    "duration": 474,
    "start_time": "2022-01-21T16:07:08.476Z"
   },
   {
    "duration": 8,
    "start_time": "2022-01-21T16:07:08.953Z"
   },
   {
    "duration": 523,
    "start_time": "2022-01-21T16:07:08.964Z"
   },
   {
    "duration": 10,
    "start_time": "2022-01-21T16:07:09.489Z"
   },
   {
    "duration": 9,
    "start_time": "2022-01-21T16:07:09.502Z"
   },
   {
    "duration": 453,
    "start_time": "2022-01-21T16:07:09.514Z"
   },
   {
    "duration": 6,
    "start_time": "2022-01-21T16:07:09.970Z"
   },
   {
    "duration": 456,
    "start_time": "2022-01-21T16:07:09.979Z"
   },
   {
    "duration": 10,
    "start_time": "2022-01-21T16:07:10.437Z"
   },
   {
    "duration": 11,
    "start_time": "2022-01-21T16:07:10.449Z"
   },
   {
    "duration": 397,
    "start_time": "2022-01-21T16:07:10.463Z"
   },
   {
    "duration": 8,
    "start_time": "2022-01-21T16:07:10.863Z"
   },
   {
    "duration": 467,
    "start_time": "2022-01-21T16:07:10.874Z"
   },
   {
    "duration": 234,
    "start_time": "2022-01-21T16:07:11.344Z"
   },
   {
    "duration": 397,
    "start_time": "2022-01-21T16:08:16.760Z"
   },
   {
    "duration": 326,
    "start_time": "2022-01-21T16:10:32.890Z"
   },
   {
    "duration": 21,
    "start_time": "2022-01-21T16:13:30.674Z"
   },
   {
    "duration": 285,
    "start_time": "2022-01-22T10:24:03.722Z"
   },
   {
    "duration": 1139,
    "start_time": "2022-01-22T10:24:08.005Z"
   },
   {
    "duration": 49,
    "start_time": "2022-01-22T10:24:09.146Z"
   },
   {
    "duration": 26,
    "start_time": "2022-01-22T10:24:09.198Z"
   },
   {
    "duration": 21,
    "start_time": "2022-01-22T10:24:09.225Z"
   },
   {
    "duration": 21,
    "start_time": "2022-01-22T10:24:09.248Z"
   },
   {
    "duration": 24,
    "start_time": "2022-01-22T10:24:09.270Z"
   },
   {
    "duration": 28,
    "start_time": "2022-01-22T10:24:09.296Z"
   },
   {
    "duration": 40,
    "start_time": "2022-01-22T10:24:09.326Z"
   },
   {
    "duration": 17,
    "start_time": "2022-01-22T10:24:09.368Z"
   },
   {
    "duration": 25,
    "start_time": "2022-01-22T10:24:09.387Z"
   },
   {
    "duration": 22,
    "start_time": "2022-01-22T10:24:09.414Z"
   },
   {
    "duration": 32,
    "start_time": "2022-01-22T10:24:09.437Z"
   },
   {
    "duration": 25,
    "start_time": "2022-01-22T10:24:09.470Z"
   },
   {
    "duration": 23,
    "start_time": "2022-01-22T10:24:09.497Z"
   },
   {
    "duration": 29,
    "start_time": "2022-01-22T10:24:09.521Z"
   },
   {
    "duration": 24,
    "start_time": "2022-01-22T10:24:09.552Z"
   },
   {
    "duration": 30,
    "start_time": "2022-01-22T10:24:09.577Z"
   },
   {
    "duration": 23,
    "start_time": "2022-01-22T10:24:09.609Z"
   },
   {
    "duration": 25,
    "start_time": "2022-01-22T10:24:09.633Z"
   },
   {
    "duration": 27,
    "start_time": "2022-01-22T10:24:09.659Z"
   },
   {
    "duration": 21,
    "start_time": "2022-01-22T10:24:09.687Z"
   },
   {
    "duration": 34,
    "start_time": "2022-01-22T10:24:09.709Z"
   },
   {
    "duration": 247,
    "start_time": "2022-01-22T10:24:09.747Z"
   },
   {
    "duration": 45,
    "start_time": "2022-01-22T10:24:09.996Z"
   },
   {
    "duration": 6,
    "start_time": "2022-01-22T10:24:10.042Z"
   },
   {
    "duration": 30,
    "start_time": "2022-01-22T10:24:10.050Z"
   },
   {
    "duration": 17,
    "start_time": "2022-01-22T10:24:10.082Z"
   },
   {
    "duration": 184,
    "start_time": "2022-01-22T10:24:10.101Z"
   },
   {
    "duration": 6,
    "start_time": "2022-01-22T10:24:10.286Z"
   },
   {
    "duration": 25,
    "start_time": "2022-01-22T10:24:10.294Z"
   },
   {
    "duration": 17,
    "start_time": "2022-01-22T10:24:10.321Z"
   },
   {
    "duration": 44,
    "start_time": "2022-01-22T10:24:10.340Z"
   },
   {
    "duration": 131,
    "start_time": "2022-01-22T10:24:10.386Z"
   },
   {
    "duration": 123,
    "start_time": "2022-01-22T10:24:10.519Z"
   },
   {
    "duration": 142,
    "start_time": "2022-01-22T10:24:10.644Z"
   },
   {
    "duration": 136,
    "start_time": "2022-01-22T10:24:10.788Z"
   },
   {
    "duration": 198,
    "start_time": "2022-01-22T10:24:10.926Z"
   },
   {
    "duration": 7,
    "start_time": "2022-01-22T10:24:11.126Z"
   },
   {
    "duration": 32,
    "start_time": "2022-01-22T10:24:11.134Z"
   },
   {
    "duration": 289,
    "start_time": "2022-01-22T10:24:11.168Z"
   },
   {
    "duration": 4,
    "start_time": "2022-01-22T10:24:11.459Z"
   },
   {
    "duration": 282,
    "start_time": "2022-01-22T10:24:11.465Z"
   },
   {
    "duration": 6,
    "start_time": "2022-01-22T10:24:11.749Z"
   },
   {
    "duration": 8,
    "start_time": "2022-01-22T10:24:11.757Z"
   },
   {
    "duration": 276,
    "start_time": "2022-01-22T10:24:11.767Z"
   },
   {
    "duration": 5,
    "start_time": "2022-01-22T10:24:12.044Z"
   },
   {
    "duration": 269,
    "start_time": "2022-01-22T10:24:12.050Z"
   },
   {
    "duration": 6,
    "start_time": "2022-01-22T10:24:12.321Z"
   },
   {
    "duration": 6,
    "start_time": "2022-01-22T10:24:12.341Z"
   },
   {
    "duration": 293,
    "start_time": "2022-01-22T10:24:12.349Z"
   },
   {
    "duration": 4,
    "start_time": "2022-01-22T10:24:12.644Z"
   },
   {
    "duration": 313,
    "start_time": "2022-01-22T10:24:12.650Z"
   },
   {
    "duration": 6,
    "start_time": "2022-01-22T10:24:12.964Z"
   },
   {
    "duration": 20,
    "start_time": "2022-01-22T10:24:12.971Z"
   },
   {
    "duration": 296,
    "start_time": "2022-01-22T10:24:12.992Z"
   },
   {
    "duration": 4,
    "start_time": "2022-01-22T10:24:13.289Z"
   },
   {
    "duration": 298,
    "start_time": "2022-01-22T10:24:13.294Z"
   },
   {
    "duration": 6,
    "start_time": "2022-01-22T10:24:13.594Z"
   },
   {
    "duration": 18,
    "start_time": "2022-01-22T10:24:13.601Z"
   },
   {
    "duration": 315,
    "start_time": "2022-01-22T10:24:13.620Z"
   },
   {
    "duration": 5,
    "start_time": "2022-01-22T10:24:13.941Z"
   },
   {
    "duration": 294,
    "start_time": "2022-01-22T10:24:13.948Z"
   },
   {
    "duration": 197,
    "start_time": "2022-01-22T10:24:14.244Z"
   },
   {
    "duration": 13,
    "start_time": "2022-01-22T10:24:14.442Z"
   },
   {
    "duration": 26,
    "start_time": "2022-01-22T10:24:14.457Z"
   },
   {
    "duration": 5,
    "start_time": "2022-01-22T10:26:45.258Z"
   },
   {
    "duration": 7,
    "start_time": "2022-01-22T10:27:00.503Z"
   },
   {
    "duration": 6,
    "start_time": "2022-01-22T10:27:07.982Z"
   },
   {
    "duration": 4551,
    "start_time": "2022-01-22T10:28:06.390Z"
   },
   {
    "duration": 6096,
    "start_time": "2022-01-22T10:28:52.397Z"
   },
   {
    "duration": 5983,
    "start_time": "2022-01-22T10:29:21.140Z"
   },
   {
    "duration": 260,
    "start_time": "2022-01-22T10:30:02.021Z"
   },
   {
    "duration": 231,
    "start_time": "2022-01-22T10:30:58.175Z"
   },
   {
    "duration": 6,
    "start_time": "2022-01-22T10:32:55.463Z"
   },
   {
    "duration": 265,
    "start_time": "2022-01-22T10:33:12.169Z"
   },
   {
    "duration": 182,
    "start_time": "2022-01-22T10:33:44.418Z"
   },
   {
    "duration": 195,
    "start_time": "2022-01-22T10:34:17.924Z"
   },
   {
    "duration": 13,
    "start_time": "2022-01-22T10:36:51.140Z"
   },
   {
    "duration": 13,
    "start_time": "2022-01-22T10:37:16.894Z"
   },
   {
    "duration": 5,
    "start_time": "2022-01-22T10:38:37.766Z"
   },
   {
    "duration": 194,
    "start_time": "2022-01-22T10:39:02.756Z"
   },
   {
    "duration": 14,
    "start_time": "2022-01-22T10:39:42.060Z"
   },
   {
    "duration": 5,
    "start_time": "2022-01-22T10:40:19.291Z"
   },
   {
    "duration": 170,
    "start_time": "2022-01-22T10:40:42.937Z"
   },
   {
    "duration": 14,
    "start_time": "2022-01-22T10:41:17.859Z"
   },
   {
    "duration": 14,
    "start_time": "2022-01-22T10:48:51.426Z"
   },
   {
    "duration": 14,
    "start_time": "2022-01-22T10:51:11.331Z"
   },
   {
    "duration": 524,
    "start_time": "2022-01-22T11:05:37.562Z"
   },
   {
    "duration": 421,
    "start_time": "2022-01-22T11:14:08.781Z"
   },
   {
    "duration": 98,
    "start_time": "2022-01-22T11:47:37.484Z"
   },
   {
    "duration": 5,
    "start_time": "2022-01-22T11:47:46.512Z"
   },
   {
    "duration": 6,
    "start_time": "2022-01-22T11:48:10.602Z"
   },
   {
    "duration": 6595,
    "start_time": "2022-01-22T11:51:17.276Z"
   },
   {
    "duration": 234,
    "start_time": "2022-01-22T12:03:36.066Z"
   },
   {
    "duration": 281,
    "start_time": "2022-01-22T12:03:46.260Z"
   },
   {
    "duration": 795,
    "start_time": "2022-01-22T12:04:23.131Z"
   },
   {
    "duration": 6,
    "start_time": "2022-01-22T12:04:50.078Z"
   },
   {
    "duration": 553,
    "start_time": "2022-01-22T12:04:51.483Z"
   },
   {
    "duration": 6,
    "start_time": "2022-01-22T12:06:11.869Z"
   },
   {
    "duration": 392,
    "start_time": "2022-01-22T12:06:13.165Z"
   },
   {
    "duration": 435,
    "start_time": "2022-01-22T12:06:40.170Z"
   },
   {
    "duration": 389,
    "start_time": "2022-01-22T12:06:56.728Z"
   },
   {
    "duration": 3,
    "start_time": "2022-01-22T12:07:26.997Z"
   },
   {
    "duration": 69,
    "start_time": "2022-01-22T12:07:27.002Z"
   },
   {
    "duration": 27,
    "start_time": "2022-01-22T12:07:27.074Z"
   },
   {
    "duration": 20,
    "start_time": "2022-01-22T12:07:27.103Z"
   },
   {
    "duration": 29,
    "start_time": "2022-01-22T12:07:27.124Z"
   },
   {
    "duration": 23,
    "start_time": "2022-01-22T12:07:27.155Z"
   },
   {
    "duration": 35,
    "start_time": "2022-01-22T12:07:27.180Z"
   },
   {
    "duration": 41,
    "start_time": "2022-01-22T12:07:27.217Z"
   },
   {
    "duration": 23,
    "start_time": "2022-01-22T12:07:27.260Z"
   },
   {
    "duration": 26,
    "start_time": "2022-01-22T12:07:27.284Z"
   },
   {
    "duration": 29,
    "start_time": "2022-01-22T12:07:27.311Z"
   },
   {
    "duration": 29,
    "start_time": "2022-01-22T12:07:27.342Z"
   },
   {
    "duration": 33,
    "start_time": "2022-01-22T12:07:27.373Z"
   },
   {
    "duration": 24,
    "start_time": "2022-01-22T12:07:27.407Z"
   },
   {
    "duration": 25,
    "start_time": "2022-01-22T12:07:27.433Z"
   },
   {
    "duration": 27,
    "start_time": "2022-01-22T12:07:27.460Z"
   },
   {
    "duration": 27,
    "start_time": "2022-01-22T12:07:27.488Z"
   },
   {
    "duration": 30,
    "start_time": "2022-01-22T12:07:27.516Z"
   },
   {
    "duration": 31,
    "start_time": "2022-01-22T12:07:27.549Z"
   },
   {
    "duration": 40,
    "start_time": "2022-01-22T12:07:27.583Z"
   },
   {
    "duration": 24,
    "start_time": "2022-01-22T12:07:27.624Z"
   },
   {
    "duration": 69,
    "start_time": "2022-01-22T12:07:27.650Z"
   },
   {
    "duration": 280,
    "start_time": "2022-01-22T12:07:27.721Z"
   },
   {
    "duration": 39,
    "start_time": "2022-01-22T12:07:28.003Z"
   },
   {
    "duration": 32,
    "start_time": "2022-01-22T12:07:28.044Z"
   },
   {
    "duration": 42,
    "start_time": "2022-01-22T12:07:28.077Z"
   },
   {
    "duration": 31,
    "start_time": "2022-01-22T12:07:28.121Z"
   },
   {
    "duration": 338,
    "start_time": "2022-01-22T12:07:28.153Z"
   },
   {
    "duration": 7,
    "start_time": "2022-01-22T12:07:28.493Z"
   },
   {
    "duration": 32,
    "start_time": "2022-01-22T12:07:28.502Z"
   },
   {
    "duration": 23,
    "start_time": "2022-01-22T12:07:28.536Z"
   },
   {
    "duration": 37,
    "start_time": "2022-01-22T12:07:28.560Z"
   },
   {
    "duration": 210,
    "start_time": "2022-01-22T12:07:28.599Z"
   },
   {
    "duration": 131,
    "start_time": "2022-01-22T12:07:28.811Z"
   },
   {
    "duration": 142,
    "start_time": "2022-01-22T12:07:28.944Z"
   },
   {
    "duration": 138,
    "start_time": "2022-01-22T12:07:29.088Z"
   },
   {
    "duration": 140,
    "start_time": "2022-01-22T12:07:29.227Z"
   },
   {
    "duration": 6,
    "start_time": "2022-01-22T12:07:29.368Z"
   },
   {
    "duration": 27,
    "start_time": "2022-01-22T12:07:29.376Z"
   },
   {
    "duration": 331,
    "start_time": "2022-01-22T12:07:29.404Z"
   },
   {
    "duration": 5,
    "start_time": "2022-01-22T12:07:29.740Z"
   },
   {
    "duration": 297,
    "start_time": "2022-01-22T12:07:29.746Z"
   },
   {
    "duration": 7,
    "start_time": "2022-01-22T12:07:30.045Z"
   },
   {
    "duration": 10,
    "start_time": "2022-01-22T12:07:30.054Z"
   },
   {
    "duration": 303,
    "start_time": "2022-01-22T12:07:30.066Z"
   },
   {
    "duration": 4,
    "start_time": "2022-01-22T12:07:30.371Z"
   },
   {
    "duration": 355,
    "start_time": "2022-01-22T12:07:30.377Z"
   },
   {
    "duration": 11,
    "start_time": "2022-01-22T12:07:30.733Z"
   },
   {
    "duration": 32,
    "start_time": "2022-01-22T12:07:30.745Z"
   },
   {
    "duration": 343,
    "start_time": "2022-01-22T12:07:30.779Z"
   },
   {
    "duration": 5,
    "start_time": "2022-01-22T12:07:31.123Z"
   },
   {
    "duration": 305,
    "start_time": "2022-01-22T12:07:31.141Z"
   },
   {
    "duration": 6,
    "start_time": "2022-01-22T12:07:31.448Z"
   },
   {
    "duration": 12,
    "start_time": "2022-01-22T12:07:31.456Z"
   },
   {
    "duration": 281,
    "start_time": "2022-01-22T12:07:31.473Z"
   },
   {
    "duration": 3,
    "start_time": "2022-01-22T12:07:31.756Z"
   },
   {
    "duration": 295,
    "start_time": "2022-01-22T12:07:31.761Z"
   },
   {
    "duration": 7,
    "start_time": "2022-01-22T12:07:32.057Z"
   },
   {
    "duration": 9,
    "start_time": "2022-01-22T12:07:32.065Z"
   },
   {
    "duration": 358,
    "start_time": "2022-01-22T12:07:32.075Z"
   },
   {
    "duration": 10,
    "start_time": "2022-01-22T12:07:32.435Z"
   },
   {
    "duration": 388,
    "start_time": "2022-01-22T12:07:32.447Z"
   },
   {
    "duration": 206,
    "start_time": "2022-01-22T12:07:32.841Z"
   },
   {
    "duration": 13,
    "start_time": "2022-01-22T12:07:33.049Z"
   },
   {
    "duration": 7,
    "start_time": "2022-01-22T12:07:33.064Z"
   },
   {
    "duration": 299,
    "start_time": "2022-01-22T12:07:33.073Z"
   },
   {
    "duration": 13,
    "start_time": "2022-01-22T12:07:33.373Z"
   },
   {
    "duration": 13,
    "start_time": "2022-01-22T12:07:33.388Z"
   },
   {
    "duration": 192,
    "start_time": "2022-01-22T12:07:33.403Z"
   },
   {
    "duration": 18,
    "start_time": "2022-01-22T12:07:33.597Z"
   },
   {
    "duration": 28,
    "start_time": "2022-01-22T12:07:33.617Z"
   },
   {
    "duration": 211,
    "start_time": "2022-01-22T12:07:33.647Z"
   },
   {
    "duration": 15,
    "start_time": "2022-01-22T12:07:33.859Z"
   },
   {
    "duration": 505,
    "start_time": "2022-01-22T12:07:33.875Z"
   },
   {
    "duration": 486,
    "start_time": "2022-01-22T12:07:34.381Z"
   },
   {
    "duration": 6,
    "start_time": "2022-01-22T12:07:34.869Z"
   },
   {
    "duration": 622,
    "start_time": "2022-01-22T12:07:34.877Z"
   },
   {
    "duration": 4629,
    "start_time": "2022-01-22T12:07:30.872Z"
   },
   {
    "duration": 14,
    "start_time": "2022-01-22T12:09:26.572Z"
   },
   {
    "duration": 13,
    "start_time": "2022-01-22T12:09:51.662Z"
   },
   {
    "duration": 7,
    "start_time": "2022-01-22T12:12:48.073Z"
   },
   {
    "duration": 4,
    "start_time": "2022-01-22T12:15:36.232Z"
   },
   {
    "duration": 4,
    "start_time": "2022-01-22T12:15:52.513Z"
   },
   {
    "duration": 6,
    "start_time": "2022-01-22T12:17:37.425Z"
   },
   {
    "duration": 6,
    "start_time": "2022-01-22T12:18:08.922Z"
   },
   {
    "duration": 78,
    "start_time": "2022-01-22T12:19:24.385Z"
   },
   {
    "duration": 6,
    "start_time": "2022-01-22T12:20:01.152Z"
   },
   {
    "duration": 5,
    "start_time": "2022-01-22T12:20:38.963Z"
   },
   {
    "duration": 5,
    "start_time": "2022-01-22T12:20:39.590Z"
   },
   {
    "duration": 307,
    "start_time": "2022-03-02T12:55:47.567Z"
   },
   {
    "duration": 1515,
    "start_time": "2022-03-02T12:55:50.967Z"
   },
   {
    "duration": 1937,
    "start_time": "2022-03-02T12:55:52.487Z"
   },
   {
    "duration": 1686,
    "start_time": "2022-03-02T12:56:22.742Z"
   },
   {
    "duration": 1742,
    "start_time": "2022-03-02T12:56:32.419Z"
   },
   {
    "duration": 803,
    "start_time": "2022-03-02T12:57:28.739Z"
   },
   {
    "duration": 35,
    "start_time": "2022-03-02T12:57:45.410Z"
   },
   {
    "duration": 74,
    "start_time": "2022-03-02T12:58:00.232Z"
   },
   {
    "duration": 68,
    "start_time": "2022-03-02T13:01:26.883Z"
   },
   {
    "duration": 12,
    "start_time": "2022-03-02T13:01:41.745Z"
   },
   {
    "duration": 40,
    "start_time": "2022-03-02T13:05:44.105Z"
   },
   {
    "duration": 8,
    "start_time": "2022-03-02T13:06:00.979Z"
   },
   {
    "duration": 73,
    "start_time": "2022-03-02T13:07:33.092Z"
   },
   {
    "duration": 100,
    "start_time": "2022-03-02T13:22:37.952Z"
   },
   {
    "duration": 241,
    "start_time": "2022-03-02T13:22:38.056Z"
   },
   {
    "duration": 6,
    "start_time": "2022-03-02T13:22:48.643Z"
   },
   {
    "duration": 953,
    "start_time": "2022-03-02T13:22:48.652Z"
   },
   {
    "duration": 85,
    "start_time": "2022-03-02T13:22:49.609Z"
   },
   {
    "duration": 49,
    "start_time": "2022-03-02T13:22:49.697Z"
   },
   {
    "duration": 10,
    "start_time": "2022-03-02T13:22:49.748Z"
   },
   {
    "duration": 59,
    "start_time": "2022-03-02T13:22:49.760Z"
   },
   {
    "duration": 7,
    "start_time": "2022-03-02T13:22:49.822Z"
   },
   {
    "duration": 76,
    "start_time": "2022-03-02T13:22:49.844Z"
   },
   {
    "duration": 220,
    "start_time": "2022-03-02T13:22:49.923Z"
   },
   {
    "duration": 241,
    "start_time": "2022-03-02T13:22:54.657Z"
   },
   {
    "duration": 4,
    "start_time": "2022-03-02T13:23:04.768Z"
   },
   {
    "duration": 73,
    "start_time": "2022-03-02T13:23:07.175Z"
   },
   {
    "duration": 298,
    "start_time": "2022-03-02T13:23:28.959Z"
   },
   {
    "duration": 750,
    "start_time": "2022-03-02T13:27:57.278Z"
   },
   {
    "duration": 5816,
    "start_time": "2022-03-02T13:32:24.904Z"
   },
   {
    "duration": 420,
    "start_time": "2022-03-02T13:32:45.369Z"
   },
   {
    "duration": 6079,
    "start_time": "2022-03-02T13:32:45.792Z"
   },
   {
    "duration": 5935,
    "start_time": "2022-03-02T13:37:43.757Z"
   },
   {
    "duration": 4,
    "start_time": "2022-03-02T13:38:00.831Z"
   },
   {
    "duration": 716,
    "start_time": "2022-03-02T13:38:00.838Z"
   },
   {
    "duration": 82,
    "start_time": "2022-03-02T13:38:01.557Z"
   },
   {
    "duration": 91,
    "start_time": "2022-03-02T13:38:01.642Z"
   },
   {
    "duration": 10,
    "start_time": "2022-03-02T13:38:01.735Z"
   },
   {
    "duration": 48,
    "start_time": "2022-03-02T13:38:01.748Z"
   },
   {
    "duration": 21,
    "start_time": "2022-03-02T13:38:01.799Z"
   },
   {
    "duration": 93,
    "start_time": "2022-03-02T13:38:01.823Z"
   },
   {
    "duration": 4,
    "start_time": "2022-03-02T13:38:01.919Z"
   },
   {
    "duration": 78,
    "start_time": "2022-03-02T13:38:01.925Z"
   },
   {
    "duration": 322,
    "start_time": "2022-03-02T13:38:02.006Z"
   },
   {
    "duration": 96,
    "start_time": "2022-03-02T13:45:48.406Z"
   },
   {
    "duration": 204,
    "start_time": "2022-03-02T13:46:44.528Z"
   },
   {
    "duration": 51,
    "start_time": "2022-03-02T13:50:16.678Z"
   },
   {
    "duration": 24,
    "start_time": "2022-03-02T13:51:10.261Z"
   },
   {
    "duration": 233,
    "start_time": "2022-03-02T13:51:43.573Z"
   },
   {
    "duration": 21,
    "start_time": "2022-03-02T13:51:54.964Z"
   },
   {
    "duration": 22,
    "start_time": "2022-03-02T13:52:26.633Z"
   },
   {
    "duration": 350,
    "start_time": "2022-03-10T14:21:33.583Z"
   },
   {
    "duration": 1474,
    "start_time": "2022-03-10T14:21:38.214Z"
   },
   {
    "duration": 33,
    "start_time": "2022-03-10T14:21:39.819Z"
   },
   {
    "duration": 28,
    "start_time": "2022-03-10T14:21:55.747Z"
   },
   {
    "duration": 25,
    "start_time": "2022-03-10T14:22:26.188Z"
   },
   {
    "duration": 21,
    "start_time": "2022-03-10T14:23:02.579Z"
   },
   {
    "duration": 22,
    "start_time": "2022-03-10T14:23:07.599Z"
   },
   {
    "duration": 11,
    "start_time": "2022-03-10T14:23:39.535Z"
   },
   {
    "duration": 37,
    "start_time": "2022-03-10T14:27:21.259Z"
   },
   {
    "duration": 8,
    "start_time": "2022-03-10T14:27:26.028Z"
   },
   {
    "duration": 21,
    "start_time": "2022-03-10T14:30:27.764Z"
   },
   {
    "duration": 9,
    "start_time": "2022-03-10T14:30:36.241Z"
   },
   {
    "duration": 2369,
    "start_time": "2022-03-10T14:51:52.227Z"
   },
   {
    "duration": 34,
    "start_time": "2022-03-10T14:52:26.703Z"
   },
   {
    "duration": 277,
    "start_time": "2022-03-10T14:52:31.950Z"
   },
   {
    "duration": 277,
    "start_time": "2022-03-10T15:06:46.562Z"
   },
   {
    "duration": 65,
    "start_time": "2022-03-10T15:06:46.777Z"
   },
   {
    "duration": 61,
    "start_time": "2022-03-10T15:06:46.783Z"
   },
   {
    "duration": 53,
    "start_time": "2022-03-10T15:06:46.792Z"
   },
   {
    "duration": 50,
    "start_time": "2022-03-10T15:06:46.797Z"
   },
   {
    "duration": 44,
    "start_time": "2022-03-10T15:06:46.804Z"
   },
   {
    "duration": 41,
    "start_time": "2022-03-10T15:06:46.808Z"
   },
   {
    "duration": 268,
    "start_time": "2022-03-10T15:15:11.936Z"
   },
   {
    "duration": 1623,
    "start_time": "2022-03-10T15:15:10.584Z"
   },
   {
    "duration": 1620,
    "start_time": "2022-03-10T15:15:10.588Z"
   },
   {
    "duration": 1616,
    "start_time": "2022-03-10T15:15:10.594Z"
   },
   {
    "duration": 1613,
    "start_time": "2022-03-10T15:15:10.598Z"
   },
   {
    "duration": 1597,
    "start_time": "2022-03-10T15:15:10.616Z"
   },
   {
    "duration": 1589,
    "start_time": "2022-03-10T15:15:10.625Z"
   },
   {
    "duration": 1448,
    "start_time": "2022-03-13T11:21:53.866Z"
   },
   {
    "duration": 217,
    "start_time": "2022-03-13T11:21:55.099Z"
   },
   {
    "duration": 213,
    "start_time": "2022-03-13T11:21:55.104Z"
   },
   {
    "duration": 209,
    "start_time": "2022-03-13T11:21:55.109Z"
   },
   {
    "duration": 203,
    "start_time": "2022-03-13T11:21:55.116Z"
   },
   {
    "duration": 199,
    "start_time": "2022-03-13T11:21:55.121Z"
   },
   {
    "duration": 196,
    "start_time": "2022-03-13T11:21:55.125Z"
   },
   {
    "duration": 3,
    "start_time": "2022-03-13T11:22:08.044Z"
   },
   {
    "duration": 3,
    "start_time": "2022-03-13T11:22:12.169Z"
   },
   {
    "duration": 30,
    "start_time": "2022-03-13T11:22:12.173Z"
   },
   {
    "duration": 7,
    "start_time": "2022-03-13T11:22:12.204Z"
   },
   {
    "duration": 67,
    "start_time": "2022-03-13T11:22:12.212Z"
   },
   {
    "duration": 7,
    "start_time": "2022-03-13T11:22:12.281Z"
   },
   {
    "duration": 20,
    "start_time": "2022-03-13T11:22:12.289Z"
   },
   {
    "duration": 6,
    "start_time": "2022-03-13T11:22:12.311Z"
   },
   {
    "duration": 282,
    "start_time": "2022-03-13T11:24:15.134Z"
   },
   {
    "duration": 253,
    "start_time": "2022-03-13T11:25:00.495Z"
   },
   {
    "duration": 249,
    "start_time": "2022-03-13T11:25:22.758Z"
   },
   {
    "duration": 7597,
    "start_time": "2022-03-13T11:25:37.743Z"
   },
   {
    "duration": 3,
    "start_time": "2022-03-13T11:26:33.204Z"
   },
   {
    "duration": 5,
    "start_time": "2022-03-13T11:26:58.831Z"
   },
   {
    "duration": 11,
    "start_time": "2022-03-13T11:28:18.206Z"
   },
   {
    "duration": 10,
    "start_time": "2022-03-13T11:32:35.998Z"
   },
   {
    "duration": 1375,
    "start_time": "2022-03-13T11:56:23.717Z"
   },
   {
    "duration": 105,
    "start_time": "2022-03-13T11:57:19.188Z"
   },
   {
    "duration": -863,
    "start_time": "2022-03-13T11:57:20.158Z"
   },
   {
    "duration": -866,
    "start_time": "2022-03-13T11:57:20.162Z"
   },
   {
    "duration": -870,
    "start_time": "2022-03-13T11:57:20.167Z"
   },
   {
    "duration": -873,
    "start_time": "2022-03-13T11:57:20.171Z"
   },
   {
    "duration": -874,
    "start_time": "2022-03-13T11:57:20.174Z"
   },
   {
    "duration": -877,
    "start_time": "2022-03-13T11:57:20.178Z"
   },
   {
    "duration": -880,
    "start_time": "2022-03-13T11:57:20.182Z"
   },
   {
    "duration": -884,
    "start_time": "2022-03-13T11:57:20.187Z"
   },
   {
    "duration": 10,
    "start_time": "2022-03-13T11:57:19.530Z"
   },
   {
    "duration": 9,
    "start_time": "2022-03-13T11:57:19.888Z"
   },
   {
    "duration": 106,
    "start_time": "2022-03-13T11:58:12.597Z"
   },
   {
    "duration": 260,
    "start_time": "2022-03-13T11:58:12.445Z"
   },
   {
    "duration": 256,
    "start_time": "2022-03-13T11:58:12.450Z"
   },
   {
    "duration": 251,
    "start_time": "2022-03-13T11:58:12.455Z"
   },
   {
    "duration": 247,
    "start_time": "2022-03-13T11:58:12.460Z"
   },
   {
    "duration": 245,
    "start_time": "2022-03-13T11:58:12.464Z"
   },
   {
    "duration": 241,
    "start_time": "2022-03-13T11:58:12.469Z"
   },
   {
    "duration": 238,
    "start_time": "2022-03-13T11:58:12.473Z"
   },
   {
    "duration": 234,
    "start_time": "2022-03-13T11:58:12.477Z"
   },
   {
    "duration": 232,
    "start_time": "2022-03-13T11:58:12.481Z"
   },
   {
    "duration": 229,
    "start_time": "2022-03-13T11:58:12.485Z"
   },
   {
    "duration": 3,
    "start_time": "2022-03-13T11:58:42.799Z"
   },
   {
    "duration": 3,
    "start_time": "2022-03-13T11:58:45.491Z"
   },
   {
    "duration": 24,
    "start_time": "2022-03-13T11:58:45.496Z"
   },
   {
    "duration": 6,
    "start_time": "2022-03-13T11:58:45.521Z"
   },
   {
    "duration": 4,
    "start_time": "2022-03-13T11:58:45.529Z"
   },
   {
    "duration": 46,
    "start_time": "2022-03-13T11:58:45.535Z"
   },
   {
    "duration": 5,
    "start_time": "2022-03-13T11:58:45.582Z"
   },
   {
    "duration": 12,
    "start_time": "2022-03-13T11:58:45.589Z"
   },
   {
    "duration": 22,
    "start_time": "2022-03-13T11:58:45.603Z"
   },
   {
    "duration": 7,
    "start_time": "2022-03-13T11:58:45.627Z"
   },
   {
    "duration": 10,
    "start_time": "2022-03-13T11:58:45.636Z"
   },
   {
    "duration": 10,
    "start_time": "2022-03-13T11:58:45.647Z"
   },
   {
    "duration": 6,
    "start_time": "2022-03-13T12:00:26.591Z"
   },
   {
    "duration": 6,
    "start_time": "2022-03-13T12:00:55.518Z"
   },
   {
    "duration": 7,
    "start_time": "2022-03-13T12:01:47.263Z"
   },
   {
    "duration": 5,
    "start_time": "2022-03-13T12:02:09.752Z"
   },
   {
    "duration": 2,
    "start_time": "2022-03-13T12:08:44.327Z"
   },
   {
    "duration": 26,
    "start_time": "2022-03-13T12:08:44.331Z"
   },
   {
    "duration": 6,
    "start_time": "2022-03-13T12:08:44.359Z"
   },
   {
    "duration": 4,
    "start_time": "2022-03-13T12:08:44.367Z"
   },
   {
    "duration": 44,
    "start_time": "2022-03-13T12:08:44.709Z"
   },
   {
    "duration": 5,
    "start_time": "2022-03-13T12:08:44.755Z"
   },
   {
    "duration": 11,
    "start_time": "2022-03-13T12:08:44.763Z"
   },
   {
    "duration": 6,
    "start_time": "2022-03-13T12:08:44.776Z"
   },
   {
    "duration": 5,
    "start_time": "2022-03-13T12:08:44.784Z"
   },
   {
    "duration": 7,
    "start_time": "2022-03-13T12:08:44.791Z"
   },
   {
    "duration": 5,
    "start_time": "2022-03-13T12:08:44.799Z"
   },
   {
    "duration": 21,
    "start_time": "2022-03-13T12:08:45.768Z"
   },
   {
    "duration": 8,
    "start_time": "2022-03-13T12:08:45.791Z"
   },
   {
    "duration": 10,
    "start_time": "2022-03-13T12:08:45.801Z"
   },
   {
    "duration": 10,
    "start_time": "2022-03-13T12:08:45.812Z"
   },
   {
    "duration": 4,
    "start_time": "2022-03-13T12:09:43.412Z"
   },
   {
    "duration": 6,
    "start_time": "2022-03-13T12:10:03.739Z"
   },
   {
    "duration": 1319,
    "start_time": "2022-03-13T12:10:07.623Z"
   },
   {
    "duration": 280,
    "start_time": "2022-03-13T12:10:08.664Z"
   },
   {
    "duration": 3,
    "start_time": "2022-03-13T12:10:32.266Z"
   },
   {
    "duration": 25,
    "start_time": "2022-03-13T12:10:32.271Z"
   },
   {
    "duration": 6,
    "start_time": "2022-03-13T12:10:32.298Z"
   },
   {
    "duration": 5,
    "start_time": "2022-03-13T12:10:32.305Z"
   },
   {
    "duration": 47,
    "start_time": "2022-03-13T12:10:32.311Z"
   },
   {
    "duration": 6,
    "start_time": "2022-03-13T12:10:32.359Z"
   },
   {
    "duration": 15,
    "start_time": "2022-03-13T12:10:32.367Z"
   },
   {
    "duration": 9,
    "start_time": "2022-03-13T12:10:32.384Z"
   },
   {
    "duration": 7,
    "start_time": "2022-03-13T12:10:32.394Z"
   },
   {
    "duration": 7,
    "start_time": "2022-03-13T12:10:32.402Z"
   },
   {
    "duration": 5,
    "start_time": "2022-03-13T12:10:32.411Z"
   },
   {
    "duration": 20,
    "start_time": "2022-03-13T12:10:32.417Z"
   },
   {
    "duration": 7,
    "start_time": "2022-03-13T12:10:32.439Z"
   },
   {
    "duration": 5,
    "start_time": "2022-03-13T12:10:32.447Z"
   },
   {
    "duration": 8,
    "start_time": "2022-03-13T12:10:32.453Z"
   },
   {
    "duration": 10,
    "start_time": "2022-03-13T12:10:32.463Z"
   },
   {
    "duration": 11,
    "start_time": "2022-03-13T12:10:32.474Z"
   },
   {
    "duration": 6,
    "start_time": "2022-03-13T12:11:00.674Z"
   },
   {
    "duration": 7,
    "start_time": "2022-03-13T12:11:24.621Z"
   },
   {
    "duration": 296,
    "start_time": "2022-03-13T12:12:00.601Z"
   },
   {
    "duration": 16,
    "start_time": "2022-03-13T12:12:30.472Z"
   },
   {
    "duration": 4,
    "start_time": "2022-03-13T12:22:33.011Z"
   },
   {
    "duration": 319,
    "start_time": "2022-03-13T12:23:10.534Z"
   },
   {
    "duration": 295,
    "start_time": "2022-03-13T12:24:01.173Z"
   },
   {
    "duration": 3,
    "start_time": "2022-03-13T12:24:13.229Z"
   },
   {
    "duration": 284,
    "start_time": "2022-03-13T12:24:13.869Z"
   },
   {
    "duration": 308,
    "start_time": "2022-03-13T12:24:45.166Z"
   },
   {
    "duration": 312,
    "start_time": "2022-03-13T12:24:53.839Z"
   },
   {
    "duration": 3,
    "start_time": "2022-03-13T12:25:02.952Z"
   },
   {
    "duration": 29,
    "start_time": "2022-03-13T12:25:02.956Z"
   },
   {
    "duration": 8,
    "start_time": "2022-03-13T12:25:02.986Z"
   },
   {
    "duration": 8,
    "start_time": "2022-03-13T12:25:02.996Z"
   },
   {
    "duration": 60,
    "start_time": "2022-03-13T12:25:03.006Z"
   },
   {
    "duration": 6,
    "start_time": "2022-03-13T12:25:03.068Z"
   },
   {
    "duration": 17,
    "start_time": "2022-03-13T12:25:03.076Z"
   },
   {
    "duration": 7,
    "start_time": "2022-03-13T12:25:03.095Z"
   },
   {
    "duration": 6,
    "start_time": "2022-03-13T12:25:03.104Z"
   },
   {
    "duration": 8,
    "start_time": "2022-03-13T12:25:03.111Z"
   },
   {
    "duration": 6,
    "start_time": "2022-03-13T12:25:03.120Z"
   },
   {
    "duration": 24,
    "start_time": "2022-03-13T12:25:03.127Z"
   },
   {
    "duration": 6,
    "start_time": "2022-03-13T12:25:03.152Z"
   },
   {
    "duration": 6,
    "start_time": "2022-03-13T12:25:03.159Z"
   },
   {
    "duration": 10,
    "start_time": "2022-03-13T12:25:03.166Z"
   },
   {
    "duration": 8,
    "start_time": "2022-03-13T12:25:03.177Z"
   },
   {
    "duration": 6,
    "start_time": "2022-03-13T12:25:03.205Z"
   },
   {
    "duration": 13,
    "start_time": "2022-03-13T12:25:03.213Z"
   },
   {
    "duration": 8,
    "start_time": "2022-03-13T12:25:03.228Z"
   },
   {
    "duration": 10,
    "start_time": "2022-03-13T12:25:03.238Z"
   },
   {
    "duration": 3,
    "start_time": "2022-03-13T12:25:03.249Z"
   },
   {
    "duration": 291,
    "start_time": "2022-03-13T12:25:03.254Z"
   },
   {
    "duration": 4,
    "start_time": "2022-03-13T12:25:44.006Z"
   },
   {
    "duration": 285,
    "start_time": "2022-03-13T12:25:44.903Z"
   },
   {
    "duration": 300,
    "start_time": "2022-03-13T12:26:17.589Z"
   },
   {
    "duration": 304,
    "start_time": "2022-03-13T12:26:20.752Z"
   },
   {
    "duration": 8,
    "start_time": "2022-03-13T12:27:04.942Z"
   },
   {
    "duration": 5,
    "start_time": "2022-03-13T12:27:42.603Z"
   },
   {
    "duration": 8,
    "start_time": "2022-03-13T12:27:43.190Z"
   },
   {
    "duration": 7,
    "start_time": "2022-03-13T12:27:48.248Z"
   },
   {
    "duration": 287,
    "start_time": "2022-03-13T12:28:11.406Z"
   },
   {
    "duration": 5,
    "start_time": "2022-03-13T12:28:27.344Z"
   },
   {
    "duration": 6,
    "start_time": "2022-03-13T12:28:27.969Z"
   },
   {
    "duration": 7627,
    "start_time": "2022-03-13T12:28:29.080Z"
   },
   {
    "duration": 7802,
    "start_time": "2022-03-13T12:29:50.216Z"
   },
   {
    "duration": 281,
    "start_time": "2022-03-13T12:30:12.870Z"
   },
   {
    "duration": 8,
    "start_time": "2022-03-13T12:30:35.016Z"
   },
   {
    "duration": 143,
    "start_time": "2022-03-13T12:31:16.027Z"
   },
   {
    "duration": 7,
    "start_time": "2022-03-13T12:31:27.497Z"
   },
   {
    "duration": 7,
    "start_time": "2022-03-13T12:32:27.828Z"
   },
   {
    "duration": 9,
    "start_time": "2022-03-13T12:32:41.786Z"
   },
   {
    "duration": 10,
    "start_time": "2022-03-13T12:33:30.346Z"
   },
   {
    "duration": 11,
    "start_time": "2022-03-13T12:33:39.594Z"
   },
   {
    "duration": 206,
    "start_time": "2022-03-13T12:34:29.701Z"
   },
   {
    "duration": 3,
    "start_time": "2022-03-13T12:36:57.307Z"
   },
   {
    "duration": 4,
    "start_time": "2022-03-13T12:37:01.971Z"
   },
   {
    "duration": 58,
    "start_time": "2022-03-13T12:37:01.977Z"
   },
   {
    "duration": 10,
    "start_time": "2022-03-13T12:37:02.037Z"
   },
   {
    "duration": 6,
    "start_time": "2022-03-13T12:37:02.049Z"
   },
   {
    "duration": 51,
    "start_time": "2022-03-13T12:37:02.057Z"
   },
   {
    "duration": 7,
    "start_time": "2022-03-13T12:37:02.110Z"
   },
   {
    "duration": 23,
    "start_time": "2022-03-13T12:37:02.120Z"
   },
   {
    "duration": 8,
    "start_time": "2022-03-13T12:37:02.146Z"
   },
   {
    "duration": 6,
    "start_time": "2022-03-13T12:37:02.156Z"
   },
   {
    "duration": 11,
    "start_time": "2022-03-13T12:37:02.164Z"
   },
   {
    "duration": 31,
    "start_time": "2022-03-13T12:37:02.176Z"
   },
   {
    "duration": 29,
    "start_time": "2022-03-13T12:37:02.208Z"
   },
   {
    "duration": 6,
    "start_time": "2022-03-13T12:37:02.238Z"
   },
   {
    "duration": 5,
    "start_time": "2022-03-13T12:37:02.246Z"
   },
   {
    "duration": 10,
    "start_time": "2022-03-13T12:37:02.253Z"
   },
   {
    "duration": 10,
    "start_time": "2022-03-13T12:37:02.265Z"
   },
   {
    "duration": 6,
    "start_time": "2022-03-13T12:37:02.277Z"
   },
   {
    "duration": 15,
    "start_time": "2022-03-13T12:37:02.306Z"
   },
   {
    "duration": 9,
    "start_time": "2022-03-13T12:37:02.324Z"
   },
   {
    "duration": 15,
    "start_time": "2022-03-13T12:37:02.335Z"
   },
   {
    "duration": 10,
    "start_time": "2022-03-13T12:37:02.352Z"
   },
   {
    "duration": 10,
    "start_time": "2022-03-13T12:37:02.363Z"
   },
   {
    "duration": 35,
    "start_time": "2022-03-13T12:37:02.374Z"
   },
   {
    "duration": 199,
    "start_time": "2022-03-13T12:37:02.411Z"
   },
   {
    "duration": 7,
    "start_time": "2022-03-13T12:37:02.612Z"
   },
   {
    "duration": 152,
    "start_time": "2022-03-13T12:37:02.621Z"
   },
   {
    "duration": 14,
    "start_time": "2022-03-13T12:37:02.775Z"
   },
   {
    "duration": 19,
    "start_time": "2022-03-13T12:37:02.791Z"
   },
   {
    "duration": 17,
    "start_time": "2022-03-13T12:37:02.812Z"
   },
   {
    "duration": 16,
    "start_time": "2022-03-13T12:37:02.831Z"
   },
   {
    "duration": 18,
    "start_time": "2022-03-13T12:37:02.849Z"
   },
   {
    "duration": 208,
    "start_time": "2022-03-13T12:37:02.869Z"
   },
   {
    "duration": 205,
    "start_time": "2022-03-13T12:42:03.965Z"
   },
   {
    "duration": 7,
    "start_time": "2022-03-13T12:46:01.603Z"
   },
   {
    "duration": 8,
    "start_time": "2022-03-13T12:46:12.747Z"
   },
   {
    "duration": 337,
    "start_time": "2022-03-13T12:46:42.929Z"
   },
   {
    "duration": 13,
    "start_time": "2022-03-13T12:56:22.794Z"
   },
   {
    "duration": 5,
    "start_time": "2022-03-13T12:56:37.425Z"
   },
   {
    "duration": 295,
    "start_time": "2022-03-13T12:56:56.657Z"
   },
   {
    "duration": 15,
    "start_time": "2022-03-13T13:01:01.494Z"
   },
   {
    "duration": 376,
    "start_time": "2022-03-13T13:01:32.581Z"
   },
   {
    "duration": 314,
    "start_time": "2022-03-13T13:07:08.765Z"
   },
   {
    "duration": 106,
    "start_time": "2022-03-13T13:08:45.861Z"
   },
   {
    "duration": 309,
    "start_time": "2022-03-13T13:09:01.301Z"
   },
   {
    "duration": 4,
    "start_time": "2022-03-13T13:12:04.287Z"
   },
   {
    "duration": 312,
    "start_time": "2022-03-13T13:16:13.871Z"
   },
   {
    "duration": 8,
    "start_time": "2022-03-13T13:18:41.517Z"
   },
   {
    "duration": 4,
    "start_time": "2022-03-13T13:21:29.202Z"
   },
   {
    "duration": 4,
    "start_time": "2022-03-13T13:23:08.833Z"
   },
   {
    "duration": 9,
    "start_time": "2022-03-13T13:26:39.194Z"
   },
   {
    "duration": 63,
    "start_time": "2022-03-13T13:26:53.249Z"
   },
   {
    "duration": 6,
    "start_time": "2022-03-13T13:27:16.241Z"
   },
   {
    "duration": 56,
    "start_time": "2022-03-13T13:27:47.640Z"
   },
   {
    "duration": 318,
    "start_time": "2022-03-13T13:28:00.785Z"
   },
   {
    "duration": 299,
    "start_time": "2022-03-13T13:28:37.432Z"
   },
   {
    "duration": 376,
    "start_time": "2022-03-13T13:29:22.272Z"
   },
   {
    "duration": 294,
    "start_time": "2022-03-13T13:30:06.126Z"
   },
   {
    "duration": 7921,
    "start_time": "2022-03-13T13:30:13.226Z"
   },
   {
    "duration": 325,
    "start_time": "2022-03-13T13:30:20.825Z"
   },
   {
    "duration": 15,
    "start_time": "2022-03-13T13:30:57.598Z"
   },
   {
    "duration": 7,
    "start_time": "2022-03-13T13:30:59.803Z"
   },
   {
    "duration": 64,
    "start_time": "2022-03-13T13:31:36.424Z"
   },
   {
    "duration": 462,
    "start_time": "2022-03-13T13:31:59.809Z"
   },
   {
    "duration": 17,
    "start_time": "2022-03-13T13:32:53.549Z"
   },
   {
    "duration": 60,
    "start_time": "2022-03-13T13:33:12.619Z"
   },
   {
    "duration": 34,
    "start_time": "2022-03-13T13:33:44.085Z"
   },
   {
    "duration": 304,
    "start_time": "2022-03-13T13:34:20.780Z"
   },
   {
    "duration": 56,
    "start_time": "2022-03-13T13:34:51.786Z"
   },
   {
    "duration": 63,
    "start_time": "2022-03-13T13:35:35.719Z"
   },
   {
    "duration": 6,
    "start_time": "2022-03-13T13:36:09.343Z"
   },
   {
    "duration": 6,
    "start_time": "2022-03-13T13:36:28.321Z"
   },
   {
    "duration": 302,
    "start_time": "2022-03-13T13:41:47.945Z"
   },
   {
    "duration": 9,
    "start_time": "2022-03-13T13:42:38.061Z"
   },
   {
    "duration": 4,
    "start_time": "2022-03-13T13:44:00.144Z"
   },
   {
    "duration": 3,
    "start_time": "2022-03-13T13:44:37.639Z"
   },
   {
    "duration": 5,
    "start_time": "2022-03-13T13:52:21.309Z"
   },
   {
    "duration": 4,
    "start_time": "2022-03-13T13:52:21.851Z"
   },
   {
    "duration": 319,
    "start_time": "2022-03-13T13:52:22.411Z"
   },
   {
    "duration": 300,
    "start_time": "2022-03-13T13:52:33.371Z"
   },
   {
    "duration": 4,
    "start_time": "2022-03-13T13:52:45.732Z"
   },
   {
    "duration": 4,
    "start_time": "2022-03-13T13:53:19.228Z"
   },
   {
    "duration": 3,
    "start_time": "2022-03-13T13:54:12.706Z"
   },
   {
    "duration": 4,
    "start_time": "2022-03-13T13:54:55.929Z"
   },
   {
    "duration": 4,
    "start_time": "2022-03-13T13:54:56.566Z"
   },
   {
    "duration": 5,
    "start_time": "2022-03-13T13:54:57.120Z"
   },
   {
    "duration": 3,
    "start_time": "2022-03-13T13:54:57.833Z"
   },
   {
    "duration": 283,
    "start_time": "2022-03-13T13:54:58.512Z"
   },
   {
    "duration": 4,
    "start_time": "2022-03-13T13:55:06.100Z"
   },
   {
    "duration": 7245,
    "start_time": "2022-03-13T14:09:34.466Z"
   },
   {
    "duration": 4,
    "start_time": "2022-03-13T14:10:02.891Z"
   },
   {
    "duration": 418,
    "start_time": "2022-03-13T14:10:18.289Z"
   },
   {
    "duration": 325,
    "start_time": "2022-03-13T14:10:32.009Z"
   },
   {
    "duration": 4,
    "start_time": "2022-03-13T14:15:05.573Z"
   },
   {
    "duration": 8368,
    "start_time": "2022-03-13T14:30:18.022Z"
   },
   {
    "duration": 4,
    "start_time": "2022-03-13T14:31:19.419Z"
   },
   {
    "duration": 7664,
    "start_time": "2022-03-13T14:31:21.801Z"
   },
   {
    "duration": 7,
    "start_time": "2022-03-13T14:31:51.829Z"
   },
   {
    "duration": 3,
    "start_time": "2022-03-13T14:32:23.858Z"
   },
   {
    "duration": 23,
    "start_time": "2022-03-13T14:32:23.864Z"
   },
   {
    "duration": 8,
    "start_time": "2022-03-13T14:32:23.888Z"
   },
   {
    "duration": 9,
    "start_time": "2022-03-13T14:32:23.898Z"
   },
   {
    "duration": 90,
    "start_time": "2022-03-13T14:32:23.909Z"
   },
   {
    "duration": 5,
    "start_time": "2022-03-13T14:32:24.000Z"
   },
   {
    "duration": 25,
    "start_time": "2022-03-13T14:32:24.007Z"
   },
   {
    "duration": 8,
    "start_time": "2022-03-13T14:32:24.033Z"
   },
   {
    "duration": 5,
    "start_time": "2022-03-13T14:32:24.043Z"
   },
   {
    "duration": 8,
    "start_time": "2022-03-13T14:32:24.050Z"
   },
   {
    "duration": 6,
    "start_time": "2022-03-13T14:32:24.060Z"
   },
   {
    "duration": 23,
    "start_time": "2022-03-13T14:32:24.067Z"
   },
   {
    "duration": 9,
    "start_time": "2022-03-13T14:32:24.091Z"
   },
   {
    "duration": 12,
    "start_time": "2022-03-13T14:32:24.105Z"
   },
   {
    "duration": 13,
    "start_time": "2022-03-13T14:32:24.119Z"
   },
   {
    "duration": 13,
    "start_time": "2022-03-13T14:32:24.133Z"
   },
   {
    "duration": 10,
    "start_time": "2022-03-13T14:32:24.148Z"
   },
   {
    "duration": 16,
    "start_time": "2022-03-13T14:32:24.160Z"
   },
   {
    "duration": 16,
    "start_time": "2022-03-13T14:32:24.178Z"
   },
   {
    "duration": 22,
    "start_time": "2022-03-13T14:32:24.196Z"
   },
   {
    "duration": 7,
    "start_time": "2022-03-13T14:32:24.414Z"
   },
   {
    "duration": 18,
    "start_time": "2022-03-13T14:32:24.423Z"
   },
   {
    "duration": 12,
    "start_time": "2022-03-13T14:32:24.442Z"
   },
   {
    "duration": 215,
    "start_time": "2022-03-13T14:32:24.455Z"
   },
   {
    "duration": 8,
    "start_time": "2022-03-13T14:32:24.672Z"
   },
   {
    "duration": 172,
    "start_time": "2022-03-13T14:32:24.681Z"
   },
   {
    "duration": 9,
    "start_time": "2022-03-13T14:32:24.856Z"
   },
   {
    "duration": 8,
    "start_time": "2022-03-13T14:32:24.867Z"
   },
   {
    "duration": 14,
    "start_time": "2022-03-13T14:32:24.876Z"
   },
   {
    "duration": 23,
    "start_time": "2022-03-13T14:32:24.892Z"
   },
   {
    "duration": 14,
    "start_time": "2022-03-13T14:32:24.917Z"
   },
   {
    "duration": 208,
    "start_time": "2022-03-13T14:32:24.933Z"
   },
   {
    "duration": 215,
    "start_time": "2022-03-13T14:32:25.143Z"
   },
   {
    "duration": 5,
    "start_time": "2022-03-13T14:32:25.360Z"
   },
   {
    "duration": 14,
    "start_time": "2022-03-13T14:32:25.367Z"
   },
   {
    "duration": 340,
    "start_time": "2022-03-13T14:32:25.382Z"
   },
   {
    "duration": 12,
    "start_time": "2022-03-13T14:32:25.723Z"
   },
   {
    "duration": 9,
    "start_time": "2022-03-13T14:32:25.736Z"
   },
   {
    "duration": 210,
    "start_time": "2022-03-13T14:32:25.748Z"
   },
   {
    "duration": 13,
    "start_time": "2022-03-13T14:32:25.960Z"
   },
   {
    "duration": 373,
    "start_time": "2022-03-13T14:32:25.974Z"
   },
   {
    "duration": 166,
    "start_time": "2022-03-13T14:32:26.349Z"
   },
   {
    "duration": 312,
    "start_time": "2022-03-13T14:32:26.517Z"
   },
   {
    "duration": 4,
    "start_time": "2022-03-13T14:32:26.830Z"
   },
   {
    "duration": 300,
    "start_time": "2022-03-13T14:32:26.835Z"
   },
   {
    "duration": 4,
    "start_time": "2022-03-13T14:32:27.137Z"
   },
   {
    "duration": 15,
    "start_time": "2022-03-13T14:32:27.142Z"
   },
   {
    "duration": 137,
    "start_time": "2022-03-13T14:32:27.159Z"
   },
   {
    "duration": 21,
    "start_time": "2022-03-13T14:32:27.298Z"
   },
   {
    "duration": 76,
    "start_time": "2022-03-13T14:32:27.320Z"
   },
   {
    "duration": 26,
    "start_time": "2022-03-13T14:32:27.398Z"
   },
   {
    "duration": 10,
    "start_time": "2022-03-13T14:32:27.425Z"
   },
   {
    "duration": 67,
    "start_time": "2022-03-13T14:32:27.436Z"
   },
   {
    "duration": 45,
    "start_time": "2022-03-13T14:32:27.504Z"
   },
   {
    "duration": 81,
    "start_time": "2022-03-13T14:32:27.550Z"
   },
   {
    "duration": 32,
    "start_time": "2022-03-13T14:32:27.633Z"
   },
   {
    "duration": 57,
    "start_time": "2022-03-13T14:32:27.667Z"
   },
   {
    "duration": 86,
    "start_time": "2022-03-13T14:32:27.725Z"
   },
   {
    "duration": 7,
    "start_time": "2022-03-13T14:32:27.813Z"
   },
   {
    "duration": 27,
    "start_time": "2022-03-13T14:32:27.822Z"
   },
   {
    "duration": 16,
    "start_time": "2022-03-13T14:32:27.851Z"
   },
   {
    "duration": 18,
    "start_time": "2022-03-13T14:32:27.868Z"
   },
   {
    "duration": 8,
    "start_time": "2022-03-13T14:32:27.888Z"
   },
   {
    "duration": 22,
    "start_time": "2022-03-13T14:32:27.897Z"
   },
   {
    "duration": 10,
    "start_time": "2022-03-13T14:32:27.921Z"
   },
   {
    "duration": 19,
    "start_time": "2022-03-13T14:32:27.933Z"
   },
   {
    "duration": 18,
    "start_time": "2022-03-13T14:32:27.954Z"
   },
   {
    "duration": 13,
    "start_time": "2022-03-13T14:32:27.974Z"
   },
   {
    "duration": 13,
    "start_time": "2022-03-13T14:32:27.989Z"
   },
   {
    "duration": 7720,
    "start_time": "2022-03-13T14:32:28.004Z"
   },
   {
    "duration": 417,
    "start_time": "2022-03-13T14:32:35.310Z"
   },
   {
    "duration": 5,
    "start_time": "2022-03-13T14:32:48.922Z"
   },
   {
    "duration": 6,
    "start_time": "2022-03-13T14:32:51.373Z"
   },
   {
    "duration": 4,
    "start_time": "2022-03-13T14:34:03.755Z"
   },
   {
    "duration": 5,
    "start_time": "2022-03-13T14:34:32.319Z"
   },
   {
    "duration": 5,
    "start_time": "2022-03-13T14:34:41.299Z"
   },
   {
    "duration": 6,
    "start_time": "2022-03-13T14:35:51.375Z"
   },
   {
    "duration": 529,
    "start_time": "2022-03-13T14:36:13.467Z"
   },
   {
    "duration": 6,
    "start_time": "2022-03-13T14:36:20.602Z"
   },
   {
    "duration": 5,
    "start_time": "2022-03-13T14:36:39.191Z"
   },
   {
    "duration": 4,
    "start_time": "2022-03-13T14:36:49.433Z"
   },
   {
    "duration": 10036,
    "start_time": "2022-03-13T14:40:33.358Z"
   },
   {
    "duration": 7,
    "start_time": "2022-03-13T14:41:14.220Z"
   },
   {
    "duration": 322,
    "start_time": "2022-03-13T14:41:17.867Z"
   },
   {
    "duration": 5,
    "start_time": "2022-03-13T14:41:24.638Z"
   },
   {
    "duration": 5,
    "start_time": "2022-03-13T14:41:42.358Z"
   },
   {
    "duration": 4,
    "start_time": "2022-03-13T14:41:54.822Z"
   },
   {
    "duration": 1273,
    "start_time": "2022-07-14T20:44:45.032Z"
   },
   {
    "duration": 90,
    "start_time": "2022-07-14T20:44:46.308Z"
   },
   {
    "duration": 14,
    "start_time": "2022-07-14T20:44:46.400Z"
   },
   {
    "duration": 11,
    "start_time": "2022-07-14T20:44:46.416Z"
   },
   {
    "duration": 94,
    "start_time": "2022-07-14T20:44:46.430Z"
   },
   {
    "duration": 12,
    "start_time": "2022-07-14T20:44:46.526Z"
   },
   {
    "duration": 23,
    "start_time": "2022-07-14T20:44:46.540Z"
   },
   {
    "duration": 21,
    "start_time": "2022-07-14T20:44:46.565Z"
   },
   {
    "duration": 14,
    "start_time": "2022-07-14T20:44:46.588Z"
   },
   {
    "duration": 28,
    "start_time": "2022-07-14T20:44:46.606Z"
   },
   {
    "duration": 8,
    "start_time": "2022-07-14T20:44:46.636Z"
   },
   {
    "duration": 95,
    "start_time": "2022-07-14T20:44:46.646Z"
   },
   {
    "duration": 16,
    "start_time": "2022-07-14T20:44:46.743Z"
   },
   {
    "duration": 24,
    "start_time": "2022-07-14T20:44:46.761Z"
   },
   {
    "duration": 42,
    "start_time": "2022-07-14T20:44:46.787Z"
   },
   {
    "duration": 16,
    "start_time": "2022-07-14T20:44:46.831Z"
   },
   {
    "duration": 16,
    "start_time": "2022-07-14T20:44:46.850Z"
   },
   {
    "duration": 461,
    "start_time": "2022-07-14T20:44:46.868Z"
   },
   {
    "duration": 0,
    "start_time": "2022-07-14T20:44:47.332Z"
   },
   {
    "duration": 0,
    "start_time": "2022-07-14T20:44:47.333Z"
   },
   {
    "duration": 0,
    "start_time": "2022-07-14T20:44:47.334Z"
   },
   {
    "duration": 0,
    "start_time": "2022-07-14T20:44:47.335Z"
   },
   {
    "duration": 0,
    "start_time": "2022-07-14T20:44:47.336Z"
   },
   {
    "duration": 0,
    "start_time": "2022-07-14T20:44:47.337Z"
   },
   {
    "duration": 0,
    "start_time": "2022-07-14T20:44:47.338Z"
   },
   {
    "duration": 0,
    "start_time": "2022-07-14T20:44:47.339Z"
   },
   {
    "duration": 0,
    "start_time": "2022-07-14T20:44:47.340Z"
   },
   {
    "duration": 0,
    "start_time": "2022-07-14T20:44:47.342Z"
   },
   {
    "duration": 0,
    "start_time": "2022-07-14T20:44:47.344Z"
   },
   {
    "duration": 0,
    "start_time": "2022-07-14T20:44:47.345Z"
   },
   {
    "duration": 0,
    "start_time": "2022-07-14T20:44:47.347Z"
   },
   {
    "duration": 0,
    "start_time": "2022-07-14T20:44:47.349Z"
   },
   {
    "duration": 0,
    "start_time": "2022-07-14T20:44:47.350Z"
   },
   {
    "duration": 0,
    "start_time": "2022-07-14T20:44:47.352Z"
   },
   {
    "duration": 0,
    "start_time": "2022-07-14T20:44:47.353Z"
   },
   {
    "duration": 0,
    "start_time": "2022-07-14T20:44:47.355Z"
   },
   {
    "duration": 1,
    "start_time": "2022-07-14T20:44:47.356Z"
   },
   {
    "duration": 0,
    "start_time": "2022-07-14T20:44:47.358Z"
   },
   {
    "duration": 0,
    "start_time": "2022-07-14T20:44:47.360Z"
   },
   {
    "duration": 0,
    "start_time": "2022-07-14T20:44:47.361Z"
   },
   {
    "duration": 0,
    "start_time": "2022-07-14T20:44:47.363Z"
   },
   {
    "duration": 0,
    "start_time": "2022-07-14T20:44:47.364Z"
   },
   {
    "duration": 0,
    "start_time": "2022-07-14T20:44:47.365Z"
   },
   {
    "duration": 0,
    "start_time": "2022-07-14T20:44:47.366Z"
   },
   {
    "duration": 0,
    "start_time": "2022-07-14T20:44:47.367Z"
   },
   {
    "duration": 0,
    "start_time": "2022-07-14T20:44:47.404Z"
   },
   {
    "duration": 0,
    "start_time": "2022-07-14T20:44:47.405Z"
   },
   {
    "duration": 0,
    "start_time": "2022-07-14T20:44:47.407Z"
   },
   {
    "duration": 0,
    "start_time": "2022-07-14T20:44:47.408Z"
   },
   {
    "duration": 0,
    "start_time": "2022-07-14T20:44:47.409Z"
   },
   {
    "duration": 0,
    "start_time": "2022-07-14T20:44:47.410Z"
   },
   {
    "duration": 0,
    "start_time": "2022-07-14T20:44:47.411Z"
   },
   {
    "duration": 0,
    "start_time": "2022-07-14T20:44:47.412Z"
   },
   {
    "duration": 0,
    "start_time": "2022-07-14T20:44:47.413Z"
   },
   {
    "duration": 0,
    "start_time": "2022-07-14T20:44:47.416Z"
   },
   {
    "duration": 0,
    "start_time": "2022-07-14T20:44:47.417Z"
   },
   {
    "duration": 0,
    "start_time": "2022-07-14T20:44:47.418Z"
   },
   {
    "duration": 0,
    "start_time": "2022-07-14T20:44:47.420Z"
   },
   {
    "duration": 0,
    "start_time": "2022-07-14T20:44:47.425Z"
   },
   {
    "duration": 0,
    "start_time": "2022-07-14T20:44:47.426Z"
   },
   {
    "duration": 0,
    "start_time": "2022-07-14T20:44:47.427Z"
   },
   {
    "duration": 0,
    "start_time": "2022-07-14T20:44:47.429Z"
   },
   {
    "duration": 0,
    "start_time": "2022-07-14T20:44:47.431Z"
   },
   {
    "duration": 0,
    "start_time": "2022-07-14T20:44:47.433Z"
   },
   {
    "duration": 1,
    "start_time": "2022-07-14T20:44:47.434Z"
   },
   {
    "duration": 0,
    "start_time": "2022-07-14T20:44:47.435Z"
   },
   {
    "duration": 0,
    "start_time": "2022-07-14T20:44:47.437Z"
   },
   {
    "duration": 0,
    "start_time": "2022-07-14T20:44:47.438Z"
   },
   {
    "duration": 0,
    "start_time": "2022-07-14T20:44:47.439Z"
   },
   {
    "duration": 0,
    "start_time": "2022-07-14T20:44:47.440Z"
   },
   {
    "duration": 0,
    "start_time": "2022-07-14T20:44:47.441Z"
   },
   {
    "duration": 0,
    "start_time": "2022-07-14T20:44:47.442Z"
   },
   {
    "duration": 0,
    "start_time": "2022-07-14T20:44:47.443Z"
   },
   {
    "duration": 0,
    "start_time": "2022-07-14T20:44:47.444Z"
   },
   {
    "duration": 0,
    "start_time": "2022-07-14T20:44:47.445Z"
   },
   {
    "duration": 0,
    "start_time": "2022-07-14T20:44:47.505Z"
   },
   {
    "duration": 0,
    "start_time": "2022-07-14T20:44:47.507Z"
   },
   {
    "duration": 0,
    "start_time": "2022-07-14T20:44:47.508Z"
   },
   {
    "duration": 0,
    "start_time": "2022-07-14T20:44:47.509Z"
   },
   {
    "duration": 0,
    "start_time": "2022-07-14T20:44:47.510Z"
   },
   {
    "duration": 0,
    "start_time": "2022-07-14T20:44:47.511Z"
   }
  ],
  "kernelspec": {
   "display_name": "Python 3 (ipykernel)",
   "language": "python",
   "name": "python3"
  },
  "language_info": {
   "codemirror_mode": {
    "name": "ipython",
    "version": 3
   },
   "file_extension": ".py",
   "mimetype": "text/x-python",
   "name": "python",
   "nbconvert_exporter": "python",
   "pygments_lexer": "ipython3",
   "version": "3.9.5"
  },
  "toc": {
   "base_numbering": 1,
   "nav_menu": {},
   "number_sections": true,
   "sideBar": true,
   "skip_h1_title": true,
   "title_cell": "Содержание",
   "title_sidebar": "Contents",
   "toc_cell": true,
   "toc_position": {
    "height": "calc(100% - 180px)",
    "left": "10px",
    "top": "150px",
    "width": "165px"
   },
   "toc_section_display": true,
   "toc_window_display": false
  }
 },
 "nbformat": 4,
 "nbformat_minor": 2
}
