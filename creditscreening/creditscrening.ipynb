{
 "cells": [
  {
   "cell_type": "markdown",
   "metadata": {},
   "source": [
    "# Исследование надёжности заёмщиков\n",
    "\n",
    "Заказчик — кредитный отдел банка. Нужно разобраться, влияет ли семейное положение и количество детей клиента на факт погашения кредита в срок. Входные данные от банка — статистика о платёжеспособности клиентов.\n",
    "\n",
    "Результаты исследования будут учтены при построении модели **кредитного скоринга** — специальной системы, которая оценивает способность потенциального заёмщика вернуть кредит банку."
   ]
  },
  {
   "cell_type": "markdown",
   "metadata": {},
   "source": [
    "## Шаг. Откройте файл с данными и изучите общую информацию"
   ]
  },
  {
   "cell_type": "code",
   "execution_count": 1,
   "metadata": {
    "scrolled": false
   },
   "outputs": [
    {
     "data": {
      "text/html": [
       "<div>\n",
       "<style scoped>\n",
       "    .dataframe tbody tr th:only-of-type {\n",
       "        vertical-align: middle;\n",
       "    }\n",
       "\n",
       "    .dataframe tbody tr th {\n",
       "        vertical-align: top;\n",
       "    }\n",
       "\n",
       "    .dataframe thead th {\n",
       "        text-align: right;\n",
       "    }\n",
       "</style>\n",
       "<table border=\"1\" class=\"dataframe\">\n",
       "  <thead>\n",
       "    <tr style=\"text-align: right;\">\n",
       "      <th></th>\n",
       "      <th>children</th>\n",
       "      <th>days_employed</th>\n",
       "      <th>dob_years</th>\n",
       "      <th>education</th>\n",
       "      <th>education_id</th>\n",
       "      <th>family_status</th>\n",
       "      <th>family_status_id</th>\n",
       "      <th>gender</th>\n",
       "      <th>income_type</th>\n",
       "      <th>debt</th>\n",
       "      <th>total_income</th>\n",
       "      <th>purpose</th>\n",
       "    </tr>\n",
       "  </thead>\n",
       "  <tbody>\n",
       "    <tr>\n",
       "      <th>0</th>\n",
       "      <td>1</td>\n",
       "      <td>-8437.673028</td>\n",
       "      <td>42</td>\n",
       "      <td>высшее</td>\n",
       "      <td>0</td>\n",
       "      <td>женат / замужем</td>\n",
       "      <td>0</td>\n",
       "      <td>F</td>\n",
       "      <td>сотрудник</td>\n",
       "      <td>0</td>\n",
       "      <td>253875.639453</td>\n",
       "      <td>покупка жилья</td>\n",
       "    </tr>\n",
       "    <tr>\n",
       "      <th>1</th>\n",
       "      <td>1</td>\n",
       "      <td>-4024.803754</td>\n",
       "      <td>36</td>\n",
       "      <td>среднее</td>\n",
       "      <td>1</td>\n",
       "      <td>женат / замужем</td>\n",
       "      <td>0</td>\n",
       "      <td>F</td>\n",
       "      <td>сотрудник</td>\n",
       "      <td>0</td>\n",
       "      <td>112080.014102</td>\n",
       "      <td>приобретение автомобиля</td>\n",
       "    </tr>\n",
       "    <tr>\n",
       "      <th>2</th>\n",
       "      <td>0</td>\n",
       "      <td>-5623.422610</td>\n",
       "      <td>33</td>\n",
       "      <td>Среднее</td>\n",
       "      <td>1</td>\n",
       "      <td>женат / замужем</td>\n",
       "      <td>0</td>\n",
       "      <td>M</td>\n",
       "      <td>сотрудник</td>\n",
       "      <td>0</td>\n",
       "      <td>145885.952297</td>\n",
       "      <td>покупка жилья</td>\n",
       "    </tr>\n",
       "    <tr>\n",
       "      <th>3</th>\n",
       "      <td>3</td>\n",
       "      <td>-4124.747207</td>\n",
       "      <td>32</td>\n",
       "      <td>среднее</td>\n",
       "      <td>1</td>\n",
       "      <td>женат / замужем</td>\n",
       "      <td>0</td>\n",
       "      <td>M</td>\n",
       "      <td>сотрудник</td>\n",
       "      <td>0</td>\n",
       "      <td>267628.550329</td>\n",
       "      <td>дополнительное образование</td>\n",
       "    </tr>\n",
       "    <tr>\n",
       "      <th>4</th>\n",
       "      <td>0</td>\n",
       "      <td>340266.072047</td>\n",
       "      <td>53</td>\n",
       "      <td>среднее</td>\n",
       "      <td>1</td>\n",
       "      <td>гражданский брак</td>\n",
       "      <td>1</td>\n",
       "      <td>F</td>\n",
       "      <td>пенсионер</td>\n",
       "      <td>0</td>\n",
       "      <td>158616.077870</td>\n",
       "      <td>сыграть свадьбу</td>\n",
       "    </tr>\n",
       "    <tr>\n",
       "      <th>5</th>\n",
       "      <td>0</td>\n",
       "      <td>-926.185831</td>\n",
       "      <td>27</td>\n",
       "      <td>высшее</td>\n",
       "      <td>0</td>\n",
       "      <td>гражданский брак</td>\n",
       "      <td>1</td>\n",
       "      <td>M</td>\n",
       "      <td>компаньон</td>\n",
       "      <td>0</td>\n",
       "      <td>255763.565419</td>\n",
       "      <td>покупка жилья</td>\n",
       "    </tr>\n",
       "    <tr>\n",
       "      <th>6</th>\n",
       "      <td>0</td>\n",
       "      <td>-2879.202052</td>\n",
       "      <td>43</td>\n",
       "      <td>высшее</td>\n",
       "      <td>0</td>\n",
       "      <td>женат / замужем</td>\n",
       "      <td>0</td>\n",
       "      <td>F</td>\n",
       "      <td>компаньон</td>\n",
       "      <td>0</td>\n",
       "      <td>240525.971920</td>\n",
       "      <td>операции с жильем</td>\n",
       "    </tr>\n",
       "    <tr>\n",
       "      <th>7</th>\n",
       "      <td>0</td>\n",
       "      <td>-152.779569</td>\n",
       "      <td>50</td>\n",
       "      <td>СРЕДНЕЕ</td>\n",
       "      <td>1</td>\n",
       "      <td>женат / замужем</td>\n",
       "      <td>0</td>\n",
       "      <td>M</td>\n",
       "      <td>сотрудник</td>\n",
       "      <td>0</td>\n",
       "      <td>135823.934197</td>\n",
       "      <td>образование</td>\n",
       "    </tr>\n",
       "    <tr>\n",
       "      <th>8</th>\n",
       "      <td>2</td>\n",
       "      <td>-6929.865299</td>\n",
       "      <td>35</td>\n",
       "      <td>ВЫСШЕЕ</td>\n",
       "      <td>0</td>\n",
       "      <td>гражданский брак</td>\n",
       "      <td>1</td>\n",
       "      <td>F</td>\n",
       "      <td>сотрудник</td>\n",
       "      <td>0</td>\n",
       "      <td>95856.832424</td>\n",
       "      <td>на проведение свадьбы</td>\n",
       "    </tr>\n",
       "    <tr>\n",
       "      <th>9</th>\n",
       "      <td>0</td>\n",
       "      <td>-2188.756445</td>\n",
       "      <td>41</td>\n",
       "      <td>среднее</td>\n",
       "      <td>1</td>\n",
       "      <td>женат / замужем</td>\n",
       "      <td>0</td>\n",
       "      <td>M</td>\n",
       "      <td>сотрудник</td>\n",
       "      <td>0</td>\n",
       "      <td>144425.938277</td>\n",
       "      <td>покупка жилья для семьи</td>\n",
       "    </tr>\n",
       "    <tr>\n",
       "      <th>10</th>\n",
       "      <td>2</td>\n",
       "      <td>-4171.483647</td>\n",
       "      <td>36</td>\n",
       "      <td>высшее</td>\n",
       "      <td>0</td>\n",
       "      <td>женат / замужем</td>\n",
       "      <td>0</td>\n",
       "      <td>M</td>\n",
       "      <td>компаньон</td>\n",
       "      <td>0</td>\n",
       "      <td>113943.491460</td>\n",
       "      <td>покупка недвижимости</td>\n",
       "    </tr>\n",
       "    <tr>\n",
       "      <th>11</th>\n",
       "      <td>0</td>\n",
       "      <td>-792.701887</td>\n",
       "      <td>40</td>\n",
       "      <td>среднее</td>\n",
       "      <td>1</td>\n",
       "      <td>женат / замужем</td>\n",
       "      <td>0</td>\n",
       "      <td>F</td>\n",
       "      <td>сотрудник</td>\n",
       "      <td>0</td>\n",
       "      <td>77069.234271</td>\n",
       "      <td>покупка коммерческой недвижимости</td>\n",
       "    </tr>\n",
       "    <tr>\n",
       "      <th>12</th>\n",
       "      <td>0</td>\n",
       "      <td>NaN</td>\n",
       "      <td>65</td>\n",
       "      <td>среднее</td>\n",
       "      <td>1</td>\n",
       "      <td>гражданский брак</td>\n",
       "      <td>1</td>\n",
       "      <td>M</td>\n",
       "      <td>пенсионер</td>\n",
       "      <td>0</td>\n",
       "      <td>NaN</td>\n",
       "      <td>сыграть свадьбу</td>\n",
       "    </tr>\n",
       "    <tr>\n",
       "      <th>13</th>\n",
       "      <td>0</td>\n",
       "      <td>-1846.641941</td>\n",
       "      <td>54</td>\n",
       "      <td>неоконченное высшее</td>\n",
       "      <td>2</td>\n",
       "      <td>женат / замужем</td>\n",
       "      <td>0</td>\n",
       "      <td>F</td>\n",
       "      <td>сотрудник</td>\n",
       "      <td>0</td>\n",
       "      <td>130458.228857</td>\n",
       "      <td>приобретение автомобиля</td>\n",
       "    </tr>\n",
       "    <tr>\n",
       "      <th>14</th>\n",
       "      <td>0</td>\n",
       "      <td>-1844.956182</td>\n",
       "      <td>56</td>\n",
       "      <td>высшее</td>\n",
       "      <td>0</td>\n",
       "      <td>гражданский брак</td>\n",
       "      <td>1</td>\n",
       "      <td>F</td>\n",
       "      <td>компаньон</td>\n",
       "      <td>1</td>\n",
       "      <td>165127.911772</td>\n",
       "      <td>покупка жилой недвижимости</td>\n",
       "    </tr>\n",
       "  </tbody>\n",
       "</table>\n",
       "</div>"
      ],
      "text/plain": [
       "    children  days_employed  dob_years            education  education_id  \\\n",
       "0          1   -8437.673028         42               высшее             0   \n",
       "1          1   -4024.803754         36              среднее             1   \n",
       "2          0   -5623.422610         33              Среднее             1   \n",
       "3          3   -4124.747207         32              среднее             1   \n",
       "4          0  340266.072047         53              среднее             1   \n",
       "5          0    -926.185831         27               высшее             0   \n",
       "6          0   -2879.202052         43               высшее             0   \n",
       "7          0    -152.779569         50              СРЕДНЕЕ             1   \n",
       "8          2   -6929.865299         35               ВЫСШЕЕ             0   \n",
       "9          0   -2188.756445         41              среднее             1   \n",
       "10         2   -4171.483647         36               высшее             0   \n",
       "11         0    -792.701887         40              среднее             1   \n",
       "12         0            NaN         65              среднее             1   \n",
       "13         0   -1846.641941         54  неоконченное высшее             2   \n",
       "14         0   -1844.956182         56               высшее             0   \n",
       "\n",
       "       family_status  family_status_id gender income_type  debt  \\\n",
       "0    женат / замужем                 0      F   сотрудник     0   \n",
       "1    женат / замужем                 0      F   сотрудник     0   \n",
       "2    женат / замужем                 0      M   сотрудник     0   \n",
       "3    женат / замужем                 0      M   сотрудник     0   \n",
       "4   гражданский брак                 1      F   пенсионер     0   \n",
       "5   гражданский брак                 1      M   компаньон     0   \n",
       "6    женат / замужем                 0      F   компаньон     0   \n",
       "7    женат / замужем                 0      M   сотрудник     0   \n",
       "8   гражданский брак                 1      F   сотрудник     0   \n",
       "9    женат / замужем                 0      M   сотрудник     0   \n",
       "10   женат / замужем                 0      M   компаньон     0   \n",
       "11   женат / замужем                 0      F   сотрудник     0   \n",
       "12  гражданский брак                 1      M   пенсионер     0   \n",
       "13   женат / замужем                 0      F   сотрудник     0   \n",
       "14  гражданский брак                 1      F   компаньон     1   \n",
       "\n",
       "     total_income                            purpose  \n",
       "0   253875.639453                      покупка жилья  \n",
       "1   112080.014102            приобретение автомобиля  \n",
       "2   145885.952297                      покупка жилья  \n",
       "3   267628.550329         дополнительное образование  \n",
       "4   158616.077870                    сыграть свадьбу  \n",
       "5   255763.565419                      покупка жилья  \n",
       "6   240525.971920                  операции с жильем  \n",
       "7   135823.934197                        образование  \n",
       "8    95856.832424              на проведение свадьбы  \n",
       "9   144425.938277            покупка жилья для семьи  \n",
       "10  113943.491460               покупка недвижимости  \n",
       "11   77069.234271  покупка коммерческой недвижимости  \n",
       "12            NaN                    сыграть свадьбу  \n",
       "13  130458.228857            приобретение автомобиля  \n",
       "14  165127.911772         покупка жилой недвижимости  "
      ]
     },
     "execution_count": 1,
     "metadata": {},
     "output_type": "execute_result"
    }
   ],
   "source": [
    "import pandas as pd\n",
    "from pymystem3 import Mystem\n",
    "m = Mystem()\n",
    "data = pd.read_csv('/datasets/data.csv')\n",
    "data.head(15)\n"
   ]
  },
  {
   "cell_type": "code",
   "execution_count": 2,
   "metadata": {},
   "outputs": [
    {
     "name": "stdout",
     "output_type": "stream",
     "text": [
      "<class 'pandas.core.frame.DataFrame'>\n",
      "RangeIndex: 21525 entries, 0 to 21524\n",
      "Data columns (total 12 columns):\n",
      " #   Column            Non-Null Count  Dtype  \n",
      "---  ------            --------------  -----  \n",
      " 0   children          21525 non-null  int64  \n",
      " 1   days_employed     19351 non-null  float64\n",
      " 2   dob_years         21525 non-null  int64  \n",
      " 3   education         21525 non-null  object \n",
      " 4   education_id      21525 non-null  int64  \n",
      " 5   family_status     21525 non-null  object \n",
      " 6   family_status_id  21525 non-null  int64  \n",
      " 7   gender            21525 non-null  object \n",
      " 8   income_type       21525 non-null  object \n",
      " 9   debt              21525 non-null  int64  \n",
      " 10  total_income      19351 non-null  float64\n",
      " 11  purpose           21525 non-null  object \n",
      "dtypes: float64(2), int64(5), object(5)\n",
      "memory usage: 2.0+ MB\n"
     ]
    }
   ],
   "source": [
    "data.info()"
   ]
  },
  {
   "cell_type": "code",
   "execution_count": 3,
   "metadata": {},
   "outputs": [
    {
     "data": {
      "text/plain": [
       "children               0\n",
       "days_employed       2174\n",
       "dob_years              0\n",
       "education              0\n",
       "education_id           0\n",
       "family_status          0\n",
       "family_status_id       0\n",
       "gender                 0\n",
       "income_type            0\n",
       "debt                   0\n",
       "total_income        2174\n",
       "purpose                0\n",
       "dtype: int64"
      ]
     },
     "execution_count": 3,
     "metadata": {},
     "output_type": "execute_result"
    }
   ],
   "source": [
    "data.isna().sum()"
   ]
  },
  {
   "cell_type": "code",
   "execution_count": 4,
   "metadata": {},
   "outputs": [
    {
     "data": {
      "text/html": [
       "<div>\n",
       "<style scoped>\n",
       "    .dataframe tbody tr th:only-of-type {\n",
       "        vertical-align: middle;\n",
       "    }\n",
       "\n",
       "    .dataframe tbody tr th {\n",
       "        vertical-align: top;\n",
       "    }\n",
       "\n",
       "    .dataframe thead th {\n",
       "        text-align: right;\n",
       "    }\n",
       "</style>\n",
       "<table border=\"1\" class=\"dataframe\">\n",
       "  <thead>\n",
       "    <tr style=\"text-align: right;\">\n",
       "      <th></th>\n",
       "      <th>children</th>\n",
       "      <th>days_employed</th>\n",
       "      <th>dob_years</th>\n",
       "      <th>education_id</th>\n",
       "      <th>family_status_id</th>\n",
       "      <th>debt</th>\n",
       "      <th>total_income</th>\n",
       "    </tr>\n",
       "  </thead>\n",
       "  <tbody>\n",
       "    <tr>\n",
       "      <th>count</th>\n",
       "      <td>21525.000000</td>\n",
       "      <td>19351.000000</td>\n",
       "      <td>21525.000000</td>\n",
       "      <td>21525.000000</td>\n",
       "      <td>21525.000000</td>\n",
       "      <td>21525.000000</td>\n",
       "      <td>1.935100e+04</td>\n",
       "    </tr>\n",
       "    <tr>\n",
       "      <th>mean</th>\n",
       "      <td>0.538908</td>\n",
       "      <td>63046.497661</td>\n",
       "      <td>43.293380</td>\n",
       "      <td>0.817236</td>\n",
       "      <td>0.972544</td>\n",
       "      <td>0.080883</td>\n",
       "      <td>1.674223e+05</td>\n",
       "    </tr>\n",
       "    <tr>\n",
       "      <th>std</th>\n",
       "      <td>1.381587</td>\n",
       "      <td>140827.311974</td>\n",
       "      <td>12.574584</td>\n",
       "      <td>0.548138</td>\n",
       "      <td>1.420324</td>\n",
       "      <td>0.272661</td>\n",
       "      <td>1.029716e+05</td>\n",
       "    </tr>\n",
       "    <tr>\n",
       "      <th>min</th>\n",
       "      <td>-1.000000</td>\n",
       "      <td>-18388.949901</td>\n",
       "      <td>0.000000</td>\n",
       "      <td>0.000000</td>\n",
       "      <td>0.000000</td>\n",
       "      <td>0.000000</td>\n",
       "      <td>2.066726e+04</td>\n",
       "    </tr>\n",
       "    <tr>\n",
       "      <th>25%</th>\n",
       "      <td>0.000000</td>\n",
       "      <td>-2747.423625</td>\n",
       "      <td>33.000000</td>\n",
       "      <td>1.000000</td>\n",
       "      <td>0.000000</td>\n",
       "      <td>0.000000</td>\n",
       "      <td>1.030532e+05</td>\n",
       "    </tr>\n",
       "    <tr>\n",
       "      <th>50%</th>\n",
       "      <td>0.000000</td>\n",
       "      <td>-1203.369529</td>\n",
       "      <td>42.000000</td>\n",
       "      <td>1.000000</td>\n",
       "      <td>0.000000</td>\n",
       "      <td>0.000000</td>\n",
       "      <td>1.450179e+05</td>\n",
       "    </tr>\n",
       "    <tr>\n",
       "      <th>75%</th>\n",
       "      <td>1.000000</td>\n",
       "      <td>-291.095954</td>\n",
       "      <td>53.000000</td>\n",
       "      <td>1.000000</td>\n",
       "      <td>1.000000</td>\n",
       "      <td>0.000000</td>\n",
       "      <td>2.034351e+05</td>\n",
       "    </tr>\n",
       "    <tr>\n",
       "      <th>max</th>\n",
       "      <td>20.000000</td>\n",
       "      <td>401755.400475</td>\n",
       "      <td>75.000000</td>\n",
       "      <td>4.000000</td>\n",
       "      <td>4.000000</td>\n",
       "      <td>1.000000</td>\n",
       "      <td>2.265604e+06</td>\n",
       "    </tr>\n",
       "  </tbody>\n",
       "</table>\n",
       "</div>"
      ],
      "text/plain": [
       "           children  days_employed     dob_years  education_id  \\\n",
       "count  21525.000000   19351.000000  21525.000000  21525.000000   \n",
       "mean       0.538908   63046.497661     43.293380      0.817236   \n",
       "std        1.381587  140827.311974     12.574584      0.548138   \n",
       "min       -1.000000  -18388.949901      0.000000      0.000000   \n",
       "25%        0.000000   -2747.423625     33.000000      1.000000   \n",
       "50%        0.000000   -1203.369529     42.000000      1.000000   \n",
       "75%        1.000000    -291.095954     53.000000      1.000000   \n",
       "max       20.000000  401755.400475     75.000000      4.000000   \n",
       "\n",
       "       family_status_id          debt  total_income  \n",
       "count      21525.000000  21525.000000  1.935100e+04  \n",
       "mean           0.972544      0.080883  1.674223e+05  \n",
       "std            1.420324      0.272661  1.029716e+05  \n",
       "min            0.000000      0.000000  2.066726e+04  \n",
       "25%            0.000000      0.000000  1.030532e+05  \n",
       "50%            0.000000      0.000000  1.450179e+05  \n",
       "75%            1.000000      0.000000  2.034351e+05  \n",
       "max            4.000000      1.000000  2.265604e+06  "
      ]
     },
     "execution_count": 4,
     "metadata": {},
     "output_type": "execute_result"
    }
   ],
   "source": [
    "data.describe()"
   ]
  },
  {
   "cell_type": "markdown",
   "metadata": {},
   "source": [
    "**Вывод**"
   ]
  },
  {
   "cell_type": "markdown",
   "metadata": {},
   "source": [
    "Описание данных\n",
    "\n",
    "- children - количество детей в семье\n",
    "- days_employed - трудовой стаж в днях\n",
    "- dob_yers - возраст клиента в годах\n",
    "- education - образование клиента\n",
    "- education_id - идентификатор образования\n",
    "- family_status - семейное положение\n",
    "- family_status_id - идентификатор семейного положения\n",
    "- gender - пол клиента\n",
    "- income_type - тип занятости\n",
    "- debt - имел ли задолженность по возврату кредитов\n",
    "- total_income - доход в месяц\n",
    "- purpose - цель получения кредита"
   ]
  },
  {
   "cell_type": "markdown",
   "metadata": {},
   "source": [
    "В каждой строке - данные о потенциальном заемщике. Количество значений в столбцах различаются, соответственно есть пропущенные значения. Столбцы описывают самого заемщика, и его потенциальные расходы (наличие семьи и детей, цель кредита), а также риски невозврата кредита (задолженность возврата по кредиту, тип занятости, трудовой стаж, возраст). Предварительно можно утверждать, что данных достаточно для проверки гипотезы. В некоторых столбцах данные нужно привести к хорошему стилю, убрать отрицательные значения и перевести в понятную систему. Найти пропуски и проанализировать их количество, и как они могут повлиять на итоговый результат."
   ]
  },
  {
   "cell_type": "markdown",
   "metadata": {},
   "source": [
    "## Шаг. Предобработка данных"
   ]
  },
  {
   "cell_type": "markdown",
   "metadata": {},
   "source": [
    "### Обработка пропусков"
   ]
  },
  {
   "cell_type": "markdown",
   "metadata": {},
   "source": [
    "- Поочередно берем каждый столбец проверяет возможные пропуски и решаем как их заполнить "
   ]
  },
  {
   "cell_type": "markdown",
   "metadata": {},
   "source": [
    "Для нашего анализа платежеспособности важен в первую очередь доход в месяц. Трудовой стаж может быть и неофициальным. Для того чтобы дальше работать с данными нужно заполнить столбцы. Для этого можно разделить на группы по типу занятости и добавить в стобцы стаж и доход медианное значение этих групп."
   ]
  },
  {
   "cell_type": "markdown",
   "metadata": {},
   "source": [
    "- Сначала приводим значение столбцов стаж и доход к модулю, чтобы избавиться от отрицательных значений\n"
   ]
  },
  {
   "cell_type": "code",
   "execution_count": 5,
   "metadata": {},
   "outputs": [],
   "source": [
    "data[['days_employed', 'total_income']] = data[['days_employed', 'total_income']].abs() "
   ]
  },
  {
   "cell_type": "code",
   "execution_count": 6,
   "metadata": {},
   "outputs": [],
   "source": [
    "data.loc[data['days_employed'] >28000, 'days_employed'] = data.loc[data['days_employed'] >28000, 'days_employed'] / 24"
   ]
  },
  {
   "cell_type": "markdown",
   "metadata": {},
   "source": [
    "- Скорее всего при заполнении столбца со стажем были допущены ошибки, была другая система исчесления (в часах). Поэтому данные свыше 28000 переводим в часы. Число 28000 взято как максимально реалистичный стаж. "
   ]
  },
  {
   "cell_type": "code",
   "execution_count": 7,
   "metadata": {},
   "outputs": [
    {
     "name": "stdout",
     "output_type": "stream",
     "text": [
      "сотрудник 1574.2028211070854\n",
      "пенсионер 15217.221094405468\n",
      "компаньон 1547.3822226779334\n",
      "госслужащий 2689.3683533043886\n",
      "безработный 15267.235531008522\n",
      "предприниматель 520.8480834953765\n",
      "студент 578.7515535382181\n",
      "в декрете 3296.7599620220594\n"
     ]
    }
   ],
   "source": [
    "for tipe in data['income_type'].unique():\n",
    "    median = data.loc[data['income_type'] == tipe, 'days_employed'].median()\n",
    "    print (tipe, median)\n",
    "    data.loc[(data['days_employed'].isna()) & (data['income_type'] == tipe), 'days_employed'] = median"
   ]
  },
  {
   "cell_type": "code",
   "execution_count": 8,
   "metadata": {
    "scrolled": true
   },
   "outputs": [
    {
     "data": {
      "text/plain": [
       "0"
      ]
     },
     "execution_count": 8,
     "metadata": {},
     "output_type": "execute_result"
    }
   ],
   "source": [
    "data['days_employed'].isna().sum()"
   ]
  },
  {
   "cell_type": "markdown",
   "metadata": {},
   "source": [
    "- Заполнен столбец стаж медианным значением по типу занятости. Пропуски удалены."
   ]
  },
  {
   "cell_type": "code",
   "execution_count": 9,
   "metadata": {},
   "outputs": [
    {
     "name": "stdout",
     "output_type": "stream",
     "text": [
      "сотрудник 142594.39684740017\n",
      "пенсионер 118514.48641164352\n",
      "компаньон 172357.95096577113\n",
      "госслужащий 150447.9352830068\n",
      "безработный 131339.7516762103\n",
      "предприниматель 499163.1449470857\n",
      "студент 98201.62531401133\n",
      "в декрете 53829.13072905995\n"
     ]
    }
   ],
   "source": [
    "for tipe in data['income_type'].unique():\n",
    "    median = data.loc[data['income_type'] == tipe, 'total_income'].median()\n",
    "    print (tipe, median)\n",
    "    data.loc[(data['total_income'].isna()) & (data['income_type'] == tipe), 'total_income'] = median"
   ]
  },
  {
   "cell_type": "code",
   "execution_count": 10,
   "metadata": {},
   "outputs": [
    {
     "data": {
      "text/plain": [
       "0"
      ]
     },
     "execution_count": 10,
     "metadata": {},
     "output_type": "execute_result"
    }
   ],
   "source": [
    "data['income_type'].isna().sum()"
   ]
  },
  {
   "cell_type": "markdown",
   "metadata": {},
   "source": [
    "- Заполнен столбец доход в месяц медианным значением по типу занятости. Пропуски удалены."
   ]
  },
  {
   "cell_type": "markdown",
   "metadata": {},
   "source": [
    "- Столбец образование приведем к нижнему регистру."
   ]
  },
  {
   "cell_type": "code",
   "execution_count": 11,
   "metadata": {},
   "outputs": [],
   "source": [
    "data['education'] = data['education'].str.lower()"
   ]
  },
  {
   "cell_type": "code",
   "execution_count": 12,
   "metadata": {},
   "outputs": [
    {
     "data": {
      "text/plain": [
       "array([ 1,  0,  3,  2, -1,  4, 20,  5])"
      ]
     },
     "execution_count": 12,
     "metadata": {},
     "output_type": "execute_result"
    }
   ],
   "source": [
    "data['children'].unique() \n"
   ]
  },
  {
   "cell_type": "markdown",
   "metadata": {},
   "source": [
    "- Предположим, что отрицательное значение появилось из-за опечатки при заполнении данных."
   ]
  },
  {
   "cell_type": "code",
   "execution_count": 13,
   "metadata": {},
   "outputs": [
    {
     "data": {
      "text/plain": [
       "array([ 1,  0,  3,  2,  4, 20,  5])"
      ]
     },
     "execution_count": 13,
     "metadata": {},
     "output_type": "execute_result"
    }
   ],
   "source": [
    "data['children'] = data['children'].abs()\n",
    "data['children'].unique() "
   ]
  },
  {
   "cell_type": "code",
   "execution_count": 14,
   "metadata": {},
   "outputs": [
    {
     "name": "stdout",
     "output_type": "stream",
     "text": [
      "Количество строк с 20 детьми: 76\n"
     ]
    }
   ],
   "source": [
    "print(\"Количество строк с 20 детьми:\", data[data['children'] == 20].count()[0])"
   ]
  },
  {
   "cell_type": "markdown",
   "metadata": {},
   "source": [
    "- Скорее всего 20 детей это это опечатка,  исправляем на 2"
   ]
  },
  {
   "cell_type": "code",
   "execution_count": 15,
   "metadata": {},
   "outputs": [
    {
     "data": {
      "text/plain": [
       "array([1, 0, 3, 2, 4, 5])"
      ]
     },
     "execution_count": 15,
     "metadata": {},
     "output_type": "execute_result"
    }
   ],
   "source": [
    "data['children'] = data['children'].replace(20,2)\n",
    "data['children'].unique() "
   ]
  },
  {
   "cell_type": "code",
   "execution_count": 16,
   "metadata": {},
   "outputs": [
    {
     "name": "stdout",
     "output_type": "stream",
     "text": [
      "Количество строк с 'dob_years' 0 - 101\n"
     ]
    }
   ],
   "source": [
    "print(\"Количество строк с 'dob_years' 0 -\", data[data['dob_years'] == 0].count()[0])"
   ]
  },
  {
   "cell_type": "markdown",
   "metadata": {},
   "source": [
    "- Большое количество нулевых значений по возрасту клиента разумнее всего заполнить среднем значением от типа занятости. "
   ]
  },
  {
   "cell_type": "code",
   "execution_count": 17,
   "metadata": {},
   "outputs": [
    {
     "name": "stdout",
     "output_type": "stream",
     "text": [
      "сотрудник 39\n",
      "пенсионер 59\n",
      "компаньон 39\n",
      "госслужащий 40\n",
      "безработный 38\n",
      "предприниматель 42\n",
      "студент 22\n",
      "в декрете 39\n"
     ]
    }
   ],
   "source": [
    "for new in data['income_type'].unique():\n",
    "    mean = data.loc[data['income_type'] == new, 'dob_years'].mean().astype('int')\n",
    "    print (new, mean)\n",
    "    data.loc[(data['dob_years'] == 0) & (data['income_type'] == new), 'dob_years'] = mean"
   ]
  },
  {
   "cell_type": "code",
   "execution_count": 18,
   "metadata": {},
   "outputs": [
    {
     "name": "stdout",
     "output_type": "stream",
     "text": [
      "Количество строк с 'dob_years' 0 - 0\n"
     ]
    }
   ],
   "source": [
    "print(\"Количество строк с 'dob_years' 0 -\", data[data['dob_years'] == 0].count()[0])"
   ]
  },
  {
   "cell_type": "markdown",
   "metadata": {},
   "source": [
    "- Все пропуски в столбе заполнены"
   ]
  },
  {
   "cell_type": "markdown",
   "metadata": {},
   "source": [
    "**Вывод**"
   ]
  },
  {
   "cell_type": "markdown",
   "metadata": {},
   "source": [
    "Все NaN в нужных для дальнейшего анализы гипотез по датафрейму заполнены, явно некорректные значения откорректированы. "
   ]
  },
  {
   "cell_type": "markdown",
   "metadata": {},
   "source": [
    "### Замена типа данных"
   ]
  },
  {
   "cell_type": "markdown",
   "metadata": {},
   "source": [
    "Столбцам 'days_employed' и 'total_income' стоит присвоить целочисленные значения (текущая точность нам не нужна).\n",
    "Используем функцию 'astype', т.к. столбцы у нас имеют чистый формат 'float64', т.е. перевод в 'int' будет безопасным."
   ]
  },
  {
   "cell_type": "code",
   "execution_count": 19,
   "metadata": {},
   "outputs": [],
   "source": [
    "data['days_employed'] = data['days_employed'].astype('int')\n",
    "data['total_income'] = data['total_income'].astype('int')"
   ]
  },
  {
   "cell_type": "markdown",
   "metadata": {},
   "source": [
    "**Вывод**"
   ]
  },
  {
   "cell_type": "markdown",
   "metadata": {},
   "source": [
    "Теперь все данные представлены в довольно удобном формате, для восприятия и анализа.\n",
    "Доход в месяц и стаж в днях перевели в 'int', чтобы видеть целочисленные значения."
   ]
  },
  {
   "cell_type": "markdown",
   "metadata": {},
   "source": [
    "### Обработка дубликатов"
   ]
  },
  {
   "cell_type": "markdown",
   "metadata": {},
   "source": [
    "- Сначала проверим датафрейм на дубликаты."
   ]
  },
  {
   "cell_type": "code",
   "execution_count": 20,
   "metadata": {},
   "outputs": [
    {
     "data": {
      "text/plain": [
       "71"
      ]
     },
     "execution_count": 20,
     "metadata": {},
     "output_type": "execute_result"
    }
   ],
   "source": [
    "data.duplicated().sum()"
   ]
  },
  {
   "cell_type": "code",
   "execution_count": 21,
   "metadata": {},
   "outputs": [
    {
     "data": {
      "text/html": [
       "<div>\n",
       "<style scoped>\n",
       "    .dataframe tbody tr th:only-of-type {\n",
       "        vertical-align: middle;\n",
       "    }\n",
       "\n",
       "    .dataframe tbody tr th {\n",
       "        vertical-align: top;\n",
       "    }\n",
       "\n",
       "    .dataframe thead th {\n",
       "        text-align: right;\n",
       "    }\n",
       "</style>\n",
       "<table border=\"1\" class=\"dataframe\">\n",
       "  <thead>\n",
       "    <tr style=\"text-align: right;\">\n",
       "      <th></th>\n",
       "      <th>children</th>\n",
       "      <th>days_employed</th>\n",
       "      <th>dob_years</th>\n",
       "      <th>education</th>\n",
       "      <th>education_id</th>\n",
       "      <th>family_status</th>\n",
       "      <th>family_status_id</th>\n",
       "      <th>gender</th>\n",
       "      <th>income_type</th>\n",
       "      <th>debt</th>\n",
       "      <th>total_income</th>\n",
       "      <th>purpose</th>\n",
       "    </tr>\n",
       "  </thead>\n",
       "  <tbody>\n",
       "    <tr>\n",
       "      <th>2849</th>\n",
       "      <td>0</td>\n",
       "      <td>1574</td>\n",
       "      <td>41</td>\n",
       "      <td>среднее</td>\n",
       "      <td>1</td>\n",
       "      <td>женат / замужем</td>\n",
       "      <td>0</td>\n",
       "      <td>F</td>\n",
       "      <td>сотрудник</td>\n",
       "      <td>0</td>\n",
       "      <td>142594</td>\n",
       "      <td>покупка жилья для семьи</td>\n",
       "    </tr>\n",
       "    <tr>\n",
       "      <th>3290</th>\n",
       "      <td>0</td>\n",
       "      <td>15217</td>\n",
       "      <td>58</td>\n",
       "      <td>среднее</td>\n",
       "      <td>1</td>\n",
       "      <td>гражданский брак</td>\n",
       "      <td>1</td>\n",
       "      <td>F</td>\n",
       "      <td>пенсионер</td>\n",
       "      <td>0</td>\n",
       "      <td>118514</td>\n",
       "      <td>сыграть свадьбу</td>\n",
       "    </tr>\n",
       "    <tr>\n",
       "      <th>4182</th>\n",
       "      <td>1</td>\n",
       "      <td>1574</td>\n",
       "      <td>34</td>\n",
       "      <td>высшее</td>\n",
       "      <td>0</td>\n",
       "      <td>гражданский брак</td>\n",
       "      <td>1</td>\n",
       "      <td>F</td>\n",
       "      <td>сотрудник</td>\n",
       "      <td>0</td>\n",
       "      <td>142594</td>\n",
       "      <td>свадьба</td>\n",
       "    </tr>\n",
       "    <tr>\n",
       "      <th>4851</th>\n",
       "      <td>0</td>\n",
       "      <td>15217</td>\n",
       "      <td>60</td>\n",
       "      <td>среднее</td>\n",
       "      <td>1</td>\n",
       "      <td>гражданский брак</td>\n",
       "      <td>1</td>\n",
       "      <td>F</td>\n",
       "      <td>пенсионер</td>\n",
       "      <td>0</td>\n",
       "      <td>118514</td>\n",
       "      <td>свадьба</td>\n",
       "    </tr>\n",
       "    <tr>\n",
       "      <th>5557</th>\n",
       "      <td>0</td>\n",
       "      <td>15217</td>\n",
       "      <td>58</td>\n",
       "      <td>среднее</td>\n",
       "      <td>1</td>\n",
       "      <td>гражданский брак</td>\n",
       "      <td>1</td>\n",
       "      <td>F</td>\n",
       "      <td>пенсионер</td>\n",
       "      <td>0</td>\n",
       "      <td>118514</td>\n",
       "      <td>сыграть свадьбу</td>\n",
       "    </tr>\n",
       "    <tr>\n",
       "      <th>6312</th>\n",
       "      <td>0</td>\n",
       "      <td>1574</td>\n",
       "      <td>30</td>\n",
       "      <td>среднее</td>\n",
       "      <td>1</td>\n",
       "      <td>женат / замужем</td>\n",
       "      <td>0</td>\n",
       "      <td>M</td>\n",
       "      <td>сотрудник</td>\n",
       "      <td>0</td>\n",
       "      <td>142594</td>\n",
       "      <td>строительство жилой недвижимости</td>\n",
       "    </tr>\n",
       "    <tr>\n",
       "      <th>7808</th>\n",
       "      <td>0</td>\n",
       "      <td>15217</td>\n",
       "      <td>57</td>\n",
       "      <td>среднее</td>\n",
       "      <td>1</td>\n",
       "      <td>гражданский брак</td>\n",
       "      <td>1</td>\n",
       "      <td>F</td>\n",
       "      <td>пенсионер</td>\n",
       "      <td>0</td>\n",
       "      <td>118514</td>\n",
       "      <td>на проведение свадьбы</td>\n",
       "    </tr>\n",
       "    <tr>\n",
       "      <th>7921</th>\n",
       "      <td>0</td>\n",
       "      <td>15217</td>\n",
       "      <td>64</td>\n",
       "      <td>высшее</td>\n",
       "      <td>0</td>\n",
       "      <td>гражданский брак</td>\n",
       "      <td>1</td>\n",
       "      <td>F</td>\n",
       "      <td>пенсионер</td>\n",
       "      <td>0</td>\n",
       "      <td>118514</td>\n",
       "      <td>на проведение свадьбы</td>\n",
       "    </tr>\n",
       "    <tr>\n",
       "      <th>7938</th>\n",
       "      <td>0</td>\n",
       "      <td>15217</td>\n",
       "      <td>71</td>\n",
       "      <td>среднее</td>\n",
       "      <td>1</td>\n",
       "      <td>гражданский брак</td>\n",
       "      <td>1</td>\n",
       "      <td>F</td>\n",
       "      <td>пенсионер</td>\n",
       "      <td>0</td>\n",
       "      <td>118514</td>\n",
       "      <td>на проведение свадьбы</td>\n",
       "    </tr>\n",
       "    <tr>\n",
       "      <th>8583</th>\n",
       "      <td>0</td>\n",
       "      <td>15217</td>\n",
       "      <td>58</td>\n",
       "      <td>высшее</td>\n",
       "      <td>0</td>\n",
       "      <td>Не женат / не замужем</td>\n",
       "      <td>4</td>\n",
       "      <td>F</td>\n",
       "      <td>пенсионер</td>\n",
       "      <td>0</td>\n",
       "      <td>118514</td>\n",
       "      <td>дополнительное образование</td>\n",
       "    </tr>\n",
       "    <tr>\n",
       "      <th>9238</th>\n",
       "      <td>2</td>\n",
       "      <td>1574</td>\n",
       "      <td>34</td>\n",
       "      <td>среднее</td>\n",
       "      <td>1</td>\n",
       "      <td>женат / замужем</td>\n",
       "      <td>0</td>\n",
       "      <td>F</td>\n",
       "      <td>сотрудник</td>\n",
       "      <td>0</td>\n",
       "      <td>142594</td>\n",
       "      <td>покупка жилья для сдачи</td>\n",
       "    </tr>\n",
       "    <tr>\n",
       "      <th>9528</th>\n",
       "      <td>0</td>\n",
       "      <td>15217</td>\n",
       "      <td>66</td>\n",
       "      <td>среднее</td>\n",
       "      <td>1</td>\n",
       "      <td>вдовец / вдова</td>\n",
       "      <td>2</td>\n",
       "      <td>F</td>\n",
       "      <td>пенсионер</td>\n",
       "      <td>0</td>\n",
       "      <td>118514</td>\n",
       "      <td>операции со своей недвижимостью</td>\n",
       "    </tr>\n",
       "    <tr>\n",
       "      <th>9604</th>\n",
       "      <td>0</td>\n",
       "      <td>15217</td>\n",
       "      <td>71</td>\n",
       "      <td>среднее</td>\n",
       "      <td>1</td>\n",
       "      <td>гражданский брак</td>\n",
       "      <td>1</td>\n",
       "      <td>F</td>\n",
       "      <td>пенсионер</td>\n",
       "      <td>0</td>\n",
       "      <td>118514</td>\n",
       "      <td>на проведение свадьбы</td>\n",
       "    </tr>\n",
       "    <tr>\n",
       "      <th>9627</th>\n",
       "      <td>0</td>\n",
       "      <td>15217</td>\n",
       "      <td>56</td>\n",
       "      <td>среднее</td>\n",
       "      <td>1</td>\n",
       "      <td>женат / замужем</td>\n",
       "      <td>0</td>\n",
       "      <td>F</td>\n",
       "      <td>пенсионер</td>\n",
       "      <td>0</td>\n",
       "      <td>118514</td>\n",
       "      <td>операции со своей недвижимостью</td>\n",
       "    </tr>\n",
       "    <tr>\n",
       "      <th>9855</th>\n",
       "      <td>0</td>\n",
       "      <td>15217</td>\n",
       "      <td>62</td>\n",
       "      <td>среднее</td>\n",
       "      <td>1</td>\n",
       "      <td>женат / замужем</td>\n",
       "      <td>0</td>\n",
       "      <td>F</td>\n",
       "      <td>пенсионер</td>\n",
       "      <td>0</td>\n",
       "      <td>118514</td>\n",
       "      <td>получение дополнительного образования</td>\n",
       "    </tr>\n",
       "  </tbody>\n",
       "</table>\n",
       "</div>"
      ],
      "text/plain": [
       "      children  days_employed  dob_years education  education_id  \\\n",
       "2849         0           1574         41   среднее             1   \n",
       "3290         0          15217         58   среднее             1   \n",
       "4182         1           1574         34    высшее             0   \n",
       "4851         0          15217         60   среднее             1   \n",
       "5557         0          15217         58   среднее             1   \n",
       "6312         0           1574         30   среднее             1   \n",
       "7808         0          15217         57   среднее             1   \n",
       "7921         0          15217         64    высшее             0   \n",
       "7938         0          15217         71   среднее             1   \n",
       "8583         0          15217         58    высшее             0   \n",
       "9238         2           1574         34   среднее             1   \n",
       "9528         0          15217         66   среднее             1   \n",
       "9604         0          15217         71   среднее             1   \n",
       "9627         0          15217         56   среднее             1   \n",
       "9855         0          15217         62   среднее             1   \n",
       "\n",
       "              family_status  family_status_id gender income_type  debt  \\\n",
       "2849        женат / замужем                 0      F   сотрудник     0   \n",
       "3290       гражданский брак                 1      F   пенсионер     0   \n",
       "4182       гражданский брак                 1      F   сотрудник     0   \n",
       "4851       гражданский брак                 1      F   пенсионер     0   \n",
       "5557       гражданский брак                 1      F   пенсионер     0   \n",
       "6312        женат / замужем                 0      M   сотрудник     0   \n",
       "7808       гражданский брак                 1      F   пенсионер     0   \n",
       "7921       гражданский брак                 1      F   пенсионер     0   \n",
       "7938       гражданский брак                 1      F   пенсионер     0   \n",
       "8583  Не женат / не замужем                 4      F   пенсионер     0   \n",
       "9238        женат / замужем                 0      F   сотрудник     0   \n",
       "9528         вдовец / вдова                 2      F   пенсионер     0   \n",
       "9604       гражданский брак                 1      F   пенсионер     0   \n",
       "9627        женат / замужем                 0      F   пенсионер     0   \n",
       "9855        женат / замужем                 0      F   пенсионер     0   \n",
       "\n",
       "      total_income                                purpose  \n",
       "2849        142594                покупка жилья для семьи  \n",
       "3290        118514                        сыграть свадьбу  \n",
       "4182        142594                                свадьба  \n",
       "4851        118514                                свадьба  \n",
       "5557        118514                        сыграть свадьбу  \n",
       "6312        142594       строительство жилой недвижимости  \n",
       "7808        118514                  на проведение свадьбы  \n",
       "7921        118514                  на проведение свадьбы  \n",
       "7938        118514                  на проведение свадьбы  \n",
       "8583        118514             дополнительное образование  \n",
       "9238        142594                покупка жилья для сдачи  \n",
       "9528        118514        операции со своей недвижимостью  \n",
       "9604        118514                  на проведение свадьбы  \n",
       "9627        118514        операции со своей недвижимостью  \n",
       "9855        118514  получение дополнительного образования  "
      ]
     },
     "execution_count": 21,
     "metadata": {},
     "output_type": "execute_result"
    }
   ],
   "source": [
    "data[data.duplicated()].head(15)"
   ]
  },
  {
   "cell_type": "markdown",
   "metadata": {},
   "source": [
    "- Выглядят как дубликаты, предположительно задвоение данных. Возможно подача нескольких заявок на кредит...Возможно технические проблемы при загрузке или выгрузке баз данных.\n",
    "Удаляем дубликаты."
   ]
  },
  {
   "cell_type": "code",
   "execution_count": 22,
   "metadata": {},
   "outputs": [
    {
     "data": {
      "text/plain": [
       "0"
      ]
     },
     "execution_count": 22,
     "metadata": {},
     "output_type": "execute_result"
    }
   ],
   "source": [
    "data = data.drop_duplicates() \n",
    "data.duplicated().sum()"
   ]
  },
  {
   "cell_type": "markdown",
   "metadata": {},
   "source": [
    "**Вывод**"
   ]
  },
  {
   "cell_type": "markdown",
   "metadata": {},
   "source": [
    "Проверили датафрейм на дубликаты с помощью метода duplicated(), визуально просмотрели некоторые из найденных дубликатов. Подтвердив необходимость удаления дубликатов."
   ]
  },
  {
   "cell_type": "markdown",
   "metadata": {},
   "source": [
    "### Лемматизация"
   ]
  },
  {
   "cell_type": "markdown",
   "metadata": {},
   "source": [
    "В нашем датафрейме есть столбец 'purpose' с целью получения кредита. Очень много одинаковых целей, выраженных разными словами.\n",
    "Нам нужно найти все леммы в этом столбце для создания нового столбца 'purpose_id' в котором будут категории целей кредита. "
   ]
  },
  {
   "cell_type": "code",
   "execution_count": 23,
   "metadata": {},
   "outputs": [
    {
     "data": {
      "text/plain": [
       "свадьба                                   791\n",
       "на проведение свадьбы                     768\n",
       "сыграть свадьбу                           765\n",
       "операции с недвижимостью                  675\n",
       "покупка коммерческой недвижимости         661\n",
       "операции с жильем                         652\n",
       "покупка жилья для сдачи                   651\n",
       "операции с коммерческой недвижимостью     650\n",
       "жилье                                     646\n",
       "покупка жилья                             646\n",
       "покупка жилья для семьи                   638\n",
       "строительство собственной недвижимости    635\n",
       "недвижимость                              633\n",
       "операции со своей недвижимостью           627\n",
       "строительство жилой недвижимости          624\n",
       "покупка недвижимости                      621\n",
       "покупка своего жилья                      620\n",
       "строительство недвижимости                619\n",
       "ремонт жилью                              607\n",
       "покупка жилой недвижимости                606\n",
       "на покупку своего автомобиля              505\n",
       "заняться высшим образованием              496\n",
       "автомобиль                                494\n",
       "сделка с подержанным автомобилем          486\n",
       "свой автомобиль                           478\n",
       "на покупку подержанного автомобиля        478\n",
       "автомобили                                478\n",
       "на покупку автомобиля                     471\n",
       "приобретение автомобиля                   461\n",
       "дополнительное образование                460\n",
       "сделка с автомобилем                      455\n",
       "высшее образование                        452\n",
       "образование                               447\n",
       "получение дополнительного образования     446\n",
       "получение образования                     442\n",
       "профильное образование                    436\n",
       "получение высшего образования             426\n",
       "заняться образованием                     408\n",
       "Name: purpose, dtype: int64"
      ]
     },
     "execution_count": 23,
     "metadata": {},
     "output_type": "execute_result"
    }
   ],
   "source": [
    "data['purpose'].value_counts()\n"
   ]
  },
  {
   "cell_type": "code",
   "execution_count": 24,
   "metadata": {
    "scrolled": true
   },
   "outputs": [
    {
     "data": {
      "text/plain": [
       "Counter({'покупка': 10,\n",
       "         ' ': 96,\n",
       "         'жилье': 7,\n",
       "         'приобретение': 1,\n",
       "         'автомобиль': 9,\n",
       "         'дополнительный': 2,\n",
       "         'образование': 9,\n",
       "         'сыграть': 1,\n",
       "         'свадьба': 3,\n",
       "         'операция': 4,\n",
       "         'с': 5,\n",
       "         'на': 4,\n",
       "         'проведение': 1,\n",
       "         'для': 2,\n",
       "         'семья': 1,\n",
       "         'недвижимость': 10,\n",
       "         'коммерческий': 2,\n",
       "         'жилой': 2,\n",
       "         'строительство': 3,\n",
       "         'собственный': 1,\n",
       "         'подержать': 2,\n",
       "         'свой': 4,\n",
       "         'со': 1,\n",
       "         'заниматься': 2,\n",
       "         'сделка': 2,\n",
       "         'получение': 3,\n",
       "         'высокий': 3,\n",
       "         'профильный': 1,\n",
       "         'сдача': 1,\n",
       "         'ремонт': 1,\n",
       "         '\\n': 1})"
      ]
     },
     "execution_count": 24,
     "metadata": {},
     "output_type": "execute_result"
    }
   ],
   "source": [
    "from collections import Counter\n",
    "text = data['purpose'].unique()\n",
    "text = ' '.join(text)\n",
    "lemmas = m.lemmatize(text)\n",
    "Counter(lemmas)\n"
   ]
  },
  {
   "cell_type": "code",
   "execution_count": 25,
   "metadata": {},
   "outputs": [
    {
     "data": {
      "text/plain": [
       "жилье          10811\n",
       "автомобиль      4306\n",
       "образование     4013\n",
       "свадьба         2324\n",
       "Name: purpose_id, dtype: int64"
      ]
     },
     "execution_count": 25,
     "metadata": {},
     "output_type": "execute_result"
    }
   ],
   "source": [
    "def lemmas_purpose(row):\n",
    "    purpose = row['purpose']\n",
    "    purpose_lemmas = m.lemmatize(purpose)\n",
    " \n",
    "    if ('недвижимость' in purpose_lemmas or 'жилье' in purpose_lemmas):\n",
    "        return 'жилье'\n",
    "    elif 'автомобиль'in purpose_lemmas:\n",
    "        return 'автомобиль'\n",
    "    elif 'образование' in purpose_lemmas:\n",
    "        return 'образование'\n",
    "    elif 'свадьба' in purpose_lemmas:\n",
    "        return 'свадьба'\n",
    "    else:\n",
    "        return 'цель не определена'\n",
    " \n",
    "data['purpose_id'] = data.apply(lemmas_purpose, axis=1)    \n",
    "data['purpose_id'].value_counts()"
   ]
  },
  {
   "cell_type": "code",
   "execution_count": 26,
   "metadata": {},
   "outputs": [
    {
     "data": {
      "text/html": [
       "<div>\n",
       "<style scoped>\n",
       "    .dataframe tbody tr th:only-of-type {\n",
       "        vertical-align: middle;\n",
       "    }\n",
       "\n",
       "    .dataframe tbody tr th {\n",
       "        vertical-align: top;\n",
       "    }\n",
       "\n",
       "    .dataframe thead th {\n",
       "        text-align: right;\n",
       "    }\n",
       "</style>\n",
       "<table border=\"1\" class=\"dataframe\">\n",
       "  <thead>\n",
       "    <tr style=\"text-align: right;\">\n",
       "      <th></th>\n",
       "      <th>children</th>\n",
       "      <th>days_employed</th>\n",
       "      <th>dob_years</th>\n",
       "      <th>education</th>\n",
       "      <th>education_id</th>\n",
       "      <th>family_status</th>\n",
       "      <th>family_status_id</th>\n",
       "      <th>gender</th>\n",
       "      <th>income_type</th>\n",
       "      <th>debt</th>\n",
       "      <th>total_income</th>\n",
       "      <th>purpose</th>\n",
       "      <th>purpose_id</th>\n",
       "    </tr>\n",
       "  </thead>\n",
       "  <tbody>\n",
       "    <tr>\n",
       "      <th>0</th>\n",
       "      <td>1</td>\n",
       "      <td>8437</td>\n",
       "      <td>42</td>\n",
       "      <td>высшее</td>\n",
       "      <td>0</td>\n",
       "      <td>женат / замужем</td>\n",
       "      <td>0</td>\n",
       "      <td>F</td>\n",
       "      <td>сотрудник</td>\n",
       "      <td>0</td>\n",
       "      <td>253875</td>\n",
       "      <td>покупка жилья</td>\n",
       "      <td>жилье</td>\n",
       "    </tr>\n",
       "    <tr>\n",
       "      <th>1</th>\n",
       "      <td>1</td>\n",
       "      <td>4024</td>\n",
       "      <td>36</td>\n",
       "      <td>среднее</td>\n",
       "      <td>1</td>\n",
       "      <td>женат / замужем</td>\n",
       "      <td>0</td>\n",
       "      <td>F</td>\n",
       "      <td>сотрудник</td>\n",
       "      <td>0</td>\n",
       "      <td>112080</td>\n",
       "      <td>приобретение автомобиля</td>\n",
       "      <td>автомобиль</td>\n",
       "    </tr>\n",
       "    <tr>\n",
       "      <th>2</th>\n",
       "      <td>0</td>\n",
       "      <td>5623</td>\n",
       "      <td>33</td>\n",
       "      <td>среднее</td>\n",
       "      <td>1</td>\n",
       "      <td>женат / замужем</td>\n",
       "      <td>0</td>\n",
       "      <td>M</td>\n",
       "      <td>сотрудник</td>\n",
       "      <td>0</td>\n",
       "      <td>145885</td>\n",
       "      <td>покупка жилья</td>\n",
       "      <td>жилье</td>\n",
       "    </tr>\n",
       "    <tr>\n",
       "      <th>3</th>\n",
       "      <td>3</td>\n",
       "      <td>4124</td>\n",
       "      <td>32</td>\n",
       "      <td>среднее</td>\n",
       "      <td>1</td>\n",
       "      <td>женат / замужем</td>\n",
       "      <td>0</td>\n",
       "      <td>M</td>\n",
       "      <td>сотрудник</td>\n",
       "      <td>0</td>\n",
       "      <td>267628</td>\n",
       "      <td>дополнительное образование</td>\n",
       "      <td>образование</td>\n",
       "    </tr>\n",
       "    <tr>\n",
       "      <th>4</th>\n",
       "      <td>0</td>\n",
       "      <td>14177</td>\n",
       "      <td>53</td>\n",
       "      <td>среднее</td>\n",
       "      <td>1</td>\n",
       "      <td>гражданский брак</td>\n",
       "      <td>1</td>\n",
       "      <td>F</td>\n",
       "      <td>пенсионер</td>\n",
       "      <td>0</td>\n",
       "      <td>158616</td>\n",
       "      <td>сыграть свадьбу</td>\n",
       "      <td>свадьба</td>\n",
       "    </tr>\n",
       "    <tr>\n",
       "      <th>5</th>\n",
       "      <td>0</td>\n",
       "      <td>926</td>\n",
       "      <td>27</td>\n",
       "      <td>высшее</td>\n",
       "      <td>0</td>\n",
       "      <td>гражданский брак</td>\n",
       "      <td>1</td>\n",
       "      <td>M</td>\n",
       "      <td>компаньон</td>\n",
       "      <td>0</td>\n",
       "      <td>255763</td>\n",
       "      <td>покупка жилья</td>\n",
       "      <td>жилье</td>\n",
       "    </tr>\n",
       "    <tr>\n",
       "      <th>6</th>\n",
       "      <td>0</td>\n",
       "      <td>2879</td>\n",
       "      <td>43</td>\n",
       "      <td>высшее</td>\n",
       "      <td>0</td>\n",
       "      <td>женат / замужем</td>\n",
       "      <td>0</td>\n",
       "      <td>F</td>\n",
       "      <td>компаньон</td>\n",
       "      <td>0</td>\n",
       "      <td>240525</td>\n",
       "      <td>операции с жильем</td>\n",
       "      <td>жилье</td>\n",
       "    </tr>\n",
       "    <tr>\n",
       "      <th>7</th>\n",
       "      <td>0</td>\n",
       "      <td>152</td>\n",
       "      <td>50</td>\n",
       "      <td>среднее</td>\n",
       "      <td>1</td>\n",
       "      <td>женат / замужем</td>\n",
       "      <td>0</td>\n",
       "      <td>M</td>\n",
       "      <td>сотрудник</td>\n",
       "      <td>0</td>\n",
       "      <td>135823</td>\n",
       "      <td>образование</td>\n",
       "      <td>образование</td>\n",
       "    </tr>\n",
       "    <tr>\n",
       "      <th>8</th>\n",
       "      <td>2</td>\n",
       "      <td>6929</td>\n",
       "      <td>35</td>\n",
       "      <td>высшее</td>\n",
       "      <td>0</td>\n",
       "      <td>гражданский брак</td>\n",
       "      <td>1</td>\n",
       "      <td>F</td>\n",
       "      <td>сотрудник</td>\n",
       "      <td>0</td>\n",
       "      <td>95856</td>\n",
       "      <td>на проведение свадьбы</td>\n",
       "      <td>свадьба</td>\n",
       "    </tr>\n",
       "    <tr>\n",
       "      <th>9</th>\n",
       "      <td>0</td>\n",
       "      <td>2188</td>\n",
       "      <td>41</td>\n",
       "      <td>среднее</td>\n",
       "      <td>1</td>\n",
       "      <td>женат / замужем</td>\n",
       "      <td>0</td>\n",
       "      <td>M</td>\n",
       "      <td>сотрудник</td>\n",
       "      <td>0</td>\n",
       "      <td>144425</td>\n",
       "      <td>покупка жилья для семьи</td>\n",
       "      <td>жилье</td>\n",
       "    </tr>\n",
       "    <tr>\n",
       "      <th>10</th>\n",
       "      <td>2</td>\n",
       "      <td>4171</td>\n",
       "      <td>36</td>\n",
       "      <td>высшее</td>\n",
       "      <td>0</td>\n",
       "      <td>женат / замужем</td>\n",
       "      <td>0</td>\n",
       "      <td>M</td>\n",
       "      <td>компаньон</td>\n",
       "      <td>0</td>\n",
       "      <td>113943</td>\n",
       "      <td>покупка недвижимости</td>\n",
       "      <td>жилье</td>\n",
       "    </tr>\n",
       "    <tr>\n",
       "      <th>11</th>\n",
       "      <td>0</td>\n",
       "      <td>792</td>\n",
       "      <td>40</td>\n",
       "      <td>среднее</td>\n",
       "      <td>1</td>\n",
       "      <td>женат / замужем</td>\n",
       "      <td>0</td>\n",
       "      <td>F</td>\n",
       "      <td>сотрудник</td>\n",
       "      <td>0</td>\n",
       "      <td>77069</td>\n",
       "      <td>покупка коммерческой недвижимости</td>\n",
       "      <td>жилье</td>\n",
       "    </tr>\n",
       "    <tr>\n",
       "      <th>12</th>\n",
       "      <td>0</td>\n",
       "      <td>15217</td>\n",
       "      <td>65</td>\n",
       "      <td>среднее</td>\n",
       "      <td>1</td>\n",
       "      <td>гражданский брак</td>\n",
       "      <td>1</td>\n",
       "      <td>M</td>\n",
       "      <td>пенсионер</td>\n",
       "      <td>0</td>\n",
       "      <td>118514</td>\n",
       "      <td>сыграть свадьбу</td>\n",
       "      <td>свадьба</td>\n",
       "    </tr>\n",
       "    <tr>\n",
       "      <th>13</th>\n",
       "      <td>0</td>\n",
       "      <td>1846</td>\n",
       "      <td>54</td>\n",
       "      <td>неоконченное высшее</td>\n",
       "      <td>2</td>\n",
       "      <td>женат / замужем</td>\n",
       "      <td>0</td>\n",
       "      <td>F</td>\n",
       "      <td>сотрудник</td>\n",
       "      <td>0</td>\n",
       "      <td>130458</td>\n",
       "      <td>приобретение автомобиля</td>\n",
       "      <td>автомобиль</td>\n",
       "    </tr>\n",
       "    <tr>\n",
       "      <th>14</th>\n",
       "      <td>0</td>\n",
       "      <td>1844</td>\n",
       "      <td>56</td>\n",
       "      <td>высшее</td>\n",
       "      <td>0</td>\n",
       "      <td>гражданский брак</td>\n",
       "      <td>1</td>\n",
       "      <td>F</td>\n",
       "      <td>компаньон</td>\n",
       "      <td>1</td>\n",
       "      <td>165127</td>\n",
       "      <td>покупка жилой недвижимости</td>\n",
       "      <td>жилье</td>\n",
       "    </tr>\n",
       "  </tbody>\n",
       "</table>\n",
       "</div>"
      ],
      "text/plain": [
       "    children  days_employed  dob_years            education  education_id  \\\n",
       "0          1           8437         42               высшее             0   \n",
       "1          1           4024         36              среднее             1   \n",
       "2          0           5623         33              среднее             1   \n",
       "3          3           4124         32              среднее             1   \n",
       "4          0          14177         53              среднее             1   \n",
       "5          0            926         27               высшее             0   \n",
       "6          0           2879         43               высшее             0   \n",
       "7          0            152         50              среднее             1   \n",
       "8          2           6929         35               высшее             0   \n",
       "9          0           2188         41              среднее             1   \n",
       "10         2           4171         36               высшее             0   \n",
       "11         0            792         40              среднее             1   \n",
       "12         0          15217         65              среднее             1   \n",
       "13         0           1846         54  неоконченное высшее             2   \n",
       "14         0           1844         56               высшее             0   \n",
       "\n",
       "       family_status  family_status_id gender income_type  debt  total_income  \\\n",
       "0    женат / замужем                 0      F   сотрудник     0        253875   \n",
       "1    женат / замужем                 0      F   сотрудник     0        112080   \n",
       "2    женат / замужем                 0      M   сотрудник     0        145885   \n",
       "3    женат / замужем                 0      M   сотрудник     0        267628   \n",
       "4   гражданский брак                 1      F   пенсионер     0        158616   \n",
       "5   гражданский брак                 1      M   компаньон     0        255763   \n",
       "6    женат / замужем                 0      F   компаньон     0        240525   \n",
       "7    женат / замужем                 0      M   сотрудник     0        135823   \n",
       "8   гражданский брак                 1      F   сотрудник     0         95856   \n",
       "9    женат / замужем                 0      M   сотрудник     0        144425   \n",
       "10   женат / замужем                 0      M   компаньон     0        113943   \n",
       "11   женат / замужем                 0      F   сотрудник     0         77069   \n",
       "12  гражданский брак                 1      M   пенсионер     0        118514   \n",
       "13   женат / замужем                 0      F   сотрудник     0        130458   \n",
       "14  гражданский брак                 1      F   компаньон     1        165127   \n",
       "\n",
       "                              purpose   purpose_id  \n",
       "0                       покупка жилья        жилье  \n",
       "1             приобретение автомобиля   автомобиль  \n",
       "2                       покупка жилья        жилье  \n",
       "3          дополнительное образование  образование  \n",
       "4                     сыграть свадьбу      свадьба  \n",
       "5                       покупка жилья        жилье  \n",
       "6                   операции с жильем        жилье  \n",
       "7                         образование  образование  \n",
       "8               на проведение свадьбы      свадьба  \n",
       "9             покупка жилья для семьи        жилье  \n",
       "10               покупка недвижимости        жилье  \n",
       "11  покупка коммерческой недвижимости        жилье  \n",
       "12                    сыграть свадьбу      свадьба  \n",
       "13            приобретение автомобиля   автомобиль  \n",
       "14         покупка жилой недвижимости        жилье  "
      ]
     },
     "execution_count": 26,
     "metadata": {},
     "output_type": "execute_result"
    }
   ],
   "source": [
    "data.head(15)"
   ]
  },
  {
   "cell_type": "markdown",
   "metadata": {},
   "source": [
    "**Вывод**"
   ]
  },
  {
   "cell_type": "markdown",
   "metadata": {},
   "source": [
    "Метод Лемматизации позволил разбить цель кредита на четыре категории. \n",
    "А также стало видно что около 50 % клиентов берут кредит на приобретение недвижимости."
   ]
  },
  {
   "cell_type": "markdown",
   "metadata": {},
   "source": [
    "### Категоризация данных"
   ]
  },
  {
   "cell_type": "markdown",
   "metadata": {},
   "source": [
    "- Для того чтобы было удобнее делать выводы по нашим гипотезам, проведем категоризацию по двум столбцам это количество детей и месячный доход.\n"
   ]
  },
  {
   "cell_type": "markdown",
   "metadata": {},
   "source": [
    "По количеству детей ('children'):\n",
    "- бездетные (нет детей)\n",
    "- 1-2 ребенка (1,2 ребенка)\n",
    "- многодетные (3 и более детей)"
   ]
  },
  {
   "cell_type": "markdown",
   "metadata": {},
   "source": [
    "По уровню дохода ('total_income'):\n",
    "- минимальный (менее 40000)\n",
    "- средний (от 40000 до 100000)\n",
    "- выше среднего (от 100000 до 300000)\n",
    "- высокий (от 300000 и выше)"
   ]
  },
  {
   "cell_type": "code",
   "execution_count": 27,
   "metadata": {},
   "outputs": [],
   "source": [
    "def children_group(row):\n",
    "    if row['children'] < 1:\n",
    "        return 'бездетные'\n",
    "    if row['children'] <= 2:\n",
    "        return '1-2 ребенка'\n",
    "    return 'многодетные'\n"
   ]
  },
  {
   "cell_type": "code",
   "execution_count": 28,
   "metadata": {},
   "outputs": [],
   "source": [
    "def total_groupe(row):\n",
    "    if row['total_income'] < 40000:\n",
    "        return 'минимальный'\n",
    "    if row['total_income'] <= 100000:\n",
    "        return 'средний'\n",
    "    if row['total_income'] <= 300000:\n",
    "        return 'выше среднего'\n",
    "    return 'высокий'  \n",
    "\n"
   ]
  },
  {
   "cell_type": "code",
   "execution_count": 29,
   "metadata": {},
   "outputs": [],
   "source": [
    "data['children_group'] = data.apply(children_group, axis=1)\n",
    "data['total_groupe'] = data.apply(total_groupe, axis=1)"
   ]
  },
  {
   "cell_type": "markdown",
   "metadata": {},
   "source": [
    "**Вывод**"
   ]
  },
  {
   "cell_type": "markdown",
   "metadata": {},
   "source": [
    "Категоризировали датафрейм по количеству детей и уровню ежемесячного дохода. Вывели категории в новые столбы для наглядности и дальнейшего анализа."
   ]
  },
  {
   "cell_type": "markdown",
   "metadata": {},
   "source": [
    "## Шаг. Ответьте на вопросы"
   ]
  },
  {
   "cell_type": "markdown",
   "metadata": {},
   "source": [
    "### Есть ли зависимость между наличием детей и возвратом кредита в срок?"
   ]
  },
  {
   "cell_type": "markdown",
   "metadata": {},
   "source": [
    "- Для того чтобы сделать вывод нужно вывести таблицу с данными о детях и наличии просрочек по кредитам"
   ]
  },
  {
   "cell_type": "code",
   "execution_count": 30,
   "metadata": {},
   "outputs": [
    {
     "name": "stdout",
     "output_type": "stream",
     "text": [
      "                debt  total         %\n",
      "children_group                       \n",
      "бездетные       1063  14091  0.075438\n",
      "1-2 ребенка      647   6983  0.092654\n",
      "многодетные       31    380  0.081579\n"
     ]
    }
   ],
   "source": [
    "data_pivot = data.pivot_table(index = ['children_group'],  values = 'debt', aggfunc = ['sum', 'count', 'mean'])\n",
    "data_pivot.columns = ['debt', 'total','%']\n",
    "data_pivot = data_pivot.sort_values(by= ['total'], ascending = False)\n",
    "print (data_pivot.head(10))"
   ]
  },
  {
   "cell_type": "markdown",
   "metadata": {},
   "source": [
    "**Вывод**"
   ]
  },
  {
   "cell_type": "markdown",
   "metadata": {},
   "source": [
    "Больш всего просрочек наблюдается в группе, где у заемщиков 1-2 ребенка. Самые ответственные плательщики это группа бездетных."
   ]
  },
  {
   "cell_type": "markdown",
   "metadata": {},
   "source": [
    "- Можно предположить что у бездетных заемщиков нет обязательств связанных с тратами на детей. Дохода хватает на выполнение всех обязательств, а также эта категория планирует будущие кредиты и следит за кредитной историей.\n",
    "- При появление детей возникают траты и часто неожиданные, что в некоторых ситуациях у группы с 1-2 детьми вызывают нехватку средств и соответственно просрочки. Либо у этой группы смещается важность в сторону обеспечения детей, а исполнение обязательств перед банком теряет первоочередность.\n",
    "- Категория многодетные это уже люди которые понимают траты на детей, и при планирование кредита более здраво оценивают свои финансовые возможности. Как следствие количество просрочек у них тоже уменьшается."
   ]
  },
  {
   "cell_type": "markdown",
   "metadata": {},
   "source": [
    "### Есть ли зависимость между семейным положением и возвратом кредита в срок?"
   ]
  },
  {
   "cell_type": "markdown",
   "metadata": {},
   "source": [
    "- Чтобы проверить эту гипотезу построим таблицу с данными о семейном положении и просрочек в этих группах."
   ]
  },
  {
   "cell_type": "code",
   "execution_count": 31,
   "metadata": {},
   "outputs": [
    {
     "data": {
      "text/html": [
       "<div>\n",
       "<style scoped>\n",
       "    .dataframe tbody tr th:only-of-type {\n",
       "        vertical-align: middle;\n",
       "    }\n",
       "\n",
       "    .dataframe tbody tr th {\n",
       "        vertical-align: top;\n",
       "    }\n",
       "\n",
       "    .dataframe thead th {\n",
       "        text-align: right;\n",
       "    }\n",
       "</style>\n",
       "<table border=\"1\" class=\"dataframe\">\n",
       "  <thead>\n",
       "    <tr style=\"text-align: right;\">\n",
       "      <th></th>\n",
       "      <th>debt</th>\n",
       "      <th>%</th>\n",
       "    </tr>\n",
       "    <tr>\n",
       "      <th>family_status</th>\n",
       "      <th></th>\n",
       "      <th></th>\n",
       "    </tr>\n",
       "  </thead>\n",
       "  <tbody>\n",
       "    <tr>\n",
       "      <th>Не женат / не замужем</th>\n",
       "      <td>2810</td>\n",
       "      <td>0.130978</td>\n",
       "    </tr>\n",
       "    <tr>\n",
       "      <th>в разводе</th>\n",
       "      <td>1195</td>\n",
       "      <td>0.055701</td>\n",
       "    </tr>\n",
       "    <tr>\n",
       "      <th>вдовец / вдова</th>\n",
       "      <td>959</td>\n",
       "      <td>0.044700</td>\n",
       "    </tr>\n",
       "    <tr>\n",
       "      <th>гражданский брак</th>\n",
       "      <td>4151</td>\n",
       "      <td>0.193484</td>\n",
       "    </tr>\n",
       "    <tr>\n",
       "      <th>женат / замужем</th>\n",
       "      <td>12339</td>\n",
       "      <td>0.575138</td>\n",
       "    </tr>\n",
       "  </tbody>\n",
       "</table>\n",
       "</div>"
      ],
      "text/plain": [
       "                        debt         %\n",
       "family_status                         \n",
       "Не женат / не замужем   2810  0.130978\n",
       "в разводе               1195  0.055701\n",
       "вдовец / вдова           959  0.044700\n",
       "гражданский брак        4151  0.193484\n",
       "женат / замужем        12339  0.575138"
      ]
     },
     "execution_count": 31,
     "metadata": {},
     "output_type": "execute_result"
    }
   ],
   "source": [
    "report = data.groupby('family_status').agg({'debt':'count'})\n",
    "report['%'] = report ['debt'] /  report ['debt'].sum()\n",
    "report"
   ]
  },
  {
   "cell_type": "markdown",
   "metadata": {},
   "source": [
    "**Вывод**"
   ]
  },
  {
   "cell_type": "markdown",
   "metadata": {},
   "source": [
    "Больше всего просрочек наблюдается у группы официально зарегистрировавших отношения, также достаточно большой показатель у людей живущих вместе. Самые дисциплинированные плательщики это одинокие люди (в разводе или вдовец/вдова).  "
   ]
  },
  {
   "cell_type": "markdown",
   "metadata": {},
   "source": [
    "- Максимальное количество просрочек у людей официально зарегистрировавших отношения. Почти 58% заемщиков из этой категории нарушают свои обязательства перед банком. Возможно это происходит из-за дополнительных трат на семейные нужды. Обустройство с совместной жизни, а также возможно что в семье работает только один заемщик. Также нельзя исключить появление детей, которые увеличивают расходы.\n",
    "- 19% просрочек наблюдается в категории гражданский брак, скорее всего это та же группа расходов, что и у группы женат/замужем. \n",
    "- всего 13% просрочек наблюдаем у категории не женат/ не замужем. Предпологаю что это заемщики необремененные дополнительными расходами, а также планирующие пользоваться кредитами. Эта категория следит за кредитной историей и скорее всего просрочки возникают из-за необезательности некоторых заемщиков либо серьезных форс-мажорных ситуаций.\n",
    "- категории в разводе 5,5% и вдовец/вдова 4,4% скорее всего люди имеющие какой-то опыт и соответсвенно более ответственно относятся к планированию своей жизни и потенциальных расходов. Возможно эти люди уже имеют какую-то финансовую подушку для решения своих форс-мажорных ситуаций. Поэтому они самые ответственные плательщики \n"
   ]
  },
  {
   "cell_type": "markdown",
   "metadata": {},
   "source": [
    "### Есть ли зависимость между уровнем дохода и возвратом кредита в срок?"
   ]
  },
  {
   "cell_type": "markdown",
   "metadata": {},
   "source": [
    "- Для вывода по этим условиям строим таблицу по группам дохода и просрочек у этих групп."
   ]
  },
  {
   "cell_type": "code",
   "execution_count": 32,
   "metadata": {},
   "outputs": [
    {
     "name": "stdout",
     "output_type": "stream",
     "text": [
      "               debt  totall         %\n",
      "total_groupe                         \n",
      "выше среднего  1281   15508  0.082603\n",
      "средний         344    4338  0.079299\n",
      "высокий         106    1483  0.071477\n",
      "минимальный      10     125  0.080000\n"
     ]
    }
   ],
   "source": [
    "data_pivot_two = data.pivot_table(index = ['total_groupe'],  values = 'debt', aggfunc = ['sum', 'count', 'mean'])\n",
    "data_pivot_two.columns = ['debt', 'totall','%']\n",
    "data_pivot_two = data_pivot_two.sort_values(by= ['totall'], ascending = False)\n",
    "print (data_pivot_two.head(10))"
   ]
  },
  {
   "cell_type": "markdown",
   "metadata": {},
   "source": [
    "**Вывод**"
   ]
  },
  {
   "cell_type": "markdown",
   "metadata": {},
   "source": [
    "Как не странно, но ни высокий ни низкий доход сильно не влияют на просрочке по кредитам. Все четыре категории отличаются между сабой всего лишь на 11 процентов. Причем максимальное количество просрочек у категории с доходом выше среднего."
   ]
  },
  {
   "cell_type": "markdown",
   "metadata": {},
   "source": [
    "- Максимальное количество 8,2% у людей с доходам выше среднего может предполагать, что люди имеющие хороший доход не хотят просчитывать и планировать свои расходы. Большие незапланированне траты приводят к тому что им не хватает финансов закрыть вовремя платеж по кредиту. \n",
    "- Средний доход предполагает что люди себя чувствуют менее свободно в расходах, и соответственно заранее планирует траты. Поэтому число просрочек в этой группе меньше 7,9%\n",
    "- Категория заемщиков с высоким доходам имеет минимальный процент 7,1% просрочек. Им это позволяют доходы. А просрочки возникают возможно в связи с большой занятостью или необезательностью заемщика.\n",
    "- Минимальных уровень дохода может не позволять в случаях незапланированных расходов вовремя оплатить кредит. Из-за чего и возникают просрочки в этой категории."
   ]
  },
  {
   "cell_type": "markdown",
   "metadata": {},
   "source": [
    "### Как разные цели кредита влияют на его возврат в срок?"
   ]
  },
  {
   "cell_type": "code",
   "execution_count": 33,
   "metadata": {},
   "outputs": [
    {
     "data": {
      "text/html": [
       "<div>\n",
       "<style scoped>\n",
       "    .dataframe tbody tr th:only-of-type {\n",
       "        vertical-align: middle;\n",
       "    }\n",
       "\n",
       "    .dataframe tbody tr th {\n",
       "        vertical-align: top;\n",
       "    }\n",
       "\n",
       "    .dataframe thead th {\n",
       "        text-align: right;\n",
       "    }\n",
       "</style>\n",
       "<table border=\"1\" class=\"dataframe\">\n",
       "  <thead>\n",
       "    <tr style=\"text-align: right;\">\n",
       "      <th></th>\n",
       "      <th>debt</th>\n",
       "      <th>%</th>\n",
       "    </tr>\n",
       "    <tr>\n",
       "      <th>purpose_id</th>\n",
       "      <th></th>\n",
       "      <th></th>\n",
       "    </tr>\n",
       "  </thead>\n",
       "  <tbody>\n",
       "    <tr>\n",
       "      <th>автомобиль</th>\n",
       "      <td>4306</td>\n",
       "      <td>0.200708</td>\n",
       "    </tr>\n",
       "    <tr>\n",
       "      <th>жилье</th>\n",
       "      <td>10811</td>\n",
       "      <td>0.503915</td>\n",
       "    </tr>\n",
       "    <tr>\n",
       "      <th>образование</th>\n",
       "      <td>4013</td>\n",
       "      <td>0.187051</td>\n",
       "    </tr>\n",
       "    <tr>\n",
       "      <th>свадьба</th>\n",
       "      <td>2324</td>\n",
       "      <td>0.108325</td>\n",
       "    </tr>\n",
       "  </tbody>\n",
       "</table>\n",
       "</div>"
      ],
      "text/plain": [
       "              debt         %\n",
       "purpose_id                  \n",
       "автомобиль    4306  0.200708\n",
       "жилье        10811  0.503915\n",
       "образование   4013  0.187051\n",
       "свадьба       2324  0.108325"
      ]
     },
     "execution_count": 33,
     "metadata": {},
     "output_type": "execute_result"
    }
   ],
   "source": [
    "report_two = data.groupby('purpose_id').agg({'debt':'count'})\n",
    "report_two['%'] = report_two ['debt'] /  report ['debt'].sum()\n",
    "report_two"
   ]
  },
  {
   "cell_type": "markdown",
   "metadata": {},
   "source": [
    "**Вывод**"
   ]
  },
  {
   "cell_type": "markdown",
   "metadata": {},
   "source": [
    "При помощи двух методов groupby и pivot_table можно наглядно посмотреть по всем категориям просрочки платежей.\n",
    "Самые ответственные заямщики, те которые берут кредит на свадьбу. У них минимальных процент просрочек. Заемщики берущие кредит на жилье напротив оказались не готовы планировать свои расходы на длительный срок, в связи с чем имеют 50% из них имеют просрочки по платежам."
   ]
  },
  {
   "cell_type": "markdown",
   "metadata": {},
   "source": [
    "- Самая большая категория просрочек 50,3% это кредит на жилье. Возможно это связано с длительным сроком кредита, а также большими суммами. В связи с изменяющимся уровнем жизни и понижением реальных доходов, заемщикам не хватает финансов вовремя оплачивать кредит.\n",
    "-Категория автомобиль имеет 20% просрочек, можно предположить что заемщики не учитывают дополнительные расходы которые появляются в связи с приобретением автомобиля(ТО, бензин, страховки). Из-за этого вырастают ежемесячные расходы, и возникают проблемы с оплатой в срок.\n",
    "- Кредит на образование имеет 18,7% просрочек. Возможно они связаны с неоправданными ожиданиями после окончания обучения. Более низкий уровень оплаты труда, чем ожидалось. Возможно более молодые заемщики расчитывали на помощь родителей при оплате кредита. \n",
    "- Самый минимальный 10,8% просрочек на кредит на свадьбу. Скорее всего это связано с более доступными суммами и небольшим сроком кредита. Заемщиком проще планить небольшой кредит, непродолжительное время."
   ]
  },
  {
   "cell_type": "markdown",
   "metadata": {},
   "source": [
    "## Шаг. Общий вывод"
   ]
  },
  {
   "cell_type": "markdown",
   "metadata": {},
   "source": [
    "Отвечая на поставленный вопрос \"Влияет ли семейное положение и количество детей клиента на факт возврата кредита в срок?\" можно дать ответ влияет. По проанализированым данным можно сделать вывод что ответственный заемщик это: бездетный, находящийся в разводе либо вдовец/вдова с уровнем дохода более 300000 берущий кредит на свадьбу и чуть менее надежный берущий кредит на автомобиль и образование. Самый рискованный тип заемщика это: заемщик имеющий 1-2 ребенка замужний/женатый, с доходом выше 100000 и менее 300000, берущий кредит на покупку жилья."
   ]
  }
 ],
 "metadata": {
  "ExecuteTimeLog": [
   {
    "duration": 893,
    "start_time": "2021-12-03T13:43:11.087Z"
   },
   {
    "duration": 403,
    "start_time": "2021-12-03T13:43:45.068Z"
   },
   {
    "duration": 75,
    "start_time": "2021-12-03T13:43:51.322Z"
   },
   {
    "duration": 581,
    "start_time": "2021-12-05T10:36:44.155Z"
   },
   {
    "duration": 284,
    "start_time": "2021-12-05T10:46:50.451Z"
   },
   {
    "duration": 59,
    "start_time": "2021-12-05T10:47:06.555Z"
   },
   {
    "duration": 58,
    "start_time": "2021-12-05T10:48:15.466Z"
   },
   {
    "duration": 59,
    "start_time": "2021-12-05T10:48:38.501Z"
   },
   {
    "duration": 13,
    "start_time": "2021-12-05T10:49:28.716Z"
   },
   {
    "duration": 10,
    "start_time": "2021-12-05T10:49:44.888Z"
   },
   {
    "duration": 9,
    "start_time": "2021-12-05T11:16:28.774Z"
   },
   {
    "duration": 264,
    "start_time": "2021-12-07T10:32:24.008Z"
   },
   {
    "duration": 633,
    "start_time": "2021-12-07T10:32:37.460Z"
   },
   {
    "duration": 9,
    "start_time": "2021-12-07T10:32:38.095Z"
   },
   {
    "duration": 7,
    "start_time": "2021-12-07T10:32:38.106Z"
   },
   {
    "duration": 10,
    "start_time": "2021-12-07T10:32:38.115Z"
   },
   {
    "duration": 9,
    "start_time": "2021-12-07T10:32:42.416Z"
   },
   {
    "duration": 27,
    "start_time": "2021-12-07T10:32:56.585Z"
   },
   {
    "duration": 257,
    "start_time": "2021-12-07T10:38:03.804Z"
   },
   {
    "duration": 19,
    "start_time": "2021-12-07T10:38:57.666Z"
   },
   {
    "duration": 241,
    "start_time": "2021-12-07T10:39:17.844Z"
   },
   {
    "duration": 20,
    "start_time": "2021-12-07T10:43:41.533Z"
   },
   {
    "duration": 2139,
    "start_time": "2021-12-07T10:44:35.732Z"
   },
   {
    "duration": 55,
    "start_time": "2021-12-07T10:44:42.820Z"
   },
   {
    "duration": 9,
    "start_time": "2021-12-07T10:44:42.877Z"
   },
   {
    "duration": 9,
    "start_time": "2021-12-07T10:44:42.887Z"
   },
   {
    "duration": 18,
    "start_time": "2021-12-07T10:44:42.897Z"
   },
   {
    "duration": 2016,
    "start_time": "2021-12-07T10:46:09.567Z"
   },
   {
    "duration": 88,
    "start_time": "2021-12-07T10:50:50.552Z"
   },
   {
    "duration": 80,
    "start_time": "2021-12-07T10:50:54.280Z"
   },
   {
    "duration": 4,
    "start_time": "2021-12-07T10:51:03.595Z"
   },
   {
    "duration": 12,
    "start_time": "2021-12-07T10:51:16.622Z"
   },
   {
    "duration": 8,
    "start_time": "2021-12-07T10:51:48.273Z"
   },
   {
    "duration": 56,
    "start_time": "2021-12-07T10:52:36.983Z"
   },
   {
    "duration": 9,
    "start_time": "2021-12-07T10:52:37.040Z"
   },
   {
    "duration": 8,
    "start_time": "2021-12-07T10:52:37.051Z"
   },
   {
    "duration": 9,
    "start_time": "2021-12-07T10:52:42.608Z"
   },
   {
    "duration": 5,
    "start_time": "2021-12-07T11:11:11.507Z"
   },
   {
    "duration": 709,
    "start_time": "2021-12-08T06:12:30.334Z"
   },
   {
    "duration": 685,
    "start_time": "2021-12-08T06:12:37.513Z"
   },
   {
    "duration": 10,
    "start_time": "2021-12-08T06:12:38.200Z"
   },
   {
    "duration": 11,
    "start_time": "2021-12-08T06:12:38.212Z"
   },
   {
    "duration": 31,
    "start_time": "2021-12-08T06:15:06.880Z"
   },
   {
    "duration": 142,
    "start_time": "2021-12-08T06:35:19.448Z"
   },
   {
    "duration": 63,
    "start_time": "2021-12-08T06:44:59.756Z"
   },
   {
    "duration": 11,
    "start_time": "2021-12-08T06:44:59.821Z"
   },
   {
    "duration": 39,
    "start_time": "2021-12-08T06:44:59.834Z"
   },
   {
    "duration": 59,
    "start_time": "2021-12-08T06:44:59.874Z"
   },
   {
    "duration": 88,
    "start_time": "2021-12-08T06:44:59.935Z"
   },
   {
    "duration": 61,
    "start_time": "2021-12-08T06:45:07.043Z"
   },
   {
    "duration": 11,
    "start_time": "2021-12-08T06:45:07.106Z"
   },
   {
    "duration": 32,
    "start_time": "2021-12-08T06:45:07.119Z"
   },
   {
    "duration": 46,
    "start_time": "2021-12-08T06:45:07.153Z"
   },
   {
    "duration": 6886,
    "start_time": "2021-12-08T06:45:09.627Z"
   },
   {
    "duration": 6,
    "start_time": "2021-12-08T06:45:53.377Z"
   },
   {
    "duration": 15,
    "start_time": "2021-12-08T06:46:05.290Z"
   },
   {
    "duration": 73,
    "start_time": "2021-12-08T07:05:13.246Z"
   },
   {
    "duration": 58,
    "start_time": "2021-12-08T07:05:13.487Z"
   },
   {
    "duration": 9,
    "start_time": "2021-12-08T07:05:13.547Z"
   },
   {
    "duration": 8,
    "start_time": "2021-12-08T07:05:13.558Z"
   },
   {
    "duration": 37,
    "start_time": "2021-12-08T07:05:13.568Z"
   },
   {
    "duration": 5,
    "start_time": "2021-12-08T07:05:13.606Z"
   },
   {
    "duration": 8062,
    "start_time": "2021-12-08T07:05:13.612Z"
   },
   {
    "duration": 7,
    "start_time": "2021-12-08T07:05:44.944Z"
   },
   {
    "duration": 47,
    "start_time": "2021-12-08T07:11:23.258Z"
   },
   {
    "duration": 59,
    "start_time": "2021-12-08T07:11:58.789Z"
   },
   {
    "duration": 10,
    "start_time": "2021-12-08T07:11:58.850Z"
   },
   {
    "duration": 8,
    "start_time": "2021-12-08T07:11:58.862Z"
   },
   {
    "duration": 29,
    "start_time": "2021-12-08T07:11:58.872Z"
   },
   {
    "duration": 4,
    "start_time": "2021-12-08T07:11:58.903Z"
   },
   {
    "duration": 36,
    "start_time": "2021-12-08T07:11:58.908Z"
   },
   {
    "duration": 15,
    "start_time": "2021-12-08T07:12:51.434Z"
   },
   {
    "duration": 5,
    "start_time": "2021-12-08T07:14:02.245Z"
   },
   {
    "duration": 62,
    "start_time": "2021-12-08T07:18:13.961Z"
   },
   {
    "duration": 67,
    "start_time": "2021-12-08T07:18:27.793Z"
   },
   {
    "duration": 66,
    "start_time": "2021-12-08T07:18:51.486Z"
   },
   {
    "duration": 62,
    "start_time": "2021-12-08T07:19:07.300Z"
   },
   {
    "duration": 65,
    "start_time": "2021-12-08T07:19:19.684Z"
   },
   {
    "duration": 7,
    "start_time": "2021-12-08T07:20:29.984Z"
   },
   {
    "duration": 48,
    "start_time": "2021-12-08T07:20:30.904Z"
   },
   {
    "duration": 65,
    "start_time": "2021-12-08T07:20:37.336Z"
   },
   {
    "duration": 10,
    "start_time": "2021-12-08T07:20:37.403Z"
   },
   {
    "duration": 33,
    "start_time": "2021-12-08T07:20:37.415Z"
   },
   {
    "duration": 51,
    "start_time": "2021-12-08T07:20:37.450Z"
   },
   {
    "duration": 5,
    "start_time": "2021-12-08T07:20:37.502Z"
   },
   {
    "duration": 38,
    "start_time": "2021-12-08T07:20:37.509Z"
   },
   {
    "duration": 74,
    "start_time": "2021-12-08T07:20:37.549Z"
   },
   {
    "duration": 5,
    "start_time": "2021-12-08T07:21:14.887Z"
   },
   {
    "duration": 46,
    "start_time": "2021-12-08T07:23:27.643Z"
   },
   {
    "duration": 6,
    "start_time": "2021-12-08T07:24:00.867Z"
   },
   {
    "duration": 58,
    "start_time": "2021-12-08T07:26:33.814Z"
   },
   {
    "duration": 59,
    "start_time": "2021-12-08T07:27:32.908Z"
   },
   {
    "duration": 12,
    "start_time": "2021-12-08T07:27:32.969Z"
   },
   {
    "duration": 10,
    "start_time": "2021-12-08T07:27:32.983Z"
   },
   {
    "duration": 52,
    "start_time": "2021-12-08T07:27:32.996Z"
   },
   {
    "duration": 5,
    "start_time": "2021-12-08T07:27:33.050Z"
   },
   {
    "duration": 7,
    "start_time": "2021-12-08T07:27:33.057Z"
   },
   {
    "duration": 47,
    "start_time": "2021-12-08T07:27:33.065Z"
   },
   {
    "duration": 34,
    "start_time": "2021-12-08T07:27:33.114Z"
   },
   {
    "duration": 49,
    "start_time": "2021-12-08T07:27:33.150Z"
   },
   {
    "duration": 5,
    "start_time": "2021-12-08T07:27:33.200Z"
   },
   {
    "duration": 12,
    "start_time": "2021-12-08T07:27:36.645Z"
   },
   {
    "duration": 13,
    "start_time": "2021-12-08T07:27:50.772Z"
   },
   {
    "duration": 8,
    "start_time": "2021-12-08T07:29:12.740Z"
   },
   {
    "duration": 42,
    "start_time": "2021-12-08T07:36:45.788Z"
   },
   {
    "duration": 279,
    "start_time": "2021-12-08T07:40:18.397Z"
   },
   {
    "duration": 394,
    "start_time": "2021-12-08T07:40:36.459Z"
   },
   {
    "duration": 37,
    "start_time": "2021-12-08T07:40:52.908Z"
   },
   {
    "duration": 39,
    "start_time": "2021-12-08T07:40:56.425Z"
   },
   {
    "duration": 14,
    "start_time": "2021-12-08T07:41:17.280Z"
   },
   {
    "duration": 7,
    "start_time": "2021-12-08T07:41:36.298Z"
   },
   {
    "duration": 62,
    "start_time": "2021-12-08T07:41:44.516Z"
   },
   {
    "duration": 10,
    "start_time": "2021-12-08T07:41:44.581Z"
   },
   {
    "duration": 9,
    "start_time": "2021-12-08T07:41:44.593Z"
   },
   {
    "duration": 52,
    "start_time": "2021-12-08T07:41:44.604Z"
   },
   {
    "duration": 4,
    "start_time": "2021-12-08T07:41:44.658Z"
   },
   {
    "duration": 8,
    "start_time": "2021-12-08T07:41:44.664Z"
   },
   {
    "duration": 44,
    "start_time": "2021-12-08T07:41:44.674Z"
   },
   {
    "duration": 26,
    "start_time": "2021-12-08T07:41:44.720Z"
   },
   {
    "duration": 45,
    "start_time": "2021-12-08T07:41:44.748Z"
   },
   {
    "duration": 5,
    "start_time": "2021-12-08T07:41:44.795Z"
   },
   {
    "duration": 14,
    "start_time": "2021-12-08T07:41:44.802Z"
   },
   {
    "duration": 29,
    "start_time": "2021-12-08T07:41:44.818Z"
   },
   {
    "duration": 40,
    "start_time": "2021-12-08T07:41:44.848Z"
   },
   {
    "duration": 7,
    "start_time": "2021-12-08T07:41:44.890Z"
   },
   {
    "duration": 39,
    "start_time": "2021-12-08T07:41:52.178Z"
   },
   {
    "duration": 7,
    "start_time": "2021-12-08T07:41:55.025Z"
   },
   {
    "duration": 674,
    "start_time": "2021-12-08T07:42:26.142Z"
   },
   {
    "duration": 12,
    "start_time": "2021-12-08T07:42:26.818Z"
   },
   {
    "duration": 23,
    "start_time": "2021-12-08T07:42:26.832Z"
   },
   {
    "duration": 49,
    "start_time": "2021-12-08T07:42:26.857Z"
   },
   {
    "duration": 5,
    "start_time": "2021-12-08T07:42:26.908Z"
   },
   {
    "duration": 30,
    "start_time": "2021-12-08T07:42:26.914Z"
   },
   {
    "duration": 57,
    "start_time": "2021-12-08T07:42:26.945Z"
   },
   {
    "duration": 4,
    "start_time": "2021-12-08T07:42:27.004Z"
   },
   {
    "duration": 69,
    "start_time": "2021-12-08T07:42:27.010Z"
   },
   {
    "duration": 4,
    "start_time": "2021-12-08T07:42:27.081Z"
   },
   {
    "duration": 24,
    "start_time": "2021-12-08T07:42:27.087Z"
   },
   {
    "duration": 29,
    "start_time": "2021-12-08T07:42:27.112Z"
   },
   {
    "duration": 54,
    "start_time": "2021-12-08T07:42:27.143Z"
   },
   {
    "duration": 5,
    "start_time": "2021-12-08T07:42:27.199Z"
   },
   {
    "duration": 737,
    "start_time": "2021-12-08T07:42:46.578Z"
   },
   {
    "duration": 38,
    "start_time": "2021-12-08T07:43:34.623Z"
   },
   {
    "duration": 38,
    "start_time": "2021-12-08T07:43:55.345Z"
   },
   {
    "duration": 7,
    "start_time": "2021-12-08T07:43:58.974Z"
   },
   {
    "duration": 39,
    "start_time": "2021-12-08T07:44:01.678Z"
   },
   {
    "duration": 64,
    "start_time": "2021-12-08T07:44:06.723Z"
   },
   {
    "duration": 11,
    "start_time": "2021-12-08T07:44:06.789Z"
   },
   {
    "duration": 23,
    "start_time": "2021-12-08T07:44:06.802Z"
   },
   {
    "duration": 56,
    "start_time": "2021-12-08T07:44:06.827Z"
   },
   {
    "duration": 4,
    "start_time": "2021-12-08T07:44:06.885Z"
   },
   {
    "duration": 32,
    "start_time": "2021-12-08T07:44:06.891Z"
   },
   {
    "duration": 67,
    "start_time": "2021-12-08T07:44:06.925Z"
   },
   {
    "duration": 4,
    "start_time": "2021-12-08T07:44:06.994Z"
   },
   {
    "duration": 79,
    "start_time": "2021-12-08T07:44:07.000Z"
   },
   {
    "duration": 5,
    "start_time": "2021-12-08T07:44:07.082Z"
   },
   {
    "duration": 16,
    "start_time": "2021-12-08T07:44:07.088Z"
   },
   {
    "duration": 7,
    "start_time": "2021-12-08T07:44:07.106Z"
   },
   {
    "duration": 7,
    "start_time": "2021-12-08T07:44:10.648Z"
   },
   {
    "duration": 7,
    "start_time": "2021-12-08T07:44:38.034Z"
   },
   {
    "duration": 41,
    "start_time": "2021-12-08T07:44:44.614Z"
   },
   {
    "duration": 59,
    "start_time": "2021-12-08T07:44:57.494Z"
   },
   {
    "duration": 11,
    "start_time": "2021-12-08T07:44:57.556Z"
   },
   {
    "duration": 9,
    "start_time": "2021-12-08T07:44:57.570Z"
   },
   {
    "duration": 32,
    "start_time": "2021-12-08T07:44:57.581Z"
   },
   {
    "duration": 31,
    "start_time": "2021-12-08T07:44:57.615Z"
   },
   {
    "duration": 14,
    "start_time": "2021-12-08T07:44:57.648Z"
   },
   {
    "duration": 48,
    "start_time": "2021-12-08T07:44:57.664Z"
   },
   {
    "duration": 5,
    "start_time": "2021-12-08T07:44:57.714Z"
   },
   {
    "duration": 65,
    "start_time": "2021-12-08T07:44:57.721Z"
   },
   {
    "duration": 6,
    "start_time": "2021-12-08T07:44:57.788Z"
   },
   {
    "duration": 21,
    "start_time": "2021-12-08T07:44:57.796Z"
   },
   {
    "duration": 18,
    "start_time": "2021-12-08T07:44:57.819Z"
   },
   {
    "duration": 43,
    "start_time": "2021-12-08T07:44:57.838Z"
   },
   {
    "duration": 6,
    "start_time": "2021-12-08T07:44:57.883Z"
   },
   {
    "duration": 64,
    "start_time": "2021-12-08T07:45:59.687Z"
   },
   {
    "duration": 6,
    "start_time": "2021-12-08T07:46:15.877Z"
   },
   {
    "duration": 72,
    "start_time": "2021-12-08T07:48:40.260Z"
   },
   {
    "duration": 10,
    "start_time": "2021-12-08T07:48:40.334Z"
   },
   {
    "duration": 18,
    "start_time": "2021-12-08T07:48:40.346Z"
   },
   {
    "duration": 31,
    "start_time": "2021-12-08T07:48:40.367Z"
   },
   {
    "duration": 4,
    "start_time": "2021-12-08T07:48:40.400Z"
   },
   {
    "duration": 13,
    "start_time": "2021-12-08T07:48:40.406Z"
   },
   {
    "duration": 54,
    "start_time": "2021-12-08T07:48:40.421Z"
   },
   {
    "duration": 5,
    "start_time": "2021-12-08T07:48:40.477Z"
   },
   {
    "duration": 67,
    "start_time": "2021-12-08T07:48:40.484Z"
   },
   {
    "duration": 6,
    "start_time": "2021-12-08T07:48:40.554Z"
   },
   {
    "duration": 23,
    "start_time": "2021-12-08T07:48:40.561Z"
   },
   {
    "duration": 9,
    "start_time": "2021-12-08T07:48:40.586Z"
   },
   {
    "duration": 55,
    "start_time": "2021-12-08T07:48:40.596Z"
   },
   {
    "duration": 5,
    "start_time": "2021-12-08T07:48:40.653Z"
   },
   {
    "duration": 2068,
    "start_time": "2021-12-08T07:52:16.083Z"
   },
   {
    "duration": 36,
    "start_time": "2021-12-08T07:52:42.231Z"
   },
   {
    "duration": 36,
    "start_time": "2021-12-08T07:53:21.628Z"
   },
   {
    "duration": 7,
    "start_time": "2021-12-08T07:53:25.124Z"
   },
   {
    "duration": 6,
    "start_time": "2021-12-08T07:53:28.259Z"
   },
   {
    "duration": 36,
    "start_time": "2021-12-08T07:53:31.713Z"
   },
   {
    "duration": 7,
    "start_time": "2021-12-08T07:53:33.908Z"
   },
   {
    "duration": 59,
    "start_time": "2021-12-08T07:53:36.829Z"
   },
   {
    "duration": 10,
    "start_time": "2021-12-08T07:53:36.890Z"
   },
   {
    "duration": 21,
    "start_time": "2021-12-08T07:53:36.902Z"
   },
   {
    "duration": 43,
    "start_time": "2021-12-08T07:53:36.925Z"
   },
   {
    "duration": 5,
    "start_time": "2021-12-08T07:53:36.970Z"
   },
   {
    "duration": 19,
    "start_time": "2021-12-08T07:53:36.977Z"
   },
   {
    "duration": 51,
    "start_time": "2021-12-08T07:53:36.998Z"
   },
   {
    "duration": 5,
    "start_time": "2021-12-08T07:53:37.051Z"
   },
   {
    "duration": 51,
    "start_time": "2021-12-08T07:53:37.059Z"
   },
   {
    "duration": 5,
    "start_time": "2021-12-08T07:53:37.112Z"
   },
   {
    "duration": 28,
    "start_time": "2021-12-08T07:53:37.119Z"
   },
   {
    "duration": 9,
    "start_time": "2021-12-08T07:53:37.149Z"
   },
   {
    "duration": 37,
    "start_time": "2021-12-08T07:53:37.160Z"
   },
   {
    "duration": 5,
    "start_time": "2021-12-08T07:53:37.198Z"
   },
   {
    "duration": 7,
    "start_time": "2021-12-08T07:53:42.694Z"
   },
   {
    "duration": 1472,
    "start_time": "2021-12-08T07:56:03.436Z"
   },
   {
    "duration": 36,
    "start_time": "2021-12-08T07:56:31.770Z"
   },
   {
    "duration": 7,
    "start_time": "2021-12-08T07:56:42.244Z"
   },
   {
    "duration": 57,
    "start_time": "2021-12-08T08:30:57.158Z"
   },
   {
    "duration": 10,
    "start_time": "2021-12-08T08:30:57.217Z"
   },
   {
    "duration": 13,
    "start_time": "2021-12-08T08:30:57.230Z"
   },
   {
    "duration": 30,
    "start_time": "2021-12-08T08:30:57.245Z"
   },
   {
    "duration": 4,
    "start_time": "2021-12-08T08:30:57.277Z"
   },
   {
    "duration": 8,
    "start_time": "2021-12-08T08:30:57.283Z"
   },
   {
    "duration": 67,
    "start_time": "2021-12-08T08:30:57.292Z"
   },
   {
    "duration": 4,
    "start_time": "2021-12-08T08:30:57.361Z"
   },
   {
    "duration": 45,
    "start_time": "2021-12-08T08:30:57.367Z"
   },
   {
    "duration": 5,
    "start_time": "2021-12-08T08:30:57.414Z"
   },
   {
    "duration": 35,
    "start_time": "2021-12-08T08:30:57.420Z"
   },
   {
    "duration": 7,
    "start_time": "2021-12-08T08:30:57.457Z"
   },
   {
    "duration": 41,
    "start_time": "2021-12-08T08:30:57.465Z"
   },
   {
    "duration": 7,
    "start_time": "2021-12-08T08:31:01.476Z"
   },
   {
    "duration": 5,
    "start_time": "2021-12-08T08:31:10.991Z"
   },
   {
    "duration": 12,
    "start_time": "2021-12-08T08:31:14.548Z"
   },
   {
    "duration": 7,
    "start_time": "2021-12-08T08:31:15.984Z"
   },
   {
    "duration": 36,
    "start_time": "2021-12-08T08:31:18.132Z"
   },
   {
    "duration": 7,
    "start_time": "2021-12-08T08:31:19.252Z"
   },
   {
    "duration": 62,
    "start_time": "2021-12-08T08:32:27.167Z"
   },
   {
    "duration": 11,
    "start_time": "2021-12-08T08:32:27.231Z"
   },
   {
    "duration": 9,
    "start_time": "2021-12-08T08:32:27.244Z"
   },
   {
    "duration": 41,
    "start_time": "2021-12-08T08:32:27.255Z"
   },
   {
    "duration": 6,
    "start_time": "2021-12-08T08:32:27.298Z"
   },
   {
    "duration": 10,
    "start_time": "2021-12-08T08:32:27.306Z"
   },
   {
    "duration": 71,
    "start_time": "2021-12-08T08:32:27.318Z"
   },
   {
    "duration": 4,
    "start_time": "2021-12-08T08:32:27.392Z"
   },
   {
    "duration": 70,
    "start_time": "2021-12-08T08:32:27.398Z"
   },
   {
    "duration": 5,
    "start_time": "2021-12-08T08:32:27.469Z"
   },
   {
    "duration": 14,
    "start_time": "2021-12-08T08:32:27.476Z"
   },
   {
    "duration": 9,
    "start_time": "2021-12-08T08:32:27.491Z"
   },
   {
    "duration": 67,
    "start_time": "2021-12-08T08:32:27.501Z"
   },
   {
    "duration": 6,
    "start_time": "2021-12-08T08:32:27.570Z"
   },
   {
    "duration": 7,
    "start_time": "2021-12-08T08:32:43.344Z"
   },
   {
    "duration": 7,
    "start_time": "2021-12-08T08:33:05.717Z"
   },
   {
    "duration": 96,
    "start_time": "2021-12-08T08:33:19.717Z"
   },
   {
    "duration": 91,
    "start_time": "2021-12-08T08:33:24.994Z"
   },
   {
    "duration": 7,
    "start_time": "2021-12-08T08:33:41.830Z"
   },
   {
    "duration": 7,
    "start_time": "2021-12-08T08:33:52.934Z"
   },
   {
    "duration": 7,
    "start_time": "2021-12-08T08:34:49.483Z"
   },
   {
    "duration": 60,
    "start_time": "2021-12-08T09:01:25.859Z"
   },
   {
    "duration": 11,
    "start_time": "2021-12-08T09:01:25.922Z"
   },
   {
    "duration": 15,
    "start_time": "2021-12-08T09:01:25.936Z"
   },
   {
    "duration": 35,
    "start_time": "2021-12-08T09:01:25.953Z"
   },
   {
    "duration": 4,
    "start_time": "2021-12-08T09:01:25.990Z"
   },
   {
    "duration": 10,
    "start_time": "2021-12-08T09:01:25.996Z"
   },
   {
    "duration": 69,
    "start_time": "2021-12-08T09:01:26.007Z"
   },
   {
    "duration": 5,
    "start_time": "2021-12-08T09:01:26.079Z"
   },
   {
    "duration": 58,
    "start_time": "2021-12-08T09:01:26.086Z"
   },
   {
    "duration": 5,
    "start_time": "2021-12-08T09:01:26.146Z"
   },
   {
    "duration": 14,
    "start_time": "2021-12-08T09:01:26.153Z"
   },
   {
    "duration": 7,
    "start_time": "2021-12-08T09:01:26.169Z"
   },
   {
    "duration": 40,
    "start_time": "2021-12-08T09:01:26.178Z"
   },
   {
    "duration": 28,
    "start_time": "2021-12-08T09:01:26.220Z"
   },
   {
    "duration": 128,
    "start_time": "2021-12-08T09:20:05.830Z"
   },
   {
    "duration": 88,
    "start_time": "2021-12-08T09:20:30.693Z"
   },
   {
    "duration": 4,
    "start_time": "2021-12-08T09:21:17.016Z"
   },
   {
    "duration": 10,
    "start_time": "2021-12-08T09:22:06.097Z"
   },
   {
    "duration": 11,
    "start_time": "2021-12-08T10:49:27.999Z"
   },
   {
    "duration": 80,
    "start_time": "2021-12-08T10:51:38.673Z"
   },
   {
    "duration": 15,
    "start_time": "2021-12-08T10:51:38.755Z"
   },
   {
    "duration": 14,
    "start_time": "2021-12-08T10:51:38.772Z"
   },
   {
    "duration": 64,
    "start_time": "2021-12-08T10:51:38.789Z"
   },
   {
    "duration": 5,
    "start_time": "2021-12-08T10:51:38.855Z"
   },
   {
    "duration": 9,
    "start_time": "2021-12-08T10:51:38.862Z"
   },
   {
    "duration": 83,
    "start_time": "2021-12-08T10:51:38.873Z"
   },
   {
    "duration": 5,
    "start_time": "2021-12-08T10:51:38.958Z"
   },
   {
    "duration": 47,
    "start_time": "2021-12-08T10:51:38.966Z"
   },
   {
    "duration": 5,
    "start_time": "2021-12-08T10:51:39.015Z"
   },
   {
    "duration": 10,
    "start_time": "2021-12-08T10:51:39.045Z"
   },
   {
    "duration": 8,
    "start_time": "2021-12-08T10:51:39.057Z"
   },
   {
    "duration": 14,
    "start_time": "2021-12-08T10:51:39.067Z"
   },
   {
    "duration": 44,
    "start_time": "2021-12-08T10:51:39.082Z"
   },
   {
    "duration": 7,
    "start_time": "2021-12-08T10:51:39.145Z"
   },
   {
    "duration": 92,
    "start_time": "2021-12-08T10:52:49.518Z"
   },
   {
    "duration": 331,
    "start_time": "2021-12-08T10:52:53.794Z"
   },
   {
    "duration": 3,
    "start_time": "2021-12-08T10:53:26.260Z"
   },
   {
    "duration": 4,
    "start_time": "2021-12-08T10:53:28.798Z"
   },
   {
    "duration": 63,
    "start_time": "2021-12-08T10:54:06.894Z"
   },
   {
    "duration": 10,
    "start_time": "2021-12-08T10:54:06.959Z"
   },
   {
    "duration": 23,
    "start_time": "2021-12-08T10:54:06.971Z"
   },
   {
    "duration": 47,
    "start_time": "2021-12-08T10:54:06.996Z"
   },
   {
    "duration": 6,
    "start_time": "2021-12-08T10:54:07.045Z"
   },
   {
    "duration": 16,
    "start_time": "2021-12-08T10:54:07.052Z"
   },
   {
    "duration": 62,
    "start_time": "2021-12-08T10:54:07.070Z"
   },
   {
    "duration": 4,
    "start_time": "2021-12-08T10:54:07.134Z"
   },
   {
    "duration": 44,
    "start_time": "2021-12-08T10:54:07.145Z"
   },
   {
    "duration": 6,
    "start_time": "2021-12-08T10:54:07.191Z"
   },
   {
    "duration": 13,
    "start_time": "2021-12-08T10:54:07.199Z"
   },
   {
    "duration": 31,
    "start_time": "2021-12-08T10:54:07.213Z"
   },
   {
    "duration": 6,
    "start_time": "2021-12-08T10:54:07.246Z"
   },
   {
    "duration": 8,
    "start_time": "2021-12-08T10:54:07.253Z"
   },
   {
    "duration": 41,
    "start_time": "2021-12-08T10:54:07.263Z"
   },
   {
    "duration": 7,
    "start_time": "2021-12-08T10:54:07.306Z"
   },
   {
    "duration": 36,
    "start_time": "2021-12-08T10:55:18.940Z"
   },
   {
    "duration": 7,
    "start_time": "2021-12-08T10:55:21.544Z"
   },
   {
    "duration": 46,
    "start_time": "2021-12-08T10:58:31.273Z"
   },
   {
    "duration": 5,
    "start_time": "2021-12-08T10:58:33.752Z"
   },
   {
    "duration": 8,
    "start_time": "2021-12-08T11:07:43.354Z"
   },
   {
    "duration": 86,
    "start_time": "2021-12-08T11:08:37.821Z"
   },
   {
    "duration": 61,
    "start_time": "2021-12-08T11:08:57.768Z"
   },
   {
    "duration": 12,
    "start_time": "2021-12-08T11:08:57.831Z"
   },
   {
    "duration": 10,
    "start_time": "2021-12-08T11:08:57.845Z"
   },
   {
    "duration": 34,
    "start_time": "2021-12-08T11:08:57.857Z"
   },
   {
    "duration": 5,
    "start_time": "2021-12-08T11:08:57.893Z"
   },
   {
    "duration": 8,
    "start_time": "2021-12-08T11:08:57.900Z"
   },
   {
    "duration": 77,
    "start_time": "2021-12-08T11:08:57.910Z"
   },
   {
    "duration": 4,
    "start_time": "2021-12-08T11:08:57.989Z"
   },
   {
    "duration": 70,
    "start_time": "2021-12-08T11:08:57.996Z"
   },
   {
    "duration": 5,
    "start_time": "2021-12-08T11:08:58.068Z"
   },
   {
    "duration": 27,
    "start_time": "2021-12-08T11:08:58.074Z"
   },
   {
    "duration": 32,
    "start_time": "2021-12-08T11:08:58.103Z"
   },
   {
    "duration": 22,
    "start_time": "2021-12-08T11:08:58.136Z"
   },
   {
    "duration": 25,
    "start_time": "2021-12-08T11:08:58.160Z"
   },
   {
    "duration": 60,
    "start_time": "2021-12-08T11:08:58.187Z"
   },
   {
    "duration": 107,
    "start_time": "2021-12-08T11:08:58.249Z"
   },
   {
    "duration": 524,
    "start_time": "2021-12-08T11:08:57.834Z"
   },
   {
    "duration": 521,
    "start_time": "2021-12-08T11:08:57.838Z"
   },
   {
    "duration": 44,
    "start_time": "2021-12-08T11:09:44.627Z"
   },
   {
    "duration": 5,
    "start_time": "2021-12-08T11:09:47.742Z"
   },
   {
    "duration": 5,
    "start_time": "2021-12-08T11:17:02.386Z"
   },
   {
    "duration": 12,
    "start_time": "2021-12-08T11:17:04.457Z"
   },
   {
    "duration": 83,
    "start_time": "2021-12-08T11:19:42.474Z"
   },
   {
    "duration": 18,
    "start_time": "2021-12-08T11:23:22.594Z"
   },
   {
    "duration": 24,
    "start_time": "2021-12-08T11:24:46.372Z"
   },
   {
    "duration": 67,
    "start_time": "2021-12-08T11:24:51.132Z"
   },
   {
    "duration": 27,
    "start_time": "2021-12-08T11:28:34.926Z"
   },
   {
    "duration": 6,
    "start_time": "2021-12-08T11:36:45.214Z"
   },
   {
    "duration": 6,
    "start_time": "2021-12-08T11:36:47.797Z"
   },
   {
    "duration": 5,
    "start_time": "2021-12-08T11:36:57.078Z"
   },
   {
    "duration": 68,
    "start_time": "2021-12-08T11:36:59.935Z"
   },
   {
    "duration": 11,
    "start_time": "2021-12-08T11:37:00.006Z"
   },
   {
    "duration": 44,
    "start_time": "2021-12-08T11:37:00.020Z"
   },
   {
    "duration": 47,
    "start_time": "2021-12-08T11:37:00.066Z"
   },
   {
    "duration": 4,
    "start_time": "2021-12-08T11:37:00.115Z"
   },
   {
    "duration": 22,
    "start_time": "2021-12-08T11:37:00.122Z"
   },
   {
    "duration": 56,
    "start_time": "2021-12-08T11:37:00.146Z"
   },
   {
    "duration": 4,
    "start_time": "2021-12-08T11:37:00.203Z"
   },
   {
    "duration": 54,
    "start_time": "2021-12-08T11:37:00.209Z"
   },
   {
    "duration": 4,
    "start_time": "2021-12-08T11:37:00.265Z"
   },
   {
    "duration": 27,
    "start_time": "2021-12-08T11:37:00.271Z"
   },
   {
    "duration": 27,
    "start_time": "2021-12-08T11:37:00.300Z"
   },
   {
    "duration": 28,
    "start_time": "2021-12-08T11:37:00.329Z"
   },
   {
    "duration": 17,
    "start_time": "2021-12-08T11:37:00.359Z"
   },
   {
    "duration": 12,
    "start_time": "2021-12-08T11:37:00.378Z"
   },
   {
    "duration": 78,
    "start_time": "2021-12-08T11:37:00.392Z"
   },
   {
    "duration": 4,
    "start_time": "2021-12-08T11:37:00.472Z"
   },
   {
    "duration": 11,
    "start_time": "2021-12-08T11:37:00.478Z"
   },
   {
    "duration": 39,
    "start_time": "2021-12-08T11:37:00.490Z"
   },
   {
    "duration": 25,
    "start_time": "2021-12-08T11:37:00.531Z"
   },
   {
    "duration": 97,
    "start_time": "2021-12-08T11:37:00.557Z"
   },
   {
    "duration": 539,
    "start_time": "2021-12-08T11:37:00.117Z"
   },
   {
    "duration": 535,
    "start_time": "2021-12-08T11:37:00.122Z"
   },
   {
    "duration": 5,
    "start_time": "2021-12-08T11:37:03.824Z"
   },
   {
    "duration": 11,
    "start_time": "2021-12-08T11:37:13.999Z"
   },
   {
    "duration": 62,
    "start_time": "2021-12-08T11:50:32.630Z"
   },
   {
    "duration": 11,
    "start_time": "2021-12-08T11:50:32.694Z"
   },
   {
    "duration": 41,
    "start_time": "2021-12-08T11:50:32.708Z"
   },
   {
    "duration": 78,
    "start_time": "2021-12-08T11:50:32.751Z"
   },
   {
    "duration": 6,
    "start_time": "2021-12-08T11:50:32.831Z"
   },
   {
    "duration": 18,
    "start_time": "2021-12-08T11:50:32.839Z"
   },
   {
    "duration": 59,
    "start_time": "2021-12-08T11:50:32.859Z"
   },
   {
    "duration": 6,
    "start_time": "2021-12-08T11:50:32.920Z"
   },
   {
    "duration": 57,
    "start_time": "2021-12-08T11:50:32.929Z"
   },
   {
    "duration": 5,
    "start_time": "2021-12-08T11:50:32.988Z"
   },
   {
    "duration": 17,
    "start_time": "2021-12-08T11:50:32.995Z"
   },
   {
    "duration": 16,
    "start_time": "2021-12-08T11:50:33.014Z"
   },
   {
    "duration": 13,
    "start_time": "2021-12-08T11:50:33.032Z"
   },
   {
    "duration": 19,
    "start_time": "2021-12-08T11:50:33.047Z"
   },
   {
    "duration": 14,
    "start_time": "2021-12-08T11:50:33.068Z"
   },
   {
    "duration": 54,
    "start_time": "2021-12-08T11:50:33.084Z"
   },
   {
    "duration": 5,
    "start_time": "2021-12-08T11:50:33.144Z"
   },
   {
    "duration": 12,
    "start_time": "2021-12-08T11:50:33.151Z"
   },
   {
    "duration": 36,
    "start_time": "2021-12-08T11:50:33.165Z"
   },
   {
    "duration": 28,
    "start_time": "2021-12-08T11:50:33.203Z"
   },
   {
    "duration": 120,
    "start_time": "2021-12-08T11:50:33.233Z"
   },
   {
    "duration": 543,
    "start_time": "2021-12-08T11:50:32.812Z"
   },
   {
    "duration": 529,
    "start_time": "2021-12-08T11:50:32.827Z"
   },
   {
    "duration": 516,
    "start_time": "2021-12-08T11:50:32.842Z"
   },
   {
    "duration": 30,
    "start_time": "2021-12-08T11:50:48.139Z"
   },
   {
    "duration": 89,
    "start_time": "2021-12-08T11:50:51.211Z"
   },
   {
    "duration": 8,
    "start_time": "2021-12-08T11:51:00.013Z"
   },
   {
    "duration": 8,
    "start_time": "2021-12-08T11:52:55.324Z"
   },
   {
    "duration": 298,
    "start_time": "2021-12-08T11:58:38.410Z"
   },
   {
    "duration": 58,
    "start_time": "2021-12-08T11:59:06.432Z"
   },
   {
    "duration": 10,
    "start_time": "2021-12-08T11:59:06.491Z"
   },
   {
    "duration": 8,
    "start_time": "2021-12-08T11:59:06.503Z"
   },
   {
    "duration": 56,
    "start_time": "2021-12-08T11:59:06.513Z"
   },
   {
    "duration": 5,
    "start_time": "2021-12-08T11:59:06.570Z"
   },
   {
    "duration": 9,
    "start_time": "2021-12-08T11:59:06.577Z"
   },
   {
    "duration": 65,
    "start_time": "2021-12-08T11:59:06.588Z"
   },
   {
    "duration": 4,
    "start_time": "2021-12-08T11:59:06.655Z"
   },
   {
    "duration": 50,
    "start_time": "2021-12-08T11:59:06.661Z"
   },
   {
    "duration": 5,
    "start_time": "2021-12-08T11:59:06.712Z"
   },
   {
    "duration": 33,
    "start_time": "2021-12-08T11:59:06.719Z"
   },
   {
    "duration": 4,
    "start_time": "2021-12-08T11:59:06.754Z"
   },
   {
    "duration": 7,
    "start_time": "2021-12-08T11:59:06.759Z"
   },
   {
    "duration": 6,
    "start_time": "2021-12-08T11:59:06.768Z"
   },
   {
    "duration": 9,
    "start_time": "2021-12-08T11:59:06.776Z"
   },
   {
    "duration": 71,
    "start_time": "2021-12-08T11:59:06.787Z"
   },
   {
    "duration": 4,
    "start_time": "2021-12-08T11:59:06.860Z"
   },
   {
    "duration": 5,
    "start_time": "2021-12-08T11:59:06.866Z"
   },
   {
    "duration": 18,
    "start_time": "2021-12-08T11:59:06.873Z"
   },
   {
    "duration": 24,
    "start_time": "2021-12-08T11:59:06.892Z"
   },
   {
    "duration": 49,
    "start_time": "2021-12-08T11:59:06.918Z"
   },
   {
    "duration": 7,
    "start_time": "2021-12-08T11:59:06.968Z"
   },
   {
    "duration": 286,
    "start_time": "2021-12-08T11:59:06.978Z"
   },
   {
    "duration": 311,
    "start_time": "2021-12-08T12:01:37.149Z"
   },
   {
    "duration": 293,
    "start_time": "2021-12-08T12:03:24.715Z"
   },
   {
    "duration": 645,
    "start_time": "2021-12-08T12:25:21.817Z"
   },
   {
    "duration": 3463,
    "start_time": "2021-12-08T12:25:58.524Z"
   },
   {
    "duration": 3706,
    "start_time": "2021-12-08T12:26:52.574Z"
   },
   {
    "duration": 14,
    "start_time": "2021-12-08T12:27:07.800Z"
   },
   {
    "duration": 61,
    "start_time": "2021-12-08T12:27:41.668Z"
   },
   {
    "duration": 12,
    "start_time": "2021-12-08T12:27:41.731Z"
   },
   {
    "duration": 11,
    "start_time": "2021-12-08T12:27:41.746Z"
   },
   {
    "duration": 32,
    "start_time": "2021-12-08T12:27:41.759Z"
   },
   {
    "duration": 4,
    "start_time": "2021-12-08T12:27:41.793Z"
   },
   {
    "duration": 8,
    "start_time": "2021-12-08T12:27:41.799Z"
   },
   {
    "duration": 71,
    "start_time": "2021-12-08T12:27:41.809Z"
   },
   {
    "duration": 5,
    "start_time": "2021-12-08T12:27:41.881Z"
   },
   {
    "duration": 63,
    "start_time": "2021-12-08T12:27:41.888Z"
   },
   {
    "duration": 5,
    "start_time": "2021-12-08T12:27:41.953Z"
   },
   {
    "duration": 13,
    "start_time": "2021-12-08T12:27:41.960Z"
   },
   {
    "duration": 7,
    "start_time": "2021-12-08T12:27:41.975Z"
   },
   {
    "duration": 9,
    "start_time": "2021-12-08T12:27:41.983Z"
   },
   {
    "duration": 12,
    "start_time": "2021-12-08T12:27:41.994Z"
   },
   {
    "duration": 22,
    "start_time": "2021-12-08T12:27:42.008Z"
   },
   {
    "duration": 57,
    "start_time": "2021-12-08T12:27:42.032Z"
   },
   {
    "duration": 5,
    "start_time": "2021-12-08T12:27:42.091Z"
   },
   {
    "duration": 7,
    "start_time": "2021-12-08T12:27:42.098Z"
   },
   {
    "duration": 39,
    "start_time": "2021-12-08T12:27:42.107Z"
   },
   {
    "duration": 26,
    "start_time": "2021-12-08T12:27:42.148Z"
   },
   {
    "duration": 28,
    "start_time": "2021-12-08T12:27:42.175Z"
   },
   {
    "duration": 7,
    "start_time": "2021-12-08T12:27:42.205Z"
   },
   {
    "duration": 742,
    "start_time": "2021-12-08T12:27:42.214Z"
   },
   {
    "duration": 3562,
    "start_time": "2021-12-08T12:27:42.958Z"
   },
   {
    "duration": 25,
    "start_time": "2021-12-08T12:27:46.521Z"
   },
   {
    "duration": 341,
    "start_time": "2021-12-09T05:43:53.676Z"
   },
   {
    "duration": 95,
    "start_time": "2021-12-09T05:44:59.099Z"
   },
   {
    "duration": 288,
    "start_time": "2021-12-09T05:45:21.436Z"
   },
   {
    "duration": 269,
    "start_time": "2021-12-09T05:45:51.275Z"
   },
   {
    "duration": 275,
    "start_time": "2021-12-09T05:46:12.219Z"
   },
   {
    "duration": 313,
    "start_time": "2021-12-09T05:47:18.550Z"
   },
   {
    "duration": 815,
    "start_time": "2021-12-09T05:47:25.842Z"
   },
   {
    "duration": 15,
    "start_time": "2021-12-09T05:47:26.659Z"
   },
   {
    "duration": 14,
    "start_time": "2021-12-09T05:47:26.677Z"
   },
   {
    "duration": 66,
    "start_time": "2021-12-09T05:47:26.693Z"
   },
   {
    "duration": 6,
    "start_time": "2021-12-09T05:47:26.762Z"
   },
   {
    "duration": 16,
    "start_time": "2021-12-09T05:47:26.770Z"
   },
   {
    "duration": 81,
    "start_time": "2021-12-09T05:47:26.788Z"
   },
   {
    "duration": 6,
    "start_time": "2021-12-09T05:47:26.872Z"
   },
   {
    "duration": 81,
    "start_time": "2021-12-09T05:47:26.881Z"
   },
   {
    "duration": 8,
    "start_time": "2021-12-09T05:47:26.966Z"
   },
   {
    "duration": 46,
    "start_time": "2021-12-09T05:47:26.977Z"
   },
   {
    "duration": 6,
    "start_time": "2021-12-09T05:47:27.025Z"
   },
   {
    "duration": 15,
    "start_time": "2021-12-09T05:47:27.034Z"
   },
   {
    "duration": 19,
    "start_time": "2021-12-09T05:47:27.052Z"
   },
   {
    "duration": 10,
    "start_time": "2021-12-09T05:47:27.073Z"
   },
   {
    "duration": 44,
    "start_time": "2021-12-09T05:47:27.085Z"
   },
   {
    "duration": 66,
    "start_time": "2021-12-09T05:47:27.132Z"
   },
   {
    "duration": 25,
    "start_time": "2021-12-09T05:47:27.201Z"
   },
   {
    "duration": 19,
    "start_time": "2021-12-09T05:47:27.228Z"
   },
   {
    "duration": 33,
    "start_time": "2021-12-09T05:47:27.250Z"
   },
   {
    "duration": 50,
    "start_time": "2021-12-09T05:47:27.285Z"
   },
   {
    "duration": 43,
    "start_time": "2021-12-09T05:47:27.337Z"
   },
   {
    "duration": 10,
    "start_time": "2021-12-09T05:47:27.384Z"
   },
   {
    "duration": 936,
    "start_time": "2021-12-09T05:47:27.396Z"
   },
   {
    "duration": 5717,
    "start_time": "2021-12-09T05:47:28.336Z"
   },
   {
    "duration": 23,
    "start_time": "2021-12-09T05:47:34.056Z"
   },
   {
    "duration": 50,
    "start_time": "2021-12-09T05:56:10.326Z"
   },
   {
    "duration": 681,
    "start_time": "2021-12-09T06:09:54.042Z"
   },
   {
    "duration": 4,
    "start_time": "2021-12-09T06:11:57.981Z"
   },
   {
    "duration": 444,
    "start_time": "2021-12-09T06:12:46.738Z"
   },
   {
    "duration": 23,
    "start_time": "2021-12-09T06:13:00.363Z"
   },
   {
    "duration": 833,
    "start_time": "2021-12-09T06:31:56.725Z"
   },
   {
    "duration": 6,
    "start_time": "2021-12-09T06:32:46.276Z"
   },
   {
    "duration": 4,
    "start_time": "2021-12-09T06:32:53.493Z"
   },
   {
    "duration": 1270,
    "start_time": "2021-12-09T06:32:58.009Z"
   },
   {
    "duration": 30,
    "start_time": "2021-12-09T06:33:01.841Z"
   },
   {
    "duration": 112,
    "start_time": "2021-12-09T07:52:04.299Z"
   },
   {
    "duration": 155,
    "start_time": "2021-12-09T07:52:27.771Z"
   },
   {
    "duration": 798,
    "start_time": "2021-12-09T07:52:33.456Z"
   },
   {
    "duration": 766,
    "start_time": "2021-12-09T07:52:43.332Z"
   },
   {
    "duration": 706,
    "start_time": "2021-12-09T07:52:49.988Z"
   },
   {
    "duration": 747,
    "start_time": "2021-12-09T07:53:12.794Z"
   },
   {
    "duration": 56,
    "start_time": "2021-12-09T07:54:08.060Z"
   },
   {
    "duration": 40,
    "start_time": "2021-12-09T07:55:56.710Z"
   },
   {
    "duration": 170,
    "start_time": "2021-12-09T08:03:41.090Z"
   },
   {
    "duration": 88,
    "start_time": "2021-12-09T08:06:12.533Z"
   },
   {
    "duration": 17,
    "start_time": "2021-12-09T08:06:22.268Z"
   },
   {
    "duration": 16,
    "start_time": "2021-12-09T08:12:35.500Z"
   },
   {
    "duration": 16,
    "start_time": "2021-12-09T08:12:56.581Z"
   },
   {
    "duration": 692,
    "start_time": "2021-12-09T08:14:13.998Z"
   },
   {
    "duration": 476,
    "start_time": "2021-12-09T08:15:00.642Z"
   },
   {
    "duration": 320,
    "start_time": "2021-12-09T08:15:29.468Z"
   },
   {
    "duration": 42,
    "start_time": "2021-12-09T08:16:07.567Z"
   },
   {
    "duration": 16,
    "start_time": "2021-12-09T08:20:20.141Z"
   },
   {
    "duration": 381,
    "start_time": "2021-12-09T08:23:30.409Z"
   },
   {
    "duration": 16,
    "start_time": "2021-12-09T08:23:34.947Z"
   },
   {
    "duration": 296,
    "start_time": "2021-12-09T08:23:49.847Z"
   },
   {
    "duration": 15,
    "start_time": "2021-12-09T08:24:07.966Z"
   },
   {
    "duration": 15,
    "start_time": "2021-12-09T08:24:38.702Z"
   },
   {
    "duration": 126,
    "start_time": "2021-12-09T08:38:25.413Z"
   },
   {
    "duration": 17,
    "start_time": "2021-12-09T08:38:25.543Z"
   },
   {
    "duration": 30,
    "start_time": "2021-12-09T08:38:25.563Z"
   },
   {
    "duration": 70,
    "start_time": "2021-12-09T08:38:25.596Z"
   },
   {
    "duration": 7,
    "start_time": "2021-12-09T08:38:25.669Z"
   },
   {
    "duration": 27,
    "start_time": "2021-12-09T08:38:25.678Z"
   },
   {
    "duration": 89,
    "start_time": "2021-12-09T08:38:25.707Z"
   },
   {
    "duration": 6,
    "start_time": "2021-12-09T08:38:25.800Z"
   },
   {
    "duration": 85,
    "start_time": "2021-12-09T08:38:25.810Z"
   },
   {
    "duration": 7,
    "start_time": "2021-12-09T08:38:25.898Z"
   },
   {
    "duration": 32,
    "start_time": "2021-12-09T08:38:25.907Z"
   },
   {
    "duration": 31,
    "start_time": "2021-12-09T08:38:25.941Z"
   },
   {
    "duration": 15,
    "start_time": "2021-12-09T08:38:25.974Z"
   },
   {
    "duration": 32,
    "start_time": "2021-12-09T08:38:25.992Z"
   },
   {
    "duration": 22,
    "start_time": "2021-12-09T08:38:26.027Z"
   },
   {
    "duration": 23,
    "start_time": "2021-12-09T08:38:26.052Z"
   },
   {
    "duration": 81,
    "start_time": "2021-12-09T08:38:26.077Z"
   },
   {
    "duration": 9,
    "start_time": "2021-12-09T08:38:26.162Z"
   },
   {
    "duration": 19,
    "start_time": "2021-12-09T08:38:26.174Z"
   },
   {
    "duration": 43,
    "start_time": "2021-12-09T08:38:26.196Z"
   },
   {
    "duration": 39,
    "start_time": "2021-12-09T08:38:26.241Z"
   },
   {
    "duration": 65,
    "start_time": "2021-12-09T08:38:26.282Z"
   },
   {
    "duration": 12,
    "start_time": "2021-12-09T08:38:26.354Z"
   },
   {
    "duration": 1121,
    "start_time": "2021-12-09T08:38:26.369Z"
   },
   {
    "duration": 6186,
    "start_time": "2021-12-09T08:38:27.493Z"
   },
   {
    "duration": 56,
    "start_time": "2021-12-09T08:38:33.682Z"
   },
   {
    "duration": 7,
    "start_time": "2021-12-09T08:38:33.741Z"
   },
   {
    "duration": 7,
    "start_time": "2021-12-09T08:38:33.751Z"
   },
   {
    "duration": 2194,
    "start_time": "2021-12-09T08:38:33.761Z"
   },
   {
    "duration": 88,
    "start_time": "2021-12-09T08:38:35.958Z"
   },
   {
    "duration": 20,
    "start_time": "2021-12-09T08:38:36.049Z"
   },
   {
    "duration": 331,
    "start_time": "2021-12-09T08:38:36.072Z"
   },
   {
    "duration": 101,
    "start_time": "2021-12-09T08:38:36.305Z"
   },
   {
    "duration": 99,
    "start_time": "2021-12-09T08:38:36.309Z"
   },
   {
    "duration": 163,
    "start_time": "2021-12-09T08:42:20.515Z"
   },
   {
    "duration": 22,
    "start_time": "2021-12-09T08:42:20.681Z"
   },
   {
    "duration": 19,
    "start_time": "2021-12-09T08:42:20.725Z"
   },
   {
    "duration": 51,
    "start_time": "2021-12-09T08:42:20.748Z"
   },
   {
    "duration": 9,
    "start_time": "2021-12-09T08:42:20.825Z"
   },
   {
    "duration": 22,
    "start_time": "2021-12-09T08:42:20.837Z"
   },
   {
    "duration": 114,
    "start_time": "2021-12-09T08:42:20.862Z"
   },
   {
    "duration": 7,
    "start_time": "2021-12-09T08:42:20.979Z"
   },
   {
    "duration": 87,
    "start_time": "2021-12-09T08:42:20.992Z"
   },
   {
    "duration": 7,
    "start_time": "2021-12-09T08:42:21.084Z"
   },
   {
    "duration": 52,
    "start_time": "2021-12-09T08:42:21.094Z"
   },
   {
    "duration": 10,
    "start_time": "2021-12-09T08:42:21.150Z"
   },
   {
    "duration": 9,
    "start_time": "2021-12-09T08:42:21.163Z"
   },
   {
    "duration": 49,
    "start_time": "2021-12-09T08:42:21.176Z"
   },
   {
    "duration": 11,
    "start_time": "2021-12-09T08:42:21.228Z"
   },
   {
    "duration": 12,
    "start_time": "2021-12-09T08:42:21.241Z"
   },
   {
    "duration": 110,
    "start_time": "2021-12-09T08:42:21.256Z"
   },
   {
    "duration": 8,
    "start_time": "2021-12-09T08:42:21.368Z"
   },
   {
    "duration": 12,
    "start_time": "2021-12-09T08:42:21.378Z"
   },
   {
    "duration": 76,
    "start_time": "2021-12-09T08:42:21.393Z"
   },
   {
    "duration": 36,
    "start_time": "2021-12-09T08:42:21.472Z"
   },
   {
    "duration": 70,
    "start_time": "2021-12-09T08:42:21.511Z"
   },
   {
    "duration": 42,
    "start_time": "2021-12-09T08:42:21.584Z"
   },
   {
    "duration": 1369,
    "start_time": "2021-12-09T08:42:21.629Z"
   },
   {
    "duration": 6766,
    "start_time": "2021-12-09T08:42:23.001Z"
   },
   {
    "duration": 23,
    "start_time": "2021-12-09T08:42:29.770Z"
   },
   {
    "duration": 24,
    "start_time": "2021-12-09T08:42:29.800Z"
   },
   {
    "duration": 8,
    "start_time": "2021-12-09T08:42:29.827Z"
   },
   {
    "duration": 1252,
    "start_time": "2021-12-09T08:42:29.837Z"
   },
   {
    "duration": 54,
    "start_time": "2021-12-09T08:42:31.092Z"
   },
   {
    "duration": 17,
    "start_time": "2021-12-09T08:42:31.149Z"
   },
   {
    "duration": 68,
    "start_time": "2021-12-09T08:42:31.169Z"
   },
   {
    "duration": 22,
    "start_time": "2021-12-09T08:42:31.241Z"
   },
   {
    "duration": 870,
    "start_time": "2021-12-09T18:52:01.331Z"
   },
   {
    "duration": 15,
    "start_time": "2021-12-09T18:52:02.203Z"
   },
   {
    "duration": 13,
    "start_time": "2021-12-09T18:52:02.221Z"
   },
   {
    "duration": 69,
    "start_time": "2021-12-09T18:52:02.236Z"
   },
   {
    "duration": 6,
    "start_time": "2021-12-09T18:52:02.307Z"
   },
   {
    "duration": 18,
    "start_time": "2021-12-09T18:52:02.315Z"
   },
   {
    "duration": 84,
    "start_time": "2021-12-09T18:52:02.335Z"
   },
   {
    "duration": 6,
    "start_time": "2021-12-09T18:52:02.423Z"
   },
   {
    "duration": 88,
    "start_time": "2021-12-09T18:52:02.432Z"
   },
   {
    "duration": 6,
    "start_time": "2021-12-09T18:52:02.523Z"
   },
   {
    "duration": 39,
    "start_time": "2021-12-09T18:52:02.532Z"
   },
   {
    "duration": 10,
    "start_time": "2021-12-09T18:52:02.573Z"
   },
   {
    "duration": 10,
    "start_time": "2021-12-09T18:52:02.586Z"
   },
   {
    "duration": 11,
    "start_time": "2021-12-09T18:52:02.599Z"
   },
   {
    "duration": 48,
    "start_time": "2021-12-09T18:52:02.612Z"
   },
   {
    "duration": 9,
    "start_time": "2021-12-09T18:52:02.663Z"
   },
   {
    "duration": 89,
    "start_time": "2021-12-09T18:52:02.674Z"
   },
   {
    "duration": 6,
    "start_time": "2021-12-09T18:52:02.766Z"
   },
   {
    "duration": 10,
    "start_time": "2021-12-09T18:52:02.774Z"
   },
   {
    "duration": 28,
    "start_time": "2021-12-09T18:52:02.786Z"
   },
   {
    "duration": 72,
    "start_time": "2021-12-09T18:52:02.816Z"
   },
   {
    "duration": 41,
    "start_time": "2021-12-09T18:52:02.890Z"
   },
   {
    "duration": 28,
    "start_time": "2021-12-09T18:52:02.936Z"
   },
   {
    "duration": 930,
    "start_time": "2021-12-09T18:52:02.966Z"
   },
   {
    "duration": 5029,
    "start_time": "2021-12-09T18:52:03.899Z"
   },
   {
    "duration": 31,
    "start_time": "2021-12-09T18:52:08.931Z"
   },
   {
    "duration": 5,
    "start_time": "2021-12-09T18:52:08.965Z"
   },
   {
    "duration": 7,
    "start_time": "2021-12-09T18:52:08.972Z"
   },
   {
    "duration": 1273,
    "start_time": "2021-12-09T18:52:08.982Z"
   },
   {
    "duration": 45,
    "start_time": "2021-12-09T18:52:10.259Z"
   },
   {
    "duration": 14,
    "start_time": "2021-12-09T18:52:10.306Z"
   },
   {
    "duration": 62,
    "start_time": "2021-12-09T18:52:10.323Z"
   },
   {
    "duration": 15,
    "start_time": "2021-12-09T18:52:10.387Z"
   },
   {
    "duration": 2289,
    "start_time": "2021-12-09T18:59:30.271Z"
   },
   {
    "duration": 397,
    "start_time": "2021-12-09T19:02:26.283Z"
   },
   {
    "duration": 10,
    "start_time": "2021-12-09T19:02:32.468Z"
   },
   {
    "duration": 13,
    "start_time": "2021-12-09T19:03:17.279Z"
   },
   {
    "duration": 22,
    "start_time": "2021-12-09T19:05:22.980Z"
   },
   {
    "duration": 21,
    "start_time": "2021-12-09T19:05:31.821Z"
   },
   {
    "duration": 826,
    "start_time": "2021-12-10T05:13:27.824Z"
   },
   {
    "duration": 308,
    "start_time": "2021-12-10T05:14:33.632Z"
   },
   {
    "duration": 855,
    "start_time": "2021-12-10T05:14:39.660Z"
   },
   {
    "duration": 17,
    "start_time": "2021-12-10T05:14:40.518Z"
   },
   {
    "duration": 14,
    "start_time": "2021-12-10T05:14:40.538Z"
   },
   {
    "duration": 83,
    "start_time": "2021-12-10T05:14:40.555Z"
   },
   {
    "duration": 7,
    "start_time": "2021-12-10T05:14:40.640Z"
   },
   {
    "duration": 13,
    "start_time": "2021-12-10T05:14:40.649Z"
   },
   {
    "duration": 99,
    "start_time": "2021-12-10T05:14:40.665Z"
   },
   {
    "duration": 6,
    "start_time": "2021-12-10T05:14:40.766Z"
   },
   {
    "duration": 96,
    "start_time": "2021-12-10T05:14:40.776Z"
   },
   {
    "duration": 6,
    "start_time": "2021-12-10T05:14:40.875Z"
   },
   {
    "duration": 42,
    "start_time": "2021-12-10T05:14:40.883Z"
   },
   {
    "duration": 17,
    "start_time": "2021-12-10T05:14:40.927Z"
   },
   {
    "duration": 14,
    "start_time": "2021-12-10T05:14:40.946Z"
   },
   {
    "duration": 30,
    "start_time": "2021-12-10T05:14:40.962Z"
   },
   {
    "duration": 27,
    "start_time": "2021-12-10T05:14:40.994Z"
   },
   {
    "duration": 8,
    "start_time": "2021-12-10T05:14:41.024Z"
   },
   {
    "duration": 9,
    "start_time": "2021-12-10T05:14:41.034Z"
   },
   {
    "duration": 110,
    "start_time": "2021-12-10T05:14:41.046Z"
   },
   {
    "duration": 6,
    "start_time": "2021-12-10T05:14:41.158Z"
   },
   {
    "duration": 14,
    "start_time": "2021-12-10T05:14:41.166Z"
   },
   {
    "duration": 57,
    "start_time": "2021-12-10T05:14:41.183Z"
   },
   {
    "duration": 40,
    "start_time": "2021-12-10T05:14:41.243Z"
   },
   {
    "duration": 70,
    "start_time": "2021-12-10T05:14:41.286Z"
   },
   {
    "duration": 10,
    "start_time": "2021-12-10T05:14:41.359Z"
   },
   {
    "duration": 1007,
    "start_time": "2021-12-10T05:14:41.372Z"
   },
   {
    "duration": 2564,
    "start_time": "2021-12-10T05:14:42.381Z"
   },
   {
    "duration": 4707,
    "start_time": "2021-12-10T05:14:44.950Z"
   },
   {
    "duration": 23,
    "start_time": "2021-12-10T05:14:49.660Z"
   },
   {
    "duration": 31,
    "start_time": "2021-12-10T05:14:49.685Z"
   },
   {
    "duration": 13,
    "start_time": "2021-12-10T05:14:49.719Z"
   },
   {
    "duration": 1325,
    "start_time": "2021-12-10T05:14:49.735Z"
   },
   {
    "duration": 9,
    "start_time": "2021-12-10T05:14:51.062Z"
   },
   {
    "duration": 71,
    "start_time": "2021-12-10T05:14:51.073Z"
   },
   {
    "duration": 20,
    "start_time": "2021-12-10T05:14:51.147Z"
   },
   {
    "duration": 50,
    "start_time": "2021-12-10T05:14:51.169Z"
   },
   {
    "duration": 42,
    "start_time": "2021-12-10T05:14:51.221Z"
   },
   {
    "duration": 15,
    "start_time": "2021-12-10T05:14:51.265Z"
   },
   {
    "duration": 13,
    "start_time": "2021-12-10T05:15:35.706Z"
   },
   {
    "duration": 702,
    "start_time": "2022-07-14T15:02:54.648Z"
   },
   {
    "duration": 22,
    "start_time": "2022-07-14T15:02:55.352Z"
   },
   {
    "duration": 13,
    "start_time": "2022-07-14T15:02:55.378Z"
   },
   {
    "duration": 44,
    "start_time": "2022-07-14T15:02:55.394Z"
   },
   {
    "duration": 5,
    "start_time": "2022-07-14T15:02:55.440Z"
   },
   {
    "duration": 8,
    "start_time": "2022-07-14T15:02:55.446Z"
   },
   {
    "duration": 58,
    "start_time": "2022-07-14T15:02:55.456Z"
   },
   {
    "duration": 5,
    "start_time": "2022-07-14T15:02:55.517Z"
   },
   {
    "duration": 77,
    "start_time": "2022-07-14T15:02:55.524Z"
   },
   {
    "duration": 5,
    "start_time": "2022-07-14T15:02:55.604Z"
   },
   {
    "duration": 17,
    "start_time": "2022-07-14T15:02:55.611Z"
   },
   {
    "duration": 7,
    "start_time": "2022-07-14T15:02:55.629Z"
   },
   {
    "duration": 12,
    "start_time": "2022-07-14T15:02:55.638Z"
   },
   {
    "duration": 9,
    "start_time": "2022-07-14T15:02:55.652Z"
   },
   {
    "duration": 38,
    "start_time": "2022-07-14T15:02:55.663Z"
   },
   {
    "duration": 7,
    "start_time": "2022-07-14T15:02:55.703Z"
   },
   {
    "duration": 40,
    "start_time": "2022-07-14T15:02:55.711Z"
   },
   {
    "duration": 4,
    "start_time": "2022-07-14T15:02:55.753Z"
   },
   {
    "duration": 9,
    "start_time": "2022-07-14T15:02:55.759Z"
   },
   {
    "duration": 45,
    "start_time": "2022-07-14T15:02:55.770Z"
   },
   {
    "duration": 27,
    "start_time": "2022-07-14T15:02:55.817Z"
   },
   {
    "duration": 58,
    "start_time": "2022-07-14T15:02:55.846Z"
   },
   {
    "duration": 7,
    "start_time": "2022-07-14T15:02:55.906Z"
   },
   {
    "duration": 1112,
    "start_time": "2022-07-14T15:02:55.914Z"
   },
   {
    "duration": 3711,
    "start_time": "2022-07-14T15:02:57.028Z"
   },
   {
    "duration": 14,
    "start_time": "2022-07-14T15:03:00.741Z"
   },
   {
    "duration": 42,
    "start_time": "2022-07-14T15:03:00.757Z"
   },
   {
    "duration": 24,
    "start_time": "2022-07-14T15:03:00.803Z"
   },
   {
    "duration": 451,
    "start_time": "2022-07-14T15:03:00.830Z"
   },
   {
    "duration": 36,
    "start_time": "2022-07-14T15:03:01.283Z"
   },
   {
    "duration": 13,
    "start_time": "2022-07-14T15:03:01.321Z"
   },
   {
    "duration": 73,
    "start_time": "2022-07-14T15:03:01.336Z"
   },
   {
    "duration": 19,
    "start_time": "2022-07-14T15:03:01.411Z"
   }
  ],
  "kernelspec": {
   "display_name": "Python 3 (ipykernel)",
   "language": "python",
   "name": "python3"
  },
  "language_info": {
   "codemirror_mode": {
    "name": "ipython",
    "version": 3
   },
   "file_extension": ".py",
   "mimetype": "text/x-python",
   "name": "python",
   "nbconvert_exporter": "python",
   "pygments_lexer": "ipython3",
   "version": "3.9.5"
  },
  "toc": {
   "base_numbering": 1,
   "nav_menu": {},
   "number_sections": true,
   "sideBar": true,
   "skip_h1_title": true,
   "title_cell": "Table of Contents",
   "title_sidebar": "Contents",
   "toc_cell": false,
   "toc_position": {},
   "toc_section_display": true,
   "toc_window_display": false
  }
 },
 "nbformat": 4,
 "nbformat_minor": 2
}
